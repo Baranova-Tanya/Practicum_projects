{
  "cells": [
    {
      "cell_type": "markdown",
      "metadata": {
        "id": "T8PXPQv61YB6"
      },
      "source": [
        "# Анализ продаж компьютерных игр"
      ]
    },
    {
      "cell_type": "markdown",
      "metadata": {
        "colab_type": "toc",
        "id": "wvo6U8-mONm2"
      },
      "source": [
        "**Содержание:**\n",
        "\n",
        ">[Проект: Сборный проект - 1. Продажи компьютерных игр](#scrollTo=T8PXPQv61YB6)\n",
        "\n",
        ">>[Описание проекта](#scrollTo=nWr4rpMJ17Hl)\n",
        "\n",
        ">>[Шаг 1. Общая информация о датасете](#scrollTo=BRgdYWH02KFr)\n",
        "\n",
        ">>>[Выводы по шагу 1:](#scrollTo=ocmicOMQ3vmV)\n",
        "\n",
        ">>[Шаг 2. Предобработка данных](#scrollTo=GSb9myAK32Yd)\n",
        "\n",
        ">>>[Приведение названий столбцов к нижнему регистру](#scrollTo=M8gYVzOkPbfk)\n",
        "\n",
        ">>>[Обработка дубликатов](#scrollTo=5WMwyQrE35s8)\n",
        "\n",
        ">>>[Обработка пропусков и преобразование типов данных](#scrollTo=pc7_G1YRO0hH)\n",
        "\n",
        ">>>[Выводы по шагу 2:](#scrollTo=CQs5FjIPRcgr)\n",
        "\n",
        ">>[Шаг 3. Исследовательский анализ данных](#scrollTo=glXGpj_x48Sk)\n",
        "\n",
        ">>>[Количество выпущенных игр в разные годы](#scrollTo=uY9zjsdf5ArM)\n",
        "\n",
        ">>>[Изменение продаж популярных платформ по годам](#scrollTo=ToSuUgaf5NEZ)\n",
        "\n",
        ">>>[Диаграмма размаха по глобальным продажам игр в разбивке по платформам](#scrollTo=JuKDbEvb7Bul)\n",
        "\n",
        ">>>[Влияние отзывов пользователей и критиков на продажи](#scrollTo=oTJ05RkR7M1a)\n",
        "\n",
        ">>>[Распределение игр по жанрам](#scrollTo=VnJzlri07aH5)\n",
        "\n",
        ">>>[Выводы по шагу 3:](#scrollTo=2eYYwSWJvWNo)\n",
        "\n",
        ">>[Шаг 4. Портрет пользователя каждого региона](#scrollTo=NhdDjyZn7tFu)\n",
        "\n",
        ">>>[Самые популярные платформы по регионам](#scrollTo=vg5A-ijF7vo1)\n",
        "\n",
        ">>>[Самые популярные жанры по регионам](#scrollTo=m0WQXabm7-mr)\n",
        "\n",
        ">>>[Влияние возрастного рейтинга на продажи в каждом регионе](#scrollTo=dA7D0ecd9t1u)\n",
        "\n",
        ">>>[Выводы по шагу 4:](#scrollTo=QfzBOYHW-Tbc)\n",
        "\n",
        ">>[Шаг 5. Проверка гипотез](#scrollTo=E0GH28jt-WMS)\n",
        "\n",
        ">>>[Средние пользовательские рейтинги платформ Xbox One и PC одинаковые](#scrollTo=458mJ-_u-8dd)\n",
        "\n",
        ">>>[Средние пользовательские рейтинги жанров Action и Sports разные](#scrollTo=3x4BD32y_Sv7)\n",
        "\n",
        ">>>[Выводы по шагу 5:](#scrollTo=Cpn8clohL0CM)\n",
        "\n",
        ">>[Итоговые выводы](#scrollTo=5H85AyMBBIdF)\n",
        "\n"
      ]
    },
    {
      "cell_type": "markdown",
      "metadata": {
        "id": "nWr4rpMJ17Hl"
      },
      "source": [
        "## Описание проекта\n",
        "\n",
        "Анализ рынка компьютерных игр для интернет-магазина, который продает по всему миру компьютерные игры. Из открытых источников взяты исторические данные о продажах игр, оценки пользователей и экспертов, жанры и платформы. Анализ проводится на данных до 2016 года, чтобы магазин мог составить план на 2017 год.\n",
        "\n",
        "Проведем исследовтельский анализ данных, составим портреты типичных покупателей и проверим статистические гипотезы о рейтингах платформ. Выявим закономерности, определяющие успешность игры. Это позволит магазину спланировать рекламные кампании."
      ]
    },
    {
      "cell_type": "markdown",
      "source": [
        "## Описание данных\n",
        "Все имеющиеся данные относятся к периоду до 2016 года включительно.\n",
        "\n",
        "Исходная таблица содержит следующие столбцы:\n",
        "\n",
        "\n",
        "|<!-- -->|<!-- -->|\n",
        "|:-------------|:-------------|\n",
        "|Name|название игры|\n",
        "|Platform|платформа|\n",
        "|Year_of_Release|год выпуска|\n",
        "|Genre|жанр игры|\n",
        "|NA_sales|продажи в Северной Америке (миллионы проданных копий)|\n",
        "|EU_sales|продажи в Европе (миллионы проданных копий)|\n",
        "|JP_sales|продажи в Японии (миллионы проданных копий)|\n",
        "|Other_sales|продажи в других странах (миллионы проданных копий)|\n",
        "|Critic_Score|оценка критиков (максимум 100)|\n",
        "|User_Score|оценка пользователей (максимум 10)|\n",
        "|Rating|возрастной рейтинг от ESRB (Entertainment Software Rating Board)|"
      ],
      "metadata": {
        "id": "-Slq6iuK7YkM"
      }
    },
    {
      "cell_type": "markdown",
      "metadata": {
        "id": "BRgdYWH02KFr"
      },
      "source": [
        "## Шаг 1. Общая информация о датасете"
      ]
    },
    {
      "cell_type": "markdown",
      "source": [
        "### 1.1. Импорт библиотек"
      ],
      "metadata": {
        "id": "Gd6ZRCuI7gnT"
      }
    },
    {
      "cell_type": "code",
      "execution_count": null,
      "metadata": {
        "id": "K1elx44s1dGK",
        "outputId": "92135818-cdcf-417d-8f38-f16bb86ddf92"
      },
      "outputs": [
        {
          "name": "stdout",
          "output_type": "stream",
          "text": [
            "Collecting missingno\n",
            "  Downloading missingno-0.5.2-py3-none-any.whl (8.7 kB)\n",
            "Requirement already satisfied: seaborn in /opt/conda/lib/python3.9/site-packages (from missingno) (0.11.1)\n",
            "Requirement already satisfied: matplotlib in /opt/conda/lib/python3.9/site-packages (from missingno) (3.3.4)\n",
            "Requirement already satisfied: scipy in /opt/conda/lib/python3.9/site-packages (from missingno) (1.9.1)\n",
            "Requirement already satisfied: numpy in /opt/conda/lib/python3.9/site-packages (from missingno) (1.21.1)\n",
            "Requirement already satisfied: kiwisolver>=1.0.1 in /opt/conda/lib/python3.9/site-packages (from matplotlib->missingno) (1.4.4)\n",
            "Requirement already satisfied: pillow>=6.2.0 in /opt/conda/lib/python3.9/site-packages (from matplotlib->missingno) (8.4.0)\n",
            "Requirement already satisfied: cycler>=0.10 in /opt/conda/lib/python3.9/site-packages (from matplotlib->missingno) (0.11.0)\n",
            "Requirement already satisfied: python-dateutil>=2.1 in /opt/conda/lib/python3.9/site-packages (from matplotlib->missingno) (2.8.1)\n",
            "Requirement already satisfied: pyparsing!=2.0.4,!=2.1.2,!=2.1.6,>=2.0.3 in /opt/conda/lib/python3.9/site-packages (from matplotlib->missingno) (2.4.7)\n",
            "Requirement already satisfied: six>=1.5 in /opt/conda/lib/python3.9/site-packages (from python-dateutil>=2.1->matplotlib->missingno) (1.16.0)\n",
            "Requirement already satisfied: pandas>=0.23 in /opt/conda/lib/python3.9/site-packages (from seaborn->missingno) (1.2.4)\n",
            "Requirement already satisfied: pytz>=2017.3 in /opt/conda/lib/python3.9/site-packages (from pandas>=0.23->seaborn->missingno) (2021.1)\n",
            "Installing collected packages: missingno\n",
            "Successfully installed missingno-0.5.2\n"
          ]
        }
      ],
      "source": [
        "!pip install missingno\n",
        "\n",
        "import missingno as msno\n",
        "import pandas as pd\n",
        "import matplotlib.pyplot as plt\n",
        "import numpy as np\n",
        "import seaborn as sns\n",
        "\n",
        "from scipy import stats as st\n"
      ]
    },
    {
      "cell_type": "code",
      "execution_count": null,
      "metadata": {
        "id": "kySZ4ZvY7DDA",
        "outputId": "110a6aaf-8a9c-4485-9ad7-1e79787170b8"
      },
      "outputs": [
        {
          "name": "stdout",
          "output_type": "stream",
          "text": [
            "Requirement already satisfied: beautifulsoup4==4.9.3 in /opt/conda/lib/python3.9/site-packages (4.9.3)\n",
            "Requirement already satisfied: matplotlib==3.3.4 in /opt/conda/lib/python3.9/site-packages (3.3.4)\n",
            "Requirement already satisfied: nltk==3.6.1 in /opt/conda/lib/python3.9/site-packages (3.6.1)\n",
            "Collecting numpy==1.20.1\n",
            "  Downloading numpy-1.20.1-cp39-cp39-manylinux2010_x86_64.whl (15.4 MB)\n",
            "\u001b[K     |████████████████████████████████| 15.4 MB 1.3 MB/s eta 0:00:01\n",
            "\u001b[?25hRequirement already satisfied: pandas==1.2.4 in /opt/conda/lib/python3.9/site-packages (1.2.4)\n",
            "Requirement already satisfied: plotly==5.4.0 in /opt/conda/lib/python3.9/site-packages (5.4.0)\n",
            "Requirement already satisfied: psycopg2-binary==2.9.2 in /opt/conda/lib/python3.9/site-packages (2.9.2)\n",
            "Collecting regex==2022.3.15\n",
            "  Downloading regex-2022.3.15-cp39-cp39-manylinux_2_17_x86_64.manylinux2014_x86_64.whl (763 kB)\n",
            "\u001b[K     |████████████████████████████████| 763 kB 69.8 MB/s eta 0:00:01\n",
            "\u001b[?25hRequirement already satisfied: scikit-learn==0.24.1 in /opt/conda/lib/python3.9/site-packages (0.24.1)\n",
            "Collecting scipy==1.8.0\n",
            "  Downloading scipy-1.8.0-cp39-cp39-manylinux_2_17_x86_64.manylinux2014_x86_64.whl (42.1 MB)\n",
            "\u001b[K     |████████████████████████████████| 42.1 MB 266 kB/s  eta 0:00:01\n",
            "\u001b[?25hRequirement already satisfied: seaborn==0.11.1 in /opt/conda/lib/python3.9/site-packages (0.11.1)\n",
            "Collecting sqlalchemy==1.4.15\n",
            "  Downloading SQLAlchemy-1.4.15-cp39-cp39-manylinux_2_5_x86_64.manylinux1_x86_64.manylinux_2_17_x86_64.manylinux2014_x86_64.whl (1.5 MB)\n",
            "\u001b[K     |████████████████████████████████| 1.5 MB 1.6 MB/s eta 0:00:01\n",
            "\u001b[?25hRequirement already satisfied: statsmodels==0.13.2 in /opt/conda/lib/python3.9/site-packages (0.13.2)\n",
            "Requirement already satisfied: soupsieve>1.2 in /opt/conda/lib/python3.9/site-packages (from beautifulsoup4==4.9.3) (2.3.2.post1)\n",
            "Requirement already satisfied: pyparsing!=2.0.4,!=2.1.2,!=2.1.6,>=2.0.3 in /opt/conda/lib/python3.9/site-packages (from matplotlib==3.3.4) (2.4.7)\n",
            "Requirement already satisfied: python-dateutil>=2.1 in /opt/conda/lib/python3.9/site-packages (from matplotlib==3.3.4) (2.8.1)\n",
            "Requirement already satisfied: kiwisolver>=1.0.1 in /opt/conda/lib/python3.9/site-packages (from matplotlib==3.3.4) (1.4.4)\n",
            "Requirement already satisfied: cycler>=0.10 in /opt/conda/lib/python3.9/site-packages (from matplotlib==3.3.4) (0.11.0)\n",
            "Requirement already satisfied: pillow>=6.2.0 in /opt/conda/lib/python3.9/site-packages (from matplotlib==3.3.4) (8.4.0)\n",
            "Requirement already satisfied: click in /opt/conda/lib/python3.9/site-packages (from nltk==3.6.1) (8.1.3)\n",
            "Requirement already satisfied: tqdm in /opt/conda/lib/python3.9/site-packages (from nltk==3.6.1) (4.61.2)\n",
            "Requirement already satisfied: joblib in /opt/conda/lib/python3.9/site-packages (from nltk==3.6.1) (1.1.0)\n",
            "Requirement already satisfied: pytz>=2017.3 in /opt/conda/lib/python3.9/site-packages (from pandas==1.2.4) (2021.1)\n",
            "Requirement already satisfied: six in /opt/conda/lib/python3.9/site-packages (from plotly==5.4.0) (1.16.0)\n",
            "Requirement already satisfied: tenacity>=6.2.0 in /opt/conda/lib/python3.9/site-packages (from plotly==5.4.0) (8.0.1)\n",
            "Requirement already satisfied: threadpoolctl>=2.0.0 in /opt/conda/lib/python3.9/site-packages (from scikit-learn==0.24.1) (3.1.0)\n",
            "Requirement already satisfied: greenlet!=0.4.17 in /opt/conda/lib/python3.9/site-packages (from sqlalchemy==1.4.15) (1.1.0)\n",
            "Requirement already satisfied: packaging>=21.3 in /opt/conda/lib/python3.9/site-packages (from statsmodels==0.13.2) (21.3)\n",
            "Requirement already satisfied: patsy>=0.5.2 in /opt/conda/lib/python3.9/site-packages (from statsmodels==0.13.2) (0.5.2)\n",
            "Installing collected packages: numpy, scipy, regex, sqlalchemy\n",
            "  Attempting uninstall: numpy\n",
            "    Found existing installation: numpy 1.21.1\n",
            "    Uninstalling numpy-1.21.1:\n",
            "      Successfully uninstalled numpy-1.21.1\n",
            "  Attempting uninstall: scipy\n",
            "    Found existing installation: scipy 1.9.1\n",
            "    Uninstalling scipy-1.9.1:\n",
            "      Successfully uninstalled scipy-1.9.1\n",
            "  Attempting uninstall: regex\n",
            "    Found existing installation: regex 2022.8.17\n",
            "    Uninstalling regex-2022.8.17:\n",
            "      Successfully uninstalled regex-2022.8.17\n",
            "  Attempting uninstall: sqlalchemy\n",
            "    Found existing installation: SQLAlchemy 1.4.20\n",
            "    Uninstalling SQLAlchemy-1.4.20:\n",
            "      Successfully uninstalled SQLAlchemy-1.4.20\n",
            "Successfully installed numpy-1.20.1 regex-2022.3.15 scipy-1.8.0 sqlalchemy-1.4.15\n"
          ]
        }
      ],
      "source": [
        "!pip install beautifulsoup4==4.9.3 matplotlib==3.3.4 nltk==3.6.1 numpy==1.20.1 pandas==1.2.4 plotly==5.4.0 psycopg2-binary==2.9.2 regex==2022.3.15 scikit-learn==0.24.1 scipy==1.8.0 seaborn==0.11.1 sqlalchemy==1.4.15 statsmodels==0.13.2"
      ]
    },
    {
      "cell_type": "markdown",
      "source": [
        "### 1.2. Загрузка и первичный осмотр данных"
      ],
      "metadata": {
        "id": "bqi_2qna7urC"
      }
    },
    {
      "cell_type": "code",
      "execution_count": null,
      "metadata": {
        "id": "M7mdZpLx1iUG"
      },
      "outputs": [],
      "source": [
        "try:\n",
        "    data = pd.read_csv('/content/drive/MyDrive/datasets/games.csv')\n",
        "except:\n",
        "    data = pd.read_csv('/datasets/games.csv')"
      ]
    },
    {
      "cell_type": "markdown",
      "metadata": {
        "id": "ONc9c4V43n0v"
      },
      "source": [
        "Изучим общую информацию о датафрейме и его первые строки.\n"
      ]
    },
    {
      "cell_type": "code",
      "execution_count": null,
      "metadata": {
        "colab": {
          "base_uri": "https://localhost:8080/"
        },
        "id": "xOxK8Sz53B9M",
        "outputId": "7886a38e-16de-4d02-9582-de477918f7cb"
      },
      "outputs": [
        {
          "name": "stdout",
          "output_type": "stream",
          "text": [
            "<class 'pandas.core.frame.DataFrame'>\n",
            "RangeIndex: 16715 entries, 0 to 16714\n",
            "Data columns (total 11 columns):\n",
            " #   Column           Non-Null Count  Dtype  \n",
            "---  ------           --------------  -----  \n",
            " 0   Name             16713 non-null  object \n",
            " 1   Platform         16715 non-null  object \n",
            " 2   Year_of_Release  16446 non-null  float64\n",
            " 3   Genre            16713 non-null  object \n",
            " 4   NA_sales         16715 non-null  float64\n",
            " 5   EU_sales         16715 non-null  float64\n",
            " 6   JP_sales         16715 non-null  float64\n",
            " 7   Other_sales      16715 non-null  float64\n",
            " 8   Critic_Score     8137 non-null   float64\n",
            " 9   User_Score       10014 non-null  object \n",
            " 10  Rating           9949 non-null   object \n",
            "dtypes: float64(6), object(5)\n",
            "memory usage: 1.4+ MB\n",
            "None\n"
          ]
        },
        {
          "data": {
            "text/html": [
              "<div>\n",
              "<style scoped>\n",
              "    .dataframe tbody tr th:only-of-type {\n",
              "        vertical-align: middle;\n",
              "    }\n",
              "\n",
              "    .dataframe tbody tr th {\n",
              "        vertical-align: top;\n",
              "    }\n",
              "\n",
              "    .dataframe thead th {\n",
              "        text-align: right;\n",
              "    }\n",
              "</style>\n",
              "<table border=\"1\" class=\"dataframe\">\n",
              "  <thead>\n",
              "    <tr style=\"text-align: right;\">\n",
              "      <th></th>\n",
              "      <th>Name</th>\n",
              "      <th>Platform</th>\n",
              "      <th>Year_of_Release</th>\n",
              "      <th>Genre</th>\n",
              "      <th>NA_sales</th>\n",
              "      <th>EU_sales</th>\n",
              "      <th>JP_sales</th>\n",
              "      <th>Other_sales</th>\n",
              "      <th>Critic_Score</th>\n",
              "      <th>User_Score</th>\n",
              "      <th>Rating</th>\n",
              "    </tr>\n",
              "  </thead>\n",
              "  <tbody>\n",
              "    <tr>\n",
              "      <th>0</th>\n",
              "      <td>Wii Sports</td>\n",
              "      <td>Wii</td>\n",
              "      <td>2006.0</td>\n",
              "      <td>Sports</td>\n",
              "      <td>41.36</td>\n",
              "      <td>28.96</td>\n",
              "      <td>3.77</td>\n",
              "      <td>8.45</td>\n",
              "      <td>76.0</td>\n",
              "      <td>8</td>\n",
              "      <td>E</td>\n",
              "    </tr>\n",
              "    <tr>\n",
              "      <th>1</th>\n",
              "      <td>Super Mario Bros.</td>\n",
              "      <td>NES</td>\n",
              "      <td>1985.0</td>\n",
              "      <td>Platform</td>\n",
              "      <td>29.08</td>\n",
              "      <td>3.58</td>\n",
              "      <td>6.81</td>\n",
              "      <td>0.77</td>\n",
              "      <td>NaN</td>\n",
              "      <td>NaN</td>\n",
              "      <td>NaN</td>\n",
              "    </tr>\n",
              "    <tr>\n",
              "      <th>2</th>\n",
              "      <td>Mario Kart Wii</td>\n",
              "      <td>Wii</td>\n",
              "      <td>2008.0</td>\n",
              "      <td>Racing</td>\n",
              "      <td>15.68</td>\n",
              "      <td>12.76</td>\n",
              "      <td>3.79</td>\n",
              "      <td>3.29</td>\n",
              "      <td>82.0</td>\n",
              "      <td>8.3</td>\n",
              "      <td>E</td>\n",
              "    </tr>\n",
              "    <tr>\n",
              "      <th>3</th>\n",
              "      <td>Wii Sports Resort</td>\n",
              "      <td>Wii</td>\n",
              "      <td>2009.0</td>\n",
              "      <td>Sports</td>\n",
              "      <td>15.61</td>\n",
              "      <td>10.93</td>\n",
              "      <td>3.28</td>\n",
              "      <td>2.95</td>\n",
              "      <td>80.0</td>\n",
              "      <td>8</td>\n",
              "      <td>E</td>\n",
              "    </tr>\n",
              "    <tr>\n",
              "      <th>4</th>\n",
              "      <td>Pokemon Red/Pokemon Blue</td>\n",
              "      <td>GB</td>\n",
              "      <td>1996.0</td>\n",
              "      <td>Role-Playing</td>\n",
              "      <td>11.27</td>\n",
              "      <td>8.89</td>\n",
              "      <td>10.22</td>\n",
              "      <td>1.00</td>\n",
              "      <td>NaN</td>\n",
              "      <td>NaN</td>\n",
              "      <td>NaN</td>\n",
              "    </tr>\n",
              "  </tbody>\n",
              "</table>\n",
              "</div>"
            ],
            "text/plain": [
              "                       Name Platform  Year_of_Release         Genre  NA_sales  \\\n",
              "0                Wii Sports      Wii           2006.0        Sports     41.36   \n",
              "1         Super Mario Bros.      NES           1985.0      Platform     29.08   \n",
              "2            Mario Kart Wii      Wii           2008.0        Racing     15.68   \n",
              "3         Wii Sports Resort      Wii           2009.0        Sports     15.61   \n",
              "4  Pokemon Red/Pokemon Blue       GB           1996.0  Role-Playing     11.27   \n",
              "\n",
              "   EU_sales  JP_sales  Other_sales  Critic_Score User_Score Rating  \n",
              "0     28.96      3.77         8.45          76.0          8      E  \n",
              "1      3.58      6.81         0.77           NaN        NaN    NaN  \n",
              "2     12.76      3.79         3.29          82.0        8.3      E  \n",
              "3     10.93      3.28         2.95          80.0          8      E  \n",
              "4      8.89     10.22         1.00           NaN        NaN    NaN  "
            ]
          },
          "metadata": {},
          "output_type": "display_data"
        },
        {
          "name": "stdout",
          "output_type": "stream",
          "text": [
            "Пропуски в Name: 2\n",
            "Пропуски в Platform: 0\n",
            "Пропуски в Year_of_Release: 269\n",
            "Пропуски в Genre: 2\n",
            "Пропуски в NA_sales: 0\n",
            "Пропуски в EU_sales: 0\n",
            "Пропуски в JP_sales: 0\n",
            "Пропуски в Other_sales: 0\n",
            "Пропуски в Critic_Score: 8578\n",
            "Пропуски в User_Score: 6701\n",
            "Пропуски в Rating: 6766\n"
          ]
        }
      ],
      "source": [
        "print(data.info())\n",
        "display(data.head())\n",
        "for col in data.columns.tolist():\n",
        "  print(f'Пропуски в {col}:', data[col].isna().sum())"
      ]
    },
    {
      "cell_type": "markdown",
      "metadata": {
        "id": "ocmicOMQ3vmV"
      },
      "source": [
        "### **Выводы по шагу 1:**\n",
        "\n",
        "* данные адекватно отображаются;\n",
        "* названия столбцов лучше привести к нижнему регистру;\n",
        "* все типы данных соответствуют содержанию ячеек, кроме столбцов:\n",
        "  - `Year_of_Release` (должен быть `integer` вместо `float`);\n",
        "  - `User_Score` (должен быть `float` вместо `object`);\n",
        "* имеются пропуски в нескольких столбцах с важными для анализа данными."
      ]
    },
    {
      "cell_type": "markdown",
      "metadata": {
        "id": "GSb9myAK32Yd"
      },
      "source": [
        "## Шаг 2. Предобработка данных"
      ]
    },
    {
      "cell_type": "markdown",
      "metadata": {
        "id": "M8gYVzOkPbfk"
      },
      "source": [
        "### 2.1. Приведение названий столбцов к нижнему регистру"
      ]
    },
    {
      "cell_type": "code",
      "execution_count": null,
      "metadata": {
        "colab": {
          "base_uri": "https://localhost:8080/"
        },
        "id": "Yqy0VNLAPmGL",
        "outputId": "95a966e1-9ac3-416e-f911-3d4580c2ff5d"
      },
      "outputs": [
        {
          "name": "stdout",
          "output_type": "stream",
          "text": [
            "Index(['name', 'platform', 'year_of_release', 'genre', 'na_sales', 'eu_sales',\n",
            "       'jp_sales', 'other_sales', 'critic_score', 'user_score', 'rating'],\n",
            "      dtype='object')\n"
          ]
        }
      ],
      "source": [
        "data.columns = data.columns.str.lower()\n",
        "print(data.columns)"
      ]
    },
    {
      "cell_type": "markdown",
      "metadata": {
        "id": "5WMwyQrE35s8"
      },
      "source": [
        "### 2.2. Обработка дубликатов"
      ]
    },
    {
      "cell_type": "code",
      "execution_count": null,
      "metadata": {
        "colab": {
          "base_uri": "https://localhost:8080/"
        },
        "id": "LX7ykOgSOUfn",
        "outputId": "9b9182c4-7113-4acc-f462-9130c47e656c"
      },
      "outputs": [
        {
          "name": "stdout",
          "output_type": "stream",
          "text": [
            "Количество явных полных дубликатов: 0\n",
            "Количество дубликатов названий игр: 5155\n"
          ]
        }
      ],
      "source": [
        "print('Количество явных полных дубликатов:', data.duplicated().sum())\n",
        "print('Количество дубликатов названий игр:',\n",
        "      data['name'].duplicated().sum())"
      ]
    },
    {
      "cell_type": "markdown",
      "metadata": {
        "id": "is3Kti-cS-C7"
      },
      "source": [
        "Рассмотрим игры с повторяющимися названиями, чтобы разобраться, почему их так много."
      ]
    },
    {
      "cell_type": "code",
      "execution_count": null,
      "metadata": {
        "colab": {
          "base_uri": "https://localhost:8080/",
          "height": 487
        },
        "id": "UOvLcIkdSK9U",
        "outputId": "e0b482b5-8f10-40a2-8abd-70de88edc32e"
      },
      "outputs": [
        {
          "data": {
            "text/html": [
              "<div>\n",
              "<style scoped>\n",
              "    .dataframe tbody tr th:only-of-type {\n",
              "        vertical-align: middle;\n",
              "    }\n",
              "\n",
              "    .dataframe tbody tr th {\n",
              "        vertical-align: top;\n",
              "    }\n",
              "\n",
              "    .dataframe thead th {\n",
              "        text-align: right;\n",
              "    }\n",
              "</style>\n",
              "<table border=\"1\" class=\"dataframe\">\n",
              "  <thead>\n",
              "    <tr style=\"text-align: right;\">\n",
              "      <th></th>\n",
              "      <th>name</th>\n",
              "      <th>platform</th>\n",
              "      <th>year_of_release</th>\n",
              "      <th>genre</th>\n",
              "      <th>na_sales</th>\n",
              "      <th>eu_sales</th>\n",
              "      <th>jp_sales</th>\n",
              "      <th>other_sales</th>\n",
              "      <th>critic_score</th>\n",
              "      <th>user_score</th>\n",
              "      <th>rating</th>\n",
              "    </tr>\n",
              "  </thead>\n",
              "  <tbody>\n",
              "    <tr>\n",
              "      <th>16</th>\n",
              "      <td>Grand Theft Auto V</td>\n",
              "      <td>PS3</td>\n",
              "      <td>2013.0</td>\n",
              "      <td>Action</td>\n",
              "      <td>7.02</td>\n",
              "      <td>9.09</td>\n",
              "      <td>0.98</td>\n",
              "      <td>3.96</td>\n",
              "      <td>97.0</td>\n",
              "      <td>8.2</td>\n",
              "      <td>M</td>\n",
              "    </tr>\n",
              "    <tr>\n",
              "      <th>23</th>\n",
              "      <td>Grand Theft Auto V</td>\n",
              "      <td>X360</td>\n",
              "      <td>2013.0</td>\n",
              "      <td>Action</td>\n",
              "      <td>9.66</td>\n",
              "      <td>5.14</td>\n",
              "      <td>0.06</td>\n",
              "      <td>1.41</td>\n",
              "      <td>97.0</td>\n",
              "      <td>8.1</td>\n",
              "      <td>M</td>\n",
              "    </tr>\n",
              "    <tr>\n",
              "      <th>42</th>\n",
              "      <td>Grand Theft Auto V</td>\n",
              "      <td>PS4</td>\n",
              "      <td>2014.0</td>\n",
              "      <td>Action</td>\n",
              "      <td>3.96</td>\n",
              "      <td>6.31</td>\n",
              "      <td>0.38</td>\n",
              "      <td>1.97</td>\n",
              "      <td>97.0</td>\n",
              "      <td>8.3</td>\n",
              "      <td>M</td>\n",
              "    </tr>\n",
              "    <tr>\n",
              "      <th>165</th>\n",
              "      <td>Grand Theft Auto V</td>\n",
              "      <td>XOne</td>\n",
              "      <td>2014.0</td>\n",
              "      <td>Action</td>\n",
              "      <td>2.81</td>\n",
              "      <td>2.19</td>\n",
              "      <td>0.00</td>\n",
              "      <td>0.47</td>\n",
              "      <td>97.0</td>\n",
              "      <td>7.9</td>\n",
              "      <td>M</td>\n",
              "    </tr>\n",
              "    <tr>\n",
              "      <th>1730</th>\n",
              "      <td>Grand Theft Auto V</td>\n",
              "      <td>PC</td>\n",
              "      <td>2015.0</td>\n",
              "      <td>Action</td>\n",
              "      <td>0.39</td>\n",
              "      <td>0.69</td>\n",
              "      <td>0.00</td>\n",
              "      <td>0.09</td>\n",
              "      <td>96.0</td>\n",
              "      <td>7.9</td>\n",
              "      <td>M</td>\n",
              "    </tr>\n",
              "  </tbody>\n",
              "</table>\n",
              "</div>"
            ],
            "text/plain": [
              "                    name platform  year_of_release   genre  na_sales  \\\n",
              "16    Grand Theft Auto V      PS3           2013.0  Action      7.02   \n",
              "23    Grand Theft Auto V     X360           2013.0  Action      9.66   \n",
              "42    Grand Theft Auto V      PS4           2014.0  Action      3.96   \n",
              "165   Grand Theft Auto V     XOne           2014.0  Action      2.81   \n",
              "1730  Grand Theft Auto V       PC           2015.0  Action      0.39   \n",
              "\n",
              "      eu_sales  jp_sales  other_sales  critic_score user_score rating  \n",
              "16        9.09      0.98         3.96          97.0        8.2      M  \n",
              "23        5.14      0.06         1.41          97.0        8.1      M  \n",
              "42        6.31      0.38         1.97          97.0        8.3      M  \n",
              "165       2.19      0.00         0.47          97.0        7.9      M  \n",
              "1730      0.69      0.00         0.09          96.0        7.9      M  "
            ]
          },
          "execution_count": 6,
          "metadata": {},
          "output_type": "execute_result"
        }
      ],
      "source": [
        "data.loc[data['name']=='Grand Theft Auto V']"
      ]
    },
    {
      "cell_type": "markdown",
      "metadata": {
        "id": "cOqNx4pzVyG7"
      },
      "source": [
        "Похоже, это кроссплатформенные игры. Каждый релиз на новой платформе учитывается в датасете как самостоятельная игра.\n",
        "\n",
        "Проверим, есть ли строки, в которых совпадают одновременно название, платформа и год выхода."
      ]
    },
    {
      "cell_type": "code",
      "execution_count": null,
      "metadata": {
        "colab": {
          "base_uri": "https://localhost:8080/",
          "height": 469
        },
        "id": "q22RuNdRRnG0",
        "outputId": "ecc48758-2b4e-4231-8b3e-500601581b8a"
      },
      "outputs": [
        {
          "data": {
            "text/html": [
              "<div>\n",
              "<style scoped>\n",
              "    .dataframe tbody tr th:only-of-type {\n",
              "        vertical-align: middle;\n",
              "    }\n",
              "\n",
              "    .dataframe tbody tr th {\n",
              "        vertical-align: top;\n",
              "    }\n",
              "\n",
              "    .dataframe thead th {\n",
              "        text-align: right;\n",
              "    }\n",
              "</style>\n",
              "<table border=\"1\" class=\"dataframe\">\n",
              "  <thead>\n",
              "    <tr style=\"text-align: right;\">\n",
              "      <th></th>\n",
              "      <th>name</th>\n",
              "      <th>platform</th>\n",
              "      <th>year_of_release</th>\n",
              "      <th>genre</th>\n",
              "      <th>na_sales</th>\n",
              "      <th>eu_sales</th>\n",
              "      <th>jp_sales</th>\n",
              "      <th>other_sales</th>\n",
              "      <th>critic_score</th>\n",
              "      <th>user_score</th>\n",
              "      <th>rating</th>\n",
              "    </tr>\n",
              "  </thead>\n",
              "  <tbody>\n",
              "    <tr>\n",
              "      <th>604</th>\n",
              "      <td>Madden NFL 13</td>\n",
              "      <td>PS3</td>\n",
              "      <td>2012.0</td>\n",
              "      <td>Sports</td>\n",
              "      <td>2.11</td>\n",
              "      <td>0.22</td>\n",
              "      <td>0.00</td>\n",
              "      <td>0.23</td>\n",
              "      <td>83.0</td>\n",
              "      <td>5.5</td>\n",
              "      <td>E</td>\n",
              "    </tr>\n",
              "    <tr>\n",
              "      <th>659</th>\n",
              "      <td>NaN</td>\n",
              "      <td>GEN</td>\n",
              "      <td>1993.0</td>\n",
              "      <td>NaN</td>\n",
              "      <td>1.78</td>\n",
              "      <td>0.53</td>\n",
              "      <td>0.00</td>\n",
              "      <td>0.08</td>\n",
              "      <td>NaN</td>\n",
              "      <td>NaN</td>\n",
              "      <td>NaN</td>\n",
              "    </tr>\n",
              "    <tr>\n",
              "      <th>14244</th>\n",
              "      <td>NaN</td>\n",
              "      <td>GEN</td>\n",
              "      <td>1993.0</td>\n",
              "      <td>NaN</td>\n",
              "      <td>0.00</td>\n",
              "      <td>0.00</td>\n",
              "      <td>0.03</td>\n",
              "      <td>0.00</td>\n",
              "      <td>NaN</td>\n",
              "      <td>NaN</td>\n",
              "      <td>NaN</td>\n",
              "    </tr>\n",
              "    <tr>\n",
              "      <th>16230</th>\n",
              "      <td>Madden NFL 13</td>\n",
              "      <td>PS3</td>\n",
              "      <td>2012.0</td>\n",
              "      <td>Sports</td>\n",
              "      <td>0.00</td>\n",
              "      <td>0.01</td>\n",
              "      <td>0.00</td>\n",
              "      <td>0.00</td>\n",
              "      <td>83.0</td>\n",
              "      <td>5.5</td>\n",
              "      <td>E</td>\n",
              "    </tr>\n",
              "  </tbody>\n",
              "</table>\n",
              "</div>"
            ],
            "text/plain": [
              "                name platform  year_of_release   genre  na_sales  eu_sales  \\\n",
              "604    Madden NFL 13      PS3           2012.0  Sports      2.11      0.22   \n",
              "659              NaN      GEN           1993.0     NaN      1.78      0.53   \n",
              "14244            NaN      GEN           1993.0     NaN      0.00      0.00   \n",
              "16230  Madden NFL 13      PS3           2012.0  Sports      0.00      0.01   \n",
              "\n",
              "       jp_sales  other_sales  critic_score user_score rating  \n",
              "604        0.00         0.23          83.0        5.5      E  \n",
              "659        0.00         0.08           NaN        NaN    NaN  \n",
              "14244      0.03         0.00           NaN        NaN    NaN  \n",
              "16230      0.00         0.00          83.0        5.5      E  "
            ]
          },
          "execution_count": 7,
          "metadata": {},
          "output_type": "execute_result"
        }
      ],
      "source": [
        "data[data[['name', 'platform', 'year_of_release']].duplicated(keep=False)]"
      ]
    },
    {
      "cell_type": "markdown",
      "metadata": {
        "id": "Hx5tYjcT7DC1"
      },
      "source": [
        "Дублируется информация об игре `Madden NFL 13` 2012 года на `PS3`: совпадают также жанр, оценки и возрастной рейтинг, но отличаются продажи.\n",
        "\n",
        "Второе вхождение этой игры в таблицу наименее информативно, поэтому удалим его.\n",
        "\n",
        "Дубликат с пропущенным названием обработаем позже при проверке пропусков.\n"
      ]
    },
    {
      "cell_type": "code",
      "execution_count": null,
      "metadata": {
        "id": "j8NTy3Uw7DC1"
      },
      "outputs": [],
      "source": [
        "data = data.drop(index=16230)\n"
      ]
    },
    {
      "cell_type": "code",
      "execution_count": null,
      "metadata": {
        "id": "xgNErZed7DC1",
        "outputId": "ec4ebc89-d3c8-406a-ee1b-ef5bb72b8495"
      },
      "outputs": [
        {
          "data": {
            "text/html": [
              "<div>\n",
              "<style scoped>\n",
              "    .dataframe tbody tr th:only-of-type {\n",
              "        vertical-align: middle;\n",
              "    }\n",
              "\n",
              "    .dataframe tbody tr th {\n",
              "        vertical-align: top;\n",
              "    }\n",
              "\n",
              "    .dataframe thead th {\n",
              "        text-align: right;\n",
              "    }\n",
              "</style>\n",
              "<table border=\"1\" class=\"dataframe\">\n",
              "  <thead>\n",
              "    <tr style=\"text-align: right;\">\n",
              "      <th></th>\n",
              "      <th>name</th>\n",
              "      <th>platform</th>\n",
              "      <th>year_of_release</th>\n",
              "      <th>genre</th>\n",
              "      <th>na_sales</th>\n",
              "      <th>eu_sales</th>\n",
              "      <th>jp_sales</th>\n",
              "      <th>other_sales</th>\n",
              "      <th>critic_score</th>\n",
              "      <th>user_score</th>\n",
              "      <th>rating</th>\n",
              "    </tr>\n",
              "  </thead>\n",
              "  <tbody>\n",
              "    <tr>\n",
              "      <th>659</th>\n",
              "      <td>NaN</td>\n",
              "      <td>GEN</td>\n",
              "      <td>1993.0</td>\n",
              "      <td>NaN</td>\n",
              "      <td>1.78</td>\n",
              "      <td>0.53</td>\n",
              "      <td>0.00</td>\n",
              "      <td>0.08</td>\n",
              "      <td>NaN</td>\n",
              "      <td>NaN</td>\n",
              "      <td>NaN</td>\n",
              "    </tr>\n",
              "    <tr>\n",
              "      <th>14244</th>\n",
              "      <td>NaN</td>\n",
              "      <td>GEN</td>\n",
              "      <td>1993.0</td>\n",
              "      <td>NaN</td>\n",
              "      <td>0.00</td>\n",
              "      <td>0.00</td>\n",
              "      <td>0.03</td>\n",
              "      <td>0.00</td>\n",
              "      <td>NaN</td>\n",
              "      <td>NaN</td>\n",
              "      <td>NaN</td>\n",
              "    </tr>\n",
              "  </tbody>\n",
              "</table>\n",
              "</div>"
            ],
            "text/plain": [
              "      name platform  year_of_release genre  na_sales  eu_sales  jp_sales  \\\n",
              "659    NaN      GEN           1993.0   NaN      1.78      0.53      0.00   \n",
              "14244  NaN      GEN           1993.0   NaN      0.00      0.00      0.03   \n",
              "\n",
              "       other_sales  critic_score user_score rating  \n",
              "659           0.08           NaN        NaN    NaN  \n",
              "14244         0.00           NaN        NaN    NaN  "
            ]
          },
          "metadata": {},
          "output_type": "display_data"
        },
        {
          "name": "stdout",
          "output_type": "stream",
          "text": [
            "<class 'pandas.core.frame.DataFrame'>\n",
            "Int64Index: 16714 entries, 0 to 16714\n",
            "Data columns (total 11 columns):\n",
            " #   Column           Non-Null Count  Dtype  \n",
            "---  ------           --------------  -----  \n",
            " 0   name             16712 non-null  object \n",
            " 1   platform         16714 non-null  object \n",
            " 2   year_of_release  16445 non-null  float64\n",
            " 3   genre            16712 non-null  object \n",
            " 4   na_sales         16714 non-null  float64\n",
            " 5   eu_sales         16714 non-null  float64\n",
            " 6   jp_sales         16714 non-null  float64\n",
            " 7   other_sales      16714 non-null  float64\n",
            " 8   critic_score     8136 non-null   float64\n",
            " 9   user_score       10013 non-null  object \n",
            " 10  rating           9948 non-null   object \n",
            "dtypes: float64(6), object(5)\n",
            "memory usage: 1.5+ MB\n",
            "None\n"
          ]
        }
      ],
      "source": [
        "display(data[data[['name', 'platform', 'year_of_release']].duplicated(keep=False)])\n",
        "print(data.info())"
      ]
    },
    {
      "cell_type": "markdown",
      "metadata": {
        "id": "PW7ts3WQ7DC1"
      },
      "source": [
        "Удаление строки прошло корректно."
      ]
    },
    {
      "cell_type": "markdown",
      "metadata": {
        "id": "pc7_G1YRO0hH"
      },
      "source": [
        "### 2.3. Обработка пропусков и преобразование типов данных"
      ]
    },
    {
      "cell_type": "markdown",
      "metadata": {
        "id": "mMb6FMHo38om"
      },
      "source": [
        "Визуализируем пропуски при помощи библиотеки `missingno`. Это поможет легко заметить взаимосвязи в пропусках, а так же их долю в значениях каждого столбца."
      ]
    },
    {
      "cell_type": "code",
      "execution_count": null,
      "metadata": {
        "colab": {
          "base_uri": "https://localhost:8080/",
          "height": 975
        },
        "id": "Lors_Eq5JJhs",
        "outputId": "efb89b5b-df31-4231-983d-38d305d7b56e"
      },
      "outputs": [
        {
          "data": {
            "image/png": "[encoded data removed]",
            "text/plain": [
              "<Figure size 1800x720 with 2 Axes>"
            ]
          },
          "metadata": {
            "needs_background": "light"
          },
          "output_type": "display_data"
        },
        {
          "data": {
            "image/png": "[encoded data removed]",
            "text/plain": [
              "<Figure size 1440x864 with 2 Axes>"
            ]
          },
          "metadata": {
            "needs_background": "light"
          },
          "output_type": "display_data"
        }
      ],
      "source": [
        "msno.matrix(data, labels=True)\n",
        "plt.show()\n",
        "\n",
        "msno.heatmap(data)\n",
        "plt.show()"
      ]
    },
    {
      "cell_type": "markdown",
      "metadata": {
        "id": "GqEFaIF5HlDV"
      },
      "source": [
        "На графиках видно, что все пропуски в `genre` и `name` находятся в одних и тех же строках. И так как этих строк всего 2, можно их удалить.\n",
        "\n",
        "Кроме того, тесно связаны между собой пропуски в `critic_score`, `user_score`, `rating`. Это означает, что восстановить пропуски в любом из них на основе двух других не получится, даже если бы между ними была сильная корреляция.\n",
        "\n",
        "Пропуски в `year_of_release` не связаны с пропусками в других данных. Но все равно не могут быть заполнены на основе имеющихся данных в силу индивидуальности каждой игры.\n",
        "\n",
        "Остальные данные сохранны."
      ]
    },
    {
      "cell_type": "code",
      "execution_count": null,
      "metadata": {
        "colab": {
          "base_uri": "https://localhost:8080/",
          "height": 347
        },
        "id": "8G-qmsFGMQiq",
        "outputId": "fd857e79-2724-4fd9-bcd6-340c1a857946"
      },
      "outputs": [
        {
          "name": "stdout",
          "output_type": "stream",
          "text": [
            "<class 'pandas.core.frame.DataFrame'>\n",
            "RangeIndex: 16712 entries, 0 to 16711\n",
            "Data columns (total 11 columns):\n",
            " #   Column           Non-Null Count  Dtype  \n",
            "---  ------           --------------  -----  \n",
            " 0   name             16712 non-null  object \n",
            " 1   platform         16712 non-null  object \n",
            " 2   year_of_release  16443 non-null  float64\n",
            " 3   genre            16712 non-null  object \n",
            " 4   na_sales         16712 non-null  float64\n",
            " 5   eu_sales         16712 non-null  float64\n",
            " 6   jp_sales         16712 non-null  float64\n",
            " 7   other_sales      16712 non-null  float64\n",
            " 8   critic_score     8136 non-null   float64\n",
            " 9   user_score       10013 non-null  object \n",
            " 10  rating           9948 non-null   object \n",
            "dtypes: float64(6), object(5)\n",
            "memory usage: 1.4+ MB\n"
          ]
        },
        {
          "data": {
            "text/plain": [
              "None"
            ]
          },
          "metadata": {},
          "output_type": "display_data"
        }
      ],
      "source": [
        "data = data.dropna(subset=['name']).reset_index(drop=True)\n",
        "display(data.info())"
      ]
    },
    {
      "cell_type": "markdown",
      "metadata": {
        "id": "GDYJXwOFM-Dp"
      },
      "source": [
        "Удалили 2 строки с пропущенными названиями и жанрами. Все остальное осталось на месте."
      ]
    },
    {
      "cell_type": "markdown",
      "metadata": {
        "id": "4I7VdL67J1xn"
      },
      "source": [
        "Для дальнейшего анализа нужно привести тип данных в столбце `user_score` к `float` (тип выбран потому, что данные в столбце представляют собой вычисленную среднюю оценку игры от пользователей и с трудом могут быть адекватно выражены другим типом)."
      ]
    },
    {
      "cell_type": "code",
      "execution_count": null,
      "metadata": {
        "colab": {
          "base_uri": "https://localhost:8080/"
        },
        "id": "YlTsKj-oWSio",
        "outputId": "d7cd3310-6bfd-4390-ddb4-e4a853e76a22"
      },
      "outputs": [
        {
          "name": "stdout",
          "output_type": "stream",
          "text": [
            "count     10013\n",
            "unique       96\n",
            "top         tbd\n",
            "freq       2424\n",
            "Name: user_score, dtype: object\n"
          ]
        }
      ],
      "source": [
        "print(data['user_score'].describe())"
      ]
    },
    {
      "cell_type": "markdown",
      "metadata": {
        "id": "d1KkLhOCNtvI"
      },
      "source": [
        "Значение `tbd` по смыслу эквивалентно `nan`. Это аббревиатура от `to be determined`: *будет определено*, то есть *пока не известно*.\n",
        "\n",
        "Отсутствующие значения в `user_score` можно заменить нулями. Такое значение демонстрирует отсутствие оценок от пользователей, поскольку оценка должна находиться в промежутке от 1 до 10.\n",
        "\n",
        "Достоверно восстановить их на основании других имеющихся данных не представляется возможным. C другой стороны, удалять их нельзя, потому что нужно сохранить как можно больше данных о продажах."
      ]
    },
    {
      "cell_type": "code",
      "execution_count": null,
      "metadata": {
        "colab": {
          "base_uri": "https://localhost:8080/"
        },
        "id": "A2xCMXhTNNwh",
        "outputId": "f6d455ff-c4eb-4070-f0f3-c61109ceaf4d"
      },
      "outputs": [
        {
          "name": "stdout",
          "output_type": "stream",
          "text": [
            "count    16712.000000\n",
            "mean         3.235615\n",
            "std          3.688874\n",
            "min          0.000000\n",
            "25%          0.000000\n",
            "50%          0.000000\n",
            "75%          7.300000\n",
            "max          9.700000\n",
            "Name: user_score, dtype: float64\n"
          ]
        }
      ],
      "source": [
        "data.loc[data['user_score']=='tbd', 'user_score'] = np.nan\n",
        "data['user_score'] = data['user_score'].fillna(0)\n",
        "data['user_score'] = data['user_score'].astype('float')\n",
        "\n",
        "print(data['user_score'].describe())"
      ]
    },
    {
      "cell_type": "markdown",
      "metadata": {
        "id": "7YEZDeknWsAx"
      },
      "source": [
        "То же касается пропусков в `critic_score` и `year_of_release`: их можно заменить нулями для демонстрации отсутствия данных.\n",
        "\n",
        "После замены пропусков преобразуем тип данных в столбце `year_of_release`, так как год не может быть ничем кроме натурального числа."
      ]
    },
    {
      "cell_type": "code",
      "execution_count": null,
      "metadata": {
        "colab": {
          "base_uri": "https://localhost:8080/"
        },
        "id": "NyYLHtZHBlvH",
        "outputId": "b2471a95-b79d-40e9-f267-f63e7c522b72"
      },
      "outputs": [
        {
          "name": "stdout",
          "output_type": "stream",
          "text": [
            "<class 'pandas.core.frame.DataFrame'>\n",
            "RangeIndex: 16712 entries, 0 to 16711\n",
            "Data columns (total 11 columns):\n",
            " #   Column           Non-Null Count  Dtype  \n",
            "---  ------           --------------  -----  \n",
            " 0   name             16712 non-null  object \n",
            " 1   platform         16712 non-null  object \n",
            " 2   year_of_release  16712 non-null  int64  \n",
            " 3   genre            16712 non-null  object \n",
            " 4   na_sales         16712 non-null  float64\n",
            " 5   eu_sales         16712 non-null  float64\n",
            " 6   jp_sales         16712 non-null  float64\n",
            " 7   other_sales      16712 non-null  float64\n",
            " 8   critic_score     16712 non-null  float64\n",
            " 9   user_score       16712 non-null  float64\n",
            " 10  rating           9948 non-null   object \n",
            "dtypes: float64(6), int64(1), object(4)\n",
            "memory usage: 1.4+ MB\n",
            "None\n"
          ]
        }
      ],
      "source": [
        "data['critic_score'] = data['critic_score'].fillna(0)\n",
        "data['year_of_release'] = data['year_of_release'].fillna(0)\n",
        "data['year_of_release'] = data['year_of_release'].astype('int')\n",
        "print(data.info())"
      ]
    },
    {
      "cell_type": "markdown",
      "metadata": {
        "id": "gC94Zb7aC70R"
      },
      "source": [
        "Внимательнее рассмотрим столбец `rating`."
      ]
    },
    {
      "cell_type": "code",
      "execution_count": null,
      "metadata": {
        "colab": {
          "base_uri": "https://localhost:8080/"
        },
        "id": "d-N8vC_eJF09",
        "outputId": "9bd70a74-0155-49eb-a0f8-2cf430726e34"
      },
      "outputs": [
        {
          "name": "stdout",
          "output_type": "stream",
          "text": [
            "E       3989\n",
            "T       2961\n",
            "M       1563\n",
            "E10+    1420\n",
            "EC         8\n",
            "RP         3\n",
            "K-A        3\n",
            "AO         1\n",
            "Name: rating, dtype: int64\n",
            "6764\n"
          ]
        }
      ],
      "source": [
        "print(data['rating'].value_counts())\n",
        "print(data['rating'].isna().sum())"
      ]
    },
    {
      "cell_type": "markdown",
      "metadata": {
        "id": "2a1fqm49D6qa"
      },
      "source": [
        "`K-A` - устаревшее обозначение для рейтинга `E`. `RP` - ничего не сообщающее о характере игры уведомление о том, что рейтинг будет присвоен, по сути аналогично nan и может быть заменено на такую же \"заглушку\", какой будут заменены пропуски.\n",
        "\n",
        "Актуализируем эти данные.\n",
        "\n",
        "Остальные значения соответствуют действующей системе возрастных рейтингов."
      ]
    },
    {
      "cell_type": "code",
      "execution_count": null,
      "metadata": {
        "colab": {
          "base_uri": "https://localhost:8080/"
        },
        "id": "-XCcW2OIEzVE",
        "outputId": "16e232eb-0ff6-4322-e431-7badd6e61dfc"
      },
      "outputs": [
        {
          "name": "stdout",
          "output_type": "stream",
          "text": [
            "unknown    6767\n",
            "E          3992\n",
            "T          2961\n",
            "M          1563\n",
            "E10+       1420\n",
            "EC            8\n",
            "AO            1\n",
            "Name: rating, dtype: int64\n"
          ]
        }
      ],
      "source": [
        "data.loc[data['rating']=='K-A', 'rating'] = 'E'\n",
        "data['rating'] = data['rating'].fillna('unknown')\n",
        "data.loc[data['rating']=='RP', 'rating'] = 'unknown'\n",
        "\n",
        "print(data['rating'].value_counts())"
      ]
    },
    {
      "cell_type": "markdown",
      "metadata": {
        "id": "CQs5FjIPRcgr"
      },
      "source": [
        "### **Выводы по шагу 2:**\n",
        "\n",
        "1. Обнаружен и удален 1 неявный дубликат.\n",
        "2. Обработано много пропусков:\n",
        "* замечено, что пропуски в столбцах `critic_score`, `user_score`, `rating` взаимосвязаны, а в `year_of_release` - не связаны с пропусками в других данных;\n",
        "* удалены 2 строки с пропущенными названиями и жанрами;\n",
        "* остальные пропуски заменены на значения-заглушки:\n",
        "  - для `critic_score`, `user_score` (значение `tbd` при этом  приравнено к `nan`) и `year_of_release` это 0;\n",
        "  - для `rating` это \"неизвестно\";\n",
        "* некоторые возможные причины, которые могли привести к пропускам:\n",
        "  - таблица составлялась по данным из разных источников, и объединение прошло некорректно либо в каком-то из источников изначально не было таких данных;\n",
        "  - у каких-то непопулярных игр действительно может не быть оценок;\n",
        "  - ESRB еще не присвоила рейтинг некоторым играм, а какие-то игры могли и не быть направлены в ESRB.\n",
        "3. Преобразованы типы данных в столбцах:\n",
        "* `user_score` к типу `float` (тип выбран потому, что данные в столбце представляют собой вычисленную среднюю оценку игры от пользователей и с трудом могут быть адекватно выражены другим типом);\n",
        "* `year_of_release` к типу `integer` (тип выбран потому, что год может быть только натуральным числом).\n",
        "4. Неинформативные и несоответствующие действующей системе возрастных рейтингов значения столбца `rating` заменены.\n"
      ]
    },
    {
      "cell_type": "markdown",
      "metadata": {
        "id": "glXGpj_x48Sk"
      },
      "source": [
        "## Шаг 3. Исследовательский анализ данных"
      ]
    },
    {
      "cell_type": "markdown",
      "metadata": {
        "id": "uY9zjsdf5ArM"
      },
      "source": [
        "### 3.1. Количество выпущенных игр в разные годы"
      ]
    },
    {
      "cell_type": "code",
      "execution_count": null,
      "metadata": {
        "colab": {
          "base_uri": "https://localhost:8080/",
          "height": 1000
        },
        "id": "1o93jGG94pdT",
        "outputId": "a5868757-36ca-4d47-e619-86bb395af9b2"
      },
      "outputs": [
        {
          "data": {
            "image/png": "[encoded data removed]",
            "text/plain": [
              "<Figure size 648x1080 with 1 Axes>"
            ]
          },
          "metadata": {
            "needs_background": "light"
          },
          "output_type": "display_data"
        }
      ],
      "source": [
        "year_freq = data.loc[data['year_of_release']>0, 'year_of_release'].value_counts().sort_index()\n",
        "\n",
        "plt.figure(figsize=(9, 15))\n",
        "plt.barh(year_freq.index, year_freq)\n",
        "plt.yticks(range(1980, 2017))\n",
        "plt.grid(True)\n",
        "plt.ylabel('год')\n",
        "plt.xlabel('количество выпущенных игр')\n",
        "plt.title('Количество выпущенных игр по годам')\n",
        "plt.show()\n"
      ]
    },
    {
      "cell_type": "markdown",
      "metadata": {
        "id": "r2hXJ9VL5KK7"
      },
      "source": [
        "**Промежуточные выводы:**\n",
        "\n",
        "1. В 1980-1990-е годы выпускалось сравнительно мало игр.\n",
        "\n",
        "2. Пик выпуска игр приходится на 2008-2009 годы, после этого количество игр устойчиво снижалось с небольшим подъемом в 2015 году.\n",
        "\n",
        "3. Имеет смысл в дальнейшем анализе рассматривать данные за 2014-2016 годы."
      ]
    },
    {
      "cell_type": "markdown",
      "metadata": {
        "id": "ToSuUgaf5NEZ"
      },
      "source": [
        "### 3.2. Изменение продаж популярных платформ по годам"
      ]
    },
    {
      "cell_type": "markdown",
      "metadata": {
        "id": "J7SGQI8wWW_T"
      },
      "source": [
        "Добавим в таблицу столбец с суммарными продажами `total_sales` и создадим сводную таблицу с суммарными продажами по платформам.\n",
        "\n",
        "Будем считать платформу популярной в том случае, если она входит в топ-5 по суммарным продажам и в топ-5 по количеству выпускаемых игр.\n",
        "\n",
        "Ограничим временной промежуток данных для прогноза 2014-2016 годами, так как игровая индустрия очень динамично развивается."
      ]
    },
    {
      "cell_type": "code",
      "execution_count": null,
      "metadata": {
        "colab": {
          "base_uri": "https://localhost:8080/",
          "height": 614
        },
        "id": "YfXPbCHi5EyT",
        "outputId": "b228ebe5-f40c-46f5-9fef-cfb8b4478224"
      },
      "outputs": [
        {
          "data": {
            "text/html": [
              "<div>\n",
              "<style scoped>\n",
              "    .dataframe tbody tr th:only-of-type {\n",
              "        vertical-align: middle;\n",
              "    }\n",
              "\n",
              "    .dataframe tbody tr th {\n",
              "        vertical-align: top;\n",
              "    }\n",
              "\n",
              "    .dataframe thead th {\n",
              "        text-align: right;\n",
              "    }\n",
              "</style>\n",
              "<table border=\"1\" class=\"dataframe\">\n",
              "  <thead>\n",
              "    <tr style=\"text-align: right;\">\n",
              "      <th></th>\n",
              "      <th>name</th>\n",
              "      <th>platform</th>\n",
              "      <th>year_of_release</th>\n",
              "      <th>genre</th>\n",
              "      <th>na_sales</th>\n",
              "      <th>eu_sales</th>\n",
              "      <th>jp_sales</th>\n",
              "      <th>other_sales</th>\n",
              "      <th>critic_score</th>\n",
              "      <th>user_score</th>\n",
              "      <th>rating</th>\n",
              "      <th>total_sales</th>\n",
              "    </tr>\n",
              "  </thead>\n",
              "  <tbody>\n",
              "    <tr>\n",
              "      <th>0</th>\n",
              "      <td>Wii Sports</td>\n",
              "      <td>Wii</td>\n",
              "      <td>2006</td>\n",
              "      <td>Sports</td>\n",
              "      <td>41.36</td>\n",
              "      <td>28.96</td>\n",
              "      <td>3.77</td>\n",
              "      <td>8.45</td>\n",
              "      <td>76.0</td>\n",
              "      <td>8.0</td>\n",
              "      <td>E</td>\n",
              "      <td>82.54</td>\n",
              "    </tr>\n",
              "    <tr>\n",
              "      <th>1</th>\n",
              "      <td>Super Mario Bros.</td>\n",
              "      <td>NES</td>\n",
              "      <td>1985</td>\n",
              "      <td>Platform</td>\n",
              "      <td>29.08</td>\n",
              "      <td>3.58</td>\n",
              "      <td>6.81</td>\n",
              "      <td>0.77</td>\n",
              "      <td>0.0</td>\n",
              "      <td>0.0</td>\n",
              "      <td>unknown</td>\n",
              "      <td>40.24</td>\n",
              "    </tr>\n",
              "    <tr>\n",
              "      <th>2</th>\n",
              "      <td>Mario Kart Wii</td>\n",
              "      <td>Wii</td>\n",
              "      <td>2008</td>\n",
              "      <td>Racing</td>\n",
              "      <td>15.68</td>\n",
              "      <td>12.76</td>\n",
              "      <td>3.79</td>\n",
              "      <td>3.29</td>\n",
              "      <td>82.0</td>\n",
              "      <td>8.3</td>\n",
              "      <td>E</td>\n",
              "      <td>35.52</td>\n",
              "    </tr>\n",
              "    <tr>\n",
              "      <th>3</th>\n",
              "      <td>Wii Sports Resort</td>\n",
              "      <td>Wii</td>\n",
              "      <td>2009</td>\n",
              "      <td>Sports</td>\n",
              "      <td>15.61</td>\n",
              "      <td>10.93</td>\n",
              "      <td>3.28</td>\n",
              "      <td>2.95</td>\n",
              "      <td>80.0</td>\n",
              "      <td>8.0</td>\n",
              "      <td>E</td>\n",
              "      <td>32.77</td>\n",
              "    </tr>\n",
              "    <tr>\n",
              "      <th>4</th>\n",
              "      <td>Pokemon Red/Pokemon Blue</td>\n",
              "      <td>GB</td>\n",
              "      <td>1996</td>\n",
              "      <td>Role-Playing</td>\n",
              "      <td>11.27</td>\n",
              "      <td>8.89</td>\n",
              "      <td>10.22</td>\n",
              "      <td>1.00</td>\n",
              "      <td>0.0</td>\n",
              "      <td>0.0</td>\n",
              "      <td>unknown</td>\n",
              "      <td>31.38</td>\n",
              "    </tr>\n",
              "  </tbody>\n",
              "</table>\n",
              "</div>"
            ],
            "text/plain": [
              "                       name platform  year_of_release         genre  na_sales  \\\n",
              "0                Wii Sports      Wii             2006        Sports     41.36   \n",
              "1         Super Mario Bros.      NES             1985      Platform     29.08   \n",
              "2            Mario Kart Wii      Wii             2008        Racing     15.68   \n",
              "3         Wii Sports Resort      Wii             2009        Sports     15.61   \n",
              "4  Pokemon Red/Pokemon Blue       GB             1996  Role-Playing     11.27   \n",
              "\n",
              "   eu_sales  jp_sales  other_sales  critic_score  user_score   rating  \\\n",
              "0     28.96      3.77         8.45          76.0         8.0        E   \n",
              "1      3.58      6.81         0.77           0.0         0.0  unknown   \n",
              "2     12.76      3.79         3.29          82.0         8.3        E   \n",
              "3     10.93      3.28         2.95          80.0         8.0        E   \n",
              "4      8.89     10.22         1.00           0.0         0.0  unknown   \n",
              "\n",
              "   total_sales  \n",
              "0        82.54  \n",
              "1        40.24  \n",
              "2        35.52  \n",
              "3        32.77  \n",
              "4        31.38  "
            ]
          },
          "metadata": {},
          "output_type": "display_data"
        },
        {
          "name": "stdout",
          "output_type": "stream",
          "text": [
            "\n",
            "Платформы с наибольшими продажами и наибольшим количеством игр:\n"
          ]
        },
        {
          "data": {
            "text/html": [
              "<div>\n",
              "<style scoped>\n",
              "    .dataframe tbody tr th:only-of-type {\n",
              "        vertical-align: middle;\n",
              "    }\n",
              "\n",
              "    .dataframe tbody tr th {\n",
              "        vertical-align: top;\n",
              "    }\n",
              "\n",
              "    .dataframe thead th {\n",
              "        text-align: right;\n",
              "    }\n",
              "</style>\n",
              "<table border=\"1\" class=\"dataframe\">\n",
              "  <thead>\n",
              "    <tr style=\"text-align: right;\">\n",
              "      <th></th>\n",
              "      <th>platform</th>\n",
              "      <th>total_sales</th>\n",
              "      <th>count</th>\n",
              "    </tr>\n",
              "  </thead>\n",
              "  <tbody>\n",
              "    <tr>\n",
              "      <th>0</th>\n",
              "      <td>PS4</td>\n",
              "      <td>288.15</td>\n",
              "      <td>376</td>\n",
              "    </tr>\n",
              "    <tr>\n",
              "      <th>1</th>\n",
              "      <td>XOne</td>\n",
              "      <td>140.36</td>\n",
              "      <td>228</td>\n",
              "    </tr>\n",
              "    <tr>\n",
              "      <th>2</th>\n",
              "      <td>3DS</td>\n",
              "      <td>86.68</td>\n",
              "      <td>212</td>\n",
              "    </tr>\n",
              "    <tr>\n",
              "      <th>3</th>\n",
              "      <td>PS3</td>\n",
              "      <td>68.18</td>\n",
              "      <td>219</td>\n",
              "    </tr>\n",
              "  </tbody>\n",
              "</table>\n",
              "</div>"
            ],
            "text/plain": [
              "  platform  total_sales  count\n",
              "0      PS4       288.15    376\n",
              "1     XOne       140.36    228\n",
              "2      3DS        86.68    212\n",
              "3      PS3        68.18    219"
            ]
          },
          "metadata": {},
          "output_type": "display_data"
        }
      ],
      "source": [
        "data['total_sales'] = data['na_sales'] + data['eu_sales'] + data['jp_sales'] + data['other_sales']\n",
        "display(data.head())\n",
        "print()\n",
        "\n",
        "platform_pivot = data.loc[data['year_of_release']>2013].pivot_table(\n",
        "    index='platform',\n",
        "    values='total_sales',\n",
        "    aggfunc='sum'\n",
        ").reset_index()\n",
        "\n",
        "\n",
        "pop_platforms = platform_pivot.sort_values(\n",
        "    by='total_sales',\n",
        "    ascending=False).head().merge(\n",
        "      data.loc[data['year_of_release']>2013, 'platform'].value_counts().reset_index().rename(\n",
        "          columns={'index':'platform', 'platform':'count'}\n",
        "      ).head(),\n",
        "      on='platform',\n",
        "      how='inner')\n",
        "\n",
        "print('Платформы с наибольшими продажами и наибольшим количеством игр:')\n",
        "display(pop_platforms)\n"
      ]
    },
    {
      "cell_type": "markdown",
      "metadata": {
        "id": "vIYk3eDCfbbA"
      },
      "source": [
        "Получили 4 платформы, которые можно считать наиболее популярными.\n",
        "\n",
        "Посмотрим, как их суммарные продажи распределяются по годам.\n",
        "Создадим сводную таблицу с соответствующими данными и визуализируем полученные данные.\n",
        "\n",
        "Сначала построим график для всех платформ за 2000-2016 годы, чтобы определить примерную продолжительность цикла популярности платформы."
      ]
    },
    {
      "cell_type": "code",
      "execution_count": null,
      "metadata": {
        "colab": {
          "base_uri": "https://localhost:8080/",
          "height": 1000
        },
        "id": "EIrO5I3EzZLP",
        "outputId": "715dd19d-10bf-4141-ae94-c0897f98571f"
      },
      "outputs": [
        {
          "data": {
            "text/html": [
              "<div>\n",
              "<style scoped>\n",
              "    .dataframe tbody tr th:only-of-type {\n",
              "        vertical-align: middle;\n",
              "    }\n",
              "\n",
              "    .dataframe tbody tr th {\n",
              "        vertical-align: top;\n",
              "    }\n",
              "\n",
              "    .dataframe thead th {\n",
              "        text-align: right;\n",
              "    }\n",
              "</style>\n",
              "<table border=\"1\" class=\"dataframe\">\n",
              "  <thead>\n",
              "    <tr style=\"text-align: right;\">\n",
              "      <th>year_of_release</th>\n",
              "      <th>2000</th>\n",
              "      <th>2001</th>\n",
              "      <th>2002</th>\n",
              "      <th>2003</th>\n",
              "      <th>2004</th>\n",
              "      <th>2005</th>\n",
              "      <th>2006</th>\n",
              "      <th>2007</th>\n",
              "      <th>2008</th>\n",
              "      <th>2009</th>\n",
              "      <th>2010</th>\n",
              "      <th>2011</th>\n",
              "      <th>2012</th>\n",
              "      <th>2013</th>\n",
              "      <th>2014</th>\n",
              "      <th>2015</th>\n",
              "      <th>2016</th>\n",
              "    </tr>\n",
              "    <tr>\n",
              "      <th>platform</th>\n",
              "      <th></th>\n",
              "      <th></th>\n",
              "      <th></th>\n",
              "      <th></th>\n",
              "      <th></th>\n",
              "      <th></th>\n",
              "      <th></th>\n",
              "      <th></th>\n",
              "      <th></th>\n",
              "      <th></th>\n",
              "      <th></th>\n",
              "      <th></th>\n",
              "      <th></th>\n",
              "      <th></th>\n",
              "      <th></th>\n",
              "      <th></th>\n",
              "      <th></th>\n",
              "    </tr>\n",
              "  </thead>\n",
              "  <tbody>\n",
              "    <tr>\n",
              "      <th>3DS</th>\n",
              "      <td>NaN</td>\n",
              "      <td>NaN</td>\n",
              "      <td>NaN</td>\n",
              "      <td>NaN</td>\n",
              "      <td>NaN</td>\n",
              "      <td>NaN</td>\n",
              "      <td>NaN</td>\n",
              "      <td>NaN</td>\n",
              "      <td>NaN</td>\n",
              "      <td>NaN</td>\n",
              "      <td>NaN</td>\n",
              "      <td>63.20</td>\n",
              "      <td>51.36</td>\n",
              "      <td>56.57</td>\n",
              "      <td>43.76</td>\n",
              "      <td>27.78</td>\n",
              "      <td>15.14</td>\n",
              "    </tr>\n",
              "    <tr>\n",
              "      <th>DC</th>\n",
              "      <td>5.99</td>\n",
              "      <td>1.07</td>\n",
              "      <td>0.29</td>\n",
              "      <td>NaN</td>\n",
              "      <td>NaN</td>\n",
              "      <td>NaN</td>\n",
              "      <td>NaN</td>\n",
              "      <td>0.02</td>\n",
              "      <td>0.04</td>\n",
              "      <td>NaN</td>\n",
              "      <td>NaN</td>\n",
              "      <td>NaN</td>\n",
              "      <td>NaN</td>\n",
              "      <td>NaN</td>\n",
              "      <td>NaN</td>\n",
              "      <td>NaN</td>\n",
              "      <td>NaN</td>\n",
              "    </tr>\n",
              "    <tr>\n",
              "      <th>DS</th>\n",
              "      <td>NaN</td>\n",
              "      <td>NaN</td>\n",
              "      <td>NaN</td>\n",
              "      <td>NaN</td>\n",
              "      <td>17.27</td>\n",
              "      <td>130.14</td>\n",
              "      <td>119.81</td>\n",
              "      <td>146.94</td>\n",
              "      <td>145.31</td>\n",
              "      <td>119.54</td>\n",
              "      <td>85.02</td>\n",
              "      <td>26.18</td>\n",
              "      <td>11.01</td>\n",
              "      <td>1.54</td>\n",
              "      <td>NaN</td>\n",
              "      <td>NaN</td>\n",
              "      <td>NaN</td>\n",
              "    </tr>\n",
              "    <tr>\n",
              "      <th>GB</th>\n",
              "      <td>19.76</td>\n",
              "      <td>9.24</td>\n",
              "      <td>NaN</td>\n",
              "      <td>NaN</td>\n",
              "      <td>NaN</td>\n",
              "      <td>NaN</td>\n",
              "      <td>NaN</td>\n",
              "      <td>NaN</td>\n",
              "      <td>NaN</td>\n",
              "      <td>NaN</td>\n",
              "      <td>NaN</td>\n",
              "      <td>NaN</td>\n",
              "      <td>NaN</td>\n",
              "      <td>NaN</td>\n",
              "      <td>NaN</td>\n",
              "      <td>NaN</td>\n",
              "      <td>NaN</td>\n",
              "    </tr>\n",
              "    <tr>\n",
              "      <th>GBA</th>\n",
              "      <td>0.07</td>\n",
              "      <td>61.53</td>\n",
              "      <td>74.16</td>\n",
              "      <td>56.67</td>\n",
              "      <td>77.91</td>\n",
              "      <td>33.86</td>\n",
              "      <td>5.28</td>\n",
              "      <td>3.40</td>\n",
              "      <td>NaN</td>\n",
              "      <td>NaN</td>\n",
              "      <td>NaN</td>\n",
              "      <td>NaN</td>\n",
              "      <td>NaN</td>\n",
              "      <td>NaN</td>\n",
              "      <td>NaN</td>\n",
              "      <td>NaN</td>\n",
              "      <td>NaN</td>\n",
              "    </tr>\n",
              "    <tr>\n",
              "      <th>GC</th>\n",
              "      <td>NaN</td>\n",
              "      <td>26.34</td>\n",
              "      <td>51.81</td>\n",
              "      <td>50.61</td>\n",
              "      <td>28.82</td>\n",
              "      <td>27.62</td>\n",
              "      <td>11.26</td>\n",
              "      <td>0.27</td>\n",
              "      <td>NaN</td>\n",
              "      <td>NaN</td>\n",
              "      <td>NaN</td>\n",
              "      <td>NaN</td>\n",
              "      <td>NaN</td>\n",
              "      <td>NaN</td>\n",
              "      <td>NaN</td>\n",
              "      <td>NaN</td>\n",
              "      <td>NaN</td>\n",
              "    </tr>\n",
              "    <tr>\n",
              "      <th>N64</th>\n",
              "      <td>33.97</td>\n",
              "      <td>3.25</td>\n",
              "      <td>0.08</td>\n",
              "      <td>NaN</td>\n",
              "      <td>NaN</td>\n",
              "      <td>NaN</td>\n",
              "      <td>NaN</td>\n",
              "      <td>NaN</td>\n",
              "      <td>NaN</td>\n",
              "      <td>NaN</td>\n",
              "      <td>NaN</td>\n",
              "      <td>NaN</td>\n",
              "      <td>NaN</td>\n",
              "      <td>NaN</td>\n",
              "      <td>NaN</td>\n",
              "      <td>NaN</td>\n",
              "      <td>NaN</td>\n",
              "    </tr>\n",
              "    <tr>\n",
              "      <th>PC</th>\n",
              "      <td>4.66</td>\n",
              "      <td>5.47</td>\n",
              "      <td>8.57</td>\n",
              "      <td>8.84</td>\n",
              "      <td>10.39</td>\n",
              "      <td>4.37</td>\n",
              "      <td>2.85</td>\n",
              "      <td>9.28</td>\n",
              "      <td>12.42</td>\n",
              "      <td>16.91</td>\n",
              "      <td>24.28</td>\n",
              "      <td>35.03</td>\n",
              "      <td>23.22</td>\n",
              "      <td>12.38</td>\n",
              "      <td>13.28</td>\n",
              "      <td>8.52</td>\n",
              "      <td>5.25</td>\n",
              "    </tr>\n",
              "    <tr>\n",
              "      <th>PS</th>\n",
              "      <td>96.37</td>\n",
              "      <td>35.59</td>\n",
              "      <td>6.67</td>\n",
              "      <td>2.07</td>\n",
              "      <td>NaN</td>\n",
              "      <td>NaN</td>\n",
              "      <td>NaN</td>\n",
              "      <td>NaN</td>\n",
              "      <td>NaN</td>\n",
              "      <td>NaN</td>\n",
              "      <td>NaN</td>\n",
              "      <td>NaN</td>\n",
              "      <td>NaN</td>\n",
              "      <td>NaN</td>\n",
              "      <td>NaN</td>\n",
              "      <td>NaN</td>\n",
              "      <td>NaN</td>\n",
              "    </tr>\n",
              "    <tr>\n",
              "      <th>PS2</th>\n",
              "      <td>39.17</td>\n",
              "      <td>166.43</td>\n",
              "      <td>205.38</td>\n",
              "      <td>184.31</td>\n",
              "      <td>211.81</td>\n",
              "      <td>160.66</td>\n",
              "      <td>103.42</td>\n",
              "      <td>75.99</td>\n",
              "      <td>53.90</td>\n",
              "      <td>26.40</td>\n",
              "      <td>5.64</td>\n",
              "      <td>0.45</td>\n",
              "      <td>NaN</td>\n",
              "      <td>NaN</td>\n",
              "      <td>NaN</td>\n",
              "      <td>NaN</td>\n",
              "      <td>NaN</td>\n",
              "    </tr>\n",
              "    <tr>\n",
              "      <th>PS3</th>\n",
              "      <td>NaN</td>\n",
              "      <td>NaN</td>\n",
              "      <td>NaN</td>\n",
              "      <td>NaN</td>\n",
              "      <td>NaN</td>\n",
              "      <td>NaN</td>\n",
              "      <td>20.96</td>\n",
              "      <td>73.19</td>\n",
              "      <td>118.52</td>\n",
              "      <td>130.93</td>\n",
              "      <td>142.17</td>\n",
              "      <td>156.78</td>\n",
              "      <td>107.35</td>\n",
              "      <td>113.25</td>\n",
              "      <td>47.76</td>\n",
              "      <td>16.82</td>\n",
              "      <td>3.60</td>\n",
              "    </tr>\n",
              "    <tr>\n",
              "      <th>PS4</th>\n",
              "      <td>NaN</td>\n",
              "      <td>NaN</td>\n",
              "      <td>NaN</td>\n",
              "      <td>NaN</td>\n",
              "      <td>NaN</td>\n",
              "      <td>NaN</td>\n",
              "      <td>NaN</td>\n",
              "      <td>NaN</td>\n",
              "      <td>NaN</td>\n",
              "      <td>NaN</td>\n",
              "      <td>NaN</td>\n",
              "      <td>NaN</td>\n",
              "      <td>NaN</td>\n",
              "      <td>25.99</td>\n",
              "      <td>100.00</td>\n",
              "      <td>118.90</td>\n",
              "      <td>69.25</td>\n",
              "    </tr>\n",
              "    <tr>\n",
              "      <th>PSP</th>\n",
              "      <td>NaN</td>\n",
              "      <td>NaN</td>\n",
              "      <td>NaN</td>\n",
              "      <td>NaN</td>\n",
              "      <td>7.06</td>\n",
              "      <td>43.84</td>\n",
              "      <td>55.32</td>\n",
              "      <td>46.93</td>\n",
              "      <td>34.55</td>\n",
              "      <td>37.78</td>\n",
              "      <td>35.04</td>\n",
              "      <td>17.82</td>\n",
              "      <td>7.69</td>\n",
              "      <td>3.14</td>\n",
              "      <td>0.24</td>\n",
              "      <td>0.12</td>\n",
              "      <td>NaN</td>\n",
              "    </tr>\n",
              "    <tr>\n",
              "      <th>PSV</th>\n",
              "      <td>NaN</td>\n",
              "      <td>NaN</td>\n",
              "      <td>NaN</td>\n",
              "      <td>NaN</td>\n",
              "      <td>NaN</td>\n",
              "      <td>NaN</td>\n",
              "      <td>NaN</td>\n",
              "      <td>NaN</td>\n",
              "      <td>NaN</td>\n",
              "      <td>NaN</td>\n",
              "      <td>NaN</td>\n",
              "      <td>4.63</td>\n",
              "      <td>16.19</td>\n",
              "      <td>10.59</td>\n",
              "      <td>11.90</td>\n",
              "      <td>6.25</td>\n",
              "      <td>4.25</td>\n",
              "    </tr>\n",
              "    <tr>\n",
              "      <th>WS</th>\n",
              "      <td>0.68</td>\n",
              "      <td>0.28</td>\n",
              "      <td>NaN</td>\n",
              "      <td>NaN</td>\n",
              "      <td>NaN</td>\n",
              "      <td>NaN</td>\n",
              "      <td>NaN</td>\n",
              "      <td>NaN</td>\n",
              "      <td>NaN</td>\n",
              "      <td>NaN</td>\n",
              "      <td>NaN</td>\n",
              "      <td>NaN</td>\n",
              "      <td>NaN</td>\n",
              "      <td>NaN</td>\n",
              "      <td>NaN</td>\n",
              "      <td>NaN</td>\n",
              "      <td>NaN</td>\n",
              "    </tr>\n",
              "    <tr>\n",
              "      <th>Wii</th>\n",
              "      <td>NaN</td>\n",
              "      <td>NaN</td>\n",
              "      <td>NaN</td>\n",
              "      <td>NaN</td>\n",
              "      <td>NaN</td>\n",
              "      <td>NaN</td>\n",
              "      <td>137.15</td>\n",
              "      <td>152.77</td>\n",
              "      <td>171.32</td>\n",
              "      <td>206.97</td>\n",
              "      <td>127.95</td>\n",
              "      <td>59.65</td>\n",
              "      <td>21.71</td>\n",
              "      <td>8.59</td>\n",
              "      <td>3.75</td>\n",
              "      <td>1.14</td>\n",
              "      <td>0.18</td>\n",
              "    </tr>\n",
              "    <tr>\n",
              "      <th>WiiU</th>\n",
              "      <td>NaN</td>\n",
              "      <td>NaN</td>\n",
              "      <td>NaN</td>\n",
              "      <td>NaN</td>\n",
              "      <td>NaN</td>\n",
              "      <td>NaN</td>\n",
              "      <td>NaN</td>\n",
              "      <td>NaN</td>\n",
              "      <td>NaN</td>\n",
              "      <td>NaN</td>\n",
              "      <td>NaN</td>\n",
              "      <td>NaN</td>\n",
              "      <td>17.56</td>\n",
              "      <td>21.65</td>\n",
              "      <td>22.03</td>\n",
              "      <td>16.35</td>\n",
              "      <td>4.60</td>\n",
              "    </tr>\n",
              "    <tr>\n",
              "      <th>X360</th>\n",
              "      <td>NaN</td>\n",
              "      <td>NaN</td>\n",
              "      <td>NaN</td>\n",
              "      <td>NaN</td>\n",
              "      <td>NaN</td>\n",
              "      <td>8.25</td>\n",
              "      <td>51.62</td>\n",
              "      <td>95.41</td>\n",
              "      <td>135.26</td>\n",
              "      <td>120.29</td>\n",
              "      <td>170.03</td>\n",
              "      <td>143.84</td>\n",
              "      <td>99.74</td>\n",
              "      <td>88.58</td>\n",
              "      <td>34.74</td>\n",
              "      <td>11.96</td>\n",
              "      <td>1.52</td>\n",
              "    </tr>\n",
              "    <tr>\n",
              "      <th>XB</th>\n",
              "      <td>0.99</td>\n",
              "      <td>22.26</td>\n",
              "      <td>48.01</td>\n",
              "      <td>55.04</td>\n",
              "      <td>65.42</td>\n",
              "      <td>49.08</td>\n",
              "      <td>10.04</td>\n",
              "      <td>0.55</td>\n",
              "      <td>0.18</td>\n",
              "      <td>NaN</td>\n",
              "      <td>NaN</td>\n",
              "      <td>NaN</td>\n",
              "      <td>NaN</td>\n",
              "      <td>NaN</td>\n",
              "      <td>NaN</td>\n",
              "      <td>NaN</td>\n",
              "      <td>NaN</td>\n",
              "    </tr>\n",
              "    <tr>\n",
              "      <th>XOne</th>\n",
              "      <td>NaN</td>\n",
              "      <td>NaN</td>\n",
              "      <td>NaN</td>\n",
              "      <td>NaN</td>\n",
              "      <td>NaN</td>\n",
              "      <td>NaN</td>\n",
              "      <td>NaN</td>\n",
              "      <td>NaN</td>\n",
              "      <td>NaN</td>\n",
              "      <td>NaN</td>\n",
              "      <td>NaN</td>\n",
              "      <td>NaN</td>\n",
              "      <td>NaN</td>\n",
              "      <td>18.96</td>\n",
              "      <td>54.07</td>\n",
              "      <td>60.14</td>\n",
              "      <td>26.15</td>\n",
              "    </tr>\n",
              "  </tbody>\n",
              "</table>\n",
              "</div>"
            ],
            "text/plain": [
              "year_of_release   2000    2001    2002    2003    2004    2005    2006  \\\n",
              "platform                                                                 \n",
              "3DS                NaN     NaN     NaN     NaN     NaN     NaN     NaN   \n",
              "DC                5.99    1.07    0.29     NaN     NaN     NaN     NaN   \n",
              "DS                 NaN     NaN     NaN     NaN   17.27  130.14  119.81   \n",
              "GB               19.76    9.24     NaN     NaN     NaN     NaN     NaN   \n",
              "GBA               0.07   61.53   74.16   56.67   77.91   33.86    5.28   \n",
              "GC                 NaN   26.34   51.81   50.61   28.82   27.62   11.26   \n",
              "N64              33.97    3.25    0.08     NaN     NaN     NaN     NaN   \n",
              "PC                4.66    5.47    8.57    8.84   10.39    4.37    2.85   \n",
              "PS               96.37   35.59    6.67    2.07     NaN     NaN     NaN   \n",
              "PS2              39.17  166.43  205.38  184.31  211.81  160.66  103.42   \n",
              "PS3                NaN     NaN     NaN     NaN     NaN     NaN   20.96   \n",
              "PS4                NaN     NaN     NaN     NaN     NaN     NaN     NaN   \n",
              "PSP                NaN     NaN     NaN     NaN    7.06   43.84   55.32   \n",
              "PSV                NaN     NaN     NaN     NaN     NaN     NaN     NaN   \n",
              "WS                0.68    0.28     NaN     NaN     NaN     NaN     NaN   \n",
              "Wii                NaN     NaN     NaN     NaN     NaN     NaN  137.15   \n",
              "WiiU               NaN     NaN     NaN     NaN     NaN     NaN     NaN   \n",
              "X360               NaN     NaN     NaN     NaN     NaN    8.25   51.62   \n",
              "XB                0.99   22.26   48.01   55.04   65.42   49.08   10.04   \n",
              "XOne               NaN     NaN     NaN     NaN     NaN     NaN     NaN   \n",
              "\n",
              "year_of_release    2007    2008    2009    2010    2011    2012    2013  \\\n",
              "platform                                                                  \n",
              "3DS                 NaN     NaN     NaN     NaN   63.20   51.36   56.57   \n",
              "DC                 0.02    0.04     NaN     NaN     NaN     NaN     NaN   \n",
              "DS               146.94  145.31  119.54   85.02   26.18   11.01    1.54   \n",
              "GB                  NaN     NaN     NaN     NaN     NaN     NaN     NaN   \n",
              "GBA                3.40     NaN     NaN     NaN     NaN     NaN     NaN   \n",
              "GC                 0.27     NaN     NaN     NaN     NaN     NaN     NaN   \n",
              "N64                 NaN     NaN     NaN     NaN     NaN     NaN     NaN   \n",
              "PC                 9.28   12.42   16.91   24.28   35.03   23.22   12.38   \n",
              "PS                  NaN     NaN     NaN     NaN     NaN     NaN     NaN   \n",
              "PS2               75.99   53.90   26.40    5.64    0.45     NaN     NaN   \n",
              "PS3               73.19  118.52  130.93  142.17  156.78  107.35  113.25   \n",
              "PS4                 NaN     NaN     NaN     NaN     NaN     NaN   25.99   \n",
              "PSP               46.93   34.55   37.78   35.04   17.82    7.69    3.14   \n",
              "PSV                 NaN     NaN     NaN     NaN    4.63   16.19   10.59   \n",
              "WS                  NaN     NaN     NaN     NaN     NaN     NaN     NaN   \n",
              "Wii              152.77  171.32  206.97  127.95   59.65   21.71    8.59   \n",
              "WiiU                NaN     NaN     NaN     NaN     NaN   17.56   21.65   \n",
              "X360              95.41  135.26  120.29  170.03  143.84   99.74   88.58   \n",
              "XB                 0.55    0.18     NaN     NaN     NaN     NaN     NaN   \n",
              "XOne                NaN     NaN     NaN     NaN     NaN     NaN   18.96   \n",
              "\n",
              "year_of_release    2014    2015   2016  \n",
              "platform                                \n",
              "3DS               43.76   27.78  15.14  \n",
              "DC                  NaN     NaN    NaN  \n",
              "DS                  NaN     NaN    NaN  \n",
              "GB                  NaN     NaN    NaN  \n",
              "GBA                 NaN     NaN    NaN  \n",
              "GC                  NaN     NaN    NaN  \n",
              "N64                 NaN     NaN    NaN  \n",
              "PC                13.28    8.52   5.25  \n",
              "PS                  NaN     NaN    NaN  \n",
              "PS2                 NaN     NaN    NaN  \n",
              "PS3               47.76   16.82   3.60  \n",
              "PS4              100.00  118.90  69.25  \n",
              "PSP                0.24    0.12    NaN  \n",
              "PSV               11.90    6.25   4.25  \n",
              "WS                  NaN     NaN    NaN  \n",
              "Wii                3.75    1.14   0.18  \n",
              "WiiU              22.03   16.35   4.60  \n",
              "X360              34.74   11.96   1.52  \n",
              "XB                  NaN     NaN    NaN  \n",
              "XOne              54.07   60.14  26.15  "
            ]
          },
          "metadata": {},
          "output_type": "display_data"
        },
        {
          "data": {
            "image/png": "[encoded data removed]",
            "text/plain": [
              "<Figure size 1296x720 with 2 Axes>"
            ]
          },
          "metadata": {
            "needs_background": "light"
          },
          "output_type": "display_data"
        }
      ],
      "source": [
        "year_platform_pivot = data.loc[data['year_of_release']>1999].pivot_table(\n",
        "    index='platform',\n",
        "    columns='year_of_release',\n",
        "    values='total_sales',\n",
        "    aggfunc='sum'\n",
        ")\n",
        "\n",
        "display(year_platform_pivot)\n",
        "\n",
        "plt.figure(figsize=(18,10))\n",
        "sns.heatmap(\n",
        "    year_platform_pivot,\n",
        "    annot=True,\n",
        "    fmt='.2g',\n",
        "    cmap='GnBu',\n",
        "    cbar_kws={'orientation': 'horizontal'}\n",
        "    )\n",
        "plt.title('Суммарные продажи каждой платформы по годам')\n",
        "plt.show()"
      ]
    },
    {
      "cell_type": "markdown",
      "metadata": {
        "id": "5JPMQvO87DDB"
      },
      "source": [
        "Видно, что приерно за 5-6 лет платформа набирает популярность и теряет ее.\n",
        "\n",
        "Значит, анализировать для прогноза данные за 3 года - подходящее решение. Тогда будет примерно понятно, на каком этапе своего цикла находится платформа."
      ]
    },
    {
      "cell_type": "code",
      "execution_count": null,
      "metadata": {
        "colab": {
          "base_uri": "https://localhost:8080/",
          "height": 400
        },
        "id": "RgrVXiGmEM_3",
        "outputId": "47030756-760c-40eb-b5dd-b9ba7defbcd0"
      },
      "outputs": [
        {
          "data": {
            "image/png": "[encoded data removed]",
            "text/plain": [
              "<Figure size 360x576 with 2 Axes>"
            ]
          },
          "metadata": {
            "needs_background": "light"
          },
          "output_type": "display_data"
        }
      ],
      "source": [
        "plt.figure(figsize=(5,8))\n",
        "sns.heatmap(\n",
        "    year_platform_pivot.loc[pop_platforms['platform'].to_list(), [2014, 2015, 2016]],\n",
        "    annot=True,\n",
        "    fmt='.2g',\n",
        "    cmap='GnBu',\n",
        "    cbar_kws={'orientation': 'horizontal'}\n",
        "    )\n",
        "plt.title('Суммарные продажи популярных платформ по годам')\n",
        "plt.show()"
      ]
    },
    {
      "cell_type": "markdown",
      "metadata": {
        "id": "Fq6bBaN9KplM"
      },
      "source": [
        "**Промежуточные выводы:**\n",
        "\n",
        "1. На графиках хорошо видно, что примерный цикл популярности платформы длится 5-6 лет.\n",
        "2. Выводы о платформах:\n",
        "* лидируют по продажам:\n",
        "  - `PS4`;\n",
        "  - `XOne`;  \n",
        "  - `3DS`;\n",
        "  - `PS3`;\n",
        "* ни одна не выглядит растущей;  \n",
        "* продажи падают:\n",
        "  - `PS4`;\n",
        "  - `XOne`;\n",
        "  - `3DS`;\n",
        "  - `Wii`;\n",
        "  - `WiiU`;\n",
        "  - `PC`;\n",
        "  - `PSV`;\n",
        "  - `X360`;\n",
        "  \n",
        "* потенциально прибыльные:\n",
        "  - `PS4` (только в 2015 прошла свой пик продаж, еще может дать хороший результат);\n",
        "  - `XOne` (только в 2015 прошла свой пик продаж, еще может дать хороший результат);\n",
        "  - `3DS` (пик пройден в 2011, но продажи убывают медленнее, чем у других платформ);\n",
        "  - `PC` (наиболее стабильная платформа, продажи убывают очень медленно и еще могут вырасти)."
      ]
    },
    {
      "cell_type": "markdown",
      "metadata": {
        "id": "JuKDbEvb7Bul"
      },
      "source": [
        "### 3.3. Диаграмма размаха глобальных продаж игр по платформам"
      ]
    },
    {
      "cell_type": "code",
      "execution_count": null,
      "metadata": {
        "id": "a3GcYdIv7DDC",
        "outputId": "ce37ee38-9973-4bda-a159-c32c6d4890a3"
      },
      "outputs": [
        {
          "data": {
            "image/png": "[encoded data removed]",
            "text/plain": [
              "<Figure size 1800x360 with 1 Axes>"
            ]
          },
          "metadata": {
            "needs_background": "light"
          },
          "output_type": "display_data"
        }
      ],
      "source": [
        "plt.figure(figsize=(25,5))\n",
        "\n",
        "sns.boxplot(\n",
        "    data=data.query(\n",
        "    'platform in [\"PS4\", \"XOne\", \"3DS\", \"PS3\"] and year_of_release in [2014, 2015, 2016]'\n",
        "    ),\n",
        "    x='total_sales',\n",
        "    y='platform',\n",
        "    orient='h'\n",
        ")\n",
        "plt.xlabel('глобальные продажи, млн. копий')\n",
        "plt.ylabel('платформы')\n",
        "plt.title('Диаграммы размаха глобальных продаж игр популярных платформ за 2014-2016 гг')\n",
        "plt.show()"
      ]
    },
    {
      "cell_type": "markdown",
      "metadata": {
        "id": "e7r6XshP7Hq1"
      },
      "source": [
        "**Промежуточные выводы по графику:**\n",
        "\n",
        "* медианное значение глобальных продаж среди всех платформ гораздо ближе к 0, чем к наибольшим значениям, это говорит о большом количестве плохо продающихся игр и копенсации этого за счет меньшего количества очень успешных игр;\n",
        "* это подтверждается наличием у каждой из платформ значительного числа выбивающихся значений справа, а также длинными \"усами\" справа;\n",
        "* самыми протяженными в сторону увеличения являются значения продаж платформ:\n",
        "  - `PS4`;\n",
        "  - `XOne`;\n",
        "* наименее растянут (и наиболее близок к 0) \"ящик\" продаж платформы `PSV`.\n",
        "\n"
      ]
    },
    {
      "cell_type": "markdown",
      "metadata": {
        "id": "oTJ05RkR7M1a"
      },
      "source": [
        "### 3.4. Влияние отзывов пользователей и критиков на продажи   "
      ]
    },
    {
      "cell_type": "markdown",
      "metadata": {
        "id": "MgsI6ailcZcw"
      },
      "source": [
        "Построим диаграмму рассеяния и посчитаем корреляцию между отзывами и продажами для платформы `PS3`."
      ]
    },
    {
      "cell_type": "code",
      "execution_count": null,
      "metadata": {
        "colab": {
          "base_uri": "https://localhost:8080/",
          "height": 947
        },
        "id": "hX-G4CBD7EUx",
        "outputId": "0f50b503-344d-4beb-ab45-ad825ff63bd8"
      },
      "outputs": [
        {
          "data": {
            "text/html": [
              "<div>\n",
              "<style scoped>\n",
              "    .dataframe tbody tr th:only-of-type {\n",
              "        vertical-align: middle;\n",
              "    }\n",
              "\n",
              "    .dataframe tbody tr th {\n",
              "        vertical-align: top;\n",
              "    }\n",
              "\n",
              "    .dataframe thead th {\n",
              "        text-align: right;\n",
              "    }\n",
              "</style>\n",
              "<table border=\"1\" class=\"dataframe\">\n",
              "  <thead>\n",
              "    <tr style=\"text-align: right;\">\n",
              "      <th></th>\n",
              "      <th>name</th>\n",
              "      <th>platform</th>\n",
              "      <th>year_of_release</th>\n",
              "      <th>genre</th>\n",
              "      <th>na_sales</th>\n",
              "      <th>eu_sales</th>\n",
              "      <th>jp_sales</th>\n",
              "      <th>other_sales</th>\n",
              "      <th>critic_score</th>\n",
              "      <th>user_score</th>\n",
              "      <th>rating</th>\n",
              "      <th>total_sales</th>\n",
              "    </tr>\n",
              "  </thead>\n",
              "  <tbody>\n",
              "    <tr>\n",
              "      <th>16</th>\n",
              "      <td>Grand Theft Auto V</td>\n",
              "      <td>PS3</td>\n",
              "      <td>2013</td>\n",
              "      <td>Action</td>\n",
              "      <td>7.02</td>\n",
              "      <td>9.09</td>\n",
              "      <td>0.98</td>\n",
              "      <td>3.96</td>\n",
              "      <td>97.0</td>\n",
              "      <td>8.2</td>\n",
              "      <td>M</td>\n",
              "      <td>21.05</td>\n",
              "    </tr>\n",
              "    <tr>\n",
              "      <th>34</th>\n",
              "      <td>Call of Duty: Black Ops II</td>\n",
              "      <td>PS3</td>\n",
              "      <td>2012</td>\n",
              "      <td>Shooter</td>\n",
              "      <td>4.99</td>\n",
              "      <td>5.73</td>\n",
              "      <td>0.65</td>\n",
              "      <td>2.42</td>\n",
              "      <td>83.0</td>\n",
              "      <td>5.3</td>\n",
              "      <td>M</td>\n",
              "      <td>13.79</td>\n",
              "    </tr>\n",
              "    <tr>\n",
              "      <th>37</th>\n",
              "      <td>Call of Duty: Modern Warfare 3</td>\n",
              "      <td>PS3</td>\n",
              "      <td>2011</td>\n",
              "      <td>Shooter</td>\n",
              "      <td>5.54</td>\n",
              "      <td>5.73</td>\n",
              "      <td>0.49</td>\n",
              "      <td>1.57</td>\n",
              "      <td>88.0</td>\n",
              "      <td>3.2</td>\n",
              "      <td>M</td>\n",
              "      <td>13.33</td>\n",
              "    </tr>\n",
              "    <tr>\n",
              "      <th>41</th>\n",
              "      <td>Call of Duty: Black Ops</td>\n",
              "      <td>PS3</td>\n",
              "      <td>2010</td>\n",
              "      <td>Shooter</td>\n",
              "      <td>5.99</td>\n",
              "      <td>4.37</td>\n",
              "      <td>0.48</td>\n",
              "      <td>1.79</td>\n",
              "      <td>88.0</td>\n",
              "      <td>6.4</td>\n",
              "      <td>M</td>\n",
              "      <td>12.63</td>\n",
              "    </tr>\n",
              "    <tr>\n",
              "      <th>54</th>\n",
              "      <td>Gran Turismo 5</td>\n",
              "      <td>PS3</td>\n",
              "      <td>2010</td>\n",
              "      <td>Racing</td>\n",
              "      <td>2.96</td>\n",
              "      <td>4.82</td>\n",
              "      <td>0.81</td>\n",
              "      <td>2.11</td>\n",
              "      <td>84.0</td>\n",
              "      <td>7.5</td>\n",
              "      <td>E</td>\n",
              "      <td>10.70</td>\n",
              "    </tr>\n",
              "  </tbody>\n",
              "</table>\n",
              "</div>"
            ],
            "text/plain": [
              "                              name platform  year_of_release    genre  \\\n",
              "16              Grand Theft Auto V      PS3             2013   Action   \n",
              "34      Call of Duty: Black Ops II      PS3             2012  Shooter   \n",
              "37  Call of Duty: Modern Warfare 3      PS3             2011  Shooter   \n",
              "41         Call of Duty: Black Ops      PS3             2010  Shooter   \n",
              "54                  Gran Turismo 5      PS3             2010   Racing   \n",
              "\n",
              "    na_sales  eu_sales  jp_sales  other_sales  critic_score  user_score  \\\n",
              "16      7.02      9.09      0.98         3.96          97.0         8.2   \n",
              "34      4.99      5.73      0.65         2.42          83.0         5.3   \n",
              "37      5.54      5.73      0.49         1.57          88.0         3.2   \n",
              "41      5.99      4.37      0.48         1.79          88.0         6.4   \n",
              "54      2.96      4.82      0.81         2.11          84.0         7.5   \n",
              "\n",
              "   rating  total_sales  \n",
              "16      M        21.05  \n",
              "34      M        13.79  \n",
              "37      M        13.33  \n",
              "41      M        12.63  \n",
              "54      E        10.70  "
            ]
          },
          "metadata": {},
          "output_type": "display_data"
        },
        {
          "name": "stdout",
          "output_type": "stream",
          "text": [
            "Корреляция между critic_score и total_sales: 0.36\n",
            "Корреляция между user_score и total_sales: 0.27\n"
          ]
        },
        {
          "data": {
            "image/png": "[encoded data removed]",
            "text/plain": [
              "<Figure size 432x288 with 9 Axes>"
            ]
          },
          "metadata": {
            "needs_background": "light"
          },
          "output_type": "display_data"
        }
      ],
      "source": [
        "data_ps3 = data.loc[data['platform']=='PS3']\n",
        "display(data_ps3.head())\n",
        "\n",
        "\n",
        "pd.plotting.scatter_matrix(\n",
        "    data_ps3[['critic_score', 'user_score', 'total_sales']],\n",
        "    alpha=0.3)\n",
        "\n",
        "print(\n",
        "    'Корреляция между critic_score и total_sales:',\n",
        "    round(data_ps3['critic_score'].corr(data_ps3['total_sales']), 2)\n",
        "    )\n",
        "\n",
        "print(\n",
        "    'Корреляция между user_score и total_sales:',\n",
        "    round(data_ps3['user_score'].corr(data_ps3['total_sales']), 2)\n",
        "    )"
      ]
    },
    {
      "cell_type": "code",
      "execution_count": null,
      "metadata": {
        "colab": {
          "base_uri": "https://localhost:8080/",
          "height": 783
        },
        "id": "oCX8T8nfmrpM",
        "outputId": "57c51cc6-a1c5-46d7-bd26-a6a9194de856"
      },
      "outputs": [
        {
          "data": {
            "text/html": [
              "<div>\n",
              "<style scoped>\n",
              "    .dataframe tbody tr th:only-of-type {\n",
              "        vertical-align: middle;\n",
              "    }\n",
              "\n",
              "    .dataframe tbody tr th {\n",
              "        vertical-align: top;\n",
              "    }\n",
              "\n",
              "    .dataframe thead th {\n",
              "        text-align: right;\n",
              "    }\n",
              "</style>\n",
              "<table border=\"1\" class=\"dataframe\">\n",
              "  <thead>\n",
              "    <tr style=\"text-align: right;\">\n",
              "      <th></th>\n",
              "      <th>Платформа</th>\n",
              "      <th>Корреляция между оценкой пользователей и глобальными продажами</th>\n",
              "      <th>Корреляция между оценкой критиков и глобальными продажами</th>\n",
              "    </tr>\n",
              "  </thead>\n",
              "  <tbody>\n",
              "    <tr>\n",
              "      <th>0</th>\n",
              "      <td>3DS</td>\n",
              "      <td>0.17</td>\n",
              "      <td>0.17</td>\n",
              "    </tr>\n",
              "    <tr>\n",
              "      <th>1</th>\n",
              "      <td>PC</td>\n",
              "      <td>0.08</td>\n",
              "      <td>0.08</td>\n",
              "    </tr>\n",
              "    <tr>\n",
              "      <th>2</th>\n",
              "      <td>PS3</td>\n",
              "      <td>0.36</td>\n",
              "      <td>0.36</td>\n",
              "    </tr>\n",
              "    <tr>\n",
              "      <th>3</th>\n",
              "      <td>PS4</td>\n",
              "      <td>0.23</td>\n",
              "      <td>0.23</td>\n",
              "    </tr>\n",
              "    <tr>\n",
              "      <th>4</th>\n",
              "      <td>PSP</td>\n",
              "      <td>0.34</td>\n",
              "      <td>0.34</td>\n",
              "    </tr>\n",
              "    <tr>\n",
              "      <th>5</th>\n",
              "      <td>PSV</td>\n",
              "      <td>0.40</td>\n",
              "      <td>0.40</td>\n",
              "    </tr>\n",
              "    <tr>\n",
              "      <th>6</th>\n",
              "      <td>Wii</td>\n",
              "      <td>0.19</td>\n",
              "      <td>0.19</td>\n",
              "    </tr>\n",
              "    <tr>\n",
              "      <th>7</th>\n",
              "      <td>WiiU</td>\n",
              "      <td>0.30</td>\n",
              "      <td>0.30</td>\n",
              "    </tr>\n",
              "    <tr>\n",
              "      <th>8</th>\n",
              "      <td>X360</td>\n",
              "      <td>0.31</td>\n",
              "      <td>0.31</td>\n",
              "    </tr>\n",
              "    <tr>\n",
              "      <th>9</th>\n",
              "      <td>XOne</td>\n",
              "      <td>0.27</td>\n",
              "      <td>0.27</td>\n",
              "    </tr>\n",
              "  </tbody>\n",
              "</table>\n",
              "</div>"
            ],
            "text/plain": [
              "  Платформа  Корреляция между оценкой пользователей и глобальными продажами  \\\n",
              "0       3DS                                               0.17                \n",
              "1        PC                                               0.08                \n",
              "2       PS3                                               0.36                \n",
              "3       PS4                                               0.23                \n",
              "4       PSP                                               0.34                \n",
              "5       PSV                                               0.40                \n",
              "6       Wii                                               0.19                \n",
              "7      WiiU                                               0.30                \n",
              "8      X360                                               0.31                \n",
              "9      XOne                                               0.27                \n",
              "\n",
              "   Корреляция между оценкой критиков и глобальными продажами  \n",
              "0                                               0.17          \n",
              "1                                               0.08          \n",
              "2                                               0.36          \n",
              "3                                               0.23          \n",
              "4                                               0.34          \n",
              "5                                               0.40          \n",
              "6                                               0.19          \n",
              "7                                               0.30          \n",
              "8                                               0.31          \n",
              "9                                               0.27          "
            ]
          },
          "metadata": {},
          "output_type": "display_data"
        }
      ],
      "source": [
        "platforms = []\n",
        "corr_user_sales = []\n",
        "corr_critic_sales = []\n",
        "\n",
        "for platform in platform_pivot['platform']:\n",
        "\n",
        "  platforms.append(platform)\n",
        "\n",
        "  corr_user_sales.append(round(\n",
        "          data.loc[data['platform']==platform, 'critic_score'].corr(data.loc[data['platform']==platform, 'total_sales']),\n",
        "          2\n",
        "          )\n",
        "  )\n",
        "\n",
        "  corr_critic_sales.append(round(\n",
        "      data.loc[data['platform']==platform, 'critic_score'].corr(data.loc[data['platform']==platform, 'total_sales']),\n",
        "      2\n",
        "      )\n",
        "  )\n",
        "\n",
        "platforms_corr = pd.DataFrame({\n",
        "    'Платформа': platforms,\n",
        "    'Корреляция между оценкой пользователей и глобальными продажами': corr_user_sales,\n",
        "    'Корреляция между оценкой критиков и глобальными продажами': corr_critic_sales\n",
        "    })\n",
        "\n",
        "display(platforms_corr)"
      ]
    },
    {
      "cell_type": "markdown",
      "metadata": {
        "id": "7v-THG-b7Siy"
      },
      "source": [
        "**Промежуточные выводы:**\n",
        "\n",
        "1. Оценки пользователей и критиков практически не влияют на продажи игр на PS3.\n",
        "\n",
        "2. С другими платформами все обстоит так же."
      ]
    },
    {
      "cell_type": "markdown",
      "metadata": {
        "id": "8_ZDnk2N7DDD"
      },
      "source": [
        "<div class=\"alert-success\">\n",
        "<b>Комментарий ревьюера 👍 Вторая итерация </b>\n",
        "\n",
        "Хорошие диаграммы рассеивания. Корреляция тоже подсчитана верно"
      ]
    },
    {
      "cell_type": "markdown",
      "metadata": {
        "id": "VnJzlri07aH5"
      },
      "source": [
        "### 3.5. Распределение игр по жанрам\n",
        "\n",
        "Для определения общей популярности жанров найдем медианное значение глобальных продаж каждого жанра за 2014-2016 годы."
      ]
    },
    {
      "cell_type": "code",
      "execution_count": null,
      "metadata": {
        "colab": {
          "base_uri": "https://localhost:8080/",
          "height": 912
        },
        "id": "SPDaPiIF7Vjr",
        "outputId": "c86e0494-63dc-4715-df5f-37fed358a758"
      },
      "outputs": [
        {
          "data": {
            "text/html": [
              "<div>\n",
              "<style scoped>\n",
              "    .dataframe tbody tr th:only-of-type {\n",
              "        vertical-align: middle;\n",
              "    }\n",
              "\n",
              "    .dataframe tbody tr th {\n",
              "        vertical-align: top;\n",
              "    }\n",
              "\n",
              "    .dataframe thead th {\n",
              "        text-align: right;\n",
              "    }\n",
              "</style>\n",
              "<table border=\"1\" class=\"dataframe\">\n",
              "  <thead>\n",
              "    <tr style=\"text-align: right;\">\n",
              "      <th></th>\n",
              "      <th>total_sales</th>\n",
              "    </tr>\n",
              "    <tr>\n",
              "      <th>genre</th>\n",
              "      <th></th>\n",
              "    </tr>\n",
              "  </thead>\n",
              "  <tbody>\n",
              "    <tr>\n",
              "      <th>Adventure</th>\n",
              "      <td>0.030</td>\n",
              "    </tr>\n",
              "    <tr>\n",
              "      <th>Puzzle</th>\n",
              "      <td>0.045</td>\n",
              "    </tr>\n",
              "    <tr>\n",
              "      <th>Strategy</th>\n",
              "      <td>0.060</td>\n",
              "    </tr>\n",
              "    <tr>\n",
              "      <th>Action</th>\n",
              "      <td>0.090</td>\n",
              "    </tr>\n",
              "    <tr>\n",
              "      <th>Misc</th>\n",
              "      <td>0.090</td>\n",
              "    </tr>\n",
              "    <tr>\n",
              "      <th>Racing</th>\n",
              "      <td>0.090</td>\n",
              "    </tr>\n",
              "    <tr>\n",
              "      <th>Simulation</th>\n",
              "      <td>0.100</td>\n",
              "    </tr>\n",
              "    <tr>\n",
              "      <th>Role-Playing</th>\n",
              "      <td>0.110</td>\n",
              "    </tr>\n",
              "    <tr>\n",
              "      <th>Fighting</th>\n",
              "      <td>0.125</td>\n",
              "    </tr>\n",
              "    <tr>\n",
              "      <th>Platform</th>\n",
              "      <td>0.140</td>\n",
              "    </tr>\n",
              "    <tr>\n",
              "      <th>Sports</th>\n",
              "      <td>0.180</td>\n",
              "    </tr>\n",
              "    <tr>\n",
              "      <th>Shooter</th>\n",
              "      <td>0.515</td>\n",
              "    </tr>\n",
              "  </tbody>\n",
              "</table>\n",
              "</div>"
            ],
            "text/plain": [
              "              total_sales\n",
              "genre                    \n",
              "Adventure           0.030\n",
              "Puzzle              0.045\n",
              "Strategy            0.060\n",
              "Action              0.090\n",
              "Misc                0.090\n",
              "Racing              0.090\n",
              "Simulation          0.100\n",
              "Role-Playing        0.110\n",
              "Fighting            0.125\n",
              "Platform            0.140\n",
              "Sports              0.180\n",
              "Shooter             0.515"
            ]
          },
          "metadata": {},
          "output_type": "display_data"
        },
        {
          "data": {
            "image/png": "[encoded data removed]",
            "text/plain": [
              "<Figure size 432x288 with 1 Axes>"
            ]
          },
          "metadata": {
            "needs_background": "light"
          },
          "output_type": "display_data"
        }
      ],
      "source": [
        "genre_pivot = data.loc[data['year_of_release']>2013].pivot_table(\n",
        "    index='genre',\n",
        "    values='total_sales',\n",
        "    aggfunc='median'\n",
        ")\n",
        "\n",
        "display(genre_pivot.sort_values(by='total_sales'))\n",
        "\n",
        "plt.barh(\n",
        "    genre_pivot.index,\n",
        "    width=genre_pivot['total_sales'])\n",
        "plt.title('Продажи по жанрам')\n",
        "plt.xlabel('продажи, млн. копий')\n",
        "plt.ylabel('жанр')\n",
        "plt.show()"
      ]
    },
    {
      "cell_type": "markdown",
      "metadata": {
        "id": "a8IEiH8T7env"
      },
      "source": [
        "**Промежуточные выводы:**\n",
        "\n",
        "* самые популярные жанры:\n",
        "  - `shooter`;\n",
        "  - `sports`;\n",
        "  - `platform`;\n",
        "  - `fighting`;\n",
        "* явно выделяется наипопулярнейший жанр - `shooter` (с большим отрывом от всех остальных);\n",
        "* наименее популярные жанры (с ощутимым отрывом друг от друга и от остальных):\n",
        "  - `strategy`;\n",
        "  - `puzzle`;\n",
        "  - `adventure`."
      ]
    },
    {
      "cell_type": "markdown",
      "metadata": {
        "id": "2eYYwSWJvWNo"
      },
      "source": [
        "### **Выводы по шагу 3:**\n",
        "\n",
        "1. В 1980-1990-е годы выпускалось сравнительно мало игр, пик выпуска игр приходится на 2008-2009 годы, после этого количество игр устойсиво снижалось с небольшим подъемом в 2015 году. В дальнейшем анализе рассматривались данные за 2014-2016 годы.\n",
        "\n",
        "2. С помощью графика `heatmap` определили:\n",
        "* примерный цикл популярности платформы длится 5-6 лет\n",
        "* лидируют по продажам:\n",
        "  - `PS4`;\n",
        "  - `XOne`;\n",
        "  - `3DS`;\n",
        "  - `PS3`;\n",
        "* ни одна платформа не выглядит растущей;  \n",
        "* продажи так или иначе падают у всех платформ, для которых еще продолжают выпускаться игры;\n",
        "* потенциально прибыльными можно назвать платформы:\n",
        "  - `PS4` (только в 2015 прошла свой пик продаж, еще может дать хороший результат);\n",
        "  - `XOne` (только в 2015 прошла свой пик продаж, еще может дать хороший результат);\n",
        "  - `3DS` (пик пройден еще в 2011, но продажи убывают медленнее, чем у других платформ);\n",
        "  - `PC` (наиболее стабильная платформа, продажи убывают очень медленно и еще могут вырасти).\n",
        "\n",
        "3. С помощью графика `boxplot` обнаружили следующие характеристики глобальных продаж по платформам:\n",
        "* медианное значение глобальных продаж среди всех платформ гораздо ближе к 0, чем к наибольшим значениям, это говорит о большом количестве плохо продающихся игр и копенсации этого за счет меньшего количества очень успешных игр;\n",
        "* это подтверждается наличием у каждой из платформ значительного числа выбивающихся значений справа, а также длинными \"усами\" справа;\n",
        "* самыми протяженными в сторону увеличения являются значения продаж платформ:\n",
        "  - `PS4`;\n",
        "  - `XOne`;\n",
        "* наименее растянут (и наиболее близок к 0) \"ящик\" продаж платформы `PSV`.\n",
        "\n",
        "4. Удостоверились, что оценки критиков и пользователей практически не влияют на глобальные продажи.\n",
        "5. Рассмотрели, как игры распределены по жанрам, и пришли к заключениям:\n",
        "* самые популярные жанры:\n",
        "  - `shooter`;\n",
        "  - `sports`;\n",
        "  - `platform`;\n",
        "  - `fighting`;\n",
        "* явно выделяется наипопулярнейший жанр - `shooter` (с большим отрывом от всех остальных);\n",
        "* наименее популярные жанры (с ощутимым отрывом друг от друга и от остальных):\n",
        "  - `strategy`;\n",
        "  - `puzzle`;\n",
        "  - `adventure`."
      ]
    },
    {
      "cell_type": "markdown",
      "metadata": {
        "id": "NhdDjyZn7tFu"
      },
      "source": [
        "## Шаг 4. Портрет пользователя каждого региона"
      ]
    },
    {
      "cell_type": "markdown",
      "metadata": {
        "id": "vg5A-ijF7vo1"
      },
      "source": [
        "### 4.1. Самые популярные платформы по регионам"
      ]
    },
    {
      "cell_type": "markdown",
      "metadata": {
        "id": "7__hXqLb1M6v"
      },
      "source": [
        "Создадим датафрейм с суммарными продажами всех платформ в каждом регионе за период 2014-2016 гг.\n",
        "\n",
        "Добавим столбцы с рассчитанной долей региональных продаж платформы в глобальных продажах.\n",
        "\n",
        "И выведем топ-5 платформ для каждого региона:\n",
        "* Северная Америка;\n",
        "* Европа;\n",
        "* Япония."
      ]
    },
    {
      "cell_type": "code",
      "execution_count": null,
      "metadata": {
        "colab": {
          "base_uri": "https://localhost:8080/",
          "height": 1000
        },
        "id": "QMjgGlVh7g2k",
        "outputId": "835ca00f-ae33-4ac3-e127-3524f809722e"
      },
      "outputs": [
        {
          "data": {
            "text/html": [
              "<div>\n",
              "<style scoped>\n",
              "    .dataframe tbody tr th:only-of-type {\n",
              "        vertical-align: middle;\n",
              "    }\n",
              "\n",
              "    .dataframe tbody tr th {\n",
              "        vertical-align: top;\n",
              "    }\n",
              "\n",
              "    .dataframe thead th {\n",
              "        text-align: right;\n",
              "    }\n",
              "</style>\n",
              "<table border=\"1\" class=\"dataframe\">\n",
              "  <thead>\n",
              "    <tr style=\"text-align: right;\">\n",
              "      <th></th>\n",
              "      <th>eu_sales</th>\n",
              "      <th>na_sales</th>\n",
              "      <th>jp_sales</th>\n",
              "      <th>total_sales</th>\n",
              "      <th>eu_percentage</th>\n",
              "      <th>na_percentage</th>\n",
              "      <th>jp_percentage</th>\n",
              "    </tr>\n",
              "    <tr>\n",
              "      <th>platform</th>\n",
              "      <th></th>\n",
              "      <th></th>\n",
              "      <th></th>\n",
              "      <th></th>\n",
              "      <th></th>\n",
              "      <th></th>\n",
              "      <th></th>\n",
              "    </tr>\n",
              "  </thead>\n",
              "  <tbody>\n",
              "    <tr>\n",
              "      <th>3DS</th>\n",
              "      <td>16.12</td>\n",
              "      <td>22.64</td>\n",
              "      <td>44.24</td>\n",
              "      <td>86.68</td>\n",
              "      <td>18.60</td>\n",
              "      <td>26.12</td>\n",
              "      <td>51.04</td>\n",
              "    </tr>\n",
              "    <tr>\n",
              "      <th>PC</th>\n",
              "      <td>17.97</td>\n",
              "      <td>7.23</td>\n",
              "      <td>0.00</td>\n",
              "      <td>27.05</td>\n",
              "      <td>66.43</td>\n",
              "      <td>26.73</td>\n",
              "      <td>0.00</td>\n",
              "    </tr>\n",
              "    <tr>\n",
              "      <th>PS3</th>\n",
              "      <td>25.54</td>\n",
              "      <td>22.05</td>\n",
              "      <td>11.22</td>\n",
              "      <td>68.18</td>\n",
              "      <td>37.46</td>\n",
              "      <td>32.34</td>\n",
              "      <td>16.46</td>\n",
              "    </tr>\n",
              "    <tr>\n",
              "      <th>PS4</th>\n",
              "      <td>130.04</td>\n",
              "      <td>98.61</td>\n",
              "      <td>15.02</td>\n",
              "      <td>288.15</td>\n",
              "      <td>45.13</td>\n",
              "      <td>34.22</td>\n",
              "      <td>5.21</td>\n",
              "    </tr>\n",
              "    <tr>\n",
              "      <th>PSP</th>\n",
              "      <td>0.00</td>\n",
              "      <td>0.00</td>\n",
              "      <td>0.36</td>\n",
              "      <td>0.36</td>\n",
              "      <td>0.00</td>\n",
              "      <td>0.00</td>\n",
              "      <td>100.00</td>\n",
              "    </tr>\n",
              "    <tr>\n",
              "      <th>PSV</th>\n",
              "      <td>3.53</td>\n",
              "      <td>2.52</td>\n",
              "      <td>14.54</td>\n",
              "      <td>22.40</td>\n",
              "      <td>15.76</td>\n",
              "      <td>11.25</td>\n",
              "      <td>64.91</td>\n",
              "    </tr>\n",
              "    <tr>\n",
              "      <th>Wii</th>\n",
              "      <td>2.59</td>\n",
              "      <td>2.08</td>\n",
              "      <td>0.00</td>\n",
              "      <td>5.07</td>\n",
              "      <td>51.08</td>\n",
              "      <td>41.03</td>\n",
              "      <td>0.00</td>\n",
              "    </tr>\n",
              "    <tr>\n",
              "      <th>WiiU</th>\n",
              "      <td>13.15</td>\n",
              "      <td>19.36</td>\n",
              "      <td>7.31</td>\n",
              "      <td>42.98</td>\n",
              "      <td>30.60</td>\n",
              "      <td>45.04</td>\n",
              "      <td>17.01</td>\n",
              "    </tr>\n",
              "    <tr>\n",
              "      <th>X360</th>\n",
              "      <td>15.49</td>\n",
              "      <td>28.30</td>\n",
              "      <td>0.08</td>\n",
              "      <td>48.22</td>\n",
              "      <td>32.12</td>\n",
              "      <td>58.69</td>\n",
              "      <td>0.17</td>\n",
              "    </tr>\n",
              "    <tr>\n",
              "      <th>XOne</th>\n",
              "      <td>46.25</td>\n",
              "      <td>81.27</td>\n",
              "      <td>0.32</td>\n",
              "      <td>140.36</td>\n",
              "      <td>32.95</td>\n",
              "      <td>57.90</td>\n",
              "      <td>0.23</td>\n",
              "    </tr>\n",
              "  </tbody>\n",
              "</table>\n",
              "</div>"
            ],
            "text/plain": [
              "          eu_sales  na_sales  jp_sales  total_sales  eu_percentage  \\\n",
              "platform                                                             \n",
              "3DS          16.12     22.64     44.24        86.68          18.60   \n",
              "PC           17.97      7.23      0.00        27.05          66.43   \n",
              "PS3          25.54     22.05     11.22        68.18          37.46   \n",
              "PS4         130.04     98.61     15.02       288.15          45.13   \n",
              "PSP           0.00      0.00      0.36         0.36           0.00   \n",
              "PSV           3.53      2.52     14.54        22.40          15.76   \n",
              "Wii           2.59      2.08      0.00         5.07          51.08   \n",
              "WiiU         13.15     19.36      7.31        42.98          30.60   \n",
              "X360         15.49     28.30      0.08        48.22          32.12   \n",
              "XOne         46.25     81.27      0.32       140.36          32.95   \n",
              "\n",
              "          na_percentage  jp_percentage  \n",
              "platform                                \n",
              "3DS               26.12          51.04  \n",
              "PC                26.73           0.00  \n",
              "PS3               32.34          16.46  \n",
              "PS4               34.22           5.21  \n",
              "PSP                0.00         100.00  \n",
              "PSV               11.25          64.91  \n",
              "Wii               41.03           0.00  \n",
              "WiiU              45.04          17.01  \n",
              "X360              58.69           0.17  \n",
              "XOne              57.90           0.23  "
            ]
          },
          "metadata": {},
          "output_type": "display_data"
        },
        {
          "name": "stdout",
          "output_type": "stream",
          "text": [
            "\n",
            "Топ-5 самых популярных платформ в Северной Америке\n"
          ]
        },
        {
          "data": {
            "text/html": [
              "<div>\n",
              "<style scoped>\n",
              "    .dataframe tbody tr th:only-of-type {\n",
              "        vertical-align: middle;\n",
              "    }\n",
              "\n",
              "    .dataframe tbody tr th {\n",
              "        vertical-align: top;\n",
              "    }\n",
              "\n",
              "    .dataframe thead th {\n",
              "        text-align: right;\n",
              "    }\n",
              "</style>\n",
              "<table border=\"1\" class=\"dataframe\">\n",
              "  <thead>\n",
              "    <tr style=\"text-align: right;\">\n",
              "      <th></th>\n",
              "      <th>na_sales</th>\n",
              "      <th>na_percentage</th>\n",
              "    </tr>\n",
              "    <tr>\n",
              "      <th>platform</th>\n",
              "      <th></th>\n",
              "      <th></th>\n",
              "    </tr>\n",
              "  </thead>\n",
              "  <tbody>\n",
              "    <tr>\n",
              "      <th>PS4</th>\n",
              "      <td>98.61</td>\n",
              "      <td>34.22</td>\n",
              "    </tr>\n",
              "    <tr>\n",
              "      <th>XOne</th>\n",
              "      <td>81.27</td>\n",
              "      <td>57.90</td>\n",
              "    </tr>\n",
              "    <tr>\n",
              "      <th>X360</th>\n",
              "      <td>28.30</td>\n",
              "      <td>58.69</td>\n",
              "    </tr>\n",
              "    <tr>\n",
              "      <th>3DS</th>\n",
              "      <td>22.64</td>\n",
              "      <td>26.12</td>\n",
              "    </tr>\n",
              "    <tr>\n",
              "      <th>PS3</th>\n",
              "      <td>22.05</td>\n",
              "      <td>32.34</td>\n",
              "    </tr>\n",
              "  </tbody>\n",
              "</table>\n",
              "</div>"
            ],
            "text/plain": [
              "          na_sales  na_percentage\n",
              "platform                         \n",
              "PS4          98.61          34.22\n",
              "XOne         81.27          57.90\n",
              "X360         28.30          58.69\n",
              "3DS          22.64          26.12\n",
              "PS3          22.05          32.34"
            ]
          },
          "metadata": {},
          "output_type": "display_data"
        },
        {
          "name": "stdout",
          "output_type": "stream",
          "text": [
            "\n",
            "Топ-5 самых популярных платформ в Европе\n"
          ]
        },
        {
          "data": {
            "text/html": [
              "<div>\n",
              "<style scoped>\n",
              "    .dataframe tbody tr th:only-of-type {\n",
              "        vertical-align: middle;\n",
              "    }\n",
              "\n",
              "    .dataframe tbody tr th {\n",
              "        vertical-align: top;\n",
              "    }\n",
              "\n",
              "    .dataframe thead th {\n",
              "        text-align: right;\n",
              "    }\n",
              "</style>\n",
              "<table border=\"1\" class=\"dataframe\">\n",
              "  <thead>\n",
              "    <tr style=\"text-align: right;\">\n",
              "      <th></th>\n",
              "      <th>eu_sales</th>\n",
              "      <th>eu_percentage</th>\n",
              "    </tr>\n",
              "    <tr>\n",
              "      <th>platform</th>\n",
              "      <th></th>\n",
              "      <th></th>\n",
              "    </tr>\n",
              "  </thead>\n",
              "  <tbody>\n",
              "    <tr>\n",
              "      <th>PS4</th>\n",
              "      <td>130.04</td>\n",
              "      <td>45.13</td>\n",
              "    </tr>\n",
              "    <tr>\n",
              "      <th>XOne</th>\n",
              "      <td>46.25</td>\n",
              "      <td>32.95</td>\n",
              "    </tr>\n",
              "    <tr>\n",
              "      <th>PS3</th>\n",
              "      <td>25.54</td>\n",
              "      <td>37.46</td>\n",
              "    </tr>\n",
              "    <tr>\n",
              "      <th>PC</th>\n",
              "      <td>17.97</td>\n",
              "      <td>66.43</td>\n",
              "    </tr>\n",
              "    <tr>\n",
              "      <th>3DS</th>\n",
              "      <td>16.12</td>\n",
              "      <td>18.60</td>\n",
              "    </tr>\n",
              "  </tbody>\n",
              "</table>\n",
              "</div>"
            ],
            "text/plain": [
              "          eu_sales  eu_percentage\n",
              "platform                         \n",
              "PS4         130.04          45.13\n",
              "XOne         46.25          32.95\n",
              "PS3          25.54          37.46\n",
              "PC           17.97          66.43\n",
              "3DS          16.12          18.60"
            ]
          },
          "metadata": {},
          "output_type": "display_data"
        },
        {
          "name": "stdout",
          "output_type": "stream",
          "text": [
            "\n",
            "Топ-5 самых популярных платформ в Японии\n"
          ]
        },
        {
          "data": {
            "text/html": [
              "<div>\n",
              "<style scoped>\n",
              "    .dataframe tbody tr th:only-of-type {\n",
              "        vertical-align: middle;\n",
              "    }\n",
              "\n",
              "    .dataframe tbody tr th {\n",
              "        vertical-align: top;\n",
              "    }\n",
              "\n",
              "    .dataframe thead th {\n",
              "        text-align: right;\n",
              "    }\n",
              "</style>\n",
              "<table border=\"1\" class=\"dataframe\">\n",
              "  <thead>\n",
              "    <tr style=\"text-align: right;\">\n",
              "      <th></th>\n",
              "      <th>jp_sales</th>\n",
              "      <th>jp_percentage</th>\n",
              "    </tr>\n",
              "    <tr>\n",
              "      <th>platform</th>\n",
              "      <th></th>\n",
              "      <th></th>\n",
              "    </tr>\n",
              "  </thead>\n",
              "  <tbody>\n",
              "    <tr>\n",
              "      <th>3DS</th>\n",
              "      <td>44.24</td>\n",
              "      <td>51.04</td>\n",
              "    </tr>\n",
              "    <tr>\n",
              "      <th>PS4</th>\n",
              "      <td>15.02</td>\n",
              "      <td>5.21</td>\n",
              "    </tr>\n",
              "    <tr>\n",
              "      <th>PSV</th>\n",
              "      <td>14.54</td>\n",
              "      <td>64.91</td>\n",
              "    </tr>\n",
              "    <tr>\n",
              "      <th>PS3</th>\n",
              "      <td>11.22</td>\n",
              "      <td>16.46</td>\n",
              "    </tr>\n",
              "    <tr>\n",
              "      <th>WiiU</th>\n",
              "      <td>7.31</td>\n",
              "      <td>17.01</td>\n",
              "    </tr>\n",
              "  </tbody>\n",
              "</table>\n",
              "</div>"
            ],
            "text/plain": [
              "          jp_sales  jp_percentage\n",
              "platform                         \n",
              "3DS          44.24          51.04\n",
              "PS4          15.02           5.21\n",
              "PSV          14.54          64.91\n",
              "PS3          11.22          16.46\n",
              "WiiU          7.31          17.01"
            ]
          },
          "metadata": {},
          "output_type": "display_data"
        },
        {
          "name": "stdout",
          "output_type": "stream",
          "text": [
            "\n"
          ]
        }
      ],
      "source": [
        "regions_pop_platforms = data.loc[data['year_of_release']>2013].groupby('platform')[['eu_sales', 'na_sales', 'jp_sales', 'total_sales']].sum()\n",
        "\n",
        "regions_pop_platforms['eu_percentage'] = round(\n",
        "    (regions_pop_platforms['eu_sales'] / regions_pop_platforms['total_sales']) * 100,\n",
        "    2)\n",
        "regions_pop_platforms['na_percentage'] = round(\n",
        "    (regions_pop_platforms['na_sales'] /regions_pop_platforms['total_sales']) * 100,\n",
        "    2)\n",
        "regions_pop_platforms['jp_percentage'] = round(\n",
        "    (regions_pop_platforms['jp_sales'] /regions_pop_platforms['total_sales']) * 100,\n",
        "    2)\n",
        "\n",
        "display(regions_pop_platforms)\n",
        "print()\n",
        "\n",
        "print('Топ-5 самых популярных платформ в Северной Америке')\n",
        "display(\n",
        "    regions_pop_platforms.loc[:, ['na_sales', 'na_percentage']].sort_values(\n",
        "        by='na_sales',\n",
        "        ascending=False\n",
        "        ).head()\n",
        "    )\n",
        "print()\n",
        "\n",
        "print('Топ-5 самых популярных платформ в Европе')\n",
        "display(\n",
        "    regions_pop_platforms.loc[:, ['eu_sales', 'eu_percentage']].sort_values(\n",
        "        by='eu_sales',\n",
        "        ascending=False\n",
        "        ).head()\n",
        "    )\n",
        "print()\n",
        "\n",
        "print('Топ-5 самых популярных платформ в Японии')\n",
        "display(\n",
        "    regions_pop_platforms.loc[:, ['jp_sales', 'jp_percentage']].sort_values(\n",
        "        by='jp_sales',\n",
        "        ascending=False\n",
        "        ).head()\n",
        "    )\n",
        "print()"
      ]
    },
    {
      "cell_type": "markdown",
      "metadata": {
        "id": "QtsrYb3X749l"
      },
      "source": [
        "**Промежуточные выводы:**\n",
        "\n",
        "* регион с самыми значительными долями в общих продажах - Северная Америка;\n",
        "* регион с наименьшими долями в общих продажах - Япония (за исключением платформы `PSV`, которая пользуется популярностью преимущественно в Японии);\n",
        "* в топы по каждому региону вошли платформы `PS4` и `PS3`, `3DS` (в Японии `3DS` лидирует, а в других регионах располагается ближе к цонцу топа);\n",
        "* в Северной Америке и Европе популярна также `XOne` (причем наиболее значительный вклад в ее глобальные продажи вносит Северная Америка);\n",
        "* в Японии `XOne` не пользуется популярностью, зато популярны `PSV` и `WiiU`."
      ]
    },
    {
      "cell_type": "markdown",
      "metadata": {
        "id": "m0WQXabm7-mr"
      },
      "source": [
        "### 4.2. Самые популярные жанры по регионам"
      ]
    },
    {
      "cell_type": "markdown",
      "metadata": {
        "id": "LSq-d7jE5IBw"
      },
      "source": [
        "Повторим то же самое для жанров.\n",
        "\n",
        "Создадим датафрейм с суммарными и медианными продажами всех жанров в каждом регионе за период 2014-2016 гг.\n",
        "\n",
        "Добавим столбцы с рассчитанной долей региональных продаж жанра в глобальных продажах.\n",
        "\n",
        "\n",
        "И выведем топ-5 жанров для каждого региона (по медиане):\n",
        "* Северная Америка;\n",
        "* Европа;\n",
        "* Япония."
      ]
    },
    {
      "cell_type": "code",
      "execution_count": null,
      "metadata": {
        "id": "FBlQdWma7DDE",
        "outputId": "c8f956de-a799-4e30-f84b-3bfffa00ba07"
      },
      "outputs": [
        {
          "data": {
            "text/html": [
              "<div>\n",
              "<style scoped>\n",
              "    .dataframe tbody tr th:only-of-type {\n",
              "        vertical-align: middle;\n",
              "    }\n",
              "\n",
              "    .dataframe tbody tr th {\n",
              "        vertical-align: top;\n",
              "    }\n",
              "\n",
              "    .dataframe thead th {\n",
              "        text-align: right;\n",
              "    }\n",
              "</style>\n",
              "<table border=\"1\" class=\"dataframe\">\n",
              "  <thead>\n",
              "    <tr style=\"text-align: right;\">\n",
              "      <th></th>\n",
              "      <th>eu_sales_sum</th>\n",
              "      <th>na_sales_sum</th>\n",
              "      <th>jp_sales_sum</th>\n",
              "      <th>total_sales</th>\n",
              "      <th>eu_sales_median</th>\n",
              "      <th>na_sales_median</th>\n",
              "      <th>jp_sales_median</th>\n",
              "      <th>eu_percentage</th>\n",
              "      <th>na_percentage</th>\n",
              "      <th>jp_percentage</th>\n",
              "    </tr>\n",
              "    <tr>\n",
              "      <th>genre</th>\n",
              "      <th></th>\n",
              "      <th></th>\n",
              "      <th></th>\n",
              "      <th></th>\n",
              "      <th></th>\n",
              "      <th></th>\n",
              "      <th></th>\n",
              "      <th></th>\n",
              "      <th></th>\n",
              "      <th></th>\n",
              "    </tr>\n",
              "  </thead>\n",
              "  <tbody>\n",
              "    <tr>\n",
              "      <th>Action</th>\n",
              "      <td>74.68</td>\n",
              "      <td>72.53</td>\n",
              "      <td>29.58</td>\n",
              "      <td>199.36</td>\n",
              "      <td>0.020</td>\n",
              "      <td>0.010</td>\n",
              "      <td>0.01</td>\n",
              "      <td>37.46</td>\n",
              "      <td>36.38</td>\n",
              "      <td>14.84</td>\n",
              "    </tr>\n",
              "    <tr>\n",
              "      <th>Adventure</th>\n",
              "      <td>6.49</td>\n",
              "      <td>5.64</td>\n",
              "      <td>3.60</td>\n",
              "      <td>17.55</td>\n",
              "      <td>0.000</td>\n",
              "      <td>0.000</td>\n",
              "      <td>0.01</td>\n",
              "      <td>36.98</td>\n",
              "      <td>32.14</td>\n",
              "      <td>20.51</td>\n",
              "    </tr>\n",
              "    <tr>\n",
              "      <th>Fighting</th>\n",
              "      <td>6.69</td>\n",
              "      <td>12.43</td>\n",
              "      <td>6.37</td>\n",
              "      <td>28.22</td>\n",
              "      <td>0.020</td>\n",
              "      <td>0.040</td>\n",
              "      <td>0.03</td>\n",
              "      <td>23.71</td>\n",
              "      <td>44.05</td>\n",
              "      <td>22.57</td>\n",
              "    </tr>\n",
              "    <tr>\n",
              "      <th>Misc</th>\n",
              "      <td>12.86</td>\n",
              "      <td>15.05</td>\n",
              "      <td>5.61</td>\n",
              "      <td>37.55</td>\n",
              "      <td>0.010</td>\n",
              "      <td>0.010</td>\n",
              "      <td>0.01</td>\n",
              "      <td>34.25</td>\n",
              "      <td>40.08</td>\n",
              "      <td>14.94</td>\n",
              "    </tr>\n",
              "    <tr>\n",
              "      <th>Platform</th>\n",
              "      <td>6.80</td>\n",
              "      <td>6.79</td>\n",
              "      <td>2.69</td>\n",
              "      <td>18.09</td>\n",
              "      <td>0.055</td>\n",
              "      <td>0.075</td>\n",
              "      <td>0.00</td>\n",
              "      <td>37.59</td>\n",
              "      <td>37.53</td>\n",
              "      <td>14.87</td>\n",
              "    </tr>\n",
              "    <tr>\n",
              "      <th>Puzzle</th>\n",
              "      <td>0.52</td>\n",
              "      <td>0.65</td>\n",
              "      <td>0.93</td>\n",
              "      <td>2.21</td>\n",
              "      <td>0.000</td>\n",
              "      <td>0.000</td>\n",
              "      <td>0.03</td>\n",
              "      <td>23.53</td>\n",
              "      <td>29.41</td>\n",
              "      <td>42.08</td>\n",
              "    </tr>\n",
              "    <tr>\n",
              "      <th>Racing</th>\n",
              "      <td>14.13</td>\n",
              "      <td>8.74</td>\n",
              "      <td>1.76</td>\n",
              "      <td>27.52</td>\n",
              "      <td>0.050</td>\n",
              "      <td>0.030</td>\n",
              "      <td>0.00</td>\n",
              "      <td>51.34</td>\n",
              "      <td>31.76</td>\n",
              "      <td>6.40</td>\n",
              "    </tr>\n",
              "    <tr>\n",
              "      <th>Role-Playing</th>\n",
              "      <td>28.17</td>\n",
              "      <td>33.47</td>\n",
              "      <td>31.16</td>\n",
              "      <td>101.44</td>\n",
              "      <td>0.010</td>\n",
              "      <td>0.020</td>\n",
              "      <td>0.05</td>\n",
              "      <td>27.77</td>\n",
              "      <td>32.99</td>\n",
              "      <td>30.72</td>\n",
              "    </tr>\n",
              "    <tr>\n",
              "      <th>Shooter</th>\n",
              "      <td>65.52</td>\n",
              "      <td>79.02</td>\n",
              "      <td>4.87</td>\n",
              "      <td>170.94</td>\n",
              "      <td>0.220</td>\n",
              "      <td>0.220</td>\n",
              "      <td>0.00</td>\n",
              "      <td>38.33</td>\n",
              "      <td>46.23</td>\n",
              "      <td>2.85</td>\n",
              "    </tr>\n",
              "    <tr>\n",
              "      <th>Simulation</th>\n",
              "      <td>7.30</td>\n",
              "      <td>2.63</td>\n",
              "      <td>2.31</td>\n",
              "      <td>13.13</td>\n",
              "      <td>0.030</td>\n",
              "      <td>0.000</td>\n",
              "      <td>0.00</td>\n",
              "      <td>55.60</td>\n",
              "      <td>20.03</td>\n",
              "      <td>17.59</td>\n",
              "    </tr>\n",
              "    <tr>\n",
              "      <th>Sports</th>\n",
              "      <td>45.73</td>\n",
              "      <td>46.13</td>\n",
              "      <td>3.26</td>\n",
              "      <td>109.48</td>\n",
              "      <td>0.050</td>\n",
              "      <td>0.070</td>\n",
              "      <td>0.00</td>\n",
              "      <td>41.77</td>\n",
              "      <td>42.14</td>\n",
              "      <td>2.98</td>\n",
              "    </tr>\n",
              "    <tr>\n",
              "      <th>Strategy</th>\n",
              "      <td>1.79</td>\n",
              "      <td>0.98</td>\n",
              "      <td>0.95</td>\n",
              "      <td>3.96</td>\n",
              "      <td>0.010</td>\n",
              "      <td>0.000</td>\n",
              "      <td>0.00</td>\n",
              "      <td>45.20</td>\n",
              "      <td>24.75</td>\n",
              "      <td>23.99</td>\n",
              "    </tr>\n",
              "  </tbody>\n",
              "</table>\n",
              "</div>"
            ],
            "text/plain": [
              "              eu_sales_sum  na_sales_sum  jp_sales_sum  total_sales  \\\n",
              "genre                                                                 \n",
              "Action               74.68         72.53         29.58       199.36   \n",
              "Adventure             6.49          5.64          3.60        17.55   \n",
              "Fighting              6.69         12.43          6.37        28.22   \n",
              "Misc                 12.86         15.05          5.61        37.55   \n",
              "Platform              6.80          6.79          2.69        18.09   \n",
              "Puzzle                0.52          0.65          0.93         2.21   \n",
              "Racing               14.13          8.74          1.76        27.52   \n",
              "Role-Playing         28.17         33.47         31.16       101.44   \n",
              "Shooter              65.52         79.02          4.87       170.94   \n",
              "Simulation            7.30          2.63          2.31        13.13   \n",
              "Sports               45.73         46.13          3.26       109.48   \n",
              "Strategy              1.79          0.98          0.95         3.96   \n",
              "\n",
              "              eu_sales_median  na_sales_median  jp_sales_median  \\\n",
              "genre                                                             \n",
              "Action                  0.020            0.010             0.01   \n",
              "Adventure               0.000            0.000             0.01   \n",
              "Fighting                0.020            0.040             0.03   \n",
              "Misc                    0.010            0.010             0.01   \n",
              "Platform                0.055            0.075             0.00   \n",
              "Puzzle                  0.000            0.000             0.03   \n",
              "Racing                  0.050            0.030             0.00   \n",
              "Role-Playing            0.010            0.020             0.05   \n",
              "Shooter                 0.220            0.220             0.00   \n",
              "Simulation              0.030            0.000             0.00   \n",
              "Sports                  0.050            0.070             0.00   \n",
              "Strategy                0.010            0.000             0.00   \n",
              "\n",
              "              eu_percentage  na_percentage  jp_percentage  \n",
              "genre                                                      \n",
              "Action                37.46          36.38          14.84  \n",
              "Adventure             36.98          32.14          20.51  \n",
              "Fighting              23.71          44.05          22.57  \n",
              "Misc                  34.25          40.08          14.94  \n",
              "Platform              37.59          37.53          14.87  \n",
              "Puzzle                23.53          29.41          42.08  \n",
              "Racing                51.34          31.76           6.40  \n",
              "Role-Playing          27.77          32.99          30.72  \n",
              "Shooter               38.33          46.23           2.85  \n",
              "Simulation            55.60          20.03          17.59  \n",
              "Sports                41.77          42.14           2.98  \n",
              "Strategy              45.20          24.75          23.99  "
            ]
          },
          "metadata": {},
          "output_type": "display_data"
        },
        {
          "name": "stdout",
          "output_type": "stream",
          "text": [
            "\n",
            "Топ-5 самых популярных жанров в Северной Америке\n"
          ]
        },
        {
          "data": {
            "text/html": [
              "<div>\n",
              "<style scoped>\n",
              "    .dataframe tbody tr th:only-of-type {\n",
              "        vertical-align: middle;\n",
              "    }\n",
              "\n",
              "    .dataframe tbody tr th {\n",
              "        vertical-align: top;\n",
              "    }\n",
              "\n",
              "    .dataframe thead th {\n",
              "        text-align: right;\n",
              "    }\n",
              "</style>\n",
              "<table border=\"1\" class=\"dataframe\">\n",
              "  <thead>\n",
              "    <tr style=\"text-align: right;\">\n",
              "      <th></th>\n",
              "      <th>na_sales_median</th>\n",
              "      <th>na_percentage</th>\n",
              "    </tr>\n",
              "    <tr>\n",
              "      <th>genre</th>\n",
              "      <th></th>\n",
              "      <th></th>\n",
              "    </tr>\n",
              "  </thead>\n",
              "  <tbody>\n",
              "    <tr>\n",
              "      <th>Shooter</th>\n",
              "      <td>0.220</td>\n",
              "      <td>46.23</td>\n",
              "    </tr>\n",
              "    <tr>\n",
              "      <th>Platform</th>\n",
              "      <td>0.075</td>\n",
              "      <td>37.53</td>\n",
              "    </tr>\n",
              "    <tr>\n",
              "      <th>Sports</th>\n",
              "      <td>0.070</td>\n",
              "      <td>42.14</td>\n",
              "    </tr>\n",
              "    <tr>\n",
              "      <th>Fighting</th>\n",
              "      <td>0.040</td>\n",
              "      <td>44.05</td>\n",
              "    </tr>\n",
              "    <tr>\n",
              "      <th>Racing</th>\n",
              "      <td>0.030</td>\n",
              "      <td>31.76</td>\n",
              "    </tr>\n",
              "  </tbody>\n",
              "</table>\n",
              "</div>"
            ],
            "text/plain": [
              "          na_sales_median  na_percentage\n",
              "genre                                   \n",
              "Shooter             0.220          46.23\n",
              "Platform            0.075          37.53\n",
              "Sports              0.070          42.14\n",
              "Fighting            0.040          44.05\n",
              "Racing              0.030          31.76"
            ]
          },
          "metadata": {},
          "output_type": "display_data"
        },
        {
          "name": "stdout",
          "output_type": "stream",
          "text": [
            "\n",
            "Топ-5 самых популярных жанров в Европе\n"
          ]
        },
        {
          "data": {
            "text/html": [
              "<div>\n",
              "<style scoped>\n",
              "    .dataframe tbody tr th:only-of-type {\n",
              "        vertical-align: middle;\n",
              "    }\n",
              "\n",
              "    .dataframe tbody tr th {\n",
              "        vertical-align: top;\n",
              "    }\n",
              "\n",
              "    .dataframe thead th {\n",
              "        text-align: right;\n",
              "    }\n",
              "</style>\n",
              "<table border=\"1\" class=\"dataframe\">\n",
              "  <thead>\n",
              "    <tr style=\"text-align: right;\">\n",
              "      <th></th>\n",
              "      <th>eu_sales_median</th>\n",
              "      <th>eu_percentage</th>\n",
              "    </tr>\n",
              "    <tr>\n",
              "      <th>genre</th>\n",
              "      <th></th>\n",
              "      <th></th>\n",
              "    </tr>\n",
              "  </thead>\n",
              "  <tbody>\n",
              "    <tr>\n",
              "      <th>Shooter</th>\n",
              "      <td>0.220</td>\n",
              "      <td>38.33</td>\n",
              "    </tr>\n",
              "    <tr>\n",
              "      <th>Platform</th>\n",
              "      <td>0.055</td>\n",
              "      <td>37.59</td>\n",
              "    </tr>\n",
              "    <tr>\n",
              "      <th>Racing</th>\n",
              "      <td>0.050</td>\n",
              "      <td>51.34</td>\n",
              "    </tr>\n",
              "    <tr>\n",
              "      <th>Sports</th>\n",
              "      <td>0.050</td>\n",
              "      <td>41.77</td>\n",
              "    </tr>\n",
              "    <tr>\n",
              "      <th>Simulation</th>\n",
              "      <td>0.030</td>\n",
              "      <td>55.60</td>\n",
              "    </tr>\n",
              "  </tbody>\n",
              "</table>\n",
              "</div>"
            ],
            "text/plain": [
              "            eu_sales_median  eu_percentage\n",
              "genre                                     \n",
              "Shooter               0.220          38.33\n",
              "Platform              0.055          37.59\n",
              "Racing                0.050          51.34\n",
              "Sports                0.050          41.77\n",
              "Simulation            0.030          55.60"
            ]
          },
          "metadata": {},
          "output_type": "display_data"
        },
        {
          "name": "stdout",
          "output_type": "stream",
          "text": [
            "\n",
            "Топ-5 самых популярных жанров в Японии\n"
          ]
        },
        {
          "data": {
            "text/html": [
              "<div>\n",
              "<style scoped>\n",
              "    .dataframe tbody tr th:only-of-type {\n",
              "        vertical-align: middle;\n",
              "    }\n",
              "\n",
              "    .dataframe tbody tr th {\n",
              "        vertical-align: top;\n",
              "    }\n",
              "\n",
              "    .dataframe thead th {\n",
              "        text-align: right;\n",
              "    }\n",
              "</style>\n",
              "<table border=\"1\" class=\"dataframe\">\n",
              "  <thead>\n",
              "    <tr style=\"text-align: right;\">\n",
              "      <th></th>\n",
              "      <th>jp_sales_median</th>\n",
              "      <th>jp_percentage</th>\n",
              "    </tr>\n",
              "    <tr>\n",
              "      <th>genre</th>\n",
              "      <th></th>\n",
              "      <th></th>\n",
              "    </tr>\n",
              "  </thead>\n",
              "  <tbody>\n",
              "    <tr>\n",
              "      <th>Role-Playing</th>\n",
              "      <td>0.05</td>\n",
              "      <td>30.72</td>\n",
              "    </tr>\n",
              "    <tr>\n",
              "      <th>Fighting</th>\n",
              "      <td>0.03</td>\n",
              "      <td>22.57</td>\n",
              "    </tr>\n",
              "    <tr>\n",
              "      <th>Puzzle</th>\n",
              "      <td>0.03</td>\n",
              "      <td>42.08</td>\n",
              "    </tr>\n",
              "    <tr>\n",
              "      <th>Action</th>\n",
              "      <td>0.01</td>\n",
              "      <td>14.84</td>\n",
              "    </tr>\n",
              "    <tr>\n",
              "      <th>Adventure</th>\n",
              "      <td>0.01</td>\n",
              "      <td>20.51</td>\n",
              "    </tr>\n",
              "  </tbody>\n",
              "</table>\n",
              "</div>"
            ],
            "text/plain": [
              "              jp_sales_median  jp_percentage\n",
              "genre                                       \n",
              "Role-Playing             0.05          30.72\n",
              "Fighting                 0.03          22.57\n",
              "Puzzle                   0.03          42.08\n",
              "Action                   0.01          14.84\n",
              "Adventure                0.01          20.51"
            ]
          },
          "metadata": {},
          "output_type": "display_data"
        },
        {
          "name": "stdout",
          "output_type": "stream",
          "text": [
            "\n"
          ]
        }
      ],
      "source": [
        "regions_pop_genres = data.loc[data['year_of_release']>2013].groupby('genre')[\n",
        "    ['eu_sales', 'na_sales', 'jp_sales', 'total_sales']].sum().merge(\n",
        "        data.loc[data['year_of_release']>2013].groupby('genre')[\n",
        "    ['eu_sales', 'na_sales', 'jp_sales']].median(),\n",
        "        on='genre',\n",
        "        how='outer',\n",
        "        suffixes=('_sum', '_median')\n",
        "    )\n",
        "\n",
        "\n",
        "\n",
        "regions_pop_genres['eu_percentage'] = round(\n",
        "    (regions_pop_genres['eu_sales_sum'] / regions_pop_genres['total_sales']) * 100,\n",
        "    2)\n",
        "regions_pop_genres['na_percentage'] = round(\n",
        "    (regions_pop_genres['na_sales_sum'] / regions_pop_genres['total_sales']) * 100,\n",
        "    2)\n",
        "regions_pop_genres['jp_percentage'] = round(\n",
        "    (regions_pop_genres['jp_sales_sum'] / regions_pop_genres['total_sales']) * 100,\n",
        "    2)\n",
        "\n",
        "display(regions_pop_genres)\n",
        "print()\n",
        "\n",
        "print('Топ-5 самых популярных жанров в Северной Америке')\n",
        "display(\n",
        "    regions_pop_genres.loc[:, ['na_sales_median', 'na_percentage']].sort_values(\n",
        "        by='na_sales_median',\n",
        "        ascending=False\n",
        "        ).head()\n",
        "    )\n",
        "print()\n",
        "\n",
        "print('Топ-5 самых популярных жанров в Европе')\n",
        "display(\n",
        "    regions_pop_genres.loc[:, ['eu_sales_median', 'eu_percentage']].sort_values(\n",
        "        by='eu_sales_median',\n",
        "        ascending=False\n",
        "        ).head()\n",
        "    )\n",
        "print()\n",
        "\n",
        "print('Топ-5 самых популярных жанров в Японии')\n",
        "display(\n",
        "    regions_pop_genres.loc[:, ['jp_sales_median', 'jp_percentage']].sort_values(\n",
        "        by='jp_sales_median',\n",
        "        ascending=False\n",
        "        ).head()\n",
        "    )\n",
        "print()"
      ]
    },
    {
      "cell_type": "markdown",
      "metadata": {
        "id": "8sdAVRYQ9pc_"
      },
      "source": [
        "**Промежуточные выводы:**\n",
        "\n",
        "* Северная Америка и Европа снова почти совпали (в топах `shooter`, `platform`, `sports`, `racing`), разница между регионами заключается в процентах от общих продаж, а также в том, что в Европе более популярны `racing`, а в Америке - `role_playing` (они же в большей степени повлияли на общий топ жанров, составленный в шаге 3);\n",
        "* в Европе популярен жанр `simulation` (и именно Европа вносит большую часть вклада в его глобальные продажи);\n",
        "* в Японии самым популярным жанром стал `role-playing` (в глобальных продажах которого вклад Японии составляет примерно треть), в топ вошли жанры `puzzle`, `action`, `adventure`, не пользующиеся популярностью в Северной Америке и Европе;\n",
        "* жанров, входящих в топ во всех регионах, нет, и это говорит о серьезном отличии жанровых предпочтений пользователей из Японии от пользователей из Северной Америки и Европы.\n"
      ]
    },
    {
      "cell_type": "markdown",
      "metadata": {
        "id": "dA7D0ecd9t1u"
      },
      "source": [
        "### 4.3. Влияние возрастного рейтинга на продажи в каждом регионе"
      ]
    },
    {
      "cell_type": "markdown",
      "metadata": {
        "id": "XakOh4qV8Maj"
      },
      "source": [
        "Для оценки взаимосвязи категориальной переменной (возрастной рейтинг) и численной переменной (продажи) используем корреляционное отношение.\n",
        "\n",
        "Исключим из рассчетов игры, возрастной рейтинг которых неизвестен."
      ]
    },
    {
      "cell_type": "code",
      "execution_count": null,
      "metadata": {
        "colab": {
          "base_uri": "https://localhost:8080/"
        },
        "id": "TzJn9IY49kS5",
        "outputId": "b3d58b6b-a665-4953-96ad-271e7a08d8a1"
      },
      "outputs": [
        {
          "name": "stdout",
          "output_type": "stream",
          "text": [
            "Корреляционное отношение возрастного рейтинга и продаж в Северной Америке: 0.09\n",
            "Корреляционное отношение возрастного рейтинга и продаж в Европе: 0.1\n",
            "Корреляционное отношение возрастного рейтинга и продаж в Японии: 0.03\n"
          ]
        }
      ],
      "source": [
        "def calculate_correlation_ratio(num_var, cat_var):\n",
        "\n",
        "  values = np.array(num_var)\n",
        "  ss_total = np.sum((values.mean() - values) ** 2)\n",
        "\n",
        "  cats = np.unique(cat_var, return_inverse = True)[1]\n",
        "\n",
        "  ss_betweengroups = 0\n",
        "\n",
        "  for c in np.unique(cats):\n",
        "\n",
        "    group = values[np.argwhere(cats == c).flatten()]\n",
        "    ss_betweengroups += len(group) * (group.mean() - values.mean()) ** 2\n",
        "\n",
        "  return round(np.sqrt(ss_betweengroups/ss_total), 2)\n",
        "\n",
        "print(\n",
        "    'Корреляционное отношение возрастного рейтинга и продаж в Северной Америке:',\n",
        "    calculate_correlation_ratio(\n",
        "        data.loc[data['rating']!='unknown', 'na_sales'],\n",
        "        data.loc[data['rating']!='unknown', 'rating']\n",
        "    )\n",
        "    )\n",
        "\n",
        "print(\n",
        "    'Корреляционное отношение возрастного рейтинга и продаж в Европе:',\n",
        "    calculate_correlation_ratio(\n",
        "        data.loc[data['rating']!='unknown', 'eu_sales'],\n",
        "        data.loc[data['rating']!='unknown', 'rating']\n",
        "    )\n",
        "    )\n",
        "\n",
        "print(\n",
        "    'Корреляционное отношение возрастного рейтинга и продаж в Японии:',\n",
        "    calculate_correlation_ratio(\n",
        "        data.loc[data['rating']!='unknown', 'jp_sales'],\n",
        "        data.loc[data['rating']!='unknown', 'rating']\n",
        "    )\n",
        "    )"
      ]
    },
    {
      "cell_type": "markdown",
      "metadata": {
        "id": "jI8aMkT692gO"
      },
      "source": [
        "**Промежуточные выводы:**\n",
        "\n",
        "* все корреляционные отношения продаж и возрастного рейтинга очень слабые, значит, он практически не влияет на продажи в регионах."
      ]
    },
    {
      "cell_type": "markdown",
      "metadata": {
        "id": "QfzBOYHW-Tbc"
      },
      "source": [
        "### **Выводы по шагу 4:**\n",
        "\n",
        "1. Популярность платформ и жанров в регионах не одинаковая:\n",
        "* близки друг к другу Северная Америка и Европа, за счет этого они очень сильно воздействуют на общемировой рейтинг;\n",
        "* Япония выделяется на их фоне, но ее доля рынка гораздо меньше, поэтому ее особенности нужно рассматривать и учитывать отдельно;\n",
        "* самый значительный вклад в общие продажи вносит Северная Америка;\n",
        "* регион с наименьшими долями в общих продажах - Япония (за исключением платформы `3DS` и жанра `role-playing`, которые пользуются популярностью преимущественно в Японии);\n",
        "* платформы, входящие в топ во всех регионах:\n",
        "  - `PS2`;\n",
        "  - `PS3`;\n",
        "  - `DS`;\n",
        "* самые популярные жанры:\n",
        "  - `shooter`;\n",
        "  - `platform`;\n",
        "  - `sports`;\n",
        "  - `racing`;\n",
        "* при этом в Японии самым популярным жанром стал `role-playing` (в глобальных продажах которого вклад Японии составляет примерно треть), в топ вошли жанры `puzzle`, `action`, `adventure`, не пользующиеся популярностью в Северной Америке и Европе;\n",
        "* жанров, входящих в топ во всех регионах, нет.\n",
        "\n",
        "2. Возрастной рейтинг практически не влияет на продажи в регионах."
      ]
    },
    {
      "cell_type": "markdown",
      "metadata": {
        "id": "E0GH28jt-WMS"
      },
      "source": [
        "## Шаг 5. Проверка гипотез"
      ]
    },
    {
      "cell_type": "markdown",
      "metadata": {
        "id": "458mJ-_u-8dd"
      },
      "source": [
        "### 5.1. Гипотеза: средние пользовательские рейтинги платформ `Xbox One` и `PC` одинаковые"
      ]
    },
    {
      "cell_type": "markdown",
      "metadata": {
        "id": "C2Mra9Si-_BV"
      },
      "source": [
        "**Нулевая гипотеза:** средний `user_score` для `XOne` **равен** среднему `user_score` для `PC`.\n",
        "\n",
        "**Альтернативная гипотеза:** средний `user_score` для `XOne` **не равен** среднему `user_score` для `PC`.\n",
        "\n",
        "Уровень значимости: 0.05.\n",
        "\n",
        "Для проверки двусторонней статистической гипотезы о равенстве двух средних генеральных совокупностей по двум выборочным средним используется критерий Стьюдента (метод `scipy.stats.ttest_ind`)."
      ]
    },
    {
      "cell_type": "code",
      "execution_count": null,
      "metadata": {
        "colab": {
          "base_uri": "https://localhost:8080/"
        },
        "id": "_Rcxbc_b-yKx",
        "outputId": "4d638224-05f3-45b5-9aca-7b6cd25bb20c"
      },
      "outputs": [
        {
          "name": "stdout",
          "output_type": "stream",
          "text": [
            "p-value: 0.0005833414469972175\n",
            "Отвергаем нулевую гипотезу\n"
          ]
        }
      ],
      "source": [
        "hip1_platforms_rating = st.ttest_ind(\n",
        "    data.loc[data['platform']=='XOne', 'user_score'],\n",
        "    data.loc[data['platform']=='PC', 'user_score'],\n",
        "    alternative='two-sided')\n",
        "\n",
        "print('p-value:', hip1_platforms_rating.pvalue)\n",
        "if hip1_platforms_rating.pvalue < 0.05:\n",
        "    print('Отвергаем нулевую гипотезу')\n",
        "else:\n",
        "    print('Не отвергаем нулевую гипотезу')"
      ]
    },
    {
      "cell_type": "markdown",
      "metadata": {
        "id": "yxJuzur__M3Q"
      },
      "source": [
        "Нулевая гипотеза о равенстве среднего `user_score` для `XOne` среднему `user_score` для `PC`, отвергнута.\n",
        "\n",
        "Есть основания полагать, что пользователи рейтинги платформ `Xbox One` и `PC` отличаются."
      ]
    },
    {
      "cell_type": "markdown",
      "metadata": {
        "id": "3x4BD32y_Sv7"
      },
      "source": [
        "### 5.2. Гипотеза: средние пользовательские рейтинги жанров `Action` и `Sports` разные"
      ]
    },
    {
      "cell_type": "markdown",
      "metadata": {
        "id": "JVmLp0Yt_Vxu"
      },
      "source": [
        "**Нулевая гипотеза:** средний `user_score` для `Action` **равен** среднему `user_score` для `Sports`.\n",
        "\n",
        "**Альтернативная гипотеза:** средний `user_score` для `Action` **не равен** среднему `user_score` для `Sports`.\n",
        "\n",
        "Уровень значимости: 0.05.\n",
        "\n",
        "Для проверки двусторонней статистической гипотезы о равенстве двух средних генеральных совокупностей по двум выборочным средним используется критерий Стьюдента (метод `scipy.stats.ttest_ind`)."
      ]
    },
    {
      "cell_type": "code",
      "execution_count": null,
      "metadata": {
        "colab": {
          "base_uri": "https://localhost:8080/"
        },
        "id": "oAdG0CS0_KMa",
        "outputId": "3249b8eb-8c4a-4902-81ae-bebedba17270"
      },
      "outputs": [
        {
          "name": "stdout",
          "output_type": "stream",
          "text": [
            "p-value: 1.1356758476860616e-08\n",
            "Отвергаем нулевую гипотезу\n"
          ]
        }
      ],
      "source": [
        "hip2_genres_rating = st.ttest_ind(\n",
        "    data.loc[data['genre']=='Action', 'user_score'],\n",
        "    data.loc[data['genre']=='Sports', 'user_score'],\n",
        "    alternative='two-sided')\n",
        "\n",
        "print('p-value:', hip2_genres_rating.pvalue)\n",
        "if hip2_genres_rating.pvalue < 0.05:\n",
        "    print('Отвергаем нулевую гипотезу')\n",
        "else:\n",
        "    print('Не отвергаем нулевую гипотезу')"
      ]
    },
    {
      "cell_type": "markdown",
      "metadata": {
        "id": "g-QtDHjF_qKw"
      },
      "source": [
        "Нулевая гипотеза о равенстве среднего `user_score` для `Action` среднему `user_score` для `Sports` отвергнута.\n",
        "\n",
        "Есть основания полагать, что средние поользовательские рейтинги жанров `Action` и `Sports` разные."
      ]
    },
    {
      "cell_type": "markdown",
      "metadata": {
        "id": "Cpn8clohL0CM"
      },
      "source": [
        "### **Выводы по шагу 5:**\n",
        "\n",
        "1. Есть основания полагать, что пользователи рейтинги платформ `Xbox One` и `PC` отличаются.\n",
        "2. Есть основания полагать, что средние поользовательские рейтинги жанров `Action` и `Sports` разные."
      ]
    },
    {
      "cell_type": "markdown",
      "metadata": {
        "id": "5H85AyMBBIdF"
      },
      "source": [
        "## Итоговые выводы\n",
        "\n",
        "1. Были рассмотрены исторические данные о продажах игр, оценки пользователей и экспертов, жанры и платформы. Особое внимание обращено на:\n",
        "- годы выпуска;\n",
        "- платформы;\n",
        "- продажи;\n",
        "- отзывы критиков и пользователей.\n",
        "2. В данных не выявлено дубликатов.\n",
        "3. В данных выявлено много пропусков:\n",
        "* удалены 2 строки с пропусками в `name` и `genre`;\n",
        "* пропуски в `year_of_release` `critic_score`, `user_score` и `rating` заменены на значения-заглушки;\n",
        "* преобразованы типы данных в столбцах `user_score` и `year_of_release`;\n",
        "* неинформативные и несоответствующие действующей системе возрастных рейтингов значения столбца; `rating` заменены на актуальные.\n",
        "\n",
        "4. В ходе исследовательского анализа данных о продажах разных платформ обнаружено:\n",
        "* в 1980-1990-е годы выпускалось сравнительно мало игр, пик выпуска игр приходится на 2008-2009 годы, после этого количество игр устойсиво снижалось с небольшим подъемом в 2015 году. В дальнейшем анализе рассматривались данные за 2014-2016 годы;\n",
        "\n",
        "* с помощью графика `heatmap` определили:\n",
        "  - примерный цикл популярности платформы длится 5-6 лет;\n",
        "  - лидируют по продажам платформы:\n",
        "    - `PS4`;\n",
        "    - `XOne`;\n",
        "    - `3DS`;\n",
        "    - `PS3`;\n",
        "* ни одна платформа не выглядит растущей; продажи так или иначе падают у всех платформ, для которых еще продолжают выпускаться игры;\n",
        "* потенциально прибыльными можно назвать платформы:\n",
        "  - `PS4` (только в 2015 прошла свой пик продаж, еще может дать хороший результат);\n",
        "  - `XOne` (только в 2015 прошла свой пик продаж, еще может дать хороший результат);\n",
        "  - `3DS` (пик пройден еще в 2011, но продажи убывают медленнее, чем у других платформ);\n",
        "  - `PC` (наиболее стабильная платформа, продажи убывают очень медленно и еще могут вырасти);\n",
        "* с помощью графика `boxplot` обнаружили следующие характеристики глобальных продаж по платформам:\n",
        "  - медианное значение глобальных продаж среди всех платформ гораздо ближе к 0, чем к наибольшим значениям, это говорит о большом количестве плохо продающихся игр и копенсации этого за счет меньшего количества очень успешных игр;\n",
        "  - это подтверждается наличием у каждой из платформ значительного числа выбивающихся значений справа, а также длинными \"усами\" справа;\n",
        "  - самыми протяженными в сторону увеличения являются значения продаж платформ:\n",
        "    - `PS4`;\n",
        "    - `XOne`;\n",
        "  - наименее растянут (и наиболее близок к 0) \"ящик\" продаж платформы `PSV`.\n",
        "\n",
        "4. Удостоверились, что оценки критиков и пользователей практически не влияют на глобальные продажи.\n",
        "5. Рассмотрели, как игры распределены по жанрам, и пришли к заключениям:\n",
        "* самые популярные жанры:\n",
        "  - `shooter`;\n",
        "  - `sports`;\n",
        "  - `platform`;\n",
        "  - `fighting`;\n",
        "* явно выделяется наипопулярнейший жанр - `shooter` (с большим отрывом от всех остальных);\n",
        "* наименее популярные жанры (с ощутимым отрывом друг от друга и от остальных):\n",
        "  - `strategy`;\n",
        "  - `puzzle`;\n",
        "  - `adventure`.\n",
        "\n",
        "5. В ходе анализа данных по регионам обнаружено:\n",
        "* популярность платформ и жанров в регионах не одинаковая:\n",
        "  - близки друг к другу Северная Америка и Европа: Япония выделяется на их фоне;\n",
        "  - самый значительный вклад в общие продажи вносит Северная Америка;\n",
        "  - регион с наименьшими долями в общих продажах - Япония (за исключением платформы `3DS` и жанра `role-playing`, которые пользуются популярностью преимущественно в Японии);\n",
        "* платформы, входящие в топ во всех регионах:\n",
        "  - `PS2`;\n",
        "  - `PS3`;\n",
        "  - `DS`;\n",
        "* жанров, входящих в топ во всех регионах, нет;\n",
        "* самые популярные жанры в Северной Америке и Европе:\n",
        "  - `shooter`;\n",
        "  - `platform`;\n",
        "  - `sports`;\n",
        "  - `racing`;\n",
        "* в Японии самым популярным жанром стал `role-playing` (в глобальных продажах которого вклад Японии составляет примерно треть), в топ вошли жанры `puzzle`, `action`, `adventure`, не пользующиеся популярностью в Северной Америке и Европе;\n",
        "* возрастной рейтинг практически не влияет на продажи в регионах.\n",
        "\n",
        "6. Проверка гипотез показала, что:\n",
        "* есть основания полагать, что средние пользовательские рейтинги платформ `Xbox One` и `PC` не равны;\n",
        "* есть основания полагать, что средние поользовательские рейтинги жанров `Action` и `Sports` разные.\n",
        "7. Для транснационального магазина компьютерных игр было бы выгоднее сосредоточиться на:\n",
        "* пользователях из Северной Америки, так как они вносят наибольший вклад в продажи;\n",
        "* потенциально прибыльных платформах:\n",
        "  - `PS4` (только в 2015 прошла свой пик продаж, еще может дать хороший результат);\n",
        "  - `XOne` (только в 2015 прошла свой пик продаж, еще может дать хороший результат);\n",
        "  - `3DS` (пик пройден в 2011, но продажи убывают медленнее, чем у других платформ);\n",
        "  - `PC` (наиболее стабильная платформа, продажи убывают очень медленно и еще могут вырасти);\n",
        "* самом популярном жанре:\n",
        "  - `shooter`.\n",
        "8. Магазину, работающему во всех трех рассмотренных регионах, необходимо учитывать особенности Японии отдельно и проводить для этой страны отдельную маркетинговую кампанию и ассортиментную политику."
      ]
    }
  ],
  "metadata": {
    "ExecuteTimeLog": [
      {
        "duration": 1230,
        "start_time": "2024-08-10T20:12:14.881Z"
      },
      {
        "duration": 0,
        "start_time": "2024-08-10T20:12:16.114Z"
      },
      {
        "duration": 0,
        "start_time": "2024-08-10T20:12:16.115Z"
      },
      {
        "duration": 0,
        "start_time": "2024-08-10T20:12:16.116Z"
      },
      {
        "duration": 0,
        "start_time": "2024-08-10T20:12:16.117Z"
      },
      {
        "duration": 0,
        "start_time": "2024-08-10T20:12:16.118Z"
      },
      {
        "duration": 0,
        "start_time": "2024-08-10T20:12:16.120Z"
      },
      {
        "duration": 0,
        "start_time": "2024-08-10T20:12:16.121Z"
      },
      {
        "duration": 1,
        "start_time": "2024-08-10T20:12:16.121Z"
      },
      {
        "duration": 0,
        "start_time": "2024-08-10T20:12:16.123Z"
      },
      {
        "duration": 0,
        "start_time": "2024-08-10T20:12:16.124Z"
      },
      {
        "duration": 0,
        "start_time": "2024-08-10T20:12:16.126Z"
      },
      {
        "duration": 0,
        "start_time": "2024-08-10T20:12:16.127Z"
      },
      {
        "duration": 0,
        "start_time": "2024-08-10T20:12:16.128Z"
      },
      {
        "duration": 0,
        "start_time": "2024-08-10T20:12:16.129Z"
      },
      {
        "duration": 0,
        "start_time": "2024-08-10T20:12:16.153Z"
      },
      {
        "duration": 0,
        "start_time": "2024-08-10T20:12:16.154Z"
      },
      {
        "duration": 0,
        "start_time": "2024-08-10T20:12:16.155Z"
      },
      {
        "duration": 0,
        "start_time": "2024-08-10T20:12:16.156Z"
      },
      {
        "duration": 0,
        "start_time": "2024-08-10T20:12:16.158Z"
      },
      {
        "duration": 0,
        "start_time": "2024-08-10T20:12:16.159Z"
      },
      {
        "duration": 0,
        "start_time": "2024-08-10T20:12:16.159Z"
      },
      {
        "duration": 0,
        "start_time": "2024-08-10T20:12:16.160Z"
      },
      {
        "duration": 0,
        "start_time": "2024-08-10T20:12:16.162Z"
      },
      {
        "duration": 0,
        "start_time": "2024-08-10T20:12:16.163Z"
      },
      {
        "duration": 0,
        "start_time": "2024-08-10T20:12:16.163Z"
      },
      {
        "duration": 0,
        "start_time": "2024-08-10T20:12:16.164Z"
      },
      {
        "duration": 4337,
        "start_time": "2024-08-10T20:12:40.683Z"
      },
      {
        "duration": 191,
        "start_time": "2024-08-10T20:12:45.023Z"
      },
      {
        "duration": 41,
        "start_time": "2024-08-10T20:12:45.215Z"
      },
      {
        "duration": 14,
        "start_time": "2024-08-10T20:12:45.258Z"
      },
      {
        "duration": 47,
        "start_time": "2024-08-10T20:12:45.274Z"
      },
      {
        "duration": 36,
        "start_time": "2024-08-10T20:12:45.323Z"
      },
      {
        "duration": 31,
        "start_time": "2024-08-10T20:12:45.361Z"
      },
      {
        "duration": 1218,
        "start_time": "2024-08-10T20:12:45.394Z"
      },
      {
        "duration": 109,
        "start_time": "2024-08-10T20:12:46.614Z"
      },
      {
        "duration": 0,
        "start_time": "2024-08-10T20:12:46.725Z"
      },
      {
        "duration": 0,
        "start_time": "2024-08-10T20:12:46.726Z"
      },
      {
        "duration": 0,
        "start_time": "2024-08-10T20:12:46.727Z"
      },
      {
        "duration": 0,
        "start_time": "2024-08-10T20:12:46.728Z"
      },
      {
        "duration": 0,
        "start_time": "2024-08-10T20:12:46.729Z"
      },
      {
        "duration": 0,
        "start_time": "2024-08-10T20:12:46.730Z"
      },
      {
        "duration": 0,
        "start_time": "2024-08-10T20:12:46.731Z"
      },
      {
        "duration": 0,
        "start_time": "2024-08-10T20:12:46.732Z"
      },
      {
        "duration": 0,
        "start_time": "2024-08-10T20:12:46.732Z"
      },
      {
        "duration": 0,
        "start_time": "2024-08-10T20:12:46.734Z"
      },
      {
        "duration": 0,
        "start_time": "2024-08-10T20:12:46.734Z"
      },
      {
        "duration": 0,
        "start_time": "2024-08-10T20:12:46.753Z"
      },
      {
        "duration": 0,
        "start_time": "2024-08-10T20:12:46.755Z"
      },
      {
        "duration": 0,
        "start_time": "2024-08-10T20:12:46.756Z"
      },
      {
        "duration": 0,
        "start_time": "2024-08-10T20:12:46.757Z"
      },
      {
        "duration": 0,
        "start_time": "2024-08-10T20:12:46.758Z"
      },
      {
        "duration": 0,
        "start_time": "2024-08-10T20:12:46.759Z"
      },
      {
        "duration": 0,
        "start_time": "2024-08-10T20:12:46.760Z"
      },
      {
        "duration": 11,
        "start_time": "2024-08-10T20:14:41.343Z"
      },
      {
        "duration": 14,
        "start_time": "2024-08-10T20:14:42.203Z"
      },
      {
        "duration": 18,
        "start_time": "2024-08-10T20:15:24.871Z"
      },
      {
        "duration": 7,
        "start_time": "2024-08-10T20:15:25.280Z"
      },
      {
        "duration": 13,
        "start_time": "2024-08-10T20:15:26.082Z"
      },
      {
        "duration": 360,
        "start_time": "2024-08-10T20:15:42.187Z"
      },
      {
        "duration": 45,
        "start_time": "2024-08-10T20:16:01.387Z"
      },
      {
        "duration": 1304,
        "start_time": "2024-08-10T20:16:01.739Z"
      },
      {
        "duration": 12,
        "start_time": "2024-08-10T20:16:03.662Z"
      },
      {
        "duration": 180,
        "start_time": "2024-08-10T20:16:05.733Z"
      },
      {
        "duration": 10,
        "start_time": "2024-08-11T00:17:43.551Z"
      },
      {
        "duration": 9,
        "start_time": "2024-08-11T00:30:59.348Z"
      },
      {
        "duration": 8,
        "start_time": "2024-08-11T00:33:48.105Z"
      },
      {
        "duration": 7,
        "start_time": "2024-08-11T00:33:59.632Z"
      },
      {
        "duration": 9,
        "start_time": "2024-08-11T00:34:29.912Z"
      },
      {
        "duration": 0,
        "start_time": "2024-08-11T00:34:29.923Z"
      },
      {
        "duration": 0,
        "start_time": "2024-08-11T00:34:29.924Z"
      },
      {
        "duration": 8,
        "start_time": "2024-08-11T00:34:33.465Z"
      },
      {
        "duration": 8,
        "start_time": "2024-08-11T00:35:11.611Z"
      },
      {
        "duration": 9,
        "start_time": "2024-08-11T00:35:28.330Z"
      },
      {
        "duration": 0,
        "start_time": "2024-08-11T00:35:28.340Z"
      },
      {
        "duration": 1,
        "start_time": "2024-08-11T00:35:28.341Z"
      },
      {
        "duration": 9,
        "start_time": "2024-08-11T00:35:32.151Z"
      },
      {
        "duration": 85,
        "start_time": "2024-08-11T00:43:11.615Z"
      },
      {
        "duration": 3307,
        "start_time": "2024-08-11T00:43:17.995Z"
      },
      {
        "duration": 59,
        "start_time": "2024-08-11T00:43:32.377Z"
      },
      {
        "duration": 41,
        "start_time": "2024-08-11T00:43:39.814Z"
      },
      {
        "duration": 4,
        "start_time": "2024-08-11T00:43:53.909Z"
      },
      {
        "duration": 18,
        "start_time": "2024-08-11T00:49:51.558Z"
      },
      {
        "duration": 16,
        "start_time": "2024-08-11T00:50:10.658Z"
      },
      {
        "duration": 49,
        "start_time": "2024-08-11T00:54:03.455Z"
      },
      {
        "duration": 20,
        "start_time": "2024-08-11T00:54:26.975Z"
      },
      {
        "duration": 780,
        "start_time": "2024-08-11T00:55:20.125Z"
      },
      {
        "duration": 12,
        "start_time": "2024-08-11T00:55:37.790Z"
      },
      {
        "duration": 19,
        "start_time": "2024-08-11T00:56:24.617Z"
      },
      {
        "duration": 19,
        "start_time": "2024-08-11T00:57:11.996Z"
      },
      {
        "duration": 5,
        "start_time": "2024-08-11T01:09:37.422Z"
      },
      {
        "duration": 19,
        "start_time": "2024-08-11T01:10:05.376Z"
      },
      {
        "duration": 24,
        "start_time": "2024-08-11T01:11:18.584Z"
      },
      {
        "duration": 25,
        "start_time": "2024-08-11T01:11:30.354Z"
      },
      {
        "duration": 30,
        "start_time": "2024-08-11T01:12:30.637Z"
      },
      {
        "duration": 31,
        "start_time": "2024-08-11T01:12:38.471Z"
      },
      {
        "duration": 29,
        "start_time": "2024-08-11T01:12:51.493Z"
      },
      {
        "duration": 1381,
        "start_time": "2024-08-11T01:14:00.443Z"
      },
      {
        "duration": 15,
        "start_time": "2024-08-11T01:14:15.082Z"
      },
      {
        "duration": 22,
        "start_time": "2024-08-11T01:15:42.737Z"
      },
      {
        "duration": 8,
        "start_time": "2024-08-11T01:20:05.666Z"
      },
      {
        "duration": 15,
        "start_time": "2024-08-11T01:20:26.225Z"
      },
      {
        "duration": 17,
        "start_time": "2024-08-11T01:20:36.708Z"
      },
      {
        "duration": 7,
        "start_time": "2024-08-11T01:20:40.336Z"
      },
      {
        "duration": 13,
        "start_time": "2024-08-11T01:20:45.013Z"
      },
      {
        "duration": 361,
        "start_time": "2024-08-11T01:29:01.659Z"
      },
      {
        "duration": 40,
        "start_time": "2024-08-11T01:29:08.376Z"
      },
      {
        "duration": 33,
        "start_time": "2024-08-11T01:32:02.389Z"
      },
      {
        "duration": 30,
        "start_time": "2024-08-11T01:32:44.369Z"
      },
      {
        "duration": 8,
        "start_time": "2024-08-11T01:34:53.397Z"
      },
      {
        "duration": 11,
        "start_time": "2024-08-11T01:35:29.840Z"
      },
      {
        "duration": 41,
        "start_time": "2024-08-11T01:35:54.620Z"
      },
      {
        "duration": 8,
        "start_time": "2024-08-11T01:38:13.488Z"
      },
      {
        "duration": 13,
        "start_time": "2024-08-11T01:38:44.347Z"
      },
      {
        "duration": 11,
        "start_time": "2024-08-11T01:39:10.890Z"
      },
      {
        "duration": 11,
        "start_time": "2024-08-11T01:39:53.937Z"
      },
      {
        "duration": 12,
        "start_time": "2024-08-11T01:40:00.555Z"
      },
      {
        "duration": 14,
        "start_time": "2024-08-11T01:41:32.822Z"
      },
      {
        "duration": 12,
        "start_time": "2024-08-11T01:42:35.664Z"
      },
      {
        "duration": 39,
        "start_time": "2024-08-11T01:43:46.351Z"
      },
      {
        "duration": 1293,
        "start_time": "2024-08-11T01:43:58.314Z"
      },
      {
        "duration": 944,
        "start_time": "2024-08-11T01:44:16.432Z"
      },
      {
        "duration": 92,
        "start_time": "2024-08-11T01:45:50.572Z"
      },
      {
        "duration": 2496,
        "start_time": "2024-08-11T01:46:19.856Z"
      },
      {
        "duration": 61,
        "start_time": "2024-08-11T01:46:22.354Z"
      },
      {
        "duration": 41,
        "start_time": "2024-08-11T01:46:22.416Z"
      },
      {
        "duration": 4,
        "start_time": "2024-08-11T01:46:22.460Z"
      },
      {
        "duration": 44,
        "start_time": "2024-08-11T01:46:22.466Z"
      },
      {
        "duration": 17,
        "start_time": "2024-08-11T01:46:22.512Z"
      },
      {
        "duration": 21,
        "start_time": "2024-08-11T01:46:22.531Z"
      },
      {
        "duration": 6,
        "start_time": "2024-08-11T01:46:22.553Z"
      },
      {
        "duration": 64,
        "start_time": "2024-08-11T01:46:22.560Z"
      },
      {
        "duration": 1302,
        "start_time": "2024-08-11T01:46:22.627Z"
      },
      {
        "duration": 22,
        "start_time": "2024-08-11T01:46:23.931Z"
      },
      {
        "duration": 8,
        "start_time": "2024-08-11T01:46:23.955Z"
      },
      {
        "duration": 42,
        "start_time": "2024-08-11T01:46:23.965Z"
      },
      {
        "duration": 17,
        "start_time": "2024-08-11T01:46:24.009Z"
      },
      {
        "duration": 7,
        "start_time": "2024-08-11T01:46:24.028Z"
      },
      {
        "duration": 22,
        "start_time": "2024-08-11T01:46:24.036Z"
      },
      {
        "duration": 388,
        "start_time": "2024-08-11T01:46:24.059Z"
      },
      {
        "duration": 60,
        "start_time": "2024-08-11T01:46:24.449Z"
      },
      {
        "duration": 1264,
        "start_time": "2024-08-11T01:46:24.510Z"
      },
      {
        "duration": 890,
        "start_time": "2024-08-11T01:46:25.776Z"
      },
      {
        "duration": 206,
        "start_time": "2024-08-11T01:46:26.668Z"
      },
      {
        "duration": 531,
        "start_time": "2024-08-11T01:46:26.876Z"
      },
      {
        "duration": 142,
        "start_time": "2024-08-11T01:46:27.409Z"
      },
      {
        "duration": 191,
        "start_time": "2024-08-11T01:46:27.553Z"
      },
      {
        "duration": 62,
        "start_time": "2024-08-11T01:46:27.746Z"
      },
      {
        "duration": 43,
        "start_time": "2024-08-11T01:46:27.810Z"
      },
      {
        "duration": 60,
        "start_time": "2024-08-11T01:46:27.855Z"
      },
      {
        "duration": 8,
        "start_time": "2024-08-11T01:46:27.918Z"
      },
      {
        "duration": 13,
        "start_time": "2024-08-11T01:46:27.928Z"
      },
      {
        "duration": 4905,
        "start_time": "2024-08-11T09:37:31.333Z"
      },
      {
        "duration": 76,
        "start_time": "2024-08-11T09:37:36.241Z"
      },
      {
        "duration": 57,
        "start_time": "2024-08-11T09:37:36.319Z"
      },
      {
        "duration": 4,
        "start_time": "2024-08-11T09:37:36.378Z"
      },
      {
        "duration": 45,
        "start_time": "2024-08-11T09:37:36.383Z"
      },
      {
        "duration": 146,
        "start_time": "2024-08-11T09:37:36.430Z"
      },
      {
        "duration": 30,
        "start_time": "2024-08-11T09:37:36.578Z"
      },
      {
        "duration": 6,
        "start_time": "2024-08-11T09:37:36.616Z"
      },
      {
        "duration": 56,
        "start_time": "2024-08-11T09:37:36.624Z"
      },
      {
        "duration": 1393,
        "start_time": "2024-08-11T09:37:36.684Z"
      },
      {
        "duration": 40,
        "start_time": "2024-08-11T09:37:38.079Z"
      },
      {
        "duration": 12,
        "start_time": "2024-08-11T09:37:38.120Z"
      },
      {
        "duration": 30,
        "start_time": "2024-08-11T09:37:38.134Z"
      },
      {
        "duration": 17,
        "start_time": "2024-08-11T09:37:38.166Z"
      },
      {
        "duration": 29,
        "start_time": "2024-08-11T09:37:38.185Z"
      },
      {
        "duration": 15,
        "start_time": "2024-08-11T09:37:38.218Z"
      },
      {
        "duration": 415,
        "start_time": "2024-08-11T09:37:38.234Z"
      },
      {
        "duration": 40,
        "start_time": "2024-08-11T09:37:38.651Z"
      },
      {
        "duration": 1493,
        "start_time": "2024-08-11T09:37:38.692Z"
      },
      {
        "duration": 1041,
        "start_time": "2024-08-11T09:37:40.187Z"
      },
      {
        "duration": 112,
        "start_time": "2024-08-11T09:37:41.230Z"
      },
      {
        "duration": 576,
        "start_time": "2024-08-11T09:37:41.344Z"
      },
      {
        "duration": 150,
        "start_time": "2024-08-11T09:37:41.922Z"
      },
      {
        "duration": 200,
        "start_time": "2024-08-11T09:37:42.074Z"
      },
      {
        "duration": 64,
        "start_time": "2024-08-11T09:37:42.276Z"
      },
      {
        "duration": 69,
        "start_time": "2024-08-11T09:37:42.341Z"
      },
      {
        "duration": 36,
        "start_time": "2024-08-11T09:37:42.411Z"
      },
      {
        "duration": 62,
        "start_time": "2024-08-11T09:37:42.450Z"
      },
      {
        "duration": 57,
        "start_time": "2024-08-11T09:37:42.523Z"
      },
      {
        "duration": 4498,
        "start_time": "2024-08-11T10:05:14.537Z"
      },
      {
        "duration": 92,
        "start_time": "2024-08-11T10:05:19.039Z"
      },
      {
        "duration": 73,
        "start_time": "2024-08-11T10:05:19.139Z"
      },
      {
        "duration": 5,
        "start_time": "2024-08-11T10:05:19.214Z"
      },
      {
        "duration": 34,
        "start_time": "2024-08-11T10:05:19.228Z"
      },
      {
        "duration": 35,
        "start_time": "2024-08-11T10:05:19.265Z"
      },
      {
        "duration": 53,
        "start_time": "2024-08-11T10:05:19.302Z"
      },
      {
        "duration": 6,
        "start_time": "2024-08-11T10:05:19.358Z"
      },
      {
        "duration": 118,
        "start_time": "2024-08-11T10:05:19.367Z"
      },
      {
        "duration": 1515,
        "start_time": "2024-08-11T10:05:19.489Z"
      },
      {
        "duration": 38,
        "start_time": "2024-08-11T10:05:21.010Z"
      },
      {
        "duration": 12,
        "start_time": "2024-08-11T10:05:21.053Z"
      },
      {
        "duration": 14,
        "start_time": "2024-08-11T10:05:21.068Z"
      },
      {
        "duration": 48,
        "start_time": "2024-08-11T10:05:21.084Z"
      },
      {
        "duration": 19,
        "start_time": "2024-08-11T10:05:21.140Z"
      },
      {
        "duration": 12,
        "start_time": "2024-08-11T10:05:21.163Z"
      },
      {
        "duration": 513,
        "start_time": "2024-08-11T10:05:21.176Z"
      },
      {
        "duration": 65,
        "start_time": "2024-08-11T10:05:21.691Z"
      },
      {
        "duration": 1555,
        "start_time": "2024-08-11T10:05:21.759Z"
      },
      {
        "duration": 1078,
        "start_time": "2024-08-11T10:05:23.316Z"
      },
      {
        "duration": 132,
        "start_time": "2024-08-11T10:05:24.395Z"
      },
      {
        "duration": 727,
        "start_time": "2024-08-11T10:05:24.537Z"
      },
      {
        "duration": 197,
        "start_time": "2024-08-11T10:05:25.266Z"
      },
      {
        "duration": 212,
        "start_time": "2024-08-11T10:05:25.465Z"
      },
      {
        "duration": 87,
        "start_time": "2024-08-11T10:05:25.679Z"
      },
      {
        "duration": 73,
        "start_time": "2024-08-11T10:05:25.768Z"
      },
      {
        "duration": 50,
        "start_time": "2024-08-11T10:05:25.846Z"
      },
      {
        "duration": 30,
        "start_time": "2024-08-11T10:05:25.904Z"
      },
      {
        "duration": 33,
        "start_time": "2024-08-11T10:05:25.941Z"
      },
      {
        "duration": 2432,
        "start_time": "2024-08-13T03:35:46.509Z"
      },
      {
        "duration": 61,
        "start_time": "2024-08-13T03:35:48.944Z"
      },
      {
        "duration": 39,
        "start_time": "2024-08-13T03:35:49.007Z"
      },
      {
        "duration": 4,
        "start_time": "2024-08-13T03:35:49.047Z"
      },
      {
        "duration": 27,
        "start_time": "2024-08-13T03:35:49.053Z"
      },
      {
        "duration": 38,
        "start_time": "2024-08-13T03:35:49.081Z"
      },
      {
        "duration": 29,
        "start_time": "2024-08-13T03:35:49.120Z"
      },
      {
        "duration": 13,
        "start_time": "2024-08-13T03:35:49.150Z"
      },
      {
        "duration": 34,
        "start_time": "2024-08-13T03:35:49.164Z"
      },
      {
        "duration": 1258,
        "start_time": "2024-08-13T03:35:49.200Z"
      },
      {
        "duration": 19,
        "start_time": "2024-08-13T03:35:50.460Z"
      },
      {
        "duration": 8,
        "start_time": "2024-08-13T03:35:50.480Z"
      },
      {
        "duration": 29,
        "start_time": "2024-08-13T03:35:50.490Z"
      },
      {
        "duration": 16,
        "start_time": "2024-08-13T03:35:50.521Z"
      },
      {
        "duration": 7,
        "start_time": "2024-08-13T03:35:50.539Z"
      },
      {
        "duration": 15,
        "start_time": "2024-08-13T03:35:50.547Z"
      },
      {
        "duration": 380,
        "start_time": "2024-08-13T03:35:50.563Z"
      },
      {
        "duration": 36,
        "start_time": "2024-08-13T03:35:50.944Z"
      },
      {
        "duration": 1368,
        "start_time": "2024-08-13T03:40:32.521Z"
      },
      {
        "duration": 39,
        "start_time": "2024-08-13T03:44:33.430Z"
      },
      {
        "duration": 33,
        "start_time": "2024-08-13T03:44:57.574Z"
      },
      {
        "duration": 20,
        "start_time": "2024-08-13T03:52:50.496Z"
      },
      {
        "duration": 4,
        "start_time": "2024-08-13T03:54:02.680Z"
      },
      {
        "duration": 335,
        "start_time": "2024-08-13T03:54:29.822Z"
      },
      {
        "duration": 305,
        "start_time": "2024-08-13T03:54:53.115Z"
      },
      {
        "duration": 530,
        "start_time": "2024-08-13T03:57:59.519Z"
      },
      {
        "duration": 247,
        "start_time": "2024-08-13T03:58:11.549Z"
      },
      {
        "duration": 4,
        "start_time": "2024-08-13T04:00:54.797Z"
      },
      {
        "duration": 760,
        "start_time": "2024-08-13T04:01:02.397Z"
      },
      {
        "duration": 86,
        "start_time": "2024-08-13T04:01:54.481Z"
      },
      {
        "duration": 93,
        "start_time": "2024-08-13T04:02:22.195Z"
      },
      {
        "duration": 212,
        "start_time": "2024-08-13T04:02:58.280Z"
      },
      {
        "duration": 115,
        "start_time": "2024-08-13T04:11:57.316Z"
      },
      {
        "duration": 118,
        "start_time": "2024-08-13T04:27:06.690Z"
      },
      {
        "duration": 116,
        "start_time": "2024-08-13T04:27:42.564Z"
      },
      {
        "duration": 118,
        "start_time": "2024-08-13T04:28:17.589Z"
      },
      {
        "duration": 116,
        "start_time": "2024-08-13T04:28:34.720Z"
      },
      {
        "duration": 446,
        "start_time": "2024-08-13T04:30:20.470Z"
      },
      {
        "duration": 182,
        "start_time": "2024-08-13T04:31:20.913Z"
      },
      {
        "duration": 181,
        "start_time": "2024-08-13T04:32:17.572Z"
      },
      {
        "duration": 132,
        "start_time": "2024-08-13T04:33:35.390Z"
      },
      {
        "duration": 184,
        "start_time": "2024-08-13T04:34:26.982Z"
      },
      {
        "duration": 535,
        "start_time": "2024-08-13T04:35:14.733Z"
      },
      {
        "duration": 328,
        "start_time": "2024-08-13T04:43:15.624Z"
      },
      {
        "duration": 259,
        "start_time": "2024-08-13T04:44:09.471Z"
      },
      {
        "duration": 16,
        "start_time": "2024-08-13T04:48:10.232Z"
      },
      {
        "duration": 13,
        "start_time": "2024-08-13T04:49:03.281Z"
      },
      {
        "duration": 124,
        "start_time": "2024-08-13T04:49:15.268Z"
      },
      {
        "duration": 353,
        "start_time": "2024-08-13T04:49:55.731Z"
      },
      {
        "duration": 580,
        "start_time": "2024-08-13T04:51:02.956Z"
      },
      {
        "duration": 44,
        "start_time": "2024-08-13T04:54:22.538Z"
      },
      {
        "duration": 12,
        "start_time": "2024-08-13T04:56:31.746Z"
      },
      {
        "duration": 11,
        "start_time": "2024-08-13T04:58:08.801Z"
      },
      {
        "duration": 12,
        "start_time": "2024-08-13T04:58:50.859Z"
      },
      {
        "duration": 329,
        "start_time": "2024-08-13T04:59:32.463Z"
      },
      {
        "duration": 302,
        "start_time": "2024-08-13T05:00:44.807Z"
      },
      {
        "duration": 291,
        "start_time": "2024-08-13T05:02:06.652Z"
      },
      {
        "duration": 295,
        "start_time": "2024-08-13T05:02:56.851Z"
      },
      {
        "duration": 403,
        "start_time": "2024-08-13T05:04:26.306Z"
      },
      {
        "duration": 296,
        "start_time": "2024-08-13T05:05:01.817Z"
      },
      {
        "duration": 11,
        "start_time": "2024-08-13T05:07:50.810Z"
      },
      {
        "duration": 84,
        "start_time": "2024-08-13T05:08:02.527Z"
      },
      {
        "duration": 11,
        "start_time": "2024-08-13T05:08:18.911Z"
      },
      {
        "duration": 11,
        "start_time": "2024-08-13T05:09:28.443Z"
      },
      {
        "duration": 10,
        "start_time": "2024-08-13T05:10:20.815Z"
      },
      {
        "duration": 48,
        "start_time": "2024-08-13T05:10:38.556Z"
      },
      {
        "duration": 11,
        "start_time": "2024-08-13T05:11:02.461Z"
      },
      {
        "duration": 8,
        "start_time": "2024-08-13T05:11:29.207Z"
      },
      {
        "duration": 49,
        "start_time": "2024-08-13T05:12:06.349Z"
      },
      {
        "duration": 25,
        "start_time": "2024-08-13T05:12:14.786Z"
      },
      {
        "duration": 24,
        "start_time": "2024-08-13T05:13:26.485Z"
      },
      {
        "duration": 1238,
        "start_time": "2024-08-13T05:14:29.522Z"
      },
      {
        "duration": 45,
        "start_time": "2024-08-13T05:16:28.818Z"
      },
      {
        "duration": 145,
        "start_time": "2024-08-13T05:16:38.147Z"
      },
      {
        "duration": 164,
        "start_time": "2024-08-13T05:17:27.181Z"
      },
      {
        "duration": 158,
        "start_time": "2024-08-13T05:19:02.151Z"
      },
      {
        "duration": 154,
        "start_time": "2024-08-13T05:19:15.796Z"
      },
      {
        "duration": 163,
        "start_time": "2024-08-13T05:20:52.703Z"
      },
      {
        "duration": 158,
        "start_time": "2024-08-13T05:21:09.994Z"
      },
      {
        "duration": 22,
        "start_time": "2024-08-13T05:26:34.071Z"
      },
      {
        "duration": 23,
        "start_time": "2024-08-13T05:26:53.172Z"
      },
      {
        "duration": 21,
        "start_time": "2024-08-13T05:27:03.960Z"
      },
      {
        "duration": 245,
        "start_time": "2024-08-13T05:27:22.454Z"
      },
      {
        "duration": 120,
        "start_time": "2024-08-13T05:29:11.827Z"
      },
      {
        "duration": 150,
        "start_time": "2024-08-13T05:30:42.982Z"
      },
      {
        "duration": 171,
        "start_time": "2024-08-13T05:30:57.603Z"
      },
      {
        "duration": 162,
        "start_time": "2024-08-13T05:32:20.636Z"
      },
      {
        "duration": 164,
        "start_time": "2024-08-13T05:32:32.030Z"
      },
      {
        "duration": 155,
        "start_time": "2024-08-13T05:36:23.022Z"
      },
      {
        "duration": 157,
        "start_time": "2024-08-13T05:37:26.665Z"
      },
      {
        "duration": 149,
        "start_time": "2024-08-13T05:38:04.744Z"
      },
      {
        "duration": 152,
        "start_time": "2024-08-13T05:38:13.152Z"
      },
      {
        "duration": 41,
        "start_time": "2024-08-13T05:39:15.265Z"
      },
      {
        "duration": 47,
        "start_time": "2024-08-13T05:41:00.884Z"
      },
      {
        "duration": 44,
        "start_time": "2024-08-13T05:41:54.894Z"
      },
      {
        "duration": 2642,
        "start_time": "2024-08-13T09:11:03.204Z"
      },
      {
        "duration": 62,
        "start_time": "2024-08-13T09:11:05.848Z"
      },
      {
        "duration": 39,
        "start_time": "2024-08-13T09:11:05.912Z"
      },
      {
        "duration": 4,
        "start_time": "2024-08-13T09:11:05.953Z"
      },
      {
        "duration": 44,
        "start_time": "2024-08-13T09:11:05.959Z"
      },
      {
        "duration": 37,
        "start_time": "2024-08-13T09:11:06.005Z"
      },
      {
        "duration": 44,
        "start_time": "2024-08-13T09:11:06.044Z"
      },
      {
        "duration": 10,
        "start_time": "2024-08-13T09:11:06.090Z"
      },
      {
        "duration": 49,
        "start_time": "2024-08-13T09:11:06.101Z"
      },
      {
        "duration": 1510,
        "start_time": "2024-08-13T09:11:06.153Z"
      },
      {
        "duration": 23,
        "start_time": "2024-08-13T09:11:07.665Z"
      },
      {
        "duration": 28,
        "start_time": "2024-08-13T09:11:07.689Z"
      },
      {
        "duration": 43,
        "start_time": "2024-08-13T09:11:07.719Z"
      },
      {
        "duration": 34,
        "start_time": "2024-08-13T09:11:07.764Z"
      },
      {
        "duration": 16,
        "start_time": "2024-08-13T09:11:07.800Z"
      },
      {
        "duration": 33,
        "start_time": "2024-08-13T09:11:07.817Z"
      },
      {
        "duration": 225,
        "start_time": "2024-08-13T09:11:07.852Z"
      },
      {
        "duration": 0,
        "start_time": "2024-08-13T09:11:08.079Z"
      },
      {
        "duration": 0,
        "start_time": "2024-08-13T09:11:08.080Z"
      },
      {
        "duration": 0,
        "start_time": "2024-08-13T09:11:08.082Z"
      },
      {
        "duration": 0,
        "start_time": "2024-08-13T09:11:08.083Z"
      },
      {
        "duration": 23,
        "start_time": "2024-08-13T09:16:54.240Z"
      },
      {
        "duration": 20,
        "start_time": "2024-08-13T09:17:28.188Z"
      },
      {
        "duration": 223,
        "start_time": "2024-08-13T09:17:58.642Z"
      },
      {
        "duration": 20,
        "start_time": "2024-08-13T09:18:21.502Z"
      },
      {
        "duration": 19,
        "start_time": "2024-08-13T09:19:02.004Z"
      },
      {
        "duration": 2750,
        "start_time": "2024-08-13T09:19:41.805Z"
      },
      {
        "duration": 63,
        "start_time": "2024-08-13T09:19:44.557Z"
      },
      {
        "duration": 39,
        "start_time": "2024-08-13T09:19:44.621Z"
      },
      {
        "duration": 4,
        "start_time": "2024-08-13T09:19:44.662Z"
      },
      {
        "duration": 50,
        "start_time": "2024-08-13T09:19:44.667Z"
      },
      {
        "duration": 17,
        "start_time": "2024-08-13T09:19:44.719Z"
      },
      {
        "duration": 23,
        "start_time": "2024-08-13T09:19:44.738Z"
      },
      {
        "duration": 5,
        "start_time": "2024-08-13T09:19:44.762Z"
      },
      {
        "duration": 75,
        "start_time": "2024-08-13T09:19:44.769Z"
      },
      {
        "duration": 1511,
        "start_time": "2024-08-13T09:19:44.847Z"
      },
      {
        "duration": 20,
        "start_time": "2024-08-13T09:19:46.359Z"
      },
      {
        "duration": 9,
        "start_time": "2024-08-13T09:19:46.381Z"
      },
      {
        "duration": 40,
        "start_time": "2024-08-13T09:19:46.407Z"
      },
      {
        "duration": 33,
        "start_time": "2024-08-13T09:19:46.449Z"
      },
      {
        "duration": 8,
        "start_time": "2024-08-13T09:19:46.484Z"
      },
      {
        "duration": 24,
        "start_time": "2024-08-13T09:19:46.494Z"
      },
      {
        "duration": 291,
        "start_time": "2024-08-13T09:19:46.520Z"
      },
      {
        "duration": 0,
        "start_time": "2024-08-13T09:19:46.813Z"
      },
      {
        "duration": 0,
        "start_time": "2024-08-13T09:19:46.815Z"
      },
      {
        "duration": 0,
        "start_time": "2024-08-13T09:19:46.817Z"
      },
      {
        "duration": 0,
        "start_time": "2024-08-13T09:19:46.818Z"
      },
      {
        "duration": 347,
        "start_time": "2024-08-13T09:29:18.498Z"
      },
      {
        "duration": 488,
        "start_time": "2024-08-13T09:29:33.698Z"
      },
      {
        "duration": 358,
        "start_time": "2024-08-13T09:29:56.229Z"
      },
      {
        "duration": 354,
        "start_time": "2024-08-13T09:30:31.761Z"
      },
      {
        "duration": 348,
        "start_time": "2024-08-13T09:36:21.822Z"
      },
      {
        "duration": 2691,
        "start_time": "2024-08-13T09:37:59.156Z"
      },
      {
        "duration": 64,
        "start_time": "2024-08-13T09:38:05.402Z"
      },
      {
        "duration": 49,
        "start_time": "2024-08-13T09:38:09.561Z"
      },
      {
        "duration": 4,
        "start_time": "2024-08-13T09:38:18.320Z"
      },
      {
        "duration": 19,
        "start_time": "2024-08-13T09:38:21.554Z"
      },
      {
        "duration": 16,
        "start_time": "2024-08-13T09:38:24.257Z"
      },
      {
        "duration": 31,
        "start_time": "2024-08-13T09:38:27.341Z"
      },
      {
        "duration": 5,
        "start_time": "2024-08-13T09:38:30.461Z"
      },
      {
        "duration": 30,
        "start_time": "2024-08-13T09:38:32.978Z"
      },
      {
        "duration": 1531,
        "start_time": "2024-08-13T09:38:36.537Z"
      },
      {
        "duration": 24,
        "start_time": "2024-08-13T09:38:44.308Z"
      },
      {
        "duration": 9,
        "start_time": "2024-08-13T09:39:02.004Z"
      },
      {
        "duration": 19,
        "start_time": "2024-08-13T09:39:05.372Z"
      },
      {
        "duration": 26,
        "start_time": "2024-08-13T09:39:10.901Z"
      },
      {
        "duration": 10,
        "start_time": "2024-08-13T09:39:15.999Z"
      },
      {
        "duration": 12,
        "start_time": "2024-08-13T09:39:19.153Z"
      },
      {
        "duration": 472,
        "start_time": "2024-08-13T09:39:31.544Z"
      },
      {
        "duration": 37,
        "start_time": "2024-08-13T09:46:01.556Z"
      },
      {
        "duration": 1272,
        "start_time": "2024-08-13T09:46:08.798Z"
      },
      {
        "duration": 353,
        "start_time": "2024-08-13T09:48:03.277Z"
      },
      {
        "duration": 2568,
        "start_time": "2024-08-13T09:48:48.135Z"
      },
      {
        "duration": 376,
        "start_time": "2024-08-13T09:49:03.646Z"
      },
      {
        "duration": 5182,
        "start_time": "2024-08-13T09:50:23.195Z"
      },
      {
        "duration": 363,
        "start_time": "2024-08-13T09:50:35.930Z"
      },
      {
        "duration": 470,
        "start_time": "2024-08-13T09:50:59.239Z"
      },
      {
        "duration": 5167,
        "start_time": "2024-08-13T09:53:09.553Z"
      },
      {
        "duration": 368,
        "start_time": "2024-08-13T09:53:36.536Z"
      },
      {
        "duration": 179,
        "start_time": "2024-08-13T09:59:18.557Z"
      },
      {
        "duration": 5185,
        "start_time": "2024-08-13T10:02:57.157Z"
      },
      {
        "duration": 63,
        "start_time": "2024-08-13T10:03:02.344Z"
      },
      {
        "duration": 40,
        "start_time": "2024-08-13T10:03:02.409Z"
      },
      {
        "duration": 5,
        "start_time": "2024-08-13T10:03:02.451Z"
      },
      {
        "duration": 39,
        "start_time": "2024-08-13T10:03:02.457Z"
      },
      {
        "duration": 19,
        "start_time": "2024-08-13T10:03:02.497Z"
      },
      {
        "duration": 40,
        "start_time": "2024-08-13T10:03:02.518Z"
      },
      {
        "duration": 13,
        "start_time": "2024-08-13T10:03:02.560Z"
      },
      {
        "duration": 51,
        "start_time": "2024-08-13T10:03:02.575Z"
      },
      {
        "duration": 1396,
        "start_time": "2024-08-13T10:03:02.628Z"
      },
      {
        "duration": 21,
        "start_time": "2024-08-13T10:03:04.025Z"
      },
      {
        "duration": 12,
        "start_time": "2024-08-13T10:03:04.047Z"
      },
      {
        "duration": 40,
        "start_time": "2024-08-13T10:03:04.062Z"
      },
      {
        "duration": 37,
        "start_time": "2024-08-13T10:03:04.103Z"
      },
      {
        "duration": 16,
        "start_time": "2024-08-13T10:03:04.142Z"
      },
      {
        "duration": 18,
        "start_time": "2024-08-13T10:03:04.160Z"
      },
      {
        "duration": 367,
        "start_time": "2024-08-13T10:03:08.426Z"
      },
      {
        "duration": 311,
        "start_time": "2024-08-13T10:10:35.457Z"
      },
      {
        "duration": 21,
        "start_time": "2024-08-13T10:14:25.205Z"
      },
      {
        "duration": 2586,
        "start_time": "2024-08-13T10:29:39.870Z"
      },
      {
        "duration": 61,
        "start_time": "2024-08-13T10:29:42.459Z"
      },
      {
        "duration": 38,
        "start_time": "2024-08-13T10:29:42.522Z"
      },
      {
        "duration": 23,
        "start_time": "2024-08-13T10:29:42.562Z"
      },
      {
        "duration": 24,
        "start_time": "2024-08-13T10:29:42.587Z"
      },
      {
        "duration": 16,
        "start_time": "2024-08-13T10:29:42.613Z"
      },
      {
        "duration": 28,
        "start_time": "2024-08-13T10:29:42.630Z"
      },
      {
        "duration": 6,
        "start_time": "2024-08-13T10:29:42.659Z"
      },
      {
        "duration": 47,
        "start_time": "2024-08-13T10:29:42.667Z"
      },
      {
        "duration": 1422,
        "start_time": "2024-08-13T10:29:42.716Z"
      },
      {
        "duration": 22,
        "start_time": "2024-08-13T10:29:44.139Z"
      },
      {
        "duration": 7,
        "start_time": "2024-08-13T10:29:44.163Z"
      },
      {
        "duration": 35,
        "start_time": "2024-08-13T10:29:44.172Z"
      },
      {
        "duration": 16,
        "start_time": "2024-08-13T10:29:44.209Z"
      },
      {
        "duration": 9,
        "start_time": "2024-08-13T10:29:44.227Z"
      },
      {
        "duration": 19,
        "start_time": "2024-08-13T10:29:44.237Z"
      },
      {
        "duration": 386,
        "start_time": "2024-08-13T10:29:44.258Z"
      },
      {
        "duration": 0,
        "start_time": "2024-08-13T10:29:44.646Z"
      },
      {
        "duration": 0,
        "start_time": "2024-08-13T10:29:44.648Z"
      },
      {
        "duration": 0,
        "start_time": "2024-08-13T10:29:44.649Z"
      },
      {
        "duration": 0,
        "start_time": "2024-08-13T10:29:44.650Z"
      },
      {
        "duration": 0,
        "start_time": "2024-08-13T10:29:44.651Z"
      },
      {
        "duration": 0,
        "start_time": "2024-08-13T10:29:44.653Z"
      },
      {
        "duration": 0,
        "start_time": "2024-08-13T10:29:44.654Z"
      },
      {
        "duration": 0,
        "start_time": "2024-08-13T10:29:44.655Z"
      },
      {
        "duration": 0,
        "start_time": "2024-08-13T10:29:44.656Z"
      },
      {
        "duration": 0,
        "start_time": "2024-08-13T10:29:44.657Z"
      },
      {
        "duration": 0,
        "start_time": "2024-08-13T10:29:44.658Z"
      },
      {
        "duration": 0,
        "start_time": "2024-08-13T10:29:44.660Z"
      },
      {
        "duration": 0,
        "start_time": "2024-08-13T10:29:44.661Z"
      },
      {
        "duration": 0,
        "start_time": "2024-08-13T10:29:44.662Z"
      },
      {
        "duration": 0,
        "start_time": "2024-08-13T10:29:44.663Z"
      },
      {
        "duration": 39,
        "start_time": "2024-08-13T10:36:48.053Z"
      },
      {
        "duration": 1345,
        "start_time": "2024-08-13T10:37:02.148Z"
      },
      {
        "duration": 1336,
        "start_time": "2024-08-13T10:38:16.621Z"
      },
      {
        "duration": 347,
        "start_time": "2024-08-13T10:41:18.029Z"
      },
      {
        "duration": 190,
        "start_time": "2024-08-13T10:42:58.681Z"
      },
      {
        "duration": 210,
        "start_time": "2024-08-13T10:43:59.385Z"
      },
      {
        "duration": 161,
        "start_time": "2024-08-13T10:50:41.241Z"
      },
      {
        "duration": 173,
        "start_time": "2024-08-13T10:51:24.683Z"
      },
      {
        "duration": 2578,
        "start_time": "2024-08-13T10:55:38.077Z"
      },
      {
        "duration": 63,
        "start_time": "2024-08-13T10:55:40.658Z"
      },
      {
        "duration": 37,
        "start_time": "2024-08-13T10:55:40.722Z"
      },
      {
        "duration": 4,
        "start_time": "2024-08-13T10:55:40.761Z"
      },
      {
        "duration": 46,
        "start_time": "2024-08-13T10:55:40.766Z"
      },
      {
        "duration": 18,
        "start_time": "2024-08-13T10:55:40.814Z"
      },
      {
        "duration": 23,
        "start_time": "2024-08-13T10:55:40.834Z"
      },
      {
        "duration": 5,
        "start_time": "2024-08-13T10:55:40.858Z"
      },
      {
        "duration": 65,
        "start_time": "2024-08-13T10:55:40.865Z"
      },
      {
        "duration": 1323,
        "start_time": "2024-08-13T10:55:41.069Z"
      },
      {
        "duration": 24,
        "start_time": "2024-08-13T10:55:42.393Z"
      },
      {
        "duration": 7,
        "start_time": "2024-08-13T10:55:42.419Z"
      },
      {
        "duration": 13,
        "start_time": "2024-08-13T10:55:42.428Z"
      },
      {
        "duration": 15,
        "start_time": "2024-08-13T10:55:42.443Z"
      },
      {
        "duration": 7,
        "start_time": "2024-08-13T10:55:42.459Z"
      },
      {
        "duration": 12,
        "start_time": "2024-08-13T10:55:42.507Z"
      },
      {
        "duration": 375,
        "start_time": "2024-08-13T10:55:42.520Z"
      },
      {
        "duration": 0,
        "start_time": "2024-08-13T10:55:42.898Z"
      },
      {
        "duration": 0,
        "start_time": "2024-08-13T10:55:42.899Z"
      },
      {
        "duration": 0,
        "start_time": "2024-08-13T10:55:42.901Z"
      },
      {
        "duration": 0,
        "start_time": "2024-08-13T10:55:42.910Z"
      },
      {
        "duration": 0,
        "start_time": "2024-08-13T10:55:42.912Z"
      },
      {
        "duration": 0,
        "start_time": "2024-08-13T10:55:42.914Z"
      },
      {
        "duration": 0,
        "start_time": "2024-08-13T10:55:42.915Z"
      },
      {
        "duration": 0,
        "start_time": "2024-08-13T10:55:42.917Z"
      },
      {
        "duration": 0,
        "start_time": "2024-08-13T10:55:42.918Z"
      },
      {
        "duration": 0,
        "start_time": "2024-08-13T10:55:42.919Z"
      },
      {
        "duration": 0,
        "start_time": "2024-08-13T10:55:42.921Z"
      },
      {
        "duration": 0,
        "start_time": "2024-08-13T10:55:42.923Z"
      },
      {
        "duration": 0,
        "start_time": "2024-08-13T10:55:42.924Z"
      },
      {
        "duration": 2671,
        "start_time": "2024-08-13T11:01:35.909Z"
      },
      {
        "duration": 63,
        "start_time": "2024-08-13T11:01:38.582Z"
      },
      {
        "duration": 42,
        "start_time": "2024-08-13T11:01:38.646Z"
      },
      {
        "duration": 19,
        "start_time": "2024-08-13T11:01:38.690Z"
      },
      {
        "duration": 57,
        "start_time": "2024-08-13T11:01:38.711Z"
      },
      {
        "duration": 29,
        "start_time": "2024-08-13T11:01:38.770Z"
      },
      {
        "duration": 36,
        "start_time": "2024-08-13T11:01:38.800Z"
      },
      {
        "duration": 29,
        "start_time": "2024-08-13T11:01:38.838Z"
      },
      {
        "duration": 44,
        "start_time": "2024-08-13T11:01:38.868Z"
      },
      {
        "duration": 1327,
        "start_time": "2024-08-13T11:01:38.913Z"
      },
      {
        "duration": 20,
        "start_time": "2024-08-13T11:01:40.242Z"
      },
      {
        "duration": 19,
        "start_time": "2024-08-13T11:01:40.263Z"
      },
      {
        "duration": 37,
        "start_time": "2024-08-13T11:01:40.283Z"
      },
      {
        "duration": 28,
        "start_time": "2024-08-13T11:01:40.323Z"
      },
      {
        "duration": 37,
        "start_time": "2024-08-13T11:01:40.353Z"
      },
      {
        "duration": 57,
        "start_time": "2024-08-13T11:01:40.392Z"
      },
      {
        "duration": 366,
        "start_time": "2024-08-13T11:01:40.450Z"
      },
      {
        "duration": 0,
        "start_time": "2024-08-13T11:01:40.817Z"
      },
      {
        "duration": 0,
        "start_time": "2024-08-13T11:01:40.818Z"
      },
      {
        "duration": 0,
        "start_time": "2024-08-13T11:01:40.819Z"
      },
      {
        "duration": 0,
        "start_time": "2024-08-13T11:01:40.820Z"
      },
      {
        "duration": 0,
        "start_time": "2024-08-13T11:01:40.822Z"
      },
      {
        "duration": 0,
        "start_time": "2024-08-13T11:01:40.823Z"
      },
      {
        "duration": 0,
        "start_time": "2024-08-13T11:01:40.824Z"
      },
      {
        "duration": 0,
        "start_time": "2024-08-13T11:01:40.825Z"
      },
      {
        "duration": 0,
        "start_time": "2024-08-13T11:01:40.826Z"
      },
      {
        "duration": 0,
        "start_time": "2024-08-13T11:01:40.828Z"
      },
      {
        "duration": 0,
        "start_time": "2024-08-13T11:01:40.829Z"
      },
      {
        "duration": 0,
        "start_time": "2024-08-13T11:01:40.831Z"
      },
      {
        "duration": 0,
        "start_time": "2024-08-13T11:01:40.832Z"
      },
      {
        "duration": 2609,
        "start_time": "2024-08-13T12:04:00.324Z"
      },
      {
        "duration": 64,
        "start_time": "2024-08-13T12:04:02.936Z"
      },
      {
        "duration": 39,
        "start_time": "2024-08-13T12:04:03.001Z"
      },
      {
        "duration": 4,
        "start_time": "2024-08-13T12:04:03.042Z"
      },
      {
        "duration": 26,
        "start_time": "2024-08-13T12:04:03.048Z"
      },
      {
        "duration": 34,
        "start_time": "2024-08-13T12:04:03.076Z"
      },
      {
        "duration": 40,
        "start_time": "2024-08-13T12:04:03.112Z"
      },
      {
        "duration": 10,
        "start_time": "2024-08-13T12:04:03.154Z"
      },
      {
        "duration": 51,
        "start_time": "2024-08-13T12:04:03.166Z"
      },
      {
        "duration": 1291,
        "start_time": "2024-08-13T12:04:03.219Z"
      },
      {
        "duration": 20,
        "start_time": "2024-08-13T12:04:04.512Z"
      },
      {
        "duration": 9,
        "start_time": "2024-08-13T12:04:04.533Z"
      },
      {
        "duration": 18,
        "start_time": "2024-08-13T12:04:04.544Z"
      },
      {
        "duration": 17,
        "start_time": "2024-08-13T12:04:04.565Z"
      },
      {
        "duration": 29,
        "start_time": "2024-08-13T12:04:04.583Z"
      },
      {
        "duration": 17,
        "start_time": "2024-08-13T12:04:04.613Z"
      },
      {
        "duration": 506,
        "start_time": "2024-08-13T12:04:04.632Z"
      },
      {
        "duration": 0,
        "start_time": "2024-08-13T12:04:05.140Z"
      },
      {
        "duration": 0,
        "start_time": "2024-08-13T12:04:05.141Z"
      },
      {
        "duration": 0,
        "start_time": "2024-08-13T12:04:05.142Z"
      },
      {
        "duration": 0,
        "start_time": "2024-08-13T12:04:05.143Z"
      },
      {
        "duration": 0,
        "start_time": "2024-08-13T12:04:05.144Z"
      },
      {
        "duration": 0,
        "start_time": "2024-08-13T12:04:05.145Z"
      },
      {
        "duration": 0,
        "start_time": "2024-08-13T12:04:05.146Z"
      },
      {
        "duration": 0,
        "start_time": "2024-08-13T12:04:05.147Z"
      },
      {
        "duration": 0,
        "start_time": "2024-08-13T12:04:05.148Z"
      },
      {
        "duration": 0,
        "start_time": "2024-08-13T12:04:05.149Z"
      },
      {
        "duration": 0,
        "start_time": "2024-08-13T12:04:05.150Z"
      },
      {
        "duration": 0,
        "start_time": "2024-08-13T12:04:05.151Z"
      },
      {
        "duration": 0,
        "start_time": "2024-08-13T12:04:05.152Z"
      },
      {
        "duration": 2520,
        "start_time": "2024-08-14T08:06:05.582Z"
      },
      {
        "duration": 65,
        "start_time": "2024-08-14T08:06:08.105Z"
      },
      {
        "duration": 38,
        "start_time": "2024-08-14T08:06:08.172Z"
      },
      {
        "duration": 4,
        "start_time": "2024-08-14T08:06:08.211Z"
      },
      {
        "duration": 21,
        "start_time": "2024-08-14T08:06:08.217Z"
      },
      {
        "duration": 15,
        "start_time": "2024-08-14T08:06:08.240Z"
      },
      {
        "duration": 22,
        "start_time": "2024-08-14T08:06:08.257Z"
      },
      {
        "duration": 27,
        "start_time": "2024-08-14T08:06:08.280Z"
      },
      {
        "duration": 32,
        "start_time": "2024-08-14T08:06:08.309Z"
      },
      {
        "duration": 1376,
        "start_time": "2024-08-14T08:06:08.343Z"
      },
      {
        "duration": 20,
        "start_time": "2024-08-14T08:06:09.721Z"
      },
      {
        "duration": 22,
        "start_time": "2024-08-14T08:06:09.743Z"
      },
      {
        "duration": 23,
        "start_time": "2024-08-14T08:06:09.766Z"
      },
      {
        "duration": 25,
        "start_time": "2024-08-14T08:06:09.792Z"
      },
      {
        "duration": 7,
        "start_time": "2024-08-14T08:06:09.819Z"
      },
      {
        "duration": 14,
        "start_time": "2024-08-14T08:06:09.827Z"
      },
      {
        "duration": 389,
        "start_time": "2024-08-14T08:06:09.842Z"
      },
      {
        "duration": 0,
        "start_time": "2024-08-14T08:06:10.232Z"
      },
      {
        "duration": 0,
        "start_time": "2024-08-14T08:06:10.234Z"
      },
      {
        "duration": 1,
        "start_time": "2024-08-14T08:06:10.234Z"
      },
      {
        "duration": 0,
        "start_time": "2024-08-14T08:06:10.236Z"
      },
      {
        "duration": 0,
        "start_time": "2024-08-14T08:06:10.237Z"
      },
      {
        "duration": 0,
        "start_time": "2024-08-14T08:06:10.237Z"
      },
      {
        "duration": 0,
        "start_time": "2024-08-14T08:06:10.238Z"
      },
      {
        "duration": 0,
        "start_time": "2024-08-14T08:06:10.240Z"
      },
      {
        "duration": 0,
        "start_time": "2024-08-14T08:06:10.241Z"
      },
      {
        "duration": 0,
        "start_time": "2024-08-14T08:06:10.242Z"
      },
      {
        "duration": 0,
        "start_time": "2024-08-14T08:06:10.242Z"
      },
      {
        "duration": 0,
        "start_time": "2024-08-14T08:06:10.243Z"
      },
      {
        "duration": 0,
        "start_time": "2024-08-14T08:06:10.244Z"
      },
      {
        "duration": 37,
        "start_time": "2024-08-14T08:07:51.565Z"
      },
      {
        "duration": 2550,
        "start_time": "2024-08-14T09:46:49.504Z"
      },
      {
        "duration": 65,
        "start_time": "2024-08-14T09:46:52.057Z"
      },
      {
        "duration": 38,
        "start_time": "2024-08-14T09:46:52.124Z"
      },
      {
        "duration": 4,
        "start_time": "2024-08-14T09:46:52.164Z"
      },
      {
        "duration": 39,
        "start_time": "2024-08-14T09:46:52.169Z"
      },
      {
        "duration": 15,
        "start_time": "2024-08-14T09:46:52.210Z"
      },
      {
        "duration": 26,
        "start_time": "2024-08-14T09:46:52.227Z"
      },
      {
        "duration": 5,
        "start_time": "2024-08-14T09:46:52.255Z"
      },
      {
        "duration": 51,
        "start_time": "2024-08-14T09:46:52.262Z"
      },
      {
        "duration": 1294,
        "start_time": "2024-08-14T09:46:52.316Z"
      },
      {
        "duration": 21,
        "start_time": "2024-08-14T09:46:53.612Z"
      },
      {
        "duration": 7,
        "start_time": "2024-08-14T09:46:53.635Z"
      },
      {
        "duration": 30,
        "start_time": "2024-08-14T09:46:53.643Z"
      },
      {
        "duration": 21,
        "start_time": "2024-08-14T09:46:53.675Z"
      },
      {
        "duration": 13,
        "start_time": "2024-08-14T09:46:53.698Z"
      },
      {
        "duration": 13,
        "start_time": "2024-08-14T09:46:53.712Z"
      },
      {
        "duration": 368,
        "start_time": "2024-08-14T09:46:53.726Z"
      },
      {
        "duration": 0,
        "start_time": "2024-08-14T09:46:54.097Z"
      },
      {
        "duration": 0,
        "start_time": "2024-08-14T09:46:54.098Z"
      },
      {
        "duration": 0,
        "start_time": "2024-08-14T09:46:54.099Z"
      },
      {
        "duration": 0,
        "start_time": "2024-08-14T09:46:54.107Z"
      },
      {
        "duration": 0,
        "start_time": "2024-08-14T09:46:54.109Z"
      },
      {
        "duration": 0,
        "start_time": "2024-08-14T09:46:54.110Z"
      },
      {
        "duration": 0,
        "start_time": "2024-08-14T09:46:54.112Z"
      },
      {
        "duration": 0,
        "start_time": "2024-08-14T09:46:54.113Z"
      },
      {
        "duration": 0,
        "start_time": "2024-08-14T09:46:54.115Z"
      },
      {
        "duration": 0,
        "start_time": "2024-08-14T09:46:54.116Z"
      },
      {
        "duration": 0,
        "start_time": "2024-08-14T09:46:54.117Z"
      },
      {
        "duration": 0,
        "start_time": "2024-08-14T09:46:54.119Z"
      },
      {
        "duration": 0,
        "start_time": "2024-08-14T09:46:54.120Z"
      },
      {
        "duration": 37,
        "start_time": "2024-08-14T09:50:24.757Z"
      },
      {
        "duration": 36,
        "start_time": "2024-08-14T09:51:21.756Z"
      },
      {
        "duration": 1411,
        "start_time": "2024-08-14T09:52:14.133Z"
      },
      {
        "duration": 324,
        "start_time": "2024-08-14T09:52:56.492Z"
      },
      {
        "duration": 195,
        "start_time": "2024-08-14T09:54:16.815Z"
      },
      {
        "duration": 541,
        "start_time": "2024-08-14T10:00:07.308Z"
      },
      {
        "duration": 73,
        "start_time": "2024-08-14T10:00:18.638Z"
      },
      {
        "duration": 159,
        "start_time": "2024-08-14T10:03:17.950Z"
      },
      {
        "duration": 43,
        "start_time": "2024-08-14T10:06:08.791Z"
      },
      {
        "duration": 53,
        "start_time": "2024-08-14T10:07:31.611Z"
      },
      {
        "duration": 9,
        "start_time": "2024-08-14T10:09:33.888Z"
      },
      {
        "duration": 10,
        "start_time": "2024-08-14T10:09:37.954Z"
      },
      {
        "duration": 4730,
        "start_time": "2024-08-14T10:52:21.955Z"
      },
      {
        "duration": 218,
        "start_time": "2024-08-14T10:52:26.687Z"
      },
      {
        "duration": 43,
        "start_time": "2024-08-14T10:52:26.906Z"
      },
      {
        "duration": 4,
        "start_time": "2024-08-14T10:52:26.952Z"
      },
      {
        "duration": 29,
        "start_time": "2024-08-14T10:52:26.958Z"
      },
      {
        "duration": 17,
        "start_time": "2024-08-14T10:52:26.988Z"
      },
      {
        "duration": 22,
        "start_time": "2024-08-14T10:52:27.006Z"
      },
      {
        "duration": 7,
        "start_time": "2024-08-14T10:52:27.029Z"
      },
      {
        "duration": 54,
        "start_time": "2024-08-14T10:52:27.038Z"
      },
      {
        "duration": 1353,
        "start_time": "2024-08-14T10:52:27.094Z"
      },
      {
        "duration": 22,
        "start_time": "2024-08-14T10:52:28.449Z"
      },
      {
        "duration": 7,
        "start_time": "2024-08-14T10:52:28.485Z"
      },
      {
        "duration": 20,
        "start_time": "2024-08-14T10:52:28.493Z"
      },
      {
        "duration": 20,
        "start_time": "2024-08-14T10:52:28.515Z"
      },
      {
        "duration": 6,
        "start_time": "2024-08-14T10:52:28.537Z"
      },
      {
        "duration": 27,
        "start_time": "2024-08-14T10:52:28.545Z"
      },
      {
        "duration": 420,
        "start_time": "2024-08-14T10:52:28.574Z"
      },
      {
        "duration": 36,
        "start_time": "2024-08-14T10:52:28.995Z"
      },
      {
        "duration": 1368,
        "start_time": "2024-08-14T10:52:29.033Z"
      },
      {
        "duration": 304,
        "start_time": "2024-08-14T10:52:30.402Z"
      },
      {
        "duration": 302,
        "start_time": "2024-08-14T10:52:30.708Z"
      },
      {
        "duration": 558,
        "start_time": "2024-08-14T10:52:31.011Z"
      },
      {
        "duration": 94,
        "start_time": "2024-08-14T10:52:31.570Z"
      },
      {
        "duration": 200,
        "start_time": "2024-08-14T10:52:31.667Z"
      },
      {
        "duration": 56,
        "start_time": "2024-08-14T10:52:31.869Z"
      },
      {
        "duration": 102,
        "start_time": "2024-08-14T10:52:31.927Z"
      },
      {
        "duration": 32,
        "start_time": "2024-08-14T10:52:32.031Z"
      },
      {
        "duration": 8,
        "start_time": "2024-08-14T10:52:32.086Z"
      },
      {
        "duration": 8,
        "start_time": "2024-08-14T10:52:32.096Z"
      },
      {
        "duration": 3796,
        "start_time": "2024-08-14T10:53:17.012Z"
      },
      {
        "duration": 63,
        "start_time": "2024-08-14T10:53:20.810Z"
      },
      {
        "duration": 44,
        "start_time": "2024-08-14T10:53:20.874Z"
      },
      {
        "duration": 4,
        "start_time": "2024-08-14T10:53:20.919Z"
      },
      {
        "duration": 20,
        "start_time": "2024-08-14T10:53:20.925Z"
      },
      {
        "duration": 39,
        "start_time": "2024-08-14T10:53:20.946Z"
      },
      {
        "duration": 21,
        "start_time": "2024-08-14T10:53:20.987Z"
      },
      {
        "duration": 5,
        "start_time": "2024-08-14T10:53:21.009Z"
      },
      {
        "duration": 33,
        "start_time": "2024-08-14T10:53:21.016Z"
      },
      {
        "duration": 1375,
        "start_time": "2024-08-14T10:53:21.051Z"
      },
      {
        "duration": 26,
        "start_time": "2024-08-14T10:53:22.428Z"
      },
      {
        "duration": 29,
        "start_time": "2024-08-14T10:53:22.456Z"
      },
      {
        "duration": 21,
        "start_time": "2024-08-14T10:53:22.487Z"
      },
      {
        "duration": 19,
        "start_time": "2024-08-14T10:53:22.511Z"
      },
      {
        "duration": 8,
        "start_time": "2024-08-14T10:53:22.531Z"
      },
      {
        "duration": 47,
        "start_time": "2024-08-14T10:53:22.541Z"
      },
      {
        "duration": 405,
        "start_time": "2024-08-14T10:53:22.590Z"
      },
      {
        "duration": 42,
        "start_time": "2024-08-14T10:53:22.997Z"
      },
      {
        "duration": 1381,
        "start_time": "2024-08-14T10:53:23.040Z"
      },
      {
        "duration": 308,
        "start_time": "2024-08-14T10:53:24.423Z"
      },
      {
        "duration": 308,
        "start_time": "2024-08-14T10:53:24.733Z"
      },
      {
        "duration": 541,
        "start_time": "2024-08-14T10:53:25.043Z"
      },
      {
        "duration": 77,
        "start_time": "2024-08-14T10:53:25.586Z"
      },
      {
        "duration": 192,
        "start_time": "2024-08-14T10:53:25.665Z"
      },
      {
        "duration": 60,
        "start_time": "2024-08-14T10:53:25.858Z"
      },
      {
        "duration": 80,
        "start_time": "2024-08-14T10:53:25.919Z"
      },
      {
        "duration": 35,
        "start_time": "2024-08-14T10:53:26.001Z"
      },
      {
        "duration": 21,
        "start_time": "2024-08-14T10:53:26.038Z"
      },
      {
        "duration": 27,
        "start_time": "2024-08-14T10:53:26.061Z"
      },
      {
        "duration": 2471,
        "start_time": "2024-08-15T08:08:35.605Z"
      },
      {
        "duration": 77,
        "start_time": "2024-08-15T08:08:38.079Z"
      },
      {
        "duration": 37,
        "start_time": "2024-08-15T08:08:38.157Z"
      },
      {
        "duration": 3,
        "start_time": "2024-08-15T08:08:38.196Z"
      },
      {
        "duration": 41,
        "start_time": "2024-08-15T08:08:38.201Z"
      },
      {
        "duration": 14,
        "start_time": "2024-08-15T08:08:38.243Z"
      },
      {
        "duration": 19,
        "start_time": "2024-08-15T08:08:38.259Z"
      },
      {
        "duration": 10,
        "start_time": "2024-08-15T08:08:38.280Z"
      },
      {
        "duration": 31,
        "start_time": "2024-08-15T08:08:38.292Z"
      },
      {
        "duration": 1243,
        "start_time": "2024-08-15T08:08:38.326Z"
      },
      {
        "duration": 20,
        "start_time": "2024-08-15T08:08:39.570Z"
      },
      {
        "duration": 21,
        "start_time": "2024-08-15T08:08:39.591Z"
      },
      {
        "duration": 15,
        "start_time": "2024-08-15T08:08:39.613Z"
      },
      {
        "duration": 16,
        "start_time": "2024-08-15T08:08:39.629Z"
      },
      {
        "duration": 7,
        "start_time": "2024-08-15T08:08:39.647Z"
      },
      {
        "duration": 14,
        "start_time": "2024-08-15T08:08:39.655Z"
      },
      {
        "duration": 386,
        "start_time": "2024-08-15T08:08:39.671Z"
      },
      {
        "duration": 0,
        "start_time": "2024-08-15T08:08:40.059Z"
      },
      {
        "duration": 0,
        "start_time": "2024-08-15T08:08:40.061Z"
      },
      {
        "duration": 0,
        "start_time": "2024-08-15T08:08:40.063Z"
      },
      {
        "duration": 0,
        "start_time": "2024-08-15T08:08:40.064Z"
      },
      {
        "duration": 1,
        "start_time": "2024-08-15T08:08:40.065Z"
      },
      {
        "duration": 0,
        "start_time": "2024-08-15T08:08:40.067Z"
      },
      {
        "duration": 0,
        "start_time": "2024-08-15T08:08:40.069Z"
      },
      {
        "duration": 0,
        "start_time": "2024-08-15T08:08:40.070Z"
      },
      {
        "duration": 0,
        "start_time": "2024-08-15T08:08:40.072Z"
      },
      {
        "duration": 0,
        "start_time": "2024-08-15T08:08:40.073Z"
      },
      {
        "duration": 0,
        "start_time": "2024-08-15T08:08:40.075Z"
      },
      {
        "duration": 0,
        "start_time": "2024-08-15T08:08:40.107Z"
      },
      {
        "duration": 2404,
        "start_time": "2024-08-15T08:09:12.811Z"
      },
      {
        "duration": 57,
        "start_time": "2024-08-15T08:09:15.218Z"
      },
      {
        "duration": 35,
        "start_time": "2024-08-15T08:09:15.277Z"
      },
      {
        "duration": 4,
        "start_time": "2024-08-15T08:09:15.314Z"
      },
      {
        "duration": 27,
        "start_time": "2024-08-15T08:09:15.319Z"
      },
      {
        "duration": 16,
        "start_time": "2024-08-15T08:09:15.347Z"
      },
      {
        "duration": 24,
        "start_time": "2024-08-15T08:09:15.365Z"
      },
      {
        "duration": 7,
        "start_time": "2024-08-15T08:09:15.390Z"
      },
      {
        "duration": 170,
        "start_time": "2024-08-15T08:09:15.407Z"
      },
      {
        "duration": 1262,
        "start_time": "2024-08-15T08:09:15.579Z"
      },
      {
        "duration": 20,
        "start_time": "2024-08-15T08:09:16.842Z"
      },
      {
        "duration": 8,
        "start_time": "2024-08-15T08:09:16.863Z"
      },
      {
        "duration": 35,
        "start_time": "2024-08-15T08:09:16.872Z"
      },
      {
        "duration": 33,
        "start_time": "2024-08-15T08:09:16.908Z"
      },
      {
        "duration": 6,
        "start_time": "2024-08-15T08:09:16.943Z"
      },
      {
        "duration": 11,
        "start_time": "2024-08-15T08:09:16.950Z"
      },
      {
        "duration": 313967,
        "start_time": "2024-08-15T08:09:16.962Z"
      },
      {
        "duration": 354,
        "start_time": "2024-08-15T08:14:30.931Z"
      },
      {
        "duration": 0,
        "start_time": "2024-08-15T08:14:31.287Z"
      },
      {
        "duration": 0,
        "start_time": "2024-08-15T08:14:31.289Z"
      },
      {
        "duration": 0,
        "start_time": "2024-08-15T08:14:31.290Z"
      },
      {
        "duration": 0,
        "start_time": "2024-08-15T08:14:31.292Z"
      },
      {
        "duration": 0,
        "start_time": "2024-08-15T08:14:31.293Z"
      },
      {
        "duration": 0,
        "start_time": "2024-08-15T08:14:31.307Z"
      },
      {
        "duration": 1,
        "start_time": "2024-08-15T08:14:31.308Z"
      },
      {
        "duration": 0,
        "start_time": "2024-08-15T08:14:31.310Z"
      },
      {
        "duration": 0,
        "start_time": "2024-08-15T08:14:31.310Z"
      },
      {
        "duration": 0,
        "start_time": "2024-08-15T08:14:31.311Z"
      },
      {
        "duration": 0,
        "start_time": "2024-08-15T08:14:31.313Z"
      },
      {
        "duration": 0,
        "start_time": "2024-08-15T08:14:31.313Z"
      },
      {
        "duration": 353,
        "start_time": "2024-08-15T12:54:27.421Z"
      },
      {
        "duration": 4793,
        "start_time": "2025-08-01T18:34:21.130Z"
      },
      {
        "duration": 54,
        "start_time": "2025-08-01T18:34:25.927Z"
      },
      {
        "duration": 42,
        "start_time": "2025-08-01T18:34:25.983Z"
      },
      {
        "duration": 4,
        "start_time": "2025-08-01T18:34:26.027Z"
      },
      {
        "duration": 33,
        "start_time": "2025-08-01T18:34:26.034Z"
      },
      {
        "duration": 16,
        "start_time": "2025-08-01T18:34:26.069Z"
      },
      {
        "duration": 22,
        "start_time": "2025-08-01T18:34:26.098Z"
      },
      {
        "duration": 103,
        "start_time": "2025-08-01T18:34:26.122Z"
      },
      {
        "duration": 49,
        "start_time": "2025-08-01T18:34:26.227Z"
      },
      {
        "duration": 1344,
        "start_time": "2025-08-01T18:34:26.278Z"
      },
      {
        "duration": 23,
        "start_time": "2025-08-01T18:34:27.624Z"
      },
      {
        "duration": 8,
        "start_time": "2025-08-01T18:34:27.649Z"
      },
      {
        "duration": 40,
        "start_time": "2025-08-01T18:34:27.659Z"
      },
      {
        "duration": 17,
        "start_time": "2025-08-01T18:34:27.702Z"
      },
      {
        "duration": 7,
        "start_time": "2025-08-01T18:34:27.721Z"
      },
      {
        "duration": 21,
        "start_time": "2025-08-01T18:34:27.730Z"
      },
      {
        "duration": 19998,
        "start_time": "2025-08-01T18:34:27.753Z"
      },
      {
        "duration": 383,
        "start_time": "2025-08-01T18:34:47.753Z"
      },
      {
        "duration": 39,
        "start_time": "2025-08-01T18:34:48.137Z"
      },
      {
        "duration": 2253,
        "start_time": "2025-08-01T18:34:48.178Z"
      },
      {
        "duration": 386,
        "start_time": "2025-08-01T18:34:50.433Z"
      },
      {
        "duration": 228,
        "start_time": "2025-08-01T18:34:50.820Z"
      },
      {
        "duration": 542,
        "start_time": "2025-08-01T18:34:51.049Z"
      },
      {
        "duration": 81,
        "start_time": "2025-08-01T18:34:51.592Z"
      },
      {
        "duration": 193,
        "start_time": "2025-08-01T18:34:51.675Z"
      },
      {
        "duration": 50,
        "start_time": "2025-08-01T18:34:51.870Z"
      },
      {
        "duration": 80,
        "start_time": "2025-08-01T18:34:51.922Z"
      },
      {
        "duration": 34,
        "start_time": "2025-08-01T18:34:52.004Z"
      },
      {
        "duration": 37,
        "start_time": "2025-08-01T18:34:52.040Z"
      },
      {
        "duration": 45,
        "start_time": "2025-08-01T18:34:52.078Z"
      }
    ],
    "colab": {
      "collapsed_sections": [
        "BRgdYWH02KFr"
      ],
      "provenance": [],
      "toc_visible": true
    },
    "kernelspec": {
      "display_name": "Python 3 (ipykernel)",
      "language": "python",
      "name": "python3"
    },
    "language_info": {
      "codemirror_mode": {
        "name": "ipython",
        "version": 3
      },
      "file_extension": ".py",
      "mimetype": "text/x-python",
      "name": "python",
      "nbconvert_exporter": "python",
      "pygments_lexer": "ipython3",
      "version": "3.9.5"
    },
    "toc": {
      "base_numbering": 1,
      "nav_menu": {},
      "number_sections": true,
      "sideBar": true,
      "skip_h1_title": true,
      "title_cell": "Table of Contents",
      "title_sidebar": "Contents",
      "toc_cell": false,
      "toc_position": {
        "height": "calc(100% - 180px)",
        "left": "10px",
        "top": "150px",
        "width": "207.76px"
      },
      "toc_section_display": true,
      "toc_window_display": true
    }
  },
  "nbformat": 4,
  "nbformat_minor": 0
}