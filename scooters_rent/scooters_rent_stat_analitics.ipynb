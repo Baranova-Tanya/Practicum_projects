{
  "cells": [
    {
      "cell_type": "markdown",
      "id": "52c9f6d5",
      "metadata": {
        "id": "52c9f6d5"
      },
      "source": [
        "# Статистический анализ данных сервиса аренды самокатов"
      ]
    },
    {
      "cell_type": "markdown",
      "id": "41795493",
      "metadata": {
        "toc": true,
        "id": "41795493"
      },
      "source": [
        "<h1>Оглавление<span class=\"tocSkip\"></span></h1>\n",
        "<div class=\"toc\"><ul class=\"toc-item\"><li><span><a href=\"#Описание-проекта\" data-toc-modified-id=\"Описание-проекта-1\"><span class=\"toc-item-num\">1&nbsp;&nbsp;</span>Описание проекта</a></span></li><li><span><a href=\"#Шаг-1.-Загрузка-данных\" data-toc-modified-id=\"Шаг-1.-Загрузка-данных-2\"><span class=\"toc-item-num\">2&nbsp;&nbsp;</span>Шаг 1. Загрузка данных</a></span><ul class=\"toc-item\"><li><span><a href=\"#Сохранение-данных-в-датафреймы\" data-toc-modified-id=\"Сохранение-данных-в-датафреймы-2.1\"><span class=\"toc-item-num\">2.1&nbsp;&nbsp;</span>Сохранение данных в датафреймы</a></span></li><li><span><a href=\"#Общая-информация-о-датафреймах\" data-toc-modified-id=\"Общая-информация-о-датафреймах-2.2\"><span class=\"toc-item-num\">2.2&nbsp;&nbsp;</span>Общая информация о датафреймах</a></span></li></ul></li><li><span><a href=\"#Шаг-2.-Предобработка-данных\" data-toc-modified-id=\"Шаг-2.-Предобработка-данных-3\"><span class=\"toc-item-num\">3&nbsp;&nbsp;</span>Шаг 2. Предобработка данных</a></span><ul class=\"toc-item\"><li><span><a href=\"#Преобразование-типов-данных\" data-toc-modified-id=\"Преобразование-типов-данных-3.1\"><span class=\"toc-item-num\">3.1&nbsp;&nbsp;</span>Преобразование типов данных</a></span></li><li><span><a href=\"#Добавление-номера-месяца\" data-toc-modified-id=\"Добавление-номера-месяца-3.2\"><span class=\"toc-item-num\">3.2&nbsp;&nbsp;</span>Добавление номера месяца</a></span></li><li><span><a href=\"#Обработка-дубликатов\" data-toc-modified-id=\"Обработка-дубликатов-3.3\"><span class=\"toc-item-num\">3.3&nbsp;&nbsp;</span>Обработка дубликатов</a></span></li></ul></li><li><span><a href=\"#Шаг-3.-Исследовательский-анализ-данных\" data-toc-modified-id=\"Шаг-3.-Исследовательский-анализ-данных-4\"><span class=\"toc-item-num\">4&nbsp;&nbsp;</span>Шаг 3. Исследовательский анализ данных</a></span><ul class=\"toc-item\"><li><span><a href=\"#Частота-встречаемости-городов\" data-toc-modified-id=\"Частота-встречаемости-городов-4.1\"><span class=\"toc-item-num\">4.1&nbsp;&nbsp;</span>Частота встречаемости городов</a></span></li><li><span><a href=\"#Соотношение-пользователей-с-подпиской-и-без-подписки\" data-toc-modified-id=\"Соотношение-пользователей-с-подпиской-и-без-подписки-4.2\"><span class=\"toc-item-num\">4.2&nbsp;&nbsp;</span>Соотношение пользователей с подпиской и без подписки</a></span></li><li><span><a href=\"#Возраст-пользователей\" data-toc-modified-id=\"Возраст-пользователей-4.3\"><span class=\"toc-item-num\">4.3&nbsp;&nbsp;</span>Возраст пользователей</a></span></li><li><span><a href=\"#Расстояние,-которое-пользователь-преодолел-за-одну-поездку\" data-toc-modified-id=\"Расстояние,-которое-пользователь-преодолел-за-одну-поездку-4.4\"><span class=\"toc-item-num\">4.4&nbsp;&nbsp;</span>Расстояние, которое пользователь преодолел за одну поездку</a></span></li><li><span><a href=\"#Продолжительность-поездок\" data-toc-modified-id=\"Продолжительность-поездок-4.5\"><span class=\"toc-item-num\">4.5&nbsp;&nbsp;</span>Продолжительность поездок</a></span></li></ul></li><li><span><a href=\"#Шаг-4.-Объединение-данных\" data-toc-modified-id=\"Шаг-4.-Объединение-данных-5\"><span class=\"toc-item-num\">5&nbsp;&nbsp;</span>Шаг 4. Объединение данных</a></span><ul class=\"toc-item\"><li><span><a href=\"#Создание-единого-датафрейма\" data-toc-modified-id=\"Создание-единого-датафрейма-5.1\"><span class=\"toc-item-num\">5.1&nbsp;&nbsp;</span>Создание единого датафрейма</a></span></li><li><span><a href=\"#Разделение-данных-о-пользователях-с-подпиской-и-без-подписки\" data-toc-modified-id=\"Разделение-данных-о-пользователях-с-подпиской-и-без-подписки-5.2\"><span class=\"toc-item-num\">5.2&nbsp;&nbsp;</span>Разделение данных о пользователях с подпиской и без подписки</a></span></li><li><span><a href=\"#Визуализация-расстояния-и-времени-поездок\" data-toc-modified-id=\"Визуализация-расстояния-и-времени-поездок-5.3\"><span class=\"toc-item-num\">5.3&nbsp;&nbsp;</span>Визуализация расстояния и времени поездок</a></span></li></ul></li><li><span><a href=\"#Шаг-5.-Подсчет-выручки\" data-toc-modified-id=\"Шаг-5.-Подсчет-выручки-6\"><span class=\"toc-item-num\">6&nbsp;&nbsp;</span>Шаг 5. Подсчет выручки</a></span><ul class=\"toc-item\"><li><span><a href=\"#Агрегирование-данных-о-поездках\" data-toc-modified-id=\"Агрегирование-данных-о-поездках-6.1\"><span class=\"toc-item-num\">6.1&nbsp;&nbsp;</span>Агрегирование данных о поездках</a></span></li><li><span><a href=\"#Расчет-помесячной-выручки-от-каждого-пользователя\" data-toc-modified-id=\"Расчет-помесячной-выручки-от-каждого-пользователя-6.2\"><span class=\"toc-item-num\">6.2&nbsp;&nbsp;</span>Расчет помесячной выручки от каждого пользователя</a></span></li></ul></li><li><span><a href=\"#Шаг-6.-Проверка-гипотез\" data-toc-modified-id=\"Шаг-6.-Проверка-гипотез-7\"><span class=\"toc-item-num\">7&nbsp;&nbsp;</span>Шаг 6. Проверка гипотез</a></span><ul class=\"toc-item\"><li><span><a href=\"#Продолжительность-поездок\" data-toc-modified-id=\"Продолжительность-поездок-7.1\"><span class=\"toc-item-num\">7.1&nbsp;&nbsp;</span>Продолжительность поездок</a></span></li><li><span><a href=\"#Расстояние\" data-toc-modified-id=\"Расстояние-7.2\"><span class=\"toc-item-num\">7.2&nbsp;&nbsp;</span>Расстояние</a></span></li><li><span><a href=\"#Помесячная-выручка\" data-toc-modified-id=\"Помесячная-выручка-7.3\"><span class=\"toc-item-num\">7.3&nbsp;&nbsp;</span>Помесячная выручка</a></span></li><li><span><a href=\"#Обновление-серверов\" data-toc-modified-id=\"Обновление-серверов-7.4\"><span class=\"toc-item-num\">7.4&nbsp;&nbsp;</span>Обновление серверов</a></span></li></ul></li><li><span><a href=\"#Шаг-7.-Распределения\" data-toc-modified-id=\"Шаг-7.-Распределения-8\"><span class=\"toc-item-num\">8&nbsp;&nbsp;</span>Шаг 7. Распределения</a></span><ul class=\"toc-item\"><li><span><a href=\"#Промокоды\" data-toc-modified-id=\"Промокоды-8.1\"><span class=\"toc-item-num\">8.1&nbsp;&nbsp;</span>Промокоды</a></span></li><li><span><a href=\"#Уведомления\" data-toc-modified-id=\"Уведомления-8.2\"><span class=\"toc-item-num\">8.2&nbsp;&nbsp;</span>Уведомления</a></span></li></ul></li><li><span><a href=\"#Итоговые-выводы\" data-toc-modified-id=\"Итоговые-выводы-9\"><span class=\"toc-item-num\">9&nbsp;&nbsp;</span>Итоговые выводы</a></span></li></ul></div>"
      ]
    },
    {
      "cell_type": "code",
      "execution_count": null,
      "id": "72576667",
      "metadata": {
        "id": "72576667"
      },
      "outputs": [],
      "source": [
        "import pandas as pd\n",
        "import matplotlib.pyplot as plt\n",
        "import numpy as np\n",
        "\n",
        "from scipy import stats as st\n",
        "from pathlib import Path"
      ]
    },
    {
      "cell_type": "markdown",
      "id": "1ffeb5cc",
      "metadata": {
        "id": "1ffeb5cc"
      },
      "source": [
        "## Описание проекта\n",
        "\n",
        "Анализ проводится для популярного сервиса аренды самокатов.\n",
        "\n",
        "Чтобы совершать поездки по городу, пользователи сервиса пользуются мобильным приложением.\n",
        "\n",
        "Сервисом можно пользоваться:\n",
        "- без подписки\n",
        "- с подпиской Ultra\n",
        "\n",
        "Сравним расстояние и длительность поездок пользователей с подпиской и без подписки.\n",
        "\n",
        "Рассчитаем помесячную выручку, полученную сервисом от каждого пользователя.\n",
        "\n",
        "Проверим статистические гипотезы о поведении пользователей.\n",
        "\n",
        "\n",
        "\n",
        "**Описание данных**\n",
        "\n",
        "*Описание данных сокращено*\n",
        "\n",
        "Дана информация о пользователях из нескольких городов, их поездках и подписках."
      ]
    },
    {
      "cell_type": "markdown",
      "id": "c42cbe00",
      "metadata": {
        "id": "c42cbe00"
      },
      "source": [
        "## Шаг 1. Загрузка данных"
      ]
    },
    {
      "cell_type": "markdown",
      "id": "df044a06",
      "metadata": {
        "id": "df044a06"
      },
      "source": [
        "### Сохранение данных в датафреймы"
      ]
    },
    {
      "cell_type": "code",
      "execution_count": null,
      "id": "b5850e1e",
      "metadata": {
        "id": "b5850e1e"
      },
      "outputs": [],
      "source": [
        "path_pract_users = Path('/datasets/users_go.csv')\n",
        "path_pract_rides = Path('/datasets/rides_go.csv')\n",
        "path_pract_subscriptions = Path('/datasets/subscriptions_go.csv')\n",
        "\n",
        "path_google_users = Path('/content/drive/MyDrive/datasets/users_go.csv')\n",
        "path_google_rides = Path('/content/drive/MyDrive/datasets/rides_go.csv')\n",
        "path_google_subscriptions = Path('/content/drive/MyDrive/datasets/subscriptions_go.csv')\n",
        "\n",
        "if path_pract_users.exists():\n",
        "    users = pd.read_csv(path_pract_users)\n",
        "elif path_google_users.exists():\n",
        "    users = pd.read_csv(path_google_users)\n",
        "else:\n",
        "    raise FileNotFoundError('Both paths to users do not exist')\n",
        "\n",
        "if path_pract_rides.exists():\n",
        "    rides = pd.read_csv(path_pract_rides)\n",
        "elif path_google_rides.exists():\n",
        "    rides = pd.read_csv(path_google_rides)\n",
        "else:\n",
        "    raise FileNotFoundError('Both paths to rides do not exist')\n",
        "\n",
        "if path_pract_subscriptions.exists():\n",
        "    subscriptions = pd.read_csv(path_pract_subscriptions)\n",
        "elif path_google_subscriptions.exists():\n",
        "    subscriptions = pd.read_csv(path_google_subscriptions)\n",
        "else:\n",
        "    raise FileNotFoundError('Both paths to subscriptions do not exist')"
      ]
    },
    {
      "cell_type": "markdown",
      "id": "5eef60db",
      "metadata": {
        "id": "5eef60db"
      },
      "source": [
        "### Общая информация о датафреймах"
      ]
    },
    {
      "cell_type": "markdown",
      "id": "1d303cad",
      "metadata": {
        "id": "1d303cad"
      },
      "source": [
        "Изучим общую информацию о каждом датафрейме и его первые строки."
      ]
    },
    {
      "cell_type": "code",
      "execution_count": null,
      "id": "299069c9",
      "metadata": {
        "id": "299069c9",
        "outputId": "5fddf52a-16ad-4fb0-f1d7-b1b9570c2321"
      },
      "outputs": [
        {
          "name": "stdout",
          "output_type": "stream",
          "text": [
            "<class 'pandas.core.frame.DataFrame'>\n",
            "RangeIndex: 1565 entries, 0 to 1564\n",
            "Data columns (total 5 columns):\n",
            " #   Column             Non-Null Count  Dtype \n",
            "---  ------             --------------  ----- \n",
            " 0   user_id            1565 non-null   int64 \n",
            " 1   name               1565 non-null   object\n",
            " 2   age                1565 non-null   int64 \n",
            " 3   city               1565 non-null   object\n",
            " 4   subscription_type  1565 non-null   object\n",
            "dtypes: int64(2), object(3)\n",
            "memory usage: 61.3+ KB\n",
            "None\n",
            "   user_id        name  age            city subscription_type\n",
            "0        1        Кира   22          Тюмень             ultra\n",
            "1        2   Станислав   31            Омск             ultra\n",
            "2        3     Алексей   20          Москва             ultra\n",
            "3        4  Константин   26  Ростов-на-Дону             ultra\n",
            "4        5       Адель   28            Омск             ultra\n",
            "\n",
            "\n",
            "\n",
            "<class 'pandas.core.frame.DataFrame'>\n",
            "RangeIndex: 18068 entries, 0 to 18067\n",
            "Data columns (total 4 columns):\n",
            " #   Column    Non-Null Count  Dtype  \n",
            "---  ------    --------------  -----  \n",
            " 0   user_id   18068 non-null  int64  \n",
            " 1   distance  18068 non-null  float64\n",
            " 2   duration  18068 non-null  float64\n",
            " 3   date      18068 non-null  object \n",
            "dtypes: float64(2), int64(1), object(1)\n",
            "memory usage: 564.8+ KB\n",
            "None\n",
            "   user_id     distance   duration        date\n",
            "0        1  4409.919140  25.599769  2021-01-01\n",
            "1        1  2617.592153  15.816871  2021-01-18\n",
            "2        1   754.159807   6.232113  2021-04-20\n",
            "3        1  2694.783254  18.511000  2021-08-11\n",
            "4        1  4028.687306  26.265803  2021-08-28\n",
            "\n",
            "\n",
            "\n",
            "<class 'pandas.core.frame.DataFrame'>\n",
            "RangeIndex: 2 entries, 0 to 1\n",
            "Data columns (total 4 columns):\n",
            " #   Column             Non-Null Count  Dtype \n",
            "---  ------             --------------  ----- \n",
            " 0   subscription_type  2 non-null      object\n",
            " 1   minute_price       2 non-null      int64 \n",
            " 2   start_ride_price   2 non-null      int64 \n",
            " 3   subscription_fee   2 non-null      int64 \n",
            "dtypes: int64(3), object(1)\n",
            "memory usage: 192.0+ bytes\n",
            "None\n",
            "  subscription_type  minute_price  start_ride_price  subscription_fee\n",
            "0              free             8                50                 0\n",
            "1             ultra             6                 0               199\n",
            "\n",
            "\n",
            "\n"
          ]
        }
      ],
      "source": [
        "dataframes = [users, rides, subscriptions]\n",
        "\n",
        "for dataframe in dataframes:\n",
        "    print(dataframe.info())\n",
        "    print(dataframe.head())\n",
        "    print()\n",
        "    print()\n",
        "    print()"
      ]
    },
    {
      "cell_type": "markdown",
      "id": "8d6b9022",
      "metadata": {
        "id": "8d6b9022"
      },
      "source": [
        "Данные адекватно отображаются, не содержат пропусков.\n",
        "\n",
        "Все типы данных соответствуют содержанию ячеек, кроме столбца `date` в таблице `rides`.\n",
        "Это должен быть тип `datetime`, а не `object`."
      ]
    },
    {
      "cell_type": "markdown",
      "id": "e95ebca7",
      "metadata": {
        "id": "e95ebca7"
      },
      "source": [
        "## Шаг 2. Предобработка данных"
      ]
    },
    {
      "cell_type": "markdown",
      "id": "c68b1b57",
      "metadata": {
        "id": "c68b1b57"
      },
      "source": [
        "### Преобразование типов данных"
      ]
    },
    {
      "cell_type": "markdown",
      "id": "d7285547",
      "metadata": {
        "id": "d7285547"
      },
      "source": [
        "Приведем тип данных столбца `date` в таблице `rides` к `datetime`."
      ]
    },
    {
      "cell_type": "code",
      "execution_count": null,
      "id": "48572293",
      "metadata": {
        "id": "48572293",
        "outputId": "776966b4-506f-45fb-deeb-bf149f87c077"
      },
      "outputs": [
        {
          "name": "stdout",
          "output_type": "stream",
          "text": [
            "<class 'pandas.core.frame.DataFrame'>\n",
            "RangeIndex: 18068 entries, 0 to 18067\n",
            "Data columns (total 4 columns):\n",
            " #   Column    Non-Null Count  Dtype         \n",
            "---  ------    --------------  -----         \n",
            " 0   user_id   18068 non-null  int64         \n",
            " 1   distance  18068 non-null  float64       \n",
            " 2   duration  18068 non-null  float64       \n",
            " 3   date      18068 non-null  datetime64[ns]\n",
            "dtypes: datetime64[ns](1), float64(2), int64(1)\n",
            "memory usage: 564.8 KB\n"
          ]
        }
      ],
      "source": [
        "rides['date'] = pd.to_datetime(rides['date'], format='%Y-%m-%d')\n",
        "rides.info()"
      ]
    },
    {
      "cell_type": "markdown",
      "id": "dd4dee18",
      "metadata": {
        "id": "dd4dee18"
      },
      "source": [
        "### Добавление номера месяца"
      ]
    },
    {
      "cell_type": "markdown",
      "id": "a539605a",
      "metadata": {
        "id": "a539605a"
      },
      "source": [
        "Проверим, за какой период иеются данные."
      ]
    },
    {
      "cell_type": "code",
      "execution_count": null,
      "id": "4c0b4491",
      "metadata": {
        "id": "4c0b4491",
        "outputId": "2a03c1a4-8937-4a00-aeb8-0019684ccb40"
      },
      "outputs": [
        {
          "name": "stdout",
          "output_type": "stream",
          "text": [
            "От: 2021-01-01 00:00:00\n",
            "До: 2021-12-30 00:00:00\n"
          ]
        }
      ],
      "source": [
        "print('От:', rides['date'].min())\n",
        "print('До:', rides['date'].max())"
      ]
    },
    {
      "cell_type": "markdown",
      "id": "21b83c6b",
      "metadata": {
        "id": "21b83c6b"
      },
      "source": [
        "Все имеющиеся данные относятся к одному году, 2021. Значит, месяца из разных лет не смешаются."
      ]
    },
    {
      "cell_type": "markdown",
      "id": "e540a6eb",
      "metadata": {
        "id": "e540a6eb"
      },
      "source": [
        "Создадим новый столбец `month` с номером месяца."
      ]
    },
    {
      "cell_type": "code",
      "execution_count": null,
      "id": "4eb6ef77",
      "metadata": {
        "scrolled": true,
        "id": "4eb6ef77",
        "outputId": "5e965f10-3ec7-467d-c2ae-6fa550aa967d"
      },
      "outputs": [
        {
          "data": {
            "text/html": [
              "<div>\n",
              "<style scoped>\n",
              "    .dataframe tbody tr th:only-of-type {\n",
              "        vertical-align: middle;\n",
              "    }\n",
              "\n",
              "    .dataframe tbody tr th {\n",
              "        vertical-align: top;\n",
              "    }\n",
              "\n",
              "    .dataframe thead th {\n",
              "        text-align: right;\n",
              "    }\n",
              "</style>\n",
              "<table border=\"1\" class=\"dataframe\">\n",
              "  <thead>\n",
              "    <tr style=\"text-align: right;\">\n",
              "      <th></th>\n",
              "      <th>user_id</th>\n",
              "      <th>distance</th>\n",
              "      <th>duration</th>\n",
              "      <th>date</th>\n",
              "      <th>month</th>\n",
              "    </tr>\n",
              "  </thead>\n",
              "  <tbody>\n",
              "    <tr>\n",
              "      <th>0</th>\n",
              "      <td>1</td>\n",
              "      <td>4409.919140</td>\n",
              "      <td>25.599769</td>\n",
              "      <td>2021-01-01</td>\n",
              "      <td>1</td>\n",
              "    </tr>\n",
              "    <tr>\n",
              "      <th>1</th>\n",
              "      <td>1</td>\n",
              "      <td>2617.592153</td>\n",
              "      <td>15.816871</td>\n",
              "      <td>2021-01-18</td>\n",
              "      <td>1</td>\n",
              "    </tr>\n",
              "    <tr>\n",
              "      <th>2</th>\n",
              "      <td>1</td>\n",
              "      <td>754.159807</td>\n",
              "      <td>6.232113</td>\n",
              "      <td>2021-04-20</td>\n",
              "      <td>4</td>\n",
              "    </tr>\n",
              "    <tr>\n",
              "      <th>3</th>\n",
              "      <td>1</td>\n",
              "      <td>2694.783254</td>\n",
              "      <td>18.511000</td>\n",
              "      <td>2021-08-11</td>\n",
              "      <td>8</td>\n",
              "    </tr>\n",
              "    <tr>\n",
              "      <th>4</th>\n",
              "      <td>1</td>\n",
              "      <td>4028.687306</td>\n",
              "      <td>26.265803</td>\n",
              "      <td>2021-08-28</td>\n",
              "      <td>8</td>\n",
              "    </tr>\n",
              "  </tbody>\n",
              "</table>\n",
              "</div>"
            ],
            "text/plain": [
              "   user_id     distance   duration       date  month\n",
              "0        1  4409.919140  25.599769 2021-01-01      1\n",
              "1        1  2617.592153  15.816871 2021-01-18      1\n",
              "2        1   754.159807   6.232113 2021-04-20      4\n",
              "3        1  2694.783254  18.511000 2021-08-11      8\n",
              "4        1  4028.687306  26.265803 2021-08-28      8"
            ]
          },
          "execution_count": 6,
          "metadata": {},
          "output_type": "execute_result"
        }
      ],
      "source": [
        "rides['month'] = pd.DatetimeIndex(rides['date']).month\n",
        "rides.head()"
      ]
    },
    {
      "cell_type": "markdown",
      "id": "e60fe74a",
      "metadata": {
        "id": "e60fe74a"
      },
      "source": [
        "### Обработка дубликатов"
      ]
    },
    {
      "cell_type": "markdown",
      "id": "add9b302",
      "metadata": {
        "id": "add9b302"
      },
      "source": [
        "Мы уже убедились, что пропусков в данных нет (шаг 1.2). Посмотрим, есть ли дубликаты."
      ]
    },
    {
      "cell_type": "code",
      "execution_count": null,
      "id": "12808a87",
      "metadata": {
        "id": "12808a87",
        "outputId": "c3fcd208-6df4-48b3-e25f-af6474a1f005"
      },
      "outputs": [
        {
          "name": "stdout",
          "output_type": "stream",
          "text": [
            "31\n",
            "\n",
            "0\n",
            "\n",
            "0\n",
            "\n"
          ]
        }
      ],
      "source": [
        "for dataframe in dataframes:\n",
        "    print(dataframe.duplicated().sum())\n",
        "    print()"
      ]
    },
    {
      "cell_type": "markdown",
      "id": "1561706f",
      "metadata": {
        "id": "1561706f"
      },
      "source": [
        "Явные дубликаты присутствуют только в таблице `users`. Удалим их."
      ]
    },
    {
      "cell_type": "code",
      "execution_count": null,
      "id": "ff31278a",
      "metadata": {
        "id": "ff31278a",
        "outputId": "53ab4b6f-16fe-4664-ce0f-24b5c0c5ae49"
      },
      "outputs": [
        {
          "name": "stdout",
          "output_type": "stream",
          "text": [
            "<class 'pandas.core.frame.DataFrame'>\n",
            "Int64Index: 1534 entries, 0 to 1533\n",
            "Data columns (total 5 columns):\n",
            " #   Column             Non-Null Count  Dtype \n",
            "---  ------             --------------  ----- \n",
            " 0   user_id            1534 non-null   int64 \n",
            " 1   name               1534 non-null   object\n",
            " 2   age                1534 non-null   int64 \n",
            " 3   city               1534 non-null   object\n",
            " 4   subscription_type  1534 non-null   object\n",
            "dtypes: int64(2), object(3)\n",
            "memory usage: 71.9+ KB\n"
          ]
        }
      ],
      "source": [
        "users = users.drop_duplicates()\n",
        "users.info()"
      ]
    },
    {
      "cell_type": "markdown",
      "id": "fc0339ef",
      "metadata": {
        "id": "fc0339ef"
      },
      "source": [
        "Проверим, не осталось ли в таблице менее явных дубликатов, то есть повторяющихся значений в столбце `user_id`."
      ]
    },
    {
      "cell_type": "code",
      "execution_count": null,
      "id": "a742d779",
      "metadata": {
        "id": "a742d779",
        "outputId": "877f99b9-318f-4f24-daa0-6ef37ebe53bf"
      },
      "outputs": [
        {
          "data": {
            "text/plain": [
              "0"
            ]
          },
          "execution_count": 9,
          "metadata": {},
          "output_type": "execute_result"
        }
      ],
      "source": [
        "users.duplicated(subset='user_id').sum()"
      ]
    },
    {
      "cell_type": "markdown",
      "id": "f10a3e84",
      "metadata": {
        "id": "f10a3e84"
      },
      "source": [
        "**Выводы по шагам 1 и 2:**\n",
        "\n",
        "- данные не содержали пропусков\n",
        "- таблица `users` содержала 31 дубликат, повторы удалили\n",
        "- привели тип данных столбца `date` в таблице `rides` к типу `datetime`\n",
        "- создали новый столбец `month` с номером месяца"
      ]
    },
    {
      "cell_type": "markdown",
      "id": "212593c7",
      "metadata": {
        "id": "212593c7"
      },
      "source": [
        "## Шаг 3. Исследовательский анализ данных"
      ]
    },
    {
      "cell_type": "markdown",
      "id": "587cdfa8",
      "metadata": {
        "id": "587cdfa8"
      },
      "source": [
        "Посмотрим на общую информацию о пользователях и поездках."
      ]
    },
    {
      "cell_type": "markdown",
      "id": "48d87d74",
      "metadata": {
        "id": "48d87d74"
      },
      "source": [
        "### Частота встречаемости городов"
      ]
    },
    {
      "cell_type": "code",
      "execution_count": null,
      "id": "8184684d",
      "metadata": {
        "id": "8184684d",
        "outputId": "dab1965c-9aad-4974-8121-887f9eee98f4"
      },
      "outputs": [
        {
          "data": {
            "image/png": "[encoded data removed]",
            "text/plain": [
              "<Figure size 1080x1080 with 1 Axes>"
            ]
          },
          "metadata": {
            "needs_background": "light"
          },
          "output_type": "display_data"
        },
        {
          "name": "stdout",
          "output_type": "stream",
          "text": [
            "Пятигорск         219\n",
            "Екатеринбург      204\n",
            "Ростов-на-Дону    198\n",
            "Краснодар         193\n",
            "Сочи              189\n",
            "Омск              183\n",
            "Тюмень            180\n",
            "Москва            168\n",
            "Name: city, dtype: int64\n"
          ]
        }
      ],
      "source": [
        "city_freq = users['city'].value_counts()\n",
        "\n",
        "plt.figure(figsize=(15, 15))\n",
        "plt.bar(city_freq.index, city_freq)\n",
        "plt.xlabel('названия городов')\n",
        "plt.ylabel('количество пользователей')\n",
        "plt.title('Частота встречаемости городов')\n",
        "plt.grid(True)\n",
        "plt.show()\n",
        "\n",
        "print(city_freq)"
      ]
    },
    {
      "cell_type": "markdown",
      "id": "74b5785a",
      "metadata": {
        "id": "74b5785a"
      },
      "source": [
        "Больше всего пользователей в Пятигорске, меньше всего - в Москве."
      ]
    },
    {
      "cell_type": "markdown",
      "id": "0e38728a",
      "metadata": {
        "id": "0e38728a"
      },
      "source": [
        "### Соотношение пользователей с подпиской и без подписки\n"
      ]
    },
    {
      "cell_type": "markdown",
      "id": "d1ff34b2",
      "metadata": {
        "id": "d1ff34b2"
      },
      "source": [
        "Создадим отдельные датафреймы, содержащие данные о пользователях с подпиской и без подписки (позже они еще понадобятся для проверки гипотез).\n",
        "\n",
        "Рассчитаем соотношение числа пользователей в них."
      ]
    },
    {
      "cell_type": "code",
      "execution_count": null,
      "id": "283a4940",
      "metadata": {
        "id": "283a4940",
        "outputId": "75bdba3b-8764-43df-cca1-d5ae9f8ca403"
      },
      "outputs": [
        {
          "name": "stdout",
          "output_type": "stream",
          "text": [
            "Число пользователей с подпиской ultra: 699\n",
            "Число пользователей без подписки: 835\n",
            "Соотношение пользователей с подпиской и без подписки: 0.837125748502994\n"
          ]
        },
        {
          "data": {
            "image/png": "[encoded data removed]",
            "text/plain": [
              "<Figure size 432x288 with 1 Axes>"
            ]
          },
          "metadata": {
            "needs_background": "light"
          },
          "output_type": "display_data"
        },
        {
          "data": {
            "image/png": "[encoded data removed]",
            "text/plain": [
              "<Figure size 432x288 with 1 Axes>"
            ]
          },
          "metadata": {},
          "output_type": "display_data"
        }
      ],
      "source": [
        "users_free = users.loc[users['subscription_type']=='free']\n",
        "users_ultra = users.loc[users['subscription_type']=='ultra']\n",
        "\n",
        "print('Число пользователей с подпиской ultra:', users_ultra['user_id'].count())\n",
        "print('Число пользователей без подписки:', users_free['user_id'].count())\n",
        "print('Соотношение пользователей с подпиской и без подписки:',\n",
        "     users_ultra['user_id'].count() / users_free['user_id'].count()\n",
        "     )\n",
        "\n",
        "plt.bar(x=['ultra', 'free'], height=[users_ultra['user_id'].count(), users_free['user_id'].count()])\n",
        "plt.xlabel('подписки')\n",
        "plt.ylabel('число пользователей')\n",
        "plt.title('Число пользователей с подпиской и без подписки')\n",
        "plt.grid(which='major')\n",
        "plt.show()\n",
        "\n",
        "plt.pie([users_free['user_id'].count(), users_ultra['user_id'].count()],\n",
        "       labels=['free', 'ultra'],\n",
        "       autopct='%.2f')\n",
        "plt.title('Соотношение числа пользователей без подписки и с подпиской')\n",
        "plt.show()"
      ]
    },
    {
      "cell_type": "markdown",
      "id": "04162c34",
      "metadata": {
        "id": "04162c34"
      },
      "source": [
        "Пользователей с подпиской примерно на 9 п.п. меньше, чем пользователей без подписки."
      ]
    },
    {
      "cell_type": "markdown",
      "id": "16a5cb98",
      "metadata": {
        "id": "16a5cb98"
      },
      "source": [
        "### Возраст пользователей"
      ]
    },
    {
      "cell_type": "code",
      "execution_count": null,
      "id": "72736a59",
      "metadata": {
        "id": "72736a59",
        "outputId": "324a3890-d1c5-4acb-c3a4-30f314f43838"
      },
      "outputs": [
        {
          "data": {
            "image/png": "[encoded data removed]",
            "text/plain": [
              "<Figure size 432x288 with 1 Axes>"
            ]
          },
          "metadata": {
            "needs_background": "light"
          },
          "output_type": "display_data"
        },
        {
          "name": "stdout",
          "output_type": "stream",
          "text": [
            "count    1534.000000\n",
            "mean       24.903520\n",
            "std         4.572367\n",
            "min        12.000000\n",
            "25%        22.000000\n",
            "50%        25.000000\n",
            "75%        28.000000\n",
            "max        43.000000\n",
            "Name: age, dtype: float64\n"
          ]
        }
      ],
      "source": [
        "users['age'].hist()\n",
        "plt.xlabel('возраст')\n",
        "plt.ylabel('число пользователей')\n",
        "plt.title('Возраст пользователей')\n",
        "plt.show()\n",
        "\n",
        "print(users['age'].describe())"
      ]
    },
    {
      "cell_type": "markdown",
      "id": "17d9098a",
      "metadata": {
        "id": "17d9098a"
      },
      "source": [
        "Возраст пользователей ожидаемо близок к нормальному распределению.\n",
        "\n",
        "Он колеблется между 12 и 43.\n",
        "\n",
        "В среднем пользователям примерно 25 лет (медиана и среднее очень близки друг к другу, что свидетельствует об отсутствии или незначительном числе выбросов в данных)."
      ]
    },
    {
      "cell_type": "markdown",
      "id": "f7407ab1",
      "metadata": {
        "id": "f7407ab1"
      },
      "source": [
        "### Расстояние, которое пользователь преодолел за одну поездку"
      ]
    },
    {
      "cell_type": "code",
      "execution_count": null,
      "id": "de51e6b8",
      "metadata": {
        "id": "de51e6b8",
        "outputId": "6fbaf3bf-f683-4a5c-af1f-e929961b6147"
      },
      "outputs": [
        {
          "data": {
            "image/png": "[encoded data removed]",
            "text/plain": [
              "<Figure size 432x288 with 1 Axes>"
            ]
          },
          "metadata": {
            "needs_background": "light"
          },
          "output_type": "display_data"
        },
        {
          "name": "stdout",
          "output_type": "stream",
          "text": [
            "count    18068.000000\n",
            "mean      3070.659976\n",
            "std       1116.831209\n",
            "min          0.855683\n",
            "25%       2543.226360\n",
            "50%       3133.609994\n",
            "75%       3776.222735\n",
            "max       7211.007745\n",
            "Name: distance, dtype: float64\n"
          ]
        }
      ],
      "source": [
        "rides['distance'].hist(bins=100)\n",
        "plt.xlabel('расстояние, м')\n",
        "plt.ylabel('число поездок')\n",
        "plt.title('Расстояние за поездку')\n",
        "plt.show()\n",
        "\n",
        "print(rides['distance'].describe())"
      ]
    },
    {
      "cell_type": "markdown",
      "id": "34b27cea",
      "metadata": {
        "id": "34b27cea"
      },
      "source": [
        "Расстояние тоже ожидаемо близко к нормальному распределению, но бимодально. Это может быть связано с дополнительными факторами (например, с ненастной погодой).\n",
        "\n",
        "В среднем пользователи проезжают за 1 поездку чуть больше 3000 метров.\n",
        "\n",
        "Медиана и среднее отличаются, что не удивительно при бимодальном распределении и очевидном присутствии выбросов.\n",
        "\n",
        "Поездки на расстояние меньше 1 метра кажутся подозрительными, но могли иметь иметь место в реальности вместо отмены поездки. Посмотрим, сколько их.\n"
      ]
    },
    {
      "cell_type": "code",
      "execution_count": null,
      "id": "6a9e92f5",
      "metadata": {
        "id": "6a9e92f5",
        "outputId": "35b5b727-3bd4-4570-ba4a-1ed67537a351"
      },
      "outputs": [
        {
          "name": "stdout",
          "output_type": "stream",
          "text": [
            "       user_id  distance   duration       date  month\n",
            "11555     1069  0.855683  10.001902 2021-01-31      1\n"
          ]
        }
      ],
      "source": [
        "print(rides.loc[rides['distance']<1])"
      ]
    },
    {
      "cell_type": "markdown",
      "id": "c2274356",
      "metadata": {
        "id": "c2274356"
      },
      "source": [
        "Одна такая поездка может быть случайностью."
      ]
    },
    {
      "cell_type": "markdown",
      "id": "2e1a5685",
      "metadata": {
        "id": "2e1a5685"
      },
      "source": [
        "### Продолжительность поездок"
      ]
    },
    {
      "cell_type": "code",
      "execution_count": null,
      "id": "38770a11",
      "metadata": {
        "id": "38770a11",
        "outputId": "6d90df27-d712-4076-b1e7-76c7ce9c9771"
      },
      "outputs": [
        {
          "data": {
            "image/png": "[encoded data removed]",
            "text/plain": [
              "<Figure size 432x288 with 1 Axes>"
            ]
          },
          "metadata": {
            "needs_background": "light"
          },
          "output_type": "display_data"
        },
        {
          "name": "stdout",
          "output_type": "stream",
          "text": [
            "count    18068.000000\n",
            "mean        17.805011\n",
            "std          6.091051\n",
            "min          0.500000\n",
            "25%         13.597563\n",
            "50%         17.678395\n",
            "75%         21.724800\n",
            "max         40.823963\n",
            "Name: duration, dtype: float64\n"
          ]
        }
      ],
      "source": [
        "rides['duration'].hist(bins=200)\n",
        "plt.xlabel('длительность, мин.')\n",
        "plt.ylabel('число поездок')\n",
        "plt.title('Продолжительность поездок')\n",
        "plt.show()\n",
        "\n",
        "print(rides['duration'].describe())"
      ]
    },
    {
      "cell_type": "markdown",
      "id": "f131f425",
      "metadata": {
        "id": "f131f425"
      },
      "source": [
        "Длительность тоже ожидаемо близка к нормальному распределению.\n",
        "\n",
        "В среднем поездка продолжается 17-18 минут.\n",
        "\n",
        "Медиана и среднее отличаются незначительно.\n",
        "\n",
        "Поездки длительностью меньше 1 минуты кажутся подозрительными, но могли иметь иметь место в реальности вместо отмены поездки. Они также могут быть связаны с поездками на экстремально маленькие расстояния. Проверим это предположение."
      ]
    },
    {
      "cell_type": "code",
      "execution_count": null,
      "id": "185d1d53",
      "metadata": {
        "id": "185d1d53",
        "outputId": "1d5602e1-64bd-4bb2-8355-1957c646d91a"
      },
      "outputs": [
        {
          "name": "stdout",
          "output_type": "stream",
          "text": [
            "       user_id     distance  duration       date  month\n",
            "6531       701  4196.445201       0.5 2021-08-31      8\n",
            "6570       704  4830.824371       0.5 2021-10-14     10\n",
            "6680       712  4684.004397       0.5 2021-03-04      3\n",
            "6695       713  5215.642710       0.5 2021-02-25      2\n",
            "6768       718  5197.436649       0.5 2021-02-11      2\n",
            "...        ...          ...       ...        ...    ...\n",
            "17004     1460  5531.335845       0.5 2021-01-19      1\n",
            "17242     1477  6724.932981       0.5 2021-01-12      1\n",
            "17314     1483  4445.481070       0.5 2021-03-06      3\n",
            "17505     1496  5722.551787       0.5 2021-02-14      2\n",
            "17909     1524  4103.998874       0.5 2021-06-18      6\n",
            "\n",
            "[95 rows x 5 columns]\n",
            "0.5    95\n",
            "Name: duration, dtype: int64\n",
            "count      95.000000\n",
            "mean     5113.176549\n",
            "std       658.254104\n",
            "min      4030.308008\n",
            "25%      4611.510820\n",
            "50%      5052.769411\n",
            "75%      5488.459099\n",
            "max      7211.007745\n",
            "Name: distance, dtype: float64\n"
          ]
        }
      ],
      "source": [
        "print(rides.loc[rides['duration']<1])\n",
        "print(rides.loc[rides['duration']<1]['duration'].value_counts())\n",
        "print(rides.loc[rides['duration']<1]['distance'].describe())"
      ]
    },
    {
      "cell_type": "markdown",
      "id": "441fd434",
      "metadata": {
        "id": "441fd434"
      },
      "source": [
        "Предположение не подтвердилось. Все поездки длительностью меньше 1 минуты имеют одинаковую длительность 0.5.\n",
        "\n",
        "При этом расстояние, которое было преодолено, лежит примерно между 4000 и 7000 метров.\n",
        "Это явно ошибка. Однако она не сильно искажает общую картину. И поскольку ее природа не полностью ясна, оставим данные как есть."
      ]
    },
    {
      "cell_type": "markdown",
      "id": "ccc3934d",
      "metadata": {
        "id": "ccc3934d"
      },
      "source": [
        "**Выводы по шагу 3:**\n",
        "\n",
        "- больше всего пользователей в Пятигорске, меньше всего - в Москве\n",
        "- пользователей с подпиской примерно на 9 п.п. меньше, чем пользователей без подписки\n",
        "- возраст пользователей близок к нормальному распределению с вершиной около 25 лет\n",
        "- расстояние близко к нормальному распределению, но бимодально; это может быть связано с дополнительными факторами (например, с ненастной погодой)\n",
        "- в среднем пользователи проезжают за 1 поездку чуть больше 3000 метров\n",
        "- длительность поездок близка к нормальному распределению\n",
        "- в среднем поездка продолжается 17-18 минут\n",
        "- поездки длительностью меньше 1 минуты явно указывают на какие-то ошибки в сборе данных"
      ]
    },
    {
      "cell_type": "markdown",
      "id": "4ef51331",
      "metadata": {
        "id": "4ef51331"
      },
      "source": [
        "## Шаг 4. Объединение данных"
      ]
    },
    {
      "cell_type": "markdown",
      "id": "582adb75",
      "metadata": {
        "id": "582adb75"
      },
      "source": [
        "### Создание единого датафрейма"
      ]
    },
    {
      "cell_type": "markdown",
      "id": "3d1353f9",
      "metadata": {
        "id": "3d1353f9"
      },
      "source": [
        "Создадим из имеющихся трех датафреймов единый датафрейм `data`."
      ]
    },
    {
      "cell_type": "code",
      "execution_count": null,
      "id": "6bf288b5",
      "metadata": {
        "scrolled": true,
        "id": "6bf288b5",
        "outputId": "4c151a28-2deb-49cd-c9a4-170ac549c889"
      },
      "outputs": [
        {
          "name": "stdout",
          "output_type": "stream",
          "text": [
            "<class 'pandas.core.frame.DataFrame'>\n",
            "Int64Index: 18068 entries, 0 to 18067\n",
            "Data columns (total 12 columns):\n",
            " #   Column             Non-Null Count  Dtype         \n",
            "---  ------             --------------  -----         \n",
            " 0   user_id            18068 non-null  int64         \n",
            " 1   name               18068 non-null  object        \n",
            " 2   age                18068 non-null  int64         \n",
            " 3   city               18068 non-null  object        \n",
            " 4   subscription_type  18068 non-null  object        \n",
            " 5   distance           18068 non-null  float64       \n",
            " 6   duration           18068 non-null  float64       \n",
            " 7   date               18068 non-null  datetime64[ns]\n",
            " 8   month              18068 non-null  int64         \n",
            " 9   minute_price       18068 non-null  int64         \n",
            " 10  start_ride_price   18068 non-null  int64         \n",
            " 11  subscription_fee   18068 non-null  int64         \n",
            "dtypes: datetime64[ns](1), float64(2), int64(6), object(3)\n",
            "memory usage: 1.8+ MB\n",
            "None\n"
          ]
        },
        {
          "data": {
            "text/html": [
              "<div>\n",
              "<style scoped>\n",
              "    .dataframe tbody tr th:only-of-type {\n",
              "        vertical-align: middle;\n",
              "    }\n",
              "\n",
              "    .dataframe tbody tr th {\n",
              "        vertical-align: top;\n",
              "    }\n",
              "\n",
              "    .dataframe thead th {\n",
              "        text-align: right;\n",
              "    }\n",
              "</style>\n",
              "<table border=\"1\" class=\"dataframe\">\n",
              "  <thead>\n",
              "    <tr style=\"text-align: right;\">\n",
              "      <th></th>\n",
              "      <th>user_id</th>\n",
              "      <th>name</th>\n",
              "      <th>age</th>\n",
              "      <th>city</th>\n",
              "      <th>subscription_type</th>\n",
              "      <th>distance</th>\n",
              "      <th>duration</th>\n",
              "      <th>date</th>\n",
              "      <th>month</th>\n",
              "      <th>minute_price</th>\n",
              "      <th>start_ride_price</th>\n",
              "      <th>subscription_fee</th>\n",
              "    </tr>\n",
              "  </thead>\n",
              "  <tbody>\n",
              "    <tr>\n",
              "      <th>0</th>\n",
              "      <td>1</td>\n",
              "      <td>Кира</td>\n",
              "      <td>22</td>\n",
              "      <td>Тюмень</td>\n",
              "      <td>ultra</td>\n",
              "      <td>4409.919140</td>\n",
              "      <td>25.599769</td>\n",
              "      <td>2021-01-01</td>\n",
              "      <td>1</td>\n",
              "      <td>6</td>\n",
              "      <td>0</td>\n",
              "      <td>199</td>\n",
              "    </tr>\n",
              "    <tr>\n",
              "      <th>1</th>\n",
              "      <td>1</td>\n",
              "      <td>Кира</td>\n",
              "      <td>22</td>\n",
              "      <td>Тюмень</td>\n",
              "      <td>ultra</td>\n",
              "      <td>2617.592153</td>\n",
              "      <td>15.816871</td>\n",
              "      <td>2021-01-18</td>\n",
              "      <td>1</td>\n",
              "      <td>6</td>\n",
              "      <td>0</td>\n",
              "      <td>199</td>\n",
              "    </tr>\n",
              "    <tr>\n",
              "      <th>2</th>\n",
              "      <td>1</td>\n",
              "      <td>Кира</td>\n",
              "      <td>22</td>\n",
              "      <td>Тюмень</td>\n",
              "      <td>ultra</td>\n",
              "      <td>754.159807</td>\n",
              "      <td>6.232113</td>\n",
              "      <td>2021-04-20</td>\n",
              "      <td>4</td>\n",
              "      <td>6</td>\n",
              "      <td>0</td>\n",
              "      <td>199</td>\n",
              "    </tr>\n",
              "    <tr>\n",
              "      <th>3</th>\n",
              "      <td>1</td>\n",
              "      <td>Кира</td>\n",
              "      <td>22</td>\n",
              "      <td>Тюмень</td>\n",
              "      <td>ultra</td>\n",
              "      <td>2694.783254</td>\n",
              "      <td>18.511000</td>\n",
              "      <td>2021-08-11</td>\n",
              "      <td>8</td>\n",
              "      <td>6</td>\n",
              "      <td>0</td>\n",
              "      <td>199</td>\n",
              "    </tr>\n",
              "    <tr>\n",
              "      <th>4</th>\n",
              "      <td>1</td>\n",
              "      <td>Кира</td>\n",
              "      <td>22</td>\n",
              "      <td>Тюмень</td>\n",
              "      <td>ultra</td>\n",
              "      <td>4028.687306</td>\n",
              "      <td>26.265803</td>\n",
              "      <td>2021-08-28</td>\n",
              "      <td>8</td>\n",
              "      <td>6</td>\n",
              "      <td>0</td>\n",
              "      <td>199</td>\n",
              "    </tr>\n",
              "    <tr>\n",
              "      <th>5</th>\n",
              "      <td>1</td>\n",
              "      <td>Кира</td>\n",
              "      <td>22</td>\n",
              "      <td>Тюмень</td>\n",
              "      <td>ultra</td>\n",
              "      <td>2770.890808</td>\n",
              "      <td>16.650138</td>\n",
              "      <td>2021-10-09</td>\n",
              "      <td>10</td>\n",
              "      <td>6</td>\n",
              "      <td>0</td>\n",
              "      <td>199</td>\n",
              "    </tr>\n",
              "    <tr>\n",
              "      <th>6</th>\n",
              "      <td>1</td>\n",
              "      <td>Кира</td>\n",
              "      <td>22</td>\n",
              "      <td>Тюмень</td>\n",
              "      <td>ultra</td>\n",
              "      <td>3039.020292</td>\n",
              "      <td>14.927879</td>\n",
              "      <td>2021-10-19</td>\n",
              "      <td>10</td>\n",
              "      <td>6</td>\n",
              "      <td>0</td>\n",
              "      <td>199</td>\n",
              "    </tr>\n",
              "    <tr>\n",
              "      <th>7</th>\n",
              "      <td>1</td>\n",
              "      <td>Кира</td>\n",
              "      <td>22</td>\n",
              "      <td>Тюмень</td>\n",
              "      <td>ultra</td>\n",
              "      <td>2842.118050</td>\n",
              "      <td>23.117468</td>\n",
              "      <td>2021-11-06</td>\n",
              "      <td>11</td>\n",
              "      <td>6</td>\n",
              "      <td>0</td>\n",
              "      <td>199</td>\n",
              "    </tr>\n",
              "    <tr>\n",
              "      <th>8</th>\n",
              "      <td>1</td>\n",
              "      <td>Кира</td>\n",
              "      <td>22</td>\n",
              "      <td>Тюмень</td>\n",
              "      <td>ultra</td>\n",
              "      <td>3412.690668</td>\n",
              "      <td>15.238072</td>\n",
              "      <td>2021-11-14</td>\n",
              "      <td>11</td>\n",
              "      <td>6</td>\n",
              "      <td>0</td>\n",
              "      <td>199</td>\n",
              "    </tr>\n",
              "    <tr>\n",
              "      <th>9</th>\n",
              "      <td>1</td>\n",
              "      <td>Кира</td>\n",
              "      <td>22</td>\n",
              "      <td>Тюмень</td>\n",
              "      <td>ultra</td>\n",
              "      <td>748.690645</td>\n",
              "      <td>15.041884</td>\n",
              "      <td>2021-11-22</td>\n",
              "      <td>11</td>\n",
              "      <td>6</td>\n",
              "      <td>0</td>\n",
              "      <td>199</td>\n",
              "    </tr>\n",
              "    <tr>\n",
              "      <th>10</th>\n",
              "      <td>1</td>\n",
              "      <td>Кира</td>\n",
              "      <td>22</td>\n",
              "      <td>Тюмень</td>\n",
              "      <td>ultra</td>\n",
              "      <td>4031.020195</td>\n",
              "      <td>17.674448</td>\n",
              "      <td>2021-12-14</td>\n",
              "      <td>12</td>\n",
              "      <td>6</td>\n",
              "      <td>0</td>\n",
              "      <td>199</td>\n",
              "    </tr>\n",
              "    <tr>\n",
              "      <th>11</th>\n",
              "      <td>1</td>\n",
              "      <td>Кира</td>\n",
              "      <td>22</td>\n",
              "      <td>Тюмень</td>\n",
              "      <td>ultra</td>\n",
              "      <td>2720.609748</td>\n",
              "      <td>9.529463</td>\n",
              "      <td>2021-12-22</td>\n",
              "      <td>12</td>\n",
              "      <td>6</td>\n",
              "      <td>0</td>\n",
              "      <td>199</td>\n",
              "    </tr>\n",
              "    <tr>\n",
              "      <th>12</th>\n",
              "      <td>2</td>\n",
              "      <td>Станислав</td>\n",
              "      <td>31</td>\n",
              "      <td>Омск</td>\n",
              "      <td>ultra</td>\n",
              "      <td>3105.086678</td>\n",
              "      <td>24.307514</td>\n",
              "      <td>2021-03-15</td>\n",
              "      <td>3</td>\n",
              "      <td>6</td>\n",
              "      <td>0</td>\n",
              "      <td>199</td>\n",
              "    </tr>\n",
              "    <tr>\n",
              "      <th>13</th>\n",
              "      <td>2</td>\n",
              "      <td>Станислав</td>\n",
              "      <td>31</td>\n",
              "      <td>Омск</td>\n",
              "      <td>ultra</td>\n",
              "      <td>3053.519401</td>\n",
              "      <td>11.543256</td>\n",
              "      <td>2021-03-18</td>\n",
              "      <td>3</td>\n",
              "      <td>6</td>\n",
              "      <td>0</td>\n",
              "      <td>199</td>\n",
              "    </tr>\n",
              "    <tr>\n",
              "      <th>14</th>\n",
              "      <td>2</td>\n",
              "      <td>Станислав</td>\n",
              "      <td>31</td>\n",
              "      <td>Омск</td>\n",
              "      <td>ultra</td>\n",
              "      <td>4029.116927</td>\n",
              "      <td>25.109188</td>\n",
              "      <td>2021-03-23</td>\n",
              "      <td>3</td>\n",
              "      <td>6</td>\n",
              "      <td>0</td>\n",
              "      <td>199</td>\n",
              "    </tr>\n",
              "    <tr>\n",
              "      <th>15</th>\n",
              "      <td>2</td>\n",
              "      <td>Станислав</td>\n",
              "      <td>31</td>\n",
              "      <td>Омск</td>\n",
              "      <td>ultra</td>\n",
              "      <td>2805.786329</td>\n",
              "      <td>20.652145</td>\n",
              "      <td>2021-04-08</td>\n",
              "      <td>4</td>\n",
              "      <td>6</td>\n",
              "      <td>0</td>\n",
              "      <td>199</td>\n",
              "    </tr>\n",
              "    <tr>\n",
              "      <th>16</th>\n",
              "      <td>2</td>\n",
              "      <td>Станислав</td>\n",
              "      <td>31</td>\n",
              "      <td>Омск</td>\n",
              "      <td>ultra</td>\n",
              "      <td>3358.595495</td>\n",
              "      <td>18.396489</td>\n",
              "      <td>2021-04-13</td>\n",
              "      <td>4</td>\n",
              "      <td>6</td>\n",
              "      <td>0</td>\n",
              "      <td>199</td>\n",
              "    </tr>\n",
              "    <tr>\n",
              "      <th>17</th>\n",
              "      <td>2</td>\n",
              "      <td>Станислав</td>\n",
              "      <td>31</td>\n",
              "      <td>Омск</td>\n",
              "      <td>ultra</td>\n",
              "      <td>3255.338202</td>\n",
              "      <td>13.851127</td>\n",
              "      <td>2021-06-20</td>\n",
              "      <td>6</td>\n",
              "      <td>6</td>\n",
              "      <td>0</td>\n",
              "      <td>199</td>\n",
              "    </tr>\n",
              "    <tr>\n",
              "      <th>18</th>\n",
              "      <td>2</td>\n",
              "      <td>Станислав</td>\n",
              "      <td>31</td>\n",
              "      <td>Омск</td>\n",
              "      <td>ultra</td>\n",
              "      <td>3942.817648</td>\n",
              "      <td>20.142725</td>\n",
              "      <td>2021-07-02</td>\n",
              "      <td>7</td>\n",
              "      <td>6</td>\n",
              "      <td>0</td>\n",
              "      <td>199</td>\n",
              "    </tr>\n",
              "    <tr>\n",
              "      <th>19</th>\n",
              "      <td>2</td>\n",
              "      <td>Станислав</td>\n",
              "      <td>31</td>\n",
              "      <td>Омск</td>\n",
              "      <td>ultra</td>\n",
              "      <td>2837.905316</td>\n",
              "      <td>26.027432</td>\n",
              "      <td>2021-07-18</td>\n",
              "      <td>7</td>\n",
              "      <td>6</td>\n",
              "      <td>0</td>\n",
              "      <td>199</td>\n",
              "    </tr>\n",
              "  </tbody>\n",
              "</table>\n",
              "</div>"
            ],
            "text/plain": [
              "    user_id       name  age    city subscription_type     distance   duration  \\\n",
              "0         1       Кира   22  Тюмень             ultra  4409.919140  25.599769   \n",
              "1         1       Кира   22  Тюмень             ultra  2617.592153  15.816871   \n",
              "2         1       Кира   22  Тюмень             ultra   754.159807   6.232113   \n",
              "3         1       Кира   22  Тюмень             ultra  2694.783254  18.511000   \n",
              "4         1       Кира   22  Тюмень             ultra  4028.687306  26.265803   \n",
              "5         1       Кира   22  Тюмень             ultra  2770.890808  16.650138   \n",
              "6         1       Кира   22  Тюмень             ultra  3039.020292  14.927879   \n",
              "7         1       Кира   22  Тюмень             ultra  2842.118050  23.117468   \n",
              "8         1       Кира   22  Тюмень             ultra  3412.690668  15.238072   \n",
              "9         1       Кира   22  Тюмень             ultra   748.690645  15.041884   \n",
              "10        1       Кира   22  Тюмень             ultra  4031.020195  17.674448   \n",
              "11        1       Кира   22  Тюмень             ultra  2720.609748   9.529463   \n",
              "12        2  Станислав   31    Омск             ultra  3105.086678  24.307514   \n",
              "13        2  Станислав   31    Омск             ultra  3053.519401  11.543256   \n",
              "14        2  Станислав   31    Омск             ultra  4029.116927  25.109188   \n",
              "15        2  Станислав   31    Омск             ultra  2805.786329  20.652145   \n",
              "16        2  Станислав   31    Омск             ultra  3358.595495  18.396489   \n",
              "17        2  Станислав   31    Омск             ultra  3255.338202  13.851127   \n",
              "18        2  Станислав   31    Омск             ultra  3942.817648  20.142725   \n",
              "19        2  Станислав   31    Омск             ultra  2837.905316  26.027432   \n",
              "\n",
              "         date  month  minute_price  start_ride_price  subscription_fee  \n",
              "0  2021-01-01      1             6                 0               199  \n",
              "1  2021-01-18      1             6                 0               199  \n",
              "2  2021-04-20      4             6                 0               199  \n",
              "3  2021-08-11      8             6                 0               199  \n",
              "4  2021-08-28      8             6                 0               199  \n",
              "5  2021-10-09     10             6                 0               199  \n",
              "6  2021-10-19     10             6                 0               199  \n",
              "7  2021-11-06     11             6                 0               199  \n",
              "8  2021-11-14     11             6                 0               199  \n",
              "9  2021-11-22     11             6                 0               199  \n",
              "10 2021-12-14     12             6                 0               199  \n",
              "11 2021-12-22     12             6                 0               199  \n",
              "12 2021-03-15      3             6                 0               199  \n",
              "13 2021-03-18      3             6                 0               199  \n",
              "14 2021-03-23      3             6                 0               199  \n",
              "15 2021-04-08      4             6                 0               199  \n",
              "16 2021-04-13      4             6                 0               199  \n",
              "17 2021-06-20      6             6                 0               199  \n",
              "18 2021-07-02      7             6                 0               199  \n",
              "19 2021-07-18      7             6                 0               199  "
            ]
          },
          "execution_count": 17,
          "metadata": {},
          "output_type": "execute_result"
        }
      ],
      "source": [
        "data = users.merge(rides, on='user_id', how='outer').merge(subscriptions, on='subscription_type', how='outer')\n",
        "print(data.info())\n",
        "data.head(20)"
      ]
    },
    {
      "cell_type": "markdown",
      "id": "507baf2a",
      "metadata": {
        "id": "507baf2a"
      },
      "source": [
        "Данные объединены корректно, количество строк совпадает с таблицей `rides`, пропуски не появились."
      ]
    },
    {
      "cell_type": "markdown",
      "id": "451004e0",
      "metadata": {
        "id": "451004e0"
      },
      "source": [
        "### Разделение данных о пользователях с подпиской и без подписки"
      ]
    },
    {
      "cell_type": "markdown",
      "id": "f9ba8928",
      "metadata": {
        "id": "f9ba8928"
      },
      "source": [
        "Создадим отдельные датафреймы с данными о пользователях с подпиской и без подписки."
      ]
    },
    {
      "cell_type": "code",
      "execution_count": null,
      "id": "b1edbe96",
      "metadata": {
        "id": "b1edbe96",
        "outputId": "a0733395-2f69-4e34-dad1-82bc2e0788ef"
      },
      "outputs": [
        {
          "name": "stdout",
          "output_type": "stream",
          "text": [
            "С подпиской\n",
            "<class 'pandas.core.frame.DataFrame'>\n",
            "Int64Index: 6500 entries, 0 to 6499\n",
            "Data columns (total 12 columns):\n",
            " #   Column             Non-Null Count  Dtype         \n",
            "---  ------             --------------  -----         \n",
            " 0   user_id            6500 non-null   int64         \n",
            " 1   name               6500 non-null   object        \n",
            " 2   age                6500 non-null   int64         \n",
            " 3   city               6500 non-null   object        \n",
            " 4   subscription_type  6500 non-null   object        \n",
            " 5   distance           6500 non-null   float64       \n",
            " 6   duration           6500 non-null   float64       \n",
            " 7   date               6500 non-null   datetime64[ns]\n",
            " 8   month              6500 non-null   int64         \n",
            " 9   minute_price       6500 non-null   int64         \n",
            " 10  start_ride_price   6500 non-null   int64         \n",
            " 11  subscription_fee   6500 non-null   int64         \n",
            "dtypes: datetime64[ns](1), float64(2), int64(6), object(3)\n",
            "memory usage: 660.2+ KB\n",
            "None\n",
            "Число уникальных user_id с подпиской: 699\n",
            "Без подписки\n",
            "<class 'pandas.core.frame.DataFrame'>\n",
            "Int64Index: 11568 entries, 6500 to 18067\n",
            "Data columns (total 12 columns):\n",
            " #   Column             Non-Null Count  Dtype         \n",
            "---  ------             --------------  -----         \n",
            " 0   user_id            11568 non-null  int64         \n",
            " 1   name               11568 non-null  object        \n",
            " 2   age                11568 non-null  int64         \n",
            " 3   city               11568 non-null  object        \n",
            " 4   subscription_type  11568 non-null  object        \n",
            " 5   distance           11568 non-null  float64       \n",
            " 6   duration           11568 non-null  float64       \n",
            " 7   date               11568 non-null  datetime64[ns]\n",
            " 8   month              11568 non-null  int64         \n",
            " 9   minute_price       11568 non-null  int64         \n",
            " 10  start_ride_price   11568 non-null  int64         \n",
            " 11  subscription_fee   11568 non-null  int64         \n",
            "dtypes: datetime64[ns](1), float64(2), int64(6), object(3)\n",
            "memory usage: 1.1+ MB\n",
            "None\n",
            "Число уникальных user_id без подписки: 835\n"
          ]
        }
      ],
      "source": [
        "data_users_ultra = data.loc[data['subscription_type']=='ultra']\n",
        "data_users_free = data.loc[data['subscription_type']=='free']\n",
        "\n",
        "print('С подпиской')\n",
        "print(data_users_ultra.info())\n",
        "print('Число уникальных user_id с подпиской:', data_users_ultra['user_id'].nunique())\n",
        "\n",
        "print('Без подписки')\n",
        "print(data_users_free.info())\n",
        "print('Число уникальных user_id без подписки:', data_users_free['user_id'].nunique())"
      ]
    },
    {
      "cell_type": "markdown",
      "id": "c08425a5",
      "metadata": {
        "id": "c08425a5"
      },
      "source": [
        "Все в порядке, в процессе преобразований ничего не потеряно."
      ]
    },
    {
      "cell_type": "markdown",
      "id": "5c94f6a5",
      "metadata": {
        "id": "5c94f6a5"
      },
      "source": [
        "### Визуализация расстояния и времени поездок"
      ]
    },
    {
      "cell_type": "markdown",
      "id": "3de04c2a",
      "metadata": {
        "id": "3de04c2a"
      },
      "source": [
        "Визуализируем информацию о расстоянии и времени поездок для пользователей обеих категорий."
      ]
    },
    {
      "cell_type": "code",
      "execution_count": null,
      "id": "f4f9e4fd",
      "metadata": {
        "id": "f4f9e4fd",
        "outputId": "33902038-c326-493b-ccc5-61ab4e6a1a32"
      },
      "outputs": [
        {
          "data": {
            "image/png": "[encoded data removed]",
            "text/plain": [
              "<Figure size 432x288 with 1 Axes>"
            ]
          },
          "metadata": {
            "needs_background": "light"
          },
          "output_type": "display_data"
        },
        {
          "name": "stdout",
          "output_type": "stream",
          "text": [
            "count    6500.000000\n",
            "mean     3115.445388\n",
            "std       836.895330\n",
            "min       244.210438\n",
            "25%      2785.444017\n",
            "50%      3148.637229\n",
            "75%      3560.574425\n",
            "max      5699.769662\n",
            "Name: distance, dtype: float64\n"
          ]
        },
        {
          "data": {
            "image/png": "[encoded data removed]",
            "text/plain": [
              "<Figure size 432x288 with 1 Axes>"
            ]
          },
          "metadata": {
            "needs_background": "light"
          },
          "output_type": "display_data"
        },
        {
          "name": "stdout",
          "output_type": "stream",
          "text": [
            "count    11568.000000\n",
            "mean      3045.495282\n",
            "std       1246.173806\n",
            "min          0.855683\n",
            "25%       2366.562689\n",
            "50%       3114.648465\n",
            "75%       3905.697894\n",
            "max       7211.007745\n",
            "Name: distance, dtype: float64\n"
          ]
        }
      ],
      "source": [
        "data_users_ultra['distance'].hist(bins=300)\n",
        "plt.xlabel('расстояние, м')\n",
        "plt.ylabel('число поездок')\n",
        "plt.title('Расстояния поездок\\nпользователей с подпиской')\n",
        "plt.show()\n",
        "\n",
        "print(data_users_ultra['distance'].describe())\n",
        "\n",
        "data_users_free['distance'].hist(bins=300)\n",
        "plt.xlabel('расстояние, м')\n",
        "plt.ylabel('число поездок')\n",
        "plt.title('Расстояния поездок\\nпользователей без подписки')\n",
        "plt.show()\n",
        "\n",
        "print(data_users_free['distance'].describe())"
      ]
    },
    {
      "cell_type": "markdown",
      "id": "898241e1",
      "metadata": {
        "id": "898241e1"
      },
      "source": [
        "Раздельно графики сложно сравнивать, поэтому отразим обе гистограммы на одном графике."
      ]
    },
    {
      "cell_type": "code",
      "execution_count": null,
      "id": "2cb03e6f",
      "metadata": {
        "scrolled": true,
        "id": "2cb03e6f",
        "outputId": "1a266cce-0876-431c-f6e2-a03eff0158a1"
      },
      "outputs": [
        {
          "data": {
            "image/png": "[encoded data removed]",
            "text/plain": [
              "<Figure size 864x864 with 1 Axes>"
            ]
          },
          "metadata": {
            "needs_background": "light"
          },
          "output_type": "display_data"
        }
      ],
      "source": [
        "plt.figure(figsize=(12, 12))\n",
        "data_users_free['distance'].hist(bins=300)\n",
        "plt.xlabel('расстояние, м')\n",
        "plt.ylabel('число поездок')\n",
        "data_users_ultra['distance'].hist(bins=300)\n",
        "plt.title('Расстояния поездок')\n",
        "plt.legend(['Расстояния поездок\\nпользователей без подписки', 'Расстояния поездок\\nпользователей с подпиской'])\n",
        "\n",
        "plt.show()\n"
      ]
    },
    {
      "cell_type": "markdown",
      "id": "9648c783",
      "metadata": {
        "id": "9648c783"
      },
      "source": [
        "Распределения расстояния поездок в обеих категориях выглядят похоже:\n",
        "это бимодальное распределение, стремящееся к нормальному.\n",
        "\n",
        "Пользователи без подписки показывают больший разброс. Это может происходить за счет их большего количества, а также потому, что пользователи с подпиской, возможно, регулярно ездят одними и теми же маршрутами."
      ]
    },
    {
      "cell_type": "code",
      "execution_count": null,
      "id": "21910ce5",
      "metadata": {
        "id": "21910ce5",
        "outputId": "56eec7cf-5727-4e7d-abc2-32412fc4787e"
      },
      "outputs": [
        {
          "data": {
            "image/png": "[encoded data removed]",
            "text/plain": [
              "<Figure size 432x288 with 1 Axes>"
            ]
          },
          "metadata": {
            "needs_background": "light"
          },
          "output_type": "display_data"
        },
        {
          "name": "stdout",
          "output_type": "stream",
          "text": [
            "count    6500.000000\n",
            "mean       18.541985\n",
            "std         5.572048\n",
            "min         3.760353\n",
            "25%        14.524654\n",
            "50%        18.178153\n",
            "75%        21.884129\n",
            "max        40.823963\n",
            "Name: duration, dtype: float64\n"
          ]
        },
        {
          "data": {
            "image/png": "[encoded data removed]",
            "text/plain": [
              "<Figure size 432x288 with 1 Axes>"
            ]
          },
          "metadata": {
            "needs_background": "light"
          },
          "output_type": "display_data"
        },
        {
          "name": "stdout",
          "output_type": "stream",
          "text": [
            "count    11568.000000\n",
            "mean        17.390909\n",
            "std          6.326803\n",
            "min          0.500000\n",
            "25%         12.958437\n",
            "50%         17.326890\n",
            "75%         21.594071\n",
            "max         34.948498\n",
            "Name: duration, dtype: float64\n"
          ]
        }
      ],
      "source": [
        "data_users_ultra['duration'].hist(bins=200)\n",
        "plt.xlabel('длительность, мин.')\n",
        "plt.ylabel('число поездок')\n",
        "plt.title('Продолжительность поездок\\nпользователей с подпиской')\n",
        "plt.show()\n",
        "\n",
        "print(data_users_ultra['duration'].describe())\n",
        "\n",
        "data_users_free['duration'].hist(bins=200)\n",
        "plt.xlabel('длительность, мин.')\n",
        "plt.ylabel('число поездок')\n",
        "plt.title('Продолжительность поездок\\nпользователей без подписки')\n",
        "plt.show()\n",
        "\n",
        "print(data_users_free['duration'].describe())"
      ]
    },
    {
      "cell_type": "markdown",
      "id": "94a18bc3",
      "metadata": {
        "id": "94a18bc3"
      },
      "source": [
        "Видно, что все замеченные ранее подозрительные значения `duration` относятся к пользователям без подписки.\n",
        "Теперь эта аномалия становится похожа на попытку \"обмануть систему\" и не платить поминутно.\n",
        "\n",
        "Проверим, есть ли еще что-то, объединяющее эти поездки."
      ]
    },
    {
      "cell_type": "code",
      "execution_count": null,
      "id": "a9b626f2",
      "metadata": {
        "id": "a9b626f2",
        "outputId": "c88622ff-e07d-46ec-fe7a-12082c4fac61"
      },
      "outputs": [
        {
          "data": {
            "text/plain": [
              "user_id              90\n",
              "name                 71\n",
              "age                  21\n",
              "city                  8\n",
              "subscription_type     1\n",
              "distance             95\n",
              "duration              1\n",
              "date                 82\n",
              "month                12\n",
              "minute_price          1\n",
              "start_ride_price      1\n",
              "subscription_fee      1\n",
              "dtype: int64"
            ]
          },
          "execution_count": 22,
          "metadata": {},
          "output_type": "execute_result"
        }
      ],
      "source": [
        "data_users_free.loc[data_users_free['duration']<1].nunique()"
      ]
    },
    {
      "cell_type": "markdown",
      "id": "564d3cd5",
      "metadata": {
        "id": "564d3cd5"
      },
      "source": [
        "Больше ничего общего не наблюдается.\n",
        "\n",
        "\n",
        "Построим объединенный график и для продолжительности поездок."
      ]
    },
    {
      "cell_type": "code",
      "execution_count": null,
      "id": "6ceed976",
      "metadata": {
        "id": "6ceed976",
        "outputId": "3218e2c2-2fd6-4b4d-884b-6359f4df8daf"
      },
      "outputs": [
        {
          "data": {
            "image/png": "[encoded data removed]",
            "text/plain": [
              "<Figure size 864x864 with 1 Axes>"
            ]
          },
          "metadata": {
            "needs_background": "light"
          },
          "output_type": "display_data"
        }
      ],
      "source": [
        "plt.figure(figsize=(12, 12))\n",
        "data_users_free['duration'].hist(bins=300)\n",
        "plt.xlabel('длительность, мин.')\n",
        "plt.ylabel('число поездок')\n",
        "data_users_ultra['duration'].hist(bins=300)\n",
        "plt.title('Продлжительность поездок')\n",
        "plt.legend(['Продолжительность поездок\\nпользователей без подписки',\n",
        "            'Продолжительность поездок\\nпользователей с подпиской'])\n",
        "\n",
        "plt.show()"
      ]
    },
    {
      "cell_type": "markdown",
      "id": "a5e71f49",
      "metadata": {
        "id": "a5e71f49"
      },
      "source": [
        "Заметно, что длительность поездок пользователей с подпиской больше, но не слишком сильно."
      ]
    },
    {
      "cell_type": "markdown",
      "id": "83c4876f",
      "metadata": {
        "id": "83c4876f"
      },
      "source": [
        "**Выводы по шагу 4:**\n",
        "\n",
        "- распределения расстояния поездок для пользователей с подпиской и без подписки выглядят похоже: это бимодальное распределение, стремящееся к нормальному\n",
        "- пользователи без подписки показывают больший разброс в расстояниях (это может происходить за счет их большего количества, а также потому, что пользователи с подпиской, возможно, регулярно ездят одними и теми же маршрутами)\n",
        "- все замеченные ранее подозрительные значения duration относятся к пользователям без подписки, больше ничего общего у них обнаружить не удалось (эта аномалия похожа на попытку \"обмануть систему\" и не платить поминутно)\n",
        "- в среднем длительность поездок пользователей с подпиской больше примерно на 1 минуту"
      ]
    },
    {
      "cell_type": "markdown",
      "id": "402d620f",
      "metadata": {
        "id": "402d620f"
      },
      "source": [
        "## Шаг 5. Подсчет выручки"
      ]
    },
    {
      "cell_type": "markdown",
      "id": "7d9c62f8",
      "metadata": {
        "id": "7d9c62f8"
      },
      "source": [
        "### Агрегирование данных о поездках\n",
        "\n",
        "Создадим датафрейм с агрегированными данными о поездках.\n",
        "Для каждого пользователя за каждый месяц найдем:\n",
        "- суммарное расстояние\n",
        "- количество поездок\n",
        "- суммарное время\n",
        "\n",
        "Сначала округлим длительность поездок в датафрейме `data` до следующего целого."
      ]
    },
    {
      "cell_type": "code",
      "execution_count": null,
      "id": "cd50987e",
      "metadata": {
        "id": "cd50987e",
        "outputId": "4c3650e6-89c3-4f9b-fcd0-e791f89763e9"
      },
      "outputs": [
        {
          "data": {
            "text/html": [
              "<div>\n",
              "<style scoped>\n",
              "    .dataframe tbody tr th:only-of-type {\n",
              "        vertical-align: middle;\n",
              "    }\n",
              "\n",
              "    .dataframe tbody tr th {\n",
              "        vertical-align: top;\n",
              "    }\n",
              "\n",
              "    .dataframe thead th {\n",
              "        text-align: right;\n",
              "    }\n",
              "</style>\n",
              "<table border=\"1\" class=\"dataframe\">\n",
              "  <thead>\n",
              "    <tr style=\"text-align: right;\">\n",
              "      <th></th>\n",
              "      <th></th>\n",
              "      <th>sum_distance</th>\n",
              "      <th>sum_duration</th>\n",
              "      <th>count_rides</th>\n",
              "    </tr>\n",
              "    <tr>\n",
              "      <th>user_id</th>\n",
              "      <th>month</th>\n",
              "      <th></th>\n",
              "      <th></th>\n",
              "      <th></th>\n",
              "    </tr>\n",
              "  </thead>\n",
              "  <tbody>\n",
              "    <tr>\n",
              "      <th rowspan=\"5\" valign=\"top\">1</th>\n",
              "      <th>1</th>\n",
              "      <td>7027.511294</td>\n",
              "      <td>42.0</td>\n",
              "      <td>2</td>\n",
              "    </tr>\n",
              "    <tr>\n",
              "      <th>4</th>\n",
              "      <td>754.159807</td>\n",
              "      <td>7.0</td>\n",
              "      <td>1</td>\n",
              "    </tr>\n",
              "    <tr>\n",
              "      <th>8</th>\n",
              "      <td>6723.470560</td>\n",
              "      <td>46.0</td>\n",
              "      <td>2</td>\n",
              "    </tr>\n",
              "    <tr>\n",
              "      <th>10</th>\n",
              "      <td>5809.911100</td>\n",
              "      <td>32.0</td>\n",
              "      <td>2</td>\n",
              "    </tr>\n",
              "    <tr>\n",
              "      <th>11</th>\n",
              "      <td>7003.499363</td>\n",
              "      <td>56.0</td>\n",
              "      <td>3</td>\n",
              "    </tr>\n",
              "  </tbody>\n",
              "</table>\n",
              "</div>"
            ],
            "text/plain": [
              "               sum_distance  sum_duration  count_rides\n",
              "user_id month                                         \n",
              "1       1       7027.511294          42.0            2\n",
              "        4        754.159807           7.0            1\n",
              "        8       6723.470560          46.0            2\n",
              "        10      5809.911100          32.0            2\n",
              "        11      7003.499363          56.0            3"
            ]
          },
          "execution_count": 24,
          "metadata": {},
          "output_type": "execute_result"
        }
      ],
      "source": [
        "data['duration'] = np.ceil(data['duration'])\n",
        "\n",
        "data_agg = data.pivot_table(index=['user_id', 'month'], values=['distance', 'duration'], aggfunc=['sum', 'count'])\n",
        "del data_agg['count', 'duration']\n",
        "data_agg.columns = ['sum_distance', 'sum_duration', 'count_rides']\n",
        "data_agg.head()"
      ]
    },
    {
      "cell_type": "markdown",
      "id": "00b22e1c",
      "metadata": {
        "id": "00b22e1c"
      },
      "source": [
        "Для дальнейшей работы со значениями таблицы создадим ее копию с обычными индексами."
      ]
    },
    {
      "cell_type": "code",
      "execution_count": null,
      "id": "df29f4e7",
      "metadata": {
        "id": "df29f4e7",
        "outputId": "eb69c600-6b99-49d8-96da-fc756e66f6e6"
      },
      "outputs": [
        {
          "data": {
            "text/html": [
              "<div>\n",
              "<style scoped>\n",
              "    .dataframe tbody tr th:only-of-type {\n",
              "        vertical-align: middle;\n",
              "    }\n",
              "\n",
              "    .dataframe tbody tr th {\n",
              "        vertical-align: top;\n",
              "    }\n",
              "\n",
              "    .dataframe thead th {\n",
              "        text-align: right;\n",
              "    }\n",
              "</style>\n",
              "<table border=\"1\" class=\"dataframe\">\n",
              "  <thead>\n",
              "    <tr style=\"text-align: right;\">\n",
              "      <th></th>\n",
              "      <th>user_id</th>\n",
              "      <th>month</th>\n",
              "      <th>sum_distance</th>\n",
              "      <th>sum_duration</th>\n",
              "      <th>count_rides</th>\n",
              "    </tr>\n",
              "  </thead>\n",
              "  <tbody>\n",
              "    <tr>\n",
              "      <th>0</th>\n",
              "      <td>1</td>\n",
              "      <td>1</td>\n",
              "      <td>7027.511294</td>\n",
              "      <td>42.0</td>\n",
              "      <td>2</td>\n",
              "    </tr>\n",
              "    <tr>\n",
              "      <th>1</th>\n",
              "      <td>1</td>\n",
              "      <td>4</td>\n",
              "      <td>754.159807</td>\n",
              "      <td>7.0</td>\n",
              "      <td>1</td>\n",
              "    </tr>\n",
              "    <tr>\n",
              "      <th>2</th>\n",
              "      <td>1</td>\n",
              "      <td>8</td>\n",
              "      <td>6723.470560</td>\n",
              "      <td>46.0</td>\n",
              "      <td>2</td>\n",
              "    </tr>\n",
              "    <tr>\n",
              "      <th>3</th>\n",
              "      <td>1</td>\n",
              "      <td>10</td>\n",
              "      <td>5809.911100</td>\n",
              "      <td>32.0</td>\n",
              "      <td>2</td>\n",
              "    </tr>\n",
              "    <tr>\n",
              "      <th>4</th>\n",
              "      <td>1</td>\n",
              "      <td>11</td>\n",
              "      <td>7003.499363</td>\n",
              "      <td>56.0</td>\n",
              "      <td>3</td>\n",
              "    </tr>\n",
              "  </tbody>\n",
              "</table>\n",
              "</div>"
            ],
            "text/plain": [
              "   user_id  month  sum_distance  sum_duration  count_rides\n",
              "0        1      1   7027.511294          42.0            2\n",
              "1        1      4    754.159807           7.0            1\n",
              "2        1      8   6723.470560          46.0            2\n",
              "3        1     10   5809.911100          32.0            2\n",
              "4        1     11   7003.499363          56.0            3"
            ]
          },
          "execution_count": 25,
          "metadata": {},
          "output_type": "execute_result"
        }
      ],
      "source": [
        "data_agg_reset_index = data_agg.reset_index()\n",
        "data_agg_reset_index.head()"
      ]
    },
    {
      "cell_type": "markdown",
      "id": "b51f81b9",
      "metadata": {
        "id": "b51f81b9"
      },
      "source": [
        "### Расчет помесячной выручки от каждого пользователя\n",
        "\n",
        "Добавим в получившийся датафрейм столбец с помесячной выручкой, которую принес каждый пользователь.\n",
        "\n",
        "Для этого создадим функцию `count_income`, которая будет рассчитывать выручку в зависимости от подписки пользователя.\n",
        "\n",
        "Будем считать, что ежемесячная плата за подписку поступала только в те месяцы, когда пользователь совершал поездки."
      ]
    },
    {
      "cell_type": "code",
      "execution_count": null,
      "id": "223bf2e7",
      "metadata": {
        "id": "223bf2e7"
      },
      "outputs": [],
      "source": [
        "def count_income(user_id, sum_duration, count_rides):\n",
        "    try:\n",
        "        subscription_type = users.loc[users['user_id']==user_id, 'subscription_type'][user_id-1]\n",
        "        index = subscriptions[subscriptions['subscription_type'] == subscription_type].index.values[0]\n",
        "\n",
        "        income = (sum_duration * subscriptions.loc[index, 'minute_price'])\\\n",
        "        + (count_rides * subscriptions.loc[index, 'start_ride_price'])\\\n",
        "        + subscriptions.loc[index, 'subscription_fee']\n",
        "\n",
        "    except:\n",
        "        income = 'ошибка'\n",
        "    return income"
      ]
    },
    {
      "cell_type": "code",
      "execution_count": null,
      "id": "5b42c3a5",
      "metadata": {
        "scrolled": false,
        "id": "5b42c3a5",
        "outputId": "fc63d027-e639-4397-8a7d-47b44903bea7"
      },
      "outputs": [
        {
          "data": {
            "text/html": [
              "<div>\n",
              "<style scoped>\n",
              "    .dataframe tbody tr th:only-of-type {\n",
              "        vertical-align: middle;\n",
              "    }\n",
              "\n",
              "    .dataframe tbody tr th {\n",
              "        vertical-align: top;\n",
              "    }\n",
              "\n",
              "    .dataframe thead th {\n",
              "        text-align: right;\n",
              "    }\n",
              "</style>\n",
              "<table border=\"1\" class=\"dataframe\">\n",
              "  <thead>\n",
              "    <tr style=\"text-align: right;\">\n",
              "      <th></th>\n",
              "      <th>user_id</th>\n",
              "      <th>month</th>\n",
              "      <th>sum_distance</th>\n",
              "      <th>sum_duration</th>\n",
              "      <th>count_rides</th>\n",
              "      <th>income</th>\n",
              "      <th>subscription_type</th>\n",
              "    </tr>\n",
              "  </thead>\n",
              "  <tbody>\n",
              "    <tr>\n",
              "      <th>0</th>\n",
              "      <td>1</td>\n",
              "      <td>1</td>\n",
              "      <td>7027.511294</td>\n",
              "      <td>42.0</td>\n",
              "      <td>2</td>\n",
              "      <td>451.0</td>\n",
              "      <td>ultra</td>\n",
              "    </tr>\n",
              "    <tr>\n",
              "      <th>1</th>\n",
              "      <td>1</td>\n",
              "      <td>4</td>\n",
              "      <td>754.159807</td>\n",
              "      <td>7.0</td>\n",
              "      <td>1</td>\n",
              "      <td>241.0</td>\n",
              "      <td>ultra</td>\n",
              "    </tr>\n",
              "    <tr>\n",
              "      <th>2</th>\n",
              "      <td>1</td>\n",
              "      <td>8</td>\n",
              "      <td>6723.470560</td>\n",
              "      <td>46.0</td>\n",
              "      <td>2</td>\n",
              "      <td>475.0</td>\n",
              "      <td>ultra</td>\n",
              "    </tr>\n",
              "    <tr>\n",
              "      <th>3</th>\n",
              "      <td>1</td>\n",
              "      <td>10</td>\n",
              "      <td>5809.911100</td>\n",
              "      <td>32.0</td>\n",
              "      <td>2</td>\n",
              "      <td>391.0</td>\n",
              "      <td>ultra</td>\n",
              "    </tr>\n",
              "    <tr>\n",
              "      <th>4</th>\n",
              "      <td>1</td>\n",
              "      <td>11</td>\n",
              "      <td>7003.499363</td>\n",
              "      <td>56.0</td>\n",
              "      <td>3</td>\n",
              "      <td>535.0</td>\n",
              "      <td>ultra</td>\n",
              "    </tr>\n",
              "    <tr>\n",
              "      <th>5</th>\n",
              "      <td>1</td>\n",
              "      <td>12</td>\n",
              "      <td>6751.629942</td>\n",
              "      <td>28.0</td>\n",
              "      <td>2</td>\n",
              "      <td>367.0</td>\n",
              "      <td>ultra</td>\n",
              "    </tr>\n",
              "    <tr>\n",
              "      <th>6</th>\n",
              "      <td>2</td>\n",
              "      <td>3</td>\n",
              "      <td>10187.723006</td>\n",
              "      <td>63.0</td>\n",
              "      <td>3</td>\n",
              "      <td>577.0</td>\n",
              "      <td>ultra</td>\n",
              "    </tr>\n",
              "    <tr>\n",
              "      <th>7</th>\n",
              "      <td>2</td>\n",
              "      <td>4</td>\n",
              "      <td>6164.381824</td>\n",
              "      <td>40.0</td>\n",
              "      <td>2</td>\n",
              "      <td>439.0</td>\n",
              "      <td>ultra</td>\n",
              "    </tr>\n",
              "    <tr>\n",
              "      <th>8</th>\n",
              "      <td>2</td>\n",
              "      <td>6</td>\n",
              "      <td>3255.338202</td>\n",
              "      <td>14.0</td>\n",
              "      <td>1</td>\n",
              "      <td>283.0</td>\n",
              "      <td>ultra</td>\n",
              "    </tr>\n",
              "    <tr>\n",
              "      <th>9</th>\n",
              "      <td>2</td>\n",
              "      <td>7</td>\n",
              "      <td>6780.722964</td>\n",
              "      <td>48.0</td>\n",
              "      <td>2</td>\n",
              "      <td>487.0</td>\n",
              "      <td>ultra</td>\n",
              "    </tr>\n",
              "    <tr>\n",
              "      <th>10</th>\n",
              "      <td>2</td>\n",
              "      <td>8</td>\n",
              "      <td>923.007439</td>\n",
              "      <td>7.0</td>\n",
              "      <td>1</td>\n",
              "      <td>241.0</td>\n",
              "      <td>ultra</td>\n",
              "    </tr>\n",
              "    <tr>\n",
              "      <th>11</th>\n",
              "      <td>2</td>\n",
              "      <td>10</td>\n",
              "      <td>2824.636598</td>\n",
              "      <td>19.0</td>\n",
              "      <td>1</td>\n",
              "      <td>313.0</td>\n",
              "      <td>ultra</td>\n",
              "    </tr>\n",
              "    <tr>\n",
              "      <th>12</th>\n",
              "      <td>2</td>\n",
              "      <td>12</td>\n",
              "      <td>3828.248580</td>\n",
              "      <td>12.0</td>\n",
              "      <td>1</td>\n",
              "      <td>271.0</td>\n",
              "      <td>ultra</td>\n",
              "    </tr>\n",
              "    <tr>\n",
              "      <th>13</th>\n",
              "      <td>3</td>\n",
              "      <td>1</td>\n",
              "      <td>3061.777147</td>\n",
              "      <td>13.0</td>\n",
              "      <td>1</td>\n",
              "      <td>277.0</td>\n",
              "      <td>ultra</td>\n",
              "    </tr>\n",
              "    <tr>\n",
              "      <th>14</th>\n",
              "      <td>3</td>\n",
              "      <td>2</td>\n",
              "      <td>5421.152016</td>\n",
              "      <td>39.0</td>\n",
              "      <td>2</td>\n",
              "      <td>433.0</td>\n",
              "      <td>ultra</td>\n",
              "    </tr>\n",
              "    <tr>\n",
              "      <th>15</th>\n",
              "      <td>3</td>\n",
              "      <td>4</td>\n",
              "      <td>2956.651632</td>\n",
              "      <td>21.0</td>\n",
              "      <td>1</td>\n",
              "      <td>325.0</td>\n",
              "      <td>ultra</td>\n",
              "    </tr>\n",
              "    <tr>\n",
              "      <th>16</th>\n",
              "      <td>3</td>\n",
              "      <td>5</td>\n",
              "      <td>9064.026918</td>\n",
              "      <td>63.0</td>\n",
              "      <td>3</td>\n",
              "      <td>577.0</td>\n",
              "      <td>ultra</td>\n",
              "    </tr>\n",
              "    <tr>\n",
              "      <th>17</th>\n",
              "      <td>3</td>\n",
              "      <td>7</td>\n",
              "      <td>10919.595403</td>\n",
              "      <td>67.0</td>\n",
              "      <td>3</td>\n",
              "      <td>601.0</td>\n",
              "      <td>ultra</td>\n",
              "    </tr>\n",
              "    <tr>\n",
              "      <th>18</th>\n",
              "      <td>3</td>\n",
              "      <td>9</td>\n",
              "      <td>2891.012822</td>\n",
              "      <td>23.0</td>\n",
              "      <td>1</td>\n",
              "      <td>337.0</td>\n",
              "      <td>ultra</td>\n",
              "    </tr>\n",
              "    <tr>\n",
              "      <th>19</th>\n",
              "      <td>3</td>\n",
              "      <td>12</td>\n",
              "      <td>2593.381928</td>\n",
              "      <td>13.0</td>\n",
              "      <td>1</td>\n",
              "      <td>277.0</td>\n",
              "      <td>ultra</td>\n",
              "    </tr>\n",
              "  </tbody>\n",
              "</table>\n",
              "</div>"
            ],
            "text/plain": [
              "    user_id  month  sum_distance  sum_duration  count_rides  income  \\\n",
              "0         1      1   7027.511294          42.0            2   451.0   \n",
              "1         1      4    754.159807           7.0            1   241.0   \n",
              "2         1      8   6723.470560          46.0            2   475.0   \n",
              "3         1     10   5809.911100          32.0            2   391.0   \n",
              "4         1     11   7003.499363          56.0            3   535.0   \n",
              "5         1     12   6751.629942          28.0            2   367.0   \n",
              "6         2      3  10187.723006          63.0            3   577.0   \n",
              "7         2      4   6164.381824          40.0            2   439.0   \n",
              "8         2      6   3255.338202          14.0            1   283.0   \n",
              "9         2      7   6780.722964          48.0            2   487.0   \n",
              "10        2      8    923.007439           7.0            1   241.0   \n",
              "11        2     10   2824.636598          19.0            1   313.0   \n",
              "12        2     12   3828.248580          12.0            1   271.0   \n",
              "13        3      1   3061.777147          13.0            1   277.0   \n",
              "14        3      2   5421.152016          39.0            2   433.0   \n",
              "15        3      4   2956.651632          21.0            1   325.0   \n",
              "16        3      5   9064.026918          63.0            3   577.0   \n",
              "17        3      7  10919.595403          67.0            3   601.0   \n",
              "18        3      9   2891.012822          23.0            1   337.0   \n",
              "19        3     12   2593.381928          13.0            1   277.0   \n",
              "\n",
              "   subscription_type  \n",
              "0              ultra  \n",
              "1              ultra  \n",
              "2              ultra  \n",
              "3              ultra  \n",
              "4              ultra  \n",
              "5              ultra  \n",
              "6              ultra  \n",
              "7              ultra  \n",
              "8              ultra  \n",
              "9              ultra  \n",
              "10             ultra  \n",
              "11             ultra  \n",
              "12             ultra  \n",
              "13             ultra  \n",
              "14             ultra  \n",
              "15             ultra  \n",
              "16             ultra  \n",
              "17             ultra  \n",
              "18             ultra  \n",
              "19             ultra  "
            ]
          },
          "execution_count": 27,
          "metadata": {},
          "output_type": "execute_result"
        }
      ],
      "source": [
        "data_agg_reset_index['income'] = data_agg_reset_index.apply(lambda row: count_income(\n",
        "    row['user_id'], row['sum_duration'], row['count_rides']\n",
        "    ), axis=1)\n",
        "\n",
        "data_agg_reset_index = data_agg_reset_index.merge(users[['user_id', 'subscription_type']], on='user_id', how='left')\n",
        "\n",
        "data_agg_reset_index.head(20)"
      ]
    },
    {
      "cell_type": "markdown",
      "id": "da0793cf",
      "metadata": {
        "id": "da0793cf"
      },
      "source": [
        "**Выводы по шагу 5:**\n",
        "\n",
        "- создали функцию для подсчета выручки, полученной в каждый месяц от каждого пользователя\n",
        "- добавили в сводную таблицу столбец с выручкой"
      ]
    },
    {
      "cell_type": "markdown",
      "id": "41545ac0",
      "metadata": {
        "id": "41545ac0"
      },
      "source": [
        "## Шаг 6. Проверка гипотез"
      ]
    },
    {
      "cell_type": "markdown",
      "id": "ba6e2052",
      "metadata": {
        "id": "ba6e2052"
      },
      "source": [
        "### Продолжительность поездок\n"
      ]
    },
    {
      "cell_type": "markdown",
      "id": "6eac9ff7",
      "metadata": {
        "id": "6eac9ff7"
      },
      "source": [
        "Проверим, тратят ли пользователи с подпиской больше времени на поездки."
      ]
    },
    {
      "cell_type": "markdown",
      "id": "91fc441b",
      "metadata": {
        "id": "91fc441b"
      },
      "source": [
        "Нулевая гипотеза: средняя длительность одной поездки для пользователей с подпиской равна средней длительности одной поездки для пользователей без подписки.\n",
        "\n",
        "Альтернативная гипотеза: средняя длительность одной поездки для пользователей с подпиской больше средней длительности  одной поездки для пользователей без подписки.\n",
        "\n",
        "Уровень значимости: 0.05.\n",
        "\n",
        "Воспользуемся методом `scipy.stats.ttest_ind`."
      ]
    },
    {
      "cell_type": "code",
      "execution_count": null,
      "id": "eda121b2",
      "metadata": {
        "id": "eda121b2",
        "outputId": "e97f176a-836b-4504-ed1e-19d5f454e488"
      },
      "outputs": [
        {
          "name": "stdout",
          "output_type": "stream",
          "text": [
            "p-value: 1.2804098316645618e-34\n",
            "Отвергаем нулевую гипотезу\n"
          ]
        }
      ],
      "source": [
        "hip1_duration_subscribtion = st.ttest_ind(\n",
        "    data_users_ultra['duration'],\n",
        "    data_users_free['duration'],\n",
        "    alternative='greater')\n",
        "\n",
        "print('p-value:', hip1_duration_subscribtion.pvalue)\n",
        "if hip1_duration_subscribtion.pvalue < 0.05:\n",
        "    print('Отвергаем нулевую гипотезу')\n",
        "else:\n",
        "    print('Не отвергаем нулевую гипотезу')"
      ]
    },
    {
      "cell_type": "markdown",
      "id": "ff4be6ce",
      "metadata": {
        "id": "ff4be6ce"
      },
      "source": [
        "Нулевая гипотеза о равенстве средней длительности одной поездки для пользователей с подпиской и для пользователей без подписки, отвергнута.\n",
        "\n",
        "Есть основания полагать, что пользователи с подпиской тратят больше времени на поездки."
      ]
    },
    {
      "cell_type": "markdown",
      "id": "6c672366",
      "metadata": {
        "id": "6c672366"
      },
      "source": [
        "### Расстояние"
      ]
    },
    {
      "cell_type": "markdown",
      "id": "b2e0b5bf",
      "metadata": {
        "id": "b2e0b5bf"
      },
      "source": [
        "Расстояние одной поездки в 3130 метров — оптимальное с точки зрения износа самоката. Проверим, можно ли сказать, что среднее расстояние, которое проезжают пользователи с подпиской за одну поездку, не превышает 3130 метров."
      ]
    },
    {
      "cell_type": "markdown",
      "id": "615ae821",
      "metadata": {
        "id": "615ae821"
      },
      "source": [
        "Нулевая гипотеза: среднее расстояние одной поездки для пользователей с подпиской равно 3130 метров.\n",
        "\n",
        "Альтернативная гипотеза: среднее расстояние одной поездки для пользователей с подпиской больше 3130 метров.\n",
        "\n",
        "Уровень значимости: 0.05.\n",
        "\n",
        "Воспользуемся методом `scipy.stats.ttest_1samp`."
      ]
    },
    {
      "cell_type": "code",
      "execution_count": null,
      "id": "6aa76a53",
      "metadata": {
        "id": "6aa76a53",
        "outputId": "8c5be1b6-ffa1-4698-ac8f-e15d88a00ecc"
      },
      "outputs": [
        {
          "name": "stdout",
          "output_type": "stream",
          "text": [
            "p-value: 0.9195368847849785\n",
            "Не отвергаем нулевую гипотезу\n"
          ]
        }
      ],
      "source": [
        "hip2_distance_ultra = st.ttest_1samp(\n",
        "    data_users_ultra['distance'],\n",
        "    3130,\n",
        "    alternative='greater')\n",
        "\n",
        "print('p-value:', hip2_distance_ultra.pvalue)\n",
        "if hip2_distance_ultra.pvalue < 0.05:\n",
        "    print('Отвергаем нулевую гипотезу')\n",
        "else:\n",
        "    print('Не отвергаем нулевую гипотезу')"
      ]
    },
    {
      "cell_type": "markdown",
      "id": "bea4dff1",
      "metadata": {
        "id": "bea4dff1"
      },
      "source": [
        "Нулевая гипотеза о равенстве среднего расстояния одной поездки для пользователей с подпиской 3130 метров не отвергнута.\n",
        "\n",
        "Есть основания полагать, что среднее расстояние, которое проезжают пользователи с подпиской за одну поездку, не превышает 3130 метров."
      ]
    },
    {
      "cell_type": "markdown",
      "id": "bdc1acca",
      "metadata": {
        "id": "bdc1acca"
      },
      "source": [
        "### Помесячная выручка"
      ]
    },
    {
      "cell_type": "markdown",
      "id": "59b45b4e",
      "metadata": {
        "id": "59b45b4e"
      },
      "source": [
        "Проверим гипотезу о том, будет ли помесячная выручка от пользователей с подпиской по месяцам выше, чем выручка от пользователей без подписки."
      ]
    },
    {
      "cell_type": "markdown",
      "id": "4e9c7a56",
      "metadata": {
        "id": "4e9c7a56"
      },
      "source": [
        "Нулевая гипотеза: средняя помесячная выручка для пользователей с подпиской равна средней помесячной выручке от пользователей без подписки.\n",
        "\n",
        "Альтернативная гипотеза: средняя помесячная выручка для пользователей с подпиской больше средней помесячной выручке от пользователей без подписки.\n",
        "\n",
        "Уровень значимости: 0.05."
      ]
    },
    {
      "cell_type": "markdown",
      "id": "2d269561",
      "metadata": {
        "id": "2d269561"
      },
      "source": [
        "Воспользуемся методом `scipy.stats.ttest_ind`."
      ]
    },
    {
      "cell_type": "code",
      "execution_count": null,
      "id": "b94eec8c",
      "metadata": {
        "id": "b94eec8c",
        "outputId": "5dae05bd-2792-4262-ec18-19a15a52253e"
      },
      "outputs": [
        {
          "name": "stdout",
          "output_type": "stream",
          "text": [
            "p-value: 1.8850394384715216e-31\n",
            "Отвергаем нулевую гипотезу\n"
          ]
        }
      ],
      "source": [
        "hip3_income_subscribtion1 = st.ttest_ind(\n",
        "    data_agg_reset_index.loc[data_agg_reset_index['subscription_type']=='ultra', 'income'],\n",
        "    data_agg_reset_index.loc[data_agg_reset_index['subscription_type']=='free', 'income'],\n",
        "    alternative='greater')\n",
        "\n",
        "print('p-value:', hip3_income_subscribtion1.pvalue)\n",
        "if hip3_income_subscribtion1.pvalue < 0.05:\n",
        "    print('Отвергаем нулевую гипотезу')\n",
        "else:\n",
        "    print('Не отвергаем нулевую гипотезу')"
      ]
    },
    {
      "cell_type": "markdown",
      "id": "eb06c35f",
      "metadata": {
        "id": "eb06c35f"
      },
      "source": [
        "Нулевая гипотеза о равенстве средней помесячной выручки от пользователей с подпиской и средней помесячной выручки от пользователей без подписки, отвергнута.\n",
        "\n",
        "Есть основания считать, что выручка по месяцам от пользователей с подпиской выше."
      ]
    },
    {
      "cell_type": "markdown",
      "id": "ce940a4b",
      "metadata": {
        "id": "ce940a4b"
      },
      "source": [
        "### Обновление серверов"
      ]
    },
    {
      "cell_type": "markdown",
      "id": "7c397e29",
      "metadata": {
        "id": "7c397e29"
      },
      "source": [
        "**Задание:**\n",
        "\n",
        "Представим такую ситуацию: техническая команда сервиса обновила сервера, с которыми взаимодействует мобильное приложение. Она надеется, что из-за этого количество обращений в техподдержку значимо снизилось. Некоторый файл содержит для каждого пользователя данные о количестве обращений до обновления и после него.\n",
        "\n",
        "Какой тест понадобился бы для проверки этой гипотезы?"
      ]
    },
    {
      "cell_type": "markdown",
      "id": "9d1f9906",
      "metadata": {
        "id": "9d1f9906"
      },
      "source": [
        "**Ответ:**\n",
        "\n",
        "Двухвыборочный t-тест для зависимых выборок.\n",
        "\n",
        "Методу `scipy.stats.ttest_rel()` нужно было бы передать в качестве аргументов:\n",
        "- количество обращений до обновления\n",
        "- количество обращений после обновления\n",
        "- `alternative='less'`"
      ]
    },
    {
      "cell_type": "markdown",
      "id": "307f4fda",
      "metadata": {
        "id": "307f4fda"
      },
      "source": [
        "**Выводы по шагу 6:**\n",
        "- средняя длительность одной поездки для пользователей с подпиской больше средней длительности одной поездки для пользователей без подписки (можно считать, что пользователи с подпиской тратят больше времени на поездки)\n",
        "- среднее расстояние одной поездки для пользователей с подпиской равно 3130 метров (можно считать, что среднее расстояние, которое проезжают пользователи с подпиской за одну поездку, не превышает 3130 метров, то есть самокаты изнашиваются оптимально)\n",
        "- средняя помесячная выручка для пользователей с подпиской больше средней помесячной выручке от пользователей без подписки (можно считать, что выручка от пользователей с подпиской по месяцам выше)"
      ]
    },
    {
      "cell_type": "markdown",
      "id": "61213c5e",
      "metadata": {
        "id": "61213c5e"
      },
      "source": [
        "## Шаг 7. Распределения"
      ]
    },
    {
      "cell_type": "markdown",
      "id": "e6d45191",
      "metadata": {
        "id": "e6d45191"
      },
      "source": [
        "### Промокоды"
      ]
    },
    {
      "cell_type": "markdown",
      "id": "ce9c6b38",
      "metadata": {
        "id": "ce9c6b38"
      },
      "source": [
        "**Задание:**\n",
        "\n",
        "Отделу маркетинга GoFast поставили задачу: нужно провести акцию с раздачей промокодов на один бесплатный месяц подписки, в рамках которой как минимум 100 существующих клиентов должны продлить эту подписку. То есть по завершении периода действия подписки пользователь может либо отказаться от неё, либо продлить, совершив соответствующий платёж.\n",
        "\n",
        "Эта акция уже проводилась ранее и по итогу выяснилось, что после бесплатного пробного периода подписку продлевают 10 % пользователей. Выясните, какое минимальное количество промокодов нужно разослать, чтобы вероятность не выполнить план была примерно 5 %. Подберите параметры распределения, описывающего эту ситуацию, постройте график распределения и сформулируйте ответ на вопрос о количестве промокодов."
      ]
    },
    {
      "cell_type": "markdown",
      "id": "8a7fc351",
      "metadata": {
        "id": "8a7fc351"
      },
      "source": [
        "**Решение:**\n",
        "\n",
        "Ситуация описывается биномиальным распределением. Вероятность успеха можно принять за 0.1.\n",
        "\n",
        "Построим график для n промокодов."
      ]
    },
    {
      "cell_type": "code",
      "execution_count": null,
      "id": "c4aab5d9",
      "metadata": {
        "id": "c4aab5d9",
        "outputId": "856fed48-0490-4a09-9315-49a92459f6a9"
      },
      "outputs": [
        {
          "name": "stderr",
          "output_type": "stream",
          "text": [
            "/opt/conda/lib/python3.9/site-packages/scipy/stats/_discrete_distns.py:78: RuntimeWarning: divide by zero encountered in _binom_pdf\n",
            "  return _boost._binom_pdf(x, n, p)\n"
          ]
        },
        {
          "data": {
            "image/png": "[encoded data removed]",
            "text/plain": [
              "<Figure size 1080x1080 with 1 Axes>"
            ]
          },
          "metadata": {
            "needs_background": "light"
          },
          "output_type": "display_data"
        }
      ],
      "source": [
        "from scipy.stats import binom\n",
        "\n",
        "n = 1000\n",
        "p = 0.1\n",
        "\n",
        "distr = []\n",
        "\n",
        "for k in range(0, n + 1):\n",
        "    current_value = binom.pmf(k, n, p)\n",
        "    distr.append(current_value)\n",
        "\n",
        "plt.figure(figsize=(15, 15))\n",
        "plt.bar(range(0, n + 1), distr)\n",
        "plt.xlim(50, 150)\n",
        "plt.xlabel('число продленных подписок')\n",
        "plt.ylabel('вероятность')\n",
        "plt.title(f'Распределение вероятностей числа продленных подписок при {n} промокодов')\n",
        "plt.grid(True)\n",
        "plt.show()"
      ]
    },
    {
      "cell_type": "markdown",
      "id": "1330dd17",
      "metadata": {
        "id": "1330dd17"
      },
      "source": [
        "По графику видно, что 1000 недостаточно для того, чтобы вероятность не выполнить план оказалась примерно 5%.\n",
        "\n",
        "Подберем ориентировочное значение, используя кумулятивную функцию распределения (метод `.cdf()`). Найдем такое n, при котором вероятность получить 99 и менее продлений подписки окажется примерно 0.05."
      ]
    },
    {
      "cell_type": "code",
      "execution_count": null,
      "id": "58af858c",
      "metadata": {
        "id": "58af858c",
        "outputId": "e6f73ccf-d637-40d1-d0fa-a53a93d45766"
      },
      "outputs": [
        {
          "name": "stdout",
          "output_type": "stream",
          "text": [
            "Ответ: 1161\n"
          ]
        }
      ],
      "source": [
        "n = 1000\n",
        "p = 0.1\n",
        "\n",
        "for i in range (n, 1500):\n",
        "    n += 1\n",
        "    if st.binom(n, p).cdf(99) <= 0.05:\n",
        "        print('Ответ:', n)\n",
        "        break\n",
        "\n",
        "\n"
      ]
    },
    {
      "cell_type": "markdown",
      "id": "f0fff38b",
      "metadata": {
        "id": "f0fff38b"
      },
      "source": [
        "Получили, что вероятность не выполнить план окажется примерно равна 5 % при раздаче 1161 промокода."
      ]
    },
    {
      "cell_type": "markdown",
      "id": "1e78135c",
      "metadata": {
        "id": "1e78135c"
      },
      "source": [
        "### Уведомления"
      ]
    },
    {
      "cell_type": "markdown",
      "id": "d4b8c8f9",
      "metadata": {
        "id": "d4b8c8f9"
      },
      "source": [
        "**Задание:**\n",
        "\n",
        "Отдел маркетинга рассылает клиентам push-уведомления в мобильном приложении. Клиенты могут открыть его или не открывать. Известно, что уведомления открывают около 40 % получивших клиентов. Отдел планирует разослать 1 млн уведомлений. С помощью аппроксимации постройте примерный график распределения и оцените вероятность того, что уведомление откроют не более 399,5\n",
        "тыс. пользователей."
      ]
    },
    {
      "cell_type": "markdown",
      "id": "6bb2b7c7",
      "metadata": {
        "id": "6bb2b7c7"
      },
      "source": [
        "**Решение:**\n",
        "    \n",
        "Ситуация описывается биномиальным распределением.\n",
        "При заданных параметрах должно быть можно аппроксимировать его нормальным для ускорения рассчетов. Проверим, выполняется ли условие хорошей аппроксимации."
      ]
    },
    {
      "cell_type": "code",
      "execution_count": null,
      "id": "45083fbf",
      "metadata": {
        "id": "45083fbf",
        "outputId": "370a1931-bd12-426b-ff16-6d8403a27af8"
      },
      "outputs": [
        {
          "name": "stdout",
          "output_type": "stream",
          "text": [
            "Можно аппроксимировать нормальным распределением\n"
          ]
        }
      ],
      "source": [
        "n = 1000000\n",
        "p = 0.4\n",
        "\n",
        "mu = n * p\n",
        "sigma = (n * p * (1 - p))**0.5\n",
        "\n",
        "if mu - (3 * sigma) >= 0 and (mu + (3 * sigma) <= n):\n",
        "    print('Можно аппроксимировать нормальным распределением')\n",
        "else:\n",
        "    print('Нужно искать другое решение')\n",
        "\n"
      ]
    },
    {
      "cell_type": "code",
      "execution_count": null,
      "id": "1d8fa957",
      "metadata": {
        "id": "1d8fa957",
        "outputId": "c7abc1d9-acc4-4aca-c417-cb457aa72903"
      },
      "outputs": [
        {
          "name": "stdout",
          "output_type": "stream",
          "text": [
            "0.15\n"
          ]
        }
      ],
      "source": [
        "from scipy.stats import norm\n",
        "\n",
        "distr = st.norm(mu, sigma)\n",
        "\n",
        "y = 399500\n",
        "print(round(distr.cdf(y), 2))"
      ]
    },
    {
      "cell_type": "markdown",
      "id": "de339932",
      "metadata": {
        "id": "de339932"
      },
      "source": [
        "Вероятность того, что уведомление откроют не более 399,5 тыс. пользователей - 15 %."
      ]
    },
    {
      "cell_type": "code",
      "execution_count": null,
      "id": "89a99046",
      "metadata": {
        "id": "89a99046",
        "outputId": "07ed9fd4-6696-4028-f52b-f5a09700648d"
      },
      "outputs": [
        {
          "data": {
            "image/png": "[encoded data removed]",
            "text/plain": [
              "<Figure size 648x648 with 1 Axes>"
            ]
          },
          "metadata": {
            "needs_background": "light"
          },
          "output_type": "display_data"
        }
      ],
      "source": [
        "plt.figure(figsize=(9, 9))\n",
        "plt.hist(np.random.normal(mu, sigma, n))\n",
        "plt.grid(True)\n",
        "plt.xlabel('количество пользователей, открывших уведомление')\n",
        "plt.title('Аппроксимированное распределение числа пользователей, открывших уведомление')\n",
        "plt.show()"
      ]
    },
    {
      "cell_type": "markdown",
      "id": "54b7c8ac",
      "metadata": {
        "id": "54b7c8ac"
      },
      "source": [
        "**Выводы по шагу 7:**\n",
        "\n",
        "- вероятность не выполнить план окажется примерно равна 5 % при раздаче 1161 промокода\n",
        "- вероятность того, что уведомление откроют не более 399,5 тыс. пользователей - 15 %"
      ]
    },
    {
      "cell_type": "markdown",
      "id": "260ab9ce",
      "metadata": {
        "id": "260ab9ce"
      },
      "source": [
        "## Итоговые выводы\n",
        "\n",
        "1. Рассмотрели данные о пользователях, их поездках и подписках. Особое внимание обратили на:\n",
        "    - различия в поведении пользователей с подпиской и без подписки;\n",
        "    - длительность поездок;\n",
        "    - расстояния, преодолеваемые за одну поездку;\n",
        "    - полученную от каждого пользователя выручку.\n",
        "2. В данных не обнаружили пропусков, выявили и удалили 31 дубликат в данных о пользователях.\n",
        "\n",
        "3. В ходе исследовательского анализа данных обнаружили, что:\n",
        "    - больше всего пользователей в Пятигорске, меньше всего - в Москве;\n",
        "    - пользователей с подпиской примерно на 9 п.п. меньше, чем пользователей без подписки;\n",
        "    - возраст пользователей близок к нормальному распределению с вершиной около 25 лет;\n",
        "    - расстояние близко к нормальному распределению, но бимодально; это может быть связано с дополнительными факторами (например, с ненастной погодой или тем, что поездка - первая для пользователя);\n",
        "    - в среднем пользователи проезжают за 1 поездку чуть больше 3000 метров;\n",
        "    - длительность поездок близка к нормальному распределению;\n",
        "    - в среднем поездка продолжается 17-18 минут;\n",
        "    - поездки длительностью меньше 1 минуты явно указывают на какие-то ошибки в сборе данных.\n",
        "4. На основе объединения имеющихся данных, при помощи визуализации обнаружили, что:\n",
        "    - распределения расстояния поездок для пользователей с подпиской и без подписки выглядят похоже: это бимодальное распределение, стремящееся к нормальному;\n",
        "    - пользователи без подписки показывают больший разброс в расстояниях (это может происходить за счет их большего количества, а также потому, что пользователи с подпиской, возможно, регулярно ездят одними и теми же маршрутами);\n",
        "    - все замеченные ранее подозрительные значения duration относятся к пользователям без подписки, больше ничего общего у них обнаружить не удалось (эта аномалия похожа на попытку \"обмануть систему\" и не платить поминутно);\n",
        "    - в среднем длительность поездок пользователей с подпиской больше примерно на 1 минуту.\n",
        "5. Проверили статистические гипотезы и увидели, что:\n",
        "    - средняя длительность одной поездки для пользователей с подпиской больше средней длительности одной поездки для пользователей без подписки (можно считать, что пользователи с подпиской тратят больше времени на поездки);\n",
        "    - среднее расстояние одной поездки для пользователей с подпиской равно 3130 метров (можно считать, что среднее расстояние, которое проезжают пользователи с подпиской за одну поездку, не превышает 3130 метров, то есть самокаты изнашиваются оптимально);\n",
        "    - средняя помесячная выручка для пользователей с подпиской больше средней помесячной выручки от пользователей без подписки (можно считать, что выручка от пользователей с подпиской по месяцам выше).\n",
        "6. Заключили, что для сервиса выгоднее иметь больше пользователей с подпиской, так как они приносят больше выручки и при этом не приводят к критическому износу самокатов."
      ]
    }
  ],
  "metadata": {
    "ExecuteTimeLog": [
      {
        "duration": 446,
        "start_time": "2024-07-31T14:29:09.488Z"
      },
      {
        "duration": 84,
        "start_time": "2024-07-31T14:39:24.607Z"
      },
      {
        "duration": 177,
        "start_time": "2024-07-31T14:40:59.812Z"
      },
      {
        "duration": 87,
        "start_time": "2024-07-31T14:42:08.712Z"
      },
      {
        "duration": 37,
        "start_time": "2024-07-31T14:42:26.353Z"
      },
      {
        "duration": 47,
        "start_time": "2024-07-31T14:42:28.504Z"
      },
      {
        "duration": 15,
        "start_time": "2024-07-31T14:43:02.470Z"
      },
      {
        "duration": 45,
        "start_time": "2024-07-31T14:44:50.746Z"
      },
      {
        "duration": 41,
        "start_time": "2024-07-31T14:45:00.012Z"
      },
      {
        "duration": 116,
        "start_time": "2024-07-31T14:45:56.072Z"
      },
      {
        "duration": 53,
        "start_time": "2024-07-31T14:46:03.152Z"
      },
      {
        "duration": 39,
        "start_time": "2024-07-31T14:46:28.075Z"
      },
      {
        "duration": 8,
        "start_time": "2024-07-31T15:02:09.768Z"
      },
      {
        "duration": 38,
        "start_time": "2024-07-31T15:02:33.482Z"
      },
      {
        "duration": 12,
        "start_time": "2024-07-31T15:04:14.316Z"
      },
      {
        "duration": 10,
        "start_time": "2024-07-31T15:08:31.691Z"
      },
      {
        "duration": 9,
        "start_time": "2024-07-31T15:09:53.318Z"
      },
      {
        "duration": 65,
        "start_time": "2024-07-31T15:10:00.729Z"
      },
      {
        "duration": 9,
        "start_time": "2024-07-31T15:10:24.056Z"
      },
      {
        "duration": 31,
        "start_time": "2024-07-31T15:10:38.435Z"
      },
      {
        "duration": 29,
        "start_time": "2024-07-31T15:11:06.387Z"
      },
      {
        "duration": 13,
        "start_time": "2024-07-31T15:24:39.186Z"
      },
      {
        "duration": 58,
        "start_time": "2024-07-31T15:24:46.628Z"
      },
      {
        "duration": 21,
        "start_time": "2024-07-31T15:24:55.336Z"
      },
      {
        "duration": 11,
        "start_time": "2024-07-31T15:28:30.849Z"
      },
      {
        "duration": 7,
        "start_time": "2024-07-31T15:34:42.240Z"
      },
      {
        "duration": 11,
        "start_time": "2024-07-31T15:34:56.568Z"
      },
      {
        "duration": 20,
        "start_time": "2024-07-31T15:39:02.807Z"
      },
      {
        "duration": 18,
        "start_time": "2024-07-31T15:39:31.383Z"
      },
      {
        "duration": 12,
        "start_time": "2024-07-31T15:39:45.154Z"
      },
      {
        "duration": 68,
        "start_time": "2024-07-31T15:40:30.164Z"
      },
      {
        "duration": 34,
        "start_time": "2024-08-01T08:27:01.807Z"
      },
      {
        "duration": 29,
        "start_time": "2024-08-01T08:29:26.944Z"
      },
      {
        "duration": 677,
        "start_time": "2024-08-01T08:30:51.309Z"
      },
      {
        "duration": 7,
        "start_time": "2024-08-01T08:31:02.946Z"
      },
      {
        "duration": 557,
        "start_time": "2024-08-01T08:35:45.561Z"
      },
      {
        "duration": 466,
        "start_time": "2024-08-01T08:36:00.996Z"
      },
      {
        "duration": 27,
        "start_time": "2024-08-01T08:42:29.294Z"
      },
      {
        "duration": 14,
        "start_time": "2024-08-01T08:42:47.656Z"
      },
      {
        "duration": 142,
        "start_time": "2024-08-01T08:46:45.391Z"
      },
      {
        "duration": 3,
        "start_time": "2024-08-01T08:46:59.274Z"
      },
      {
        "duration": 140,
        "start_time": "2024-08-01T08:47:07.289Z"
      },
      {
        "duration": 142,
        "start_time": "2024-08-01T08:47:32.428Z"
      },
      {
        "duration": 7,
        "start_time": "2024-08-01T08:48:59.239Z"
      },
      {
        "duration": 167,
        "start_time": "2024-08-01T08:49:26.463Z"
      },
      {
        "duration": 151,
        "start_time": "2024-08-01T08:49:52.779Z"
      },
      {
        "duration": 149,
        "start_time": "2024-08-01T08:50:33.608Z"
      },
      {
        "duration": 147,
        "start_time": "2024-08-01T08:50:46.604Z"
      },
      {
        "duration": 359,
        "start_time": "2024-08-01T08:51:06.111Z"
      },
      {
        "duration": 282,
        "start_time": "2024-08-01T08:51:24.349Z"
      },
      {
        "duration": 370,
        "start_time": "2024-08-01T08:52:34.492Z"
      },
      {
        "duration": 307,
        "start_time": "2024-08-01T08:53:20.132Z"
      },
      {
        "duration": 10,
        "start_time": "2024-08-01T08:56:41.684Z"
      },
      {
        "duration": 7,
        "start_time": "2024-08-01T08:56:46.120Z"
      },
      {
        "duration": 13,
        "start_time": "2024-08-01T08:56:59.355Z"
      },
      {
        "duration": 5,
        "start_time": "2024-08-01T08:59:12.819Z"
      },
      {
        "duration": 6,
        "start_time": "2024-08-01T08:59:21.828Z"
      },
      {
        "duration": 143,
        "start_time": "2024-08-01T08:59:38.295Z"
      },
      {
        "duration": 9,
        "start_time": "2024-08-01T09:02:31.669Z"
      },
      {
        "duration": 128,
        "start_time": "2024-08-01T09:17:05.124Z"
      },
      {
        "duration": 176,
        "start_time": "2024-08-01T09:17:25.975Z"
      },
      {
        "duration": 331,
        "start_time": "2024-08-01T09:17:39.666Z"
      },
      {
        "duration": 238,
        "start_time": "2024-08-01T09:17:54.131Z"
      },
      {
        "duration": 207,
        "start_time": "2024-08-01T09:23:07.118Z"
      },
      {
        "duration": 24,
        "start_time": "2024-08-01T09:24:10.196Z"
      },
      {
        "duration": 218,
        "start_time": "2024-08-01T09:27:25.303Z"
      },
      {
        "duration": 204,
        "start_time": "2024-08-01T09:27:54.037Z"
      },
      {
        "duration": 29,
        "start_time": "2024-08-01T09:29:18.214Z"
      },
      {
        "duration": 199,
        "start_time": "2024-08-01T09:29:38.441Z"
      },
      {
        "duration": 293,
        "start_time": "2024-08-01T09:34:37.664Z"
      },
      {
        "duration": 247,
        "start_time": "2024-08-01T09:34:56.426Z"
      },
      {
        "duration": 10,
        "start_time": "2024-08-01T09:47:24.698Z"
      },
      {
        "duration": 8,
        "start_time": "2024-08-01T09:47:56.021Z"
      },
      {
        "duration": 83,
        "start_time": "2024-08-01T09:50:07.932Z"
      },
      {
        "duration": 14,
        "start_time": "2024-08-01T09:55:01.419Z"
      },
      {
        "duration": 171,
        "start_time": "2024-08-01T09:59:33.373Z"
      },
      {
        "duration": 67,
        "start_time": "2024-08-01T10:02:43.019Z"
      },
      {
        "duration": 74,
        "start_time": "2024-08-01T10:04:59.964Z"
      },
      {
        "duration": 89,
        "start_time": "2024-08-01T10:05:32.882Z"
      },
      {
        "duration": 131,
        "start_time": "2024-08-01T10:06:51.366Z"
      },
      {
        "duration": 95,
        "start_time": "2024-08-01T10:08:33.561Z"
      },
      {
        "duration": 85,
        "start_time": "2024-08-01T10:11:23.590Z"
      },
      {
        "duration": 223,
        "start_time": "2024-08-01T10:12:00.200Z"
      },
      {
        "duration": 207,
        "start_time": "2024-08-01T10:12:32.331Z"
      },
      {
        "duration": 11,
        "start_time": "2024-08-01T10:15:18.683Z"
      },
      {
        "duration": 159,
        "start_time": "2024-08-01T10:16:46.481Z"
      },
      {
        "duration": 392,
        "start_time": "2024-08-01T10:17:05.422Z"
      },
      {
        "duration": 212,
        "start_time": "2024-08-01T10:17:16.618Z"
      },
      {
        "duration": 206,
        "start_time": "2024-08-01T10:17:27.967Z"
      },
      {
        "duration": 150,
        "start_time": "2024-08-01T10:17:44.544Z"
      },
      {
        "duration": 9,
        "start_time": "2024-08-01T10:27:21.737Z"
      },
      {
        "duration": 240,
        "start_time": "2024-08-01T10:36:05.044Z"
      },
      {
        "duration": 232,
        "start_time": "2024-08-01T10:36:20.466Z"
      },
      {
        "duration": 264,
        "start_time": "2024-08-01T10:37:27.622Z"
      },
      {
        "duration": 364,
        "start_time": "2024-08-01T10:37:39.415Z"
      },
      {
        "duration": 172,
        "start_time": "2024-08-01T10:42:42.613Z"
      },
      {
        "duration": 237,
        "start_time": "2024-08-01T10:43:33.957Z"
      },
      {
        "duration": 296,
        "start_time": "2024-08-01T10:44:40.934Z"
      },
      {
        "duration": 274,
        "start_time": "2024-08-01T10:45:11.011Z"
      },
      {
        "duration": 218,
        "start_time": "2024-08-01T10:45:41.886Z"
      },
      {
        "duration": 212,
        "start_time": "2024-08-01T10:47:30.701Z"
      },
      {
        "duration": 183,
        "start_time": "2024-08-01T10:47:46.320Z"
      },
      {
        "duration": 74,
        "start_time": "2024-08-01T10:51:48.313Z"
      },
      {
        "duration": 290,
        "start_time": "2024-08-01T11:55:29.369Z"
      },
      {
        "duration": 92,
        "start_time": "2024-08-01T11:58:04.344Z"
      },
      {
        "duration": 16,
        "start_time": "2024-08-01T11:59:50.064Z"
      },
      {
        "duration": 24,
        "start_time": "2024-08-01T12:00:05.613Z"
      },
      {
        "duration": 13,
        "start_time": "2024-08-01T12:00:24.978Z"
      },
      {
        "duration": 12,
        "start_time": "2024-08-01T12:00:38.345Z"
      },
      {
        "duration": 9,
        "start_time": "2024-08-01T12:01:58.658Z"
      },
      {
        "duration": 22,
        "start_time": "2024-08-01T12:02:51.931Z"
      },
      {
        "duration": 17,
        "start_time": "2024-08-01T12:03:19.988Z"
      },
      {
        "duration": 22,
        "start_time": "2024-08-01T12:04:17.597Z"
      },
      {
        "duration": 15,
        "start_time": "2024-08-01T12:04:36.862Z"
      },
      {
        "duration": 26,
        "start_time": "2024-08-01T12:13:49.295Z"
      },
      {
        "duration": 28,
        "start_time": "2024-08-01T12:14:00.694Z"
      },
      {
        "duration": 284,
        "start_time": "2024-08-01T12:17:33.811Z"
      },
      {
        "duration": 329,
        "start_time": "2024-08-01T12:17:49.006Z"
      },
      {
        "duration": 320,
        "start_time": "2024-08-01T12:18:05.452Z"
      },
      {
        "duration": 8,
        "start_time": "2024-08-01T12:24:19.891Z"
      },
      {
        "duration": 18,
        "start_time": "2024-08-01T12:24:49.777Z"
      },
      {
        "duration": 14,
        "start_time": "2024-08-01T12:25:17.372Z"
      },
      {
        "duration": 25,
        "start_time": "2024-08-01T12:26:54.099Z"
      },
      {
        "duration": 16,
        "start_time": "2024-08-01T12:27:40.326Z"
      },
      {
        "duration": 16,
        "start_time": "2024-08-01T12:27:49.926Z"
      },
      {
        "duration": 13,
        "start_time": "2024-08-01T12:28:00.931Z"
      },
      {
        "duration": 320,
        "start_time": "2024-08-01T12:29:46.530Z"
      },
      {
        "duration": 217,
        "start_time": "2024-08-01T12:30:06.651Z"
      },
      {
        "duration": 472,
        "start_time": "2024-08-01T12:30:45.486Z"
      },
      {
        "duration": 302,
        "start_time": "2024-08-01T12:32:12.275Z"
      },
      {
        "duration": 351,
        "start_time": "2024-08-01T12:34:39.469Z"
      },
      {
        "duration": 5,
        "start_time": "2024-08-01T12:35:17.471Z"
      },
      {
        "duration": 5,
        "start_time": "2024-08-01T12:35:25.377Z"
      },
      {
        "duration": 357,
        "start_time": "2024-08-01T12:36:11.600Z"
      },
      {
        "duration": 390,
        "start_time": "2024-08-01T12:37:14.737Z"
      },
      {
        "duration": 340,
        "start_time": "2024-08-01T12:37:46.180Z"
      },
      {
        "duration": 482,
        "start_time": "2024-08-01T12:40:20.775Z"
      },
      {
        "duration": 8,
        "start_time": "2024-08-01T12:42:13.783Z"
      },
      {
        "duration": 22,
        "start_time": "2024-08-01T12:47:01.334Z"
      },
      {
        "duration": 21,
        "start_time": "2024-08-01T12:47:57.404Z"
      },
      {
        "duration": 7,
        "start_time": "2024-08-01T12:48:37.742Z"
      },
      {
        "duration": 470,
        "start_time": "2024-08-01T12:49:03.776Z"
      },
      {
        "duration": 332,
        "start_time": "2024-08-01T12:51:49.443Z"
      },
      {
        "duration": 368,
        "start_time": "2024-08-01T12:52:00.479Z"
      },
      {
        "duration": 517,
        "start_time": "2024-08-01T12:52:30.984Z"
      },
      {
        "duration": 3,
        "start_time": "2024-08-01T12:53:05.760Z"
      },
      {
        "duration": 96,
        "start_time": "2024-08-01T12:53:05.764Z"
      },
      {
        "duration": 34,
        "start_time": "2024-08-01T12:53:05.863Z"
      },
      {
        "duration": 35,
        "start_time": "2024-08-01T12:53:05.899Z"
      },
      {
        "duration": 17,
        "start_time": "2024-08-01T12:53:05.938Z"
      },
      {
        "duration": 14,
        "start_time": "2024-08-01T12:53:05.957Z"
      },
      {
        "duration": 199,
        "start_time": "2024-08-01T12:53:05.973Z"
      },
      {
        "duration": 8,
        "start_time": "2024-08-01T12:53:06.177Z"
      },
      {
        "duration": 313,
        "start_time": "2024-08-01T12:53:06.186Z"
      },
      {
        "duration": 273,
        "start_time": "2024-08-01T12:53:06.501Z"
      },
      {
        "duration": 238,
        "start_time": "2024-08-01T12:53:06.776Z"
      },
      {
        "duration": 379,
        "start_time": "2024-08-01T12:53:07.018Z"
      },
      {
        "duration": 23,
        "start_time": "2024-08-01T12:53:07.399Z"
      },
      {
        "duration": 541,
        "start_time": "2024-08-01T12:53:07.427Z"
      },
      {
        "duration": 16,
        "start_time": "2024-08-01T12:53:07.970Z"
      },
      {
        "duration": 311,
        "start_time": "2024-08-01T12:56:30.382Z"
      },
      {
        "duration": 418,
        "start_time": "2024-08-01T12:57:03.357Z"
      },
      {
        "duration": 13,
        "start_time": "2024-08-01T12:57:12.649Z"
      },
      {
        "duration": 542,
        "start_time": "2024-08-01T13:05:52.379Z"
      },
      {
        "duration": 599,
        "start_time": "2024-08-01T13:06:48.231Z"
      },
      {
        "duration": 43,
        "start_time": "2024-08-01T13:13:30.324Z"
      },
      {
        "duration": 40,
        "start_time": "2024-08-01T13:13:39.904Z"
      },
      {
        "duration": 42,
        "start_time": "2024-08-01T13:15:21.992Z"
      },
      {
        "duration": 73,
        "start_time": "2024-08-01T13:17:19.547Z"
      },
      {
        "duration": 78,
        "start_time": "2024-08-01T13:17:29.914Z"
      },
      {
        "duration": 69,
        "start_time": "2024-08-01T13:17:41.119Z"
      },
      {
        "duration": 30,
        "start_time": "2024-08-01T13:18:07.753Z"
      },
      {
        "duration": 54,
        "start_time": "2024-08-01T13:18:33.239Z"
      },
      {
        "duration": 47,
        "start_time": "2024-08-01T13:19:08.941Z"
      },
      {
        "duration": 11,
        "start_time": "2024-08-01T13:23:26.810Z"
      },
      {
        "duration": 38,
        "start_time": "2024-08-01T13:25:26.240Z"
      },
      {
        "duration": 52,
        "start_time": "2024-08-01T13:26:09.497Z"
      },
      {
        "duration": 37,
        "start_time": "2024-08-01T13:27:18.120Z"
      },
      {
        "duration": 27,
        "start_time": "2024-08-01T13:27:32.627Z"
      },
      {
        "duration": 25,
        "start_time": "2024-08-01T13:27:51.337Z"
      },
      {
        "duration": 51,
        "start_time": "2024-08-01T13:55:57.205Z"
      },
      {
        "duration": 32,
        "start_time": "2024-08-01T13:56:17.792Z"
      },
      {
        "duration": 3,
        "start_time": "2024-08-01T13:59:36.526Z"
      },
      {
        "duration": 121,
        "start_time": "2024-08-01T13:59:36.531Z"
      },
      {
        "duration": 30,
        "start_time": "2024-08-01T13:59:36.655Z"
      },
      {
        "duration": 56,
        "start_time": "2024-08-01T13:59:36.686Z"
      },
      {
        "duration": 15,
        "start_time": "2024-08-01T13:59:36.748Z"
      },
      {
        "duration": 10,
        "start_time": "2024-08-01T13:59:36.765Z"
      },
      {
        "duration": 48,
        "start_time": "2024-08-01T13:59:36.776Z"
      },
      {
        "duration": 11,
        "start_time": "2024-08-01T13:59:36.826Z"
      },
      {
        "duration": 339,
        "start_time": "2024-08-01T13:59:36.839Z"
      },
      {
        "duration": 284,
        "start_time": "2024-08-01T13:59:37.180Z"
      },
      {
        "duration": 313,
        "start_time": "2024-08-01T13:59:37.466Z"
      },
      {
        "duration": 369,
        "start_time": "2024-08-01T13:59:37.780Z"
      },
      {
        "duration": 7,
        "start_time": "2024-08-01T13:59:38.159Z"
      },
      {
        "duration": 497,
        "start_time": "2024-08-01T13:59:38.169Z"
      },
      {
        "duration": 14,
        "start_time": "2024-08-01T13:59:38.668Z"
      },
      {
        "duration": 61,
        "start_time": "2024-08-01T13:59:38.683Z"
      },
      {
        "duration": 27,
        "start_time": "2024-08-01T13:59:38.755Z"
      },
      {
        "duration": 64,
        "start_time": "2024-08-01T14:00:18.711Z"
      },
      {
        "duration": 23,
        "start_time": "2024-08-01T14:01:00.055Z"
      },
      {
        "duration": 45,
        "start_time": "2024-08-01T14:01:28.319Z"
      },
      {
        "duration": 25,
        "start_time": "2024-08-01T14:03:20.763Z"
      },
      {
        "duration": 51,
        "start_time": "2024-08-01T14:03:40.508Z"
      },
      {
        "duration": 34,
        "start_time": "2024-08-01T14:06:27.936Z"
      },
      {
        "duration": 38,
        "start_time": "2024-08-01T14:07:43.176Z"
      },
      {
        "duration": 551,
        "start_time": "2024-08-01T14:11:32.684Z"
      },
      {
        "duration": 592,
        "start_time": "2024-08-01T14:11:41.633Z"
      },
      {
        "duration": 85,
        "start_time": "2024-08-01T14:12:01.967Z"
      },
      {
        "duration": 548,
        "start_time": "2024-08-01T14:12:10.814Z"
      },
      {
        "duration": 74,
        "start_time": "2024-08-01T14:12:41.157Z"
      },
      {
        "duration": 104,
        "start_time": "2024-08-01T14:13:13.828Z"
      },
      {
        "duration": 73,
        "start_time": "2024-08-01T14:13:25.477Z"
      },
      {
        "duration": 73,
        "start_time": "2024-08-01T14:13:41.548Z"
      },
      {
        "duration": 502,
        "start_time": "2024-08-01T14:14:13.372Z"
      },
      {
        "duration": 1148,
        "start_time": "2024-08-01T14:15:34.255Z"
      },
      {
        "duration": 26,
        "start_time": "2024-08-01T14:17:34.430Z"
      },
      {
        "duration": 1134,
        "start_time": "2024-08-01T14:20:31.029Z"
      },
      {
        "duration": 21,
        "start_time": "2024-08-01T14:22:33.474Z"
      },
      {
        "duration": 18,
        "start_time": "2024-08-01T14:23:50.350Z"
      },
      {
        "duration": 24,
        "start_time": "2024-08-01T14:23:59.005Z"
      },
      {
        "duration": 1418,
        "start_time": "2024-08-01T14:26:04.131Z"
      },
      {
        "duration": 1326,
        "start_time": "2024-08-01T14:27:17.559Z"
      },
      {
        "duration": 1220,
        "start_time": "2024-08-01T14:27:56.580Z"
      },
      {
        "duration": 1293,
        "start_time": "2024-08-01T14:28:11.772Z"
      },
      {
        "duration": 1302,
        "start_time": "2024-08-01T14:28:37.779Z"
      },
      {
        "duration": 1649,
        "start_time": "2024-08-01T14:29:10.812Z"
      },
      {
        "duration": 1986,
        "start_time": "2024-08-01T14:29:51.039Z"
      },
      {
        "duration": 1925,
        "start_time": "2024-08-01T14:30:27.249Z"
      },
      {
        "duration": 1841,
        "start_time": "2024-08-01T14:31:03.928Z"
      },
      {
        "duration": 292,
        "start_time": "2024-08-01T14:33:02.373Z"
      },
      {
        "duration": 1794,
        "start_time": "2024-08-01T14:39:12.667Z"
      },
      {
        "duration": 502,
        "start_time": "2024-08-01T14:41:12.878Z"
      },
      {
        "duration": 599,
        "start_time": "2024-08-01T14:41:34.582Z"
      },
      {
        "duration": 721,
        "start_time": "2024-08-01T14:42:46.871Z"
      },
      {
        "duration": 70,
        "start_time": "2024-08-01T14:47:30.752Z"
      },
      {
        "duration": 25,
        "start_time": "2024-08-01T14:52:25.699Z"
      },
      {
        "duration": 17,
        "start_time": "2024-08-01T14:52:52.402Z"
      },
      {
        "duration": 72,
        "start_time": "2024-08-01T14:57:14.379Z"
      },
      {
        "duration": 35,
        "start_time": "2024-08-01T15:16:26.939Z"
      },
      {
        "duration": 303,
        "start_time": "2024-08-01T15:21:59.504Z"
      },
      {
        "duration": 37,
        "start_time": "2024-08-01T15:24:23.898Z"
      },
      {
        "duration": 72,
        "start_time": "2024-08-01T15:27:11.356Z"
      },
      {
        "duration": 34,
        "start_time": "2024-08-01T15:27:39.890Z"
      },
      {
        "duration": 36,
        "start_time": "2024-08-02T07:22:33.758Z"
      },
      {
        "duration": 35,
        "start_time": "2024-08-02T07:22:54.176Z"
      },
      {
        "duration": 4,
        "start_time": "2024-08-02T07:35:26.540Z"
      },
      {
        "duration": 13,
        "start_time": "2024-08-02T07:38:23.232Z"
      },
      {
        "duration": 74,
        "start_time": "2024-08-02T07:50:21.627Z"
      },
      {
        "duration": 4,
        "start_time": "2024-08-02T07:51:08.536Z"
      },
      {
        "duration": 15,
        "start_time": "2024-08-02T07:53:17.256Z"
      },
      {
        "duration": 36,
        "start_time": "2024-08-02T07:54:43.288Z"
      },
      {
        "duration": 29,
        "start_time": "2024-08-02T07:56:43.416Z"
      },
      {
        "duration": 5,
        "start_time": "2024-08-02T07:57:45.739Z"
      },
      {
        "duration": 11,
        "start_time": "2024-08-02T07:57:49.038Z"
      },
      {
        "duration": 15,
        "start_time": "2024-08-02T07:59:55.252Z"
      },
      {
        "duration": 1061,
        "start_time": "2024-08-02T08:02:59.161Z"
      },
      {
        "duration": 31,
        "start_time": "2024-08-02T08:03:36.595Z"
      },
      {
        "duration": 1063,
        "start_time": "2024-08-02T08:09:43.831Z"
      },
      {
        "duration": 12,
        "start_time": "2024-08-02T08:13:26.754Z"
      },
      {
        "duration": 26,
        "start_time": "2024-08-02T08:14:40.623Z"
      },
      {
        "duration": 23,
        "start_time": "2024-08-02T08:15:28.342Z"
      },
      {
        "duration": 23,
        "start_time": "2024-08-02T08:16:38.633Z"
      },
      {
        "duration": 4,
        "start_time": "2024-08-02T08:17:41.924Z"
      },
      {
        "duration": 20,
        "start_time": "2024-08-02T08:17:45.113Z"
      },
      {
        "duration": 4,
        "start_time": "2024-08-02T08:18:49.499Z"
      },
      {
        "duration": 3,
        "start_time": "2024-08-02T08:19:04.534Z"
      },
      {
        "duration": 5,
        "start_time": "2024-08-02T08:25:07.311Z"
      },
      {
        "duration": 27,
        "start_time": "2024-08-02T08:25:17.266Z"
      },
      {
        "duration": 4,
        "start_time": "2024-08-02T08:29:19.037Z"
      },
      {
        "duration": 10749,
        "start_time": "2024-08-02T08:29:30.288Z"
      },
      {
        "duration": 10943,
        "start_time": "2024-08-02T08:29:54.631Z"
      },
      {
        "duration": 10462,
        "start_time": "2024-08-02T08:30:55.264Z"
      },
      {
        "duration": 9,
        "start_time": "2024-08-02T08:33:35.568Z"
      },
      {
        "duration": 7,
        "start_time": "2024-08-02T08:34:20.031Z"
      },
      {
        "duration": 1155,
        "start_time": "2024-08-02T08:34:51.696Z"
      },
      {
        "duration": 7,
        "start_time": "2024-08-02T08:35:04.343Z"
      },
      {
        "duration": 15,
        "start_time": "2024-08-02T08:36:06.703Z"
      },
      {
        "duration": 6,
        "start_time": "2024-08-02T08:36:24.478Z"
      },
      {
        "duration": 5,
        "start_time": "2024-08-02T08:36:30.268Z"
      },
      {
        "duration": 4017,
        "start_time": "2024-08-02T08:36:33.971Z"
      },
      {
        "duration": 3874,
        "start_time": "2024-08-02T08:37:01.795Z"
      },
      {
        "duration": 1099,
        "start_time": "2024-08-02T08:37:49.043Z"
      },
      {
        "duration": 1094,
        "start_time": "2024-08-02T08:38:10.898Z"
      },
      {
        "duration": 7,
        "start_time": "2024-08-02T08:38:18.834Z"
      },
      {
        "duration": 1088,
        "start_time": "2024-08-02T08:38:23.022Z"
      },
      {
        "duration": 8,
        "start_time": "2024-08-02T08:40:08.339Z"
      },
      {
        "duration": 8,
        "start_time": "2024-08-02T08:41:26.067Z"
      },
      {
        "duration": 834,
        "start_time": "2024-08-02T08:41:59.309Z"
      },
      {
        "duration": 7,
        "start_time": "2024-08-02T08:42:11.291Z"
      },
      {
        "duration": 6,
        "start_time": "2024-08-02T08:42:48.295Z"
      },
      {
        "duration": 5,
        "start_time": "2024-08-02T08:43:25.834Z"
      },
      {
        "duration": 4077,
        "start_time": "2024-08-02T08:43:33.484Z"
      },
      {
        "duration": 549,
        "start_time": "2024-08-02T08:44:30.334Z"
      },
      {
        "duration": 6,
        "start_time": "2024-08-02T08:44:58.241Z"
      },
      {
        "duration": 15,
        "start_time": "2024-08-02T08:46:23.469Z"
      },
      {
        "duration": 15,
        "start_time": "2024-08-02T08:47:40.101Z"
      },
      {
        "duration": 21,
        "start_time": "2024-08-02T08:48:05.436Z"
      },
      {
        "duration": 11,
        "start_time": "2024-08-02T08:48:12.605Z"
      },
      {
        "duration": 9,
        "start_time": "2024-08-02T08:48:28.684Z"
      },
      {
        "duration": 18,
        "start_time": "2024-08-02T08:49:55.147Z"
      },
      {
        "duration": 67,
        "start_time": "2024-08-02T08:50:18.222Z"
      },
      {
        "duration": 6,
        "start_time": "2024-08-02T08:50:25.686Z"
      },
      {
        "duration": 819,
        "start_time": "2024-08-02T08:55:33.648Z"
      },
      {
        "duration": 6,
        "start_time": "2024-08-02T08:55:39.645Z"
      },
      {
        "duration": 7,
        "start_time": "2024-08-02T09:01:18.035Z"
      },
      {
        "duration": 4,
        "start_time": "2024-08-02T09:04:43.013Z"
      },
      {
        "duration": 22188,
        "start_time": "2024-08-02T09:04:55.723Z"
      },
      {
        "duration": 10,
        "start_time": "2024-08-02T09:06:32.978Z"
      },
      {
        "duration": 8,
        "start_time": "2024-08-02T09:06:50.038Z"
      },
      {
        "duration": 11,
        "start_time": "2024-08-02T09:08:34.092Z"
      },
      {
        "duration": 8,
        "start_time": "2024-08-02T09:13:42.714Z"
      },
      {
        "duration": 7,
        "start_time": "2024-08-02T09:16:34.402Z"
      },
      {
        "duration": 8,
        "start_time": "2024-08-02T09:17:05.486Z"
      },
      {
        "duration": 6,
        "start_time": "2024-08-02T09:17:31.650Z"
      },
      {
        "duration": 6,
        "start_time": "2024-08-02T09:17:43.666Z"
      },
      {
        "duration": 5,
        "start_time": "2024-08-02T09:18:07.751Z"
      },
      {
        "duration": 5,
        "start_time": "2024-08-02T09:18:36.253Z"
      },
      {
        "duration": 5,
        "start_time": "2024-08-02T09:19:01.399Z"
      },
      {
        "duration": 13,
        "start_time": "2024-08-02T09:19:07.224Z"
      },
      {
        "duration": 5,
        "start_time": "2024-08-02T09:19:21.658Z"
      },
      {
        "duration": 5,
        "start_time": "2024-08-02T09:19:36.554Z"
      },
      {
        "duration": 5,
        "start_time": "2024-08-02T09:19:44.420Z"
      },
      {
        "duration": 4,
        "start_time": "2024-08-02T09:21:17.844Z"
      },
      {
        "duration": 8120,
        "start_time": "2024-08-02T09:21:26.847Z"
      },
      {
        "duration": 10,
        "start_time": "2024-08-02T09:23:10.124Z"
      },
      {
        "duration": 9,
        "start_time": "2024-08-02T09:23:16.460Z"
      },
      {
        "duration": 32,
        "start_time": "2024-08-02T09:25:52.879Z"
      },
      {
        "duration": 29,
        "start_time": "2024-08-02T09:26:04.535Z"
      },
      {
        "duration": 34,
        "start_time": "2024-08-02T09:26:56.138Z"
      },
      {
        "duration": 4,
        "start_time": "2024-08-02T09:31:49.945Z"
      },
      {
        "duration": 94,
        "start_time": "2024-08-02T09:31:49.951Z"
      },
      {
        "duration": 42,
        "start_time": "2024-08-02T09:31:50.047Z"
      },
      {
        "duration": 22,
        "start_time": "2024-08-02T09:31:50.091Z"
      },
      {
        "duration": 33,
        "start_time": "2024-08-02T09:31:50.116Z"
      },
      {
        "duration": 14,
        "start_time": "2024-08-02T09:31:50.151Z"
      },
      {
        "duration": 13,
        "start_time": "2024-08-02T09:31:50.168Z"
      },
      {
        "duration": 22,
        "start_time": "2024-08-02T09:31:50.183Z"
      },
      {
        "duration": 246,
        "start_time": "2024-08-02T09:31:50.208Z"
      },
      {
        "duration": 215,
        "start_time": "2024-08-02T09:31:50.456Z"
      },
      {
        "duration": 201,
        "start_time": "2024-08-02T09:31:50.673Z"
      },
      {
        "duration": 286,
        "start_time": "2024-08-02T09:31:50.876Z"
      },
      {
        "duration": 48,
        "start_time": "2024-08-02T09:31:51.164Z"
      },
      {
        "duration": 500,
        "start_time": "2024-08-02T09:31:51.215Z"
      },
      {
        "duration": 15,
        "start_time": "2024-08-02T09:31:51.717Z"
      },
      {
        "duration": 55,
        "start_time": "2024-08-02T09:31:51.734Z"
      },
      {
        "duration": 72,
        "start_time": "2024-08-02T09:31:51.791Z"
      },
      {
        "duration": 1133,
        "start_time": "2024-08-02T09:31:51.865Z"
      },
      {
        "duration": 1304,
        "start_time": "2024-08-02T09:31:53.004Z"
      },
      {
        "duration": 980,
        "start_time": "2024-08-02T09:31:54.310Z"
      },
      {
        "duration": 15,
        "start_time": "2024-08-02T09:31:55.292Z"
      },
      {
        "duration": 1221,
        "start_time": "2024-08-02T09:31:55.309Z"
      },
      {
        "duration": 31,
        "start_time": "2024-08-02T09:31:56.532Z"
      },
      {
        "duration": 137,
        "start_time": "2024-08-02T09:31:56.564Z"
      },
      {
        "duration": 14,
        "start_time": "2024-08-02T09:31:56.703Z"
      },
      {
        "duration": 83,
        "start_time": "2024-08-02T09:31:56.718Z"
      },
      {
        "duration": 14,
        "start_time": "2024-08-02T09:31:56.803Z"
      },
      {
        "duration": 18,
        "start_time": "2024-08-02T09:31:56.819Z"
      },
      {
        "duration": 1202,
        "start_time": "2024-08-02T09:31:56.840Z"
      },
      {
        "duration": 0,
        "start_time": "2024-08-02T09:31:58.044Z"
      },
      {
        "duration": 0,
        "start_time": "2024-08-02T09:31:58.046Z"
      },
      {
        "duration": 4,
        "start_time": "2024-08-02T09:33:14.051Z"
      },
      {
        "duration": 7967,
        "start_time": "2024-08-02T09:33:17.034Z"
      },
      {
        "duration": 8193,
        "start_time": "2024-08-02T09:34:34.934Z"
      },
      {
        "duration": 4,
        "start_time": "2024-08-02T09:41:28.836Z"
      },
      {
        "duration": 4,
        "start_time": "2024-08-02T09:43:00.980Z"
      },
      {
        "duration": 9097,
        "start_time": "2024-08-02T09:43:04.050Z"
      },
      {
        "duration": 504,
        "start_time": "2024-08-02T12:01:41.456Z"
      },
      {
        "duration": 113,
        "start_time": "2024-08-02T12:07:01.556Z"
      },
      {
        "duration": 5,
        "start_time": "2024-08-02T12:07:27.605Z"
      },
      {
        "duration": 5,
        "start_time": "2024-08-02T12:10:00.704Z"
      },
      {
        "duration": 5,
        "start_time": "2024-08-02T12:12:00.353Z"
      },
      {
        "duration": 6,
        "start_time": "2024-08-02T12:13:04.755Z"
      },
      {
        "duration": 6,
        "start_time": "2024-08-02T12:14:16.138Z"
      },
      {
        "duration": 6,
        "start_time": "2024-08-02T12:34:24.198Z"
      },
      {
        "duration": 6,
        "start_time": "2024-08-02T12:40:06.651Z"
      },
      {
        "duration": 16,
        "start_time": "2024-08-02T12:50:15.944Z"
      },
      {
        "duration": 13,
        "start_time": "2024-08-02T12:50:47.317Z"
      },
      {
        "duration": 23,
        "start_time": "2024-08-02T12:55:58.751Z"
      },
      {
        "duration": 17,
        "start_time": "2024-08-02T12:57:50.617Z"
      },
      {
        "duration": 3,
        "start_time": "2024-08-02T12:58:44.404Z"
      },
      {
        "duration": 75,
        "start_time": "2024-08-02T12:58:44.409Z"
      },
      {
        "duration": 33,
        "start_time": "2024-08-02T12:58:44.486Z"
      },
      {
        "duration": 15,
        "start_time": "2024-08-02T12:58:44.521Z"
      },
      {
        "duration": 63,
        "start_time": "2024-08-02T12:58:44.538Z"
      },
      {
        "duration": 28,
        "start_time": "2024-08-02T12:58:44.602Z"
      },
      {
        "duration": 18,
        "start_time": "2024-08-02T12:58:44.631Z"
      },
      {
        "duration": 5,
        "start_time": "2024-08-02T12:58:44.651Z"
      },
      {
        "duration": 210,
        "start_time": "2024-08-02T12:58:44.658Z"
      },
      {
        "duration": 208,
        "start_time": "2024-08-02T12:58:44.870Z"
      },
      {
        "duration": 290,
        "start_time": "2024-08-02T12:58:45.080Z"
      },
      {
        "duration": 297,
        "start_time": "2024-08-02T12:58:45.372Z"
      },
      {
        "duration": 9,
        "start_time": "2024-08-02T12:58:45.671Z"
      },
      {
        "duration": 433,
        "start_time": "2024-08-02T12:58:45.682Z"
      },
      {
        "duration": 16,
        "start_time": "2024-08-02T12:58:46.117Z"
      },
      {
        "duration": 42,
        "start_time": "2024-08-02T12:58:46.135Z"
      },
      {
        "duration": 49,
        "start_time": "2024-08-02T12:58:46.179Z"
      },
      {
        "duration": 1194,
        "start_time": "2024-08-02T12:58:46.230Z"
      },
      {
        "duration": 1274,
        "start_time": "2024-08-02T12:58:47.426Z"
      },
      {
        "duration": 791,
        "start_time": "2024-08-02T12:58:48.702Z"
      },
      {
        "duration": 16,
        "start_time": "2024-08-02T12:58:49.495Z"
      },
      {
        "duration": 1312,
        "start_time": "2024-08-02T12:58:49.513Z"
      },
      {
        "duration": 30,
        "start_time": "2024-08-02T12:58:50.826Z"
      },
      {
        "duration": 42,
        "start_time": "2024-08-02T12:58:50.859Z"
      },
      {
        "duration": 5,
        "start_time": "2024-08-02T12:58:50.902Z"
      },
      {
        "duration": 8888,
        "start_time": "2024-08-02T12:58:50.908Z"
      },
      {
        "duration": 5,
        "start_time": "2024-08-02T12:58:59.799Z"
      },
      {
        "duration": 16,
        "start_time": "2024-08-02T13:01:13.724Z"
      },
      {
        "duration": 8,
        "start_time": "2024-08-02T13:02:04.349Z"
      },
      {
        "duration": 20,
        "start_time": "2024-08-02T13:02:24.581Z"
      },
      {
        "duration": 7,
        "start_time": "2024-08-02T13:03:21.519Z"
      },
      {
        "duration": 6,
        "start_time": "2024-08-02T13:03:34.756Z"
      },
      {
        "duration": 3,
        "start_time": "2024-08-02T13:07:45.133Z"
      },
      {
        "duration": 134,
        "start_time": "2024-08-02T13:07:45.139Z"
      },
      {
        "duration": 32,
        "start_time": "2024-08-02T13:07:45.274Z"
      },
      {
        "duration": 87,
        "start_time": "2024-08-02T13:07:45.308Z"
      },
      {
        "duration": 10,
        "start_time": "2024-08-02T13:07:45.398Z"
      },
      {
        "duration": 157,
        "start_time": "2024-08-02T13:07:45.410Z"
      },
      {
        "duration": 69,
        "start_time": "2024-08-02T13:07:45.569Z"
      },
      {
        "duration": 13,
        "start_time": "2024-08-02T13:07:45.640Z"
      },
      {
        "duration": 212,
        "start_time": "2024-08-02T13:07:45.654Z"
      },
      {
        "duration": 249,
        "start_time": "2024-08-02T13:07:45.868Z"
      },
      {
        "duration": 173,
        "start_time": "2024-08-02T13:07:46.119Z"
      },
      {
        "duration": 275,
        "start_time": "2024-08-02T13:07:46.294Z"
      },
      {
        "duration": 8,
        "start_time": "2024-08-02T13:07:46.571Z"
      },
      {
        "duration": 648,
        "start_time": "2024-08-02T13:07:46.580Z"
      },
      {
        "duration": 16,
        "start_time": "2024-08-02T13:07:47.230Z"
      },
      {
        "duration": 58,
        "start_time": "2024-08-02T13:07:47.247Z"
      },
      {
        "duration": 124,
        "start_time": "2024-08-02T13:07:47.307Z"
      },
      {
        "duration": 1171,
        "start_time": "2024-08-02T13:07:47.433Z"
      },
      {
        "duration": 1231,
        "start_time": "2024-08-02T13:07:48.605Z"
      },
      {
        "duration": 906,
        "start_time": "2024-08-02T13:07:49.838Z"
      },
      {
        "duration": 9,
        "start_time": "2024-08-02T13:07:50.746Z"
      },
      {
        "duration": 1282,
        "start_time": "2024-08-02T13:07:50.756Z"
      },
      {
        "duration": 27,
        "start_time": "2024-08-02T13:07:52.040Z"
      },
      {
        "duration": 13,
        "start_time": "2024-08-02T13:07:52.068Z"
      },
      {
        "duration": 16,
        "start_time": "2024-08-02T13:07:52.082Z"
      },
      {
        "duration": 8968,
        "start_time": "2024-08-02T13:07:52.100Z"
      },
      {
        "duration": 6,
        "start_time": "2024-08-02T13:08:01.069Z"
      },
      {
        "duration": 70,
        "start_time": "2024-08-02T13:08:01.076Z"
      },
      {
        "duration": 14,
        "start_time": "2024-08-02T13:08:24.811Z"
      },
      {
        "duration": 12,
        "start_time": "2024-08-02T13:08:52.387Z"
      },
      {
        "duration": 12,
        "start_time": "2024-08-02T13:09:18.685Z"
      },
      {
        "duration": 12,
        "start_time": "2024-08-02T13:11:31.035Z"
      },
      {
        "duration": 82,
        "start_time": "2024-08-02T13:13:34.651Z"
      },
      {
        "duration": 5,
        "start_time": "2024-08-02T13:14:49.616Z"
      },
      {
        "duration": 76,
        "start_time": "2024-08-02T13:45:08.795Z"
      },
      {
        "duration": 61,
        "start_time": "2024-08-02T13:46:20.887Z"
      },
      {
        "duration": 1600,
        "start_time": "2024-08-02T14:13:42.068Z"
      },
      {
        "duration": 1340,
        "start_time": "2024-08-02T14:16:19.378Z"
      },
      {
        "duration": 242,
        "start_time": "2024-08-02T14:17:51.182Z"
      },
      {
        "duration": 277,
        "start_time": "2024-08-02T14:17:56.451Z"
      },
      {
        "duration": 1616,
        "start_time": "2024-08-02T14:18:14.735Z"
      },
      {
        "duration": 1136,
        "start_time": "2024-08-02T14:19:13.040Z"
      },
      {
        "duration": 1189,
        "start_time": "2024-08-02T14:20:32.619Z"
      },
      {
        "duration": 1660,
        "start_time": "2024-08-02T14:25:17.083Z"
      },
      {
        "duration": 1820,
        "start_time": "2024-08-02T14:25:59.232Z"
      },
      {
        "duration": 276,
        "start_time": "2024-08-02T14:26:32.041Z"
      },
      {
        "duration": 547,
        "start_time": "2024-08-02T14:31:59.685Z"
      },
      {
        "duration": 301,
        "start_time": "2024-08-02T14:32:09.584Z"
      },
      {
        "duration": 401,
        "start_time": "2024-08-02T14:38:25.066Z"
      },
      {
        "duration": 1771,
        "start_time": "2024-08-02T14:39:24.558Z"
      },
      {
        "duration": 1791,
        "start_time": "2024-08-02T14:40:42.890Z"
      },
      {
        "duration": 1799,
        "start_time": "2024-08-02T14:41:44.086Z"
      },
      {
        "duration": 1524,
        "start_time": "2024-08-02T14:42:22.613Z"
      },
      {
        "duration": 1925,
        "start_time": "2024-08-02T14:42:35.778Z"
      },
      {
        "duration": 3450,
        "start_time": "2024-08-02T14:44:43.742Z"
      },
      {
        "duration": 2680,
        "start_time": "2024-08-02T14:45:04.029Z"
      },
      {
        "duration": 2459,
        "start_time": "2024-08-02T14:45:27.845Z"
      },
      {
        "duration": 1872,
        "start_time": "2024-08-02T14:45:47.776Z"
      },
      {
        "duration": 5,
        "start_time": "2024-08-02T14:46:27.620Z"
      },
      {
        "duration": 3,
        "start_time": "2024-08-02T14:46:35.057Z"
      },
      {
        "duration": 5,
        "start_time": "2024-08-02T14:46:42.666Z"
      },
      {
        "duration": 5,
        "start_time": "2024-08-02T14:46:51.380Z"
      },
      {
        "duration": 4,
        "start_time": "2024-08-02T14:47:02.326Z"
      },
      {
        "duration": 4,
        "start_time": "2024-08-02T14:47:22.874Z"
      },
      {
        "duration": 461,
        "start_time": "2024-08-02T14:49:24.541Z"
      },
      {
        "duration": 1868,
        "start_time": "2024-08-02T14:50:13.479Z"
      },
      {
        "duration": 2190,
        "start_time": "2024-08-02T14:58:25.911Z"
      },
      {
        "duration": 2017,
        "start_time": "2024-08-02T14:59:07.601Z"
      },
      {
        "duration": 893,
        "start_time": "2024-08-02T15:00:37.658Z"
      },
      {
        "duration": 83,
        "start_time": "2024-08-02T15:01:12.137Z"
      },
      {
        "duration": 82,
        "start_time": "2024-08-02T15:01:38.412Z"
      },
      {
        "duration": 4,
        "start_time": "2024-08-02T15:04:18.861Z"
      },
      {
        "duration": 3,
        "start_time": "2024-08-02T15:04:30.803Z"
      },
      {
        "duration": 3,
        "start_time": "2024-08-02T15:05:41.240Z"
      },
      {
        "duration": 72,
        "start_time": "2024-08-02T15:05:41.245Z"
      },
      {
        "duration": 34,
        "start_time": "2024-08-02T15:05:41.319Z"
      },
      {
        "duration": 31,
        "start_time": "2024-08-02T15:05:41.355Z"
      },
      {
        "duration": 25,
        "start_time": "2024-08-02T15:05:41.388Z"
      },
      {
        "duration": 19,
        "start_time": "2024-08-02T15:05:41.415Z"
      },
      {
        "duration": 30,
        "start_time": "2024-08-02T15:05:41.436Z"
      },
      {
        "duration": 17,
        "start_time": "2024-08-02T15:05:41.467Z"
      },
      {
        "duration": 217,
        "start_time": "2024-08-02T15:05:41.486Z"
      },
      {
        "duration": 206,
        "start_time": "2024-08-02T15:05:41.704Z"
      },
      {
        "duration": 169,
        "start_time": "2024-08-02T15:05:41.912Z"
      },
      {
        "duration": 296,
        "start_time": "2024-08-02T15:05:42.083Z"
      },
      {
        "duration": 7,
        "start_time": "2024-08-02T15:05:42.380Z"
      },
      {
        "duration": 764,
        "start_time": "2024-08-02T15:05:42.389Z"
      },
      {
        "duration": 14,
        "start_time": "2024-08-02T15:05:43.155Z"
      },
      {
        "duration": 74,
        "start_time": "2024-08-02T15:05:43.171Z"
      },
      {
        "duration": 28,
        "start_time": "2024-08-02T15:05:43.247Z"
      },
      {
        "duration": 1054,
        "start_time": "2024-08-02T15:05:43.277Z"
      },
      {
        "duration": 1377,
        "start_time": "2024-08-02T15:05:44.333Z"
      },
      {
        "duration": 1075,
        "start_time": "2024-08-02T15:05:45.712Z"
      },
      {
        "duration": 19,
        "start_time": "2024-08-02T15:05:46.789Z"
      },
      {
        "duration": 1188,
        "start_time": "2024-08-02T15:05:46.810Z"
      },
      {
        "duration": 28,
        "start_time": "2024-08-02T15:05:47.999Z"
      },
      {
        "duration": 9,
        "start_time": "2024-08-02T15:05:48.030Z"
      },
      {
        "duration": 5,
        "start_time": "2024-08-02T15:05:48.041Z"
      },
      {
        "duration": 9209,
        "start_time": "2024-08-02T15:05:48.048Z"
      },
      {
        "duration": 5,
        "start_time": "2024-08-02T15:05:57.259Z"
      },
      {
        "duration": 6,
        "start_time": "2024-08-02T15:05:57.266Z"
      },
      {
        "duration": 33,
        "start_time": "2024-08-02T15:05:57.273Z"
      },
      {
        "duration": 13,
        "start_time": "2024-08-02T15:05:57.308Z"
      },
      {
        "duration": 26,
        "start_time": "2024-08-02T15:05:57.323Z"
      },
      {
        "duration": 8,
        "start_time": "2024-08-02T15:05:57.351Z"
      },
      {
        "duration": 1938,
        "start_time": "2024-08-02T15:07:05.913Z"
      },
      {
        "duration": 4,
        "start_time": "2024-08-02T15:08:45.102Z"
      },
      {
        "duration": 6,
        "start_time": "2024-08-02T15:09:05.950Z"
      },
      {
        "duration": 3,
        "start_time": "2024-08-02T15:09:29.553Z"
      },
      {
        "duration": 5,
        "start_time": "2024-08-02T15:09:46.675Z"
      },
      {
        "duration": 4,
        "start_time": "2024-08-02T15:09:54.104Z"
      },
      {
        "duration": 4,
        "start_time": "2024-08-02T15:10:02.932Z"
      },
      {
        "duration": 4,
        "start_time": "2024-08-02T15:10:37.725Z"
      },
      {
        "duration": 6,
        "start_time": "2024-08-02T15:26:22.632Z"
      },
      {
        "duration": 11,
        "start_time": "2024-08-02T15:27:30.637Z"
      },
      {
        "duration": 10,
        "start_time": "2024-08-02T15:28:33.437Z"
      },
      {
        "duration": 10,
        "start_time": "2024-08-02T15:29:04.431Z"
      },
      {
        "duration": 10,
        "start_time": "2024-08-02T15:29:38.222Z"
      },
      {
        "duration": 1730,
        "start_time": "2024-08-02T15:30:04.373Z"
      },
      {
        "duration": 5,
        "start_time": "2024-08-02T15:30:38.389Z"
      },
      {
        "duration": 4,
        "start_time": "2024-08-02T15:34:09.896Z"
      },
      {
        "duration": 1548,
        "start_time": "2024-08-02T15:45:27.537Z"
      },
      {
        "duration": 2014,
        "start_time": "2024-08-02T15:45:52.498Z"
      },
      {
        "duration": 5,
        "start_time": "2024-08-02T15:47:20.584Z"
      },
      {
        "duration": 5,
        "start_time": "2024-08-02T15:47:28.852Z"
      },
      {
        "duration": 5,
        "start_time": "2024-08-02T15:47:38.229Z"
      },
      {
        "duration": 89,
        "start_time": "2024-08-02T15:48:04.456Z"
      },
      {
        "duration": 4,
        "start_time": "2024-08-02T15:48:54.535Z"
      },
      {
        "duration": 11,
        "start_time": "2024-08-02T15:51:24.590Z"
      },
      {
        "duration": 4,
        "start_time": "2024-08-02T15:51:39.222Z"
      },
      {
        "duration": 5,
        "start_time": "2024-08-02T15:51:58.752Z"
      },
      {
        "duration": 7,
        "start_time": "2024-08-02T15:52:07.309Z"
      },
      {
        "duration": 5,
        "start_time": "2024-08-02T15:52:12.009Z"
      },
      {
        "duration": 6,
        "start_time": "2024-08-02T15:52:16.802Z"
      },
      {
        "duration": 6,
        "start_time": "2024-08-02T15:52:25.541Z"
      },
      {
        "duration": 6,
        "start_time": "2024-08-02T15:52:31.354Z"
      },
      {
        "duration": 5,
        "start_time": "2024-08-02T15:52:46.649Z"
      },
      {
        "duration": 2188,
        "start_time": "2024-08-02T15:55:43.600Z"
      },
      {
        "duration": 1371,
        "start_time": "2024-08-02T18:14:03.733Z"
      },
      {
        "duration": 286,
        "start_time": "2024-08-02T18:14:05.107Z"
      },
      {
        "duration": 34,
        "start_time": "2024-08-02T18:14:05.394Z"
      },
      {
        "duration": 13,
        "start_time": "2024-08-02T18:14:05.430Z"
      },
      {
        "duration": 16,
        "start_time": "2024-08-02T18:14:05.446Z"
      },
      {
        "duration": 11,
        "start_time": "2024-08-02T18:14:05.463Z"
      },
      {
        "duration": 38,
        "start_time": "2024-08-02T18:14:05.475Z"
      },
      {
        "duration": 15,
        "start_time": "2024-08-02T18:14:05.514Z"
      },
      {
        "duration": 218,
        "start_time": "2024-08-02T18:14:05.530Z"
      },
      {
        "duration": 219,
        "start_time": "2024-08-02T18:14:05.750Z"
      },
      {
        "duration": 215,
        "start_time": "2024-08-02T18:14:05.971Z"
      },
      {
        "duration": 285,
        "start_time": "2024-08-02T18:14:06.188Z"
      },
      {
        "duration": 8,
        "start_time": "2024-08-02T18:14:06.475Z"
      },
      {
        "duration": 515,
        "start_time": "2024-08-02T18:14:06.486Z"
      },
      {
        "duration": 15,
        "start_time": "2024-08-02T18:14:07.005Z"
      },
      {
        "duration": 41,
        "start_time": "2024-08-02T18:14:07.021Z"
      },
      {
        "duration": 146,
        "start_time": "2024-08-02T18:14:07.064Z"
      },
      {
        "duration": 1060,
        "start_time": "2024-08-02T18:14:07.212Z"
      },
      {
        "duration": 1308,
        "start_time": "2024-08-02T18:14:08.274Z"
      },
      {
        "duration": 938,
        "start_time": "2024-08-02T18:14:09.584Z"
      },
      {
        "duration": 14,
        "start_time": "2024-08-02T18:14:10.524Z"
      },
      {
        "duration": 1166,
        "start_time": "2024-08-02T18:14:10.541Z"
      },
      {
        "duration": 31,
        "start_time": "2024-08-02T18:14:11.708Z"
      },
      {
        "duration": 10,
        "start_time": "2024-08-02T18:14:11.741Z"
      },
      {
        "duration": 4,
        "start_time": "2024-08-02T18:14:11.753Z"
      },
      {
        "duration": 8899,
        "start_time": "2024-08-02T18:14:11.758Z"
      },
      {
        "duration": 6,
        "start_time": "2024-08-02T18:14:20.658Z"
      },
      {
        "duration": 16,
        "start_time": "2024-08-02T18:14:20.665Z"
      },
      {
        "duration": 28,
        "start_time": "2024-08-02T18:14:20.683Z"
      },
      {
        "duration": 102,
        "start_time": "2024-08-02T18:14:20.712Z"
      },
      {
        "duration": 12,
        "start_time": "2024-08-02T18:14:20.815Z"
      },
      {
        "duration": 5,
        "start_time": "2024-08-02T18:14:20.829Z"
      },
      {
        "duration": 118,
        "start_time": "2024-08-02T18:14:36.033Z"
      },
      {
        "duration": 1465,
        "start_time": "2024-08-02T18:15:24.097Z"
      },
      {
        "duration": 1378,
        "start_time": "2024-08-02T18:15:59.568Z"
      },
      {
        "duration": 1687,
        "start_time": "2024-08-02T18:16:31.945Z"
      },
      {
        "duration": 1724,
        "start_time": "2024-08-02T18:16:48.583Z"
      },
      {
        "duration": 1803,
        "start_time": "2024-08-02T18:21:05.124Z"
      },
      {
        "duration": 1798,
        "start_time": "2024-08-02T18:21:45.560Z"
      },
      {
        "duration": 6,
        "start_time": "2024-08-02T18:44:30.638Z"
      },
      {
        "duration": 6,
        "start_time": "2024-08-02T18:44:38.951Z"
      },
      {
        "duration": 5,
        "start_time": "2024-08-02T18:46:49.174Z"
      },
      {
        "duration": 5,
        "start_time": "2024-08-02T18:47:03.238Z"
      },
      {
        "duration": 4,
        "start_time": "2024-08-02T18:49:06.786Z"
      },
      {
        "duration": 5,
        "start_time": "2024-08-02T18:49:12.616Z"
      },
      {
        "duration": 5,
        "start_time": "2024-08-02T18:49:18.948Z"
      },
      {
        "duration": 6,
        "start_time": "2024-08-02T18:52:09.327Z"
      },
      {
        "duration": 4,
        "start_time": "2024-08-02T18:52:14.725Z"
      },
      {
        "duration": 4,
        "start_time": "2024-08-02T18:52:19.967Z"
      },
      {
        "duration": 4,
        "start_time": "2024-08-02T18:57:26.110Z"
      },
      {
        "duration": 5,
        "start_time": "2024-08-02T18:57:36.324Z"
      },
      {
        "duration": 5,
        "start_time": "2024-08-02T18:57:44.292Z"
      },
      {
        "duration": 5,
        "start_time": "2024-08-02T18:57:48.515Z"
      },
      {
        "duration": 5,
        "start_time": "2024-08-02T18:58:14.901Z"
      },
      {
        "duration": 4,
        "start_time": "2024-08-02T18:58:21.531Z"
      },
      {
        "duration": 5,
        "start_time": "2024-08-02T18:58:31.536Z"
      },
      {
        "duration": 5,
        "start_time": "2024-08-02T18:58:37.808Z"
      },
      {
        "duration": 5,
        "start_time": "2024-08-02T18:58:43.049Z"
      },
      {
        "duration": 5,
        "start_time": "2024-08-02T18:58:48.336Z"
      },
      {
        "duration": 6,
        "start_time": "2024-08-02T18:58:55.039Z"
      },
      {
        "duration": 5,
        "start_time": "2024-08-02T18:59:13.900Z"
      },
      {
        "duration": 5,
        "start_time": "2024-08-02T18:59:19.142Z"
      },
      {
        "duration": 5,
        "start_time": "2024-08-02T18:59:22.909Z"
      },
      {
        "duration": 5,
        "start_time": "2024-08-02T18:59:28.416Z"
      },
      {
        "duration": 5,
        "start_time": "2024-08-02T18:59:33.892Z"
      },
      {
        "duration": 5,
        "start_time": "2024-08-02T18:59:42.759Z"
      },
      {
        "duration": 6,
        "start_time": "2024-08-02T19:01:06.006Z"
      },
      {
        "duration": 5,
        "start_time": "2024-08-02T19:01:20.738Z"
      },
      {
        "duration": 7,
        "start_time": "2024-08-02T19:01:29.366Z"
      },
      {
        "duration": 7,
        "start_time": "2024-08-02T19:02:39.815Z"
      },
      {
        "duration": 6,
        "start_time": "2024-08-02T19:03:59.237Z"
      },
      {
        "duration": 6,
        "start_time": "2024-08-02T19:04:15.219Z"
      },
      {
        "duration": 5,
        "start_time": "2024-08-02T19:04:21.761Z"
      },
      {
        "duration": 6,
        "start_time": "2024-08-02T19:04:26.577Z"
      },
      {
        "duration": 6,
        "start_time": "2024-08-02T19:04:34.339Z"
      },
      {
        "duration": 5,
        "start_time": "2024-08-02T19:04:43.095Z"
      },
      {
        "duration": 6,
        "start_time": "2024-08-02T19:04:53.952Z"
      },
      {
        "duration": 6,
        "start_time": "2024-08-02T19:04:58.825Z"
      },
      {
        "duration": 6,
        "start_time": "2024-08-02T19:05:02.513Z"
      },
      {
        "duration": 5,
        "start_time": "2024-08-02T19:05:05.786Z"
      },
      {
        "duration": 5,
        "start_time": "2024-08-02T19:05:10.774Z"
      },
      {
        "duration": 5,
        "start_time": "2024-08-02T19:07:22.444Z"
      },
      {
        "duration": 0,
        "start_time": "2024-08-02T19:34:44.988Z"
      },
      {
        "duration": 9,
        "start_time": "2024-08-02T19:34:53.272Z"
      },
      {
        "duration": 65,
        "start_time": "2024-08-02T19:35:18.122Z"
      },
      {
        "duration": 90,
        "start_time": "2024-08-02T19:35:50.768Z"
      },
      {
        "duration": 65,
        "start_time": "2024-08-02T19:36:50.563Z"
      },
      {
        "duration": 65,
        "start_time": "2024-08-02T19:37:17.246Z"
      },
      {
        "duration": 61,
        "start_time": "2024-08-02T19:37:37.948Z"
      },
      {
        "duration": 69,
        "start_time": "2024-08-02T19:38:40.334Z"
      },
      {
        "duration": 66,
        "start_time": "2024-08-02T19:38:52.931Z"
      },
      {
        "duration": 80,
        "start_time": "2024-08-02T19:39:06.099Z"
      },
      {
        "duration": 5,
        "start_time": "2024-08-02T19:39:39.106Z"
      },
      {
        "duration": 4,
        "start_time": "2024-08-02T19:44:57.456Z"
      },
      {
        "duration": 63,
        "start_time": "2024-08-02T19:50:49.921Z"
      },
      {
        "duration": 4,
        "start_time": "2024-08-02T19:51:26.197Z"
      },
      {
        "duration": 6,
        "start_time": "2024-08-02T19:53:00.798Z"
      },
      {
        "duration": 4,
        "start_time": "2024-08-02T19:53:33.880Z"
      },
      {
        "duration": 5,
        "start_time": "2024-08-02T19:53:41.262Z"
      },
      {
        "duration": 166,
        "start_time": "2024-08-02T19:58:47.281Z"
      },
      {
        "duration": 158,
        "start_time": "2024-08-02T20:00:12.795Z"
      },
      {
        "duration": 129,
        "start_time": "2024-08-02T20:00:57.977Z"
      },
      {
        "duration": 385,
        "start_time": "2024-08-02T20:01:12.516Z"
      },
      {
        "duration": 13,
        "start_time": "2024-08-02T20:02:20.692Z"
      },
      {
        "duration": 13,
        "start_time": "2024-08-02T20:09:28.330Z"
      },
      {
        "duration": 12,
        "start_time": "2024-08-02T20:09:42.534Z"
      },
      {
        "duration": 199,
        "start_time": "2024-08-02T20:10:46.222Z"
      },
      {
        "duration": 16,
        "start_time": "2024-08-02T20:11:01.893Z"
      },
      {
        "duration": 14,
        "start_time": "2024-08-02T20:17:02.190Z"
      },
      {
        "duration": 23,
        "start_time": "2024-08-02T20:17:23.878Z"
      },
      {
        "duration": 10,
        "start_time": "2024-08-02T20:20:01.070Z"
      },
      {
        "duration": 16004,
        "start_time": "2024-08-02T20:20:18.359Z"
      },
      {
        "duration": 132598,
        "start_time": "2024-08-02T20:25:14.323Z"
      },
      {
        "duration": 0,
        "start_time": "2024-08-02T20:27:26.923Z"
      },
      {
        "duration": 0,
        "start_time": "2024-08-02T20:27:26.926Z"
      },
      {
        "duration": 6,
        "start_time": "2024-08-02T20:28:15.300Z"
      },
      {
        "duration": 126,
        "start_time": "2024-08-02T20:28:19.841Z"
      },
      {
        "duration": 9,
        "start_time": "2024-08-02T20:28:49.645Z"
      },
      {
        "duration": 6,
        "start_time": "2024-08-02T20:28:58.990Z"
      },
      {
        "duration": 1001,
        "start_time": "2024-08-02T20:47:27.997Z"
      },
      {
        "duration": 286,
        "start_time": "2024-08-02T20:47:29.000Z"
      },
      {
        "duration": 28,
        "start_time": "2024-08-02T20:47:29.288Z"
      },
      {
        "duration": 18,
        "start_time": "2024-08-02T20:47:29.317Z"
      },
      {
        "duration": 9,
        "start_time": "2024-08-02T20:47:29.337Z"
      },
      {
        "duration": 8,
        "start_time": "2024-08-02T20:47:29.348Z"
      },
      {
        "duration": 13,
        "start_time": "2024-08-02T20:47:29.357Z"
      },
      {
        "duration": 5,
        "start_time": "2024-08-02T20:47:29.371Z"
      },
      {
        "duration": 190,
        "start_time": "2024-08-02T20:47:29.377Z"
      },
      {
        "duration": 168,
        "start_time": "2024-08-02T20:47:29.568Z"
      },
      {
        "duration": 133,
        "start_time": "2024-08-02T20:47:29.737Z"
      },
      {
        "duration": 217,
        "start_time": "2024-08-02T20:47:29.871Z"
      },
      {
        "duration": 16,
        "start_time": "2024-08-02T20:47:30.090Z"
      },
      {
        "duration": 338,
        "start_time": "2024-08-02T20:47:30.109Z"
      },
      {
        "duration": 11,
        "start_time": "2024-08-02T20:47:30.448Z"
      },
      {
        "duration": 65,
        "start_time": "2024-08-02T20:47:30.461Z"
      },
      {
        "duration": 85,
        "start_time": "2024-08-02T20:47:30.528Z"
      },
      {
        "duration": 881,
        "start_time": "2024-08-02T20:47:30.614Z"
      },
      {
        "duration": 956,
        "start_time": "2024-08-02T20:47:31.496Z"
      },
      {
        "duration": 694,
        "start_time": "2024-08-02T20:47:32.453Z"
      },
      {
        "duration": 9,
        "start_time": "2024-08-02T20:47:33.148Z"
      },
      {
        "duration": 909,
        "start_time": "2024-08-02T20:47:33.158Z"
      },
      {
        "duration": 21,
        "start_time": "2024-08-02T20:47:34.068Z"
      },
      {
        "duration": 14,
        "start_time": "2024-08-02T20:47:34.090Z"
      },
      {
        "duration": 9,
        "start_time": "2024-08-02T20:47:34.105Z"
      },
      {
        "duration": 5567,
        "start_time": "2024-08-02T20:47:34.115Z"
      },
      {
        "duration": 5,
        "start_time": "2024-08-02T20:47:39.683Z"
      },
      {
        "duration": 14,
        "start_time": "2024-08-02T20:47:39.689Z"
      },
      {
        "duration": 9,
        "start_time": "2024-08-02T20:47:39.704Z"
      },
      {
        "duration": 9,
        "start_time": "2024-08-02T20:47:39.714Z"
      },
      {
        "duration": 9,
        "start_time": "2024-08-02T20:47:39.724Z"
      },
      {
        "duration": 4,
        "start_time": "2024-08-02T20:47:39.734Z"
      },
      {
        "duration": 1278,
        "start_time": "2024-08-02T20:47:39.739Z"
      },
      {
        "duration": 4,
        "start_time": "2024-08-02T20:47:41.019Z"
      },
      {
        "duration": 107,
        "start_time": "2024-08-02T20:47:41.025Z"
      },
      {
        "duration": 14,
        "start_time": "2024-08-02T20:47:41.134Z"
      },
      {
        "duration": 114,
        "start_time": "2024-08-02T20:58:24.838Z"
      },
      {
        "duration": 1024,
        "start_time": "2024-08-02T21:12:58.689Z"
      },
      {
        "duration": 67,
        "start_time": "2024-08-02T21:12:59.714Z"
      },
      {
        "duration": 25,
        "start_time": "2024-08-02T21:12:59.783Z"
      },
      {
        "duration": 12,
        "start_time": "2024-08-02T21:12:59.810Z"
      },
      {
        "duration": 13,
        "start_time": "2024-08-02T21:12:59.823Z"
      },
      {
        "duration": 9,
        "start_time": "2024-08-02T21:12:59.837Z"
      },
      {
        "duration": 15,
        "start_time": "2024-08-02T21:12:59.847Z"
      },
      {
        "duration": 4,
        "start_time": "2024-08-02T21:12:59.864Z"
      },
      {
        "duration": 192,
        "start_time": "2024-08-02T21:12:59.869Z"
      },
      {
        "duration": 185,
        "start_time": "2024-08-02T21:13:00.063Z"
      },
      {
        "duration": 131,
        "start_time": "2024-08-02T21:13:00.249Z"
      },
      {
        "duration": 227,
        "start_time": "2024-08-02T21:13:00.382Z"
      },
      {
        "duration": 6,
        "start_time": "2024-08-02T21:13:00.611Z"
      },
      {
        "duration": 349,
        "start_time": "2024-08-02T21:13:00.618Z"
      },
      {
        "duration": 12,
        "start_time": "2024-08-02T21:13:00.968Z"
      },
      {
        "duration": 61,
        "start_time": "2024-08-02T21:13:00.981Z"
      },
      {
        "duration": 91,
        "start_time": "2024-08-02T21:13:01.044Z"
      },
      {
        "duration": 909,
        "start_time": "2024-08-02T21:13:01.137Z"
      },
      {
        "duration": 971,
        "start_time": "2024-08-02T21:13:02.047Z"
      },
      {
        "duration": 676,
        "start_time": "2024-08-02T21:13:03.020Z"
      },
      {
        "duration": 9,
        "start_time": "2024-08-02T21:13:03.701Z"
      },
      {
        "duration": 868,
        "start_time": "2024-08-02T21:13:03.712Z"
      },
      {
        "duration": 24,
        "start_time": "2024-08-02T21:13:04.581Z"
      },
      {
        "duration": 7,
        "start_time": "2024-08-02T21:13:04.606Z"
      },
      {
        "duration": 3,
        "start_time": "2024-08-02T21:13:04.615Z"
      },
      {
        "duration": 5440,
        "start_time": "2024-08-02T21:13:04.619Z"
      },
      {
        "duration": 4,
        "start_time": "2024-08-02T21:13:10.060Z"
      },
      {
        "duration": 16,
        "start_time": "2024-08-02T21:13:10.067Z"
      },
      {
        "duration": 23,
        "start_time": "2024-08-02T21:13:10.084Z"
      },
      {
        "duration": 32,
        "start_time": "2024-08-02T21:13:10.108Z"
      },
      {
        "duration": 24,
        "start_time": "2024-08-02T21:13:10.141Z"
      },
      {
        "duration": 16,
        "start_time": "2024-08-02T21:13:10.166Z"
      },
      {
        "duration": 1251,
        "start_time": "2024-08-02T21:13:10.183Z"
      },
      {
        "duration": 4,
        "start_time": "2024-08-02T21:13:11.435Z"
      },
      {
        "duration": 35,
        "start_time": "2024-08-02T21:13:11.441Z"
      },
      {
        "duration": 8,
        "start_time": "2024-08-02T21:13:11.477Z"
      },
      {
        "duration": 72,
        "start_time": "2024-08-03T03:46:42.816Z"
      },
      {
        "duration": 43,
        "start_time": "2024-08-03T04:04:20.473Z"
      },
      {
        "duration": 1273,
        "start_time": "2024-08-03T04:04:41.567Z"
      },
      {
        "duration": 305,
        "start_time": "2024-08-03T04:04:42.842Z"
      },
      {
        "duration": 32,
        "start_time": "2024-08-03T04:04:43.149Z"
      },
      {
        "duration": 13,
        "start_time": "2024-08-03T04:04:43.182Z"
      },
      {
        "duration": 58,
        "start_time": "2024-08-03T04:04:43.197Z"
      },
      {
        "duration": 20,
        "start_time": "2024-08-03T04:04:43.257Z"
      },
      {
        "duration": 23,
        "start_time": "2024-08-03T04:04:43.279Z"
      },
      {
        "duration": 15,
        "start_time": "2024-08-03T04:04:43.304Z"
      },
      {
        "duration": 42,
        "start_time": "2024-08-03T04:04:43.320Z"
      },
      {
        "duration": 206,
        "start_time": "2024-08-03T04:04:43.364Z"
      },
      {
        "duration": 188,
        "start_time": "2024-08-03T04:04:43.571Z"
      },
      {
        "duration": 147,
        "start_time": "2024-08-03T04:04:43.772Z"
      },
      {
        "duration": 248,
        "start_time": "2024-08-03T04:04:43.920Z"
      },
      {
        "duration": 8,
        "start_time": "2024-08-03T04:04:44.169Z"
      },
      {
        "duration": 432,
        "start_time": "2024-08-03T04:04:44.178Z"
      },
      {
        "duration": 14,
        "start_time": "2024-08-03T04:04:44.611Z"
      },
      {
        "duration": 49,
        "start_time": "2024-08-03T04:04:44.627Z"
      },
      {
        "duration": 33,
        "start_time": "2024-08-03T04:04:44.678Z"
      },
      {
        "duration": 933,
        "start_time": "2024-08-03T04:04:44.713Z"
      },
      {
        "duration": 1171,
        "start_time": "2024-08-03T04:04:45.648Z"
      },
      {
        "duration": 815,
        "start_time": "2024-08-03T04:04:46.821Z"
      },
      {
        "duration": 10,
        "start_time": "2024-08-03T04:04:47.638Z"
      },
      {
        "duration": 1005,
        "start_time": "2024-08-03T04:04:47.649Z"
      },
      {
        "duration": 32,
        "start_time": "2024-08-03T04:04:48.656Z"
      },
      {
        "duration": 9,
        "start_time": "2024-08-03T04:04:48.690Z"
      },
      {
        "duration": 5,
        "start_time": "2024-08-03T04:04:48.701Z"
      },
      {
        "duration": 8168,
        "start_time": "2024-08-03T04:04:48.707Z"
      },
      {
        "duration": 5,
        "start_time": "2024-08-03T04:04:56.878Z"
      },
      {
        "duration": 7,
        "start_time": "2024-08-03T04:04:56.884Z"
      },
      {
        "duration": 15,
        "start_time": "2024-08-03T04:04:56.892Z"
      },
      {
        "duration": 24,
        "start_time": "2024-08-03T04:04:56.908Z"
      },
      {
        "duration": 11,
        "start_time": "2024-08-03T04:04:56.933Z"
      },
      {
        "duration": 21,
        "start_time": "2024-08-03T04:04:56.946Z"
      },
      {
        "duration": 1421,
        "start_time": "2024-08-03T04:04:56.969Z"
      },
      {
        "duration": 5,
        "start_time": "2024-08-03T04:04:58.391Z"
      },
      {
        "duration": 10,
        "start_time": "2024-08-03T04:04:58.397Z"
      },
      {
        "duration": 22,
        "start_time": "2024-08-03T04:04:58.408Z"
      },
      {
        "duration": 84,
        "start_time": "2024-08-03T04:09:02.073Z"
      },
      {
        "duration": 294,
        "start_time": "2024-08-03T04:10:13.654Z"
      },
      {
        "duration": 1107,
        "start_time": "2024-08-03T04:16:33.780Z"
      },
      {
        "duration": 26,
        "start_time": "2024-08-03T04:16:42.640Z"
      },
      {
        "duration": 38,
        "start_time": "2024-08-03T04:17:32.476Z"
      },
      {
        "duration": 27,
        "start_time": "2024-08-03T04:18:40.306Z"
      },
      {
        "duration": 12,
        "start_time": "2024-08-03T04:22:01.843Z"
      },
      {
        "duration": 4,
        "start_time": "2024-08-03T04:22:30.413Z"
      },
      {
        "duration": 7167,
        "start_time": "2024-08-03T04:23:47.948Z"
      },
      {
        "duration": 8322,
        "start_time": "2024-08-03T04:31:54.405Z"
      },
      {
        "duration": 7202,
        "start_time": "2024-08-03T04:33:26.501Z"
      },
      {
        "duration": 7216,
        "start_time": "2024-08-03T04:34:19.632Z"
      },
      {
        "duration": 5,
        "start_time": "2024-08-03T04:41:47.987Z"
      },
      {
        "duration": 38,
        "start_time": "2024-08-03T05:23:24.219Z"
      },
      {
        "duration": 8,
        "start_time": "2024-08-03T05:25:17.319Z"
      },
      {
        "duration": 10,
        "start_time": "2024-08-03T05:36:14.991Z"
      },
      {
        "duration": 306,
        "start_time": "2024-08-03T05:42:31.479Z"
      },
      {
        "duration": 297,
        "start_time": "2024-08-03T05:43:21.668Z"
      },
      {
        "duration": 301,
        "start_time": "2024-08-03T05:43:49.024Z"
      },
      {
        "duration": 524,
        "start_time": "2024-08-03T05:45:58.664Z"
      },
      {
        "duration": 127,
        "start_time": "2024-08-03T05:46:53.516Z"
      },
      {
        "duration": 134,
        "start_time": "2024-08-03T06:03:59.688Z"
      },
      {
        "duration": 11,
        "start_time": "2024-08-03T06:08:26.880Z"
      },
      {
        "duration": 160,
        "start_time": "2024-08-03T06:08:32.506Z"
      },
      {
        "duration": 159,
        "start_time": "2024-08-03T06:09:02.625Z"
      },
      {
        "duration": 4,
        "start_time": "2024-08-03T06:09:15.471Z"
      },
      {
        "duration": 210,
        "start_time": "2024-08-03T06:09:22.855Z"
      },
      {
        "duration": 208,
        "start_time": "2024-08-03T06:12:35.326Z"
      },
      {
        "duration": 214,
        "start_time": "2024-08-03T06:14:17.518Z"
      },
      {
        "duration": 231,
        "start_time": "2024-08-03T06:14:25.847Z"
      },
      {
        "duration": 222,
        "start_time": "2024-08-03T06:14:49.455Z"
      },
      {
        "duration": 318,
        "start_time": "2024-08-03T06:15:00.515Z"
      },
      {
        "duration": 187,
        "start_time": "2024-08-03T06:19:15.506Z"
      },
      {
        "duration": 1022,
        "start_time": "2024-08-03T12:42:22.966Z"
      },
      {
        "duration": 408,
        "start_time": "2024-08-03T12:42:23.990Z"
      },
      {
        "duration": 33,
        "start_time": "2024-08-03T12:42:24.402Z"
      },
      {
        "duration": 12,
        "start_time": "2024-08-03T12:42:24.436Z"
      },
      {
        "duration": 52,
        "start_time": "2024-08-03T12:42:24.450Z"
      },
      {
        "duration": 13,
        "start_time": "2024-08-03T12:42:24.503Z"
      },
      {
        "duration": 11,
        "start_time": "2024-08-03T12:42:24.517Z"
      },
      {
        "duration": 15,
        "start_time": "2024-08-03T12:42:24.529Z"
      },
      {
        "duration": 5,
        "start_time": "2024-08-03T12:42:24.546Z"
      },
      {
        "duration": 233,
        "start_time": "2024-08-03T12:42:24.552Z"
      },
      {
        "duration": 212,
        "start_time": "2024-08-03T12:42:24.786Z"
      },
      {
        "duration": 166,
        "start_time": "2024-08-03T12:42:25.000Z"
      },
      {
        "duration": 263,
        "start_time": "2024-08-03T12:42:25.167Z"
      },
      {
        "duration": 8,
        "start_time": "2024-08-03T12:42:25.433Z"
      },
      {
        "duration": 391,
        "start_time": "2024-08-03T12:42:25.443Z"
      },
      {
        "duration": 14,
        "start_time": "2024-08-03T12:42:25.836Z"
      },
      {
        "duration": 52,
        "start_time": "2024-08-03T12:42:25.851Z"
      },
      {
        "duration": 111,
        "start_time": "2024-08-03T12:42:25.905Z"
      },
      {
        "duration": 975,
        "start_time": "2024-08-03T12:42:26.023Z"
      },
      {
        "duration": 1200,
        "start_time": "2024-08-03T12:42:27.000Z"
      },
      {
        "duration": 854,
        "start_time": "2024-08-03T12:42:28.202Z"
      },
      {
        "duration": 10,
        "start_time": "2024-08-03T12:42:29.057Z"
      },
      {
        "duration": 1143,
        "start_time": "2024-08-03T12:42:29.068Z"
      },
      {
        "duration": 41,
        "start_time": "2024-08-03T12:42:30.212Z"
      },
      {
        "duration": 9,
        "start_time": "2024-08-03T12:42:30.254Z"
      },
      {
        "duration": 18,
        "start_time": "2024-08-03T12:42:30.264Z"
      },
      {
        "duration": 7592,
        "start_time": "2024-08-03T12:42:30.285Z"
      },
      {
        "duration": 4,
        "start_time": "2024-08-03T12:42:37.879Z"
      },
      {
        "duration": 8,
        "start_time": "2024-08-03T12:42:37.884Z"
      },
      {
        "duration": 11,
        "start_time": "2024-08-03T12:42:37.893Z"
      },
      {
        "duration": 1645,
        "start_time": "2024-08-03T12:42:37.905Z"
      },
      {
        "duration": 261,
        "start_time": "2024-08-03T12:42:39.553Z"
      },
      {
        "duration": 10,
        "start_time": "2024-08-03T12:42:39.816Z"
      },
      {
        "duration": 44,
        "start_time": "2024-08-03T12:42:39.827Z"
      },
      {
        "duration": 210,
        "start_time": "2024-08-03T12:42:39.872Z"
      },
      {
        "duration": 1021,
        "start_time": "2024-08-03T13:17:54.865Z"
      },
      {
        "duration": 82,
        "start_time": "2024-08-03T13:17:55.888Z"
      },
      {
        "duration": 30,
        "start_time": "2024-08-03T13:17:55.971Z"
      },
      {
        "duration": 15,
        "start_time": "2024-08-03T13:17:56.003Z"
      },
      {
        "duration": 5,
        "start_time": "2024-08-03T13:17:56.019Z"
      },
      {
        "duration": 17,
        "start_time": "2024-08-03T13:17:56.026Z"
      },
      {
        "duration": 10,
        "start_time": "2024-08-03T13:17:56.045Z"
      },
      {
        "duration": 11,
        "start_time": "2024-08-03T13:17:56.056Z"
      },
      {
        "duration": 5,
        "start_time": "2024-08-03T13:17:56.068Z"
      },
      {
        "duration": 223,
        "start_time": "2024-08-03T13:17:56.075Z"
      },
      {
        "duration": 190,
        "start_time": "2024-08-03T13:17:56.299Z"
      },
      {
        "duration": 157,
        "start_time": "2024-08-03T13:17:56.491Z"
      },
      {
        "duration": 259,
        "start_time": "2024-08-03T13:17:56.649Z"
      },
      {
        "duration": 16,
        "start_time": "2024-08-03T13:17:56.910Z"
      },
      {
        "duration": 375,
        "start_time": "2024-08-03T13:17:56.927Z"
      },
      {
        "duration": 13,
        "start_time": "2024-08-03T13:17:57.303Z"
      },
      {
        "duration": 35,
        "start_time": "2024-08-03T13:17:57.323Z"
      },
      {
        "duration": 105,
        "start_time": "2024-08-03T13:17:57.360Z"
      },
      {
        "duration": 928,
        "start_time": "2024-08-03T13:17:57.466Z"
      },
      {
        "duration": 1152,
        "start_time": "2024-08-03T13:17:58.395Z"
      },
      {
        "duration": 861,
        "start_time": "2024-08-03T13:17:59.549Z"
      },
      {
        "duration": 18,
        "start_time": "2024-08-03T13:18:00.412Z"
      },
      {
        "duration": 1081,
        "start_time": "2024-08-03T13:18:00.432Z"
      },
      {
        "duration": 33,
        "start_time": "2024-08-03T13:18:01.514Z"
      },
      {
        "duration": 20,
        "start_time": "2024-08-03T13:18:01.548Z"
      },
      {
        "duration": 3,
        "start_time": "2024-08-03T13:18:01.570Z"
      },
      {
        "duration": 6813,
        "start_time": "2024-08-03T13:18:01.575Z"
      },
      {
        "duration": 4,
        "start_time": "2024-08-03T13:18:08.391Z"
      },
      {
        "duration": 7,
        "start_time": "2024-08-03T13:18:08.396Z"
      },
      {
        "duration": 19,
        "start_time": "2024-08-03T13:18:08.405Z"
      },
      {
        "duration": 1553,
        "start_time": "2024-08-03T13:18:08.425Z"
      },
      {
        "duration": 252,
        "start_time": "2024-08-03T13:18:09.979Z"
      },
      {
        "duration": 4,
        "start_time": "2024-08-03T13:18:10.232Z"
      },
      {
        "duration": 6,
        "start_time": "2024-08-03T13:18:10.237Z"
      },
      {
        "duration": 210,
        "start_time": "2024-08-03T13:18:10.244Z"
      },
      {
        "duration": 1068,
        "start_time": "2024-08-15T08:06:40.795Z"
      },
      {
        "duration": 372,
        "start_time": "2024-08-15T08:06:41.864Z"
      },
      {
        "duration": 32,
        "start_time": "2024-08-15T08:06:42.237Z"
      },
      {
        "duration": 15,
        "start_time": "2024-08-15T08:06:42.271Z"
      },
      {
        "duration": 5,
        "start_time": "2024-08-15T08:06:42.288Z"
      },
      {
        "duration": 17,
        "start_time": "2024-08-15T08:06:42.294Z"
      },
      {
        "duration": 10,
        "start_time": "2024-08-15T08:06:42.313Z"
      },
      {
        "duration": 19,
        "start_time": "2024-08-15T08:06:42.325Z"
      },
      {
        "duration": 12,
        "start_time": "2024-08-15T08:06:42.345Z"
      },
      {
        "duration": 222,
        "start_time": "2024-08-15T08:06:42.360Z"
      },
      {
        "duration": 202,
        "start_time": "2024-08-15T08:06:42.583Z"
      },
      {
        "duration": 179,
        "start_time": "2024-08-15T08:06:42.786Z"
      },
      {
        "duration": 270,
        "start_time": "2024-08-15T08:06:42.966Z"
      },
      {
        "duration": 7,
        "start_time": "2024-08-15T08:06:43.237Z"
      },
      {
        "duration": 413,
        "start_time": "2024-08-15T08:06:43.246Z"
      },
      {
        "duration": 14,
        "start_time": "2024-08-15T08:06:43.660Z"
      },
      {
        "duration": 52,
        "start_time": "2024-08-15T08:06:43.676Z"
      },
      {
        "duration": 105,
        "start_time": "2024-08-15T08:06:43.730Z"
      },
      {
        "duration": 988,
        "start_time": "2024-08-15T08:06:43.836Z"
      },
      {
        "duration": 1193,
        "start_time": "2024-08-15T08:06:44.825Z"
      },
      {
        "duration": 888,
        "start_time": "2024-08-15T08:06:46.019Z"
      },
      {
        "duration": 10,
        "start_time": "2024-08-15T08:06:46.908Z"
      },
      {
        "duration": 1102,
        "start_time": "2024-08-15T08:06:46.919Z"
      },
      {
        "duration": 26,
        "start_time": "2024-08-15T08:06:48.023Z"
      },
      {
        "duration": 9,
        "start_time": "2024-08-15T08:06:48.050Z"
      },
      {
        "duration": 4,
        "start_time": "2024-08-15T08:06:48.060Z"
      },
      {
        "duration": 8048,
        "start_time": "2024-08-15T08:06:48.065Z"
      },
      {
        "duration": 5,
        "start_time": "2024-08-15T08:06:56.116Z"
      },
      {
        "duration": 7,
        "start_time": "2024-08-15T08:06:56.123Z"
      },
      {
        "duration": 7,
        "start_time": "2024-08-15T08:06:56.132Z"
      },
      {
        "duration": 1670,
        "start_time": "2024-08-15T08:06:56.141Z"
      },
      {
        "duration": 245,
        "start_time": "2024-08-15T08:06:57.813Z"
      },
      {
        "duration": 4,
        "start_time": "2024-08-15T08:06:58.059Z"
      },
      {
        "duration": 19,
        "start_time": "2024-08-15T08:06:58.064Z"
      },
      {
        "duration": 221,
        "start_time": "2024-08-15T08:06:58.084Z"
      }
    ],
    "celltoolbar": "Редактировать метаданные",
    "kernelspec": {
      "display_name": "Python 3 (ipykernel)",
      "language": "python",
      "name": "python3"
    },
    "language_info": {
      "codemirror_mode": {
        "name": "ipython",
        "version": 3
      },
      "file_extension": ".py",
      "mimetype": "text/x-python",
      "name": "python",
      "nbconvert_exporter": "python",
      "pygments_lexer": "ipython3",
      "version": "3.9.5"
    },
    "toc": {
      "base_numbering": 1,
      "nav_menu": {},
      "number_sections": true,
      "sideBar": true,
      "skip_h1_title": true,
      "title_cell": "Оглавление",
      "title_sidebar": "Оглавление",
      "toc_cell": true,
      "toc_position": {
        "height": "calc(100% - 180px)",
        "left": "10px",
        "top": "150px",
        "width": "165px"
      },
      "toc_section_display": true,
      "toc_window_display": true
    },
    "colab": {
      "provenance": [],
      "toc_visible": true
    }
  },
  "nbformat": 4,
  "nbformat_minor": 5
}