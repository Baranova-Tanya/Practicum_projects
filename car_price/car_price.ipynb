{
  "cells": [
    {
      "cell_type": "markdown",
      "metadata": {
        "id": "-UJOEedi5EDg"
      },
      "source": [
        "# Определение стоимости автомобилей\n"
      ]
    },
    {
      "cell_type": "markdown",
      "source": [
        ">[Определение стоимости автомобилей](#scrollTo=-UJOEedi5EDg)\n",
        "\n",
        ">>>[Описание проекта](#scrollTo=r9hOvGPq5NWD)\n",
        "\n",
        ">>>[Описание данных](#scrollTo=YP2EU1AD5EDh)\n",
        "\n",
        ">>[Подготовка данных](#scrollTo=dgfb9vjw5EDh)\n",
        "\n",
        ">>>[1.1. Импорт библиотек](#scrollTo=dKHetfwB6rk4)\n",
        "\n",
        ">>>[1.2. Загрузка данных](#scrollTo=YljPImPC6pCx)\n",
        "\n",
        ">>>[1.3. Предобработка](#scrollTo=aPEGifB57AZA)\n",
        "\n",
        ">>>>[1.3.1. Дубликаты](#scrollTo=Jzos-4ym7B5x)\n",
        "\n",
        ">>>>[1.3.2. Изменение типов данных](#scrollTo=JUoeENRJ5EDj)\n",
        "\n",
        ">>>[1.4. Исследовательский анализ и обработка](#scrollTo=cACNVofW5EDk)\n",
        "\n",
        ">>>>[1.4.1. Категориальные признаки](#scrollTo=ibbbhWGS7iFA)\n",
        "\n",
        ">>>>[1.4.2. Количественные признаки](#scrollTo=NgzfqTmH7rN4)\n",
        "\n",
        ">>>>>[1.4.2.1. Price](#scrollTo=vfeWFE9d7u6g)\n",
        "\n",
        ">>>>>[1.4.2.2. RegistrationYear](#scrollTo=k2vx6uQn7_I5)\n",
        "\n",
        ">>>>>[1.4.2.3. Power](#scrollTo=dr5vtqwE8HIy)\n",
        "\n",
        ">>>>>[1.4.2.4. Kilometer](#scrollTo=sjeIdBSA5EDw)\n",
        "\n",
        ">>>>[1.4.3. Корреляционный анализ](#scrollTo=APgd7wOt80nT)\n",
        "\n",
        ">>>[Вывод по шагу 1](#scrollTo=1c1tQn6w9e9I)\n",
        "\n",
        ">>[Обучение моделей](#scrollTo=0EITa8qX5EDw)\n",
        "\n",
        ">>>[2.1. Разделение на выборки, заполнение пропусков](#scrollTo=bXVNAMf29qke)\n",
        "\n",
        ">>>[2.2. SVR](#scrollTo=Ui5jJ8Qr9yQp)\n",
        "\n",
        ">>>[2.3. LGBMRegressor](#scrollTo=lR5dYjuq-ZSI)\n",
        "\n",
        ">>>[Вывод по шагу 2](#scrollTo=qTIOVVhU5EDy)\n",
        "\n",
        ">>[Анализ моделей](#scrollTo=LJQ3-YNF5EDy)\n",
        "\n",
        ">>>[Вывод по шагу 3](#scrollTo=uXw65sgS5EDy)\n",
        "\n",
        ">>[Тестирование лучшей модели](#scrollTo=Ja1Xpv6x5EDz)\n",
        "\n",
        ">>[Итоговые выводы](#scrollTo=9Lz8u94E5EDz)\n",
        "\n"
      ],
      "metadata": {
        "colab_type": "toc",
        "id": "z9rPRYXE5Qty"
      }
    },
    {
      "cell_type": "markdown",
      "source": [
        "### Описание проекта"
      ],
      "metadata": {
        "id": "r9hOvGPq5NWD"
      }
    },
    {
      "cell_type": "markdown",
      "metadata": {
        "id": "pmdrXxiZ5EDh"
      },
      "source": [
        "Сервис по продаже автомобилей с пробегом \"Не бит, не крашен\" разрабатывает приложение для привлечения новых клиентов. В нем можно быстро узнать рыночную стоимость своего автомобиля. Даны исторические данные: технические характеристики, комплектации и цены автомобилей. Нужно построить модель для определения стоимости.\n",
        "\n",
        "Заказчику важны:\n",
        "\n",
        "- качество предсказания;\n",
        "- скорость предсказания;\n",
        "- время обучения.\n",
        "\n",
        "Попробуем обучить две модели: `LightGBM` и `SVR`. Выберем наилучшую с учетом приоритетов заказчика, а также требования:\n",
        "- значение метрики RMSE должно быть меньше 2500."
      ]
    },
    {
      "cell_type": "markdown",
      "metadata": {
        "id": "YP2EU1AD5EDh"
      },
      "source": [
        "### Описание данных\n",
        "\n",
        "Дана одна таблица (файл `autos.csv`) со следующими признаками:\n",
        "\n",
        "|название столбца|содержащиеся данные|\n",
        "|:-|:-|\n",
        "|`DateCrawled`|дата скачивания анкеты из базы|\n",
        "|`VehicleType`|тип автомобильного кузова|\n",
        "|`RegistrationYear`|год регистрации автомобиля|\n",
        "|`Gearbox`|тип коробки передач|\n",
        "|`Power`|мощность (в лошадиных силах)|\n",
        "|`Model`|модель автомобиля|\n",
        "|`Kilometer`|пробег (в километрах)|\n",
        "|`RegistrationMonth`|месяц регистрации автомобиля|\n",
        "|`FuelType`|тип топлива|\n",
        "|`Brand`|марка автомобиля|\n",
        "|`Repaired`|была машина в ремонте или нет|\n",
        "|`DateCreated`|дата создания анкеты|\n",
        "|`NumberOfPictures`|количество фотографий автомобиля|\n",
        "|`PostalCode`|почтовый индекс владельца анкеты (пользователя)|\n",
        "|`LastSeen`|дата последней активности пользователя|\n",
        "|`Price`|цена (в евро), **целевой признак**|\n"
      ]
    },
    {
      "cell_type": "markdown",
      "metadata": {
        "id": "dgfb9vjw5EDh"
      },
      "source": [
        "## 1. Подготовка данных\n",
        "\n"
      ]
    },
    {
      "cell_type": "markdown",
      "source": [
        "### 1.1. Импорт библиотек"
      ],
      "metadata": {
        "id": "dKHetfwB6rk4"
      }
    },
    {
      "cell_type": "code",
      "execution_count": null,
      "metadata": {
        "id": "2oEJrRzi5EDh",
        "outputId": "9ab4c719-5d70-454d-b300-2e08ef0b486a"
      },
      "outputs": [
        {
          "name": "stdout",
          "output_type": "stream",
          "text": [
            "\u001b[31mERROR: pip's dependency resolver does not currently take into account all the packages that are installed. This behaviour is the source of the following dependency conflicts.\n",
            "contourpy 1.3.0 requires numpy>=1.23, but you have numpy 1.22.0 which is incompatible.\u001b[0m\n",
            "\u001b[31mERROR: pip's dependency resolver does not currently take into account all the packages that are installed. This behaviour is the source of the following dependency conflicts.\n",
            "scipy 1.9.1 requires numpy<1.25.0,>=1.18.5, but you have numpy 1.26.4 which is incompatible.\n",
            "numba 0.56.0 requires numpy<1.23,>=1.18, but you have numpy 1.26.4 which is incompatible.\u001b[0m\n",
            "\u001b[31mERROR: pip's dependency resolver does not currently take into account all the packages that are installed. This behaviour is the source of the following dependency conflicts.\n",
            "numba 0.56.0 requires numpy<1.23,>=1.18, but you have numpy 1.24.4 which is incompatible.\u001b[0m\n"
          ]
        }
      ],
      "source": [
        "! pip install numpy==1.22.0 -q\n",
        "! pip install matplotlib==3.7.3 -q\n",
        "! pip install phik -q\n",
        "! pip install -U scikit-learn -q\n",
        "! pip install lightgbm -q\n"
      ]
    },
    {
      "cell_type": "code",
      "execution_count": null,
      "metadata": {
        "id": "Lv2WqaIv5EDi"
      },
      "outputs": [],
      "source": [
        "import pandas as pd\n",
        "import numpy as np\n",
        "import phik\n",
        "import seaborn as sns\n",
        "import matplotlib.pyplot as plt\n",
        "import sklearn\n",
        "\n",
        "from pathlib import Path\n",
        "from lightgbm import LGBMRegressor\n",
        "from sklearn.svm import SVR\n",
        "from sklearn.model_selection import (\n",
        "    RandomizedSearchCV,\n",
        "    GridSearchCV,\n",
        "    train_test_split)\n",
        "from sklearn.compose import ColumnTransformer\n",
        "from sklearn.metrics import mean_squared_error\n",
        "from sklearn.impute import SimpleImputer\n",
        "from sklearn.pipeline import Pipeline\n",
        "from sklearn.preprocessing import (\n",
        "    OneHotEncoder,\n",
        "    TargetEncoder,\n",
        "    StandardScaler,\n",
        "    RobustScaler\n",
        ")\n",
        "\n",
        "sns.set_style('whitegrid')\n",
        "\n",
        "RANDOM_STATE = 42"
      ]
    },
    {
      "cell_type": "code",
      "execution_count": null,
      "metadata": {
        "id": "lzpppyEy5EDi"
      },
      "outputs": [],
      "source": [
        "def show_num(data, col):\n",
        "    \"\"\"\n",
        "    Принимает:\n",
        "        наименование переменной, хранящей датафрейм;\n",
        "        наименование столбца с количественными данными в этом датафрейме.\n",
        "    Возвращает:\n",
        "        общее описание данных;\n",
        "        гистограмму с наложенным графиком плотности распределения;\n",
        "        диаграмму размаха.\n",
        "    \"\"\"\n",
        "    figure, axs = plt.subplots(1, 2, figsize=(15, 8))\n",
        "    figure.suptitle(col.title())\n",
        "\n",
        "    sns.histplot(data[col], bins=50, kde=True, ax=axs[0])\n",
        "    axs[0].set_title('Гистограмма и плотность расределения')\n",
        "\n",
        "    sns.boxplot(data=data[col], ax=axs[1])\n",
        "    axs[1].set_title('Диаграмма размаха')\n",
        "\n",
        "    plt.show()\n",
        "\n",
        "    display(data[col].describe().to_frame())\n",
        "    print('Число пропусков:', data[col].isna().sum())\n",
        "\n",
        "def show_cat(data, col):\n",
        "    \"\"\"\n",
        "    Принимает:\n",
        "        наименование переменной, хранящей датафрейм;\n",
        "        наименование столбца с категориальными данными в этом датафрейме.\n",
        "    Возвращает:\n",
        "        столбчатую диаграмму;\n",
        "        абсолютное количество и долю для каждого уникального значения.\n",
        "    \"\"\"\n",
        "    plt.figure(figsize=(12, 12))\n",
        "    sns.countplot(\n",
        "        x=data[col],\n",
        "        palette='blend:#a27ade,#63cfb0'\n",
        "    )\n",
        "    plt.title(f'{col}: столбчатая диаграмма')\n",
        "    plt.xticks(rotation=90)\n",
        "    plt.show()\n",
        "\n",
        "    frame = data[col].value_counts().to_frame()\n",
        "    frame['proportion'] = round((frame[col] / data.shape[0]), 2)\n",
        "    frame.columns = ['count', 'proportion']\n",
        "    display(frame.sort_values(by='count', ascending=False))\n",
        "    print('Число пропусков:', data[col].isna().sum())"
      ]
    },
    {
      "cell_type": "markdown",
      "source": [
        "### 1.2. Загрузка данных\n"
      ],
      "metadata": {
        "id": "YljPImPC6pCx"
      }
    },
    {
      "cell_type": "code",
      "execution_count": null,
      "metadata": {
        "id": "q7QIAGcw5EDj",
        "outputId": "22757f39-b3cb-4dda-a8bc-f86d54548d6a"
      },
      "outputs": [
        {
          "data": {
            "text/html": [
              "<div>\n",
              "<style scoped>\n",
              "    .dataframe tbody tr th:only-of-type {\n",
              "        vertical-align: middle;\n",
              "    }\n",
              "\n",
              "    .dataframe tbody tr th {\n",
              "        vertical-align: top;\n",
              "    }\n",
              "\n",
              "    .dataframe thead th {\n",
              "        text-align: right;\n",
              "    }\n",
              "</style>\n",
              "<table border=\"1\" class=\"dataframe\">\n",
              "  <thead>\n",
              "    <tr style=\"text-align: right;\">\n",
              "      <th></th>\n",
              "      <th>DateCrawled</th>\n",
              "      <th>Price</th>\n",
              "      <th>VehicleType</th>\n",
              "      <th>RegistrationYear</th>\n",
              "      <th>Gearbox</th>\n",
              "      <th>Power</th>\n",
              "      <th>Model</th>\n",
              "      <th>Kilometer</th>\n",
              "      <th>RegistrationMonth</th>\n",
              "      <th>FuelType</th>\n",
              "      <th>Brand</th>\n",
              "      <th>Repaired</th>\n",
              "      <th>DateCreated</th>\n",
              "      <th>NumberOfPictures</th>\n",
              "      <th>PostalCode</th>\n",
              "      <th>LastSeen</th>\n",
              "    </tr>\n",
              "  </thead>\n",
              "  <tbody>\n",
              "    <tr>\n",
              "      <th>0</th>\n",
              "      <td>2016-03-24 11:52:17</td>\n",
              "      <td>480</td>\n",
              "      <td>NaN</td>\n",
              "      <td>1993</td>\n",
              "      <td>manual</td>\n",
              "      <td>0</td>\n",
              "      <td>golf</td>\n",
              "      <td>150000</td>\n",
              "      <td>0</td>\n",
              "      <td>petrol</td>\n",
              "      <td>volkswagen</td>\n",
              "      <td>NaN</td>\n",
              "      <td>2016-03-24 00:00:00</td>\n",
              "      <td>0</td>\n",
              "      <td>70435</td>\n",
              "      <td>2016-04-07 03:16:57</td>\n",
              "    </tr>\n",
              "    <tr>\n",
              "      <th>1</th>\n",
              "      <td>2016-03-24 10:58:45</td>\n",
              "      <td>18300</td>\n",
              "      <td>coupe</td>\n",
              "      <td>2011</td>\n",
              "      <td>manual</td>\n",
              "      <td>190</td>\n",
              "      <td>NaN</td>\n",
              "      <td>125000</td>\n",
              "      <td>5</td>\n",
              "      <td>gasoline</td>\n",
              "      <td>audi</td>\n",
              "      <td>yes</td>\n",
              "      <td>2016-03-24 00:00:00</td>\n",
              "      <td>0</td>\n",
              "      <td>66954</td>\n",
              "      <td>2016-04-07 01:46:50</td>\n",
              "    </tr>\n",
              "    <tr>\n",
              "      <th>2</th>\n",
              "      <td>2016-03-14 12:52:21</td>\n",
              "      <td>9800</td>\n",
              "      <td>suv</td>\n",
              "      <td>2004</td>\n",
              "      <td>auto</td>\n",
              "      <td>163</td>\n",
              "      <td>grand</td>\n",
              "      <td>125000</td>\n",
              "      <td>8</td>\n",
              "      <td>gasoline</td>\n",
              "      <td>jeep</td>\n",
              "      <td>NaN</td>\n",
              "      <td>2016-03-14 00:00:00</td>\n",
              "      <td>0</td>\n",
              "      <td>90480</td>\n",
              "      <td>2016-04-05 12:47:46</td>\n",
              "    </tr>\n",
              "    <tr>\n",
              "      <th>3</th>\n",
              "      <td>2016-03-17 16:54:04</td>\n",
              "      <td>1500</td>\n",
              "      <td>small</td>\n",
              "      <td>2001</td>\n",
              "      <td>manual</td>\n",
              "      <td>75</td>\n",
              "      <td>golf</td>\n",
              "      <td>150000</td>\n",
              "      <td>6</td>\n",
              "      <td>petrol</td>\n",
              "      <td>volkswagen</td>\n",
              "      <td>no</td>\n",
              "      <td>2016-03-17 00:00:00</td>\n",
              "      <td>0</td>\n",
              "      <td>91074</td>\n",
              "      <td>2016-03-17 17:40:17</td>\n",
              "    </tr>\n",
              "    <tr>\n",
              "      <th>4</th>\n",
              "      <td>2016-03-31 17:25:20</td>\n",
              "      <td>3600</td>\n",
              "      <td>small</td>\n",
              "      <td>2008</td>\n",
              "      <td>manual</td>\n",
              "      <td>69</td>\n",
              "      <td>fabia</td>\n",
              "      <td>90000</td>\n",
              "      <td>7</td>\n",
              "      <td>gasoline</td>\n",
              "      <td>skoda</td>\n",
              "      <td>no</td>\n",
              "      <td>2016-03-31 00:00:00</td>\n",
              "      <td>0</td>\n",
              "      <td>60437</td>\n",
              "      <td>2016-04-06 10:17:21</td>\n",
              "    </tr>\n",
              "    <tr>\n",
              "      <th>5</th>\n",
              "      <td>2016-04-04 17:36:23</td>\n",
              "      <td>650</td>\n",
              "      <td>sedan</td>\n",
              "      <td>1995</td>\n",
              "      <td>manual</td>\n",
              "      <td>102</td>\n",
              "      <td>3er</td>\n",
              "      <td>150000</td>\n",
              "      <td>10</td>\n",
              "      <td>petrol</td>\n",
              "      <td>bmw</td>\n",
              "      <td>yes</td>\n",
              "      <td>2016-04-04 00:00:00</td>\n",
              "      <td>0</td>\n",
              "      <td>33775</td>\n",
              "      <td>2016-04-06 19:17:07</td>\n",
              "    </tr>\n",
              "    <tr>\n",
              "      <th>6</th>\n",
              "      <td>2016-04-01 20:48:51</td>\n",
              "      <td>2200</td>\n",
              "      <td>convertible</td>\n",
              "      <td>2004</td>\n",
              "      <td>manual</td>\n",
              "      <td>109</td>\n",
              "      <td>2_reihe</td>\n",
              "      <td>150000</td>\n",
              "      <td>8</td>\n",
              "      <td>petrol</td>\n",
              "      <td>peugeot</td>\n",
              "      <td>no</td>\n",
              "      <td>2016-04-01 00:00:00</td>\n",
              "      <td>0</td>\n",
              "      <td>67112</td>\n",
              "      <td>2016-04-05 18:18:39</td>\n",
              "    </tr>\n",
              "    <tr>\n",
              "      <th>7</th>\n",
              "      <td>2016-03-21 18:54:38</td>\n",
              "      <td>0</td>\n",
              "      <td>sedan</td>\n",
              "      <td>1980</td>\n",
              "      <td>manual</td>\n",
              "      <td>50</td>\n",
              "      <td>other</td>\n",
              "      <td>40000</td>\n",
              "      <td>7</td>\n",
              "      <td>petrol</td>\n",
              "      <td>volkswagen</td>\n",
              "      <td>no</td>\n",
              "      <td>2016-03-21 00:00:00</td>\n",
              "      <td>0</td>\n",
              "      <td>19348</td>\n",
              "      <td>2016-03-25 16:47:58</td>\n",
              "    </tr>\n",
              "    <tr>\n",
              "      <th>8</th>\n",
              "      <td>2016-04-04 23:42:13</td>\n",
              "      <td>14500</td>\n",
              "      <td>bus</td>\n",
              "      <td>2014</td>\n",
              "      <td>manual</td>\n",
              "      <td>125</td>\n",
              "      <td>c_max</td>\n",
              "      <td>30000</td>\n",
              "      <td>8</td>\n",
              "      <td>petrol</td>\n",
              "      <td>ford</td>\n",
              "      <td>NaN</td>\n",
              "      <td>2016-04-04 00:00:00</td>\n",
              "      <td>0</td>\n",
              "      <td>94505</td>\n",
              "      <td>2016-04-04 23:42:13</td>\n",
              "    </tr>\n",
              "    <tr>\n",
              "      <th>9</th>\n",
              "      <td>2016-03-17 10:53:50</td>\n",
              "      <td>999</td>\n",
              "      <td>small</td>\n",
              "      <td>1998</td>\n",
              "      <td>manual</td>\n",
              "      <td>101</td>\n",
              "      <td>golf</td>\n",
              "      <td>150000</td>\n",
              "      <td>0</td>\n",
              "      <td>NaN</td>\n",
              "      <td>volkswagen</td>\n",
              "      <td>NaN</td>\n",
              "      <td>2016-03-17 00:00:00</td>\n",
              "      <td>0</td>\n",
              "      <td>27472</td>\n",
              "      <td>2016-03-31 17:17:06</td>\n",
              "    </tr>\n",
              "    <tr>\n",
              "      <th>10</th>\n",
              "      <td>2016-03-26 19:54:18</td>\n",
              "      <td>2000</td>\n",
              "      <td>sedan</td>\n",
              "      <td>2004</td>\n",
              "      <td>manual</td>\n",
              "      <td>105</td>\n",
              "      <td>3_reihe</td>\n",
              "      <td>150000</td>\n",
              "      <td>12</td>\n",
              "      <td>petrol</td>\n",
              "      <td>mazda</td>\n",
              "      <td>no</td>\n",
              "      <td>2016-03-26 00:00:00</td>\n",
              "      <td>0</td>\n",
              "      <td>96224</td>\n",
              "      <td>2016-04-06 10:45:34</td>\n",
              "    </tr>\n",
              "    <tr>\n",
              "      <th>11</th>\n",
              "      <td>2016-04-07 10:06:22</td>\n",
              "      <td>2799</td>\n",
              "      <td>wagon</td>\n",
              "      <td>2005</td>\n",
              "      <td>manual</td>\n",
              "      <td>140</td>\n",
              "      <td>passat</td>\n",
              "      <td>150000</td>\n",
              "      <td>12</td>\n",
              "      <td>gasoline</td>\n",
              "      <td>volkswagen</td>\n",
              "      <td>yes</td>\n",
              "      <td>2016-04-07 00:00:00</td>\n",
              "      <td>0</td>\n",
              "      <td>57290</td>\n",
              "      <td>2016-04-07 10:25:17</td>\n",
              "    </tr>\n",
              "    <tr>\n",
              "      <th>12</th>\n",
              "      <td>2016-03-15 22:49:09</td>\n",
              "      <td>999</td>\n",
              "      <td>wagon</td>\n",
              "      <td>1995</td>\n",
              "      <td>manual</td>\n",
              "      <td>115</td>\n",
              "      <td>passat</td>\n",
              "      <td>150000</td>\n",
              "      <td>11</td>\n",
              "      <td>petrol</td>\n",
              "      <td>volkswagen</td>\n",
              "      <td>NaN</td>\n",
              "      <td>2016-03-15 00:00:00</td>\n",
              "      <td>0</td>\n",
              "      <td>37269</td>\n",
              "      <td>2016-04-01 13:16:16</td>\n",
              "    </tr>\n",
              "    <tr>\n",
              "      <th>13</th>\n",
              "      <td>2016-03-21 21:37:40</td>\n",
              "      <td>2500</td>\n",
              "      <td>wagon</td>\n",
              "      <td>2004</td>\n",
              "      <td>manual</td>\n",
              "      <td>131</td>\n",
              "      <td>passat</td>\n",
              "      <td>150000</td>\n",
              "      <td>2</td>\n",
              "      <td>NaN</td>\n",
              "      <td>volkswagen</td>\n",
              "      <td>no</td>\n",
              "      <td>2016-03-21 00:00:00</td>\n",
              "      <td>0</td>\n",
              "      <td>90762</td>\n",
              "      <td>2016-03-23 02:50:54</td>\n",
              "    </tr>\n",
              "    <tr>\n",
              "      <th>14</th>\n",
              "      <td>2016-03-21 12:57:01</td>\n",
              "      <td>17999</td>\n",
              "      <td>suv</td>\n",
              "      <td>2011</td>\n",
              "      <td>manual</td>\n",
              "      <td>190</td>\n",
              "      <td>navara</td>\n",
              "      <td>70000</td>\n",
              "      <td>3</td>\n",
              "      <td>gasoline</td>\n",
              "      <td>nissan</td>\n",
              "      <td>no</td>\n",
              "      <td>2016-03-21 00:00:00</td>\n",
              "      <td>0</td>\n",
              "      <td>4177</td>\n",
              "      <td>2016-04-06 07:45:42</td>\n",
              "    </tr>\n",
              "    <tr>\n",
              "      <th>15</th>\n",
              "      <td>2016-03-11 21:39:15</td>\n",
              "      <td>450</td>\n",
              "      <td>small</td>\n",
              "      <td>1910</td>\n",
              "      <td>NaN</td>\n",
              "      <td>0</td>\n",
              "      <td>ka</td>\n",
              "      <td>5000</td>\n",
              "      <td>0</td>\n",
              "      <td>petrol</td>\n",
              "      <td>ford</td>\n",
              "      <td>NaN</td>\n",
              "      <td>2016-03-11 00:00:00</td>\n",
              "      <td>0</td>\n",
              "      <td>24148</td>\n",
              "      <td>2016-03-19 08:46:47</td>\n",
              "    </tr>\n",
              "    <tr>\n",
              "      <th>16</th>\n",
              "      <td>2016-04-01 12:46:46</td>\n",
              "      <td>300</td>\n",
              "      <td>NaN</td>\n",
              "      <td>2016</td>\n",
              "      <td>NaN</td>\n",
              "      <td>60</td>\n",
              "      <td>polo</td>\n",
              "      <td>150000</td>\n",
              "      <td>0</td>\n",
              "      <td>petrol</td>\n",
              "      <td>volkswagen</td>\n",
              "      <td>NaN</td>\n",
              "      <td>2016-04-01 00:00:00</td>\n",
              "      <td>0</td>\n",
              "      <td>38871</td>\n",
              "      <td>2016-04-01 12:46:46</td>\n",
              "    </tr>\n",
              "    <tr>\n",
              "      <th>17</th>\n",
              "      <td>2016-03-20 10:25:19</td>\n",
              "      <td>1750</td>\n",
              "      <td>small</td>\n",
              "      <td>2004</td>\n",
              "      <td>auto</td>\n",
              "      <td>75</td>\n",
              "      <td>twingo</td>\n",
              "      <td>150000</td>\n",
              "      <td>2</td>\n",
              "      <td>petrol</td>\n",
              "      <td>renault</td>\n",
              "      <td>no</td>\n",
              "      <td>2016-03-20 00:00:00</td>\n",
              "      <td>0</td>\n",
              "      <td>65599</td>\n",
              "      <td>2016-04-06 13:16:07</td>\n",
              "    </tr>\n",
              "    <tr>\n",
              "      <th>18</th>\n",
              "      <td>2016-03-23 15:48:05</td>\n",
              "      <td>7550</td>\n",
              "      <td>bus</td>\n",
              "      <td>2007</td>\n",
              "      <td>manual</td>\n",
              "      <td>136</td>\n",
              "      <td>c_max</td>\n",
              "      <td>150000</td>\n",
              "      <td>6</td>\n",
              "      <td>gasoline</td>\n",
              "      <td>ford</td>\n",
              "      <td>no</td>\n",
              "      <td>2016-03-23 00:00:00</td>\n",
              "      <td>0</td>\n",
              "      <td>88361</td>\n",
              "      <td>2016-04-05 18:45:11</td>\n",
              "    </tr>\n",
              "    <tr>\n",
              "      <th>19</th>\n",
              "      <td>2016-04-01 22:55:47</td>\n",
              "      <td>1850</td>\n",
              "      <td>bus</td>\n",
              "      <td>2004</td>\n",
              "      <td>manual</td>\n",
              "      <td>102</td>\n",
              "      <td>a_klasse</td>\n",
              "      <td>150000</td>\n",
              "      <td>1</td>\n",
              "      <td>petrol</td>\n",
              "      <td>mercedes_benz</td>\n",
              "      <td>no</td>\n",
              "      <td>2016-04-01 00:00:00</td>\n",
              "      <td>0</td>\n",
              "      <td>49565</td>\n",
              "      <td>2016-04-05 22:46:05</td>\n",
              "    </tr>\n",
              "  </tbody>\n",
              "</table>\n",
              "</div>"
            ],
            "text/plain": [
              "            DateCrawled  Price  VehicleType  RegistrationYear Gearbox  Power  \\\n",
              "0   2016-03-24 11:52:17    480          NaN              1993  manual      0   \n",
              "1   2016-03-24 10:58:45  18300        coupe              2011  manual    190   \n",
              "2   2016-03-14 12:52:21   9800          suv              2004    auto    163   \n",
              "3   2016-03-17 16:54:04   1500        small              2001  manual     75   \n",
              "4   2016-03-31 17:25:20   3600        small              2008  manual     69   \n",
              "5   2016-04-04 17:36:23    650        sedan              1995  manual    102   \n",
              "6   2016-04-01 20:48:51   2200  convertible              2004  manual    109   \n",
              "7   2016-03-21 18:54:38      0        sedan              1980  manual     50   \n",
              "8   2016-04-04 23:42:13  14500          bus              2014  manual    125   \n",
              "9   2016-03-17 10:53:50    999        small              1998  manual    101   \n",
              "10  2016-03-26 19:54:18   2000        sedan              2004  manual    105   \n",
              "11  2016-04-07 10:06:22   2799        wagon              2005  manual    140   \n",
              "12  2016-03-15 22:49:09    999        wagon              1995  manual    115   \n",
              "13  2016-03-21 21:37:40   2500        wagon              2004  manual    131   \n",
              "14  2016-03-21 12:57:01  17999          suv              2011  manual    190   \n",
              "15  2016-03-11 21:39:15    450        small              1910     NaN      0   \n",
              "16  2016-04-01 12:46:46    300          NaN              2016     NaN     60   \n",
              "17  2016-03-20 10:25:19   1750        small              2004    auto     75   \n",
              "18  2016-03-23 15:48:05   7550          bus              2007  manual    136   \n",
              "19  2016-04-01 22:55:47   1850          bus              2004  manual    102   \n",
              "\n",
              "       Model  Kilometer  RegistrationMonth  FuelType          Brand Repaired  \\\n",
              "0       golf     150000                  0    petrol     volkswagen      NaN   \n",
              "1        NaN     125000                  5  gasoline           audi      yes   \n",
              "2      grand     125000                  8  gasoline           jeep      NaN   \n",
              "3       golf     150000                  6    petrol     volkswagen       no   \n",
              "4      fabia      90000                  7  gasoline          skoda       no   \n",
              "5        3er     150000                 10    petrol            bmw      yes   \n",
              "6    2_reihe     150000                  8    petrol        peugeot       no   \n",
              "7      other      40000                  7    petrol     volkswagen       no   \n",
              "8      c_max      30000                  8    petrol           ford      NaN   \n",
              "9       golf     150000                  0       NaN     volkswagen      NaN   \n",
              "10   3_reihe     150000                 12    petrol          mazda       no   \n",
              "11    passat     150000                 12  gasoline     volkswagen      yes   \n",
              "12    passat     150000                 11    petrol     volkswagen      NaN   \n",
              "13    passat     150000                  2       NaN     volkswagen       no   \n",
              "14    navara      70000                  3  gasoline         nissan       no   \n",
              "15        ka       5000                  0    petrol           ford      NaN   \n",
              "16      polo     150000                  0    petrol     volkswagen      NaN   \n",
              "17    twingo     150000                  2    petrol        renault       no   \n",
              "18     c_max     150000                  6  gasoline           ford       no   \n",
              "19  a_klasse     150000                  1    petrol  mercedes_benz       no   \n",
              "\n",
              "            DateCreated  NumberOfPictures  PostalCode             LastSeen  \n",
              "0   2016-03-24 00:00:00                 0       70435  2016-04-07 03:16:57  \n",
              "1   2016-03-24 00:00:00                 0       66954  2016-04-07 01:46:50  \n",
              "2   2016-03-14 00:00:00                 0       90480  2016-04-05 12:47:46  \n",
              "3   2016-03-17 00:00:00                 0       91074  2016-03-17 17:40:17  \n",
              "4   2016-03-31 00:00:00                 0       60437  2016-04-06 10:17:21  \n",
              "5   2016-04-04 00:00:00                 0       33775  2016-04-06 19:17:07  \n",
              "6   2016-04-01 00:00:00                 0       67112  2016-04-05 18:18:39  \n",
              "7   2016-03-21 00:00:00                 0       19348  2016-03-25 16:47:58  \n",
              "8   2016-04-04 00:00:00                 0       94505  2016-04-04 23:42:13  \n",
              "9   2016-03-17 00:00:00                 0       27472  2016-03-31 17:17:06  \n",
              "10  2016-03-26 00:00:00                 0       96224  2016-04-06 10:45:34  \n",
              "11  2016-04-07 00:00:00                 0       57290  2016-04-07 10:25:17  \n",
              "12  2016-03-15 00:00:00                 0       37269  2016-04-01 13:16:16  \n",
              "13  2016-03-21 00:00:00                 0       90762  2016-03-23 02:50:54  \n",
              "14  2016-03-21 00:00:00                 0        4177  2016-04-06 07:45:42  \n",
              "15  2016-03-11 00:00:00                 0       24148  2016-03-19 08:46:47  \n",
              "16  2016-04-01 00:00:00                 0       38871  2016-04-01 12:46:46  \n",
              "17  2016-03-20 00:00:00                 0       65599  2016-04-06 13:16:07  \n",
              "18  2016-03-23 00:00:00                 0       88361  2016-04-05 18:45:11  \n",
              "19  2016-04-01 00:00:00                 0       49565  2016-04-05 22:46:05  "
            ]
          },
          "metadata": {},
          "output_type": "display_data"
        },
        {
          "name": "stdout",
          "output_type": "stream",
          "text": [
            "<class 'pandas.core.frame.DataFrame'>\n",
            "RangeIndex: 354369 entries, 0 to 354368\n",
            "Data columns (total 16 columns):\n",
            " #   Column             Non-Null Count   Dtype \n",
            "---  ------             --------------   ----- \n",
            " 0   DateCrawled        354369 non-null  object\n",
            " 1   Price              354369 non-null  int64 \n",
            " 2   VehicleType        316879 non-null  object\n",
            " 3   RegistrationYear   354369 non-null  int64 \n",
            " 4   Gearbox            334536 non-null  object\n",
            " 5   Power              354369 non-null  int64 \n",
            " 6   Model              334664 non-null  object\n",
            " 7   Kilometer          354369 non-null  int64 \n",
            " 8   RegistrationMonth  354369 non-null  int64 \n",
            " 9   FuelType           321474 non-null  object\n",
            " 10  Brand              354369 non-null  object\n",
            " 11  Repaired           283215 non-null  object\n",
            " 12  DateCreated        354369 non-null  object\n",
            " 13  NumberOfPictures   354369 non-null  int64 \n",
            " 14  PostalCode         354369 non-null  int64 \n",
            " 15  LastSeen           354369 non-null  object\n",
            "dtypes: int64(7), object(9)\n",
            "memory usage: 43.3+ MB\n",
            "None\n"
          ]
        }
      ],
      "source": [
        "path_pract = Path('/datasets/autos.csv')\n",
        "path_google = Path('/content/drive/MyDrive/datasets/autos.csv')\n",
        "\n",
        "if path_pract.exists():\n",
        "    autos = pd.read_csv(path_pract)\n",
        "elif path_google.exists():\n",
        "    autos = pd.read_csv(path_google)\n",
        "else:\n",
        "    raise FileNotFoundError('Both paths do not exist')\n",
        "\n",
        "display(autos.head(20))\n",
        "print(autos.info())"
      ]
    },
    {
      "cell_type": "markdown",
      "metadata": {
        "id": "XAPL2FVu5EDj"
      },
      "source": [
        "Таблица адекватно отображается.\n",
        "Сразу можно отметить:\n",
        "* для целей определения цены не имеют значения столбцы `DateCrawled`, `RegistrationMonth`, `DateCreated`, `PostalCode`, `LastSeen`;\n",
        "* большое число пропусков в некоторых столбцах (`VehicleType`, `Gearbox`, `Model`, `FuelType`, `Repaired`);\n",
        "* тип данных в столбцах с датами не соответствует ожидаемому `datetime`;\n",
        "* присутствуют аномальные значения (0 в `Price`, `Power`, `RegistrationMonth`).\n",
        "\n"
      ]
    },
    {
      "cell_type": "markdown",
      "source": [
        "### 1.3. Предобработка\n"
      ],
      "metadata": {
        "id": "aPEGifB57AZA"
      }
    },
    {
      "cell_type": "markdown",
      "source": [
        "#### 1.3.1. Дубликаты\n",
        "Определим количество явных дубликатов в таблице. Скрытые дубликаты, если таковые обнаружатся в ходе исследовательского анализа, обработаем позже в пайплайне."
      ],
      "metadata": {
        "id": "Jzos-4ym7B5x"
      }
    },
    {
      "cell_type": "code",
      "execution_count": null,
      "metadata": {
        "id": "gKjM1Vu95EDj",
        "outputId": "6dde2753-49dd-4ae3-ec33-e3490255c37d"
      },
      "outputs": [
        {
          "name": "stdout",
          "output_type": "stream",
          "text": [
            "4\n"
          ]
        }
      ],
      "source": [
        "print(autos.duplicated().sum())"
      ]
    },
    {
      "cell_type": "markdown",
      "metadata": {
        "id": "PCTVNOYw5EDj"
      },
      "source": [
        "Дубликатов мало, можно их удалить."
      ]
    },
    {
      "cell_type": "code",
      "execution_count": null,
      "metadata": {
        "id": "lY2_iBek5EDj",
        "outputId": "6b9ee3ce-5d27-4ccd-831a-35df4e3d8f1b"
      },
      "outputs": [
        {
          "name": "stdout",
          "output_type": "stream",
          "text": [
            "0\n"
          ]
        }
      ],
      "source": [
        "autos = autos.drop_duplicates().reset_index(drop=True)\n",
        "print(autos.duplicated().sum())"
      ]
    },
    {
      "cell_type": "markdown",
      "metadata": {
        "id": "JUoeENRJ5EDj"
      },
      "source": [
        "Удаление прошло нормально.\n",
        "#### 1.3.2. Изменение типов данных\n",
        "Столбцы `DateCreated` и `LastSeen` не нужны для предсказания цены, мы не будем их использовать в обучении, поэтому преобразовывать нет смысла.\n",
        "Приведем дату скачивания к соответствующему типу данных и проверим, когда выгружены данные, чтобы убедиться в их однородности."
      ]
    },
    {
      "cell_type": "code",
      "execution_count": null,
      "metadata": {
        "id": "3P_Z9PWK5EDk",
        "outputId": "db7f9777-c1c9-463f-a70d-e8fc47a90caa"
      },
      "outputs": [
        {
          "name": "stdout",
          "output_type": "stream",
          "text": [
            "2016    354365\n",
            "Name: DateCrawled, dtype: int64\n"
          ]
        }
      ],
      "source": [
        "autos['DateCrawled'] = pd.to_datetime(autos['DateCrawled'], format='%Y-%m-%d %H:%M:%S')\n",
        "print(pd.DatetimeIndex(autos['DateCrawled']).year.value_counts())"
      ]
    },
    {
      "cell_type": "markdown",
      "metadata": {
        "id": "0KbQORG45EDk"
      },
      "source": [
        "Все данные выгружены в 2016 году. Можно оставить только столбцы со значимыми данными и приступить к анализу."
      ]
    },
    {
      "cell_type": "code",
      "execution_count": null,
      "metadata": {
        "id": "EXTAELi-5EDk"
      },
      "outputs": [],
      "source": [
        "autos = autos[['Price',\n",
        "              'VehicleType',\n",
        "              'RegistrationYear',\n",
        "              'Gearbox',\n",
        "              'Power',\n",
        "              'Model',\n",
        "              'Kilometer',\n",
        "              'FuelType',\n",
        "              'Brand',\n",
        "              'Repaired',\n",
        "              'NumberOfPictures']]"
      ]
    },
    {
      "cell_type": "markdown",
      "metadata": {
        "id": "cACNVofW5EDk"
      },
      "source": [
        "### 1.4. Исследовательский анализ и обработка\n"
      ]
    },
    {
      "cell_type": "markdown",
      "source": [
        "#### 1.4.1. Категориальные признаки"
      ],
      "metadata": {
        "id": "ibbbhWGS7iFA"
      }
    },
    {
      "cell_type": "code",
      "execution_count": null,
      "metadata": {
        "id": "Dm0-G1kP5EDk",
        "outputId": "59bff42b-d935-493b-f0ad-e2a86b3c2511"
      },
      "outputs": [
        {
          "data": {
            "image/png": "[encoded data removed]",
            "text/plain": [
              "<Figure size 864x864 with 1 Axes>"
            ]
          },
          "metadata": {
            "needs_background": "light"
          },
          "output_type": "display_data"
        },
        {
          "data": {
            "text/html": [
              "<div>\n",
              "<style scoped>\n",
              "    .dataframe tbody tr th:only-of-type {\n",
              "        vertical-align: middle;\n",
              "    }\n",
              "\n",
              "    .dataframe tbody tr th {\n",
              "        vertical-align: top;\n",
              "    }\n",
              "\n",
              "    .dataframe thead th {\n",
              "        text-align: right;\n",
              "    }\n",
              "</style>\n",
              "<table border=\"1\" class=\"dataframe\">\n",
              "  <thead>\n",
              "    <tr style=\"text-align: right;\">\n",
              "      <th></th>\n",
              "      <th>count</th>\n",
              "      <th>proportion</th>\n",
              "    </tr>\n",
              "  </thead>\n",
              "  <tbody>\n",
              "    <tr>\n",
              "      <th>sedan</th>\n",
              "      <td>91457</td>\n",
              "      <td>0.26</td>\n",
              "    </tr>\n",
              "    <tr>\n",
              "      <th>small</th>\n",
              "      <td>79830</td>\n",
              "      <td>0.23</td>\n",
              "    </tr>\n",
              "    <tr>\n",
              "      <th>wagon</th>\n",
              "      <td>65165</td>\n",
              "      <td>0.18</td>\n",
              "    </tr>\n",
              "    <tr>\n",
              "      <th>bus</th>\n",
              "      <td>28775</td>\n",
              "      <td>0.08</td>\n",
              "    </tr>\n",
              "    <tr>\n",
              "      <th>convertible</th>\n",
              "      <td>20203</td>\n",
              "      <td>0.06</td>\n",
              "    </tr>\n",
              "    <tr>\n",
              "      <th>coupe</th>\n",
              "      <td>16161</td>\n",
              "      <td>0.05</td>\n",
              "    </tr>\n",
              "    <tr>\n",
              "      <th>suv</th>\n",
              "      <td>11996</td>\n",
              "      <td>0.03</td>\n",
              "    </tr>\n",
              "    <tr>\n",
              "      <th>other</th>\n",
              "      <td>3288</td>\n",
              "      <td>0.01</td>\n",
              "    </tr>\n",
              "  </tbody>\n",
              "</table>\n",
              "</div>"
            ],
            "text/plain": [
              "             count  proportion\n",
              "sedan        91457        0.26\n",
              "small        79830        0.23\n",
              "wagon        65165        0.18\n",
              "bus          28775        0.08\n",
              "convertible  20203        0.06\n",
              "coupe        16161        0.05\n",
              "suv          11996        0.03\n",
              "other         3288        0.01"
            ]
          },
          "metadata": {},
          "output_type": "display_data"
        },
        {
          "name": "stdout",
          "output_type": "stream",
          "text": [
            "Число пропусков: 37490\n"
          ]
        },
        {
          "data": {
            "image/png": "[encoded data removed]",
            "text/plain": [
              "<Figure size 864x864 with 1 Axes>"
            ]
          },
          "metadata": {
            "needs_background": "light"
          },
          "output_type": "display_data"
        },
        {
          "data": {
            "text/html": [
              "<div>\n",
              "<style scoped>\n",
              "    .dataframe tbody tr th:only-of-type {\n",
              "        vertical-align: middle;\n",
              "    }\n",
              "\n",
              "    .dataframe tbody tr th {\n",
              "        vertical-align: top;\n",
              "    }\n",
              "\n",
              "    .dataframe thead th {\n",
              "        text-align: right;\n",
              "    }\n",
              "</style>\n",
              "<table border=\"1\" class=\"dataframe\">\n",
              "  <thead>\n",
              "    <tr style=\"text-align: right;\">\n",
              "      <th></th>\n",
              "      <th>count</th>\n",
              "      <th>proportion</th>\n",
              "    </tr>\n",
              "  </thead>\n",
              "  <tbody>\n",
              "    <tr>\n",
              "      <th>manual</th>\n",
              "      <td>268249</td>\n",
              "      <td>0.76</td>\n",
              "    </tr>\n",
              "    <tr>\n",
              "      <th>auto</th>\n",
              "      <td>66283</td>\n",
              "      <td>0.19</td>\n",
              "    </tr>\n",
              "  </tbody>\n",
              "</table>\n",
              "</div>"
            ],
            "text/plain": [
              "         count  proportion\n",
              "manual  268249        0.76\n",
              "auto     66283        0.19"
            ]
          },
          "metadata": {},
          "output_type": "display_data"
        },
        {
          "name": "stdout",
          "output_type": "stream",
          "text": [
            "Число пропусков: 19833\n"
          ]
        },
        {
          "data": {
            "image/png": "[encoded data removed]",
            "text/plain": [
              "<Figure size 864x864 with 1 Axes>"
            ]
          },
          "metadata": {
            "needs_background": "light"
          },
          "output_type": "display_data"
        },
        {
          "data": {
            "text/html": [
              "<div>\n",
              "<style scoped>\n",
              "    .dataframe tbody tr th:only-of-type {\n",
              "        vertical-align: middle;\n",
              "    }\n",
              "\n",
              "    .dataframe tbody tr th {\n",
              "        vertical-align: top;\n",
              "    }\n",
              "\n",
              "    .dataframe thead th {\n",
              "        text-align: right;\n",
              "    }\n",
              "</style>\n",
              "<table border=\"1\" class=\"dataframe\">\n",
              "  <thead>\n",
              "    <tr style=\"text-align: right;\">\n",
              "      <th></th>\n",
              "      <th>count</th>\n",
              "      <th>proportion</th>\n",
              "    </tr>\n",
              "  </thead>\n",
              "  <tbody>\n",
              "    <tr>\n",
              "      <th>golf</th>\n",
              "      <td>29232</td>\n",
              "      <td>0.08</td>\n",
              "    </tr>\n",
              "    <tr>\n",
              "      <th>other</th>\n",
              "      <td>24420</td>\n",
              "      <td>0.07</td>\n",
              "    </tr>\n",
              "    <tr>\n",
              "      <th>3er</th>\n",
              "      <td>19761</td>\n",
              "      <td>0.06</td>\n",
              "    </tr>\n",
              "    <tr>\n",
              "      <th>polo</th>\n",
              "      <td>13066</td>\n",
              "      <td>0.04</td>\n",
              "    </tr>\n",
              "    <tr>\n",
              "      <th>corsa</th>\n",
              "      <td>12570</td>\n",
              "      <td>0.04</td>\n",
              "    </tr>\n",
              "    <tr>\n",
              "      <th>...</th>\n",
              "      <td>...</td>\n",
              "      <td>...</td>\n",
              "    </tr>\n",
              "    <tr>\n",
              "      <th>serie_2</th>\n",
              "      <td>8</td>\n",
              "      <td>0.00</td>\n",
              "    </tr>\n",
              "    <tr>\n",
              "      <th>rangerover</th>\n",
              "      <td>4</td>\n",
              "      <td>0.00</td>\n",
              "    </tr>\n",
              "    <tr>\n",
              "      <th>serie_3</th>\n",
              "      <td>4</td>\n",
              "      <td>0.00</td>\n",
              "    </tr>\n",
              "    <tr>\n",
              "      <th>range_rover_evoque</th>\n",
              "      <td>2</td>\n",
              "      <td>0.00</td>\n",
              "    </tr>\n",
              "    <tr>\n",
              "      <th>serie_1</th>\n",
              "      <td>2</td>\n",
              "      <td>0.00</td>\n",
              "    </tr>\n",
              "  </tbody>\n",
              "</table>\n",
              "<p>250 rows × 2 columns</p>\n",
              "</div>"
            ],
            "text/plain": [
              "                    count  proportion\n",
              "golf                29232        0.08\n",
              "other               24420        0.07\n",
              "3er                 19761        0.06\n",
              "polo                13066        0.04\n",
              "corsa               12570        0.04\n",
              "...                   ...         ...\n",
              "serie_2                 8        0.00\n",
              "rangerover              4        0.00\n",
              "serie_3                 4        0.00\n",
              "range_rover_evoque      2        0.00\n",
              "serie_1                 2        0.00\n",
              "\n",
              "[250 rows x 2 columns]"
            ]
          },
          "metadata": {},
          "output_type": "display_data"
        },
        {
          "name": "stdout",
          "output_type": "stream",
          "text": [
            "Число пропусков: 19705\n"
          ]
        },
        {
          "data": {
            "image/png": "[encoded data removed]",
            "text/plain": [
              "<Figure size 864x864 with 1 Axes>"
            ]
          },
          "metadata": {
            "needs_background": "light"
          },
          "output_type": "display_data"
        },
        {
          "data": {
            "text/html": [
              "<div>\n",
              "<style scoped>\n",
              "    .dataframe tbody tr th:only-of-type {\n",
              "        vertical-align: middle;\n",
              "    }\n",
              "\n",
              "    .dataframe tbody tr th {\n",
              "        vertical-align: top;\n",
              "    }\n",
              "\n",
              "    .dataframe thead th {\n",
              "        text-align: right;\n",
              "    }\n",
              "</style>\n",
              "<table border=\"1\" class=\"dataframe\">\n",
              "  <thead>\n",
              "    <tr style=\"text-align: right;\">\n",
              "      <th></th>\n",
              "      <th>count</th>\n",
              "      <th>proportion</th>\n",
              "    </tr>\n",
              "  </thead>\n",
              "  <tbody>\n",
              "    <tr>\n",
              "      <th>petrol</th>\n",
              "      <td>216349</td>\n",
              "      <td>0.61</td>\n",
              "    </tr>\n",
              "    <tr>\n",
              "      <th>gasoline</th>\n",
              "      <td>98719</td>\n",
              "      <td>0.28</td>\n",
              "    </tr>\n",
              "    <tr>\n",
              "      <th>lpg</th>\n",
              "      <td>5310</td>\n",
              "      <td>0.01</td>\n",
              "    </tr>\n",
              "    <tr>\n",
              "      <th>cng</th>\n",
              "      <td>565</td>\n",
              "      <td>0.00</td>\n",
              "    </tr>\n",
              "    <tr>\n",
              "      <th>hybrid</th>\n",
              "      <td>233</td>\n",
              "      <td>0.00</td>\n",
              "    </tr>\n",
              "    <tr>\n",
              "      <th>other</th>\n",
              "      <td>204</td>\n",
              "      <td>0.00</td>\n",
              "    </tr>\n",
              "    <tr>\n",
              "      <th>electric</th>\n",
              "      <td>90</td>\n",
              "      <td>0.00</td>\n",
              "    </tr>\n",
              "  </tbody>\n",
              "</table>\n",
              "</div>"
            ],
            "text/plain": [
              "           count  proportion\n",
              "petrol    216349        0.61\n",
              "gasoline   98719        0.28\n",
              "lpg         5310        0.01\n",
              "cng          565        0.00\n",
              "hybrid       233        0.00\n",
              "other        204        0.00\n",
              "electric      90        0.00"
            ]
          },
          "metadata": {},
          "output_type": "display_data"
        },
        {
          "name": "stdout",
          "output_type": "stream",
          "text": [
            "Число пропусков: 32895\n"
          ]
        },
        {
          "data": {
            "image/png": "[encoded data removed]",
            "text/plain": [
              "<Figure size 864x864 with 1 Axes>"
            ]
          },
          "metadata": {
            "needs_background": "light"
          },
          "output_type": "display_data"
        },
        {
          "data": {
            "text/html": [
              "<div>\n",
              "<style scoped>\n",
              "    .dataframe tbody tr th:only-of-type {\n",
              "        vertical-align: middle;\n",
              "    }\n",
              "\n",
              "    .dataframe tbody tr th {\n",
              "        vertical-align: top;\n",
              "    }\n",
              "\n",
              "    .dataframe thead th {\n",
              "        text-align: right;\n",
              "    }\n",
              "</style>\n",
              "<table border=\"1\" class=\"dataframe\">\n",
              "  <thead>\n",
              "    <tr style=\"text-align: right;\">\n",
              "      <th></th>\n",
              "      <th>count</th>\n",
              "      <th>proportion</th>\n",
              "    </tr>\n",
              "  </thead>\n",
              "  <tbody>\n",
              "    <tr>\n",
              "      <th>volkswagen</th>\n",
              "      <td>77012</td>\n",
              "      <td>0.22</td>\n",
              "    </tr>\n",
              "    <tr>\n",
              "      <th>opel</th>\n",
              "      <td>39931</td>\n",
              "      <td>0.11</td>\n",
              "    </tr>\n",
              "    <tr>\n",
              "      <th>bmw</th>\n",
              "      <td>36914</td>\n",
              "      <td>0.10</td>\n",
              "    </tr>\n",
              "    <tr>\n",
              "      <th>mercedes_benz</th>\n",
              "      <td>32044</td>\n",
              "      <td>0.09</td>\n",
              "    </tr>\n",
              "    <tr>\n",
              "      <th>audi</th>\n",
              "      <td>29456</td>\n",
              "      <td>0.08</td>\n",
              "    </tr>\n",
              "    <tr>\n",
              "      <th>ford</th>\n",
              "      <td>25179</td>\n",
              "      <td>0.07</td>\n",
              "    </tr>\n",
              "    <tr>\n",
              "      <th>renault</th>\n",
              "      <td>17927</td>\n",
              "      <td>0.05</td>\n",
              "    </tr>\n",
              "    <tr>\n",
              "      <th>peugeot</th>\n",
              "      <td>10998</td>\n",
              "      <td>0.03</td>\n",
              "    </tr>\n",
              "    <tr>\n",
              "      <th>fiat</th>\n",
              "      <td>9643</td>\n",
              "      <td>0.03</td>\n",
              "    </tr>\n",
              "    <tr>\n",
              "      <th>seat</th>\n",
              "      <td>6907</td>\n",
              "      <td>0.02</td>\n",
              "    </tr>\n",
              "    <tr>\n",
              "      <th>mazda</th>\n",
              "      <td>5615</td>\n",
              "      <td>0.02</td>\n",
              "    </tr>\n",
              "    <tr>\n",
              "      <th>skoda</th>\n",
              "      <td>5500</td>\n",
              "      <td>0.02</td>\n",
              "    </tr>\n",
              "    <tr>\n",
              "      <th>smart</th>\n",
              "      <td>5246</td>\n",
              "      <td>0.01</td>\n",
              "    </tr>\n",
              "    <tr>\n",
              "      <th>citroen</th>\n",
              "      <td>5148</td>\n",
              "      <td>0.01</td>\n",
              "    </tr>\n",
              "    <tr>\n",
              "      <th>nissan</th>\n",
              "      <td>4941</td>\n",
              "      <td>0.01</td>\n",
              "    </tr>\n",
              "    <tr>\n",
              "      <th>toyota</th>\n",
              "      <td>4606</td>\n",
              "      <td>0.01</td>\n",
              "    </tr>\n",
              "    <tr>\n",
              "      <th>hyundai</th>\n",
              "      <td>3587</td>\n",
              "      <td>0.01</td>\n",
              "    </tr>\n",
              "    <tr>\n",
              "      <th>sonstige_autos</th>\n",
              "      <td>3374</td>\n",
              "      <td>0.01</td>\n",
              "    </tr>\n",
              "    <tr>\n",
              "      <th>volvo</th>\n",
              "      <td>3210</td>\n",
              "      <td>0.01</td>\n",
              "    </tr>\n",
              "    <tr>\n",
              "      <th>mini</th>\n",
              "      <td>3202</td>\n",
              "      <td>0.01</td>\n",
              "    </tr>\n",
              "    <tr>\n",
              "      <th>mitsubishi</th>\n",
              "      <td>3022</td>\n",
              "      <td>0.01</td>\n",
              "    </tr>\n",
              "    <tr>\n",
              "      <th>honda</th>\n",
              "      <td>2817</td>\n",
              "      <td>0.01</td>\n",
              "    </tr>\n",
              "    <tr>\n",
              "      <th>kia</th>\n",
              "      <td>2465</td>\n",
              "      <td>0.01</td>\n",
              "    </tr>\n",
              "    <tr>\n",
              "      <th>suzuki</th>\n",
              "      <td>2322</td>\n",
              "      <td>0.01</td>\n",
              "    </tr>\n",
              "    <tr>\n",
              "      <th>alfa_romeo</th>\n",
              "      <td>2314</td>\n",
              "      <td>0.01</td>\n",
              "    </tr>\n",
              "    <tr>\n",
              "      <th>chevrolet</th>\n",
              "      <td>1754</td>\n",
              "      <td>0.00</td>\n",
              "    </tr>\n",
              "    <tr>\n",
              "      <th>chrysler</th>\n",
              "      <td>1439</td>\n",
              "      <td>0.00</td>\n",
              "    </tr>\n",
              "    <tr>\n",
              "      <th>dacia</th>\n",
              "      <td>900</td>\n",
              "      <td>0.00</td>\n",
              "    </tr>\n",
              "    <tr>\n",
              "      <th>daihatsu</th>\n",
              "      <td>806</td>\n",
              "      <td>0.00</td>\n",
              "    </tr>\n",
              "    <tr>\n",
              "      <th>subaru</th>\n",
              "      <td>762</td>\n",
              "      <td>0.00</td>\n",
              "    </tr>\n",
              "    <tr>\n",
              "      <th>porsche</th>\n",
              "      <td>758</td>\n",
              "      <td>0.00</td>\n",
              "    </tr>\n",
              "    <tr>\n",
              "      <th>jeep</th>\n",
              "      <td>677</td>\n",
              "      <td>0.00</td>\n",
              "    </tr>\n",
              "    <tr>\n",
              "      <th>trabant</th>\n",
              "      <td>589</td>\n",
              "      <td>0.00</td>\n",
              "    </tr>\n",
              "    <tr>\n",
              "      <th>land_rover</th>\n",
              "      <td>545</td>\n",
              "      <td>0.00</td>\n",
              "    </tr>\n",
              "    <tr>\n",
              "      <th>daewoo</th>\n",
              "      <td>542</td>\n",
              "      <td>0.00</td>\n",
              "    </tr>\n",
              "    <tr>\n",
              "      <th>saab</th>\n",
              "      <td>526</td>\n",
              "      <td>0.00</td>\n",
              "    </tr>\n",
              "    <tr>\n",
              "      <th>jaguar</th>\n",
              "      <td>505</td>\n",
              "      <td>0.00</td>\n",
              "    </tr>\n",
              "    <tr>\n",
              "      <th>rover</th>\n",
              "      <td>486</td>\n",
              "      <td>0.00</td>\n",
              "    </tr>\n",
              "    <tr>\n",
              "      <th>lancia</th>\n",
              "      <td>471</td>\n",
              "      <td>0.00</td>\n",
              "    </tr>\n",
              "    <tr>\n",
              "      <th>lada</th>\n",
              "      <td>225</td>\n",
              "      <td>0.00</td>\n",
              "    </tr>\n",
              "  </tbody>\n",
              "</table>\n",
              "</div>"
            ],
            "text/plain": [
              "                count  proportion\n",
              "volkswagen      77012        0.22\n",
              "opel            39931        0.11\n",
              "bmw             36914        0.10\n",
              "mercedes_benz   32044        0.09\n",
              "audi            29456        0.08\n",
              "ford            25179        0.07\n",
              "renault         17927        0.05\n",
              "peugeot         10998        0.03\n",
              "fiat             9643        0.03\n",
              "seat             6907        0.02\n",
              "mazda            5615        0.02\n",
              "skoda            5500        0.02\n",
              "smart            5246        0.01\n",
              "citroen          5148        0.01\n",
              "nissan           4941        0.01\n",
              "toyota           4606        0.01\n",
              "hyundai          3587        0.01\n",
              "sonstige_autos   3374        0.01\n",
              "volvo            3210        0.01\n",
              "mini             3202        0.01\n",
              "mitsubishi       3022        0.01\n",
              "honda            2817        0.01\n",
              "kia              2465        0.01\n",
              "suzuki           2322        0.01\n",
              "alfa_romeo       2314        0.01\n",
              "chevrolet        1754        0.00\n",
              "chrysler         1439        0.00\n",
              "dacia             900        0.00\n",
              "daihatsu          806        0.00\n",
              "subaru            762        0.00\n",
              "porsche           758        0.00\n",
              "jeep              677        0.00\n",
              "trabant           589        0.00\n",
              "land_rover        545        0.00\n",
              "daewoo            542        0.00\n",
              "saab              526        0.00\n",
              "jaguar            505        0.00\n",
              "rover             486        0.00\n",
              "lancia            471        0.00\n",
              "lada              225        0.00"
            ]
          },
          "metadata": {},
          "output_type": "display_data"
        },
        {
          "name": "stdout",
          "output_type": "stream",
          "text": [
            "Число пропусков: 0\n"
          ]
        },
        {
          "data": {
            "image/png": "[encoded data removed]",
            "text/plain": [
              "<Figure size 864x864 with 1 Axes>"
            ]
          },
          "metadata": {
            "needs_background": "light"
          },
          "output_type": "display_data"
        },
        {
          "data": {
            "text/html": [
              "<div>\n",
              "<style scoped>\n",
              "    .dataframe tbody tr th:only-of-type {\n",
              "        vertical-align: middle;\n",
              "    }\n",
              "\n",
              "    .dataframe tbody tr th {\n",
              "        vertical-align: top;\n",
              "    }\n",
              "\n",
              "    .dataframe thead th {\n",
              "        text-align: right;\n",
              "    }\n",
              "</style>\n",
              "<table border=\"1\" class=\"dataframe\">\n",
              "  <thead>\n",
              "    <tr style=\"text-align: right;\">\n",
              "      <th></th>\n",
              "      <th>count</th>\n",
              "      <th>proportion</th>\n",
              "    </tr>\n",
              "  </thead>\n",
              "  <tbody>\n",
              "    <tr>\n",
              "      <th>no</th>\n",
              "      <td>247158</td>\n",
              "      <td>0.7</td>\n",
              "    </tr>\n",
              "    <tr>\n",
              "      <th>yes</th>\n",
              "      <td>36053</td>\n",
              "      <td>0.1</td>\n",
              "    </tr>\n",
              "  </tbody>\n",
              "</table>\n",
              "</div>"
            ],
            "text/plain": [
              "      count  proportion\n",
              "no   247158         0.7\n",
              "yes   36053         0.1"
            ]
          },
          "metadata": {},
          "output_type": "display_data"
        },
        {
          "name": "stdout",
          "output_type": "stream",
          "text": [
            "Число пропусков: 71154\n"
          ]
        },
        {
          "data": {
            "image/png": "[encoded data removed]",
            "text/plain": [
              "<Figure size 864x864 with 1 Axes>"
            ]
          },
          "metadata": {
            "needs_background": "light"
          },
          "output_type": "display_data"
        },
        {
          "data": {
            "text/html": [
              "<div>\n",
              "<style scoped>\n",
              "    .dataframe tbody tr th:only-of-type {\n",
              "        vertical-align: middle;\n",
              "    }\n",
              "\n",
              "    .dataframe tbody tr th {\n",
              "        vertical-align: top;\n",
              "    }\n",
              "\n",
              "    .dataframe thead th {\n",
              "        text-align: right;\n",
              "    }\n",
              "</style>\n",
              "<table border=\"1\" class=\"dataframe\">\n",
              "  <thead>\n",
              "    <tr style=\"text-align: right;\">\n",
              "      <th></th>\n",
              "      <th>count</th>\n",
              "      <th>proportion</th>\n",
              "    </tr>\n",
              "  </thead>\n",
              "  <tbody>\n",
              "    <tr>\n",
              "      <th>0</th>\n",
              "      <td>354365</td>\n",
              "      <td>1.0</td>\n",
              "    </tr>\n",
              "  </tbody>\n",
              "</table>\n",
              "</div>"
            ],
            "text/plain": [
              "    count  proportion\n",
              "0  354365         1.0"
            ]
          },
          "metadata": {},
          "output_type": "display_data"
        },
        {
          "name": "stdout",
          "output_type": "stream",
          "text": [
            "Число пропусков: 0\n"
          ]
        }
      ],
      "source": [
        "cat_cols = ['VehicleType',\n",
        "            'Gearbox',\n",
        "            'Model',\n",
        "            'FuelType',\n",
        "            'Brand',\n",
        "            'Repaired',\n",
        "            'NumberOfPictures']\n",
        "for col in cat_cols:\n",
        "    show_cat(autos, col)"
      ]
    },
    {
      "cell_type": "markdown",
      "metadata": {
        "id": "ZUpBMPSE5EDk"
      },
      "source": [
        "Видим, что:\n",
        "* скрытых дубликатов нет (возможно, за исключением столбца `Model`, в котором слишком много уникальных значений, мешающих адекватной визуализации);\n",
        "* столбец `NumberOfPictures` не информативен, его можно не включать во входные признаки;\n",
        "* пропуски в столбце `Repaired` нельзя удалить из-за большого количества и невозможно восстановить на основании других признаков, поэтому имеет смысл заменить \"заглушкой\" `unknown`;\n",
        "* пропуски в столбце `Model` можно заменить модой по `Brand`, а пропуски в других столбцах – уже на основании `Model`."
      ]
    },
    {
      "cell_type": "code",
      "execution_count": null,
      "metadata": {
        "id": "PRvH7PzR5EDk",
        "outputId": "cb2ad2ea-4cdb-4cbc-d314-8a7659d763f7"
      },
      "outputs": [
        {
          "name": "stdout",
          "output_type": "stream",
          "text": [
            "19705\n"
          ]
        }
      ],
      "source": [
        "for b in autos['Brand'].unique():\n",
        "    autos.loc[\n",
        "        (autos['Brand'] == b) & (autos['Model'].isna()),\n",
        "        'Model'] = \\\n",
        "    autos.loc[\n",
        "        (autos['Brand'] == b) & (autos['Model'] != 'Nan'),\n",
        "        'Model'].mode()\n",
        "print(autos['Model'].isna().sum())"
      ]
    },
    {
      "cell_type": "markdown",
      "metadata": {
        "id": "0Ufre7Ns5EDk"
      },
      "source": [
        "Осталось меньше 5 тысяч пропусков в столбце `Model`, их можно удалить, особенно если в этих строках часто оказываются пропущены и другие столбцы."
      ]
    },
    {
      "cell_type": "code",
      "execution_count": null,
      "metadata": {
        "id": "KJlohwi75EDk",
        "outputId": "69bd53ee-4481-4776-fdb3-9c668cbb4c81"
      },
      "outputs": [
        {
          "name": "stdout",
          "output_type": "stream",
          "text": [
            "<class 'pandas.core.frame.DataFrame'>\n",
            "Int64Index: 19705 entries, 1 to 354361\n",
            "Data columns (total 11 columns):\n",
            " #   Column            Non-Null Count  Dtype \n",
            "---  ------            --------------  ----- \n",
            " 0   Price             19705 non-null  int64 \n",
            " 1   VehicleType       12877 non-null  object\n",
            " 2   RegistrationYear  19705 non-null  int64 \n",
            " 3   Gearbox           15574 non-null  object\n",
            " 4   Power             19705 non-null  int64 \n",
            " 5   Model             0 non-null      object\n",
            " 6   Kilometer         19705 non-null  int64 \n",
            " 7   FuelType          12542 non-null  object\n",
            " 8   Brand             19705 non-null  object\n",
            " 9   Repaired          10651 non-null  object\n",
            " 10  NumberOfPictures  19705 non-null  int64 \n",
            "dtypes: int64(5), object(6)\n",
            "memory usage: 1.8+ MB\n"
          ]
        },
        {
          "data": {
            "text/plain": [
              "None"
            ]
          },
          "metadata": {},
          "output_type": "display_data"
        }
      ],
      "source": [
        "display(autos.loc[autos['Model'].isna()].info())"
      ]
    },
    {
      "cell_type": "code",
      "execution_count": null,
      "metadata": {
        "id": "xy7xi6hK5EDl",
        "outputId": "c85ffcfe-2d9d-4b5b-cf29-d45146d0929d"
      },
      "outputs": [
        {
          "name": "stdout",
          "output_type": "stream",
          "text": [
            "<class 'pandas.core.frame.DataFrame'>\n",
            "Int64Index: 334660 entries, 0 to 354364\n",
            "Data columns (total 11 columns):\n",
            " #   Column            Non-Null Count   Dtype \n",
            "---  ------            --------------   ----- \n",
            " 0   Price             334660 non-null  int64 \n",
            " 1   VehicleType       303998 non-null  object\n",
            " 2   RegistrationYear  334660 non-null  int64 \n",
            " 3   Gearbox           318958 non-null  object\n",
            " 4   Power             334660 non-null  int64 \n",
            " 5   Model             334660 non-null  object\n",
            " 6   Kilometer         334660 non-null  int64 \n",
            " 7   FuelType          308928 non-null  object\n",
            " 8   Brand             334660 non-null  object\n",
            " 9   Repaired          272560 non-null  object\n",
            " 10  NumberOfPictures  334660 non-null  int64 \n",
            "dtypes: int64(5), object(6)\n",
            "memory usage: 30.6+ MB\n",
            "None\n"
          ]
        }
      ],
      "source": [
        "autos = autos.dropna(subset=['Model'])\n",
        "print(autos.info())"
      ]
    },
    {
      "cell_type": "code",
      "execution_count": null,
      "metadata": {
        "id": "S1Mrt0Gu5EDl",
        "outputId": "ecd20f87-cdb3-4885-c986-78bf25001355"
      },
      "outputs": [
        {
          "data": {
            "image/png": "[encoded data removed]",
            "text/plain": [
              "<Figure size 864x864 with 1 Axes>"
            ]
          },
          "metadata": {
            "needs_background": "light"
          },
          "output_type": "display_data"
        },
        {
          "data": {
            "text/html": [
              "<div>\n",
              "<style scoped>\n",
              "    .dataframe tbody tr th:only-of-type {\n",
              "        vertical-align: middle;\n",
              "    }\n",
              "\n",
              "    .dataframe tbody tr th {\n",
              "        vertical-align: top;\n",
              "    }\n",
              "\n",
              "    .dataframe thead th {\n",
              "        text-align: right;\n",
              "    }\n",
              "</style>\n",
              "<table border=\"1\" class=\"dataframe\">\n",
              "  <thead>\n",
              "    <tr style=\"text-align: right;\">\n",
              "      <th></th>\n",
              "      <th>count</th>\n",
              "      <th>proportion</th>\n",
              "    </tr>\n",
              "  </thead>\n",
              "  <tbody>\n",
              "    <tr>\n",
              "      <th>sedan</th>\n",
              "      <td>88120</td>\n",
              "      <td>0.26</td>\n",
              "    </tr>\n",
              "    <tr>\n",
              "      <th>small</th>\n",
              "      <td>76493</td>\n",
              "      <td>0.23</td>\n",
              "    </tr>\n",
              "    <tr>\n",
              "      <th>wagon</th>\n",
              "      <td>62995</td>\n",
              "      <td>0.19</td>\n",
              "    </tr>\n",
              "    <tr>\n",
              "      <th>bus</th>\n",
              "      <td>27794</td>\n",
              "      <td>0.08</td>\n",
              "    </tr>\n",
              "    <tr>\n",
              "      <th>convertible</th>\n",
              "      <td>19319</td>\n",
              "      <td>0.06</td>\n",
              "    </tr>\n",
              "    <tr>\n",
              "      <th>coupe</th>\n",
              "      <td>15237</td>\n",
              "      <td>0.05</td>\n",
              "    </tr>\n",
              "    <tr>\n",
              "      <th>suv</th>\n",
              "      <td>11237</td>\n",
              "      <td>0.03</td>\n",
              "    </tr>\n",
              "    <tr>\n",
              "      <th>other</th>\n",
              "      <td>2804</td>\n",
              "      <td>0.01</td>\n",
              "    </tr>\n",
              "  </tbody>\n",
              "</table>\n",
              "</div>"
            ],
            "text/plain": [
              "             count  proportion\n",
              "sedan        88120        0.26\n",
              "small        76493        0.23\n",
              "wagon        62995        0.19\n",
              "bus          27794        0.08\n",
              "convertible  19319        0.06\n",
              "coupe        15237        0.05\n",
              "suv          11237        0.03\n",
              "other         2804        0.01"
            ]
          },
          "metadata": {},
          "output_type": "display_data"
        },
        {
          "name": "stdout",
          "output_type": "stream",
          "text": [
            "Число пропусков: 30661\n"
          ]
        },
        {
          "data": {
            "image/png": "[encoded data removed]",
            "text/plain": [
              "<Figure size 864x864 with 1 Axes>"
            ]
          },
          "metadata": {
            "needs_background": "light"
          },
          "output_type": "display_data"
        },
        {
          "data": {
            "text/html": [
              "<div>\n",
              "<style scoped>\n",
              "    .dataframe tbody tr th:only-of-type {\n",
              "        vertical-align: middle;\n",
              "    }\n",
              "\n",
              "    .dataframe tbody tr th {\n",
              "        vertical-align: top;\n",
              "    }\n",
              "\n",
              "    .dataframe thead th {\n",
              "        text-align: right;\n",
              "    }\n",
              "</style>\n",
              "<table border=\"1\" class=\"dataframe\">\n",
              "  <thead>\n",
              "    <tr style=\"text-align: right;\">\n",
              "      <th></th>\n",
              "      <th>count</th>\n",
              "      <th>proportion</th>\n",
              "    </tr>\n",
              "  </thead>\n",
              "  <tbody>\n",
              "    <tr>\n",
              "      <th>manual</th>\n",
              "      <td>255922</td>\n",
              "      <td>0.76</td>\n",
              "    </tr>\n",
              "    <tr>\n",
              "      <th>auto</th>\n",
              "      <td>63036</td>\n",
              "      <td>0.19</td>\n",
              "    </tr>\n",
              "  </tbody>\n",
              "</table>\n",
              "</div>"
            ],
            "text/plain": [
              "         count  proportion\n",
              "manual  255922        0.76\n",
              "auto     63036        0.19"
            ]
          },
          "metadata": {},
          "output_type": "display_data"
        },
        {
          "name": "stdout",
          "output_type": "stream",
          "text": [
            "Число пропусков: 15702\n"
          ]
        },
        {
          "data": {
            "image/png": "[encoded data removed]",
            "text/plain": [
              "<Figure size 864x864 with 1 Axes>"
            ]
          },
          "metadata": {
            "needs_background": "light"
          },
          "output_type": "display_data"
        },
        {
          "data": {
            "text/html": [
              "<div>\n",
              "<style scoped>\n",
              "    .dataframe tbody tr th:only-of-type {\n",
              "        vertical-align: middle;\n",
              "    }\n",
              "\n",
              "    .dataframe tbody tr th {\n",
              "        vertical-align: top;\n",
              "    }\n",
              "\n",
              "    .dataframe thead th {\n",
              "        text-align: right;\n",
              "    }\n",
              "</style>\n",
              "<table border=\"1\" class=\"dataframe\">\n",
              "  <thead>\n",
              "    <tr style=\"text-align: right;\">\n",
              "      <th></th>\n",
              "      <th>count</th>\n",
              "      <th>proportion</th>\n",
              "    </tr>\n",
              "  </thead>\n",
              "  <tbody>\n",
              "    <tr>\n",
              "      <th>petrol</th>\n",
              "      <td>228193</td>\n",
              "      <td>0.68</td>\n",
              "    </tr>\n",
              "    <tr>\n",
              "      <th>gasoline</th>\n",
              "      <td>100554</td>\n",
              "      <td>0.30</td>\n",
              "    </tr>\n",
              "    <tr>\n",
              "      <th>lpg</th>\n",
              "      <td>4962</td>\n",
              "      <td>0.01</td>\n",
              "    </tr>\n",
              "    <tr>\n",
              "      <th>cng</th>\n",
              "      <td>544</td>\n",
              "      <td>0.00</td>\n",
              "    </tr>\n",
              "    <tr>\n",
              "      <th>hybrid</th>\n",
              "      <td>208</td>\n",
              "      <td>0.00</td>\n",
              "    </tr>\n",
              "    <tr>\n",
              "      <th>other</th>\n",
              "      <td>133</td>\n",
              "      <td>0.00</td>\n",
              "    </tr>\n",
              "    <tr>\n",
              "      <th>electric</th>\n",
              "      <td>66</td>\n",
              "      <td>0.00</td>\n",
              "    </tr>\n",
              "  </tbody>\n",
              "</table>\n",
              "</div>"
            ],
            "text/plain": [
              "           count  proportion\n",
              "petrol    228193        0.68\n",
              "gasoline  100554        0.30\n",
              "lpg         4962        0.01\n",
              "cng          544        0.00\n",
              "hybrid       208        0.00\n",
              "other        133        0.00\n",
              "electric      66        0.00"
            ]
          },
          "metadata": {},
          "output_type": "display_data"
        },
        {
          "name": "stdout",
          "output_type": "stream",
          "text": [
            "Число пропусков: 0\n"
          ]
        }
      ],
      "source": [
        "for m in autos['Model'].unique():\n",
        "    autos.loc[(autos['Model'] == m) & (autos['VehicleType'].isna()), 'VehicleType'] = \\\n",
        "    autos.loc[(autos['Model'] == m) & (autos['VehicleType'] != 'Nan'), 'VehicleType'].mode()\n",
        "\n",
        "    autos.loc[(autos['Model'] == m) & (autos['Gearbox'].isna()), 'Gearbox'] = \\\n",
        "    autos.loc[(autos['Model'] == m) & (autos['Gearbox'] != 'Nan'), 'Gearbox'].mode()\n",
        "\n",
        "    autos.loc[(autos['Model'] == m) & (autos['FuelType'].isna()), 'FuelType'] = \\\n",
        "    autos.loc[(autos['Model'] == m) & (autos['FuelType'] != 'Nan'), 'FuelType'].mode()[0]\n",
        "\n",
        "for col in ['VehicleType', 'Gearbox', 'FuelType']:\n",
        "    show_cat(autos, col)"
      ]
    },
    {
      "cell_type": "markdown",
      "metadata": {
        "id": "uiREA8lD5EDl"
      },
      "source": [
        "Некоторые значения удалось восстановить, однако пропусков по-прежнему много. Заменим их \"заглушкой\" `unknown` позже в пайплайне.\n",
        "\n",
        "Перейдем к количественным признакам.\n"
      ]
    },
    {
      "cell_type": "markdown",
      "source": [
        "#### 1.4.2. Количественные признаки"
      ],
      "metadata": {
        "id": "NgzfqTmH7rN4"
      }
    },
    {
      "cell_type": "code",
      "execution_count": null,
      "metadata": {
        "id": "6G19i7yi5EDl",
        "outputId": "60559ef3-5095-4e87-fb4a-d18965ed9cdd"
      },
      "outputs": [
        {
          "data": {
            "image/png": "[encoded data removed]",
            "text/plain": [
              "<Figure size 1080x576 with 2 Axes>"
            ]
          },
          "metadata": {
            "needs_background": "light"
          },
          "output_type": "display_data"
        },
        {
          "data": {
            "text/html": [
              "<div>\n",
              "<style scoped>\n",
              "    .dataframe tbody tr th:only-of-type {\n",
              "        vertical-align: middle;\n",
              "    }\n",
              "\n",
              "    .dataframe tbody tr th {\n",
              "        vertical-align: top;\n",
              "    }\n",
              "\n",
              "    .dataframe thead th {\n",
              "        text-align: right;\n",
              "    }\n",
              "</style>\n",
              "<table border=\"1\" class=\"dataframe\">\n",
              "  <thead>\n",
              "    <tr style=\"text-align: right;\">\n",
              "      <th></th>\n",
              "      <th>Price</th>\n",
              "    </tr>\n",
              "  </thead>\n",
              "  <tbody>\n",
              "    <tr>\n",
              "      <th>count</th>\n",
              "      <td>334660.000000</td>\n",
              "    </tr>\n",
              "    <tr>\n",
              "      <th>mean</th>\n",
              "      <td>4504.372249</td>\n",
              "    </tr>\n",
              "    <tr>\n",
              "      <th>std</th>\n",
              "      <td>4531.457109</td>\n",
              "    </tr>\n",
              "    <tr>\n",
              "      <th>min</th>\n",
              "      <td>0.000000</td>\n",
              "    </tr>\n",
              "    <tr>\n",
              "      <th>25%</th>\n",
              "      <td>1150.000000</td>\n",
              "    </tr>\n",
              "    <tr>\n",
              "      <th>50%</th>\n",
              "      <td>2800.000000</td>\n",
              "    </tr>\n",
              "    <tr>\n",
              "      <th>75%</th>\n",
              "      <td>6500.000000</td>\n",
              "    </tr>\n",
              "    <tr>\n",
              "      <th>max</th>\n",
              "      <td>20000.000000</td>\n",
              "    </tr>\n",
              "  </tbody>\n",
              "</table>\n",
              "</div>"
            ],
            "text/plain": [
              "               Price\n",
              "count  334660.000000\n",
              "mean     4504.372249\n",
              "std      4531.457109\n",
              "min         0.000000\n",
              "25%      1150.000000\n",
              "50%      2800.000000\n",
              "75%      6500.000000\n",
              "max     20000.000000"
            ]
          },
          "metadata": {},
          "output_type": "display_data"
        },
        {
          "name": "stdout",
          "output_type": "stream",
          "text": [
            "Число пропусков: 0\n"
          ]
        },
        {
          "data": {
            "image/png": "[encoded data removed]",
            "text/plain": [
              "<Figure size 1080x576 with 2 Axes>"
            ]
          },
          "metadata": {
            "needs_background": "light"
          },
          "output_type": "display_data"
        },
        {
          "data": {
            "text/html": [
              "<div>\n",
              "<style scoped>\n",
              "    .dataframe tbody tr th:only-of-type {\n",
              "        vertical-align: middle;\n",
              "    }\n",
              "\n",
              "    .dataframe tbody tr th {\n",
              "        vertical-align: top;\n",
              "    }\n",
              "\n",
              "    .dataframe thead th {\n",
              "        text-align: right;\n",
              "    }\n",
              "</style>\n",
              "<table border=\"1\" class=\"dataframe\">\n",
              "  <thead>\n",
              "    <tr style=\"text-align: right;\">\n",
              "      <th></th>\n",
              "      <th>RegistrationYear</th>\n",
              "    </tr>\n",
              "  </thead>\n",
              "  <tbody>\n",
              "    <tr>\n",
              "      <th>count</th>\n",
              "      <td>334660.000000</td>\n",
              "    </tr>\n",
              "    <tr>\n",
              "      <th>mean</th>\n",
              "      <td>2003.924024</td>\n",
              "    </tr>\n",
              "    <tr>\n",
              "      <th>std</th>\n",
              "      <td>69.377633</td>\n",
              "    </tr>\n",
              "    <tr>\n",
              "      <th>min</th>\n",
              "      <td>1000.000000</td>\n",
              "    </tr>\n",
              "    <tr>\n",
              "      <th>25%</th>\n",
              "      <td>1999.000000</td>\n",
              "    </tr>\n",
              "    <tr>\n",
              "      <th>50%</th>\n",
              "      <td>2003.000000</td>\n",
              "    </tr>\n",
              "    <tr>\n",
              "      <th>75%</th>\n",
              "      <td>2008.000000</td>\n",
              "    </tr>\n",
              "    <tr>\n",
              "      <th>max</th>\n",
              "      <td>9999.000000</td>\n",
              "    </tr>\n",
              "  </tbody>\n",
              "</table>\n",
              "</div>"
            ],
            "text/plain": [
              "       RegistrationYear\n",
              "count     334660.000000\n",
              "mean        2003.924024\n",
              "std           69.377633\n",
              "min         1000.000000\n",
              "25%         1999.000000\n",
              "50%         2003.000000\n",
              "75%         2008.000000\n",
              "max         9999.000000"
            ]
          },
          "metadata": {},
          "output_type": "display_data"
        },
        {
          "name": "stdout",
          "output_type": "stream",
          "text": [
            "Число пропусков: 0\n"
          ]
        },
        {
          "data": {
            "image/png": "[encoded data removed]",
            "text/plain": [
              "<Figure size 1080x576 with 2 Axes>"
            ]
          },
          "metadata": {
            "needs_background": "light"
          },
          "output_type": "display_data"
        },
        {
          "data": {
            "text/html": [
              "<div>\n",
              "<style scoped>\n",
              "    .dataframe tbody tr th:only-of-type {\n",
              "        vertical-align: middle;\n",
              "    }\n",
              "\n",
              "    .dataframe tbody tr th {\n",
              "        vertical-align: top;\n",
              "    }\n",
              "\n",
              "    .dataframe thead th {\n",
              "        text-align: right;\n",
              "    }\n",
              "</style>\n",
              "<table border=\"1\" class=\"dataframe\">\n",
              "  <thead>\n",
              "    <tr style=\"text-align: right;\">\n",
              "      <th></th>\n",
              "      <th>Power</th>\n",
              "    </tr>\n",
              "  </thead>\n",
              "  <tbody>\n",
              "    <tr>\n",
              "      <th>count</th>\n",
              "      <td>334660.000000</td>\n",
              "    </tr>\n",
              "    <tr>\n",
              "      <th>mean</th>\n",
              "      <td>111.372659</td>\n",
              "    </tr>\n",
              "    <tr>\n",
              "      <th>std</th>\n",
              "      <td>185.157391</td>\n",
              "    </tr>\n",
              "    <tr>\n",
              "      <th>min</th>\n",
              "      <td>0.000000</td>\n",
              "    </tr>\n",
              "    <tr>\n",
              "      <th>25%</th>\n",
              "      <td>70.000000</td>\n",
              "    </tr>\n",
              "    <tr>\n",
              "      <th>50%</th>\n",
              "      <td>105.000000</td>\n",
              "    </tr>\n",
              "    <tr>\n",
              "      <th>75%</th>\n",
              "      <td>143.000000</td>\n",
              "    </tr>\n",
              "    <tr>\n",
              "      <th>max</th>\n",
              "      <td>20000.000000</td>\n",
              "    </tr>\n",
              "  </tbody>\n",
              "</table>\n",
              "</div>"
            ],
            "text/plain": [
              "               Power\n",
              "count  334660.000000\n",
              "mean      111.372659\n",
              "std       185.157391\n",
              "min         0.000000\n",
              "25%        70.000000\n",
              "50%       105.000000\n",
              "75%       143.000000\n",
              "max     20000.000000"
            ]
          },
          "metadata": {},
          "output_type": "display_data"
        },
        {
          "name": "stdout",
          "output_type": "stream",
          "text": [
            "Число пропусков: 0\n"
          ]
        },
        {
          "data": {
            "image/png": "[encoded data removed]",
            "text/plain": [
              "<Figure size 1080x576 with 2 Axes>"
            ]
          },
          "metadata": {
            "needs_background": "light"
          },
          "output_type": "display_data"
        },
        {
          "data": {
            "text/html": [
              "<div>\n",
              "<style scoped>\n",
              "    .dataframe tbody tr th:only-of-type {\n",
              "        vertical-align: middle;\n",
              "    }\n",
              "\n",
              "    .dataframe tbody tr th {\n",
              "        vertical-align: top;\n",
              "    }\n",
              "\n",
              "    .dataframe thead th {\n",
              "        text-align: right;\n",
              "    }\n",
              "</style>\n",
              "<table border=\"1\" class=\"dataframe\">\n",
              "  <thead>\n",
              "    <tr style=\"text-align: right;\">\n",
              "      <th></th>\n",
              "      <th>Kilometer</th>\n",
              "    </tr>\n",
              "  </thead>\n",
              "  <tbody>\n",
              "    <tr>\n",
              "      <th>count</th>\n",
              "      <td>334660.000000</td>\n",
              "    </tr>\n",
              "    <tr>\n",
              "      <th>mean</th>\n",
              "      <td>128562.795076</td>\n",
              "    </tr>\n",
              "    <tr>\n",
              "      <th>std</th>\n",
              "      <td>37205.638630</td>\n",
              "    </tr>\n",
              "    <tr>\n",
              "      <th>min</th>\n",
              "      <td>5000.000000</td>\n",
              "    </tr>\n",
              "    <tr>\n",
              "      <th>25%</th>\n",
              "      <td>125000.000000</td>\n",
              "    </tr>\n",
              "    <tr>\n",
              "      <th>50%</th>\n",
              "      <td>150000.000000</td>\n",
              "    </tr>\n",
              "    <tr>\n",
              "      <th>75%</th>\n",
              "      <td>150000.000000</td>\n",
              "    </tr>\n",
              "    <tr>\n",
              "      <th>max</th>\n",
              "      <td>150000.000000</td>\n",
              "    </tr>\n",
              "  </tbody>\n",
              "</table>\n",
              "</div>"
            ],
            "text/plain": [
              "           Kilometer\n",
              "count  334660.000000\n",
              "mean   128562.795076\n",
              "std     37205.638630\n",
              "min      5000.000000\n",
              "25%    125000.000000\n",
              "50%    150000.000000\n",
              "75%    150000.000000\n",
              "max    150000.000000"
            ]
          },
          "metadata": {},
          "output_type": "display_data"
        },
        {
          "name": "stdout",
          "output_type": "stream",
          "text": [
            "Число пропусков: 0\n"
          ]
        }
      ],
      "source": [
        "num_cols = ['Price',\n",
        "            'RegistrationYear',\n",
        "            'Power',\n",
        "            'Kilometer']\n",
        "for col in num_cols:\n",
        "    show_num(autos, col)"
      ]
    },
    {
      "cell_type": "markdown",
      "metadata": {
        "id": "ZugcTt0y5EDl"
      },
      "source": [
        "Во всех столбцах есть выбросы и аномальные значения, которые необходимо обработать. Явных пропусков нет, но присутствуют нулевые значения, по смыслу эквивалентные пропускам (столбцы `Price` и `Power`).\n",
        "\n",
        "Рассмотрим и обработаем каждый столбец в отдельности.\n"
      ]
    },
    {
      "cell_type": "markdown",
      "source": [
        "##### 1.4.2.1. `Price`\n",
        "Имеем большое число автомобилей с ценой равной или близкой к нулю. Это едва ли можно счесть аномальным значением, поскольку в реальности существуют люди, готовые отдать старую ненужную вещь бесплатно или за символическую стоимость, однако такие данные могут помешать определению рыночной цены. Проверим, как много машин продаются меньше, чем за 300 евро. Если их меньше 30 тысяч, можно удалить такие строки (общее количество удаленных строк останется в пределах 10% от первоначального количества)."
      ],
      "metadata": {
        "id": "vfeWFE9d7u6g"
      }
    },
    {
      "cell_type": "code",
      "execution_count": null,
      "metadata": {
        "id": "-kNbBav45EDt",
        "outputId": "f34e3f7a-0a7f-4307-f90a-a81dd366597d"
      },
      "outputs": [
        {
          "name": "stdout",
          "output_type": "stream",
          "text": [
            "19430\n"
          ]
        }
      ],
      "source": [
        "print(autos.loc[autos['Price'] < 300, 'Price'].count())"
      ]
    },
    {
      "cell_type": "code",
      "execution_count": null,
      "metadata": {
        "id": "wUcuBdqD5EDt",
        "outputId": "fdff0928-f62b-4e85-ef43-c14e852c9a62"
      },
      "outputs": [
        {
          "data": {
            "image/png": "[encoded data removed]",
            "text/plain": [
              "<Figure size 1080x576 with 2 Axes>"
            ]
          },
          "metadata": {
            "needs_background": "light"
          },
          "output_type": "display_data"
        },
        {
          "data": {
            "text/html": [
              "<div>\n",
              "<style scoped>\n",
              "    .dataframe tbody tr th:only-of-type {\n",
              "        vertical-align: middle;\n",
              "    }\n",
              "\n",
              "    .dataframe tbody tr th {\n",
              "        vertical-align: top;\n",
              "    }\n",
              "\n",
              "    .dataframe thead th {\n",
              "        text-align: right;\n",
              "    }\n",
              "</style>\n",
              "<table border=\"1\" class=\"dataframe\">\n",
              "  <thead>\n",
              "    <tr style=\"text-align: right;\">\n",
              "      <th></th>\n",
              "      <th>Price</th>\n",
              "    </tr>\n",
              "  </thead>\n",
              "  <tbody>\n",
              "    <tr>\n",
              "      <th>count</th>\n",
              "      <td>315230.000000</td>\n",
              "    </tr>\n",
              "    <tr>\n",
              "      <th>mean</th>\n",
              "      <td>4776.322913</td>\n",
              "    </tr>\n",
              "    <tr>\n",
              "      <th>std</th>\n",
              "      <td>4530.484169</td>\n",
              "    </tr>\n",
              "    <tr>\n",
              "      <th>min</th>\n",
              "      <td>300.000000</td>\n",
              "    </tr>\n",
              "    <tr>\n",
              "      <th>25%</th>\n",
              "      <td>1350.000000</td>\n",
              "    </tr>\n",
              "    <tr>\n",
              "      <th>50%</th>\n",
              "      <td>3000.000000</td>\n",
              "    </tr>\n",
              "    <tr>\n",
              "      <th>75%</th>\n",
              "      <td>6890.000000</td>\n",
              "    </tr>\n",
              "    <tr>\n",
              "      <th>max</th>\n",
              "      <td>20000.000000</td>\n",
              "    </tr>\n",
              "  </tbody>\n",
              "</table>\n",
              "</div>"
            ],
            "text/plain": [
              "               Price\n",
              "count  315230.000000\n",
              "mean     4776.322913\n",
              "std      4530.484169\n",
              "min       300.000000\n",
              "25%      1350.000000\n",
              "50%      3000.000000\n",
              "75%      6890.000000\n",
              "max     20000.000000"
            ]
          },
          "metadata": {},
          "output_type": "display_data"
        },
        {
          "name": "stdout",
          "output_type": "stream",
          "text": [
            "Число пропусков: 0\n"
          ]
        }
      ],
      "source": [
        "autos = autos.loc[autos['Price'] >= 300]\n",
        "show_num(autos, 'Price')"
      ]
    },
    {
      "cell_type": "markdown",
      "metadata": {
        "id": "xMB2vMNN5EDu"
      },
      "source": [
        "Цены выше 15000 расцениваются как выбросы. Однако все они лежат в пределах 20000, и не являются аномальными значениями. Проверим, сколько их. Если дорогих машин окажется много (больше 5 тысяч), оставим эти данные."
      ]
    },
    {
      "cell_type": "code",
      "execution_count": null,
      "metadata": {
        "id": "uTDEytwU5EDu",
        "outputId": "30cd9be9-a122-4c3e-bca6-a114fee2cdd1"
      },
      "outputs": [
        {
          "name": "stdout",
          "output_type": "stream",
          "text": [
            "14413\n"
          ]
        }
      ],
      "source": [
        "print(autos.loc[autos['Price'] > 15000, 'Price'].count())"
      ]
    },
    {
      "cell_type": "markdown",
      "metadata": {
        "id": "9kXNbGp_5EDu"
      },
      "source": [
        "Таким образом, имеем довольно большой разброс цен: от 300 до 20000, медиана меньше среднего, большинство значений в промежутке от 1300 до 6750.\n"
      ]
    },
    {
      "cell_type": "markdown",
      "source": [
        "##### 1.4.2.2. `RegistrationYear`\n",
        "Выше мы видели, что большинство значений находятся в рамках между 1999 и 2008, но присутствует много аномальных значений. Рассмотрим все уникальные аномальные значения в этом столбце. Аномальными можно считать значения меньше 1900 и больше 2016 (год выгрузки записей)."
      ],
      "metadata": {
        "id": "k2vx6uQn7_I5"
      }
    },
    {
      "cell_type": "code",
      "execution_count": null,
      "metadata": {
        "scrolled": true,
        "id": "7s2dlrqe5EDu",
        "outputId": "79009cf0-6a0e-4bba-97ab-37429f76e5bd"
      },
      "outputs": [
        {
          "name": "stdout",
          "output_type": "stream",
          "text": [
            "До 1900 1000    8\n",
            "1800    2\n",
            "1600    1\n",
            "1602    1\n",
            "1300    1\n",
            "1400    1\n",
            "1001    1\n",
            "1500    1\n",
            "Name: RegistrationYear, dtype: int64\n",
            "\n",
            "После 2016 2017    8400\n",
            "2018    3233\n",
            "2019      13\n",
            "9999       8\n",
            "5000       7\n",
            "5555       2\n",
            "4000       2\n",
            "5911       2\n",
            "7000       2\n",
            "8500       1\n",
            "9000       1\n",
            "4500       1\n",
            "3700       1\n",
            "2900       1\n",
            "2500       1\n",
            "7800       1\n",
            "8200       1\n",
            "2200       1\n",
            "2290       1\n",
            "2066       1\n",
            "6000       1\n",
            "7100       1\n",
            "Name: RegistrationYear, dtype: int64\n"
          ]
        }
      ],
      "source": [
        "print('До 1900', autos.loc[(autos['RegistrationYear'] < 1900), 'RegistrationYear'].value_counts())\n",
        "print()\n",
        "print('После 2016', autos.loc[(autos['RegistrationYear'] > 2016), 'RegistrationYear'].value_counts())"
      ]
    },
    {
      "cell_type": "markdown",
      "metadata": {
        "id": "KGJQDk1e5EDu"
      },
      "source": [
        "Неправдоподобно маленьких значений года регистрации очень мало, можно удалить эти записи. То же самое с годами регистрации больше 2018. Однако машин, якобы зарегистрированных в 2017 и 2018 годах достаточно много. Удалить их все нельзя. Изменим эти годы на 2016, так как это ближайший правдоподобный год."
      ]
    },
    {
      "cell_type": "code",
      "execution_count": null,
      "metadata": {
        "id": "sdpYFWJ_5EDu",
        "outputId": "d7b88758-4e94-4031-8bcb-35623d729fe1"
      },
      "outputs": [
        {
          "data": {
            "image/png": "[encoded data removed]",
            "text/plain": [
              "<Figure size 1080x576 with 2 Axes>"
            ]
          },
          "metadata": {
            "needs_background": "light"
          },
          "output_type": "display_data"
        },
        {
          "data": {
            "text/html": [
              "<div>\n",
              "<style scoped>\n",
              "    .dataframe tbody tr th:only-of-type {\n",
              "        vertical-align: middle;\n",
              "    }\n",
              "\n",
              "    .dataframe tbody tr th {\n",
              "        vertical-align: top;\n",
              "    }\n",
              "\n",
              "    .dataframe thead th {\n",
              "        text-align: right;\n",
              "    }\n",
              "</style>\n",
              "<table border=\"1\" class=\"dataframe\">\n",
              "  <thead>\n",
              "    <tr style=\"text-align: right;\">\n",
              "      <th></th>\n",
              "      <th>RegistrationYear</th>\n",
              "    </tr>\n",
              "  </thead>\n",
              "  <tbody>\n",
              "    <tr>\n",
              "      <th>count</th>\n",
              "      <td>303532.000000</td>\n",
              "    </tr>\n",
              "    <tr>\n",
              "      <th>mean</th>\n",
              "      <td>2002.882329</td>\n",
              "    </tr>\n",
              "    <tr>\n",
              "      <th>std</th>\n",
              "      <td>6.547057</td>\n",
              "    </tr>\n",
              "    <tr>\n",
              "      <th>min</th>\n",
              "      <td>1910.000000</td>\n",
              "    </tr>\n",
              "    <tr>\n",
              "      <th>25%</th>\n",
              "      <td>1999.000000</td>\n",
              "    </tr>\n",
              "    <tr>\n",
              "      <th>50%</th>\n",
              "      <td>2003.000000</td>\n",
              "    </tr>\n",
              "    <tr>\n",
              "      <th>75%</th>\n",
              "      <td>2007.000000</td>\n",
              "    </tr>\n",
              "    <tr>\n",
              "      <th>max</th>\n",
              "      <td>2016.000000</td>\n",
              "    </tr>\n",
              "  </tbody>\n",
              "</table>\n",
              "</div>"
            ],
            "text/plain": [
              "       RegistrationYear\n",
              "count     303532.000000\n",
              "mean        2002.882329\n",
              "std            6.547057\n",
              "min         1910.000000\n",
              "25%         1999.000000\n",
              "50%         2003.000000\n",
              "75%         2007.000000\n",
              "max         2016.000000"
            ]
          },
          "metadata": {},
          "output_type": "display_data"
        },
        {
          "name": "stdout",
          "output_type": "stream",
          "text": [
            "Число пропусков: 0\n"
          ]
        }
      ],
      "source": [
        "autos.loc[\n",
        "    (autos['RegistrationYear'] == 2017) | (autos['RegistrationYear']) == 2018,\n",
        "    'RegistrationYear'\n",
        "] = 2016\n",
        "autos = autos.loc[(autos['RegistrationYear'] >= 1900) & (autos['RegistrationYear'] <= 2016)]\n",
        "show_num(autos, 'RegistrationYear')"
      ]
    },
    {
      "cell_type": "markdown",
      "metadata": {
        "id": "bougp-ZV5EDu"
      },
      "source": [
        "Годы регистрации винтажных и антикварных автомобилей по-прежнему расцениваются как выбросы, однако их нужно оставить, чтобы цену таких машин тоже можно было предсказать. В остальном распределение выглядит похожим на нормальное биномиальное, с медианой близкой к среднему. Большинство автомобилей зарегистрированы в промежутке от 1999 до 2007."
      ]
    },
    {
      "cell_type": "markdown",
      "source": [
        "##### 1.4.2.3. `Power`\n",
        "Выше мы видели в этом столбце много нулей и неадекватно больших значений. Нулевую мощность можно счесть пропущенной и попробовать восстановить по медиане для той же модели. Слишком большие значения, похоже, просто имеют лишние порядки. Рассмотрим все подозрительные значения столбца подробнее."
      ],
      "metadata": {
        "id": "dr5vtqwE8HIy"
      }
    },
    {
      "cell_type": "code",
      "execution_count": null,
      "metadata": {
        "id": "NPYJ1zg85EDu",
        "outputId": "96fb71c6-5cac-46f2-9fed-d9c8b6acac54"
      },
      "outputs": [
        {
          "name": "stdout",
          "output_type": "stream",
          "text": [
            "Меньше 10 1    15\n",
            "5    13\n",
            "8     5\n",
            "2     4\n",
            "4     4\n",
            "6     3\n",
            "7     3\n",
            "9     2\n",
            "3     1\n",
            "Name: Power, dtype: int64\n"
          ]
        }
      ],
      "source": [
        "print('Меньше 10', autos.loc[(autos['Power'] < 10) & (autos['Power'] != 0), 'Power'].value_counts())"
      ]
    },
    {
      "cell_type": "code",
      "execution_count": null,
      "metadata": {
        "id": "WmJLczfS5EDu",
        "outputId": "50d08e2a-3382-4bef-e33e-6f84a356090a"
      },
      "outputs": [
        {
          "data": {
            "text/html": [
              "<div>\n",
              "<style scoped>\n",
              "    .dataframe tbody tr th:only-of-type {\n",
              "        vertical-align: middle;\n",
              "    }\n",
              "\n",
              "    .dataframe tbody tr th {\n",
              "        vertical-align: top;\n",
              "    }\n",
              "\n",
              "    .dataframe thead th {\n",
              "        text-align: right;\n",
              "    }\n",
              "</style>\n",
              "<table border=\"1\" class=\"dataframe\">\n",
              "  <thead>\n",
              "    <tr style=\"text-align: right;\">\n",
              "      <th></th>\n",
              "      <th>Price</th>\n",
              "      <th>VehicleType</th>\n",
              "      <th>RegistrationYear</th>\n",
              "      <th>Gearbox</th>\n",
              "      <th>Power</th>\n",
              "      <th>Model</th>\n",
              "      <th>Kilometer</th>\n",
              "      <th>FuelType</th>\n",
              "      <th>Brand</th>\n",
              "      <th>Repaired</th>\n",
              "      <th>NumberOfPictures</th>\n",
              "    </tr>\n",
              "  </thead>\n",
              "  <tbody>\n",
              "    <tr>\n",
              "      <th>3349</th>\n",
              "      <td>1990</td>\n",
              "      <td>small</td>\n",
              "      <td>2004</td>\n",
              "      <td>NaN</td>\n",
              "      <td>7</td>\n",
              "      <td>polo</td>\n",
              "      <td>150000</td>\n",
              "      <td>gasoline</td>\n",
              "      <td>volkswagen</td>\n",
              "      <td>no</td>\n",
              "      <td>0</td>\n",
              "    </tr>\n",
              "    <tr>\n",
              "      <th>9561</th>\n",
              "      <td>9000</td>\n",
              "      <td>sedan</td>\n",
              "      <td>2009</td>\n",
              "      <td>manual</td>\n",
              "      <td>2</td>\n",
              "      <td>a4</td>\n",
              "      <td>5000</td>\n",
              "      <td>gasoline</td>\n",
              "      <td>audi</td>\n",
              "      <td>NaN</td>\n",
              "      <td>0</td>\n",
              "    </tr>\n",
              "    <tr>\n",
              "      <th>20229</th>\n",
              "      <td>4999</td>\n",
              "      <td>sedan</td>\n",
              "      <td>2003</td>\n",
              "      <td>manual</td>\n",
              "      <td>1</td>\n",
              "      <td>e_klasse</td>\n",
              "      <td>150000</td>\n",
              "      <td>gasoline</td>\n",
              "      <td>mercedes_benz</td>\n",
              "      <td>NaN</td>\n",
              "      <td>0</td>\n",
              "    </tr>\n",
              "    <tr>\n",
              "      <th>33068</th>\n",
              "      <td>5950</td>\n",
              "      <td>small</td>\n",
              "      <td>2004</td>\n",
              "      <td>manual</td>\n",
              "      <td>4</td>\n",
              "      <td>golf</td>\n",
              "      <td>80000</td>\n",
              "      <td>petrol</td>\n",
              "      <td>volkswagen</td>\n",
              "      <td>no</td>\n",
              "      <td>0</td>\n",
              "    </tr>\n",
              "    <tr>\n",
              "      <th>33223</th>\n",
              "      <td>3900</td>\n",
              "      <td>convertible</td>\n",
              "      <td>2004</td>\n",
              "      <td>auto</td>\n",
              "      <td>1</td>\n",
              "      <td>forfour</td>\n",
              "      <td>90000</td>\n",
              "      <td>petrol</td>\n",
              "      <td>smart</td>\n",
              "      <td>no</td>\n",
              "      <td>0</td>\n",
              "    </tr>\n",
              "    <tr>\n",
              "      <th>33995</th>\n",
              "      <td>4999</td>\n",
              "      <td>small</td>\n",
              "      <td>2012</td>\n",
              "      <td>auto</td>\n",
              "      <td>5</td>\n",
              "      <td>other</td>\n",
              "      <td>5000</td>\n",
              "      <td>electric</td>\n",
              "      <td>renault</td>\n",
              "      <td>no</td>\n",
              "      <td>0</td>\n",
              "    </tr>\n",
              "    <tr>\n",
              "      <th>34378</th>\n",
              "      <td>655</td>\n",
              "      <td>NaN</td>\n",
              "      <td>1995</td>\n",
              "      <td>manual</td>\n",
              "      <td>5</td>\n",
              "      <td>other</td>\n",
              "      <td>70000</td>\n",
              "      <td>petrol</td>\n",
              "      <td>seat</td>\n",
              "      <td>NaN</td>\n",
              "      <td>0</td>\n",
              "    </tr>\n",
              "    <tr>\n",
              "      <th>37733</th>\n",
              "      <td>1300</td>\n",
              "      <td>wagon</td>\n",
              "      <td>1999</td>\n",
              "      <td>auto</td>\n",
              "      <td>9</td>\n",
              "      <td>other</td>\n",
              "      <td>30000</td>\n",
              "      <td>petrol</td>\n",
              "      <td>citroen</td>\n",
              "      <td>no</td>\n",
              "      <td>0</td>\n",
              "    </tr>\n",
              "    <tr>\n",
              "      <th>42961</th>\n",
              "      <td>4200</td>\n",
              "      <td>other</td>\n",
              "      <td>2012</td>\n",
              "      <td>auto</td>\n",
              "      <td>8</td>\n",
              "      <td>other</td>\n",
              "      <td>40000</td>\n",
              "      <td>electric</td>\n",
              "      <td>renault</td>\n",
              "      <td>no</td>\n",
              "      <td>0</td>\n",
              "    </tr>\n",
              "    <tr>\n",
              "      <th>44179</th>\n",
              "      <td>500</td>\n",
              "      <td>small</td>\n",
              "      <td>1998</td>\n",
              "      <td>auto</td>\n",
              "      <td>7</td>\n",
              "      <td>1_reihe</td>\n",
              "      <td>100000</td>\n",
              "      <td>petrol</td>\n",
              "      <td>peugeot</td>\n",
              "      <td>no</td>\n",
              "      <td>0</td>\n",
              "    </tr>\n",
              "    <tr>\n",
              "      <th>49038</th>\n",
              "      <td>750</td>\n",
              "      <td>NaN</td>\n",
              "      <td>2000</td>\n",
              "      <td>manual</td>\n",
              "      <td>4</td>\n",
              "      <td>golf</td>\n",
              "      <td>125000</td>\n",
              "      <td>petrol</td>\n",
              "      <td>volkswagen</td>\n",
              "      <td>no</td>\n",
              "      <td>0</td>\n",
              "    </tr>\n",
              "    <tr>\n",
              "      <th>52952</th>\n",
              "      <td>990</td>\n",
              "      <td>coupe</td>\n",
              "      <td>1974</td>\n",
              "      <td>manual</td>\n",
              "      <td>1</td>\n",
              "      <td>kadett</td>\n",
              "      <td>5000</td>\n",
              "      <td>petrol</td>\n",
              "      <td>opel</td>\n",
              "      <td>yes</td>\n",
              "      <td>0</td>\n",
              "    </tr>\n",
              "    <tr>\n",
              "      <th>59478</th>\n",
              "      <td>999</td>\n",
              "      <td>convertible</td>\n",
              "      <td>1995</td>\n",
              "      <td>manual</td>\n",
              "      <td>5</td>\n",
              "      <td>punto</td>\n",
              "      <td>125000</td>\n",
              "      <td>petrol</td>\n",
              "      <td>fiat</td>\n",
              "      <td>no</td>\n",
              "      <td>0</td>\n",
              "    </tr>\n",
              "    <tr>\n",
              "      <th>72010</th>\n",
              "      <td>8000</td>\n",
              "      <td>small</td>\n",
              "      <td>2004</td>\n",
              "      <td>manual</td>\n",
              "      <td>8</td>\n",
              "      <td>viano</td>\n",
              "      <td>150000</td>\n",
              "      <td>gasoline</td>\n",
              "      <td>mercedes_benz</td>\n",
              "      <td>NaN</td>\n",
              "      <td>0</td>\n",
              "    </tr>\n",
              "    <tr>\n",
              "      <th>73846</th>\n",
              "      <td>490</td>\n",
              "      <td>sedan</td>\n",
              "      <td>2002</td>\n",
              "      <td>manual</td>\n",
              "      <td>1</td>\n",
              "      <td>other</td>\n",
              "      <td>100000</td>\n",
              "      <td>petrol</td>\n",
              "      <td>chrysler</td>\n",
              "      <td>no</td>\n",
              "      <td>0</td>\n",
              "    </tr>\n",
              "    <tr>\n",
              "      <th>78193</th>\n",
              "      <td>999</td>\n",
              "      <td>small</td>\n",
              "      <td>2000</td>\n",
              "      <td>manual</td>\n",
              "      <td>5</td>\n",
              "      <td>twingo</td>\n",
              "      <td>150000</td>\n",
              "      <td>petrol</td>\n",
              "      <td>renault</td>\n",
              "      <td>NaN</td>\n",
              "      <td>0</td>\n",
              "    </tr>\n",
              "    <tr>\n",
              "      <th>88466</th>\n",
              "      <td>3100</td>\n",
              "      <td>sedan</td>\n",
              "      <td>2005</td>\n",
              "      <td>manual</td>\n",
              "      <td>4</td>\n",
              "      <td>c4</td>\n",
              "      <td>150000</td>\n",
              "      <td>gasoline</td>\n",
              "      <td>citroen</td>\n",
              "      <td>NaN</td>\n",
              "      <td>0</td>\n",
              "    </tr>\n",
              "    <tr>\n",
              "      <th>93497</th>\n",
              "      <td>1300</td>\n",
              "      <td>coupe</td>\n",
              "      <td>2000</td>\n",
              "      <td>manual</td>\n",
              "      <td>7</td>\n",
              "      <td>civic</td>\n",
              "      <td>125000</td>\n",
              "      <td>petrol</td>\n",
              "      <td>honda</td>\n",
              "      <td>no</td>\n",
              "      <td>0</td>\n",
              "    </tr>\n",
              "    <tr>\n",
              "      <th>94319</th>\n",
              "      <td>300</td>\n",
              "      <td>convertible</td>\n",
              "      <td>1997</td>\n",
              "      <td>manual</td>\n",
              "      <td>1</td>\n",
              "      <td>golf</td>\n",
              "      <td>5000</td>\n",
              "      <td>gasoline</td>\n",
              "      <td>volkswagen</td>\n",
              "      <td>yes</td>\n",
              "      <td>0</td>\n",
              "    </tr>\n",
              "    <tr>\n",
              "      <th>95899</th>\n",
              "      <td>490</td>\n",
              "      <td>sedan</td>\n",
              "      <td>2002</td>\n",
              "      <td>manual</td>\n",
              "      <td>1</td>\n",
              "      <td>other</td>\n",
              "      <td>100000</td>\n",
              "      <td>petrol</td>\n",
              "      <td>chrysler</td>\n",
              "      <td>no</td>\n",
              "      <td>0</td>\n",
              "    </tr>\n",
              "    <tr>\n",
              "      <th>96700</th>\n",
              "      <td>7500</td>\n",
              "      <td>small</td>\n",
              "      <td>2011</td>\n",
              "      <td>manual</td>\n",
              "      <td>6</td>\n",
              "      <td>polo</td>\n",
              "      <td>60000</td>\n",
              "      <td>petrol</td>\n",
              "      <td>volkswagen</td>\n",
              "      <td>no</td>\n",
              "      <td>0</td>\n",
              "    </tr>\n",
              "    <tr>\n",
              "      <th>106767</th>\n",
              "      <td>650</td>\n",
              "      <td>NaN</td>\n",
              "      <td>2016</td>\n",
              "      <td>manual</td>\n",
              "      <td>1</td>\n",
              "      <td>corsa</td>\n",
              "      <td>150000</td>\n",
              "      <td>petrol</td>\n",
              "      <td>opel</td>\n",
              "      <td>no</td>\n",
              "      <td>0</td>\n",
              "    </tr>\n",
              "    <tr>\n",
              "      <th>109202</th>\n",
              "      <td>4900</td>\n",
              "      <td>bus</td>\n",
              "      <td>2003</td>\n",
              "      <td>manual</td>\n",
              "      <td>4</td>\n",
              "      <td>c_max</td>\n",
              "      <td>70000</td>\n",
              "      <td>petrol</td>\n",
              "      <td>ford</td>\n",
              "      <td>no</td>\n",
              "      <td>0</td>\n",
              "    </tr>\n",
              "    <tr>\n",
              "      <th>118004</th>\n",
              "      <td>6500</td>\n",
              "      <td>bus</td>\n",
              "      <td>2006</td>\n",
              "      <td>manual</td>\n",
              "      <td>5</td>\n",
              "      <td>5_reihe</td>\n",
              "      <td>150000</td>\n",
              "      <td>petrol</td>\n",
              "      <td>mazda</td>\n",
              "      <td>no</td>\n",
              "      <td>0</td>\n",
              "    </tr>\n",
              "    <tr>\n",
              "      <th>134171</th>\n",
              "      <td>1790</td>\n",
              "      <td>sedan</td>\n",
              "      <td>2002</td>\n",
              "      <td>manual</td>\n",
              "      <td>5</td>\n",
              "      <td>corsa</td>\n",
              "      <td>150000</td>\n",
              "      <td>petrol</td>\n",
              "      <td>opel</td>\n",
              "      <td>no</td>\n",
              "      <td>0</td>\n",
              "    </tr>\n",
              "    <tr>\n",
              "      <th>135644</th>\n",
              "      <td>799</td>\n",
              "      <td>sedan</td>\n",
              "      <td>1997</td>\n",
              "      <td>manual</td>\n",
              "      <td>1</td>\n",
              "      <td>megane</td>\n",
              "      <td>150000</td>\n",
              "      <td>petrol</td>\n",
              "      <td>renault</td>\n",
              "      <td>NaN</td>\n",
              "      <td>0</td>\n",
              "    </tr>\n",
              "    <tr>\n",
              "      <th>138158</th>\n",
              "      <td>1350</td>\n",
              "      <td>wagon</td>\n",
              "      <td>1999</td>\n",
              "      <td>manual</td>\n",
              "      <td>8</td>\n",
              "      <td>astra</td>\n",
              "      <td>150000</td>\n",
              "      <td>gasoline</td>\n",
              "      <td>opel</td>\n",
              "      <td>no</td>\n",
              "      <td>0</td>\n",
              "    </tr>\n",
              "    <tr>\n",
              "      <th>138316</th>\n",
              "      <td>360</td>\n",
              "      <td>small</td>\n",
              "      <td>1999</td>\n",
              "      <td>manual</td>\n",
              "      <td>5</td>\n",
              "      <td>twingo</td>\n",
              "      <td>150000</td>\n",
              "      <td>petrol</td>\n",
              "      <td>renault</td>\n",
              "      <td>NaN</td>\n",
              "      <td>0</td>\n",
              "    </tr>\n",
              "    <tr>\n",
              "      <th>138372</th>\n",
              "      <td>5200</td>\n",
              "      <td>NaN</td>\n",
              "      <td>1980</td>\n",
              "      <td>manual</td>\n",
              "      <td>9</td>\n",
              "      <td>other</td>\n",
              "      <td>150000</td>\n",
              "      <td>petrol</td>\n",
              "      <td>opel</td>\n",
              "      <td>NaN</td>\n",
              "      <td>0</td>\n",
              "    </tr>\n",
              "    <tr>\n",
              "      <th>146998</th>\n",
              "      <td>650</td>\n",
              "      <td>bus</td>\n",
              "      <td>1998</td>\n",
              "      <td>manual</td>\n",
              "      <td>5</td>\n",
              "      <td>kangoo</td>\n",
              "      <td>150000</td>\n",
              "      <td>petrol</td>\n",
              "      <td>renault</td>\n",
              "      <td>no</td>\n",
              "      <td>0</td>\n",
              "    </tr>\n",
              "    <tr>\n",
              "      <th>154878</th>\n",
              "      <td>500</td>\n",
              "      <td>NaN</td>\n",
              "      <td>2016</td>\n",
              "      <td>NaN</td>\n",
              "      <td>5</td>\n",
              "      <td>lupo</td>\n",
              "      <td>150000</td>\n",
              "      <td>petrol</td>\n",
              "      <td>volkswagen</td>\n",
              "      <td>no</td>\n",
              "      <td>0</td>\n",
              "    </tr>\n",
              "    <tr>\n",
              "      <th>161438</th>\n",
              "      <td>900</td>\n",
              "      <td>wagon</td>\n",
              "      <td>1998</td>\n",
              "      <td>manual</td>\n",
              "      <td>1</td>\n",
              "      <td>other</td>\n",
              "      <td>5000</td>\n",
              "      <td>other</td>\n",
              "      <td>fiat</td>\n",
              "      <td>no</td>\n",
              "      <td>0</td>\n",
              "    </tr>\n",
              "    <tr>\n",
              "      <th>164269</th>\n",
              "      <td>6800</td>\n",
              "      <td>bus</td>\n",
              "      <td>2005</td>\n",
              "      <td>manual</td>\n",
              "      <td>1</td>\n",
              "      <td>caddy</td>\n",
              "      <td>125000</td>\n",
              "      <td>gasoline</td>\n",
              "      <td>volkswagen</td>\n",
              "      <td>no</td>\n",
              "      <td>0</td>\n",
              "    </tr>\n",
              "    <tr>\n",
              "      <th>166634</th>\n",
              "      <td>850</td>\n",
              "      <td>small</td>\n",
              "      <td>1996</td>\n",
              "      <td>manual</td>\n",
              "      <td>6</td>\n",
              "      <td>polo</td>\n",
              "      <td>150000</td>\n",
              "      <td>petrol</td>\n",
              "      <td>volkswagen</td>\n",
              "      <td>no</td>\n",
              "      <td>0</td>\n",
              "    </tr>\n",
              "    <tr>\n",
              "      <th>167540</th>\n",
              "      <td>2199</td>\n",
              "      <td>other</td>\n",
              "      <td>2004</td>\n",
              "      <td>manual</td>\n",
              "      <td>2</td>\n",
              "      <td>touran</td>\n",
              "      <td>5000</td>\n",
              "      <td>gasoline</td>\n",
              "      <td>volkswagen</td>\n",
              "      <td>yes</td>\n",
              "      <td>0</td>\n",
              "    </tr>\n",
              "    <tr>\n",
              "      <th>167768</th>\n",
              "      <td>14911</td>\n",
              "      <td>convertible</td>\n",
              "      <td>1990</td>\n",
              "      <td>manual</td>\n",
              "      <td>2</td>\n",
              "      <td>911</td>\n",
              "      <td>5000</td>\n",
              "      <td>petrol</td>\n",
              "      <td>porsche</td>\n",
              "      <td>NaN</td>\n",
              "      <td>0</td>\n",
              "    </tr>\n",
              "    <tr>\n",
              "      <th>180366</th>\n",
              "      <td>700</td>\n",
              "      <td>small</td>\n",
              "      <td>2001</td>\n",
              "      <td>manual</td>\n",
              "      <td>5</td>\n",
              "      <td>polo</td>\n",
              "      <td>150000</td>\n",
              "      <td>petrol</td>\n",
              "      <td>volkswagen</td>\n",
              "      <td>no</td>\n",
              "      <td>0</td>\n",
              "    </tr>\n",
              "    <tr>\n",
              "      <th>186449</th>\n",
              "      <td>1990</td>\n",
              "      <td>small</td>\n",
              "      <td>2004</td>\n",
              "      <td>manual</td>\n",
              "      <td>5</td>\n",
              "      <td>fiesta</td>\n",
              "      <td>150000</td>\n",
              "      <td>petrol</td>\n",
              "      <td>ford</td>\n",
              "      <td>no</td>\n",
              "      <td>0</td>\n",
              "    </tr>\n",
              "    <tr>\n",
              "      <th>196896</th>\n",
              "      <td>500</td>\n",
              "      <td>small</td>\n",
              "      <td>1975</td>\n",
              "      <td>manual</td>\n",
              "      <td>1</td>\n",
              "      <td>polo</td>\n",
              "      <td>150000</td>\n",
              "      <td>petrol</td>\n",
              "      <td>volkswagen</td>\n",
              "      <td>no</td>\n",
              "      <td>0</td>\n",
              "    </tr>\n",
              "    <tr>\n",
              "      <th>197795</th>\n",
              "      <td>2400</td>\n",
              "      <td>bus</td>\n",
              "      <td>2004</td>\n",
              "      <td>manual</td>\n",
              "      <td>2</td>\n",
              "      <td>espace</td>\n",
              "      <td>150000</td>\n",
              "      <td>gasoline</td>\n",
              "      <td>renault</td>\n",
              "      <td>no</td>\n",
              "      <td>0</td>\n",
              "    </tr>\n",
              "    <tr>\n",
              "      <th>220106</th>\n",
              "      <td>700</td>\n",
              "      <td>wagon</td>\n",
              "      <td>1998</td>\n",
              "      <td>manual</td>\n",
              "      <td>1</td>\n",
              "      <td>vectra</td>\n",
              "      <td>150000</td>\n",
              "      <td>petrol</td>\n",
              "      <td>opel</td>\n",
              "      <td>no</td>\n",
              "      <td>0</td>\n",
              "    </tr>\n",
              "    <tr>\n",
              "      <th>268926</th>\n",
              "      <td>1200</td>\n",
              "      <td>sedan</td>\n",
              "      <td>2002</td>\n",
              "      <td>manual</td>\n",
              "      <td>1</td>\n",
              "      <td>3_reihe</td>\n",
              "      <td>150000</td>\n",
              "      <td>petrol</td>\n",
              "      <td>mazda</td>\n",
              "      <td>no</td>\n",
              "      <td>0</td>\n",
              "    </tr>\n",
              "    <tr>\n",
              "      <th>273545</th>\n",
              "      <td>1600</td>\n",
              "      <td>sedan</td>\n",
              "      <td>1998</td>\n",
              "      <td>NaN</td>\n",
              "      <td>1</td>\n",
              "      <td>vectra</td>\n",
              "      <td>150000</td>\n",
              "      <td>petrol</td>\n",
              "      <td>opel</td>\n",
              "      <td>no</td>\n",
              "      <td>0</td>\n",
              "    </tr>\n",
              "    <tr>\n",
              "      <th>274833</th>\n",
              "      <td>1400</td>\n",
              "      <td>small</td>\n",
              "      <td>1996</td>\n",
              "      <td>manual</td>\n",
              "      <td>6</td>\n",
              "      <td>ibiza</td>\n",
              "      <td>150000</td>\n",
              "      <td>petrol</td>\n",
              "      <td>seat</td>\n",
              "      <td>NaN</td>\n",
              "      <td>0</td>\n",
              "    </tr>\n",
              "    <tr>\n",
              "      <th>317734</th>\n",
              "      <td>1500</td>\n",
              "      <td>small</td>\n",
              "      <td>1994</td>\n",
              "      <td>manual</td>\n",
              "      <td>5</td>\n",
              "      <td>other</td>\n",
              "      <td>70000</td>\n",
              "      <td>petrol</td>\n",
              "      <td>seat</td>\n",
              "      <td>NaN</td>\n",
              "      <td>0</td>\n",
              "    </tr>\n",
              "    <tr>\n",
              "      <th>320481</th>\n",
              "      <td>1399</td>\n",
              "      <td>small</td>\n",
              "      <td>2001</td>\n",
              "      <td>manual</td>\n",
              "      <td>5</td>\n",
              "      <td>fortwo</td>\n",
              "      <td>125000</td>\n",
              "      <td>petrol</td>\n",
              "      <td>smart</td>\n",
              "      <td>no</td>\n",
              "      <td>0</td>\n",
              "    </tr>\n",
              "    <tr>\n",
              "      <th>324046</th>\n",
              "      <td>8750</td>\n",
              "      <td>convertible</td>\n",
              "      <td>1923</td>\n",
              "      <td>manual</td>\n",
              "      <td>8</td>\n",
              "      <td>c3</td>\n",
              "      <td>5000</td>\n",
              "      <td>petrol</td>\n",
              "      <td>citroen</td>\n",
              "      <td>no</td>\n",
              "      <td>0</td>\n",
              "    </tr>\n",
              "    <tr>\n",
              "      <th>335543</th>\n",
              "      <td>9000</td>\n",
              "      <td>sedan</td>\n",
              "      <td>1938</td>\n",
              "      <td>manual</td>\n",
              "      <td>1</td>\n",
              "      <td>kadett</td>\n",
              "      <td>5000</td>\n",
              "      <td>petrol</td>\n",
              "      <td>opel</td>\n",
              "      <td>NaN</td>\n",
              "      <td>0</td>\n",
              "    </tr>\n",
              "    <tr>\n",
              "      <th>336256</th>\n",
              "      <td>9299</td>\n",
              "      <td>wagon</td>\n",
              "      <td>2011</td>\n",
              "      <td>manual</td>\n",
              "      <td>8</td>\n",
              "      <td>golf</td>\n",
              "      <td>125000</td>\n",
              "      <td>gasoline</td>\n",
              "      <td>volkswagen</td>\n",
              "      <td>no</td>\n",
              "      <td>0</td>\n",
              "    </tr>\n",
              "    <tr>\n",
              "      <th>354356</th>\n",
              "      <td>3999</td>\n",
              "      <td>wagon</td>\n",
              "      <td>2005</td>\n",
              "      <td>manual</td>\n",
              "      <td>3</td>\n",
              "      <td>3er</td>\n",
              "      <td>150000</td>\n",
              "      <td>gasoline</td>\n",
              "      <td>bmw</td>\n",
              "      <td>no</td>\n",
              "      <td>0</td>\n",
              "    </tr>\n",
              "  </tbody>\n",
              "</table>\n",
              "</div>"
            ],
            "text/plain": [
              "        Price  VehicleType  RegistrationYear Gearbox  Power     Model  \\\n",
              "3349     1990        small              2004     NaN      7      polo   \n",
              "9561     9000        sedan              2009  manual      2        a4   \n",
              "20229    4999        sedan              2003  manual      1  e_klasse   \n",
              "33068    5950        small              2004  manual      4      golf   \n",
              "33223    3900  convertible              2004    auto      1   forfour   \n",
              "33995    4999        small              2012    auto      5     other   \n",
              "34378     655          NaN              1995  manual      5     other   \n",
              "37733    1300        wagon              1999    auto      9     other   \n",
              "42961    4200        other              2012    auto      8     other   \n",
              "44179     500        small              1998    auto      7   1_reihe   \n",
              "49038     750          NaN              2000  manual      4      golf   \n",
              "52952     990        coupe              1974  manual      1    kadett   \n",
              "59478     999  convertible              1995  manual      5     punto   \n",
              "72010    8000        small              2004  manual      8     viano   \n",
              "73846     490        sedan              2002  manual      1     other   \n",
              "78193     999        small              2000  manual      5    twingo   \n",
              "88466    3100        sedan              2005  manual      4        c4   \n",
              "93497    1300        coupe              2000  manual      7     civic   \n",
              "94319     300  convertible              1997  manual      1      golf   \n",
              "95899     490        sedan              2002  manual      1     other   \n",
              "96700    7500        small              2011  manual      6      polo   \n",
              "106767    650          NaN              2016  manual      1     corsa   \n",
              "109202   4900          bus              2003  manual      4     c_max   \n",
              "118004   6500          bus              2006  manual      5   5_reihe   \n",
              "134171   1790        sedan              2002  manual      5     corsa   \n",
              "135644    799        sedan              1997  manual      1    megane   \n",
              "138158   1350        wagon              1999  manual      8     astra   \n",
              "138316    360        small              1999  manual      5    twingo   \n",
              "138372   5200          NaN              1980  manual      9     other   \n",
              "146998    650          bus              1998  manual      5    kangoo   \n",
              "154878    500          NaN              2016     NaN      5      lupo   \n",
              "161438    900        wagon              1998  manual      1     other   \n",
              "164269   6800          bus              2005  manual      1     caddy   \n",
              "166634    850        small              1996  manual      6      polo   \n",
              "167540   2199        other              2004  manual      2    touran   \n",
              "167768  14911  convertible              1990  manual      2       911   \n",
              "180366    700        small              2001  manual      5      polo   \n",
              "186449   1990        small              2004  manual      5    fiesta   \n",
              "196896    500        small              1975  manual      1      polo   \n",
              "197795   2400          bus              2004  manual      2    espace   \n",
              "220106    700        wagon              1998  manual      1    vectra   \n",
              "268926   1200        sedan              2002  manual      1   3_reihe   \n",
              "273545   1600        sedan              1998     NaN      1    vectra   \n",
              "274833   1400        small              1996  manual      6     ibiza   \n",
              "317734   1500        small              1994  manual      5     other   \n",
              "320481   1399        small              2001  manual      5    fortwo   \n",
              "324046   8750  convertible              1923  manual      8        c3   \n",
              "335543   9000        sedan              1938  manual      1    kadett   \n",
              "336256   9299        wagon              2011  manual      8      golf   \n",
              "354356   3999        wagon              2005  manual      3       3er   \n",
              "\n",
              "        Kilometer  FuelType          Brand Repaired  NumberOfPictures  \n",
              "3349       150000  gasoline     volkswagen       no                 0  \n",
              "9561         5000  gasoline           audi      NaN                 0  \n",
              "20229      150000  gasoline  mercedes_benz      NaN                 0  \n",
              "33068       80000    petrol     volkswagen       no                 0  \n",
              "33223       90000    petrol          smart       no                 0  \n",
              "33995        5000  electric        renault       no                 0  \n",
              "34378       70000    petrol           seat      NaN                 0  \n",
              "37733       30000    petrol        citroen       no                 0  \n",
              "42961       40000  electric        renault       no                 0  \n",
              "44179      100000    petrol        peugeot       no                 0  \n",
              "49038      125000    petrol     volkswagen       no                 0  \n",
              "52952        5000    petrol           opel      yes                 0  \n",
              "59478      125000    petrol           fiat       no                 0  \n",
              "72010      150000  gasoline  mercedes_benz      NaN                 0  \n",
              "73846      100000    petrol       chrysler       no                 0  \n",
              "78193      150000    petrol        renault      NaN                 0  \n",
              "88466      150000  gasoline        citroen      NaN                 0  \n",
              "93497      125000    petrol          honda       no                 0  \n",
              "94319        5000  gasoline     volkswagen      yes                 0  \n",
              "95899      100000    petrol       chrysler       no                 0  \n",
              "96700       60000    petrol     volkswagen       no                 0  \n",
              "106767     150000    petrol           opel       no                 0  \n",
              "109202      70000    petrol           ford       no                 0  \n",
              "118004     150000    petrol          mazda       no                 0  \n",
              "134171     150000    petrol           opel       no                 0  \n",
              "135644     150000    petrol        renault      NaN                 0  \n",
              "138158     150000  gasoline           opel       no                 0  \n",
              "138316     150000    petrol        renault      NaN                 0  \n",
              "138372     150000    petrol           opel      NaN                 0  \n",
              "146998     150000    petrol        renault       no                 0  \n",
              "154878     150000    petrol     volkswagen       no                 0  \n",
              "161438       5000     other           fiat       no                 0  \n",
              "164269     125000  gasoline     volkswagen       no                 0  \n",
              "166634     150000    petrol     volkswagen       no                 0  \n",
              "167540       5000  gasoline     volkswagen      yes                 0  \n",
              "167768       5000    petrol        porsche      NaN                 0  \n",
              "180366     150000    petrol     volkswagen       no                 0  \n",
              "186449     150000    petrol           ford       no                 0  \n",
              "196896     150000    petrol     volkswagen       no                 0  \n",
              "197795     150000  gasoline        renault       no                 0  \n",
              "220106     150000    petrol           opel       no                 0  \n",
              "268926     150000    petrol          mazda       no                 0  \n",
              "273545     150000    petrol           opel       no                 0  \n",
              "274833     150000    petrol           seat      NaN                 0  \n",
              "317734      70000    petrol           seat      NaN                 0  \n",
              "320481     125000    petrol          smart       no                 0  \n",
              "324046       5000    petrol        citroen       no                 0  \n",
              "335543       5000    petrol           opel      NaN                 0  \n",
              "336256     125000  gasoline     volkswagen       no                 0  \n",
              "354356     150000  gasoline            bmw       no                 0  "
            ]
          },
          "metadata": {},
          "output_type": "display_data"
        }
      ],
      "source": [
        "display(autos.loc[(autos['Power'] < 10) & (autos['Power'] != 0)])"
      ]
    },
    {
      "cell_type": "markdown",
      "metadata": {
        "id": "H_gFqhzg5EDu"
      },
      "source": [
        "Для автомобилей, выпущенных примерно до 1970 года, маленькая мощность двигателя нормальна, но для более поздних лет такие значения аномальны. Попробуем их тоже восстановить по `Model`."
      ]
    },
    {
      "cell_type": "code",
      "execution_count": null,
      "metadata": {
        "id": "j9aFDYO55EDu",
        "outputId": "fb8f8f6b-514e-4d61-9020-98609aafec5c"
      },
      "outputs": [
        {
          "name": "stderr",
          "output_type": "stream",
          "text": [
            "/opt/conda/lib/python3.9/site-packages/numpy/lib/nanfunctions.py:1215: RuntimeWarning: Mean of empty slice\n",
            "  return np.nanmean(a, axis, out=out, keepdims=keepdims)\n"
          ]
        },
        {
          "data": {
            "text/html": [
              "<div>\n",
              "<style scoped>\n",
              "    .dataframe tbody tr th:only-of-type {\n",
              "        vertical-align: middle;\n",
              "    }\n",
              "\n",
              "    .dataframe tbody tr th {\n",
              "        vertical-align: top;\n",
              "    }\n",
              "\n",
              "    .dataframe thead th {\n",
              "        text-align: right;\n",
              "    }\n",
              "</style>\n",
              "<table border=\"1\" class=\"dataframe\">\n",
              "  <thead>\n",
              "    <tr style=\"text-align: right;\">\n",
              "      <th></th>\n",
              "      <th>Price</th>\n",
              "      <th>VehicleType</th>\n",
              "      <th>RegistrationYear</th>\n",
              "      <th>Gearbox</th>\n",
              "      <th>Power</th>\n",
              "      <th>Model</th>\n",
              "      <th>Kilometer</th>\n",
              "      <th>FuelType</th>\n",
              "      <th>Brand</th>\n",
              "      <th>Repaired</th>\n",
              "      <th>NumberOfPictures</th>\n",
              "    </tr>\n",
              "  </thead>\n",
              "  <tbody>\n",
              "    <tr>\n",
              "      <th>324046</th>\n",
              "      <td>8750</td>\n",
              "      <td>convertible</td>\n",
              "      <td>1923</td>\n",
              "      <td>manual</td>\n",
              "      <td>8.0</td>\n",
              "      <td>c3</td>\n",
              "      <td>5000</td>\n",
              "      <td>petrol</td>\n",
              "      <td>citroen</td>\n",
              "      <td>no</td>\n",
              "      <td>0</td>\n",
              "    </tr>\n",
              "  </tbody>\n",
              "</table>\n",
              "</div>"
            ],
            "text/plain": [
              "        Price  VehicleType  RegistrationYear Gearbox  Power Model  Kilometer  \\\n",
              "324046   8750  convertible              1923  manual    8.0    c3       5000   \n",
              "\n",
              "       FuelType    Brand Repaired  NumberOfPictures  \n",
              "324046   petrol  citroen       no                 0  "
            ]
          },
          "metadata": {},
          "output_type": "display_data"
        }
      ],
      "source": [
        "for m in autos['Model'].unique():\n",
        "    autos.loc[(autos['Model'] == m) & (autos['Power'] == 0), 'Power'] = \\\n",
        "    autos.loc[(autos['Model'] == m) & (autos['Power'] != 0), 'Power'].median()\n",
        "\n",
        "    autos.loc[(autos['Model'] == m) & (autos['Power'] < 10) & (autos['RegistrationYear'] > 1930), 'Power'] = \\\n",
        "    autos.loc[(autos['Model'] == m) & (autos['Power'] != 0), 'Power'].median()\n",
        "display(autos.loc[(autos['Power'] < 10) & (autos['Power'] != 0)])"
      ]
    },
    {
      "cell_type": "markdown",
      "metadata": {
        "id": "wfkoC2yX5EDv"
      },
      "source": [
        "Подозрительные маленькие значения устранены, перейдем к подозрительно большим."
      ]
    },
    {
      "cell_type": "code",
      "execution_count": null,
      "metadata": {
        "id": "VNaP2LmQ5EDv",
        "outputId": "066f04bb-a366-4fbb-8aa7-e5241c742c78"
      },
      "outputs": [
        {
          "name": "stdout",
          "output_type": "stream",
          "text": [
            "Больше 1500\n",
            "     index  Power\n",
            "61  1933.0      1\n",
            "90  6006.0      1\n",
            "89  1995.0      1\n",
            "88  2598.0      1\n",
            "87  3199.0      1\n",
            "..     ...    ...\n",
            "15  1781.0      2\n",
            "9   1595.0      2\n",
            "2   1600.0      3\n",
            "1   1800.0      5\n",
            "0   1598.0      5\n",
            "\n",
            "[124 rows x 2 columns]\n"
          ]
        }
      ],
      "source": [
        "print('Больше 1500')\n",
        "print(autos.loc[\n",
        "    autos['Power'] > 1500, 'Power'\n",
        "].value_counts().reset_index().sort_values(by='Power'))"
      ]
    },
    {
      "cell_type": "markdown",
      "metadata": {
        "id": "Dmfky_If5EDv"
      },
      "source": [
        "Слишком больших значений очень много и их диапазон велик. Проверим, какие производители у таких машин."
      ]
    },
    {
      "cell_type": "code",
      "execution_count": null,
      "metadata": {
        "id": "hJ0p4EnB5EDv",
        "outputId": "d21527b0-3ece-44c5-f1b6-082dba423181"
      },
      "outputs": [
        {
          "name": "stdout",
          "output_type": "stream",
          "text": [
            "volkswagen       32\n",
            "opel             25\n",
            "audi             15\n",
            "mercedes_benz    14\n",
            "bmw              14\n",
            "renault          10\n",
            "ford              9\n",
            "fiat              5\n",
            "citroen           4\n",
            "mini              3\n",
            "alfa_romeo        2\n",
            "seat              2\n",
            "toyota            2\n",
            "smart             2\n",
            "chevrolet         2\n",
            "daewoo            1\n",
            "kia               1\n",
            "volvo             1\n",
            "suzuki            1\n",
            "mitsubishi        1\n",
            "skoda             1\n",
            "Name: Brand, dtype: int64\n"
          ]
        }
      ],
      "source": [
        "print(autos.loc[\n",
        "    autos['Power'] > 1500, 'Brand'\n",
        "].value_counts())"
      ]
    },
    {
      "cell_type": "markdown",
      "metadata": {
        "id": "RJ9J2Deh5EDv"
      },
      "source": [
        "Известных производителей сверхмощных спортивных машин в этом списке нет. Скорее всего, все эти значения ошибочны. Последовательно снизим порядок чисел."
      ]
    },
    {
      "cell_type": "code",
      "execution_count": null,
      "metadata": {
        "id": "9lE7W7Vg5EDv",
        "outputId": "578e87c0-830c-43a1-b623-a1e2fe916e5d"
      },
      "outputs": [
        {
          "name": "stdout",
          "output_type": "stream",
          "text": [
            "0\n"
          ]
        }
      ],
      "source": [
        "autos.loc[autos['Power'] > 1500, 'Power'] /= 10\n",
        "autos.loc[autos['Power'] > 1500, 'Power'] /= 10\n",
        "print(autos.loc[autos['Power'] > 1500, 'Power'].count())"
      ]
    },
    {
      "cell_type": "code",
      "execution_count": null,
      "metadata": {
        "id": "ROg6t7V_5EDv",
        "outputId": "238efee0-1692-425c-a5ab-3db9db731eb2"
      },
      "outputs": [
        {
          "data": {
            "image/png": "[encoded data removed]",
            "text/plain": [
              "<Figure size 1080x576 with 2 Axes>"
            ]
          },
          "metadata": {
            "needs_background": "light"
          },
          "output_type": "display_data"
        },
        {
          "data": {
            "text/html": [
              "<div>\n",
              "<style scoped>\n",
              "    .dataframe tbody tr th:only-of-type {\n",
              "        vertical-align: middle;\n",
              "    }\n",
              "\n",
              "    .dataframe tbody tr th {\n",
              "        vertical-align: top;\n",
              "    }\n",
              "\n",
              "    .dataframe thead th {\n",
              "        text-align: right;\n",
              "    }\n",
              "</style>\n",
              "<table border=\"1\" class=\"dataframe\">\n",
              "  <thead>\n",
              "    <tr style=\"text-align: right;\">\n",
              "      <th></th>\n",
              "      <th>Power</th>\n",
              "    </tr>\n",
              "  </thead>\n",
              "  <tbody>\n",
              "    <tr>\n",
              "      <th>count</th>\n",
              "      <td>303531.000000</td>\n",
              "    </tr>\n",
              "    <tr>\n",
              "      <th>mean</th>\n",
              "      <td>121.291485</td>\n",
              "    </tr>\n",
              "    <tr>\n",
              "      <th>std</th>\n",
              "      <td>56.997536</td>\n",
              "    </tr>\n",
              "    <tr>\n",
              "      <th>min</th>\n",
              "      <td>8.000000</td>\n",
              "    </tr>\n",
              "    <tr>\n",
              "      <th>25%</th>\n",
              "      <td>80.000000</td>\n",
              "    </tr>\n",
              "    <tr>\n",
              "      <th>50%</th>\n",
              "      <td>115.000000</td>\n",
              "    </tr>\n",
              "    <tr>\n",
              "      <th>75%</th>\n",
              "      <td>150.000000</td>\n",
              "    </tr>\n",
              "    <tr>\n",
              "      <th>max</th>\n",
              "      <td>1500.000000</td>\n",
              "    </tr>\n",
              "  </tbody>\n",
              "</table>\n",
              "</div>"
            ],
            "text/plain": [
              "               Power\n",
              "count  303531.000000\n",
              "mean      121.291485\n",
              "std        56.997536\n",
              "min         8.000000\n",
              "25%        80.000000\n",
              "50%       115.000000\n",
              "75%       150.000000\n",
              "max      1500.000000"
            ]
          },
          "metadata": {},
          "output_type": "display_data"
        },
        {
          "name": "stdout",
          "output_type": "stream",
          "text": [
            "Число пропусков: 1\n"
          ]
        }
      ],
      "source": [
        "show_num(autos, 'Power')"
      ]
    },
    {
      "cell_type": "markdown",
      "metadata": {
        "id": "XB0yWSZk5EDv"
      },
      "source": [
        "Остается длинный хвост выбросов справа, избавиться от которых не представляется возможным. В остальном распределение выглядит нормальным. Среднее близко к медиане, подавляющее большинство значений колеблется от 80 до 150. Это характерная величина мощности среднестатистических легковых автомобилей.\n",
        "\n",
        "Кроме того, не удалось заполнить 1 пропущенное значение. Его можно удалить."
      ]
    },
    {
      "cell_type": "code",
      "execution_count": null,
      "metadata": {
        "id": "zm7ltJLz5EDv",
        "outputId": "0bde754c-4b3c-45e2-9c88-d29e0b1e7741"
      },
      "outputs": [
        {
          "name": "stdout",
          "output_type": "stream",
          "text": [
            "<class 'pandas.core.frame.DataFrame'>\n",
            "Int64Index: 303531 entries, 0 to 354364\n",
            "Data columns (total 11 columns):\n",
            " #   Column            Non-Null Count   Dtype  \n",
            "---  ------            --------------   -----  \n",
            " 0   Price             303531 non-null  int64  \n",
            " 1   VehicleType       290082 non-null  object \n",
            " 2   RegistrationYear  303531 non-null  int64  \n",
            " 3   Gearbox           292512 non-null  object \n",
            " 4   Power             303531 non-null  float64\n",
            " 5   Model             303531 non-null  object \n",
            " 6   Kilometer         303531 non-null  int64  \n",
            " 7   FuelType          303531 non-null  object \n",
            " 8   Brand             303531 non-null  object \n",
            " 9   Repaired          255157 non-null  object \n",
            " 10  NumberOfPictures  303531 non-null  int64  \n",
            "dtypes: float64(1), int64(4), object(6)\n",
            "memory usage: 27.8+ MB\n",
            "None\n"
          ]
        }
      ],
      "source": [
        "autos = autos.dropna(subset=['Power'])\n",
        "print(autos.info())"
      ]
    },
    {
      "cell_type": "markdown",
      "metadata": {
        "id": "sjeIdBSA5EDw"
      },
      "source": [
        "##### 1.4.2.4. `Kilometer`\n",
        "Распределение пробега выглядит странно: подавляющее большинство значений равно 150000. Возможно, это связано с особенностями сбора данных (например, такое возможно, если пользователь отмечает пробег при помощи \"бегунка\" с максимальным значением 150000; или если это значение по умолчанию).\n",
        "\n",
        "Распределение будет выглядеть более правдоподобным, если снизить порядок этого числа, однако неизвестно, насколько это будет адекватно реальности. Поэтому пока оставим этот столбец как есть.\n",
        "\n",
        "Однако при корреляционном анализе учтем, что этот признак более корректно рассматривать как дискретный, а не интервальный."
      ]
    },
    {
      "cell_type": "markdown",
      "source": [
        "#### 1.4.3. Корреляционный анализ\n",
        "\n",
        "Посмотрим на взаимосвязи признаков."
      ],
      "metadata": {
        "id": "APgd7wOt80nT"
      }
    },
    {
      "cell_type": "code",
      "execution_count": null,
      "metadata": {
        "id": "ewdNJzdq5EDw",
        "outputId": "464f26cd-13e6-4672-b923-847dee44b52f"
      },
      "outputs": [
        {
          "data": {
            "image/png": "[encoded data removed]",
            "text/plain": [
              "<Figure size 648x504 with 2 Axes>"
            ]
          },
          "metadata": {
            "needs_background": "light"
          },
          "output_type": "display_data"
        }
      ],
      "source": [
        "corr_matrix = autos.drop(['NumberOfPictures'], axis=1).phik_matrix(interval_cols=[\n",
        "    'Price',\n",
        "    'Power'\n",
        "])\n",
        "\n",
        "plt.figure(figsize=(9, 7))\n",
        "sns.heatmap(\n",
        "    corr_matrix,\n",
        "    annot=True,\n",
        "    fmt='.2f',\n",
        "    cmap='coolwarm',\n",
        "    vmin=-1,\n",
        "    vmax=1,\n",
        "    center=0\n",
        ")\n",
        "plt.show()"
      ]
    },
    {
      "cell_type": "markdown",
      "metadata": {
        "id": "soIf0wFR5EDw"
      },
      "source": [
        "Все потенциальные входные признаки имеют взаимосвязи с целевым признаком:\n",
        "* `RegistrationYear` и `Model` – сильные;\n",
        "* `Gearbox`, `Power`, `Kilometer`, `Brand`, `Repaired` – средние;\n",
        "* остальные – слабые.\n",
        "\n",
        "При этом `Model` полностью зависиот от `Brand`, что было ожидаемо."
      ]
    },
    {
      "cell_type": "markdown",
      "source": [
        "### Вывод по шагу 1\n",
        "\n",
        "В данных очень большое количество пропусков, аномалий и выбросов, всего 4 дубликата.\n",
        "\n",
        "Удалили 11% строк.\n",
        "\n",
        "Пропуски в категориальных и количественных признаках частично восстановили модой для каждой модели. Пропуски, которые не представляется возможным восстановить, заменим на \"заглушки\" `unknown`.\n",
        "\n",
        "Все потенциальные входные признаки имеют взаимосвязи с целевым признаком, но особенно сильной взаимосвязи у `Price` нет ни с одним из признаков. При этом `Model` полностью зависиот от `Brand`, что было ожидаемо."
      ],
      "metadata": {
        "id": "1c1tQn6w9e9I"
      }
    },
    {
      "cell_type": "markdown",
      "metadata": {
        "id": "0EITa8qX5EDw"
      },
      "source": [
        "## 2. Обучение моделей\n",
        "\n"
      ]
    },
    {
      "cell_type": "markdown",
      "source": [
        "### 2.1. Разделение на выборки, заполнение пропусков\n",
        "Разделим данные на тренировочную, валидационную и тестовую выборки в соотношении 3:1:1.\n",
        "\n",
        "Затем заполним оставшиеся пропуски."
      ],
      "metadata": {
        "id": "bXVNAMf29qke"
      }
    },
    {
      "cell_type": "code",
      "execution_count": null,
      "metadata": {
        "scrolled": true,
        "id": "GQKxzJ3O5EDw"
      },
      "outputs": [],
      "source": [
        "X_train, X_test_valid, y_train, y_test_valid = train_test_split(\n",
        "    autos.drop([\n",
        "        'Price',\n",
        "        'NumberOfPictures'\n",
        "    ],axis=1),\n",
        "    autos['Price'],\n",
        "    test_size=0.4,\n",
        "    random_state=RANDOM_STATE)\n",
        "X_test, X_valid, y_test, y_valid = train_test_split(\n",
        "    X_test_valid,\n",
        "    y_test_valid,\n",
        "    test_size=0.5,\n",
        "    random_state=RANDOM_STATE)"
      ]
    },
    {
      "cell_type": "code",
      "execution_count": null,
      "metadata": {
        "scrolled": true,
        "id": "O9Mxnk1w5EDw",
        "outputId": "4d615568-509a-4885-9409-c5db01c56021"
      },
      "outputs": [
        {
          "name": "stdout",
          "output_type": "stream",
          "text": [
            "<class 'pandas.core.frame.DataFrame'>\n",
            "RangeIndex: 182118 entries, 0 to 182117\n",
            "Data columns (total 9 columns):\n",
            " #   Column            Non-Null Count   Dtype  \n",
            "---  ------            --------------   -----  \n",
            " 0   RegistrationYear  182118 non-null  int64  \n",
            " 1   Power             182118 non-null  float64\n",
            " 2   Kilometer         182118 non-null  int64  \n",
            " 3   VehicleType       182118 non-null  object \n",
            " 4   Gearbox           182118 non-null  object \n",
            " 5   Model             182118 non-null  object \n",
            " 6   FuelType          182118 non-null  object \n",
            " 7   Brand             182118 non-null  object \n",
            " 8   Repaired          182118 non-null  object \n",
            "dtypes: float64(1), int64(2), object(6)\n",
            "memory usage: 12.5+ MB\n"
          ]
        },
        {
          "data": {
            "text/plain": [
              "None"
            ]
          },
          "metadata": {},
          "output_type": "display_data"
        },
        {
          "name": "stdout",
          "output_type": "stream",
          "text": [
            "<class 'pandas.core.frame.DataFrame'>\n",
            "RangeIndex: 60706 entries, 0 to 60705\n",
            "Data columns (total 9 columns):\n",
            " #   Column            Non-Null Count  Dtype  \n",
            "---  ------            --------------  -----  \n",
            " 0   RegistrationYear  60706 non-null  int64  \n",
            " 1   Power             60706 non-null  float64\n",
            " 2   Kilometer         60706 non-null  int64  \n",
            " 3   VehicleType       60706 non-null  object \n",
            " 4   Gearbox           60706 non-null  object \n",
            " 5   Model             60706 non-null  object \n",
            " 6   FuelType          60706 non-null  object \n",
            " 7   Brand             60706 non-null  object \n",
            " 8   Repaired          60706 non-null  object \n",
            "dtypes: float64(1), int64(2), object(6)\n",
            "memory usage: 4.2+ MB\n"
          ]
        },
        {
          "data": {
            "text/plain": [
              "None"
            ]
          },
          "metadata": {},
          "output_type": "display_data"
        },
        {
          "name": "stdout",
          "output_type": "stream",
          "text": [
            "<class 'pandas.core.frame.DataFrame'>\n",
            "RangeIndex: 60707 entries, 0 to 60706\n",
            "Data columns (total 9 columns):\n",
            " #   Column            Non-Null Count  Dtype  \n",
            "---  ------            --------------  -----  \n",
            " 0   RegistrationYear  60707 non-null  int64  \n",
            " 1   Power             60707 non-null  float64\n",
            " 2   Kilometer         60707 non-null  int64  \n",
            " 3   VehicleType       60707 non-null  object \n",
            " 4   Gearbox           60707 non-null  object \n",
            " 5   Model             60707 non-null  object \n",
            " 6   FuelType          60707 non-null  object \n",
            " 7   Brand             60707 non-null  object \n",
            " 8   Repaired          60707 non-null  object \n",
            "dtypes: float64(1), int64(2), object(6)\n",
            "memory usage: 4.2+ MB\n"
          ]
        },
        {
          "data": {
            "text/plain": [
              "None"
            ]
          },
          "metadata": {},
          "output_type": "display_data"
        }
      ],
      "source": [
        "cat_columns = ['VehicleType',\n",
        "               'Gearbox',\n",
        "               'Model',\n",
        "               'FuelType',\n",
        "               'Brand',\n",
        "               'Repaired']\n",
        "\n",
        "imputer = SimpleImputer(\n",
        "    missing_values=np.nan,\n",
        "    strategy='constant',\n",
        "    fill_value='unknown')\n",
        "\n",
        "cat_columns_imputed_train = pd.DataFrame(\n",
        "    imputer.fit_transform(X_train[cat_columns]),\n",
        "    columns=cat_columns\n",
        ")\n",
        "cat_columns_imputed_test = pd.DataFrame(\n",
        "    imputer.transform(X_test[cat_columns]),\n",
        "    columns=cat_columns\n",
        ")\n",
        "cat_columns_imputed_valid = pd.DataFrame(\n",
        "    imputer.transform(X_valid[cat_columns]),\n",
        "    columns=cat_columns\n",
        ")\n",
        "X_train_imputed = X_train[[\n",
        "    'RegistrationYear',\n",
        "    'Power',\n",
        "    'Kilometer'\n",
        "]].reset_index(drop=True).join(cat_columns_imputed_train)\n",
        "\n",
        "X_test_imputed = X_test[[\n",
        "    'RegistrationYear',\n",
        "    'Power',\n",
        "    'Kilometer'\n",
        "]].reset_index(drop=True).join(cat_columns_imputed_test)\n",
        "\n",
        "X_valid_imputed = X_valid[[\n",
        "    'RegistrationYear',\n",
        "    'Power',\n",
        "    'Kilometer'\n",
        "]].reset_index(drop=True).join(cat_columns_imputed_valid)\n",
        "\n",
        "display(X_train_imputed.info())\n",
        "display(X_test_imputed.info())\n",
        "display(X_valid_imputed.info())"
      ]
    },
    {
      "cell_type": "markdown",
      "metadata": {
        "id": "dWrvK05x5EDx"
      },
      "source": [
        "Данные разделены на выборки, все пропуски заполнены. Перейдем к обучению моделей."
      ]
    },
    {
      "cell_type": "markdown",
      "source": [
        "### 2.2. SVR\n",
        "Сначала обучим модель `SVR` с ядром `rbf`. Для этого закодируем категориальные признаки и масштабируем количественные.\n",
        "\n",
        "Поскольку заказчику важна скорость выполнения, отметим время, за которое модель обучается и выполняет предсказания."
      ],
      "metadata": {
        "id": "Ui5jJ8Qr9yQp"
      }
    },
    {
      "cell_type": "code",
      "execution_count": null,
      "metadata": {
        "id": "kxq4jteh5EDx",
        "outputId": "59b1c87a-5f00-4c30-f451-b9632a4ee5b8"
      },
      "outputs": [
        {
          "name": "stderr",
          "output_type": "stream",
          "text": [
            "/opt/conda/lib/python3.9/site-packages/sklearn/preprocessing/_encoders.py:242: UserWarning: Found unknown categories in columns [2] during transform. These unknown categories will be encoded as all zeros\n",
            "  warnings.warn(\n"
          ]
        }
      ],
      "source": [
        "cat_columns = ['VehicleType',\n",
        "               'Gearbox',\n",
        "               'Model',\n",
        "               'FuelType',\n",
        "               'Brand',\n",
        "               'Repaired']\n",
        "\n",
        "num_columns = ['RegistrationYear',\n",
        "               'Power',\n",
        "               'Kilometer']\n",
        "\n",
        "enc_pipe = Pipeline(\n",
        "    [('encoder', TargetEncoder())]\n",
        ")\n",
        "\n",
        "data_preprocessor_svr = ColumnTransformer(\n",
        "    [\n",
        "        ('cat',\n",
        "         OneHotEncoder(\n",
        "             drop='first',\n",
        "             handle_unknown='ignore',\n",
        "             sparse_output=False),\n",
        "        cat_columns),\n",
        "        ('num', StandardScaler(), num_columns)\n",
        "    ],\n",
        "    remainder='passthrough'\n",
        ")\n",
        "\n",
        "X_train_svr = data_preprocessor_svr.fit_transform(X_train_imputed)\n",
        "X_valid_svr = data_preprocessor_svr.transform(X_valid_imputed)"
      ]
    },
    {
      "cell_type": "code",
      "execution_count": null,
      "metadata": {
        "id": "anPb5Kmm5EDx",
        "outputId": "2c6bc47f-1d10-40e2-e164-528bf1460c75"
      },
      "outputs": [
        {
          "name": "stdout",
          "output_type": "stream",
          "text": [
            "CPU times: user 2h 48min 32s, sys: 6.09 s, total: 2h 48min 38s\n",
            "Wall time: 2h 48min 52s\n"
          ]
        },
        {
          "data": {
            "text/html": [
              "<style>#sk-container-id-1 {\n",
              "  /* Definition of color scheme common for light and dark mode */\n",
              "  --sklearn-color-text: black;\n",
              "  --sklearn-color-line: gray;\n",
              "  /* Definition of color scheme for unfitted estimators */\n",
              "  --sklearn-color-unfitted-level-0: #fff5e6;\n",
              "  --sklearn-color-unfitted-level-1: #f6e4d2;\n",
              "  --sklearn-color-unfitted-level-2: #ffe0b3;\n",
              "  --sklearn-color-unfitted-level-3: chocolate;\n",
              "  /* Definition of color scheme for fitted estimators */\n",
              "  --sklearn-color-fitted-level-0: #f0f8ff;\n",
              "  --sklearn-color-fitted-level-1: #d4ebff;\n",
              "  --sklearn-color-fitted-level-2: #b3dbfd;\n",
              "  --sklearn-color-fitted-level-3: cornflowerblue;\n",
              "\n",
              "  /* Specific color for light theme */\n",
              "  --sklearn-color-text-on-default-background: var(--sg-text-color, var(--theme-code-foreground, var(--jp-content-font-color1, black)));\n",
              "  --sklearn-color-background: var(--sg-background-color, var(--theme-background, var(--jp-layout-color0, white)));\n",
              "  --sklearn-color-border-box: var(--sg-text-color, var(--theme-code-foreground, var(--jp-content-font-color1, black)));\n",
              "  --sklearn-color-icon: #696969;\n",
              "\n",
              "  @media (prefers-color-scheme: dark) {\n",
              "    /* Redefinition of color scheme for dark theme */\n",
              "    --sklearn-color-text-on-default-background: var(--sg-text-color, var(--theme-code-foreground, var(--jp-content-font-color1, white)));\n",
              "    --sklearn-color-background: var(--sg-background-color, var(--theme-background, var(--jp-layout-color0, #111)));\n",
              "    --sklearn-color-border-box: var(--sg-text-color, var(--theme-code-foreground, var(--jp-content-font-color1, white)));\n",
              "    --sklearn-color-icon: #878787;\n",
              "  }\n",
              "}\n",
              "\n",
              "#sk-container-id-1 {\n",
              "  color: var(--sklearn-color-text);\n",
              "}\n",
              "\n",
              "#sk-container-id-1 pre {\n",
              "  padding: 0;\n",
              "}\n",
              "\n",
              "#sk-container-id-1 input.sk-hidden--visually {\n",
              "  border: 0;\n",
              "  clip: rect(1px 1px 1px 1px);\n",
              "  clip: rect(1px, 1px, 1px, 1px);\n",
              "  height: 1px;\n",
              "  margin: -1px;\n",
              "  overflow: hidden;\n",
              "  padding: 0;\n",
              "  position: absolute;\n",
              "  width: 1px;\n",
              "}\n",
              "\n",
              "#sk-container-id-1 div.sk-dashed-wrapped {\n",
              "  border: 1px dashed var(--sklearn-color-line);\n",
              "  margin: 0 0.4em 0.5em 0.4em;\n",
              "  box-sizing: border-box;\n",
              "  padding-bottom: 0.4em;\n",
              "  background-color: var(--sklearn-color-background);\n",
              "}\n",
              "\n",
              "#sk-container-id-1 div.sk-container {\n",
              "  /* jupyter's `normalize.less` sets `[hidden] { display: none; }`\n",
              "     but bootstrap.min.css set `[hidden] { display: none !important; }`\n",
              "     so we also need the `!important` here to be able to override the\n",
              "     default hidden behavior on the sphinx rendered scikit-learn.org.\n",
              "     See: https://github.com/scikit-learn/scikit-learn/issues/21755 */\n",
              "  display: inline-block !important;\n",
              "  position: relative;\n",
              "}\n",
              "\n",
              "#sk-container-id-1 div.sk-text-repr-fallback {\n",
              "  display: none;\n",
              "}\n",
              "\n",
              "div.sk-parallel-item,\n",
              "div.sk-serial,\n",
              "div.sk-item {\n",
              "  /* draw centered vertical line to link estimators */\n",
              "  background-image: linear-gradient(var(--sklearn-color-text-on-default-background), var(--sklearn-color-text-on-default-background));\n",
              "  background-size: 2px 100%;\n",
              "  background-repeat: no-repeat;\n",
              "  background-position: center center;\n",
              "}\n",
              "\n",
              "/* Parallel-specific style estimator block */\n",
              "\n",
              "#sk-container-id-1 div.sk-parallel-item::after {\n",
              "  content: \"\";\n",
              "  width: 100%;\n",
              "  border-bottom: 2px solid var(--sklearn-color-text-on-default-background);\n",
              "  flex-grow: 1;\n",
              "}\n",
              "\n",
              "#sk-container-id-1 div.sk-parallel {\n",
              "  display: flex;\n",
              "  align-items: stretch;\n",
              "  justify-content: center;\n",
              "  background-color: var(--sklearn-color-background);\n",
              "  position: relative;\n",
              "}\n",
              "\n",
              "#sk-container-id-1 div.sk-parallel-item {\n",
              "  display: flex;\n",
              "  flex-direction: column;\n",
              "}\n",
              "\n",
              "#sk-container-id-1 div.sk-parallel-item:first-child::after {\n",
              "  align-self: flex-end;\n",
              "  width: 50%;\n",
              "}\n",
              "\n",
              "#sk-container-id-1 div.sk-parallel-item:last-child::after {\n",
              "  align-self: flex-start;\n",
              "  width: 50%;\n",
              "}\n",
              "\n",
              "#sk-container-id-1 div.sk-parallel-item:only-child::after {\n",
              "  width: 0;\n",
              "}\n",
              "\n",
              "/* Serial-specific style estimator block */\n",
              "\n",
              "#sk-container-id-1 div.sk-serial {\n",
              "  display: flex;\n",
              "  flex-direction: column;\n",
              "  align-items: center;\n",
              "  background-color: var(--sklearn-color-background);\n",
              "  padding-right: 1em;\n",
              "  padding-left: 1em;\n",
              "}\n",
              "\n",
              "\n",
              "/* Toggleable style: style used for estimator/Pipeline/ColumnTransformer box that is\n",
              "clickable and can be expanded/collapsed.\n",
              "- Pipeline and ColumnTransformer use this feature and define the default style\n",
              "- Estimators will overwrite some part of the style using the `sk-estimator` class\n",
              "*/\n",
              "\n",
              "/* Pipeline and ColumnTransformer style (default) */\n",
              "\n",
              "#sk-container-id-1 div.sk-toggleable {\n",
              "  /* Default theme specific background. It is overwritten whether we have a\n",
              "  specific estimator or a Pipeline/ColumnTransformer */\n",
              "  background-color: var(--sklearn-color-background);\n",
              "}\n",
              "\n",
              "/* Toggleable label */\n",
              "#sk-container-id-1 label.sk-toggleable__label {\n",
              "  cursor: pointer;\n",
              "  display: block;\n",
              "  width: 100%;\n",
              "  margin-bottom: 0;\n",
              "  padding: 0.5em;\n",
              "  box-sizing: border-box;\n",
              "  text-align: center;\n",
              "}\n",
              "\n",
              "#sk-container-id-1 label.sk-toggleable__label-arrow:before {\n",
              "  /* Arrow on the left of the label */\n",
              "  content: \"▸\";\n",
              "  float: left;\n",
              "  margin-right: 0.25em;\n",
              "  color: var(--sklearn-color-icon);\n",
              "}\n",
              "\n",
              "#sk-container-id-1 label.sk-toggleable__label-arrow:hover:before {\n",
              "  color: var(--sklearn-color-text);\n",
              "}\n",
              "\n",
              "/* Toggleable content - dropdown */\n",
              "\n",
              "#sk-container-id-1 div.sk-toggleable__content {\n",
              "  max-height: 0;\n",
              "  max-width: 0;\n",
              "  overflow: hidden;\n",
              "  text-align: left;\n",
              "  /* unfitted */\n",
              "  background-color: var(--sklearn-color-unfitted-level-0);\n",
              "}\n",
              "\n",
              "#sk-container-id-1 div.sk-toggleable__content.fitted {\n",
              "  /* fitted */\n",
              "  background-color: var(--sklearn-color-fitted-level-0);\n",
              "}\n",
              "\n",
              "#sk-container-id-1 div.sk-toggleable__content pre {\n",
              "  margin: 0.2em;\n",
              "  border-radius: 0.25em;\n",
              "  color: var(--sklearn-color-text);\n",
              "  /* unfitted */\n",
              "  background-color: var(--sklearn-color-unfitted-level-0);\n",
              "}\n",
              "\n",
              "#sk-container-id-1 div.sk-toggleable__content.fitted pre {\n",
              "  /* unfitted */\n",
              "  background-color: var(--sklearn-color-fitted-level-0);\n",
              "}\n",
              "\n",
              "#sk-container-id-1 input.sk-toggleable__control:checked~div.sk-toggleable__content {\n",
              "  /* Expand drop-down */\n",
              "  max-height: 200px;\n",
              "  max-width: 100%;\n",
              "  overflow: auto;\n",
              "}\n",
              "\n",
              "#sk-container-id-1 input.sk-toggleable__control:checked~label.sk-toggleable__label-arrow:before {\n",
              "  content: \"▾\";\n",
              "}\n",
              "\n",
              "/* Pipeline/ColumnTransformer-specific style */\n",
              "\n",
              "#sk-container-id-1 div.sk-label input.sk-toggleable__control:checked~label.sk-toggleable__label {\n",
              "  color: var(--sklearn-color-text);\n",
              "  background-color: var(--sklearn-color-unfitted-level-2);\n",
              "}\n",
              "\n",
              "#sk-container-id-1 div.sk-label.fitted input.sk-toggleable__control:checked~label.sk-toggleable__label {\n",
              "  background-color: var(--sklearn-color-fitted-level-2);\n",
              "}\n",
              "\n",
              "/* Estimator-specific style */\n",
              "\n",
              "/* Colorize estimator box */\n",
              "#sk-container-id-1 div.sk-estimator input.sk-toggleable__control:checked~label.sk-toggleable__label {\n",
              "  /* unfitted */\n",
              "  background-color: var(--sklearn-color-unfitted-level-2);\n",
              "}\n",
              "\n",
              "#sk-container-id-1 div.sk-estimator.fitted input.sk-toggleable__control:checked~label.sk-toggleable__label {\n",
              "  /* fitted */\n",
              "  background-color: var(--sklearn-color-fitted-level-2);\n",
              "}\n",
              "\n",
              "#sk-container-id-1 div.sk-label label.sk-toggleable__label,\n",
              "#sk-container-id-1 div.sk-label label {\n",
              "  /* The background is the default theme color */\n",
              "  color: var(--sklearn-color-text-on-default-background);\n",
              "}\n",
              "\n",
              "/* On hover, darken the color of the background */\n",
              "#sk-container-id-1 div.sk-label:hover label.sk-toggleable__label {\n",
              "  color: var(--sklearn-color-text);\n",
              "  background-color: var(--sklearn-color-unfitted-level-2);\n",
              "}\n",
              "\n",
              "/* Label box, darken color on hover, fitted */\n",
              "#sk-container-id-1 div.sk-label.fitted:hover label.sk-toggleable__label.fitted {\n",
              "  color: var(--sklearn-color-text);\n",
              "  background-color: var(--sklearn-color-fitted-level-2);\n",
              "}\n",
              "\n",
              "/* Estimator label */\n",
              "\n",
              "#sk-container-id-1 div.sk-label label {\n",
              "  font-family: monospace;\n",
              "  font-weight: bold;\n",
              "  display: inline-block;\n",
              "  line-height: 1.2em;\n",
              "}\n",
              "\n",
              "#sk-container-id-1 div.sk-label-container {\n",
              "  text-align: center;\n",
              "}\n",
              "\n",
              "/* Estimator-specific */\n",
              "#sk-container-id-1 div.sk-estimator {\n",
              "  font-family: monospace;\n",
              "  border: 1px dotted var(--sklearn-color-border-box);\n",
              "  border-radius: 0.25em;\n",
              "  box-sizing: border-box;\n",
              "  margin-bottom: 0.5em;\n",
              "  /* unfitted */\n",
              "  background-color: var(--sklearn-color-unfitted-level-0);\n",
              "}\n",
              "\n",
              "#sk-container-id-1 div.sk-estimator.fitted {\n",
              "  /* fitted */\n",
              "  background-color: var(--sklearn-color-fitted-level-0);\n",
              "}\n",
              "\n",
              "/* on hover */\n",
              "#sk-container-id-1 div.sk-estimator:hover {\n",
              "  /* unfitted */\n",
              "  background-color: var(--sklearn-color-unfitted-level-2);\n",
              "}\n",
              "\n",
              "#sk-container-id-1 div.sk-estimator.fitted:hover {\n",
              "  /* fitted */\n",
              "  background-color: var(--sklearn-color-fitted-level-2);\n",
              "}\n",
              "\n",
              "/* Specification for estimator info (e.g. \"i\" and \"?\") */\n",
              "\n",
              "/* Common style for \"i\" and \"?\" */\n",
              "\n",
              ".sk-estimator-doc-link,\n",
              "a:link.sk-estimator-doc-link,\n",
              "a:visited.sk-estimator-doc-link {\n",
              "  float: right;\n",
              "  font-size: smaller;\n",
              "  line-height: 1em;\n",
              "  font-family: monospace;\n",
              "  background-color: var(--sklearn-color-background);\n",
              "  border-radius: 1em;\n",
              "  height: 1em;\n",
              "  width: 1em;\n",
              "  text-decoration: none !important;\n",
              "  margin-left: 1ex;\n",
              "  /* unfitted */\n",
              "  border: var(--sklearn-color-unfitted-level-1) 1pt solid;\n",
              "  color: var(--sklearn-color-unfitted-level-1);\n",
              "}\n",
              "\n",
              ".sk-estimator-doc-link.fitted,\n",
              "a:link.sk-estimator-doc-link.fitted,\n",
              "a:visited.sk-estimator-doc-link.fitted {\n",
              "  /* fitted */\n",
              "  border: var(--sklearn-color-fitted-level-1) 1pt solid;\n",
              "  color: var(--sklearn-color-fitted-level-1);\n",
              "}\n",
              "\n",
              "/* On hover */\n",
              "div.sk-estimator:hover .sk-estimator-doc-link:hover,\n",
              ".sk-estimator-doc-link:hover,\n",
              "div.sk-label-container:hover .sk-estimator-doc-link:hover,\n",
              ".sk-estimator-doc-link:hover {\n",
              "  /* unfitted */\n",
              "  background-color: var(--sklearn-color-unfitted-level-3);\n",
              "  color: var(--sklearn-color-background);\n",
              "  text-decoration: none;\n",
              "}\n",
              "\n",
              "div.sk-estimator.fitted:hover .sk-estimator-doc-link.fitted:hover,\n",
              ".sk-estimator-doc-link.fitted:hover,\n",
              "div.sk-label-container:hover .sk-estimator-doc-link.fitted:hover,\n",
              ".sk-estimator-doc-link.fitted:hover {\n",
              "  /* fitted */\n",
              "  background-color: var(--sklearn-color-fitted-level-3);\n",
              "  color: var(--sklearn-color-background);\n",
              "  text-decoration: none;\n",
              "}\n",
              "\n",
              "/* Span, style for the box shown on hovering the info icon */\n",
              ".sk-estimator-doc-link span {\n",
              "  display: none;\n",
              "  z-index: 9999;\n",
              "  position: relative;\n",
              "  font-weight: normal;\n",
              "  right: .2ex;\n",
              "  padding: .5ex;\n",
              "  margin: .5ex;\n",
              "  width: min-content;\n",
              "  min-width: 20ex;\n",
              "  max-width: 50ex;\n",
              "  color: var(--sklearn-color-text);\n",
              "  box-shadow: 2pt 2pt 4pt #999;\n",
              "  /* unfitted */\n",
              "  background: var(--sklearn-color-unfitted-level-0);\n",
              "  border: .5pt solid var(--sklearn-color-unfitted-level-3);\n",
              "}\n",
              "\n",
              ".sk-estimator-doc-link.fitted span {\n",
              "  /* fitted */\n",
              "  background: var(--sklearn-color-fitted-level-0);\n",
              "  border: var(--sklearn-color-fitted-level-3);\n",
              "}\n",
              "\n",
              ".sk-estimator-doc-link:hover span {\n",
              "  display: block;\n",
              "}\n",
              "\n",
              "/* \"?\"-specific style due to the `<a>` HTML tag */\n",
              "\n",
              "#sk-container-id-1 a.estimator_doc_link {\n",
              "  float: right;\n",
              "  font-size: 1rem;\n",
              "  line-height: 1em;\n",
              "  font-family: monospace;\n",
              "  background-color: var(--sklearn-color-background);\n",
              "  border-radius: 1rem;\n",
              "  height: 1rem;\n",
              "  width: 1rem;\n",
              "  text-decoration: none;\n",
              "  /* unfitted */\n",
              "  color: var(--sklearn-color-unfitted-level-1);\n",
              "  border: var(--sklearn-color-unfitted-level-1) 1pt solid;\n",
              "}\n",
              "\n",
              "#sk-container-id-1 a.estimator_doc_link.fitted {\n",
              "  /* fitted */\n",
              "  border: var(--sklearn-color-fitted-level-1) 1pt solid;\n",
              "  color: var(--sklearn-color-fitted-level-1);\n",
              "}\n",
              "\n",
              "/* On hover */\n",
              "#sk-container-id-1 a.estimator_doc_link:hover {\n",
              "  /* unfitted */\n",
              "  background-color: var(--sklearn-color-unfitted-level-3);\n",
              "  color: var(--sklearn-color-background);\n",
              "  text-decoration: none;\n",
              "}\n",
              "\n",
              "#sk-container-id-1 a.estimator_doc_link.fitted:hover {\n",
              "  /* fitted */\n",
              "  background-color: var(--sklearn-color-fitted-level-3);\n",
              "}\n",
              "</style><div id=\"sk-container-id-1\" class=\"sk-top-container\"><div class=\"sk-text-repr-fallback\"><pre>SVR()</pre><b>In a Jupyter environment, please rerun this cell to show the HTML representation or trust the notebook. <br />On GitHub, the HTML representation is unable to render, please try loading this page with nbviewer.org.</b></div><div class=\"sk-container\" hidden><div class=\"sk-item\"><div class=\"sk-estimator fitted sk-toggleable\"><input class=\"sk-toggleable__control sk-hidden--visually\" id=\"sk-estimator-id-1\" type=\"checkbox\" checked><label for=\"sk-estimator-id-1\" class=\"sk-toggleable__label fitted sk-toggleable__label-arrow fitted\">&nbsp;&nbsp;SVR<a class=\"sk-estimator-doc-link fitted\" rel=\"noreferrer\" target=\"_blank\" href=\"https://scikit-learn.org/1.5/modules/generated/sklearn.svm.SVR.html\">?<span>Documentation for SVR</span></a><span class=\"sk-estimator-doc-link fitted\">i<span>Fitted</span></span></label><div class=\"sk-toggleable__content fitted\"><pre>SVR()</pre></div> </div></div></div></div>"
            ],
            "text/plain": [
              "SVR()"
            ]
          },
          "execution_count": 35,
          "metadata": {},
          "output_type": "execute_result"
        }
      ],
      "source": [
        "%%time\n",
        "model_svr = SVR(kernel='rbf')\n",
        "model_svr.fit(X_train_svr, y_train)"
      ]
    },
    {
      "cell_type": "code",
      "execution_count": null,
      "metadata": {
        "id": "HTDqwCvF5EDx",
        "outputId": "4ef2914f-f39f-4101-896d-b7731e8f186a"
      },
      "outputs": [
        {
          "name": "stdout",
          "output_type": "stream",
          "text": [
            "CPU times: user 1h 13min 13s, sys: 1.94 s, total: 1h 13min 15s\n",
            "Wall time: 1h 13min 21s\n"
          ]
        }
      ],
      "source": [
        "%%time\n",
        "y_valid_pred_svr = model_svr.predict(X_valid_svr)"
      ]
    },
    {
      "cell_type": "code",
      "execution_count": null,
      "metadata": {
        "id": "CQqYcNl25EDx",
        "outputId": "e9467966-3108-4f14-bdc9-6e49a68aa727"
      },
      "outputs": [
        {
          "name": "stdout",
          "output_type": "stream",
          "text": [
            "Метрика RMSE на валидационной выборке: 2974.368141531631\n"
          ]
        }
      ],
      "source": [
        "print('Метрика RMSE на валидационной выборке:',\n",
        "     np.sqrt(mean_squared_error(y_valid, y_valid_pred_svr)))"
      ]
    },
    {
      "cell_type": "markdown",
      "metadata": {
        "id": "NwWqN81B5EDx"
      },
      "source": [
        "Модель `SVR` показала неудовлетворительный результат. Она долго обучается и дает недостаточно точные предсказания.\n",
        "\n",
        "Предположительно, `LGBMRegressor` справится быстрее и точнее.\n",
        "\n"
      ]
    },
    {
      "cell_type": "markdown",
      "source": [
        "### 2.3. LGBMRegressor\n",
        "\n",
        "Модель `LGBM`, в отличие от `SVR`, не требует масштабирования входных признаков, а кодирование для нее лучше выполнять другим методом. Применим `TargetEncoder()`.\n"
      ],
      "metadata": {
        "id": "lR5dYjuq-ZSI"
      }
    },
    {
      "cell_type": "code",
      "execution_count": null,
      "metadata": {
        "id": "oHHbTbmZ5EDx"
      },
      "outputs": [],
      "source": [
        "data_preprocessor_lgbm = ColumnTransformer(\n",
        "    [\n",
        "        ('cat', TargetEncoder(target_type='continuous', random_state=RANDOM_STATE), cat_columns)\n",
        "    ],\n",
        "    remainder='passthrough'\n",
        ")\n",
        "\n",
        "X_train_lgbm = data_preprocessor_lgbm.fit_transform(X_train_imputed, y_train)\n",
        "X_valid_lgbm = data_preprocessor_lgbm.transform(X_valid_imputed)\n"
      ]
    },
    {
      "cell_type": "code",
      "execution_count": null,
      "metadata": {
        "id": "_Po1lj_15EDy",
        "outputId": "834ebc4c-8664-4d31-a75e-aedde426858a"
      },
      "outputs": [
        {
          "name": "stdout",
          "output_type": "stream",
          "text": [
            "CPU times: user 5min 26s, sys: 3.37 s, total: 5min 29s\n",
            "Wall time: 5min 32s\n"
          ]
        },
        {
          "data": {
            "text/html": [
              "<style>#sk-container-id-1 {\n",
              "  /* Definition of color scheme common for light and dark mode */\n",
              "  --sklearn-color-text: black;\n",
              "  --sklearn-color-line: gray;\n",
              "  /* Definition of color scheme for unfitted estimators */\n",
              "  --sklearn-color-unfitted-level-0: #fff5e6;\n",
              "  --sklearn-color-unfitted-level-1: #f6e4d2;\n",
              "  --sklearn-color-unfitted-level-2: #ffe0b3;\n",
              "  --sklearn-color-unfitted-level-3: chocolate;\n",
              "  /* Definition of color scheme for fitted estimators */\n",
              "  --sklearn-color-fitted-level-0: #f0f8ff;\n",
              "  --sklearn-color-fitted-level-1: #d4ebff;\n",
              "  --sklearn-color-fitted-level-2: #b3dbfd;\n",
              "  --sklearn-color-fitted-level-3: cornflowerblue;\n",
              "\n",
              "  /* Specific color for light theme */\n",
              "  --sklearn-color-text-on-default-background: var(--sg-text-color, var(--theme-code-foreground, var(--jp-content-font-color1, black)));\n",
              "  --sklearn-color-background: var(--sg-background-color, var(--theme-background, var(--jp-layout-color0, white)));\n",
              "  --sklearn-color-border-box: var(--sg-text-color, var(--theme-code-foreground, var(--jp-content-font-color1, black)));\n",
              "  --sklearn-color-icon: #696969;\n",
              "\n",
              "  @media (prefers-color-scheme: dark) {\n",
              "    /* Redefinition of color scheme for dark theme */\n",
              "    --sklearn-color-text-on-default-background: var(--sg-text-color, var(--theme-code-foreground, var(--jp-content-font-color1, white)));\n",
              "    --sklearn-color-background: var(--sg-background-color, var(--theme-background, var(--jp-layout-color0, #111)));\n",
              "    --sklearn-color-border-box: var(--sg-text-color, var(--theme-code-foreground, var(--jp-content-font-color1, white)));\n",
              "    --sklearn-color-icon: #878787;\n",
              "  }\n",
              "}\n",
              "\n",
              "#sk-container-id-1 {\n",
              "  color: var(--sklearn-color-text);\n",
              "}\n",
              "\n",
              "#sk-container-id-1 pre {\n",
              "  padding: 0;\n",
              "}\n",
              "\n",
              "#sk-container-id-1 input.sk-hidden--visually {\n",
              "  border: 0;\n",
              "  clip: rect(1px 1px 1px 1px);\n",
              "  clip: rect(1px, 1px, 1px, 1px);\n",
              "  height: 1px;\n",
              "  margin: -1px;\n",
              "  overflow: hidden;\n",
              "  padding: 0;\n",
              "  position: absolute;\n",
              "  width: 1px;\n",
              "}\n",
              "\n",
              "#sk-container-id-1 div.sk-dashed-wrapped {\n",
              "  border: 1px dashed var(--sklearn-color-line);\n",
              "  margin: 0 0.4em 0.5em 0.4em;\n",
              "  box-sizing: border-box;\n",
              "  padding-bottom: 0.4em;\n",
              "  background-color: var(--sklearn-color-background);\n",
              "}\n",
              "\n",
              "#sk-container-id-1 div.sk-container {\n",
              "  /* jupyter's `normalize.less` sets `[hidden] { display: none; }`\n",
              "     but bootstrap.min.css set `[hidden] { display: none !important; }`\n",
              "     so we also need the `!important` here to be able to override the\n",
              "     default hidden behavior on the sphinx rendered scikit-learn.org.\n",
              "     See: https://github.com/scikit-learn/scikit-learn/issues/21755 */\n",
              "  display: inline-block !important;\n",
              "  position: relative;\n",
              "}\n",
              "\n",
              "#sk-container-id-1 div.sk-text-repr-fallback {\n",
              "  display: none;\n",
              "}\n",
              "\n",
              "div.sk-parallel-item,\n",
              "div.sk-serial,\n",
              "div.sk-item {\n",
              "  /* draw centered vertical line to link estimators */\n",
              "  background-image: linear-gradient(var(--sklearn-color-text-on-default-background), var(--sklearn-color-text-on-default-background));\n",
              "  background-size: 2px 100%;\n",
              "  background-repeat: no-repeat;\n",
              "  background-position: center center;\n",
              "}\n",
              "\n",
              "/* Parallel-specific style estimator block */\n",
              "\n",
              "#sk-container-id-1 div.sk-parallel-item::after {\n",
              "  content: \"\";\n",
              "  width: 100%;\n",
              "  border-bottom: 2px solid var(--sklearn-color-text-on-default-background);\n",
              "  flex-grow: 1;\n",
              "}\n",
              "\n",
              "#sk-container-id-1 div.sk-parallel {\n",
              "  display: flex;\n",
              "  align-items: stretch;\n",
              "  justify-content: center;\n",
              "  background-color: var(--sklearn-color-background);\n",
              "  position: relative;\n",
              "}\n",
              "\n",
              "#sk-container-id-1 div.sk-parallel-item {\n",
              "  display: flex;\n",
              "  flex-direction: column;\n",
              "}\n",
              "\n",
              "#sk-container-id-1 div.sk-parallel-item:first-child::after {\n",
              "  align-self: flex-end;\n",
              "  width: 50%;\n",
              "}\n",
              "\n",
              "#sk-container-id-1 div.sk-parallel-item:last-child::after {\n",
              "  align-self: flex-start;\n",
              "  width: 50%;\n",
              "}\n",
              "\n",
              "#sk-container-id-1 div.sk-parallel-item:only-child::after {\n",
              "  width: 0;\n",
              "}\n",
              "\n",
              "/* Serial-specific style estimator block */\n",
              "\n",
              "#sk-container-id-1 div.sk-serial {\n",
              "  display: flex;\n",
              "  flex-direction: column;\n",
              "  align-items: center;\n",
              "  background-color: var(--sklearn-color-background);\n",
              "  padding-right: 1em;\n",
              "  padding-left: 1em;\n",
              "}\n",
              "\n",
              "\n",
              "/* Toggleable style: style used for estimator/Pipeline/ColumnTransformer box that is\n",
              "clickable and can be expanded/collapsed.\n",
              "- Pipeline and ColumnTransformer use this feature and define the default style\n",
              "- Estimators will overwrite some part of the style using the `sk-estimator` class\n",
              "*/\n",
              "\n",
              "/* Pipeline and ColumnTransformer style (default) */\n",
              "\n",
              "#sk-container-id-1 div.sk-toggleable {\n",
              "  /* Default theme specific background. It is overwritten whether we have a\n",
              "  specific estimator or a Pipeline/ColumnTransformer */\n",
              "  background-color: var(--sklearn-color-background);\n",
              "}\n",
              "\n",
              "/* Toggleable label */\n",
              "#sk-container-id-1 label.sk-toggleable__label {\n",
              "  cursor: pointer;\n",
              "  display: block;\n",
              "  width: 100%;\n",
              "  margin-bottom: 0;\n",
              "  padding: 0.5em;\n",
              "  box-sizing: border-box;\n",
              "  text-align: center;\n",
              "}\n",
              "\n",
              "#sk-container-id-1 label.sk-toggleable__label-arrow:before {\n",
              "  /* Arrow on the left of the label */\n",
              "  content: \"▸\";\n",
              "  float: left;\n",
              "  margin-right: 0.25em;\n",
              "  color: var(--sklearn-color-icon);\n",
              "}\n",
              "\n",
              "#sk-container-id-1 label.sk-toggleable__label-arrow:hover:before {\n",
              "  color: var(--sklearn-color-text);\n",
              "}\n",
              "\n",
              "/* Toggleable content - dropdown */\n",
              "\n",
              "#sk-container-id-1 div.sk-toggleable__content {\n",
              "  max-height: 0;\n",
              "  max-width: 0;\n",
              "  overflow: hidden;\n",
              "  text-align: left;\n",
              "  /* unfitted */\n",
              "  background-color: var(--sklearn-color-unfitted-level-0);\n",
              "}\n",
              "\n",
              "#sk-container-id-1 div.sk-toggleable__content.fitted {\n",
              "  /* fitted */\n",
              "  background-color: var(--sklearn-color-fitted-level-0);\n",
              "}\n",
              "\n",
              "#sk-container-id-1 div.sk-toggleable__content pre {\n",
              "  margin: 0.2em;\n",
              "  border-radius: 0.25em;\n",
              "  color: var(--sklearn-color-text);\n",
              "  /* unfitted */\n",
              "  background-color: var(--sklearn-color-unfitted-level-0);\n",
              "}\n",
              "\n",
              "#sk-container-id-1 div.sk-toggleable__content.fitted pre {\n",
              "  /* unfitted */\n",
              "  background-color: var(--sklearn-color-fitted-level-0);\n",
              "}\n",
              "\n",
              "#sk-container-id-1 input.sk-toggleable__control:checked~div.sk-toggleable__content {\n",
              "  /* Expand drop-down */\n",
              "  max-height: 200px;\n",
              "  max-width: 100%;\n",
              "  overflow: auto;\n",
              "}\n",
              "\n",
              "#sk-container-id-1 input.sk-toggleable__control:checked~label.sk-toggleable__label-arrow:before {\n",
              "  content: \"▾\";\n",
              "}\n",
              "\n",
              "/* Pipeline/ColumnTransformer-specific style */\n",
              "\n",
              "#sk-container-id-1 div.sk-label input.sk-toggleable__control:checked~label.sk-toggleable__label {\n",
              "  color: var(--sklearn-color-text);\n",
              "  background-color: var(--sklearn-color-unfitted-level-2);\n",
              "}\n",
              "\n",
              "#sk-container-id-1 div.sk-label.fitted input.sk-toggleable__control:checked~label.sk-toggleable__label {\n",
              "  background-color: var(--sklearn-color-fitted-level-2);\n",
              "}\n",
              "\n",
              "/* Estimator-specific style */\n",
              "\n",
              "/* Colorize estimator box */\n",
              "#sk-container-id-1 div.sk-estimator input.sk-toggleable__control:checked~label.sk-toggleable__label {\n",
              "  /* unfitted */\n",
              "  background-color: var(--sklearn-color-unfitted-level-2);\n",
              "}\n",
              "\n",
              "#sk-container-id-1 div.sk-estimator.fitted input.sk-toggleable__control:checked~label.sk-toggleable__label {\n",
              "  /* fitted */\n",
              "  background-color: var(--sklearn-color-fitted-level-2);\n",
              "}\n",
              "\n",
              "#sk-container-id-1 div.sk-label label.sk-toggleable__label,\n",
              "#sk-container-id-1 div.sk-label label {\n",
              "  /* The background is the default theme color */\n",
              "  color: var(--sklearn-color-text-on-default-background);\n",
              "}\n",
              "\n",
              "/* On hover, darken the color of the background */\n",
              "#sk-container-id-1 div.sk-label:hover label.sk-toggleable__label {\n",
              "  color: var(--sklearn-color-text);\n",
              "  background-color: var(--sklearn-color-unfitted-level-2);\n",
              "}\n",
              "\n",
              "/* Label box, darken color on hover, fitted */\n",
              "#sk-container-id-1 div.sk-label.fitted:hover label.sk-toggleable__label.fitted {\n",
              "  color: var(--sklearn-color-text);\n",
              "  background-color: var(--sklearn-color-fitted-level-2);\n",
              "}\n",
              "\n",
              "/* Estimator label */\n",
              "\n",
              "#sk-container-id-1 div.sk-label label {\n",
              "  font-family: monospace;\n",
              "  font-weight: bold;\n",
              "  display: inline-block;\n",
              "  line-height: 1.2em;\n",
              "}\n",
              "\n",
              "#sk-container-id-1 div.sk-label-container {\n",
              "  text-align: center;\n",
              "}\n",
              "\n",
              "/* Estimator-specific */\n",
              "#sk-container-id-1 div.sk-estimator {\n",
              "  font-family: monospace;\n",
              "  border: 1px dotted var(--sklearn-color-border-box);\n",
              "  border-radius: 0.25em;\n",
              "  box-sizing: border-box;\n",
              "  margin-bottom: 0.5em;\n",
              "  /* unfitted */\n",
              "  background-color: var(--sklearn-color-unfitted-level-0);\n",
              "}\n",
              "\n",
              "#sk-container-id-1 div.sk-estimator.fitted {\n",
              "  /* fitted */\n",
              "  background-color: var(--sklearn-color-fitted-level-0);\n",
              "}\n",
              "\n",
              "/* on hover */\n",
              "#sk-container-id-1 div.sk-estimator:hover {\n",
              "  /* unfitted */\n",
              "  background-color: var(--sklearn-color-unfitted-level-2);\n",
              "}\n",
              "\n",
              "#sk-container-id-1 div.sk-estimator.fitted:hover {\n",
              "  /* fitted */\n",
              "  background-color: var(--sklearn-color-fitted-level-2);\n",
              "}\n",
              "\n",
              "/* Specification for estimator info (e.g. \"i\" and \"?\") */\n",
              "\n",
              "/* Common style for \"i\" and \"?\" */\n",
              "\n",
              ".sk-estimator-doc-link,\n",
              "a:link.sk-estimator-doc-link,\n",
              "a:visited.sk-estimator-doc-link {\n",
              "  float: right;\n",
              "  font-size: smaller;\n",
              "  line-height: 1em;\n",
              "  font-family: monospace;\n",
              "  background-color: var(--sklearn-color-background);\n",
              "  border-radius: 1em;\n",
              "  height: 1em;\n",
              "  width: 1em;\n",
              "  text-decoration: none !important;\n",
              "  margin-left: 1ex;\n",
              "  /* unfitted */\n",
              "  border: var(--sklearn-color-unfitted-level-1) 1pt solid;\n",
              "  color: var(--sklearn-color-unfitted-level-1);\n",
              "}\n",
              "\n",
              ".sk-estimator-doc-link.fitted,\n",
              "a:link.sk-estimator-doc-link.fitted,\n",
              "a:visited.sk-estimator-doc-link.fitted {\n",
              "  /* fitted */\n",
              "  border: var(--sklearn-color-fitted-level-1) 1pt solid;\n",
              "  color: var(--sklearn-color-fitted-level-1);\n",
              "}\n",
              "\n",
              "/* On hover */\n",
              "div.sk-estimator:hover .sk-estimator-doc-link:hover,\n",
              ".sk-estimator-doc-link:hover,\n",
              "div.sk-label-container:hover .sk-estimator-doc-link:hover,\n",
              ".sk-estimator-doc-link:hover {\n",
              "  /* unfitted */\n",
              "  background-color: var(--sklearn-color-unfitted-level-3);\n",
              "  color: var(--sklearn-color-background);\n",
              "  text-decoration: none;\n",
              "}\n",
              "\n",
              "div.sk-estimator.fitted:hover .sk-estimator-doc-link.fitted:hover,\n",
              ".sk-estimator-doc-link.fitted:hover,\n",
              "div.sk-label-container:hover .sk-estimator-doc-link.fitted:hover,\n",
              ".sk-estimator-doc-link.fitted:hover {\n",
              "  /* fitted */\n",
              "  background-color: var(--sklearn-color-fitted-level-3);\n",
              "  color: var(--sklearn-color-background);\n",
              "  text-decoration: none;\n",
              "}\n",
              "\n",
              "/* Span, style for the box shown on hovering the info icon */\n",
              ".sk-estimator-doc-link span {\n",
              "  display: none;\n",
              "  z-index: 9999;\n",
              "  position: relative;\n",
              "  font-weight: normal;\n",
              "  right: .2ex;\n",
              "  padding: .5ex;\n",
              "  margin: .5ex;\n",
              "  width: min-content;\n",
              "  min-width: 20ex;\n",
              "  max-width: 50ex;\n",
              "  color: var(--sklearn-color-text);\n",
              "  box-shadow: 2pt 2pt 4pt #999;\n",
              "  /* unfitted */\n",
              "  background: var(--sklearn-color-unfitted-level-0);\n",
              "  border: .5pt solid var(--sklearn-color-unfitted-level-3);\n",
              "}\n",
              "\n",
              ".sk-estimator-doc-link.fitted span {\n",
              "  /* fitted */\n",
              "  background: var(--sklearn-color-fitted-level-0);\n",
              "  border: var(--sklearn-color-fitted-level-3);\n",
              "}\n",
              "\n",
              ".sk-estimator-doc-link:hover span {\n",
              "  display: block;\n",
              "}\n",
              "\n",
              "/* \"?\"-specific style due to the `<a>` HTML tag */\n",
              "\n",
              "#sk-container-id-1 a.estimator_doc_link {\n",
              "  float: right;\n",
              "  font-size: 1rem;\n",
              "  line-height: 1em;\n",
              "  font-family: monospace;\n",
              "  background-color: var(--sklearn-color-background);\n",
              "  border-radius: 1rem;\n",
              "  height: 1rem;\n",
              "  width: 1rem;\n",
              "  text-decoration: none;\n",
              "  /* unfitted */\n",
              "  color: var(--sklearn-color-unfitted-level-1);\n",
              "  border: var(--sklearn-color-unfitted-level-1) 1pt solid;\n",
              "}\n",
              "\n",
              "#sk-container-id-1 a.estimator_doc_link.fitted {\n",
              "  /* fitted */\n",
              "  border: var(--sklearn-color-fitted-level-1) 1pt solid;\n",
              "  color: var(--sklearn-color-fitted-level-1);\n",
              "}\n",
              "\n",
              "/* On hover */\n",
              "#sk-container-id-1 a.estimator_doc_link:hover {\n",
              "  /* unfitted */\n",
              "  background-color: var(--sklearn-color-unfitted-level-3);\n",
              "  color: var(--sklearn-color-background);\n",
              "  text-decoration: none;\n",
              "}\n",
              "\n",
              "#sk-container-id-1 a.estimator_doc_link.fitted:hover {\n",
              "  /* fitted */\n",
              "  background-color: var(--sklearn-color-fitted-level-3);\n",
              "}\n",
              "</style><div id=\"sk-container-id-1\" class=\"sk-top-container\"><div class=\"sk-text-repr-fallback\"><pre>LGBMRegressor()</pre><b>In a Jupyter environment, please rerun this cell to show the HTML representation or trust the notebook. <br />On GitHub, the HTML representation is unable to render, please try loading this page with nbviewer.org.</b></div><div class=\"sk-container\" hidden><div class=\"sk-item\"><div class=\"sk-estimator fitted sk-toggleable\"><input class=\"sk-toggleable__control sk-hidden--visually\" id=\"sk-estimator-id-1\" type=\"checkbox\" checked><label for=\"sk-estimator-id-1\" class=\"sk-toggleable__label fitted sk-toggleable__label-arrow fitted\">&nbsp;LGBMRegressor<span class=\"sk-estimator-doc-link fitted\">i<span>Fitted</span></span></label><div class=\"sk-toggleable__content fitted\"><pre>LGBMRegressor()</pre></div> </div></div></div></div>"
            ],
            "text/plain": [
              "LGBMRegressor()"
            ]
          },
          "execution_count": 34,
          "metadata": {},
          "output_type": "execute_result"
        }
      ],
      "source": [
        "%%time\n",
        "model_lgbm = LGBMRegressor(n_jobs=-1)\n",
        "model_lgbm.fit(X_train_lgbm, y_train)"
      ]
    },
    {
      "cell_type": "code",
      "execution_count": null,
      "metadata": {
        "id": "EK2O5nOn5EDy",
        "outputId": "2846ca74-23ea-480f-aaab-3c8efcf98753"
      },
      "outputs": [
        {
          "name": "stdout",
          "output_type": "stream",
          "text": [
            "CPU times: user 525 ms, sys: 0 ns, total: 525 ms\n",
            "Wall time: 492 ms\n"
          ]
        }
      ],
      "source": [
        "%%time\n",
        "y_valid_pred_lgbm = model_lgbm.predict(X_valid_lgbm)"
      ]
    },
    {
      "cell_type": "code",
      "execution_count": null,
      "metadata": {
        "id": "W1Djdtz95EDy",
        "outputId": "67fa6c02-75a9-426a-9660-ac105dd4c46f"
      },
      "outputs": [
        {
          "name": "stdout",
          "output_type": "stream",
          "text": [
            "Метрика RMSE на валидационной выборке: 1673.1901235921976\n"
          ]
        }
      ],
      "source": [
        "print('Метрика RMSE на валидационной выборке:',\n",
        "     np.sqrt(mean_squared_error(y_valid, y_valid_pred_lgbm)))"
      ]
    },
    {
      "cell_type": "markdown",
      "metadata": {
        "id": "qTIOVVhU5EDy"
      },
      "source": [
        "Как и ожидалось, результат значительно лучше и был получен несравнимо быстрее. Модель `LGBMRegressor` соответствует требованиям.\n",
        "\n",
        "### Вывод по шагу 2\n",
        "\n",
        "Обучили 2 модели: `SVR` и `LGBMRegressor`. Проверили их работу на валидационной выборке. Только `LGBMRegressor` показала метрику RMSE меньше требуемых 2500. Она же оказалась гораздо быстрее."
      ]
    },
    {
      "cell_type": "markdown",
      "metadata": {
        "id": "LJQ3-YNF5EDy"
      },
      "source": [
        "## 3. Анализ моделей\n",
        "\n",
        "Сравним время, которое каждая модель тратит на обучение, на предсказания, метрику *RMSE* на валидационной выборке, а также проанализируем остатки моделей."
      ]
    },
    {
      "cell_type": "markdown",
      "metadata": {
        "id": "avZDGIGX5EDy"
      },
      "source": [
        "Соберем полученную информацию о работе моделей в таблицу.\n",
        "\n",
        "||SVR|LGBMRegressor|\n",
        "|:--|:--|:--|\n",
        "|гиперпараметры|kernel='rbf'|по умолчанию|\n",
        "|время обучения|2h 48min 52s|5min 32s|\n",
        "|время предсказания|1h 13min 21s|444 ms|\n",
        "|метрика RMSE на валидационной выборке|2974|1673|\n",
        "\n"
      ]
    },
    {
      "cell_type": "code",
      "execution_count": null,
      "metadata": {
        "id": "pAN1B2Fd5EDy",
        "outputId": "923891a4-9a03-470d-e966-9372c04bb1b2"
      },
      "outputs": [
        {
          "data": {
            "image/png": "[encoded data removed]",
            "text/plain": [
              "<Figure size 1080x576 with 2 Axes>"
            ]
          },
          "metadata": {
            "needs_background": "light"
          },
          "output_type": "display_data"
        }
      ],
      "source": [
        "figure, axs = plt.subplots(1, 2, figsize=(15, 8))\n",
        "figure.suptitle('Гистограмма и плотность расределения остатков')\n",
        "\n",
        "sns.histplot(y_valid_pred_svr - y_valid, bins=50, kde=True, ax=axs[0])\n",
        "axs[0].set_title('SVR')\n",
        "\n",
        "sns.histplot(y_valid_pred_lgbm - y_valid, bins=50, kde=True, ax=axs[1])\n",
        "axs[1].set_title('LGBMRegressor')\n",
        "\n",
        "plt.show()"
      ]
    },
    {
      "cell_type": "markdown",
      "metadata": {
        "id": "uXw65sgS5EDy"
      },
      "source": [
        "### Вывод по шагу 3\n",
        "По совокупности параметров оценки моделей, а так же по каждому из них в отдельности, `LGBMRegressor` является лучшей моделью из рассмотренных.\n",
        "\n",
        "По распределению остатков тоже видим неоспоримое преиущество `LGBMRegressor`: распределение нормальное, симметричное с вершиной около нуля и крутыми склонами. Распределение остатков `SVR` не такое симметричное, левый склон более пологий; модель `SVR` заметно чаще преуменьшает стоимость автомобилей."
      ]
    },
    {
      "cell_type": "markdown",
      "metadata": {
        "id": "Ja1Xpv6x5EDz"
      },
      "source": [
        "## 4. Тестирование лучшей модели\n",
        "\n",
        "Проверим `LGBMRegressor` на тестовой выборке. А также посмотрим на значимость признаков для модели."
      ]
    },
    {
      "cell_type": "code",
      "execution_count": null,
      "metadata": {
        "id": "Iteh5v615EDz"
      },
      "outputs": [],
      "source": [
        "X_test_lgbm = data_preprocessor_lgbm.transform(X_test_imputed)"
      ]
    },
    {
      "cell_type": "code",
      "execution_count": null,
      "metadata": {
        "id": "vihv2rSp5EDz",
        "outputId": "4218ebfc-e71c-4c38-a8d3-2412b17f4756"
      },
      "outputs": [
        {
          "name": "stdout",
          "output_type": "stream",
          "text": [
            "LGBMRegressor. Метрика RMSE на тестовой выборке: 1667.02753684504\n",
            "CPU times: user 536 ms, sys: 0 ns, total: 536 ms\n",
            "Wall time: 469 ms\n"
          ]
        }
      ],
      "source": [
        "%%time\n",
        "y_test_pred = model_lgbm.predict(X_test_lgbm)\n",
        "print('LGBMRegressor. Метрика RMSE на тестовой выборке:',\n",
        "     np.sqrt(mean_squared_error(y_test, y_test_pred)))"
      ]
    },
    {
      "cell_type": "code",
      "execution_count": null,
      "metadata": {
        "id": "Od-6kvaj5EDz",
        "outputId": "121f00aa-cc27-41c3-bdbc-93024bee5f0d"
      },
      "outputs": [
        {
          "data": {
            "image/png": "[encoded data removed]",
            "text/plain": [
              "<Figure size 432x288 with 1 Axes>"
            ]
          },
          "metadata": {
            "needs_background": "light"
          },
          "output_type": "display_data"
        }
      ],
      "source": [
        "df = pd.DataFrame(model_lgbm.feature_importances_, cat_columns + num_columns).sort_values(by=0, ascending=False).reset_index()\n",
        "df.columns = ['feature', 'importance']\n",
        "\n",
        "sns.barplot(x=df['importance'], y=df['feature'])\n",
        "plt.title('Важность признаков')\n",
        "plt.show()"
      ]
    },
    {
      "cell_type": "markdown",
      "metadata": {
        "id": "8u1xBzPI5EDz"
      },
      "source": [
        "На тестовой выборке модель показала приблизительно те же результаты, что и на валидационной.\n",
        "\n",
        "Наиболее важными признаками оказались год регистрации, мощность двигателя и модель/бренд."
      ]
    },
    {
      "cell_type": "markdown",
      "metadata": {
        "id": "9Lz8u94E5EDz"
      },
      "source": [
        "## Итоговые выводы\n",
        "\n",
        "1. В ходе анализа и предобработки данных:\n",
        "* обнаружили очень большое количество пропусков, аномалий и выбросов, 4 дубликата;\n",
        "* удалили 11% строк;\n",
        "* исключили из анализа и обучения признаки, не имеющие значения для целей проекта:\n",
        "  - `DateCrawled`;      \n",
        "  - `RegistrationMonth`;\n",
        "  - `DateCreated`;\n",
        "  - `NumberOfPictures`;   \n",
        "  - `PostalCode`;  \n",
        "  - `LastSeen`;\n",
        "* пропуски в категориальных и количественных признаках частично восстановили модой для каждой модели;\n",
        "* пропуски, которые не удалось восстановить, заменили на `unknown` (в шаге 3);\n",
        "* отметили, что все потенциальные входные признаки имеют взаимосвязи с целевым признаком, но особенно сильной взаимосвязи у `Price` нет ни с одним из признаков.\n",
        "2. Обучили и проанализировали 2 модели: `SVR` и `LGBMRegressor` (для них потребовалось использовать различные способы обработки). Только `LGBMRegressor` показала на валидационной выборке метрику *RMSE* меньше требуемых 2500. Она же оказалась гораздо быстрее. А также ее остатки более нормально распределены. Модель `LGBMRegressor` оказалась лучшей из рассмотренных.\n",
        "3. Проверили `LGBMRegressor` на тестовой выборке и проанализировали важность признаков. Наиболее важными оказались год регистрации, мощность двигателя и модель/бренд.\n",
        "4. Обученную модель можно применять для определения цены."
      ]
    },
    {
      "cell_type": "code",
      "source": [],
      "metadata": {
        "id": "ZTsERCGxCgV0"
      },
      "execution_count": null,
      "outputs": []
    }
  ],
  "metadata": {
    "ExecuteTimeLog": [
      {
        "duration": 463,
        "start_time": "2024-11-22T11:30:22.961Z"
      },
      {
        "duration": 794,
        "start_time": "2024-11-22T11:30:56.302Z"
      },
      {
        "duration": 12,
        "start_time": "2024-11-22T11:31:07.990Z"
      },
      {
        "duration": 3398,
        "start_time": "2024-11-22T11:31:16.013Z"
      },
      {
        "duration": 2652,
        "start_time": "2024-11-22T11:31:26.910Z"
      },
      {
        "duration": 1385,
        "start_time": "2024-11-22T11:31:37.905Z"
      },
      {
        "duration": 2996,
        "start_time": "2024-11-22T11:58:50.531Z"
      },
      {
        "duration": 56,
        "start_time": "2024-11-22T11:59:11.800Z"
      },
      {
        "duration": 37,
        "start_time": "2024-11-22T11:59:34.248Z"
      },
      {
        "duration": 56,
        "start_time": "2024-11-22T11:59:52.146Z"
      },
      {
        "duration": 52,
        "start_time": "2024-11-22T12:02:06.893Z"
      },
      {
        "duration": 946,
        "start_time": "2024-11-22T12:03:47.108Z"
      },
      {
        "duration": 1059,
        "start_time": "2024-11-22T12:04:38.325Z"
      },
      {
        "duration": 14,
        "start_time": "2024-11-22T12:21:26.459Z"
      },
      {
        "duration": 9,
        "start_time": "2024-11-22T12:21:40.903Z"
      },
      {
        "duration": 11,
        "start_time": "2024-11-22T12:21:45.622Z"
      },
      {
        "duration": 481,
        "start_time": "2024-11-22T12:22:36.028Z"
      },
      {
        "duration": 10,
        "start_time": "2024-11-22T12:31:16.680Z"
      },
      {
        "duration": 10,
        "start_time": "2024-11-22T12:32:04.562Z"
      },
      {
        "duration": 978,
        "start_time": "2024-11-22T12:32:47.919Z"
      },
      {
        "duration": 451,
        "start_time": "2024-11-22T12:44:27.101Z"
      },
      {
        "duration": 352,
        "start_time": "2024-11-22T12:45:01.530Z"
      },
      {
        "duration": 28,
        "start_time": "2024-11-22T12:57:21.429Z"
      },
      {
        "duration": 14,
        "start_time": "2024-11-22T12:57:38.186Z"
      },
      {
        "duration": 46930,
        "start_time": "2024-11-22T12:57:50.624Z"
      },
      {
        "duration": 8,
        "start_time": "2024-11-22T12:59:39.535Z"
      },
      {
        "duration": 12,
        "start_time": "2024-11-22T13:00:32.414Z"
      },
      {
        "duration": 68,
        "start_time": "2024-11-22T13:28:11.143Z"
      },
      {
        "duration": 68,
        "start_time": "2024-11-22T13:33:13.685Z"
      },
      {
        "duration": 67,
        "start_time": "2024-11-22T13:33:28.701Z"
      },
      {
        "duration": 9037,
        "start_time": "2024-11-22T13:33:36.693Z"
      },
      {
        "duration": 59,
        "start_time": "2024-11-22T13:34:15.402Z"
      },
      {
        "duration": 14,
        "start_time": "2024-11-22T13:37:10.748Z"
      },
      {
        "duration": 6,
        "start_time": "2024-11-22T13:37:26.446Z"
      },
      {
        "duration": 412,
        "start_time": "2024-11-22T13:44:19.721Z"
      },
      {
        "duration": 425,
        "start_time": "2024-11-22T13:45:05.382Z"
      },
      {
        "duration": 2694,
        "start_time": "2024-11-22T13:48:09.822Z"
      },
      {
        "duration": 2130,
        "start_time": "2024-11-22T13:48:12.518Z"
      },
      {
        "duration": 0,
        "start_time": "2024-11-22T13:48:14.650Z"
      },
      {
        "duration": 0,
        "start_time": "2024-11-22T13:48:14.651Z"
      },
      {
        "duration": 0,
        "start_time": "2024-11-22T13:48:14.652Z"
      },
      {
        "duration": 0,
        "start_time": "2024-11-22T13:48:14.653Z"
      },
      {
        "duration": 0,
        "start_time": "2024-11-22T13:48:14.654Z"
      },
      {
        "duration": 0,
        "start_time": "2024-11-22T13:48:14.655Z"
      },
      {
        "duration": 15,
        "start_time": "2024-11-22T13:49:03.905Z"
      },
      {
        "duration": 54,
        "start_time": "2024-11-22T13:49:49.494Z"
      },
      {
        "duration": 26,
        "start_time": "2024-11-22T13:49:55.825Z"
      },
      {
        "duration": 6562,
        "start_time": "2024-11-22T13:51:29.971Z"
      },
      {
        "duration": 21,
        "start_time": "2024-11-22T13:51:44.094Z"
      },
      {
        "duration": 2774,
        "start_time": "2024-11-22T13:52:04.297Z"
      },
      {
        "duration": 1412,
        "start_time": "2024-11-22T13:52:09.121Z"
      },
      {
        "duration": 2741,
        "start_time": "2024-11-22T13:52:14.962Z"
      },
      {
        "duration": 285,
        "start_time": "2024-11-22T13:55:37.713Z"
      },
      {
        "duration": 7,
        "start_time": "2024-11-22T13:55:42.776Z"
      },
      {
        "duration": 1157,
        "start_time": "2024-11-22T13:55:46.758Z"
      },
      {
        "duration": 456,
        "start_time": "2024-11-22T13:55:53.667Z"
      },
      {
        "duration": 931,
        "start_time": "2024-11-22T13:55:55.562Z"
      },
      {
        "duration": 331,
        "start_time": "2024-11-22T13:55:58.050Z"
      },
      {
        "duration": 1598,
        "start_time": "2024-11-22T13:56:03.433Z"
      },
      {
        "duration": 1311,
        "start_time": "2024-11-22T13:58:18.595Z"
      },
      {
        "duration": 29,
        "start_time": "2024-11-22T13:58:58.173Z"
      },
      {
        "duration": 33,
        "start_time": "2024-11-22T14:00:54.067Z"
      },
      {
        "duration": 6,
        "start_time": "2024-11-22T14:01:58.559Z"
      },
      {
        "duration": 583,
        "start_time": "2024-11-22T14:02:08.095Z"
      },
      {
        "duration": 6,
        "start_time": "2024-11-22T14:02:32.147Z"
      },
      {
        "duration": 6781,
        "start_time": "2024-11-22T14:02:37.770Z"
      },
      {
        "duration": 8504,
        "start_time": "2024-11-22T14:03:14.900Z"
      },
      {
        "duration": 6757,
        "start_time": "2024-11-22T14:03:58.467Z"
      },
      {
        "duration": 13,
        "start_time": "2024-11-22T14:09:19.060Z"
      },
      {
        "duration": 10,
        "start_time": "2024-11-22T14:15:09.422Z"
      },
      {
        "duration": 7534,
        "start_time": "2024-11-22T14:15:16.345Z"
      },
      {
        "duration": 7,
        "start_time": "2024-11-22T14:30:03.514Z"
      },
      {
        "duration": 7345,
        "start_time": "2024-11-22T14:30:08.932Z"
      },
      {
        "duration": 10821,
        "start_time": "2024-11-22T14:33:43.092Z"
      },
      {
        "duration": 25,
        "start_time": "2024-11-22T14:56:44.399Z"
      },
      {
        "duration": 8178,
        "start_time": "2024-11-22T14:58:02.765Z"
      },
      {
        "duration": 48,
        "start_time": "2024-11-22T15:10:17.656Z"
      },
      {
        "duration": 14944,
        "start_time": "2024-11-22T15:10:22.776Z"
      },
      {
        "duration": 11,
        "start_time": "2024-11-22T15:22:20.266Z"
      },
      {
        "duration": 9,
        "start_time": "2024-11-22T15:22:25.060Z"
      },
      {
        "duration": 5,
        "start_time": "2024-11-22T15:22:29.087Z"
      },
      {
        "duration": 1165,
        "start_time": "2024-11-22T15:24:25.052Z"
      },
      {
        "duration": 24,
        "start_time": "2024-11-22T15:24:46.455Z"
      },
      {
        "duration": 6773,
        "start_time": "2024-11-22T15:25:01.184Z"
      },
      {
        "duration": 9,
        "start_time": "2024-11-22T15:27:21.506Z"
      },
      {
        "duration": 6924,
        "start_time": "2024-11-22T15:27:25.734Z"
      },
      {
        "duration": 2520,
        "start_time": "2024-11-22T15:35:00.517Z"
      },
      {
        "duration": 55043,
        "start_time": "2024-11-22T15:38:05.228Z"
      },
      {
        "duration": 56,
        "start_time": "2024-11-22T15:41:16.354Z"
      },
      {
        "duration": 3398,
        "start_time": "2024-11-22T15:41:55.926Z"
      },
      {
        "duration": 69989,
        "start_time": "2024-11-22T15:42:51.086Z"
      },
      {
        "duration": 17,
        "start_time": "2024-11-22T15:47:22.151Z"
      },
      {
        "duration": 3063,
        "start_time": "2024-11-22T15:47:29.925Z"
      },
      {
        "duration": 18,
        "start_time": "2024-11-22T15:47:38.180Z"
      },
      {
        "duration": 1041,
        "start_time": "2024-11-22T15:49:02.885Z"
      },
      {
        "duration": 3039,
        "start_time": "2024-11-22T15:49:30.101Z"
      },
      {
        "duration": 1020,
        "start_time": "2024-11-22T15:49:36.234Z"
      },
      {
        "duration": 50,
        "start_time": "2024-11-22T15:50:47.805Z"
      },
      {
        "duration": 3042,
        "start_time": "2024-11-22T15:51:31.334Z"
      },
      {
        "duration": 995,
        "start_time": "2024-11-22T15:51:43.612Z"
      },
      {
        "duration": 3027,
        "start_time": "2024-11-22T15:52:00.586Z"
      },
      {
        "duration": 996,
        "start_time": "2024-11-22T15:52:05.878Z"
      },
      {
        "duration": 22,
        "start_time": "2024-11-22T15:53:45.771Z"
      },
      {
        "duration": 65,
        "start_time": "2024-11-22T15:55:58.603Z"
      },
      {
        "duration": 57,
        "start_time": "2024-11-22T15:56:18.240Z"
      },
      {
        "duration": 1458,
        "start_time": "2024-11-22T15:56:27.075Z"
      },
      {
        "duration": 3017,
        "start_time": "2024-11-22T15:56:50.667Z"
      },
      {
        "duration": 44,
        "start_time": "2024-11-22T15:59:09.272Z"
      },
      {
        "duration": 54,
        "start_time": "2024-11-22T16:00:02.458Z"
      },
      {
        "duration": 65,
        "start_time": "2024-11-22T16:01:12.961Z"
      },
      {
        "duration": 977,
        "start_time": "2024-11-22T16:01:52.686Z"
      },
      {
        "duration": 75,
        "start_time": "2024-11-22T16:02:02.648Z"
      },
      {
        "duration": 6,
        "start_time": "2024-11-22T16:02:19.700Z"
      },
      {
        "duration": 66,
        "start_time": "2024-11-22T16:02:44.394Z"
      },
      {
        "duration": 56,
        "start_time": "2024-11-22T16:02:57.152Z"
      },
      {
        "duration": 50,
        "start_time": "2024-11-22T16:03:19.766Z"
      },
      {
        "duration": 4,
        "start_time": "2024-11-22T16:03:26.675Z"
      },
      {
        "duration": 1504,
        "start_time": "2024-11-22T16:03:40.918Z"
      },
      {
        "duration": 72,
        "start_time": "2024-11-22T16:04:11.022Z"
      },
      {
        "duration": 64,
        "start_time": "2024-11-22T16:04:46.312Z"
      },
      {
        "duration": 53,
        "start_time": "2024-11-22T16:05:24.608Z"
      },
      {
        "duration": 3289,
        "start_time": "2024-11-22T16:05:35.146Z"
      },
      {
        "duration": 1002,
        "start_time": "2024-11-22T16:05:39.633Z"
      },
      {
        "duration": 29,
        "start_time": "2024-11-22T16:07:44.158Z"
      },
      {
        "duration": 26,
        "start_time": "2024-11-22T16:08:14.641Z"
      },
      {
        "duration": 17,
        "start_time": "2024-11-23T08:12:46.505Z"
      },
      {
        "duration": 35,
        "start_time": "2024-11-23T08:18:36.854Z"
      },
      {
        "duration": 46,
        "start_time": "2024-11-23T08:20:19.133Z"
      },
      {
        "duration": 26,
        "start_time": "2024-11-23T08:20:41.716Z"
      },
      {
        "duration": 129,
        "start_time": "2024-11-23T08:40:59.334Z"
      },
      {
        "duration": 63792,
        "start_time": "2024-11-23T08:43:33.175Z"
      },
      {
        "duration": 59280,
        "start_time": "2024-11-23T08:47:21.785Z"
      },
      {
        "duration": 7,
        "start_time": "2024-11-23T08:52:06.388Z"
      },
      {
        "duration": 8092,
        "start_time": "2024-11-23T08:52:12.903Z"
      },
      {
        "duration": 12,
        "start_time": "2024-11-23T09:07:51.995Z"
      },
      {
        "duration": 13,
        "start_time": "2024-11-23T09:08:04.838Z"
      },
      {
        "duration": 6,
        "start_time": "2024-11-23T09:08:27.403Z"
      },
      {
        "duration": 23,
        "start_time": "2024-11-23T09:13:20.421Z"
      },
      {
        "duration": 2090,
        "start_time": "2024-11-23T09:13:50.310Z"
      },
      {
        "duration": 6,
        "start_time": "2024-11-23T09:14:32.980Z"
      },
      {
        "duration": 6,
        "start_time": "2024-11-23T09:14:41.905Z"
      },
      {
        "duration": 5,
        "start_time": "2024-11-23T09:14:50.767Z"
      },
      {
        "duration": 1912,
        "start_time": "2024-11-23T09:15:09.266Z"
      },
      {
        "duration": 6,
        "start_time": "2024-11-23T09:19:01.154Z"
      },
      {
        "duration": 7,
        "start_time": "2024-11-23T10:09:16.517Z"
      },
      {
        "duration": 7,
        "start_time": "2024-11-23T10:10:35.878Z"
      },
      {
        "duration": 11,
        "start_time": "2024-11-23T10:10:59.875Z"
      },
      {
        "duration": 12,
        "start_time": "2024-11-23T10:11:05.274Z"
      },
      {
        "duration": 8,
        "start_time": "2024-11-23T10:13:16.819Z"
      },
      {
        "duration": 8,
        "start_time": "2024-11-23T10:13:35.918Z"
      },
      {
        "duration": 7,
        "start_time": "2024-11-23T10:13:47.901Z"
      },
      {
        "duration": 9,
        "start_time": "2024-11-23T10:13:56.189Z"
      },
      {
        "duration": 6,
        "start_time": "2024-11-23T10:16:38.531Z"
      },
      {
        "duration": 5,
        "start_time": "2024-11-23T10:19:08.958Z"
      },
      {
        "duration": 8,
        "start_time": "2024-11-23T10:21:28.641Z"
      },
      {
        "duration": 8,
        "start_time": "2024-11-23T10:22:41.122Z"
      },
      {
        "duration": 9,
        "start_time": "2024-11-23T10:22:50.602Z"
      },
      {
        "duration": 12,
        "start_time": "2024-11-23T10:31:21.058Z"
      },
      {
        "duration": 1883,
        "start_time": "2024-11-23T10:32:08.566Z"
      },
      {
        "duration": 49,
        "start_time": "2024-11-23T10:33:25.297Z"
      },
      {
        "duration": 8,
        "start_time": "2024-11-23T10:33:29.635Z"
      },
      {
        "duration": 9,
        "start_time": "2024-11-23T11:04:28.343Z"
      },
      {
        "duration": 20,
        "start_time": "2024-11-23T11:06:39.185Z"
      },
      {
        "duration": 20708,
        "start_time": "2024-11-23T11:25:10.543Z"
      },
      {
        "duration": 13,
        "start_time": "2024-11-23T11:31:23.149Z"
      },
      {
        "duration": 12,
        "start_time": "2024-11-23T11:32:09.838Z"
      },
      {
        "duration": 10,
        "start_time": "2024-11-23T11:32:41.257Z"
      },
      {
        "duration": 13,
        "start_time": "2024-11-23T11:37:13.219Z"
      },
      {
        "duration": 6,
        "start_time": "2024-11-23T11:37:24.314Z"
      },
      {
        "duration": 56,
        "start_time": "2024-11-23T11:38:57.752Z"
      },
      {
        "duration": 9,
        "start_time": "2024-11-23T11:44:06.456Z"
      },
      {
        "duration": 8,
        "start_time": "2024-11-23T11:44:47.166Z"
      },
      {
        "duration": 1879,
        "start_time": "2024-11-23T11:45:11.106Z"
      },
      {
        "duration": 9,
        "start_time": "2024-11-23T11:49:20.743Z"
      },
      {
        "duration": 8,
        "start_time": "2024-11-23T11:49:29.803Z"
      },
      {
        "duration": 143,
        "start_time": "2024-11-23T11:58:30.871Z"
      },
      {
        "duration": 1670,
        "start_time": "2024-11-23T12:05:25.661Z"
      },
      {
        "duration": 4,
        "start_time": "2024-11-23T12:13:04.772Z"
      },
      {
        "duration": 6072,
        "start_time": "2024-11-23T12:21:06.452Z"
      },
      {
        "duration": 5,
        "start_time": "2024-11-23T12:32:19.697Z"
      },
      {
        "duration": 5296,
        "start_time": "2024-11-23T12:43:39.748Z"
      },
      {
        "duration": 5,
        "start_time": "2024-11-23T12:43:45.047Z"
      },
      {
        "duration": 37,
        "start_time": "2024-11-23T12:43:45.054Z"
      },
      {
        "duration": 1054,
        "start_time": "2024-11-23T12:43:45.093Z"
      },
      {
        "duration": 434,
        "start_time": "2024-11-23T12:43:46.149Z"
      },
      {
        "duration": 892,
        "start_time": "2024-11-23T12:43:46.585Z"
      },
      {
        "duration": 124,
        "start_time": "2024-11-23T12:43:47.479Z"
      },
      {
        "duration": 39,
        "start_time": "2024-11-23T12:43:47.605Z"
      },
      {
        "duration": 6464,
        "start_time": "2024-11-23T12:43:47.647Z"
      },
      {
        "duration": 3266,
        "start_time": "2024-11-23T12:43:54.113Z"
      },
      {
        "duration": 36,
        "start_time": "2024-11-23T12:43:57.380Z"
      },
      {
        "duration": 130,
        "start_time": "2024-11-23T12:43:57.418Z"
      },
      {
        "duration": 59050,
        "start_time": "2024-11-23T12:43:57.550Z"
      },
      {
        "duration": 8012,
        "start_time": "2024-11-23T12:44:56.603Z"
      },
      {
        "duration": 7,
        "start_time": "2024-11-23T12:45:04.616Z"
      },
      {
        "duration": 2582,
        "start_time": "2024-11-23T12:45:04.624Z"
      },
      {
        "duration": 6,
        "start_time": "2024-11-23T12:45:07.208Z"
      },
      {
        "duration": 34,
        "start_time": "2024-11-23T12:45:07.215Z"
      },
      {
        "duration": 2663,
        "start_time": "2024-11-23T12:45:07.251Z"
      },
      {
        "duration": 6,
        "start_time": "2024-11-23T12:45:09.916Z"
      },
      {
        "duration": 17,
        "start_time": "2024-11-23T12:45:09.924Z"
      },
      {
        "duration": 20200,
        "start_time": "2024-11-23T12:45:09.943Z"
      },
      {
        "duration": 10,
        "start_time": "2024-11-23T12:45:30.145Z"
      },
      {
        "duration": 36,
        "start_time": "2024-11-23T12:45:30.157Z"
      },
      {
        "duration": 41,
        "start_time": "2024-11-23T12:45:30.194Z"
      },
      {
        "duration": 1812,
        "start_time": "2024-11-23T12:45:30.237Z"
      },
      {
        "duration": 135,
        "start_time": "2024-11-23T12:45:32.051Z"
      },
      {
        "duration": 6892,
        "start_time": "2024-11-23T12:45:32.188Z"
      },
      {
        "duration": 5,
        "start_time": "2024-11-23T12:45:39.082Z"
      },
      {
        "duration": 22,
        "start_time": "2024-11-23T12:45:39.089Z"
      },
      {
        "duration": 24,
        "start_time": "2024-11-23T13:01:23.935Z"
      },
      {
        "duration": 2606,
        "start_time": "2024-11-23T13:11:02.914Z"
      },
      {
        "duration": 30,
        "start_time": "2024-11-23T13:11:56.975Z"
      },
      {
        "duration": 23,
        "start_time": "2024-11-23T13:17:54.557Z"
      },
      {
        "duration": 5,
        "start_time": "2024-11-23T13:18:04.341Z"
      },
      {
        "duration": 5,
        "start_time": "2024-11-23T13:32:08.230Z"
      },
      {
        "duration": 4,
        "start_time": "2024-11-23T13:38:10.880Z"
      },
      {
        "duration": 4,
        "start_time": "2024-11-23T13:38:18.859Z"
      },
      {
        "duration": 3,
        "start_time": "2024-11-23T13:38:31.578Z"
      },
      {
        "duration": 11,
        "start_time": "2024-11-23T13:38:39.649Z"
      },
      {
        "duration": 7,
        "start_time": "2024-11-23T13:40:06.863Z"
      },
      {
        "duration": 4,
        "start_time": "2024-11-23T13:40:19.000Z"
      },
      {
        "duration": 98,
        "start_time": "2024-11-23T13:40:29.055Z"
      },
      {
        "duration": 81,
        "start_time": "2024-11-23T13:40:43.383Z"
      },
      {
        "duration": 3552,
        "start_time": "2024-11-23T13:41:10.043Z"
      },
      {
        "duration": 4,
        "start_time": "2024-11-23T13:42:44.603Z"
      },
      {
        "duration": 68,
        "start_time": "2024-11-23T13:43:17.735Z"
      },
      {
        "duration": 312,
        "start_time": "2024-11-23T14:23:05.222Z"
      },
      {
        "duration": 323,
        "start_time": "2024-11-23T14:24:41.941Z"
      },
      {
        "duration": 75,
        "start_time": "2024-11-23T14:25:17.135Z"
      },
      {
        "duration": 4,
        "start_time": "2024-11-23T14:25:53.859Z"
      },
      {
        "duration": 76,
        "start_time": "2024-11-23T14:26:53.186Z"
      },
      {
        "duration": 76,
        "start_time": "2024-11-23T14:27:02.765Z"
      },
      {
        "duration": 60,
        "start_time": "2024-11-23T14:28:44.595Z"
      },
      {
        "duration": 55,
        "start_time": "2024-11-23T14:29:48.554Z"
      },
      {
        "duration": 104,
        "start_time": "2024-11-23T14:30:19.780Z"
      },
      {
        "duration": 55,
        "start_time": "2024-11-23T14:30:22.896Z"
      },
      {
        "duration": 13,
        "start_time": "2024-11-23T14:30:51.087Z"
      },
      {
        "duration": 80,
        "start_time": "2024-11-23T14:31:58.813Z"
      },
      {
        "duration": 10,
        "start_time": "2024-11-23T14:32:25.988Z"
      },
      {
        "duration": 28,
        "start_time": "2024-11-23T14:34:41.085Z"
      },
      {
        "duration": 15,
        "start_time": "2024-11-23T14:39:13.303Z"
      },
      {
        "duration": 39,
        "start_time": "2024-11-23T14:40:29.132Z"
      },
      {
        "duration": 77,
        "start_time": "2024-11-23T14:41:52.393Z"
      },
      {
        "duration": 29,
        "start_time": "2024-11-23T14:43:12.806Z"
      },
      {
        "duration": 95,
        "start_time": "2024-11-23T14:45:09.179Z"
      },
      {
        "duration": 42,
        "start_time": "2024-11-23T14:45:14.635Z"
      },
      {
        "duration": 94,
        "start_time": "2024-11-23T14:45:48.421Z"
      },
      {
        "duration": 111,
        "start_time": "2024-11-23T14:48:27.530Z"
      },
      {
        "duration": 121,
        "start_time": "2024-11-23T14:48:40.981Z"
      },
      {
        "duration": 5,
        "start_time": "2024-11-23T14:50:50.243Z"
      },
      {
        "duration": 4,
        "start_time": "2024-11-23T14:50:54.594Z"
      },
      {
        "duration": 3869,
        "start_time": "2024-11-23T14:51:47.865Z"
      },
      {
        "duration": 4,
        "start_time": "2024-11-23T14:52:37.701Z"
      },
      {
        "duration": 8,
        "start_time": "2024-11-23T14:52:52.878Z"
      },
      {
        "duration": 588,
        "start_time": "2024-11-23T14:53:00.725Z"
      },
      {
        "duration": 6716,
        "start_time": "2024-11-23T14:59:56.851Z"
      },
      {
        "duration": 608,
        "start_time": "2024-11-23T15:00:08.002Z"
      },
      {
        "duration": 2441,
        "start_time": "2024-11-23T15:01:48.443Z"
      },
      {
        "duration": 6,
        "start_time": "2024-11-23T15:02:18.257Z"
      },
      {
        "duration": 618,
        "start_time": "2024-11-23T15:02:28.745Z"
      },
      {
        "duration": 9,
        "start_time": "2024-11-23T15:03:54.358Z"
      },
      {
        "duration": 3,
        "start_time": "2024-11-23T15:03:59.358Z"
      },
      {
        "duration": 619,
        "start_time": "2024-11-23T15:04:04.037Z"
      },
      {
        "duration": 11391,
        "start_time": "2024-11-23T15:06:29.846Z"
      },
      {
        "duration": 1567,
        "start_time": "2024-11-23T15:06:41.239Z"
      },
      {
        "duration": 7,
        "start_time": "2024-11-23T15:06:42.808Z"
      },
      {
        "duration": 1140,
        "start_time": "2024-11-23T15:06:42.817Z"
      },
      {
        "duration": 496,
        "start_time": "2024-11-23T15:06:43.960Z"
      },
      {
        "duration": 987,
        "start_time": "2024-11-23T15:06:44.458Z"
      },
      {
        "duration": 106,
        "start_time": "2024-11-23T15:06:45.447Z"
      },
      {
        "duration": 60,
        "start_time": "2024-11-23T15:06:45.554Z"
      },
      {
        "duration": 6410,
        "start_time": "2024-11-23T15:06:45.616Z"
      },
      {
        "duration": 3201,
        "start_time": "2024-11-23T15:06:52.028Z"
      },
      {
        "duration": 31,
        "start_time": "2024-11-23T15:06:55.231Z"
      },
      {
        "duration": 141,
        "start_time": "2024-11-23T15:06:55.264Z"
      },
      {
        "duration": 57404,
        "start_time": "2024-11-23T15:06:55.406Z"
      },
      {
        "duration": 8027,
        "start_time": "2024-11-23T15:07:52.813Z"
      },
      {
        "duration": 5,
        "start_time": "2024-11-23T15:08:00.842Z"
      },
      {
        "duration": 2038,
        "start_time": "2024-11-23T15:08:00.849Z"
      },
      {
        "duration": 14,
        "start_time": "2024-11-23T15:08:02.889Z"
      },
      {
        "duration": 25,
        "start_time": "2024-11-23T15:08:02.905Z"
      },
      {
        "duration": 1868,
        "start_time": "2024-11-23T15:08:02.932Z"
      },
      {
        "duration": 7,
        "start_time": "2024-11-23T15:08:04.802Z"
      },
      {
        "duration": 26,
        "start_time": "2024-11-23T15:08:04.810Z"
      },
      {
        "duration": 19665,
        "start_time": "2024-11-23T15:08:04.837Z"
      },
      {
        "duration": 8,
        "start_time": "2024-11-23T15:08:24.504Z"
      },
      {
        "duration": 5,
        "start_time": "2024-11-23T15:08:24.514Z"
      },
      {
        "duration": 8,
        "start_time": "2024-11-23T15:08:24.521Z"
      },
      {
        "duration": 2079,
        "start_time": "2024-11-23T15:08:24.531Z"
      },
      {
        "duration": 116,
        "start_time": "2024-11-23T15:08:26.612Z"
      },
      {
        "duration": 5816,
        "start_time": "2024-11-23T15:08:26.730Z"
      },
      {
        "duration": 92,
        "start_time": "2024-11-23T15:08:32.548Z"
      },
      {
        "duration": 193,
        "start_time": "2024-11-23T15:08:32.641Z"
      },
      {
        "duration": 4,
        "start_time": "2024-11-23T15:08:32.835Z"
      },
      {
        "duration": 11,
        "start_time": "2024-11-23T15:08:32.841Z"
      },
      {
        "duration": 129,
        "start_time": "2024-11-23T15:08:32.854Z"
      },
      {
        "duration": 0,
        "start_time": "2024-11-23T15:08:32.985Z"
      },
      {
        "duration": 0,
        "start_time": "2024-11-23T15:08:32.986Z"
      },
      {
        "duration": 0,
        "start_time": "2024-11-23T15:08:32.987Z"
      },
      {
        "duration": 11011,
        "start_time": "2024-11-23T15:22:17.225Z"
      },
      {
        "duration": 1585,
        "start_time": "2024-11-23T15:22:28.238Z"
      },
      {
        "duration": 8,
        "start_time": "2024-11-23T15:22:29.826Z"
      },
      {
        "duration": 1205,
        "start_time": "2024-11-23T15:22:29.836Z"
      },
      {
        "duration": 471,
        "start_time": "2024-11-23T15:22:31.043Z"
      },
      {
        "duration": 1001,
        "start_time": "2024-11-23T15:22:31.516Z"
      },
      {
        "duration": 107,
        "start_time": "2024-11-23T15:22:32.519Z"
      },
      {
        "duration": 56,
        "start_time": "2024-11-23T15:22:32.628Z"
      },
      {
        "duration": 6659,
        "start_time": "2024-11-23T15:22:32.686Z"
      },
      {
        "duration": 3205,
        "start_time": "2024-11-23T15:22:39.349Z"
      },
      {
        "duration": 31,
        "start_time": "2024-11-23T15:22:42.556Z"
      },
      {
        "duration": 138,
        "start_time": "2024-11-23T15:22:42.600Z"
      },
      {
        "duration": 57069,
        "start_time": "2024-11-23T15:22:42.740Z"
      },
      {
        "duration": 7891,
        "start_time": "2024-11-23T15:23:39.811Z"
      },
      {
        "duration": 6,
        "start_time": "2024-11-23T15:23:47.703Z"
      },
      {
        "duration": 1930,
        "start_time": "2024-11-23T15:23:47.711Z"
      },
      {
        "duration": 7,
        "start_time": "2024-11-23T15:23:49.643Z"
      },
      {
        "duration": 9,
        "start_time": "2024-11-23T15:23:49.651Z"
      },
      {
        "duration": 1862,
        "start_time": "2024-11-23T15:23:49.662Z"
      },
      {
        "duration": 6,
        "start_time": "2024-11-23T15:23:51.526Z"
      },
      {
        "duration": 18,
        "start_time": "2024-11-23T15:23:51.534Z"
      },
      {
        "duration": 20074,
        "start_time": "2024-11-23T15:23:51.553Z"
      },
      {
        "duration": 8,
        "start_time": "2024-11-23T15:24:11.629Z"
      },
      {
        "duration": 7,
        "start_time": "2024-11-23T15:24:11.638Z"
      },
      {
        "duration": 9,
        "start_time": "2024-11-23T15:24:11.647Z"
      },
      {
        "duration": 1994,
        "start_time": "2024-11-23T15:24:11.657Z"
      },
      {
        "duration": 136,
        "start_time": "2024-11-23T15:24:13.653Z"
      },
      {
        "duration": 5754,
        "start_time": "2024-11-23T15:24:13.799Z"
      },
      {
        "duration": 80,
        "start_time": "2024-11-23T15:24:19.555Z"
      },
      {
        "duration": 196,
        "start_time": "2024-11-23T15:24:19.637Z"
      },
      {
        "duration": 4,
        "start_time": "2024-11-23T15:24:19.835Z"
      },
      {
        "duration": 17,
        "start_time": "2024-11-23T15:24:19.841Z"
      },
      {
        "duration": 32,
        "start_time": "2024-11-23T15:24:19.859Z"
      },
      {
        "duration": 41,
        "start_time": "2024-11-23T15:24:19.893Z"
      },
      {
        "duration": 29,
        "start_time": "2024-11-23T15:24:19.935Z"
      },
      {
        "duration": 33538,
        "start_time": "2024-11-24T12:18:15.618Z"
      },
      {
        "duration": 1773,
        "start_time": "2024-11-24T12:18:49.159Z"
      },
      {
        "duration": 20,
        "start_time": "2024-11-24T12:18:50.934Z"
      },
      {
        "duration": 3273,
        "start_time": "2024-11-24T12:18:50.956Z"
      },
      {
        "duration": 527,
        "start_time": "2024-11-24T12:18:54.231Z"
      },
      {
        "duration": 1048,
        "start_time": "2024-11-24T12:18:54.760Z"
      },
      {
        "duration": 219,
        "start_time": "2024-11-24T12:18:55.810Z"
      },
      {
        "duration": 0,
        "start_time": "2024-11-24T12:18:56.031Z"
      },
      {
        "duration": 0,
        "start_time": "2024-11-24T12:18:56.032Z"
      },
      {
        "duration": 0,
        "start_time": "2024-11-24T12:18:56.033Z"
      },
      {
        "duration": 0,
        "start_time": "2024-11-24T12:18:56.035Z"
      },
      {
        "duration": 0,
        "start_time": "2024-11-24T12:18:56.035Z"
      },
      {
        "duration": 0,
        "start_time": "2024-11-24T12:18:56.036Z"
      },
      {
        "duration": 0,
        "start_time": "2024-11-24T12:18:56.036Z"
      },
      {
        "duration": 0,
        "start_time": "2024-11-24T12:18:56.037Z"
      },
      {
        "duration": 0,
        "start_time": "2024-11-24T12:18:56.043Z"
      },
      {
        "duration": 0,
        "start_time": "2024-11-24T12:18:56.044Z"
      },
      {
        "duration": 0,
        "start_time": "2024-11-24T12:18:56.045Z"
      },
      {
        "duration": 0,
        "start_time": "2024-11-24T12:18:56.046Z"
      },
      {
        "duration": 0,
        "start_time": "2024-11-24T12:18:56.048Z"
      },
      {
        "duration": 0,
        "start_time": "2024-11-24T12:18:56.049Z"
      },
      {
        "duration": 0,
        "start_time": "2024-11-24T12:18:56.050Z"
      },
      {
        "duration": 0,
        "start_time": "2024-11-24T12:18:56.052Z"
      },
      {
        "duration": 0,
        "start_time": "2024-11-24T12:18:56.053Z"
      },
      {
        "duration": 0,
        "start_time": "2024-11-24T12:18:56.056Z"
      },
      {
        "duration": 0,
        "start_time": "2024-11-24T12:18:56.057Z"
      },
      {
        "duration": 0,
        "start_time": "2024-11-24T12:18:56.059Z"
      },
      {
        "duration": 0,
        "start_time": "2024-11-24T12:18:56.060Z"
      },
      {
        "duration": 0,
        "start_time": "2024-11-24T12:18:56.061Z"
      },
      {
        "duration": 0,
        "start_time": "2024-11-24T12:18:56.062Z"
      },
      {
        "duration": 0,
        "start_time": "2024-11-24T12:18:56.064Z"
      },
      {
        "duration": 0,
        "start_time": "2024-11-24T12:18:56.065Z"
      },
      {
        "duration": 0,
        "start_time": "2024-11-24T12:18:56.066Z"
      },
      {
        "duration": 0,
        "start_time": "2024-11-24T12:18:56.067Z"
      },
      {
        "duration": 0,
        "start_time": "2024-11-24T12:18:56.068Z"
      },
      {
        "duration": 45,
        "start_time": "2024-11-24T12:19:50.780Z"
      },
      {
        "duration": 36,
        "start_time": "2024-11-24T12:20:10.419Z"
      },
      {
        "duration": 1725,
        "start_time": "2024-11-24T12:20:14.240Z"
      },
      {
        "duration": 29227,
        "start_time": "2024-11-24T17:44:31.581Z"
      },
      {
        "duration": 1674,
        "start_time": "2024-11-24T17:45:00.811Z"
      },
      {
        "duration": 7,
        "start_time": "2024-11-24T17:45:02.487Z"
      },
      {
        "duration": 1314,
        "start_time": "2024-11-24T17:45:02.496Z"
      },
      {
        "duration": 413,
        "start_time": "2024-11-24T17:45:03.812Z"
      },
      {
        "duration": 866,
        "start_time": "2024-11-24T17:45:04.226Z"
      },
      {
        "duration": 118,
        "start_time": "2024-11-24T17:45:05.094Z"
      },
      {
        "duration": 32,
        "start_time": "2024-11-24T17:45:05.220Z"
      },
      {
        "duration": 1676,
        "start_time": "2024-11-24T17:45:05.253Z"
      },
      {
        "duration": 0,
        "start_time": "2024-11-24T17:45:06.931Z"
      },
      {
        "duration": 0,
        "start_time": "2024-11-24T17:45:06.932Z"
      },
      {
        "duration": 0,
        "start_time": "2024-11-24T17:45:06.934Z"
      },
      {
        "duration": 0,
        "start_time": "2024-11-24T17:45:06.935Z"
      },
      {
        "duration": 0,
        "start_time": "2024-11-24T17:45:06.936Z"
      },
      {
        "duration": 0,
        "start_time": "2024-11-24T17:45:06.937Z"
      },
      {
        "duration": 0,
        "start_time": "2024-11-24T17:45:06.939Z"
      },
      {
        "duration": 0,
        "start_time": "2024-11-24T17:45:06.940Z"
      },
      {
        "duration": 0,
        "start_time": "2024-11-24T17:45:06.942Z"
      },
      {
        "duration": 0,
        "start_time": "2024-11-24T17:45:06.943Z"
      },
      {
        "duration": 0,
        "start_time": "2024-11-24T17:45:06.944Z"
      },
      {
        "duration": 0,
        "start_time": "2024-11-24T17:45:06.945Z"
      },
      {
        "duration": 0,
        "start_time": "2024-11-24T17:45:06.946Z"
      },
      {
        "duration": 0,
        "start_time": "2024-11-24T17:45:06.947Z"
      },
      {
        "duration": 0,
        "start_time": "2024-11-24T17:45:06.948Z"
      },
      {
        "duration": 0,
        "start_time": "2024-11-24T17:45:06.949Z"
      },
      {
        "duration": 0,
        "start_time": "2024-11-24T17:45:06.950Z"
      },
      {
        "duration": 0,
        "start_time": "2024-11-24T17:45:06.951Z"
      },
      {
        "duration": 0,
        "start_time": "2024-11-24T17:45:06.952Z"
      },
      {
        "duration": 0,
        "start_time": "2024-11-24T17:45:06.953Z"
      },
      {
        "duration": 0,
        "start_time": "2024-11-24T17:45:06.954Z"
      },
      {
        "duration": 0,
        "start_time": "2024-11-24T17:45:06.955Z"
      },
      {
        "duration": 0,
        "start_time": "2024-11-24T17:45:06.956Z"
      },
      {
        "duration": 0,
        "start_time": "2024-11-24T17:45:06.957Z"
      },
      {
        "duration": 0,
        "start_time": "2024-11-24T17:45:06.958Z"
      },
      {
        "duration": 0,
        "start_time": "2024-11-24T17:45:06.959Z"
      },
      {
        "duration": 0,
        "start_time": "2024-11-24T17:45:06.960Z"
      },
      {
        "duration": 0,
        "start_time": "2024-11-24T17:45:06.961Z"
      },
      {
        "duration": 0,
        "start_time": "2024-11-24T17:45:06.962Z"
      },
      {
        "duration": 15,
        "start_time": "2024-11-24T17:46:34.819Z"
      },
      {
        "duration": 6572,
        "start_time": "2024-11-24T17:46:40.774Z"
      },
      {
        "duration": 63,
        "start_time": "2024-11-24T17:49:03.964Z"
      },
      {
        "duration": 41,
        "start_time": "2024-11-24T17:49:14.576Z"
      },
      {
        "duration": 41,
        "start_time": "2024-11-24T17:49:31.479Z"
      },
      {
        "duration": 56,
        "start_time": "2024-11-24T17:51:26.998Z"
      },
      {
        "duration": 7,
        "start_time": "2024-11-24T17:51:46.389Z"
      },
      {
        "duration": 11307,
        "start_time": "2024-11-24T17:51:56.311Z"
      },
      {
        "duration": 1356,
        "start_time": "2024-11-24T17:52:07.621Z"
      },
      {
        "duration": 7,
        "start_time": "2024-11-24T17:52:08.978Z"
      },
      {
        "duration": 1077,
        "start_time": "2024-11-24T17:52:08.987Z"
      },
      {
        "duration": 491,
        "start_time": "2024-11-24T17:52:10.066Z"
      },
      {
        "duration": 956,
        "start_time": "2024-11-24T17:52:10.559Z"
      },
      {
        "duration": 141,
        "start_time": "2024-11-24T17:52:11.520Z"
      },
      {
        "duration": 34,
        "start_time": "2024-11-24T17:52:11.663Z"
      },
      {
        "duration": 707,
        "start_time": "2024-11-24T17:52:11.698Z"
      },
      {
        "duration": 0,
        "start_time": "2024-11-24T17:52:12.408Z"
      },
      {
        "duration": 0,
        "start_time": "2024-11-24T17:52:12.409Z"
      },
      {
        "duration": 0,
        "start_time": "2024-11-24T17:52:12.410Z"
      },
      {
        "duration": 0,
        "start_time": "2024-11-24T17:52:12.411Z"
      },
      {
        "duration": 0,
        "start_time": "2024-11-24T17:52:12.412Z"
      },
      {
        "duration": 0,
        "start_time": "2024-11-24T17:52:12.413Z"
      },
      {
        "duration": 0,
        "start_time": "2024-11-24T17:52:12.420Z"
      },
      {
        "duration": 0,
        "start_time": "2024-11-24T17:52:12.421Z"
      },
      {
        "duration": 0,
        "start_time": "2024-11-24T17:52:12.422Z"
      },
      {
        "duration": 0,
        "start_time": "2024-11-24T17:52:12.423Z"
      },
      {
        "duration": 0,
        "start_time": "2024-11-24T17:52:12.424Z"
      },
      {
        "duration": 0,
        "start_time": "2024-11-24T17:52:12.425Z"
      },
      {
        "duration": 0,
        "start_time": "2024-11-24T17:52:12.426Z"
      },
      {
        "duration": 0,
        "start_time": "2024-11-24T17:52:12.427Z"
      },
      {
        "duration": 0,
        "start_time": "2024-11-24T17:52:12.428Z"
      },
      {
        "duration": 0,
        "start_time": "2024-11-24T17:52:12.429Z"
      },
      {
        "duration": 0,
        "start_time": "2024-11-24T17:52:12.430Z"
      },
      {
        "duration": 0,
        "start_time": "2024-11-24T17:52:12.431Z"
      },
      {
        "duration": 0,
        "start_time": "2024-11-24T17:52:12.432Z"
      },
      {
        "duration": 0,
        "start_time": "2024-11-24T17:52:12.433Z"
      },
      {
        "duration": 0,
        "start_time": "2024-11-24T17:52:12.434Z"
      },
      {
        "duration": 0,
        "start_time": "2024-11-24T17:52:12.435Z"
      },
      {
        "duration": 0,
        "start_time": "2024-11-24T17:52:12.435Z"
      },
      {
        "duration": 0,
        "start_time": "2024-11-24T17:52:12.436Z"
      },
      {
        "duration": 0,
        "start_time": "2024-11-24T17:52:12.437Z"
      },
      {
        "duration": 0,
        "start_time": "2024-11-24T17:52:12.438Z"
      },
      {
        "duration": 0,
        "start_time": "2024-11-24T17:52:12.439Z"
      },
      {
        "duration": 0,
        "start_time": "2024-11-24T17:52:12.440Z"
      },
      {
        "duration": 0,
        "start_time": "2024-11-24T17:52:12.441Z"
      },
      {
        "duration": 11248,
        "start_time": "2024-11-24T17:53:01.516Z"
      },
      {
        "duration": 1443,
        "start_time": "2024-11-24T17:53:12.766Z"
      },
      {
        "duration": 15,
        "start_time": "2024-11-24T17:53:14.211Z"
      },
      {
        "duration": 1162,
        "start_time": "2024-11-24T17:53:14.229Z"
      },
      {
        "duration": 508,
        "start_time": "2024-11-24T17:53:15.392Z"
      },
      {
        "duration": 1055,
        "start_time": "2024-11-24T17:53:15.901Z"
      },
      {
        "duration": 125,
        "start_time": "2024-11-24T17:53:16.958Z"
      },
      {
        "duration": 44,
        "start_time": "2024-11-24T17:53:17.085Z"
      },
      {
        "duration": 7148,
        "start_time": "2024-11-24T17:53:17.131Z"
      },
      {
        "duration": 3469,
        "start_time": "2024-11-24T17:53:24.281Z"
      },
      {
        "duration": 40,
        "start_time": "2024-11-24T17:53:27.754Z"
      },
      {
        "duration": 157,
        "start_time": "2024-11-24T17:53:27.796Z"
      },
      {
        "duration": 48789,
        "start_time": "2024-11-24T17:53:27.955Z"
      },
      {
        "duration": 0,
        "start_time": "2024-11-24T17:54:16.746Z"
      },
      {
        "duration": 0,
        "start_time": "2024-11-24T17:54:16.747Z"
      },
      {
        "duration": 0,
        "start_time": "2024-11-24T17:54:16.749Z"
      },
      {
        "duration": 0,
        "start_time": "2024-11-24T17:54:16.750Z"
      },
      {
        "duration": 0,
        "start_time": "2024-11-24T17:54:16.751Z"
      },
      {
        "duration": 0,
        "start_time": "2024-11-24T17:54:16.752Z"
      },
      {
        "duration": 0,
        "start_time": "2024-11-24T17:54:16.753Z"
      },
      {
        "duration": 0,
        "start_time": "2024-11-24T17:54:16.754Z"
      },
      {
        "duration": 0,
        "start_time": "2024-11-24T17:54:16.756Z"
      },
      {
        "duration": 0,
        "start_time": "2024-11-24T17:54:16.757Z"
      },
      {
        "duration": 0,
        "start_time": "2024-11-24T17:54:16.758Z"
      },
      {
        "duration": 0,
        "start_time": "2024-11-24T17:54:16.759Z"
      },
      {
        "duration": 0,
        "start_time": "2024-11-24T17:54:16.760Z"
      },
      {
        "duration": 0,
        "start_time": "2024-11-24T17:54:16.761Z"
      },
      {
        "duration": 0,
        "start_time": "2024-11-24T17:54:16.762Z"
      },
      {
        "duration": 0,
        "start_time": "2024-11-24T17:54:16.764Z"
      },
      {
        "duration": 0,
        "start_time": "2024-11-24T17:54:16.765Z"
      },
      {
        "duration": 0,
        "start_time": "2024-11-24T17:54:16.766Z"
      },
      {
        "duration": 0,
        "start_time": "2024-11-24T17:54:16.768Z"
      },
      {
        "duration": 0,
        "start_time": "2024-11-24T17:54:16.769Z"
      },
      {
        "duration": 0,
        "start_time": "2024-11-24T17:54:16.770Z"
      },
      {
        "duration": 0,
        "start_time": "2024-11-24T17:54:16.771Z"
      },
      {
        "duration": 0,
        "start_time": "2024-11-24T17:54:16.772Z"
      },
      {
        "duration": 0,
        "start_time": "2024-11-24T17:54:16.821Z"
      },
      {
        "duration": 0,
        "start_time": "2024-11-24T17:54:16.822Z"
      },
      {
        "duration": 53,
        "start_time": "2024-11-24T17:58:44.226Z"
      },
      {
        "duration": 39,
        "start_time": "2024-11-24T18:00:52.258Z"
      },
      {
        "duration": 92,
        "start_time": "2024-11-24T18:01:55.855Z"
      },
      {
        "duration": 60108,
        "start_time": "2024-11-24T18:02:02.539Z"
      },
      {
        "duration": 10599,
        "start_time": "2024-11-24T18:04:50.106Z"
      },
      {
        "duration": 1459,
        "start_time": "2024-11-24T18:05:00.708Z"
      },
      {
        "duration": 7,
        "start_time": "2024-11-24T18:05:02.169Z"
      },
      {
        "duration": 1182,
        "start_time": "2024-11-24T18:05:02.177Z"
      },
      {
        "duration": 515,
        "start_time": "2024-11-24T18:05:03.361Z"
      },
      {
        "duration": 1120,
        "start_time": "2024-11-24T18:05:03.878Z"
      },
      {
        "duration": 157,
        "start_time": "2024-11-24T18:05:05.000Z"
      },
      {
        "duration": 40,
        "start_time": "2024-11-24T18:05:05.159Z"
      },
      {
        "duration": 7062,
        "start_time": "2024-11-24T18:05:05.201Z"
      },
      {
        "duration": 3272,
        "start_time": "2024-11-24T18:05:12.264Z"
      },
      {
        "duration": 32,
        "start_time": "2024-11-24T18:05:15.538Z"
      },
      {
        "duration": 160,
        "start_time": "2024-11-24T18:05:15.572Z"
      },
      {
        "duration": 62137,
        "start_time": "2024-11-24T18:05:15.734Z"
      },
      {
        "duration": 9122,
        "start_time": "2024-11-24T18:06:17.874Z"
      },
      {
        "duration": 4,
        "start_time": "2024-11-24T18:06:26.998Z"
      },
      {
        "duration": 2189,
        "start_time": "2024-11-24T18:06:27.004Z"
      },
      {
        "duration": 5,
        "start_time": "2024-11-24T18:06:29.195Z"
      },
      {
        "duration": 57,
        "start_time": "2024-11-24T18:06:29.201Z"
      },
      {
        "duration": 2044,
        "start_time": "2024-11-24T18:06:29.259Z"
      },
      {
        "duration": 5,
        "start_time": "2024-11-24T18:06:31.304Z"
      },
      {
        "duration": 33,
        "start_time": "2024-11-24T18:06:31.322Z"
      },
      {
        "duration": 21698,
        "start_time": "2024-11-24T18:06:31.357Z"
      },
      {
        "duration": 9,
        "start_time": "2024-11-24T18:06:53.056Z"
      },
      {
        "duration": 5,
        "start_time": "2024-11-24T18:06:53.066Z"
      },
      {
        "duration": 9,
        "start_time": "2024-11-24T18:06:53.072Z"
      },
      {
        "duration": 2068,
        "start_time": "2024-11-24T18:06:53.082Z"
      },
      {
        "duration": 141,
        "start_time": "2024-11-24T18:06:55.152Z"
      },
      {
        "duration": 0,
        "start_time": "2024-11-24T18:06:55.294Z"
      },
      {
        "duration": 0,
        "start_time": "2024-11-24T18:06:55.295Z"
      },
      {
        "duration": 0,
        "start_time": "2024-11-24T18:06:55.296Z"
      },
      {
        "duration": 0,
        "start_time": "2024-11-24T18:06:55.297Z"
      },
      {
        "duration": 0,
        "start_time": "2024-11-24T18:06:55.298Z"
      },
      {
        "duration": 0,
        "start_time": "2024-11-24T18:06:55.299Z"
      },
      {
        "duration": 0,
        "start_time": "2024-11-24T18:06:55.300Z"
      },
      {
        "duration": 0,
        "start_time": "2024-11-24T18:06:55.301Z"
      },
      {
        "duration": 0,
        "start_time": "2024-11-24T18:06:55.302Z"
      },
      {
        "duration": 0,
        "start_time": "2024-11-24T18:06:55.303Z"
      },
      {
        "duration": 0,
        "start_time": "2024-11-24T18:06:55.321Z"
      },
      {
        "duration": 13,
        "start_time": "2024-11-24T18:08:34.470Z"
      },
      {
        "duration": 119,
        "start_time": "2024-11-24T18:10:44.250Z"
      },
      {
        "duration": 15,
        "start_time": "2024-11-24T18:11:02.040Z"
      },
      {
        "duration": 6542,
        "start_time": "2024-11-24T18:11:16.350Z"
      },
      {
        "duration": 24,
        "start_time": "2024-11-24T18:11:31.220Z"
      },
      {
        "duration": 82,
        "start_time": "2024-11-24T18:11:40.933Z"
      },
      {
        "duration": 259,
        "start_time": "2024-11-24T18:11:48.689Z"
      },
      {
        "duration": 4,
        "start_time": "2024-11-24T18:12:10.563Z"
      },
      {
        "duration": 3,
        "start_time": "2024-11-24T18:12:16.469Z"
      },
      {
        "duration": 3,
        "start_time": "2024-11-24T18:12:50.235Z"
      },
      {
        "duration": 9705,
        "start_time": "2024-11-25T03:01:35.621Z"
      },
      {
        "duration": 1349,
        "start_time": "2024-11-25T03:01:45.329Z"
      },
      {
        "duration": 7,
        "start_time": "2024-11-25T03:01:46.680Z"
      },
      {
        "duration": 992,
        "start_time": "2024-11-25T03:01:46.689Z"
      },
      {
        "duration": 415,
        "start_time": "2024-11-25T03:01:47.683Z"
      },
      {
        "duration": 867,
        "start_time": "2024-11-25T03:01:48.099Z"
      },
      {
        "duration": 118,
        "start_time": "2024-11-25T03:01:48.968Z"
      },
      {
        "duration": 46,
        "start_time": "2024-11-25T03:01:49.088Z"
      },
      {
        "duration": 6017,
        "start_time": "2024-11-25T03:01:49.136Z"
      },
      {
        "duration": 2769,
        "start_time": "2024-11-25T03:01:55.156Z"
      },
      {
        "duration": 32,
        "start_time": "2024-11-25T03:01:57.926Z"
      },
      {
        "duration": 137,
        "start_time": "2024-11-25T03:01:57.959Z"
      },
      {
        "duration": 49807,
        "start_time": "2024-11-25T03:01:58.097Z"
      },
      {
        "duration": 7796,
        "start_time": "2024-11-25T03:02:47.906Z"
      },
      {
        "duration": 5,
        "start_time": "2024-11-25T03:02:55.703Z"
      },
      {
        "duration": 1898,
        "start_time": "2024-11-25T03:02:55.710Z"
      },
      {
        "duration": 13,
        "start_time": "2024-11-25T03:02:57.610Z"
      },
      {
        "duration": 29,
        "start_time": "2024-11-25T03:02:57.624Z"
      },
      {
        "duration": 1699,
        "start_time": "2024-11-25T03:02:57.654Z"
      },
      {
        "duration": 6,
        "start_time": "2024-11-25T03:02:59.354Z"
      },
      {
        "duration": 38,
        "start_time": "2024-11-25T03:02:59.361Z"
      },
      {
        "duration": 16573,
        "start_time": "2024-11-25T03:02:59.400Z"
      },
      {
        "duration": 8,
        "start_time": "2024-11-25T03:03:15.974Z"
      },
      {
        "duration": 9,
        "start_time": "2024-11-25T03:03:15.984Z"
      },
      {
        "duration": 17,
        "start_time": "2024-11-25T03:03:15.994Z"
      },
      {
        "duration": 1742,
        "start_time": "2024-11-25T03:03:16.021Z"
      },
      {
        "duration": 102,
        "start_time": "2024-11-25T03:03:17.765Z"
      },
      {
        "duration": 5434,
        "start_time": "2024-11-25T03:03:17.870Z"
      },
      {
        "duration": 80,
        "start_time": "2024-11-25T03:03:23.305Z"
      },
      {
        "duration": 197,
        "start_time": "2024-11-25T03:03:23.386Z"
      },
      {
        "duration": 4,
        "start_time": "2024-11-25T03:03:23.584Z"
      },
      {
        "duration": 7,
        "start_time": "2024-11-25T03:03:23.589Z"
      },
      {
        "duration": 7,
        "start_time": "2024-11-25T03:03:23.597Z"
      },
      {
        "duration": 16,
        "start_time": "2024-11-25T03:03:23.605Z"
      },
      {
        "duration": 4,
        "start_time": "2024-11-25T03:03:23.622Z"
      },
      {
        "duration": 0,
        "start_time": "2024-11-25T06:03:42.139Z"
      },
      {
        "duration": 0,
        "start_time": "2024-11-25T06:03:42.146Z"
      },
      {
        "duration": 104,
        "start_time": "2024-11-25T06:29:29.543Z"
      },
      {
        "duration": 4,
        "start_time": "2024-11-25T06:29:47.483Z"
      },
      {
        "duration": 33,
        "start_time": "2024-11-25T06:32:16.269Z"
      },
      {
        "duration": 111,
        "start_time": "2024-11-25T06:37:10.617Z"
      },
      {
        "duration": 167,
        "start_time": "2024-11-25T06:37:22.484Z"
      },
      {
        "duration": 250,
        "start_time": "2024-11-25T06:40:32.817Z"
      },
      {
        "duration": 4,
        "start_time": "2024-11-25T06:46:59.643Z"
      },
      {
        "duration": 4,
        "start_time": "2024-11-25T07:04:01.405Z"
      },
      {
        "duration": 114,
        "start_time": "2024-11-25T07:11:37.915Z"
      },
      {
        "duration": 571,
        "start_time": "2024-11-25T07:15:14.172Z"
      },
      {
        "duration": 3015093,
        "start_time": "2024-11-25T07:15:24.083Z"
      },
      {
        "duration": 5,
        "start_time": "2024-11-25T08:22:19.062Z"
      },
      {
        "duration": 3038615,
        "start_time": "2024-11-25T10:37:52.631Z"
      },
      {
        "duration": 540675,
        "start_time": "2024-11-25T11:28:44.219Z"
      },
      {
        "duration": 543578,
        "start_time": "2024-11-25T11:45:44.222Z"
      },
      {
        "duration": 6,
        "start_time": "2024-11-25T11:55:44.638Z"
      },
      {
        "duration": 422,
        "start_time": "2024-11-25T11:56:25.710Z"
      },
      {
        "duration": 541296,
        "start_time": "2024-11-25T12:14:55.180Z"
      },
      {
        "duration": 474,
        "start_time": "2024-11-25T12:26:14.556Z"
      },
      {
        "duration": 823,
        "start_time": "2024-11-25T12:35:57.485Z"
      },
      {
        "duration": 800,
        "start_time": "2024-11-25T12:36:27.512Z"
      },
      {
        "duration": 1212,
        "start_time": "2024-11-25T12:37:20.818Z"
      },
      {
        "duration": 14,
        "start_time": "2024-11-25T12:40:40.967Z"
      },
      {
        "duration": 1600,
        "start_time": "2024-11-25T12:41:34.517Z"
      },
      {
        "duration": 31600,
        "start_time": "2024-11-25T14:46:40.742Z"
      },
      {
        "duration": 8720,
        "start_time": "2024-11-25T14:47:12.344Z"
      },
      {
        "duration": 8,
        "start_time": "2024-11-25T14:47:21.065Z"
      },
      {
        "duration": 1193,
        "start_time": "2024-11-25T14:47:21.075Z"
      },
      {
        "duration": 533,
        "start_time": "2024-11-25T14:47:22.270Z"
      },
      {
        "duration": 1073,
        "start_time": "2024-11-25T14:47:22.805Z"
      },
      {
        "duration": 145,
        "start_time": "2024-11-25T14:47:23.879Z"
      },
      {
        "duration": 37,
        "start_time": "2024-11-25T14:47:24.025Z"
      },
      {
        "duration": 7111,
        "start_time": "2024-11-25T14:47:24.063Z"
      },
      {
        "duration": 3366,
        "start_time": "2024-11-25T14:47:31.177Z"
      },
      {
        "duration": 39,
        "start_time": "2024-11-25T14:47:34.545Z"
      },
      {
        "duration": 165,
        "start_time": "2024-11-25T14:47:34.586Z"
      },
      {
        "duration": 60003,
        "start_time": "2024-11-25T14:47:34.753Z"
      },
      {
        "duration": 8814,
        "start_time": "2024-11-25T14:48:34.758Z"
      },
      {
        "duration": 6,
        "start_time": "2024-11-25T14:48:43.573Z"
      },
      {
        "duration": 2185,
        "start_time": "2024-11-25T14:48:43.581Z"
      },
      {
        "duration": 7,
        "start_time": "2024-11-25T14:48:45.769Z"
      },
      {
        "duration": 13,
        "start_time": "2024-11-25T14:48:45.778Z"
      },
      {
        "duration": 2041,
        "start_time": "2024-11-25T14:48:45.793Z"
      },
      {
        "duration": 7,
        "start_time": "2024-11-25T14:48:47.836Z"
      },
      {
        "duration": 92,
        "start_time": "2024-11-25T14:48:47.844Z"
      },
      {
        "duration": 20560,
        "start_time": "2024-11-25T14:48:47.937Z"
      },
      {
        "duration": 10,
        "start_time": "2024-11-25T14:49:08.499Z"
      },
      {
        "duration": 7,
        "start_time": "2024-11-25T14:49:08.521Z"
      },
      {
        "duration": 18,
        "start_time": "2024-11-25T14:49:08.529Z"
      },
      {
        "duration": 1985,
        "start_time": "2024-11-25T14:49:08.549Z"
      },
      {
        "duration": 125,
        "start_time": "2024-11-25T14:49:10.535Z"
      },
      {
        "duration": 6517,
        "start_time": "2024-11-25T14:49:10.663Z"
      },
      {
        "duration": 122,
        "start_time": "2024-11-25T14:49:17.182Z"
      },
      {
        "duration": 242,
        "start_time": "2024-11-25T14:50:29.868Z"
      },
      {
        "duration": 1371,
        "start_time": "2024-11-25T14:50:33.223Z"
      },
      {
        "duration": 320,
        "start_time": "2024-11-25T15:10:23.196Z"
      },
      {
        "duration": 19,
        "start_time": "2024-11-25T15:10:28.899Z"
      },
      {
        "duration": 15,
        "start_time": "2024-11-25T15:11:11.124Z"
      },
      {
        "duration": 11,
        "start_time": "2024-11-25T15:11:51.317Z"
      },
      {
        "duration": 11,
        "start_time": "2024-11-25T15:11:54.443Z"
      },
      {
        "duration": 11,
        "start_time": "2024-11-25T15:12:08.048Z"
      },
      {
        "duration": 574,
        "start_time": "2024-11-25T15:12:25.606Z"
      },
      {
        "duration": 16344,
        "start_time": "2024-11-25T15:12:26.494Z"
      },
      {
        "duration": 108,
        "start_time": "2024-11-25T15:13:55.309Z"
      },
      {
        "duration": 95,
        "start_time": "2024-11-25T15:14:17.475Z"
      },
      {
        "duration": 11797,
        "start_time": "2024-11-25T15:21:49.850Z"
      },
      {
        "duration": 2095,
        "start_time": "2024-11-25T15:22:01.650Z"
      },
      {
        "duration": 9,
        "start_time": "2024-11-25T15:22:03.747Z"
      },
      {
        "duration": 1217,
        "start_time": "2024-11-25T15:22:03.758Z"
      },
      {
        "duration": 543,
        "start_time": "2024-11-25T15:22:04.977Z"
      },
      {
        "duration": 1104,
        "start_time": "2024-11-25T15:22:05.522Z"
      },
      {
        "duration": 143,
        "start_time": "2024-11-25T15:22:06.628Z"
      },
      {
        "duration": 37,
        "start_time": "2024-11-25T15:22:06.773Z"
      },
      {
        "duration": 7255,
        "start_time": "2024-11-25T15:22:06.812Z"
      },
      {
        "duration": 3370,
        "start_time": "2024-11-25T15:22:14.070Z"
      },
      {
        "duration": 36,
        "start_time": "2024-11-25T15:22:17.442Z"
      },
      {
        "duration": 153,
        "start_time": "2024-11-25T15:22:17.480Z"
      },
      {
        "duration": 60410,
        "start_time": "2024-11-25T15:22:17.635Z"
      },
      {
        "duration": 8787,
        "start_time": "2024-11-25T15:23:18.048Z"
      },
      {
        "duration": 7,
        "start_time": "2024-11-25T15:23:26.837Z"
      },
      {
        "duration": 2190,
        "start_time": "2024-11-25T15:23:26.845Z"
      },
      {
        "duration": 5,
        "start_time": "2024-11-25T15:23:29.037Z"
      },
      {
        "duration": 10,
        "start_time": "2024-11-25T15:23:29.044Z"
      },
      {
        "duration": 2056,
        "start_time": "2024-11-25T15:23:29.056Z"
      },
      {
        "duration": 7,
        "start_time": "2024-11-25T15:23:31.121Z"
      },
      {
        "duration": 72,
        "start_time": "2024-11-25T15:23:31.130Z"
      },
      {
        "duration": 20495,
        "start_time": "2024-11-25T15:23:31.204Z"
      },
      {
        "duration": 20,
        "start_time": "2024-11-25T15:23:51.700Z"
      },
      {
        "duration": 6,
        "start_time": "2024-11-25T15:23:51.722Z"
      },
      {
        "duration": 26,
        "start_time": "2024-11-25T15:23:51.730Z"
      },
      {
        "duration": 2020,
        "start_time": "2024-11-25T15:23:51.758Z"
      },
      {
        "duration": 134,
        "start_time": "2024-11-25T15:23:53.780Z"
      },
      {
        "duration": 6629,
        "start_time": "2024-11-25T15:23:53.920Z"
      },
      {
        "duration": 125,
        "start_time": "2024-11-25T15:24:00.550Z"
      },
      {
        "duration": 126,
        "start_time": "2024-11-25T15:24:00.676Z"
      },
      {
        "duration": 257,
        "start_time": "2024-11-25T15:26:43.200Z"
      },
      {
        "duration": 573,
        "start_time": "2024-11-25T15:26:49.952Z"
      },
      {
        "duration": 97,
        "start_time": "2024-11-25T15:27:00.736Z"
      },
      {
        "duration": 661,
        "start_time": "2024-11-25T15:27:05.472Z"
      },
      {
        "duration": 446,
        "start_time": "2024-11-26T04:51:14.707Z"
      },
      {
        "duration": 31210,
        "start_time": "2024-11-26T04:51:22.817Z"
      },
      {
        "duration": 308,
        "start_time": "2024-11-26T04:51:54.775Z"
      },
      {
        "duration": 10370,
        "start_time": "2024-11-26T04:52:29.502Z"
      },
      {
        "duration": 27,
        "start_time": "2024-11-26T04:52:59.442Z"
      },
      {
        "duration": 21,
        "start_time": "2024-11-26T04:53:21.526Z"
      },
      {
        "duration": 124,
        "start_time": "2024-11-26T04:53:43.499Z"
      },
      {
        "duration": 17111,
        "start_time": "2024-11-26T04:54:47.750Z"
      },
      {
        "duration": 23431,
        "start_time": "2024-11-26T04:55:52.775Z"
      },
      {
        "duration": 20343,
        "start_time": "2024-11-26T04:56:56.716Z"
      },
      {
        "duration": 112,
        "start_time": "2024-11-26T04:57:32.204Z"
      },
      {
        "duration": 19572,
        "start_time": "2024-11-26T04:59:36.510Z"
      },
      {
        "duration": 23229,
        "start_time": "2024-11-26T04:59:59.752Z"
      },
      {
        "duration": 931,
        "start_time": "2024-11-26T05:00:37.399Z"
      },
      {
        "duration": 38322,
        "start_time": "2024-11-26T08:19:15.612Z"
      },
      {
        "duration": 1576,
        "start_time": "2024-11-26T08:19:53.937Z"
      },
      {
        "duration": 8,
        "start_time": "2024-11-26T08:19:55.514Z"
      },
      {
        "duration": 1322,
        "start_time": "2024-11-26T08:19:55.524Z"
      },
      {
        "duration": 502,
        "start_time": "2024-11-26T08:19:56.848Z"
      },
      {
        "duration": 954,
        "start_time": "2024-11-26T08:19:57.351Z"
      },
      {
        "duration": 132,
        "start_time": "2024-11-26T08:19:58.306Z"
      },
      {
        "duration": 33,
        "start_time": "2024-11-26T08:19:58.440Z"
      },
      {
        "duration": 6758,
        "start_time": "2024-11-26T08:19:58.475Z"
      },
      {
        "duration": 3180,
        "start_time": "2024-11-26T08:20:05.234Z"
      },
      {
        "duration": 37,
        "start_time": "2024-11-26T08:20:08.416Z"
      },
      {
        "duration": 161,
        "start_time": "2024-11-26T08:20:08.454Z"
      },
      {
        "duration": 55848,
        "start_time": "2024-11-26T08:20:08.616Z"
      },
      {
        "duration": 8138,
        "start_time": "2024-11-26T08:21:04.467Z"
      },
      {
        "duration": 18,
        "start_time": "2024-11-26T08:21:12.606Z"
      },
      {
        "duration": 2008,
        "start_time": "2024-11-26T08:21:12.625Z"
      },
      {
        "duration": 5,
        "start_time": "2024-11-26T08:21:14.634Z"
      },
      {
        "duration": 17,
        "start_time": "2024-11-26T08:21:14.640Z"
      },
      {
        "duration": 1909,
        "start_time": "2024-11-26T08:21:14.658Z"
      },
      {
        "duration": 5,
        "start_time": "2024-11-26T08:21:16.569Z"
      },
      {
        "duration": 63,
        "start_time": "2024-11-26T08:21:16.576Z"
      },
      {
        "duration": 18719,
        "start_time": "2024-11-26T08:21:16.641Z"
      },
      {
        "duration": 8,
        "start_time": "2024-11-26T08:21:35.362Z"
      },
      {
        "duration": 20,
        "start_time": "2024-11-26T08:21:35.371Z"
      },
      {
        "duration": 15,
        "start_time": "2024-11-26T08:21:35.392Z"
      },
      {
        "duration": 1895,
        "start_time": "2024-11-26T08:21:35.409Z"
      },
      {
        "duration": 135,
        "start_time": "2024-11-26T08:21:37.306Z"
      },
      {
        "duration": 5822,
        "start_time": "2024-11-26T08:21:37.443Z"
      },
      {
        "duration": 119,
        "start_time": "2024-11-26T08:21:43.266Z"
      },
      {
        "duration": 237,
        "start_time": "2024-11-26T08:21:43.387Z"
      },
      {
        "duration": 180,
        "start_time": "2024-11-26T08:21:43.625Z"
      },
      {
        "duration": 0,
        "start_time": "2024-11-26T08:21:43.807Z"
      },
      {
        "duration": 0,
        "start_time": "2024-11-26T08:21:43.808Z"
      },
      {
        "duration": 0,
        "start_time": "2024-11-26T08:21:43.809Z"
      },
      {
        "duration": 0,
        "start_time": "2024-11-26T08:21:43.810Z"
      },
      {
        "duration": 0,
        "start_time": "2024-11-26T08:21:43.811Z"
      },
      {
        "duration": 0,
        "start_time": "2024-11-26T08:21:43.812Z"
      },
      {
        "duration": 0,
        "start_time": "2024-11-26T08:21:43.821Z"
      },
      {
        "duration": 0,
        "start_time": "2024-11-26T08:21:43.822Z"
      },
      {
        "duration": 70,
        "start_time": "2024-11-26T08:24:58.734Z"
      },
      {
        "duration": 68,
        "start_time": "2024-11-26T08:29:18.094Z"
      },
      {
        "duration": 1474,
        "start_time": "2024-11-26T08:50:22.911Z"
      },
      {
        "duration": 10132894,
        "start_time": "2024-11-26T08:51:17.792Z"
      },
      {
        "duration": 4401687,
        "start_time": "2024-11-26T11:58:49.676Z"
      },
      {
        "duration": 8,
        "start_time": "2024-11-26T13:17:10.688Z"
      },
      {
        "duration": 63,
        "start_time": "2024-11-26T13:20:03.675Z"
      },
      {
        "duration": 588,
        "start_time": "2024-11-26T13:20:07.367Z"
      },
      {
        "duration": 87,
        "start_time": "2024-11-26T13:20:27.261Z"
      },
      {
        "duration": 11,
        "start_time": "2024-11-26T13:33:17.581Z"
      },
      {
        "duration": 11,
        "start_time": "2024-11-26T13:33:48.346Z"
      },
      {
        "duration": 4,
        "start_time": "2024-11-26T13:34:54.986Z"
      },
      {
        "duration": 78,
        "start_time": "2024-11-26T13:35:13.518Z"
      },
      {
        "duration": 10,
        "start_time": "2024-11-26T13:36:29.863Z"
      },
      {
        "duration": 75,
        "start_time": "2024-11-26T13:36:38.490Z"
      },
      {
        "duration": 79,
        "start_time": "2024-11-26T13:38:05.829Z"
      },
      {
        "duration": 17,
        "start_time": "2024-11-26T13:40:51.981Z"
      },
      {
        "duration": 81,
        "start_time": "2024-11-26T13:41:28.138Z"
      },
      {
        "duration": 48,
        "start_time": "2024-11-26T13:45:35.985Z"
      },
      {
        "duration": 23147,
        "start_time": "2024-11-26T13:46:00.766Z"
      },
      {
        "duration": 2150,
        "start_time": "2024-11-26T13:46:23.916Z"
      },
      {
        "duration": 7,
        "start_time": "2024-11-26T13:46:26.068Z"
      },
      {
        "duration": 1411,
        "start_time": "2024-11-26T13:46:26.076Z"
      },
      {
        "duration": 474,
        "start_time": "2024-11-26T13:46:27.490Z"
      },
      {
        "duration": 1009,
        "start_time": "2024-11-26T13:46:27.965Z"
      },
      {
        "duration": 147,
        "start_time": "2024-11-26T13:46:28.976Z"
      },
      {
        "duration": 41,
        "start_time": "2024-11-26T13:46:29.125Z"
      },
      {
        "duration": 6576,
        "start_time": "2024-11-26T13:46:29.168Z"
      },
      {
        "duration": 2967,
        "start_time": "2024-11-26T13:46:35.746Z"
      },
      {
        "duration": 32,
        "start_time": "2024-11-26T13:46:38.721Z"
      },
      {
        "duration": 146,
        "start_time": "2024-11-26T13:46:38.754Z"
      },
      {
        "duration": 56145,
        "start_time": "2024-11-26T13:46:38.901Z"
      },
      {
        "duration": 8308,
        "start_time": "2024-11-26T13:47:35.050Z"
      },
      {
        "duration": 5,
        "start_time": "2024-11-26T13:47:43.359Z"
      },
      {
        "duration": 2059,
        "start_time": "2024-11-26T13:47:43.366Z"
      },
      {
        "duration": 5,
        "start_time": "2024-11-26T13:47:45.426Z"
      },
      {
        "duration": 21,
        "start_time": "2024-11-26T13:47:45.432Z"
      },
      {
        "duration": 1843,
        "start_time": "2024-11-26T13:47:45.454Z"
      },
      {
        "duration": 8,
        "start_time": "2024-11-26T13:47:47.299Z"
      },
      {
        "duration": 31,
        "start_time": "2024-11-26T13:47:47.323Z"
      },
      {
        "duration": 18266,
        "start_time": "2024-11-26T13:47:47.356Z"
      },
      {
        "duration": 8,
        "start_time": "2024-11-26T13:48:05.624Z"
      },
      {
        "duration": 60,
        "start_time": "2024-11-26T13:48:05.634Z"
      },
      {
        "duration": 26,
        "start_time": "2024-11-26T13:48:05.696Z"
      },
      {
        "duration": 1917,
        "start_time": "2024-11-26T13:48:05.723Z"
      },
      {
        "duration": 126,
        "start_time": "2024-11-26T13:48:07.641Z"
      },
      {
        "duration": 5978,
        "start_time": "2024-11-26T13:48:07.768Z"
      },
      {
        "duration": 113,
        "start_time": "2024-11-26T13:48:13.747Z"
      },
      {
        "duration": 216,
        "start_time": "2024-11-26T13:48:13.862Z"
      },
      {
        "duration": 80,
        "start_time": "2024-11-26T13:49:41.754Z"
      },
      {
        "duration": 3,
        "start_time": "2024-11-26T13:50:28.314Z"
      },
      {
        "duration": 50,
        "start_time": "2024-11-26T13:53:02.787Z"
      },
      {
        "duration": 23439,
        "start_time": "2024-11-26T13:55:53.546Z"
      },
      {
        "duration": 2151,
        "start_time": "2024-11-26T13:56:16.987Z"
      },
      {
        "duration": 8,
        "start_time": "2024-11-26T13:56:19.140Z"
      },
      {
        "duration": 1333,
        "start_time": "2024-11-26T13:56:19.150Z"
      },
      {
        "duration": 469,
        "start_time": "2024-11-26T13:56:20.485Z"
      },
      {
        "duration": 983,
        "start_time": "2024-11-26T13:56:20.955Z"
      },
      {
        "duration": 143,
        "start_time": "2024-11-26T13:56:21.940Z"
      },
      {
        "duration": 39,
        "start_time": "2024-11-26T13:56:22.085Z"
      },
      {
        "duration": 6640,
        "start_time": "2024-11-26T13:56:22.126Z"
      },
      {
        "duration": 3129,
        "start_time": "2024-11-26T13:56:28.768Z"
      },
      {
        "duration": 42,
        "start_time": "2024-11-26T13:56:31.899Z"
      },
      {
        "duration": 169,
        "start_time": "2024-11-26T13:56:31.942Z"
      },
      {
        "duration": 55239,
        "start_time": "2024-11-26T13:56:32.113Z"
      },
      {
        "duration": 8094,
        "start_time": "2024-11-26T13:57:27.354Z"
      },
      {
        "duration": 5,
        "start_time": "2024-11-26T13:57:35.450Z"
      },
      {
        "duration": 2124,
        "start_time": "2024-11-26T13:57:35.457Z"
      },
      {
        "duration": 5,
        "start_time": "2024-11-26T13:57:37.583Z"
      },
      {
        "duration": 21,
        "start_time": "2024-11-26T13:57:37.589Z"
      },
      {
        "duration": 1865,
        "start_time": "2024-11-26T13:57:37.611Z"
      },
      {
        "duration": 6,
        "start_time": "2024-11-26T13:57:39.478Z"
      },
      {
        "duration": 36,
        "start_time": "2024-11-26T13:57:39.486Z"
      },
      {
        "duration": 18014,
        "start_time": "2024-11-26T13:57:39.524Z"
      },
      {
        "duration": 8,
        "start_time": "2024-11-26T13:57:57.540Z"
      },
      {
        "duration": 10,
        "start_time": "2024-11-26T13:57:57.549Z"
      },
      {
        "duration": 8,
        "start_time": "2024-11-26T13:57:57.561Z"
      },
      {
        "duration": 1805,
        "start_time": "2024-11-26T13:57:57.571Z"
      },
      {
        "duration": 119,
        "start_time": "2024-11-26T13:57:59.377Z"
      },
      {
        "duration": 5841,
        "start_time": "2024-11-26T13:57:59.499Z"
      },
      {
        "duration": 117,
        "start_time": "2024-11-26T13:58:05.342Z"
      },
      {
        "duration": 226,
        "start_time": "2024-11-26T13:58:05.461Z"
      },
      {
        "duration": 3,
        "start_time": "2024-11-26T13:59:29.097Z"
      },
      {
        "duration": 36028,
        "start_time": "2024-11-26T16:24:02.739Z"
      },
      {
        "duration": 1698,
        "start_time": "2024-11-26T16:24:38.769Z"
      },
      {
        "duration": 8,
        "start_time": "2024-11-26T16:24:40.468Z"
      },
      {
        "duration": 1357,
        "start_time": "2024-11-26T16:24:40.478Z"
      },
      {
        "duration": 465,
        "start_time": "2024-11-26T16:24:41.837Z"
      },
      {
        "duration": 1008,
        "start_time": "2024-11-26T16:24:42.304Z"
      },
      {
        "duration": 137,
        "start_time": "2024-11-26T16:24:43.314Z"
      },
      {
        "duration": 52,
        "start_time": "2024-11-26T16:24:43.453Z"
      },
      {
        "duration": 6677,
        "start_time": "2024-11-26T16:24:43.507Z"
      },
      {
        "duration": 3088,
        "start_time": "2024-11-26T16:24:50.186Z"
      },
      {
        "duration": 34,
        "start_time": "2024-11-26T16:24:53.276Z"
      },
      {
        "duration": 143,
        "start_time": "2024-11-26T16:24:53.312Z"
      },
      {
        "duration": 55496,
        "start_time": "2024-11-26T16:24:53.456Z"
      },
      {
        "duration": 8120,
        "start_time": "2024-11-26T16:25:48.954Z"
      },
      {
        "duration": 5,
        "start_time": "2024-11-26T16:25:57.076Z"
      },
      {
        "duration": 2017,
        "start_time": "2024-11-26T16:25:57.082Z"
      },
      {
        "duration": 4,
        "start_time": "2024-11-26T16:25:59.101Z"
      },
      {
        "duration": 9,
        "start_time": "2024-11-26T16:25:59.106Z"
      },
      {
        "duration": 1925,
        "start_time": "2024-11-26T16:25:59.116Z"
      },
      {
        "duration": 6,
        "start_time": "2024-11-26T16:26:01.043Z"
      },
      {
        "duration": 42,
        "start_time": "2024-11-26T16:26:01.051Z"
      },
      {
        "duration": 18505,
        "start_time": "2024-11-26T16:26:01.095Z"
      },
      {
        "duration": 9,
        "start_time": "2024-11-26T16:26:19.601Z"
      },
      {
        "duration": 4,
        "start_time": "2024-11-26T16:26:19.612Z"
      },
      {
        "duration": 11,
        "start_time": "2024-11-26T16:26:19.618Z"
      },
      {
        "duration": 1920,
        "start_time": "2024-11-26T16:26:19.631Z"
      },
      {
        "duration": 118,
        "start_time": "2024-11-26T16:26:21.552Z"
      },
      {
        "duration": 5913,
        "start_time": "2024-11-26T16:26:21.673Z"
      },
      {
        "duration": 115,
        "start_time": "2024-11-26T16:26:27.587Z"
      },
      {
        "duration": 223,
        "start_time": "2024-11-26T16:26:27.703Z"
      },
      {
        "duration": 3,
        "start_time": "2024-11-26T16:26:44.413Z"
      },
      {
        "duration": 101,
        "start_time": "2024-11-26T16:31:27.080Z"
      },
      {
        "duration": 42247,
        "start_time": "2024-11-27T10:07:34.560Z"
      },
      {
        "duration": 1882,
        "start_time": "2024-11-27T10:08:16.810Z"
      },
      {
        "duration": 8,
        "start_time": "2024-11-27T10:08:18.694Z"
      },
      {
        "duration": 3287,
        "start_time": "2024-11-27T10:08:18.704Z"
      },
      {
        "duration": 526,
        "start_time": "2024-11-27T10:08:21.995Z"
      },
      {
        "duration": 1088,
        "start_time": "2024-11-27T10:08:22.522Z"
      },
      {
        "duration": 138,
        "start_time": "2024-11-27T10:08:23.611Z"
      },
      {
        "duration": 38,
        "start_time": "2024-11-27T10:08:23.751Z"
      },
      {
        "duration": 7566,
        "start_time": "2024-11-27T10:08:23.792Z"
      },
      {
        "duration": 3410,
        "start_time": "2024-11-27T10:08:31.360Z"
      },
      {
        "duration": 38,
        "start_time": "2024-11-27T10:08:34.772Z"
      },
      {
        "duration": 199,
        "start_time": "2024-11-27T10:08:34.822Z"
      },
      {
        "duration": 62027,
        "start_time": "2024-11-27T10:08:35.024Z"
      },
      {
        "duration": 8939,
        "start_time": "2024-11-27T10:09:37.054Z"
      },
      {
        "duration": 6,
        "start_time": "2024-11-27T10:09:45.995Z"
      },
      {
        "duration": 2252,
        "start_time": "2024-11-27T10:09:46.003Z"
      },
      {
        "duration": 7,
        "start_time": "2024-11-27T10:09:48.257Z"
      },
      {
        "duration": 49,
        "start_time": "2024-11-27T10:09:48.265Z"
      },
      {
        "duration": 2021,
        "start_time": "2024-11-27T10:09:48.316Z"
      },
      {
        "duration": 7,
        "start_time": "2024-11-27T10:09:50.338Z"
      },
      {
        "duration": 57,
        "start_time": "2024-11-27T10:09:50.347Z"
      },
      {
        "duration": 20812,
        "start_time": "2024-11-27T10:09:50.406Z"
      },
      {
        "duration": 10,
        "start_time": "2024-11-27T10:10:11.220Z"
      },
      {
        "duration": 9,
        "start_time": "2024-11-27T10:10:11.231Z"
      },
      {
        "duration": 17,
        "start_time": "2024-11-27T10:10:11.242Z"
      },
      {
        "duration": 2010,
        "start_time": "2024-11-27T10:10:11.261Z"
      },
      {
        "duration": 131,
        "start_time": "2024-11-27T10:10:13.273Z"
      },
      {
        "duration": 6679,
        "start_time": "2024-11-27T10:10:13.405Z"
      },
      {
        "duration": 131,
        "start_time": "2024-11-27T10:10:20.085Z"
      },
      {
        "duration": 260,
        "start_time": "2024-11-27T10:10:20.220Z"
      },
      {
        "duration": 15,
        "start_time": "2024-11-27T10:11:09.935Z"
      },
      {
        "duration": 25885,
        "start_time": "2024-11-27T10:44:42.701Z"
      },
      {
        "duration": 2736,
        "start_time": "2024-11-27T10:45:08.589Z"
      },
      {
        "duration": 7,
        "start_time": "2024-11-27T10:45:11.328Z"
      },
      {
        "duration": 3215,
        "start_time": "2024-11-27T10:45:11.337Z"
      },
      {
        "duration": 558,
        "start_time": "2024-11-27T10:45:14.555Z"
      },
      {
        "duration": 1140,
        "start_time": "2024-11-27T10:45:15.121Z"
      },
      {
        "duration": 146,
        "start_time": "2024-11-27T10:45:16.262Z"
      },
      {
        "duration": 50,
        "start_time": "2024-11-27T10:45:16.409Z"
      },
      {
        "duration": 6997,
        "start_time": "2024-11-27T10:45:16.461Z"
      },
      {
        "duration": 3365,
        "start_time": "2024-11-27T10:45:23.460Z"
      },
      {
        "duration": 38,
        "start_time": "2024-11-27T10:45:26.827Z"
      },
      {
        "duration": 165,
        "start_time": "2024-11-27T10:45:26.867Z"
      },
      {
        "duration": 59212,
        "start_time": "2024-11-27T10:45:27.034Z"
      },
      {
        "duration": 8782,
        "start_time": "2024-11-27T10:46:26.249Z"
      },
      {
        "duration": 7,
        "start_time": "2024-11-27T10:46:35.033Z"
      },
      {
        "duration": 2213,
        "start_time": "2024-11-27T10:46:35.043Z"
      },
      {
        "duration": 5,
        "start_time": "2024-11-27T10:46:37.258Z"
      },
      {
        "duration": 22,
        "start_time": "2024-11-27T10:46:37.265Z"
      },
      {
        "duration": 2015,
        "start_time": "2024-11-27T10:46:37.289Z"
      },
      {
        "duration": 16,
        "start_time": "2024-11-27T10:46:39.305Z"
      },
      {
        "duration": 51,
        "start_time": "2024-11-27T10:46:39.323Z"
      },
      {
        "duration": 20281,
        "start_time": "2024-11-27T10:46:39.377Z"
      },
      {
        "duration": 13,
        "start_time": "2024-11-27T10:46:59.660Z"
      },
      {
        "duration": 6,
        "start_time": "2024-11-27T10:46:59.676Z"
      },
      {
        "duration": 13,
        "start_time": "2024-11-27T10:46:59.684Z"
      },
      {
        "duration": 1931,
        "start_time": "2024-11-27T10:46:59.722Z"
      },
      {
        "duration": 126,
        "start_time": "2024-11-27T10:47:01.655Z"
      },
      {
        "duration": 6632,
        "start_time": "2024-11-27T10:47:01.784Z"
      },
      {
        "duration": 127,
        "start_time": "2024-11-27T10:47:08.418Z"
      },
      {
        "duration": 259,
        "start_time": "2024-11-27T10:47:08.546Z"
      },
      {
        "duration": 3,
        "start_time": "2024-11-27T10:48:20.916Z"
      },
      {
        "duration": 55,
        "start_time": "2024-11-27T10:53:06.828Z"
      },
      {
        "duration": 27260,
        "start_time": "2024-11-27T10:53:20.363Z"
      },
      {
        "duration": 3333,
        "start_time": "2024-11-27T10:53:47.625Z"
      },
      {
        "duration": 9,
        "start_time": "2024-11-27T10:53:50.960Z"
      },
      {
        "duration": 3454,
        "start_time": "2024-11-27T10:53:50.972Z"
      },
      {
        "duration": 556,
        "start_time": "2024-11-27T10:53:54.427Z"
      },
      {
        "duration": 1224,
        "start_time": "2024-11-27T10:53:54.985Z"
      },
      {
        "duration": 144,
        "start_time": "2024-11-27T10:53:56.211Z"
      },
      {
        "duration": 40,
        "start_time": "2024-11-27T10:53:56.357Z"
      },
      {
        "duration": 7587,
        "start_time": "2024-11-27T10:53:56.398Z"
      },
      {
        "duration": 3470,
        "start_time": "2024-11-27T10:54:03.988Z"
      },
      {
        "duration": 40,
        "start_time": "2024-11-27T10:54:07.460Z"
      },
      {
        "duration": 147,
        "start_time": "2024-11-27T10:54:07.520Z"
      },
      {
        "duration": 62135,
        "start_time": "2024-11-27T10:54:07.669Z"
      },
      {
        "duration": 9468,
        "start_time": "2024-11-27T10:55:09.806Z"
      },
      {
        "duration": 7,
        "start_time": "2024-11-27T10:55:19.276Z"
      },
      {
        "duration": 2189,
        "start_time": "2024-11-27T10:55:19.285Z"
      },
      {
        "duration": 6,
        "start_time": "2024-11-27T10:55:21.476Z"
      },
      {
        "duration": 23,
        "start_time": "2024-11-27T10:55:21.484Z"
      },
      {
        "duration": 2142,
        "start_time": "2024-11-27T10:55:21.508Z"
      },
      {
        "duration": 8,
        "start_time": "2024-11-27T10:55:23.652Z"
      },
      {
        "duration": 48,
        "start_time": "2024-11-27T10:55:23.661Z"
      },
      {
        "duration": 21470,
        "start_time": "2024-11-27T10:55:23.724Z"
      },
      {
        "duration": 25,
        "start_time": "2024-11-27T10:55:45.196Z"
      },
      {
        "duration": 11,
        "start_time": "2024-11-27T10:55:45.222Z"
      },
      {
        "duration": 25,
        "start_time": "2024-11-27T10:55:45.235Z"
      },
      {
        "duration": 2138,
        "start_time": "2024-11-27T10:55:45.262Z"
      },
      {
        "duration": 151,
        "start_time": "2024-11-27T10:55:47.402Z"
      },
      {
        "duration": 6745,
        "start_time": "2024-11-27T10:55:47.558Z"
      },
      {
        "duration": 144,
        "start_time": "2024-11-27T10:55:54.305Z"
      },
      {
        "duration": 279,
        "start_time": "2024-11-27T10:55:54.451Z"
      },
      {
        "duration": 4,
        "start_time": "2024-11-27T10:59:47.799Z"
      },
      {
        "duration": 532,
        "start_time": "2024-11-27T10:59:49.088Z"
      },
      {
        "duration": 332363,
        "start_time": "2024-11-27T11:00:28.079Z"
      },
      {
        "duration": 183,
        "start_time": "2024-11-27T11:07:40.156Z"
      },
      {
        "duration": 448,
        "start_time": "2024-11-27T11:07:54.887Z"
      },
      {
        "duration": 6,
        "start_time": "2024-11-27T11:08:00.521Z"
      },
      {
        "duration": 496,
        "start_time": "2024-11-27T11:23:56.041Z"
      },
      {
        "duration": 6,
        "start_time": "2024-11-27T11:24:01.837Z"
      },
      {
        "duration": 627,
        "start_time": "2024-11-27T11:24:13.233Z"
      },
      {
        "duration": 1277,
        "start_time": "2024-11-27T11:24:43.577Z"
      },
      {
        "duration": 130,
        "start_time": "2024-11-27T11:25:05.893Z"
      },
      {
        "duration": 473,
        "start_time": "2024-11-27T11:25:09.563Z"
      },
      {
        "duration": 6,
        "start_time": "2024-11-27T11:35:07.708Z"
      },
      {
        "duration": 14,
        "start_time": "2024-11-27T11:36:31.319Z"
      },
      {
        "duration": 15,
        "start_time": "2024-11-27T11:37:31.763Z"
      },
      {
        "duration": 10,
        "start_time": "2024-11-27T11:37:35.344Z"
      },
      {
        "duration": 4,
        "start_time": "2024-11-27T11:37:55.071Z"
      },
      {
        "duration": 10,
        "start_time": "2024-11-27T11:38:02.943Z"
      },
      {
        "duration": 13,
        "start_time": "2024-11-27T11:41:44.648Z"
      },
      {
        "duration": 12,
        "start_time": "2024-11-27T11:43:13.180Z"
      },
      {
        "duration": 5,
        "start_time": "2024-11-27T11:46:12.835Z"
      },
      {
        "duration": 5,
        "start_time": "2024-11-27T12:02:36.044Z"
      },
      {
        "duration": 3,
        "start_time": "2024-11-27T12:02:46.899Z"
      },
      {
        "duration": 5,
        "start_time": "2024-11-27T12:03:00.712Z"
      },
      {
        "duration": 11,
        "start_time": "2024-11-27T12:04:34.199Z"
      },
      {
        "duration": 5,
        "start_time": "2024-11-27T12:04:46.581Z"
      },
      {
        "duration": 8,
        "start_time": "2024-11-27T12:04:54.986Z"
      },
      {
        "duration": 4,
        "start_time": "2024-11-27T12:05:11.011Z"
      },
      {
        "duration": 4,
        "start_time": "2024-11-27T12:05:50.027Z"
      },
      {
        "duration": 4,
        "start_time": "2024-11-27T12:05:55.283Z"
      },
      {
        "duration": 447,
        "start_time": "2024-11-27T12:06:22.338Z"
      },
      {
        "duration": 22,
        "start_time": "2024-11-27T12:06:33.134Z"
      },
      {
        "duration": 5,
        "start_time": "2024-11-27T12:07:55.264Z"
      },
      {
        "duration": 18,
        "start_time": "2024-11-27T12:07:58.133Z"
      },
      {
        "duration": 9,
        "start_time": "2024-11-27T12:08:05.782Z"
      },
      {
        "duration": 6,
        "start_time": "2024-11-27T12:08:40.540Z"
      },
      {
        "duration": 9,
        "start_time": "2024-11-27T12:08:42.817Z"
      },
      {
        "duration": 24,
        "start_time": "2024-11-27T12:08:52.448Z"
      },
      {
        "duration": 438,
        "start_time": "2024-11-27T12:09:04.013Z"
      },
      {
        "duration": 15,
        "start_time": "2024-11-27T12:10:07.026Z"
      },
      {
        "duration": 467,
        "start_time": "2024-11-27T12:10:28.619Z"
      },
      {
        "duration": 579,
        "start_time": "2024-11-27T12:13:02.956Z"
      },
      {
        "duration": 479,
        "start_time": "2024-11-27T12:13:48.171Z"
      },
      {
        "duration": 391,
        "start_time": "2024-11-27T12:13:55.035Z"
      },
      {
        "duration": 12,
        "start_time": "2024-11-27T12:16:01.974Z"
      },
      {
        "duration": 5,
        "start_time": "2024-11-27T12:16:11.417Z"
      },
      {
        "duration": 8,
        "start_time": "2024-11-27T12:16:14.852Z"
      },
      {
        "duration": 5,
        "start_time": "2024-11-27T12:16:31.544Z"
      },
      {
        "duration": 7,
        "start_time": "2024-11-27T12:16:33.256Z"
      },
      {
        "duration": 371,
        "start_time": "2024-11-27T12:16:41.329Z"
      },
      {
        "duration": 406,
        "start_time": "2024-11-27T12:17:09.870Z"
      }
    ],
    "kernelspec": {
      "display_name": "Python 3 (ipykernel)",
      "language": "python",
      "name": "python3"
    },
    "language_info": {
      "codemirror_mode": {
        "name": "ipython",
        "version": 3
      },
      "file_extension": ".py",
      "mimetype": "text/x-python",
      "name": "python",
      "nbconvert_exporter": "python",
      "pygments_lexer": "ipython3",
      "version": "3.9.5"
    },
    "toc": {
      "base_numbering": 1,
      "nav_menu": {},
      "number_sections": true,
      "sideBar": true,
      "skip_h1_title": true,
      "title_cell": "Содержание",
      "title_sidebar": "Contents",
      "toc_cell": true,
      "toc_position": {
        "height": "calc(100% - 180px)",
        "left": "10px",
        "top": "150px",
        "width": "165.516px"
      },
      "toc_section_display": true,
      "toc_window_display": true
    },
    "colab": {
      "provenance": [],
      "toc_visible": true
    }
  },
  "nbformat": 4,
  "nbformat_minor": 0
}