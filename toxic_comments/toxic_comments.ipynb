{
  "cells": [
    {
      "cell_type": "markdown",
      "metadata": {
        "id": "7al-rwE8rwcZ"
      },
      "source": [
        "# Определение токсичных комментариев"
      ]
    },
    {
      "cell_type": "markdown",
      "source": [
        ">[Определение токсичных комментариев](#scrollTo=7al-rwE8rwcZ)\n",
        "\n",
        ">>>[Описание проекта](#scrollTo=T8xa10zKrwca)\n",
        "\n",
        ">>>[Описание данных](#scrollTo=UMevSy5Hsi_N)\n",
        "\n",
        ">>[Шаг 1. Подготовка](#scrollTo=rImTYcmDstMM)\n",
        "\n",
        ">>>[1.1. Импорт библиотек](#scrollTo=c0nEh39RslyM)\n",
        "\n",
        ">>>[1.2. Загрузка и предварительный осмотр данных](#scrollTo=39Eus7ewrwcb)\n",
        "\n",
        ">>>[1.3. Очищение и лемматизация](#scrollTo=eWNM7i5Fs-I8)\n",
        "\n",
        ">>>[1.4. Разделение на выборки](#scrollTo=vkmMmRsUrwcd)\n",
        "\n",
        ">>>[Вывод по шагу 1](#scrollTo=YdNLfZzbrwcd)\n",
        "\n",
        ">>[Шаг 2. Векторизация и обучение](#scrollTo=R7uPNPj7rwce)\n",
        "\n",
        ">>>[2.1. Пайплайн для векторизации и обучения](#scrollTo=fLAAVdXru6DD)\n",
        "\n",
        ">>>[2.2. Выбор лучшей модели](#scrollTo=36SatlupvHl8)\n",
        "\n",
        ">>>[2.3. Проверка на тестовой выборке](#scrollTo=LcMbyckhvXib)\n",
        "\n",
        ">>>[Вывод по шагу 2](#scrollTo=7ViWMuSExL9S)\n",
        "\n",
        ">>[Шаг 3. Анализ ошибок](#scrollTo=7A6YunB8rwci)\n",
        "\n",
        ">>>[Выводы по шагу 3](#scrollTo=LfN1nHssyETo)\n",
        "\n",
        ">>[Итоговые выводы](#scrollTo=r8-iDciSrwci)\n",
        "\n"
      ],
      "metadata": {
        "colab_type": "toc",
        "id": "J_dxWQM1w5Fb"
      }
    },
    {
      "cell_type": "markdown",
      "metadata": {
        "id": "T8xa10zKrwca"
      },
      "source": [
        "### Описание проекта\n",
        "\n",
        "Интернет-магазин «Викишоп» запускает новый сервис. Теперь пользователи могут редактировать и дополнять описания товаров. Магазину нужен инструмент, который будет искать токсичные комментарии и отправлять их на модерацию.\n",
        "\n",
        "Обучим модель классифицировать комментарии на позитивные и негативные. В нашем распоряжении набор данных с разметкой о токсичности.\n",
        "\n",
        "Построим модель со значением метрики качества *F1* не меньше 0.75 на тестовой выборке.\n"
      ]
    },
    {
      "cell_type": "markdown",
      "source": [
        "### Описание данных\n",
        "\n",
        "Данные находятся в файле `toxic_comments.csv`. Столбец *text* содержит текст комментария, а *toxic* — целевой признак.\n",
        "\n"
      ],
      "metadata": {
        "id": "UMevSy5Hsi_N"
      }
    },
    {
      "cell_type": "markdown",
      "source": [
        "## Шаг 1. Подготовка"
      ],
      "metadata": {
        "id": "rImTYcmDstMM"
      }
    },
    {
      "cell_type": "markdown",
      "source": [
        "### 1.1. Импорт библиотек"
      ],
      "metadata": {
        "id": "c0nEh39RslyM"
      }
    },
    {
      "cell_type": "code",
      "execution_count": null,
      "metadata": {
        "id": "InkArG3zrwca",
        "outputId": "ac0bb3aa-db6f-4417-9b7b-101b141bb327"
      },
      "outputs": [
        {
          "name": "stderr",
          "output_type": "stream",
          "text": [
            "[nltk_data] Downloading package wordnet to /home/jovyan/nltk_data...\n",
            "[nltk_data]   Package wordnet is already up-to-date!\n",
            "[nltk_data] Downloading package punkt_tab to /home/jovyan/nltk_data...\n",
            "[nltk_data]   Package punkt_tab is already up-to-date!\n",
            "[nltk_data] Downloading package stopwords to /home/jovyan/nltk_data...\n",
            "[nltk_data]   Package stopwords is already up-to-date!\n",
            "[nltk_data] Downloading package omw-1.4 to /home/jovyan/nltk_data...\n",
            "[nltk_data]   Package omw-1.4 is already up-to-date!\n"
          ]
        }
      ],
      "source": [
        "import pandas as pd\n",
        "import matplotlib.pyplot as plt\n",
        "import re\n",
        "import spacy\n",
        "\n",
        "import nltk\n",
        "from nltk.stem import WordNetLemmatizer\n",
        "from nltk.tokenize import word_tokenize\n",
        "from nltk.corpus import stopwords as nltk_stopwords\n",
        "nltk.download('wordnet')\n",
        "nltk.download('punkt_tab')\n",
        "nltk.download('stopwords')\n",
        "nltk.download('omw-1.4')\n",
        "\n",
        "from sklearn.feature_extraction.text import TfidfVectorizer\n",
        "from sklearn.linear_model import LogisticRegression\n",
        "from sklearn.tree import DecisionTreeClassifier\n",
        "from sklearn.pipeline import Pipeline\n",
        "from sklearn.metrics import (f1_score,\n",
        "                             confusion_matrix,\n",
        "                             ConfusionMatrixDisplay)\n",
        "from sklearn.model_selection import (train_test_split,\n",
        "                                     RandomizedSearchCV)\n",
        "\n",
        "! pip install tqdm -q\n",
        "from tqdm import tqdm\n",
        "tqdm.pandas()\n",
        "\n",
        "! pip install optuna -q\n",
        "! pip install optuna-integration[sklearn] -q\n",
        "from optuna.integration import OptunaSearchCV\n",
        "from optuna.distributions import FloatDistribution\n",
        "\n",
        "import warnings\n",
        "from warnings import simplefilter\n",
        "\n",
        "RANDOM_STATE = 42"
      ]
    },
    {
      "cell_type": "markdown",
      "metadata": {
        "id": "39Eus7ewrwcb"
      },
      "source": [
        "\n",
        "### 1.2. Загрузка и предварительный осмотр данных"
      ]
    },
    {
      "cell_type": "code",
      "execution_count": null,
      "metadata": {
        "id": "WYRje_7Qrwcc",
        "outputId": "75fddebd-94e9-4d08-c2a5-0678553aa9e3"
      },
      "outputs": [
        {
          "data": {
            "text/html": [
              "<div>\n",
              "<style scoped>\n",
              "    .dataframe tbody tr th:only-of-type {\n",
              "        vertical-align: middle;\n",
              "    }\n",
              "\n",
              "    .dataframe tbody tr th {\n",
              "        vertical-align: top;\n",
              "    }\n",
              "\n",
              "    .dataframe thead th {\n",
              "        text-align: right;\n",
              "    }\n",
              "</style>\n",
              "<table border=\"1\" class=\"dataframe\">\n",
              "  <thead>\n",
              "    <tr style=\"text-align: right;\">\n",
              "      <th></th>\n",
              "      <th>text</th>\n",
              "      <th>toxic</th>\n",
              "    </tr>\n",
              "  </thead>\n",
              "  <tbody>\n",
              "    <tr>\n",
              "      <th>0</th>\n",
              "      <td>Explanation\\nWhy the edits made under my usern...</td>\n",
              "      <td>0</td>\n",
              "    </tr>\n",
              "    <tr>\n",
              "      <th>1</th>\n",
              "      <td>D'aww! He matches this background colour I'm s...</td>\n",
              "      <td>0</td>\n",
              "    </tr>\n",
              "    <tr>\n",
              "      <th>2</th>\n",
              "      <td>Hey man, I'm really not trying to edit war. It...</td>\n",
              "      <td>0</td>\n",
              "    </tr>\n",
              "    <tr>\n",
              "      <th>3</th>\n",
              "      <td>\"\\nMore\\nI can't make any real suggestions on ...</td>\n",
              "      <td>0</td>\n",
              "    </tr>\n",
              "    <tr>\n",
              "      <th>4</th>\n",
              "      <td>You, sir, are my hero. Any chance you remember...</td>\n",
              "      <td>0</td>\n",
              "    </tr>\n",
              "  </tbody>\n",
              "</table>\n",
              "</div>"
            ],
            "text/plain": [
              "                                                text  toxic\n",
              "0  Explanation\\nWhy the edits made under my usern...      0\n",
              "1  D'aww! He matches this background colour I'm s...      0\n",
              "2  Hey man, I'm really not trying to edit war. It...      0\n",
              "3  \"\\nMore\\nI can't make any real suggestions on ...      0\n",
              "4  You, sir, are my hero. Any chance you remember...      0"
            ]
          },
          "metadata": {},
          "output_type": "display_data"
        },
        {
          "name": "stdout",
          "output_type": "stream",
          "text": [
            "<class 'pandas.core.frame.DataFrame'>\n",
            "Int64Index: 159292 entries, 0 to 159450\n",
            "Data columns (total 2 columns):\n",
            " #   Column  Non-Null Count   Dtype \n",
            "---  ------  --------------   ----- \n",
            " 0   text    159292 non-null  object\n",
            " 1   toxic   159292 non-null  int64 \n",
            "dtypes: int64(1), object(1)\n",
            "memory usage: 3.6+ MB\n",
            "None\n"
          ]
        }
      ],
      "source": [
        "toxic = pd.read_csv('/datasets/toxic_comments.csv', index_col = 0)\n",
        "\n",
        "display(toxic.head())\n",
        "print(toxic.info())"
      ]
    },
    {
      "cell_type": "code",
      "execution_count": null,
      "metadata": {
        "id": "ahGR1D6orwcc",
        "outputId": "b5cfc0b4-be5d-4490-f20d-feac5274f835"
      },
      "outputs": [
        {
          "name": "stdout",
          "output_type": "stream",
          "text": [
            "0\n"
          ]
        }
      ],
      "source": [
        "print(toxic['text'].duplicated().sum())"
      ]
    },
    {
      "cell_type": "code",
      "execution_count": null,
      "metadata": {
        "id": "AZSD-tp2rwcc",
        "outputId": "2c3ca04a-f66d-46ff-bc45-5235b1c244d5"
      },
      "outputs": [
        {
          "name": "stdout",
          "output_type": "stream",
          "text": [
            "0    143106\n",
            "1     16186\n",
            "Name: toxic, dtype: int64\n"
          ]
        }
      ],
      "source": [
        "print(toxic['toxic'].value_counts())"
      ]
    },
    {
      "cell_type": "markdown",
      "metadata": {
        "id": "xwBOfdy0rwcc"
      },
      "source": [
        "Данные отображаются корректно, не содержат пропусков и дубликатов. Типы данных соответствуют ожиданиям. Тексты на английском языке.\n",
        "\n",
        "В текстах встречаются символы разделения строки, знаки препинания, заглавные буквы. Это требует обработки.\n",
        "\n",
        "Наблюдается сильный дисбаланс классов. Учтем это при разделении на выборки.\n",
        "\n",
        "Необходимо будет произвести лемматизацию и векторизацию текстов на английском языке. Причем разбить данные на тренировочную и тестовую выборки нужно до этого.\n",
        "\n"
      ]
    },
    {
      "cell_type": "markdown",
      "source": [
        "### 1.3. Очищение и лемматизация\n",
        "Создадим функцию `clean_lemmatize` для очистки и лемматизации текстов, применяя регулярные выражения."
      ],
      "metadata": {
        "id": "eWNM7i5Fs-I8"
      }
    },
    {
      "cell_type": "code",
      "execution_count": null,
      "metadata": {
        "id": "APXgacMvrwcc"
      },
      "outputs": [],
      "source": [
        "nlp = spacy.load('en_core_web_sm')\n",
        "def clean_lemmatize(text):\n",
        "    text = text.lower()\n",
        "    text = nlp(' '.join(re.sub(r'[^a-zA-z]', ' ', text).split()))\n",
        "    text = ' '.join([word.lemma_ for word in text])\n",
        "    return text"
      ]
    },
    {
      "cell_type": "code",
      "execution_count": null,
      "metadata": {
        "id": "8V2X52wurwcc",
        "outputId": "8a0d5c90-0aab-4bf9-f1fb-612b6767a925"
      },
      "outputs": [
        {
          "name": "stderr",
          "output_type": "stream",
          "text": [
            "100%|██████████| 159292/159292 [34:56<00:00, 75.99it/s] \n"
          ]
        },
        {
          "data": {
            "text/plain": [
              "0    explanation why the edit make under my usernam...\n",
              "1    d aww he match this background colour I m seem...\n",
              "2    hey man I m really not try to edit war it s ju...\n",
              "3    more I can t make any real suggestion on impro...\n",
              "4    you sir be my hero any chance you remember wha...\n",
              "5    congratulation from I as well use the tool wel...\n",
              "6         cocksucker before you piss around on my work\n",
              "7    your vandalism to the matt shirvington article...\n",
              "8    sorry if the word nonsense be offensive to you...\n",
              "9    alignment on this subject and which be contrar...\n",
              "Name: lemm_spacy_text, dtype: object"
            ]
          },
          "metadata": {},
          "output_type": "display_data"
        }
      ],
      "source": [
        "toxic['lemm_spacy_text'] = toxic['text'].progress_apply(clean_lemmatize)\n",
        "display(toxic['lemm_spacy_text'].head(10))"
      ]
    },
    {
      "cell_type": "markdown",
      "metadata": {
        "id": "yzVxxYhZrwcd"
      },
      "source": [
        "Тексты очищены и лемматизированы.\n",
        "\n",
        "Перед обучением еще необходимо их векторизировать, но для избежания утечки данных, векторизацию тренировочной и тестовой выборок нужно проводить отдельно."
      ]
    },
    {
      "cell_type": "markdown",
      "metadata": {
        "id": "vkmMmRsUrwcd"
      },
      "source": [
        "### 1.4. Разделение на выборки\n",
        "\n",
        "При разделении на выборки применим стратификацию по целевому признаку, чтобы избежать ошибок, вызванных дисбалансом классов."
      ]
    },
    {
      "cell_type": "code",
      "execution_count": null,
      "metadata": {
        "id": "w2yQxkYbrwcd",
        "outputId": "b4641a65-3fe8-4e57-bd50-79da454cfac4"
      },
      "outputs": [
        {
          "name": "stdout",
          "output_type": "stream",
          "text": [
            "Размер тренировочной выборки: 119469\n",
            "Размер тестовой выборки: 39823\n"
          ]
        }
      ],
      "source": [
        "X_train, X_test, y_train, y_test = train_test_split(\n",
        "    toxic['lemm_spacy_text'],\n",
        "    toxic['toxic'],\n",
        "    test_size=0.25,\n",
        "    random_state=RANDOM_STATE,\n",
        "    stratify=toxic['toxic'])\n",
        "\n",
        "print('Размер тренировочной выборки:', X_train.shape[0])\n",
        "print('Размер тестовой выборки:', X_test.shape[0])"
      ]
    },
    {
      "cell_type": "markdown",
      "metadata": {
        "id": "YdNLfZzbrwcd"
      },
      "source": [
        "### Вывод по шагу 1\n",
        "Данные загружены, отображаются корректно, не содержат пропусков и дубликатов. Типы данных соответствуют ожиданиям. Тексты на английском языке.\n",
        "\n",
        "Очистили тексты от лишних символов, привели все к нижнему регистру, лемматизировали.\n",
        "\n",
        "Разделили данные на тренировочную и тестовую выборки с учетом дисбаланса классов."
      ]
    },
    {
      "cell_type": "markdown",
      "metadata": {
        "id": "R7uPNPj7rwce"
      },
      "source": [
        "## Шаг 2. Векторизация и обучение\n",
        "\n"
      ]
    },
    {
      "cell_type": "markdown",
      "source": [
        "### 2.1. Пайплайн для векторизации и обучения\n",
        "Построим пайплайн для векторизации текстов методом `TF-IDF` и обучения модели логистической регрессии и дерева решений."
      ],
      "metadata": {
        "id": "fLAAVdXru6DD"
      }
    },
    {
      "cell_type": "code",
      "execution_count": null,
      "metadata": {
        "id": "FJnEd9Qyrwce"
      },
      "outputs": [],
      "source": [
        "stop_words = nltk_stopwords.words('english')\n",
        "pipe = Pipeline(\n",
        "    [('vec', TfidfVectorizer(stop_words=stop_words)),\n",
        "     ('models', LogisticRegression())]\n",
        ")\n",
        "params = [\n",
        "    {\n",
        "        'models': [LogisticRegression(class_weight='balanced')],\n",
        "        'models__C': [3, 5, 10]\n",
        "    },\n",
        "    {\n",
        "        'models': [DecisionTreeClassifier(random_state=RANDOM_STATE)],\n",
        "        'models__max_depth': range(2, 11),\n",
        "        'models__min_samples_leaf': range(2, 5)\n",
        "    }\n",
        "]"
      ]
    },
    {
      "cell_type": "markdown",
      "source": [
        "### 2.2. Выбор лучшей модели\n",
        "\n",
        "Выберем лучшую модель и ее гиперпараметры при помощи `RandomizedSearchCV`."
      ],
      "metadata": {
        "id": "36SatlupvHl8"
      }
    },
    {
      "cell_type": "code",
      "execution_count": null,
      "metadata": {
        "id": "VZPtUXBwrwce",
        "outputId": "b15824d0-df96-499c-f895-7dc07a248069"
      },
      "outputs": [
        {
          "name": "stdout",
          "output_type": "stream",
          "text": [
            "Лучшая модель и ее параметры:\n",
            " Pipeline(steps=[('vec',\n",
            "                 TfidfVectorizer(stop_words=['i', 'me', 'my', 'myself', 'we',\n",
            "                                             'our', 'ours', 'ourselves', 'you',\n",
            "                                             \"you're\", \"you've\", \"you'll\",\n",
            "                                             \"you'd\", 'your', 'yours',\n",
            "                                             'yourself', 'yourselves', 'he',\n",
            "                                             'him', 'his', 'himself', 'she',\n",
            "                                             \"she's\", 'her', 'hers', 'herself',\n",
            "                                             'it', \"it's\", 'its', 'itself', ...])),\n",
            "                ('models', LogisticRegression(C=3, class_weight='balanced'))])\n",
            "{'models__C': 3, 'models': LogisticRegression(C=3, class_weight='balanced')}\n",
            "\n",
            "Метрика F1 лучшей модели на кросс-валидации: 0.7630928260693313\n"
          ]
        }
      ],
      "source": [
        "search = RandomizedSearchCV(\n",
        "        pipe,\n",
        "        params,\n",
        "        scoring='f1',\n",
        "        n_iter=15,\n",
        "        n_jobs=-1,\n",
        "        random_state=RANDOM_STATE\n",
        "    )\n",
        "with warnings.catch_warnings():\n",
        "    warnings.filterwarnings('ignore')\n",
        "    search.fit(X_train, y_train)\n",
        "best_estimator = search.best_estimator_\n",
        "\n",
        "print('Лучшая модель и ее параметры:\\n', best_estimator)\n",
        "print(search.best_params_)\n",
        "print()\n",
        "print ('Метрика F1 лучшей модели на кросс-валидации:',\n",
        "       search.best_score_)"
      ]
    },
    {
      "cell_type": "markdown",
      "metadata": {
        "id": "4VHj5Ssrrwce"
      },
      "source": [
        "Лучшей оказалась модель логистической регрессии с параметром *С*=3. Ее метрика *F1* на кросс-валидации больше 0.75, что отвечает требованиям. Проверим модель на тестовой выборке.\n"
      ]
    },
    {
      "cell_type": "markdown",
      "source": [
        "### 2.3. Проверка на тестовой выборке"
      ],
      "metadata": {
        "id": "LcMbyckhvXib"
      }
    },
    {
      "cell_type": "code",
      "execution_count": null,
      "metadata": {
        "id": "-ynSPDAJrwch",
        "outputId": "1a4017a9-61e5-4998-e536-30f0cdd7ba18"
      },
      "outputs": [
        {
          "name": "stdout",
          "output_type": "stream",
          "text": [
            "Метрика F1 на тестовой выборке: 0.765556676757484\n"
          ]
        }
      ],
      "source": [
        "predict_test = best_estimator.predict(X_test)\n",
        "print('Метрика F1 на тестовой выборке:', f1_score(y_test, predict_test))"
      ]
    },
    {
      "cell_type": "markdown",
      "metadata": {
        "id": "cVHbKFdTrwci"
      },
      "source": [
        "На тестовой выборке модель также показала удовлетворительный результат. Можно остановиться на модели логистической регрессии с параметром *C*=3."
      ]
    },
    {
      "cell_type": "markdown",
      "source": [
        "### Вывод по шагу 2\n",
        "\n",
        "Векторизировали тексты методом `TF-IDF` и обучили модели в пайплайне.\n",
        "\n",
        "Сравнили логистическую регрессию и дерево решений с перебором гиперпараметров.\n",
        "\n",
        "Выбрали лучшую модель методом `RandomizedSearchCV`. Ею оказалась модель логистической регрессии с параметром *С=3*. Ее метрика *F1* на кросс-валидации больше 0.75, что отвечает требованиям.\n",
        "\n",
        "На тестовой выборке выбранная модель также показала удовлетворительный результат *F1* больше 0.76."
      ],
      "metadata": {
        "id": "7ViWMuSExL9S"
      }
    },
    {
      "cell_type": "markdown",
      "metadata": {
        "id": "7A6YunB8rwci"
      },
      "source": [
        "## Шаг 3. Анализ ошибок\n",
        "Построим матрицу ошибок модели."
      ]
    },
    {
      "cell_type": "code",
      "execution_count": null,
      "metadata": {
        "id": "Wgn-Kn2urwci",
        "outputId": "e6810c4c-3b72-45a3-bde0-6659ca733411"
      },
      "outputs": [
        {
          "data": {
            "image/png": "[encoded data removed]",
            "text/plain": [
              "<Figure size 432x288 with 2 Axes>"
            ]
          },
          "metadata": {
            "needs_background": "light"
          },
          "output_type": "display_data"
        }
      ],
      "source": [
        "cm = confusion_matrix(y_test, predict_test)\n",
        "\n",
        "disp = ConfusionMatrixDisplay(confusion_matrix=cm)\n",
        "disp.plot(cmap='BuPu')\n",
        "plt.title('Матрица ошибок')\n",
        "plt.xlabel('Предсказание')\n",
        "plt.ylabel('Реальность')\n",
        "plt.show()"
      ]
    },
    {
      "cell_type": "markdown",
      "source": [
        "### Выводы по шагу 3\n",
        "\n",
        "Модель чаще допускает ошибки первого рода (ложноположительное предсказание), чем ошибки второго рода (ложноотрицательное предсказание). Однако с учетом сравнительно малого числа объектов класса 1, получаем, что модель хуже их распознает, чем объекты класса 0.\n",
        "Возможно, при необходимости эту проблему можно было бы решить методами сэмплирования."
      ],
      "metadata": {
        "id": "LfN1nHssyETo"
      }
    },
    {
      "cell_type": "markdown",
      "metadata": {
        "id": "r8-iDciSrwci"
      },
      "source": [
        "## Итоговые выводы\n",
        "\n",
        "1. Полученные данные не содержали пропусков и дубликатов. Язык текстов - английский.\n",
        "\n",
        "2. Очистили тексты от лишних символов, привели все к нижнему регистру, лемматизировали. Разделили данные на тренировочную и тестовую выборки с учетом дисбаланса классов.  \n",
        "3. Построили пайплайн для векторизации текстов и обучения моделей. Перебрали гиперпараметры для логистической регрессии и дерева решений, получили на кросс-валидации результаты, превышающие необходимый порог качества.\n",
        "4. Результат на тестовой выборке также удовлетворительный. Остановились на модели логистической регрессии с параметром *C*=3.\n",
        "5. Построили матрицу ошибок модели. Определили, что в абсолютном выражении модель чаще допускает ошибки первого рода, чем второго рода; но хуже распознает объекты класса 1, чем объекты класса 0. Возможно, при необходимости эту проблему можно было бы решить методами сэмплирования."
      ]
    },
    {
      "cell_type": "code",
      "source": [],
      "metadata": {
        "id": "k1W0ECycycoh"
      },
      "execution_count": null,
      "outputs": []
    }
  ],
  "metadata": {
    "ExecuteTimeLog": [
      {
        "duration": 1183,
        "start_time": "2024-12-16T11:24:47.446Z"
      },
      {
        "duration": 2,
        "start_time": "2024-12-16T11:24:52.314Z"
      },
      {
        "duration": 3837,
        "start_time": "2024-12-16T11:24:55.014Z"
      },
      {
        "duration": 107,
        "start_time": "2024-12-16T11:26:40.190Z"
      },
      {
        "duration": 5,
        "start_time": "2024-12-16T11:26:46.538Z"
      },
      {
        "duration": 75,
        "start_time": "2024-12-16T11:30:37.134Z"
      },
      {
        "duration": 2,
        "start_time": "2024-12-16T11:42:00.159Z"
      },
      {
        "duration": 9,
        "start_time": "2024-12-16T11:49:02.533Z"
      },
      {
        "duration": 2,
        "start_time": "2024-12-16T11:49:09.440Z"
      },
      {
        "duration": 76,
        "start_time": "2024-12-16T11:49:12.936Z"
      },
      {
        "duration": 3962,
        "start_time": "2024-12-16T12:02:08.449Z"
      },
      {
        "duration": 7,
        "start_time": "2024-12-16T12:02:38.311Z"
      },
      {
        "duration": 1266,
        "start_time": "2024-12-16T12:03:53.467Z"
      },
      {
        "duration": 3,
        "start_time": "2024-12-16T12:03:54.735Z"
      },
      {
        "duration": 5,
        "start_time": "2024-12-16T12:03:54.739Z"
      },
      {
        "duration": 919,
        "start_time": "2024-12-16T12:03:54.746Z"
      },
      {
        "duration": 80,
        "start_time": "2024-12-16T12:03:55.667Z"
      },
      {
        "duration": 16,
        "start_time": "2024-12-16T12:03:55.749Z"
      },
      {
        "duration": 4106,
        "start_time": "2024-12-16T12:03:55.766Z"
      },
      {
        "duration": 8,
        "start_time": "2024-12-16T12:03:59.873Z"
      },
      {
        "duration": 94,
        "start_time": "2024-12-16T12:03:59.882Z"
      },
      {
        "duration": 124,
        "start_time": "2024-12-16T12:03:59.978Z"
      },
      {
        "duration": 3104,
        "start_time": "2024-12-16T12:18:42.904Z"
      },
      {
        "duration": 52,
        "start_time": "2024-12-16T12:21:49.606Z"
      },
      {
        "duration": 1260,
        "start_time": "2024-12-16T12:22:07.722Z"
      },
      {
        "duration": 3,
        "start_time": "2024-12-16T12:22:08.984Z"
      },
      {
        "duration": 16,
        "start_time": "2024-12-16T12:22:08.988Z"
      },
      {
        "duration": 3967,
        "start_time": "2024-12-16T12:22:09.005Z"
      },
      {
        "duration": 77,
        "start_time": "2024-12-16T12:22:12.974Z"
      },
      {
        "duration": 16,
        "start_time": "2024-12-16T12:22:13.053Z"
      },
      {
        "duration": 4330,
        "start_time": "2024-12-16T12:22:13.070Z"
      },
      {
        "duration": 1389,
        "start_time": "2024-12-17T12:24:21.894Z"
      },
      {
        "duration": 2,
        "start_time": "2024-12-17T12:24:23.285Z"
      },
      {
        "duration": 16,
        "start_time": "2024-12-17T12:24:23.288Z"
      },
      {
        "duration": 1419,
        "start_time": "2024-12-17T12:24:23.305Z"
      },
      {
        "duration": 79,
        "start_time": "2024-12-17T12:24:24.726Z"
      },
      {
        "duration": 29,
        "start_time": "2024-12-17T12:24:24.807Z"
      },
      {
        "duration": 4372,
        "start_time": "2024-12-17T12:24:24.838Z"
      },
      {
        "duration": 1333,
        "start_time": "2024-12-18T08:57:49.196Z"
      },
      {
        "duration": 3,
        "start_time": "2024-12-18T08:57:50.530Z"
      },
      {
        "duration": 9,
        "start_time": "2024-12-18T08:57:50.534Z"
      },
      {
        "duration": 3680,
        "start_time": "2024-12-18T08:57:50.544Z"
      },
      {
        "duration": 71,
        "start_time": "2024-12-18T08:57:54.227Z"
      },
      {
        "duration": 12,
        "start_time": "2024-12-18T08:57:54.311Z"
      },
      {
        "duration": 4544,
        "start_time": "2024-12-18T09:12:12.149Z"
      },
      {
        "duration": 4673,
        "start_time": "2024-12-18T09:12:27.540Z"
      },
      {
        "duration": 5787,
        "start_time": "2024-12-18T09:12:56.204Z"
      },
      {
        "duration": 6,
        "start_time": "2024-12-18T09:13:57.520Z"
      },
      {
        "duration": 367,
        "start_time": "2024-12-18T09:21:13.851Z"
      },
      {
        "duration": 6618,
        "start_time": "2024-12-18T14:22:07.747Z"
      },
      {
        "duration": 6298,
        "start_time": "2024-12-18T14:22:26.663Z"
      },
      {
        "duration": 6229,
        "start_time": "2024-12-18T14:22:47.083Z"
      },
      {
        "duration": 1042,
        "start_time": "2024-12-31T00:42:53.797Z"
      },
      {
        "duration": 3,
        "start_time": "2024-12-31T00:42:54.841Z"
      },
      {
        "duration": 2227,
        "start_time": "2024-12-31T00:42:54.845Z"
      },
      {
        "duration": 2,
        "start_time": "2024-12-31T00:42:57.074Z"
      },
      {
        "duration": 1371,
        "start_time": "2024-12-31T00:42:57.078Z"
      },
      {
        "duration": 76,
        "start_time": "2024-12-31T00:42:58.451Z"
      },
      {
        "duration": 5,
        "start_time": "2024-12-31T00:42:58.537Z"
      },
      {
        "duration": 7100,
        "start_time": "2024-12-31T00:42:58.544Z"
      },
      {
        "duration": 128,
        "start_time": "2024-12-31T00:43:05.645Z"
      },
      {
        "duration": 5,
        "start_time": "2024-12-31T00:43:48.140Z"
      },
      {
        "duration": 5,
        "start_time": "2024-12-31T00:45:26.666Z"
      },
      {
        "duration": 46326,
        "start_time": "2024-12-31T00:46:06.883Z"
      },
      {
        "duration": 46800,
        "start_time": "2024-12-31T00:51:11.756Z"
      },
      {
        "duration": 5,
        "start_time": "2024-12-31T00:52:46.409Z"
      },
      {
        "duration": 7,
        "start_time": "2024-12-31T01:07:22.077Z"
      },
      {
        "duration": 46407,
        "start_time": "2024-12-31T01:08:01.507Z"
      },
      {
        "duration": 69,
        "start_time": "2024-12-31T01:10:19.608Z"
      },
      {
        "duration": 47141,
        "start_time": "2024-12-31T01:12:35.598Z"
      },
      {
        "duration": 9,
        "start_time": "2024-12-31T01:16:58.172Z"
      },
      {
        "duration": 5,
        "start_time": "2024-12-31T01:17:14.789Z"
      },
      {
        "duration": 2776,
        "start_time": "2024-12-31T01:39:49.512Z"
      },
      {
        "duration": 107,
        "start_time": "2024-12-31T01:39:55.281Z"
      },
      {
        "duration": 2436,
        "start_time": "2024-12-31T01:40:39.019Z"
      },
      {
        "duration": 0,
        "start_time": "2024-12-31T01:48:56.956Z"
      },
      {
        "duration": 10180,
        "start_time": "2024-12-31T01:48:59.565Z"
      },
      {
        "duration": 3,
        "start_time": "2024-12-31T01:50:24.141Z"
      },
      {
        "duration": 184,
        "start_time": "2024-12-31T01:50:44.866Z"
      },
      {
        "duration": 20373,
        "start_time": "2024-12-31T01:51:09.464Z"
      },
      {
        "duration": 161166,
        "start_time": "2024-12-31T01:54:24.728Z"
      },
      {
        "duration": 47003,
        "start_time": "2024-12-31T02:00:46.731Z"
      },
      {
        "duration": 47585,
        "start_time": "2024-12-31T02:02:35.003Z"
      },
      {
        "duration": 6707,
        "start_time": "2024-12-31T02:04:59.931Z"
      },
      {
        "duration": 9,
        "start_time": "2024-12-31T02:05:15.261Z"
      },
      {
        "duration": 10,
        "start_time": "2024-12-31T02:05:33.336Z"
      },
      {
        "duration": 4,
        "start_time": "2024-12-31T02:05:49.231Z"
      },
      {
        "duration": 4,
        "start_time": "2024-12-31T02:05:56.642Z"
      },
      {
        "duration": 45733,
        "start_time": "2024-12-31T02:06:27.954Z"
      },
      {
        "duration": 107213,
        "start_time": "2024-12-31T02:09:21.254Z"
      },
      {
        "duration": 83,
        "start_time": "2024-12-31T02:25:37.835Z"
      },
      {
        "duration": 14,
        "start_time": "2024-12-31T02:27:25.776Z"
      },
      {
        "duration": 18067,
        "start_time": "2024-12-31T02:29:43.689Z"
      },
      {
        "duration": 189,
        "start_time": "2024-12-31T02:30:09.981Z"
      },
      {
        "duration": 4928,
        "start_time": "2024-12-31T02:30:13.777Z"
      },
      {
        "duration": 132,
        "start_time": "2024-12-31T02:31:57.850Z"
      },
      {
        "duration": 8448,
        "start_time": "2024-12-31T02:32:14.627Z"
      },
      {
        "duration": 3,
        "start_time": "2024-12-31T02:44:12.798Z"
      },
      {
        "duration": 0,
        "start_time": "2024-12-31T03:00:25.046Z"
      },
      {
        "duration": 4,
        "start_time": "2024-12-31T03:26:50.797Z"
      },
      {
        "duration": 12,
        "start_time": "2024-12-31T03:33:24.503Z"
      },
      {
        "duration": 4,
        "start_time": "2024-12-31T03:34:30.386Z"
      },
      {
        "duration": 29,
        "start_time": "2024-12-31T03:35:12.179Z"
      },
      {
        "duration": 79,
        "start_time": "2024-12-31T03:37:04.522Z"
      },
      {
        "duration": 7204,
        "start_time": "2024-12-31T03:39:17.336Z"
      },
      {
        "duration": 104,
        "start_time": "2024-12-31T03:40:04.766Z"
      },
      {
        "duration": 28,
        "start_time": "2024-12-31T03:47:43.308Z"
      },
      {
        "duration": 3,
        "start_time": "2024-12-31T03:49:32.455Z"
      },
      {
        "duration": 2457,
        "start_time": "2024-12-31T03:50:34.508Z"
      },
      {
        "duration": 6480,
        "start_time": "2024-12-31T03:56:50.309Z"
      },
      {
        "duration": 3228916,
        "start_time": "2024-12-31T03:57:21.125Z"
      },
      {
        "duration": 9,
        "start_time": "2024-12-31T04:57:04.284Z"
      },
      {
        "duration": 12,
        "start_time": "2024-12-31T04:58:06.860Z"
      },
      {
        "duration": 12,
        "start_time": "2024-12-31T04:59:07.604Z"
      },
      {
        "duration": 5,
        "start_time": "2024-12-31T04:59:22.792Z"
      },
      {
        "duration": 20,
        "start_time": "2024-12-31T05:00:27.917Z"
      },
      {
        "duration": 1083,
        "start_time": "2024-12-31T05:41:26.678Z"
      },
      {
        "duration": 3,
        "start_time": "2024-12-31T05:41:27.763Z"
      },
      {
        "duration": 5,
        "start_time": "2024-12-31T05:41:27.767Z"
      },
      {
        "duration": 8099,
        "start_time": "2024-12-31T05:41:27.773Z"
      },
      {
        "duration": 3,
        "start_time": "2024-12-31T05:41:35.874Z"
      },
      {
        "duration": 1102,
        "start_time": "2024-12-31T05:41:35.879Z"
      },
      {
        "duration": 84,
        "start_time": "2024-12-31T05:41:36.983Z"
      },
      {
        "duration": 11,
        "start_time": "2024-12-31T05:41:37.069Z"
      },
      {
        "duration": 7137,
        "start_time": "2024-12-31T05:41:37.082Z"
      },
      {
        "duration": 47005,
        "start_time": "2024-12-31T05:41:44.222Z"
      },
      {
        "duration": 14,
        "start_time": "2024-12-31T05:42:31.228Z"
      },
      {
        "duration": 20355,
        "start_time": "2024-12-31T05:42:31.244Z"
      },
      {
        "duration": 84,
        "start_time": "2024-12-31T05:42:51.601Z"
      },
      {
        "duration": 4923,
        "start_time": "2024-12-31T05:42:51.687Z"
      },
      {
        "duration": 3344054,
        "start_time": "2024-12-31T05:42:56.611Z"
      },
      {
        "duration": 0,
        "start_time": "2024-12-31T06:38:40.666Z"
      },
      {
        "duration": 0,
        "start_time": "2024-12-31T06:38:40.668Z"
      },
      {
        "duration": 5,
        "start_time": "2024-12-31T06:42:24.096Z"
      },
      {
        "duration": 21,
        "start_time": "2024-12-31T06:42:38.532Z"
      },
      {
        "duration": 9775,
        "start_time": "2025-01-04T05:23:16.156Z"
      },
      {
        "duration": 1316,
        "start_time": "2025-01-04T05:23:25.933Z"
      },
      {
        "duration": 78,
        "start_time": "2025-01-04T05:23:27.251Z"
      },
      {
        "duration": 3,
        "start_time": "2025-01-04T05:23:27.331Z"
      },
      {
        "duration": 1882,
        "start_time": "2025-01-04T05:23:27.336Z"
      },
      {
        "duration": 1428,
        "start_time": "2025-01-04T05:23:29.219Z"
      },
      {
        "duration": 95,
        "start_time": "2025-01-04T05:23:30.649Z"
      },
      {
        "duration": 20,
        "start_time": "2025-01-04T05:23:30.745Z"
      },
      {
        "duration": 7003,
        "start_time": "2025-01-04T05:23:30.768Z"
      },
      {
        "duration": 45427,
        "start_time": "2025-01-04T05:23:37.773Z"
      },
      {
        "duration": 18,
        "start_time": "2025-01-04T05:24:23.202Z"
      },
      {
        "duration": 19236,
        "start_time": "2025-01-04T05:24:23.221Z"
      },
      {
        "duration": 77,
        "start_time": "2025-01-04T05:24:42.458Z"
      },
      {
        "duration": 4976,
        "start_time": "2025-01-04T05:24:42.538Z"
      },
      {
        "duration": 123,
        "start_time": "2025-01-04T05:24:47.516Z"
      },
      {
        "duration": 0,
        "start_time": "2025-01-04T05:24:47.641Z"
      },
      {
        "duration": 0,
        "start_time": "2025-01-04T05:24:47.642Z"
      },
      {
        "duration": 0,
        "start_time": "2025-01-04T05:24:47.643Z"
      },
      {
        "duration": 2569578,
        "start_time": "2025-01-04T05:32:10.243Z"
      },
      {
        "duration": 23,
        "start_time": "2025-01-04T06:22:43.712Z"
      },
      {
        "duration": 46,
        "start_time": "2025-01-04T06:23:38.294Z"
      },
      {
        "duration": 110,
        "start_time": "2025-01-04T06:24:10.128Z"
      },
      {
        "duration": 12,
        "start_time": "2025-01-04T06:25:07.047Z"
      },
      {
        "duration": 602,
        "start_time": "2025-01-04T06:26:32.587Z"
      },
      {
        "duration": 180,
        "start_time": "2025-01-04T06:29:43.756Z"
      },
      {
        "duration": 8030,
        "start_time": "2025-01-04T06:44:27.287Z"
      },
      {
        "duration": 14343,
        "start_time": "2025-01-04T17:39:19.494Z"
      },
      {
        "duration": 3724,
        "start_time": "2025-01-04T17:39:38.964Z"
      },
      {
        "duration": 6517,
        "start_time": "2025-01-04T17:40:00.729Z"
      },
      {
        "duration": 46137,
        "start_time": "2025-01-04T17:40:20.699Z"
      },
      {
        "duration": 3495,
        "start_time": "2025-01-04T17:42:51.375Z"
      },
      {
        "duration": 518,
        "start_time": "2025-01-04T17:44:08.496Z"
      },
      {
        "duration": 821,
        "start_time": "2025-01-04T17:48:03.144Z"
      },
      {
        "duration": 26,
        "start_time": "2025-01-04T17:49:19.470Z"
      },
      {
        "duration": 75,
        "start_time": "2025-01-04T17:49:45.027Z"
      },
      {
        "duration": 3,
        "start_time": "2025-01-04T17:54:09.844Z"
      },
      {
        "duration": 740,
        "start_time": "2025-01-04T17:56:28.834Z"
      },
      {
        "duration": 691,
        "start_time": "2025-01-04T17:56:42.134Z"
      },
      {
        "duration": 509,
        "start_time": "2025-01-04T17:57:22.538Z"
      },
      {
        "duration": 496,
        "start_time": "2025-01-04T17:58:24.807Z"
      },
      {
        "duration": 34,
        "start_time": "2025-01-04T18:00:55.570Z"
      },
      {
        "duration": 5,
        "start_time": "2025-01-04T18:01:11.422Z"
      },
      {
        "duration": 4,
        "start_time": "2025-01-04T18:02:34.106Z"
      },
      {
        "duration": 15,
        "start_time": "2025-01-04T18:02:42.602Z"
      },
      {
        "duration": 3,
        "start_time": "2025-01-04T18:10:02.576Z"
      },
      {
        "duration": 25,
        "start_time": "2025-01-04T18:10:31.110Z"
      },
      {
        "duration": 34,
        "start_time": "2025-01-04T18:10:43.181Z"
      },
      {
        "duration": 1011,
        "start_time": "2025-01-04T18:11:12.104Z"
      },
      {
        "duration": 2,
        "start_time": "2025-01-04T18:12:01.719Z"
      },
      {
        "duration": 4,
        "start_time": "2025-01-04T18:12:12.212Z"
      },
      {
        "duration": 53,
        "start_time": "2025-01-04T18:12:15.940Z"
      },
      {
        "duration": 5,
        "start_time": "2025-01-04T18:12:25.213Z"
      },
      {
        "duration": 38,
        "start_time": "2025-01-04T18:12:34.599Z"
      },
      {
        "duration": 11,
        "start_time": "2025-01-04T18:13:48.498Z"
      },
      {
        "duration": 4,
        "start_time": "2025-01-04T18:13:50.852Z"
      },
      {
        "duration": 38,
        "start_time": "2025-01-04T18:13:51.676Z"
      },
      {
        "duration": 4,
        "start_time": "2025-01-04T18:21:50.368Z"
      },
      {
        "duration": 17,
        "start_time": "2025-01-04T18:21:53.904Z"
      },
      {
        "duration": 5,
        "start_time": "2025-01-04T18:23:56.985Z"
      },
      {
        "duration": 2293230,
        "start_time": "2025-01-04T18:24:12.412Z"
      },
      {
        "duration": 67,
        "start_time": "2025-01-04T19:14:18.914Z"
      },
      {
        "duration": 8477,
        "start_time": "2025-01-04T19:14:27.840Z"
      },
      {
        "duration": 10,
        "start_time": "2025-01-04T19:26:14.882Z"
      },
      {
        "duration": 15,
        "start_time": "2025-01-04T19:27:57.929Z"
      },
      {
        "duration": 36,
        "start_time": "2025-01-04T19:31:21.269Z"
      },
      {
        "duration": 33,
        "start_time": "2025-01-04T19:32:20.404Z"
      },
      {
        "duration": 4,
        "start_time": "2025-01-04T19:32:33.900Z"
      },
      {
        "duration": 20,
        "start_time": "2025-01-04T19:35:24.257Z"
      },
      {
        "duration": 3,
        "start_time": "2025-01-04T19:39:55.378Z"
      },
      {
        "duration": 910,
        "start_time": "2025-01-04T19:41:56.020Z"
      },
      {
        "duration": 10,
        "start_time": "2025-01-04T19:44:38.095Z"
      },
      {
        "duration": 932,
        "start_time": "2025-01-04T19:44:41.728Z"
      },
      {
        "duration": 6,
        "start_time": "2025-01-04T19:48:02.523Z"
      },
      {
        "duration": 19,
        "start_time": "2025-01-04T19:53:30.550Z"
      },
      {
        "duration": 7,
        "start_time": "2025-01-04T19:54:15.617Z"
      },
      {
        "duration": 877918,
        "start_time": "2025-01-04T19:54:26.521Z"
      },
      {
        "duration": 23,
        "start_time": "2025-01-04T20:09:39.204Z"
      },
      {
        "duration": 67,
        "start_time": "2025-01-04T20:13:20.434Z"
      },
      {
        "duration": 860146,
        "start_time": "2025-01-04T20:13:28.748Z"
      },
      {
        "duration": 7270,
        "start_time": "2025-01-04T20:41:19.117Z"
      },
      {
        "duration": 25,
        "start_time": "2025-01-04T20:41:55.527Z"
      },
      {
        "duration": 1758,
        "start_time": "2025-01-04T20:44:28.925Z"
      },
      {
        "duration": 200,
        "start_time": "2025-01-04T20:45:14.370Z"
      },
      {
        "duration": 4,
        "start_time": "2025-01-04T21:18:26.526Z"
      },
      {
        "duration": 39,
        "start_time": "2025-01-04T21:19:19.205Z"
      },
      {
        "duration": 70,
        "start_time": "2025-01-04T21:20:23.829Z"
      },
      {
        "duration": 4,
        "start_time": "2025-01-04T21:20:41.636Z"
      },
      {
        "duration": 34,
        "start_time": "2025-01-04T21:20:45.113Z"
      },
      {
        "duration": 4,
        "start_time": "2025-01-04T21:20:55.124Z"
      },
      {
        "duration": 11,
        "start_time": "2025-01-04T21:20:56.273Z"
      },
      {
        "duration": 13809,
        "start_time": "2025-01-04T21:24:17.668Z"
      },
      {
        "duration": 1026,
        "start_time": "2025-01-04T21:24:31.480Z"
      },
      {
        "duration": 92,
        "start_time": "2025-01-04T21:24:32.507Z"
      },
      {
        "duration": 15,
        "start_time": "2025-01-04T21:24:32.610Z"
      },
      {
        "duration": 30,
        "start_time": "2025-01-04T21:24:32.627Z"
      },
      {
        "duration": 669,
        "start_time": "2025-01-04T21:24:32.658Z"
      },
      {
        "duration": 0,
        "start_time": "2025-01-04T21:24:33.329Z"
      },
      {
        "duration": 0,
        "start_time": "2025-01-04T21:24:33.330Z"
      },
      {
        "duration": 0,
        "start_time": "2025-01-04T21:24:33.331Z"
      },
      {
        "duration": 0,
        "start_time": "2025-01-04T21:24:33.332Z"
      },
      {
        "duration": 0,
        "start_time": "2025-01-04T21:24:33.333Z"
      },
      {
        "duration": 530,
        "start_time": "2025-01-04T21:27:27.241Z"
      },
      {
        "duration": 2096341,
        "start_time": "2025-01-04T21:27:30.833Z"
      },
      {
        "duration": 57,
        "start_time": "2025-01-04T22:07:38.433Z"
      },
      {
        "duration": 25,
        "start_time": "2025-01-04T22:07:43.123Z"
      },
      {
        "duration": 6,
        "start_time": "2025-01-04T22:09:47.334Z"
      },
      {
        "duration": 781651,
        "start_time": "2025-01-04T22:10:02.656Z"
      },
      {
        "duration": 1658,
        "start_time": "2025-01-04T22:26:17.924Z"
      },
      {
        "duration": 171,
        "start_time": "2025-01-04T22:26:24.711Z"
      }
    ],
    "kernelspec": {
      "display_name": "Python 3 (ipykernel)",
      "language": "python",
      "name": "python3"
    },
    "language_info": {
      "codemirror_mode": {
        "name": "ipython",
        "version": 3
      },
      "file_extension": ".py",
      "mimetype": "text/x-python",
      "name": "python",
      "nbconvert_exporter": "python",
      "pygments_lexer": "ipython3",
      "version": "3.9.5"
    },
    "toc": {
      "base_numbering": 1,
      "nav_menu": {},
      "number_sections": true,
      "sideBar": true,
      "skip_h1_title": true,
      "title_cell": "Содержание",
      "title_sidebar": "Contents",
      "toc_cell": true,
      "toc_position": {
        "height": "calc(100% - 180px)",
        "left": "10px",
        "top": "150px",
        "width": "302.391px"
      },
      "toc_section_display": true,
      "toc_window_display": true
    },
    "colab": {
      "provenance": [],
      "toc_visible": true
    }
  },
  "nbformat": 4,
  "nbformat_minor": 0
}