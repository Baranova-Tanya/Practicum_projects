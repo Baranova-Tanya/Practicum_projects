{
  "cells": [
    {
      "cell_type": "markdown",
      "metadata": {
        "id": "PjFKhFNJElm0"
      },
      "source": [
        "# Выбор локации для нефтяной скважины\n"
      ]
    },
    {
      "cell_type": "markdown",
      "source": [
        ">[Выбор локации для нефтяной скважины](#scrollTo=PjFKhFNJElm0)\n",
        "\n",
        ">>>[Описание проекта](#scrollTo=MWOvQyM4Elm1)\n",
        "\n",
        ">>>[Описание данных](#scrollTo=MWOvQyM4Elm1)\n",
        "\n",
        ">>[Загрузка и подготовка данных](#scrollTo=p0-aylksElm1)\n",
        "\n",
        ">>>[Импорт библиотек](#scrollTo=p0-aylksElm1)\n",
        "\n",
        ">>>[Загрузка данных и беглый осмотр](#scrollTo=s2gbXPBfElm2)\n",
        "\n",
        ">>>[Исследовательский анализ данных](#scrollTo=9eEw6rQIElm3)\n",
        "\n",
        ">>>[Проверка на мультиколлинеарность и корреляционный анализ](#scrollTo=l6lCHPpzElm3)\n",
        "\n",
        ">>>[Вывод по шагу 1](#scrollTo=vbj8xANGElm3)\n",
        "\n",
        ">>[Обучение и проверка модели](#scrollTo=QKVzyHa9Elm4)\n",
        "\n",
        ">>>[Первый регион](#scrollTo=qp_tzXPUElm4)\n",
        "\n",
        ">>>[Второй регион](#scrollTo=SL4ArkKQElm4)\n",
        "\n",
        ">>>[Третий регион](#scrollTo=g7G9ANGEElm4)\n",
        "\n",
        ">>>[Вывод по шагу 2](#scrollTo=wfziPrTvElm5)\n",
        "\n",
        ">>[Подготовка к расчету прибыли](#scrollTo=Z73T1W3WElm5)\n",
        "\n",
        ">>>[Вывод по шагу 3](#scrollTo=MvK5gtgnElm8)\n",
        "\n",
        ">>[Расчет прибыли и рисков](#scrollTo=MvK5gtgnElm8)\n",
        "\n",
        ">>>[Вывод по шагу 4](#scrollTo=1ZI2NhlVElm9)\n",
        "\n",
        ">>[Общий вывод](#scrollTo=1ZI2NhlVElm9)\n",
        "\n"
      ],
      "metadata": {
        "colab_type": "toc",
        "id": "JDDRBJ3pFI-r"
      }
    },
    {
      "cell_type": "markdown",
      "metadata": {
        "id": "MWOvQyM4Elm1"
      },
      "source": [
        "### Описание проекта\n",
        "\n",
        "Проект выполняется для добывающей компании «ГлавРосГосНефть». Цель – выбор места для бурения новой скважины из трех вариантов.\n",
        "\n",
        "Чтобы локация была выбрана для бурения, оценка суммарной прибыли, которую она принесет компании, должна быть наибольшей. Для оценки прибыли с каждой из трех локаций отдельно обучим модель линейной регрессии (остальные — недостаточно предсказуемые) и получим ее предсказания. Отберем наиболее перспективные, по расчетам модели, скважины и определим прибыль, которую с них получила бы компания в действительности.\n",
        "\n",
        "После этого применим технику *Bootstrap* с 1000 выборок, чтобы найти распределение прибыли. На основании полученной средней прибыли, 95%-й доверительного интервала и риска убытков определим регион для бурения новой скважины.\n",
        "\n",
        "\n",
        "\n"
      ]
    },
    {
      "cell_type": "markdown",
      "source": [
        "### Описание данных\n",
        "Компания предоставила три файла с информацией о пробах нефти в трех регионах соответственно: в каждом 10 000 месторождений, где измерили качество нефти и объем запасов. Эти данные синтетические: детали контрактов и характеристики месторождений не разглашаются.\n",
        "\n",
        "Файлы с данными:\n",
        "* `geo_data_0.csv` (первый регион);\n",
        "* `geo_data_1.csv` (второй регион);\n",
        "* `geo_data_2.csv` (третий регион).\n",
        "\n",
        "Признаки, встречающиеся в предоставленных данных\n",
        "\n",
        "|название столбца|содержащиеся данные|\n",
        "|:-|:-|\n",
        "|`id`|уникальный идентификатор скважины|\n",
        "|`f0`|признак точки|\n",
        "|`f1`|признак точки|\n",
        "|`f2`|признак точки|\n",
        "|`product`|объем запасов в скважине (тыс. баррелей)|"
      ],
      "metadata": {
        "id": "z2x155VWFMch"
      }
    },
    {
      "cell_type": "markdown",
      "metadata": {
        "id": "p0-aylksElm1"
      },
      "source": [
        "## 1. Загрузка и подготовка данных\n"
      ]
    },
    {
      "cell_type": "markdown",
      "source": [
        "### 1.1. Импорт библиотек"
      ],
      "metadata": {
        "id": "rECo2_XvF3OL"
      }
    },
    {
      "cell_type": "code",
      "execution_count": null,
      "metadata": {
        "id": "k6MPSm-2Elm1"
      },
      "outputs": [],
      "source": [
        "import pandas as pd\n",
        "import numpy as np\n",
        "import sklearn\n",
        "import seaborn as sns\n",
        "import matplotlib.pyplot as plt\n",
        "\n",
        "from sklearn.impute import SimpleImputer\n",
        "\n",
        "from sklearn.pipeline import Pipeline\n",
        "\n",
        "from sklearn.compose import ColumnTransformer\n",
        "\n",
        "from sklearn.preprocessing import (\n",
        "    StandardScaler,\n",
        "    MinMaxScaler,\n",
        "    RobustScaler\n",
        ")\n",
        "\n",
        "from sklearn.linear_model import LinearRegression\n",
        "\n",
        "from sklearn.model_selection import (\n",
        "    train_test_split,\n",
        "    GridSearchCV\n",
        ")\n",
        "\n",
        "from sklearn.metrics import mean_squared_error"
      ]
    },
    {
      "cell_type": "code",
      "execution_count": null,
      "metadata": {
        "id": "P47nl53AElm3"
      },
      "outputs": [],
      "source": [
        "def show_num(data, col):\n",
        "    \"\"\"\n",
        "    Принимает:\n",
        "        - наименование переменной, хранящей датафрейм;\n",
        "        - наименование столбца с количественными данными в этом датафрейме.\n",
        "    Возвращает:\n",
        "        - общее описание данных;\n",
        "        - гистограмму с наложенным графиком плотности распределения;\n",
        "        - диаграмму размаха.\n",
        "    \"\"\"\n",
        "    figure, axs = plt.subplots(1, 2, figsize=(15, 8))\n",
        "    figure.suptitle(col.title())\n",
        "\n",
        "    sns.histplot(data[col], bins=50, kde=True, ax=axs[0])\n",
        "    axs[0].set_title('Гистограмма и плотность расределения')\n",
        "\n",
        "    sns.boxplot(data=data[col], ax=axs[1])\n",
        "    axs[1].set_title('Диаграмма размаха')\n",
        "\n",
        "    plt.show()\n",
        "\n",
        "    display(data[col].describe().to_frame())"
      ]
    },
    {
      "cell_type": "code",
      "source": [
        "def calculate_profit(product, product_pred, income, expenses, number_in):\n",
        "    \"\"\"\n",
        "    Принимает:\n",
        "        - объем добытого сырья (в тысячах баррелей);\n",
        "        - доход, получаемый с одного барреля сырья (в рублях);\n",
        "        - общие затраты на разработку скважин в регионе (в рублях);\n",
        "        - количество разрабатываемых скважин;\n",
        "        - количество рассматриваемых скважин.\n",
        "    Возвращает величину прибыли.\n",
        "    \"\"\"\n",
        "    product_pred_sorted = product_pred.sort_values(ascending=False)\n",
        "    selected = product[product_pred_sorted.index][:number_in]\n",
        "    profit = (selected * 1000 * income).sum() - expenses\n",
        "    return profit"
      ],
      "metadata": {
        "id": "F5IdoM2QHcOQ"
      },
      "execution_count": null,
      "outputs": []
    },
    {
      "cell_type": "code",
      "execution_count": null,
      "metadata": {
        "id": "LdJsddgEElm2"
      },
      "outputs": [],
      "source": [
        "sns.set_style('whitegrid')\n",
        "RANDOM_STATE = 42"
      ]
    },
    {
      "cell_type": "markdown",
      "metadata": {
        "id": "s2gbXPBfElm2"
      },
      "source": [
        "### 1.2. Загрузка данных и беглый осмотр"
      ]
    },
    {
      "cell_type": "code",
      "execution_count": null,
      "metadata": {
        "id": "GUS5k4UGElm2",
        "outputId": "6f428ccb-6360-4740-bb1c-6816fa5a5a38"
      },
      "outputs": [
        {
          "name": "stdout",
          "output_type": "stream",
          "text": [
            "Регион 1\n",
            "<class 'pandas.core.frame.DataFrame'>\n",
            "RangeIndex: 100000 entries, 0 to 99999\n",
            "Data columns (total 5 columns):\n",
            " #   Column   Non-Null Count   Dtype  \n",
            "---  ------   --------------   -----  \n",
            " 0   id       100000 non-null  object \n",
            " 1   f0       100000 non-null  float64\n",
            " 2   f1       100000 non-null  float64\n",
            " 3   f2       100000 non-null  float64\n",
            " 4   product  100000 non-null  float64\n",
            "dtypes: float64(4), object(1)\n",
            "memory usage: 3.8+ MB\n",
            "None\n"
          ]
        },
        {
          "data": {
            "text/html": [
              "<div>\n",
              "<style scoped>\n",
              "    .dataframe tbody tr th:only-of-type {\n",
              "        vertical-align: middle;\n",
              "    }\n",
              "\n",
              "    .dataframe tbody tr th {\n",
              "        vertical-align: top;\n",
              "    }\n",
              "\n",
              "    .dataframe thead th {\n",
              "        text-align: right;\n",
              "    }\n",
              "</style>\n",
              "<table border=\"1\" class=\"dataframe\">\n",
              "  <thead>\n",
              "    <tr style=\"text-align: right;\">\n",
              "      <th></th>\n",
              "      <th>id</th>\n",
              "      <th>f0</th>\n",
              "      <th>f1</th>\n",
              "      <th>f2</th>\n",
              "      <th>product</th>\n",
              "    </tr>\n",
              "  </thead>\n",
              "  <tbody>\n",
              "    <tr>\n",
              "      <th>0</th>\n",
              "      <td>txEyH</td>\n",
              "      <td>0.705745</td>\n",
              "      <td>-0.497823</td>\n",
              "      <td>1.221170</td>\n",
              "      <td>105.280062</td>\n",
              "    </tr>\n",
              "    <tr>\n",
              "      <th>1</th>\n",
              "      <td>2acmU</td>\n",
              "      <td>1.334711</td>\n",
              "      <td>-0.340164</td>\n",
              "      <td>4.365080</td>\n",
              "      <td>73.037750</td>\n",
              "    </tr>\n",
              "    <tr>\n",
              "      <th>2</th>\n",
              "      <td>409Wp</td>\n",
              "      <td>1.022732</td>\n",
              "      <td>0.151990</td>\n",
              "      <td>1.419926</td>\n",
              "      <td>85.265647</td>\n",
              "    </tr>\n",
              "    <tr>\n",
              "      <th>3</th>\n",
              "      <td>iJLyR</td>\n",
              "      <td>-0.032172</td>\n",
              "      <td>0.139033</td>\n",
              "      <td>2.978566</td>\n",
              "      <td>168.620776</td>\n",
              "    </tr>\n",
              "    <tr>\n",
              "      <th>4</th>\n",
              "      <td>Xdl7t</td>\n",
              "      <td>1.988431</td>\n",
              "      <td>0.155413</td>\n",
              "      <td>4.751769</td>\n",
              "      <td>154.036647</td>\n",
              "    </tr>\n",
              "  </tbody>\n",
              "</table>\n",
              "</div>"
            ],
            "text/plain": [
              "      id        f0        f1        f2     product\n",
              "0  txEyH  0.705745 -0.497823  1.221170  105.280062\n",
              "1  2acmU  1.334711 -0.340164  4.365080   73.037750\n",
              "2  409Wp  1.022732  0.151990  1.419926   85.265647\n",
              "3  iJLyR -0.032172  0.139033  2.978566  168.620776\n",
              "4  Xdl7t  1.988431  0.155413  4.751769  154.036647"
            ]
          },
          "metadata": {},
          "output_type": "display_data"
        },
        {
          "name": "stdout",
          "output_type": "stream",
          "text": [
            "\n",
            "\n",
            "\n",
            "Регион 2\n",
            "<class 'pandas.core.frame.DataFrame'>\n",
            "RangeIndex: 100000 entries, 0 to 99999\n",
            "Data columns (total 5 columns):\n",
            " #   Column   Non-Null Count   Dtype  \n",
            "---  ------   --------------   -----  \n",
            " 0   id       100000 non-null  object \n",
            " 1   f0       100000 non-null  float64\n",
            " 2   f1       100000 non-null  float64\n",
            " 3   f2       100000 non-null  float64\n",
            " 4   product  100000 non-null  float64\n",
            "dtypes: float64(4), object(1)\n",
            "memory usage: 3.8+ MB\n",
            "None\n"
          ]
        },
        {
          "data": {
            "text/html": [
              "<div>\n",
              "<style scoped>\n",
              "    .dataframe tbody tr th:only-of-type {\n",
              "        vertical-align: middle;\n",
              "    }\n",
              "\n",
              "    .dataframe tbody tr th {\n",
              "        vertical-align: top;\n",
              "    }\n",
              "\n",
              "    .dataframe thead th {\n",
              "        text-align: right;\n",
              "    }\n",
              "</style>\n",
              "<table border=\"1\" class=\"dataframe\">\n",
              "  <thead>\n",
              "    <tr style=\"text-align: right;\">\n",
              "      <th></th>\n",
              "      <th>id</th>\n",
              "      <th>f0</th>\n",
              "      <th>f1</th>\n",
              "      <th>f2</th>\n",
              "      <th>product</th>\n",
              "    </tr>\n",
              "  </thead>\n",
              "  <tbody>\n",
              "    <tr>\n",
              "      <th>0</th>\n",
              "      <td>kBEdx</td>\n",
              "      <td>-15.001348</td>\n",
              "      <td>-8.276000</td>\n",
              "      <td>-0.005876</td>\n",
              "      <td>3.179103</td>\n",
              "    </tr>\n",
              "    <tr>\n",
              "      <th>1</th>\n",
              "      <td>62mP7</td>\n",
              "      <td>14.272088</td>\n",
              "      <td>-3.475083</td>\n",
              "      <td>0.999183</td>\n",
              "      <td>26.953261</td>\n",
              "    </tr>\n",
              "    <tr>\n",
              "      <th>2</th>\n",
              "      <td>vyE1P</td>\n",
              "      <td>6.263187</td>\n",
              "      <td>-5.948386</td>\n",
              "      <td>5.001160</td>\n",
              "      <td>134.766305</td>\n",
              "    </tr>\n",
              "    <tr>\n",
              "      <th>3</th>\n",
              "      <td>KcrkZ</td>\n",
              "      <td>-13.081196</td>\n",
              "      <td>-11.506057</td>\n",
              "      <td>4.999415</td>\n",
              "      <td>137.945408</td>\n",
              "    </tr>\n",
              "    <tr>\n",
              "      <th>4</th>\n",
              "      <td>AHL4O</td>\n",
              "      <td>12.702195</td>\n",
              "      <td>-8.147433</td>\n",
              "      <td>5.004363</td>\n",
              "      <td>134.766305</td>\n",
              "    </tr>\n",
              "  </tbody>\n",
              "</table>\n",
              "</div>"
            ],
            "text/plain": [
              "      id         f0         f1        f2     product\n",
              "0  kBEdx -15.001348  -8.276000 -0.005876    3.179103\n",
              "1  62mP7  14.272088  -3.475083  0.999183   26.953261\n",
              "2  vyE1P   6.263187  -5.948386  5.001160  134.766305\n",
              "3  KcrkZ -13.081196 -11.506057  4.999415  137.945408\n",
              "4  AHL4O  12.702195  -8.147433  5.004363  134.766305"
            ]
          },
          "metadata": {},
          "output_type": "display_data"
        },
        {
          "name": "stdout",
          "output_type": "stream",
          "text": [
            "\n",
            "\n",
            "\n",
            "Регион 3\n",
            "<class 'pandas.core.frame.DataFrame'>\n",
            "RangeIndex: 100000 entries, 0 to 99999\n",
            "Data columns (total 5 columns):\n",
            " #   Column   Non-Null Count   Dtype  \n",
            "---  ------   --------------   -----  \n",
            " 0   id       100000 non-null  object \n",
            " 1   f0       100000 non-null  float64\n",
            " 2   f1       100000 non-null  float64\n",
            " 3   f2       100000 non-null  float64\n",
            " 4   product  100000 non-null  float64\n",
            "dtypes: float64(4), object(1)\n",
            "memory usage: 3.8+ MB\n",
            "None\n"
          ]
        },
        {
          "data": {
            "text/html": [
              "<div>\n",
              "<style scoped>\n",
              "    .dataframe tbody tr th:only-of-type {\n",
              "        vertical-align: middle;\n",
              "    }\n",
              "\n",
              "    .dataframe tbody tr th {\n",
              "        vertical-align: top;\n",
              "    }\n",
              "\n",
              "    .dataframe thead th {\n",
              "        text-align: right;\n",
              "    }\n",
              "</style>\n",
              "<table border=\"1\" class=\"dataframe\">\n",
              "  <thead>\n",
              "    <tr style=\"text-align: right;\">\n",
              "      <th></th>\n",
              "      <th>id</th>\n",
              "      <th>f0</th>\n",
              "      <th>f1</th>\n",
              "      <th>f2</th>\n",
              "      <th>product</th>\n",
              "    </tr>\n",
              "  </thead>\n",
              "  <tbody>\n",
              "    <tr>\n",
              "      <th>0</th>\n",
              "      <td>fwXo0</td>\n",
              "      <td>-1.146987</td>\n",
              "      <td>0.963328</td>\n",
              "      <td>-0.828965</td>\n",
              "      <td>27.758673</td>\n",
              "    </tr>\n",
              "    <tr>\n",
              "      <th>1</th>\n",
              "      <td>WJtFt</td>\n",
              "      <td>0.262778</td>\n",
              "      <td>0.269839</td>\n",
              "      <td>-2.530187</td>\n",
              "      <td>56.069697</td>\n",
              "    </tr>\n",
              "    <tr>\n",
              "      <th>2</th>\n",
              "      <td>ovLUW</td>\n",
              "      <td>0.194587</td>\n",
              "      <td>0.289035</td>\n",
              "      <td>-5.586433</td>\n",
              "      <td>62.871910</td>\n",
              "    </tr>\n",
              "    <tr>\n",
              "      <th>3</th>\n",
              "      <td>q6cA6</td>\n",
              "      <td>2.236060</td>\n",
              "      <td>-0.553760</td>\n",
              "      <td>0.930038</td>\n",
              "      <td>114.572842</td>\n",
              "    </tr>\n",
              "    <tr>\n",
              "      <th>4</th>\n",
              "      <td>WPMUX</td>\n",
              "      <td>-0.515993</td>\n",
              "      <td>1.716266</td>\n",
              "      <td>5.899011</td>\n",
              "      <td>149.600746</td>\n",
              "    </tr>\n",
              "  </tbody>\n",
              "</table>\n",
              "</div>"
            ],
            "text/plain": [
              "      id        f0        f1        f2     product\n",
              "0  fwXo0 -1.146987  0.963328 -0.828965   27.758673\n",
              "1  WJtFt  0.262778  0.269839 -2.530187   56.069697\n",
              "2  ovLUW  0.194587  0.289035 -5.586433   62.871910\n",
              "3  q6cA6  2.236060 -0.553760  0.930038  114.572842\n",
              "4  WPMUX -0.515993  1.716266  5.899011  149.600746"
            ]
          },
          "metadata": {},
          "output_type": "display_data"
        },
        {
          "name": "stdout",
          "output_type": "stream",
          "text": [
            "\n",
            "\n",
            "\n"
          ]
        }
      ],
      "source": [
        "try:\n",
        "    data_1 = pd.read_csv('/content/drive/MyDrive/datasets/geo_data_0.csv')\n",
        "    data_2 = pd.read_csv('/content/drive/MyDrive/datasets/geo_data_1.csv')\n",
        "    data_3 = pd.read_csv('/content/drive/MyDrive/datasets/geo_data_2.csv')\n",
        "except:\n",
        "    data_1 = pd.read_csv('/datasets/geo_data_0.csv')\n",
        "    data_2 = pd.read_csv('/datasets/geo_data_1.csv')\n",
        "    data_3 = pd.read_csv('/datasets/geo_data_2.csv')\n",
        "\n",
        "dataframes = [data_1, data_2, data_3]\n",
        "\n",
        "a = 0\n",
        "for dataframe in dataframes:\n",
        "    a += 1\n",
        "    print(f'Регион {a}')\n",
        "    print(dataframe.info())\n",
        "    display(dataframe.head())\n",
        "    print()\n",
        "    print()\n",
        "    print()"
      ]
    },
    {
      "cell_type": "markdown",
      "metadata": {
        "id": "EdAUA3H2Elm3"
      },
      "source": [
        "Во всех трех таблицах данные соответствуют описанию, наименовая столбцов идентичны, типы данных адекватны, пропусков нет.\n",
        "\n",
        "Проверим наличие дубликатов в каждой таблице, а также повторяющихся `id` в разных таблицах."
      ]
    },
    {
      "cell_type": "code",
      "execution_count": null,
      "metadata": {
        "id": "gdpqNdomElm3",
        "outputId": "de8b4058-a170-4e1b-f633-9a30ec241678"
      },
      "outputs": [
        {
          "name": "stdout",
          "output_type": "stream",
          "text": [
            "Дубликаты:\n",
            "10\n",
            "4\n",
            "4\n",
            "         id        f0        f1         f2     product\n",
            "931   HZww2  0.755284  0.368511   1.863211   30.681774\n",
            "7530  HZww2  1.061194 -0.373969  10.430210  158.828695\n",
            "          id        f0        f1        f2    product\n",
            "1364   bxg6G  0.411645  0.856830 -3.653440  73.604260\n",
            "41724  bxg6G -0.823752  0.546319  3.630479  93.007798\n",
            "          id        f0        f1        f2    product\n",
            "3389   A5aEY -0.039949  0.156872  0.209861  89.249364\n",
            "51970  A5aEY -0.180335  0.935548 -2.094773  33.020205\n",
            "          id        f0        f1        f2    product\n",
            "1949   QcMuo  0.506563 -0.323775 -2.215583  75.496502\n",
            "63593  QcMuo  0.635635 -0.473422  0.862670  64.578675\n",
            "          id        f0        f1        f2     product\n",
            "64022  74z30  0.741456  0.459229  5.153109  140.771492\n",
            "66136  74z30  1.084962 -0.312358  6.990771  127.643327\n",
            "          id        f0        f1        f2     product\n",
            "42529  AGS9W  1.454747 -0.479651  0.683380  126.370504\n",
            "69163  AGS9W -0.933795  0.116194 -3.655896   19.230453\n",
            "          id        f0        f1        f2    product\n",
            "21426  Tdehs  0.829407  0.298807 -0.049563  96.035308\n",
            "75715  Tdehs  0.112079  0.430296  3.218993  60.964018\n",
            "          id        f0        f1        f2     product\n",
            "16633  fiKDv  0.157341  1.028359  5.585586   95.817889\n",
            "90815  fiKDv  0.049883  0.841313  6.394613  137.346586\n",
            "          id        f0        f1        f2     product\n",
            "60140  TtcGQ  0.569276 -0.104876  6.440215   85.350186\n",
            "92341  TtcGQ  0.110711  1.022689  0.911381  101.318008\n",
            "          id        f0        f1         f2     product\n",
            "89582  bsk9y  0.398908 -0.400253  10.122376  163.433078\n",
            "97785  bsk9y  0.378429  0.005837   0.160827  160.637302\n",
            "\n",
            "\n",
            "          id         f0        f1        f2    product\n",
            "1305   LHZR0  11.170835 -1.945066  3.002872  80.859783\n",
            "41906  LHZR0  -8.989672 -4.286607  2.009139  57.085625\n",
            "          id        f0        f1        f2     product\n",
            "2721   bfPNe -9.494442 -5.463692  4.006042  110.992147\n",
            "82178  bfPNe -6.202799 -4.820045  2.995107   84.038886\n",
            "          id         f0        f1        f2     product\n",
            "47591  wt4Uk  -9.091098 -8.109279 -0.002314    3.179103\n",
            "82873  wt4Uk  10.259972 -9.376355  4.994297  134.766305\n",
            "          id         f0         f1        f2     product\n",
            "5849   5ltQ6  -3.435401 -12.296043  1.999796   57.085625\n",
            "84461  5ltQ6  18.213839   2.191999  3.993869  107.813044\n",
            "\n",
            "\n",
            "          id        f0        f1        f2     product\n",
            "28039  xCHr8  1.633027  0.368135 -2.378367    6.120525\n",
            "43233  xCHr8 -0.847066  2.101796  5.597130  184.388641\n",
            "          id        f0        f1        f2     product\n",
            "11449  VF7Jo  2.122656 -0.858275  5.746001  181.716817\n",
            "49564  VF7Jo -0.883115  0.560537  0.723601  136.233420\n",
            "          id        f0        f1        f2     product\n",
            "45404  KUPhW  0.231846 -1.698941  4.990775   11.716299\n",
            "55967  KUPhW  1.211150  3.176408  5.543540  132.831802\n",
            "          id        f0        f1        f2     product\n",
            "44378  Vcm5J -1.229484 -2.439204  1.222909  137.968290\n",
            "95090  Vcm5J  2.587702  1.986875  2.482245   92.327572\n",
            "\n",
            "\n",
            "Повторы в разных таблицах:\n"
          ]
        },
        {
          "data": {
            "text/html": [
              "<div>\n",
              "<style scoped>\n",
              "    .dataframe tbody tr th:only-of-type {\n",
              "        vertical-align: middle;\n",
              "    }\n",
              "\n",
              "    .dataframe tbody tr th {\n",
              "        vertical-align: top;\n",
              "    }\n",
              "\n",
              "    .dataframe thead th {\n",
              "        text-align: right;\n",
              "    }\n",
              "</style>\n",
              "<table border=\"1\" class=\"dataframe\">\n",
              "  <thead>\n",
              "    <tr style=\"text-align: right;\">\n",
              "      <th></th>\n",
              "      <th>id</th>\n",
              "      <th>f0_x</th>\n",
              "      <th>f1_x</th>\n",
              "      <th>f2_x</th>\n",
              "      <th>product_x</th>\n",
              "      <th>f0_y</th>\n",
              "      <th>f1_y</th>\n",
              "      <th>f2_y</th>\n",
              "      <th>product_y</th>\n",
              "    </tr>\n",
              "  </thead>\n",
              "  <tbody>\n",
              "    <tr>\n",
              "      <th>0</th>\n",
              "      <td>Q64YW</td>\n",
              "      <td>0.453692</td>\n",
              "      <td>0.851595</td>\n",
              "      <td>1.483317</td>\n",
              "      <td>137.265232</td>\n",
              "      <td>3.005548</td>\n",
              "      <td>-0.243063</td>\n",
              "      <td>5.000265</td>\n",
              "      <td>134.766305</td>\n",
              "    </tr>\n",
              "    <tr>\n",
              "      <th>1</th>\n",
              "      <td>CXJ2r</td>\n",
              "      <td>1.799663</td>\n",
              "      <td>0.152615</td>\n",
              "      <td>2.308270</td>\n",
              "      <td>124.783815</td>\n",
              "      <td>4.595329</td>\n",
              "      <td>-1.967882</td>\n",
              "      <td>4.000767</td>\n",
              "      <td>107.813044</td>\n",
              "    </tr>\n",
              "    <tr>\n",
              "      <th>2</th>\n",
              "      <td>Y2udP</td>\n",
              "      <td>1.226808</td>\n",
              "      <td>-0.482702</td>\n",
              "      <td>7.197720</td>\n",
              "      <td>178.864963</td>\n",
              "      <td>12.544203</td>\n",
              "      <td>5.897907</td>\n",
              "      <td>1.007743</td>\n",
              "      <td>26.953261</td>\n",
              "    </tr>\n",
              "    <tr>\n",
              "      <th>3</th>\n",
              "      <td>g3RRG</td>\n",
              "      <td>1.256835</td>\n",
              "      <td>-0.594468</td>\n",
              "      <td>2.258115</td>\n",
              "      <td>36.909351</td>\n",
              "      <td>5.884971</td>\n",
              "      <td>-3.853958</td>\n",
              "      <td>5.000735</td>\n",
              "      <td>134.766305</td>\n",
              "    </tr>\n",
              "    <tr>\n",
              "      <th>4</th>\n",
              "      <td>mpZhE</td>\n",
              "      <td>1.050752</td>\n",
              "      <td>0.001206</td>\n",
              "      <td>3.015799</td>\n",
              "      <td>102.323401</td>\n",
              "      <td>11.206881</td>\n",
              "      <td>-2.291883</td>\n",
              "      <td>1.003807</td>\n",
              "      <td>26.953261</td>\n",
              "    </tr>\n",
              "    <tr>\n",
              "      <th>5</th>\n",
              "      <td>L1Fdm</td>\n",
              "      <td>-0.870625</td>\n",
              "      <td>0.216046</td>\n",
              "      <td>6.551127</td>\n",
              "      <td>99.473405</td>\n",
              "      <td>-3.346138</td>\n",
              "      <td>1.878476</td>\n",
              "      <td>0.004355</td>\n",
              "      <td>3.179103</td>\n",
              "    </tr>\n",
              "    <tr>\n",
              "      <th>6</th>\n",
              "      <td>it2OW</td>\n",
              "      <td>-0.649660</td>\n",
              "      <td>0.966137</td>\n",
              "      <td>7.852383</td>\n",
              "      <td>152.939409</td>\n",
              "      <td>-7.472182</td>\n",
              "      <td>-14.802085</td>\n",
              "      <td>4.005783</td>\n",
              "      <td>110.992147</td>\n",
              "    </tr>\n",
              "    <tr>\n",
              "      <th>7</th>\n",
              "      <td>gnA83</td>\n",
              "      <td>0.874183</td>\n",
              "      <td>0.658348</td>\n",
              "      <td>4.315275</td>\n",
              "      <td>78.952516</td>\n",
              "      <td>13.842436</td>\n",
              "      <td>-12.362831</td>\n",
              "      <td>4.003258</td>\n",
              "      <td>107.813044</td>\n",
              "    </tr>\n",
              "    <tr>\n",
              "      <th>8</th>\n",
              "      <td>Mp3uM</td>\n",
              "      <td>0.233182</td>\n",
              "      <td>0.999516</td>\n",
              "      <td>1.626957</td>\n",
              "      <td>109.425501</td>\n",
              "      <td>6.109864</td>\n",
              "      <td>-6.680806</td>\n",
              "      <td>4.995256</td>\n",
              "      <td>134.766305</td>\n",
              "    </tr>\n",
              "    <tr>\n",
              "      <th>9</th>\n",
              "      <td>pGQRI</td>\n",
              "      <td>0.042350</td>\n",
              "      <td>-0.052613</td>\n",
              "      <td>2.241901</td>\n",
              "      <td>168.331029</td>\n",
              "      <td>-5.171681</td>\n",
              "      <td>-0.546409</td>\n",
              "      <td>3.002864</td>\n",
              "      <td>84.038886</td>\n",
              "    </tr>\n",
              "  </tbody>\n",
              "</table>\n",
              "</div>"
            ],
            "text/plain": [
              "      id      f0_x      f1_x      f2_x   product_x       f0_y       f1_y  \\\n",
              "0  Q64YW  0.453692  0.851595  1.483317  137.265232   3.005548  -0.243063   \n",
              "1  CXJ2r  1.799663  0.152615  2.308270  124.783815   4.595329  -1.967882   \n",
              "2  Y2udP  1.226808 -0.482702  7.197720  178.864963  12.544203   5.897907   \n",
              "3  g3RRG  1.256835 -0.594468  2.258115   36.909351   5.884971  -3.853958   \n",
              "4  mpZhE  1.050752  0.001206  3.015799  102.323401  11.206881  -2.291883   \n",
              "5  L1Fdm -0.870625  0.216046  6.551127   99.473405  -3.346138   1.878476   \n",
              "6  it2OW -0.649660  0.966137  7.852383  152.939409  -7.472182 -14.802085   \n",
              "7  gnA83  0.874183  0.658348  4.315275   78.952516  13.842436 -12.362831   \n",
              "8  Mp3uM  0.233182  0.999516  1.626957  109.425501   6.109864  -6.680806   \n",
              "9  pGQRI  0.042350 -0.052613  2.241901  168.331029  -5.171681  -0.546409   \n",
              "\n",
              "       f2_y   product_y  \n",
              "0  5.000265  134.766305  \n",
              "1  4.000767  107.813044  \n",
              "2  1.007743   26.953261  \n",
              "3  5.000735  134.766305  \n",
              "4  1.003807   26.953261  \n",
              "5  0.004355    3.179103  \n",
              "6  4.005783  110.992147  \n",
              "7  4.003258  107.813044  \n",
              "8  4.995256  134.766305  \n",
              "9  3.002864   84.038886  "
            ]
          },
          "metadata": {},
          "output_type": "display_data"
        },
        {
          "data": {
            "text/html": [
              "<div>\n",
              "<style scoped>\n",
              "    .dataframe tbody tr th:only-of-type {\n",
              "        vertical-align: middle;\n",
              "    }\n",
              "\n",
              "    .dataframe tbody tr th {\n",
              "        vertical-align: top;\n",
              "    }\n",
              "\n",
              "    .dataframe thead th {\n",
              "        text-align: right;\n",
              "    }\n",
              "</style>\n",
              "<table border=\"1\" class=\"dataframe\">\n",
              "  <thead>\n",
              "    <tr style=\"text-align: right;\">\n",
              "      <th></th>\n",
              "      <th>id</th>\n",
              "      <th>f0_x</th>\n",
              "      <th>f1_x</th>\n",
              "      <th>f2_x</th>\n",
              "      <th>product_x</th>\n",
              "      <th>f0_y</th>\n",
              "      <th>f1_y</th>\n",
              "      <th>f2_y</th>\n",
              "      <th>product_y</th>\n",
              "    </tr>\n",
              "  </thead>\n",
              "  <tbody>\n",
              "    <tr>\n",
              "      <th>0</th>\n",
              "      <td>TAqwC</td>\n",
              "      <td>-13.045712</td>\n",
              "      <td>-13.056006</td>\n",
              "      <td>0.007640</td>\n",
              "      <td>3.179103</td>\n",
              "      <td>-0.176382</td>\n",
              "      <td>-0.503558</td>\n",
              "      <td>1.877303</td>\n",
              "      <td>38.618695</td>\n",
              "    </tr>\n",
              "    <tr>\n",
              "      <th>1</th>\n",
              "      <td>uMqiK</td>\n",
              "      <td>2.734183</td>\n",
              "      <td>-3.102346</td>\n",
              "      <td>-0.002654</td>\n",
              "      <td>0.000000</td>\n",
              "      <td>-1.772509</td>\n",
              "      <td>0.152085</td>\n",
              "      <td>-0.422541</td>\n",
              "      <td>119.682928</td>\n",
              "    </tr>\n",
              "    <tr>\n",
              "      <th>2</th>\n",
              "      <td>D8TNs</td>\n",
              "      <td>-0.646266</td>\n",
              "      <td>3.667055</td>\n",
              "      <td>1.006161</td>\n",
              "      <td>30.132364</td>\n",
              "      <td>0.280382</td>\n",
              "      <td>0.061393</td>\n",
              "      <td>4.887870</td>\n",
              "      <td>114.943876</td>\n",
              "    </tr>\n",
              "    <tr>\n",
              "      <th>3</th>\n",
              "      <td>g2I86</td>\n",
              "      <td>17.818406</td>\n",
              "      <td>2.946716</td>\n",
              "      <td>0.991640</td>\n",
              "      <td>26.953261</td>\n",
              "      <td>-1.616730</td>\n",
              "      <td>1.110380</td>\n",
              "      <td>4.226968</td>\n",
              "      <td>107.940639</td>\n",
              "    </tr>\n",
              "  </tbody>\n",
              "</table>\n",
              "</div>"
            ],
            "text/plain": [
              "      id       f0_x       f1_x      f2_x  product_x      f0_y      f1_y  \\\n",
              "0  TAqwC -13.045712 -13.056006  0.007640   3.179103 -0.176382 -0.503558   \n",
              "1  uMqiK   2.734183  -3.102346 -0.002654   0.000000 -1.772509  0.152085   \n",
              "2  D8TNs  -0.646266   3.667055  1.006161  30.132364  0.280382  0.061393   \n",
              "3  g2I86  17.818406   2.946716  0.991640  26.953261 -1.616730  1.110380   \n",
              "\n",
              "       f2_y   product_y  \n",
              "0  1.877303   38.618695  \n",
              "1 -0.422541  119.682928  \n",
              "2  4.887870  114.943876  \n",
              "3  4.226968  107.940639  "
            ]
          },
          "metadata": {},
          "output_type": "display_data"
        },
        {
          "data": {
            "text/html": [
              "<div>\n",
              "<style scoped>\n",
              "    .dataframe tbody tr th:only-of-type {\n",
              "        vertical-align: middle;\n",
              "    }\n",
              "\n",
              "    .dataframe tbody tr th {\n",
              "        vertical-align: top;\n",
              "    }\n",
              "\n",
              "    .dataframe thead th {\n",
              "        text-align: right;\n",
              "    }\n",
              "</style>\n",
              "<table border=\"1\" class=\"dataframe\">\n",
              "  <thead>\n",
              "    <tr style=\"text-align: right;\">\n",
              "      <th></th>\n",
              "      <th>id</th>\n",
              "      <th>f0_x</th>\n",
              "      <th>f1_x</th>\n",
              "      <th>f2_x</th>\n",
              "      <th>product_x</th>\n",
              "      <th>f0_y</th>\n",
              "      <th>f1_y</th>\n",
              "      <th>f2_y</th>\n",
              "      <th>product_y</th>\n",
              "    </tr>\n",
              "  </thead>\n",
              "  <tbody>\n",
              "    <tr>\n",
              "      <th>0</th>\n",
              "      <td>wqgPo</td>\n",
              "      <td>2.009877</td>\n",
              "      <td>-0.119927</td>\n",
              "      <td>5.254332</td>\n",
              "      <td>72.798085</td>\n",
              "      <td>0.052461</td>\n",
              "      <td>1.424025</td>\n",
              "      <td>0.085541</td>\n",
              "      <td>10.686576</td>\n",
              "    </tr>\n",
              "    <tr>\n",
              "      <th>1</th>\n",
              "      <td>kpKGs</td>\n",
              "      <td>1.984545</td>\n",
              "      <td>0.356201</td>\n",
              "      <td>-0.876743</td>\n",
              "      <td>53.006141</td>\n",
              "      <td>0.391595</td>\n",
              "      <td>0.520890</td>\n",
              "      <td>0.935081</td>\n",
              "      <td>91.558464</td>\n",
              "    </tr>\n",
              "    <tr>\n",
              "      <th>2</th>\n",
              "      <td>scFN4</td>\n",
              "      <td>1.209207</td>\n",
              "      <td>-0.491543</td>\n",
              "      <td>0.871066</td>\n",
              "      <td>82.239907</td>\n",
              "      <td>2.198203</td>\n",
              "      <td>0.733283</td>\n",
              "      <td>10.562272</td>\n",
              "      <td>153.719681</td>\n",
              "    </tr>\n",
              "    <tr>\n",
              "      <th>3</th>\n",
              "      <td>i2csb</td>\n",
              "      <td>1.876060</td>\n",
              "      <td>0.130102</td>\n",
              "      <td>3.916158</td>\n",
              "      <td>178.191619</td>\n",
              "      <td>0.395736</td>\n",
              "      <td>-1.039466</td>\n",
              "      <td>3.262824</td>\n",
              "      <td>136.079194</td>\n",
              "    </tr>\n",
              "    <tr>\n",
              "      <th>4</th>\n",
              "      <td>Suyut</td>\n",
              "      <td>1.034755</td>\n",
              "      <td>0.211378</td>\n",
              "      <td>5.166985</td>\n",
              "      <td>134.183249</td>\n",
              "      <td>0.730034</td>\n",
              "      <td>0.998910</td>\n",
              "      <td>0.673342</td>\n",
              "      <td>51.978338</td>\n",
              "    </tr>\n",
              "    <tr>\n",
              "      <th>5</th>\n",
              "      <td>uSye4</td>\n",
              "      <td>1.452571</td>\n",
              "      <td>-0.452693</td>\n",
              "      <td>-1.800189</td>\n",
              "      <td>79.717634</td>\n",
              "      <td>-0.066172</td>\n",
              "      <td>2.543996</td>\n",
              "      <td>-0.054049</td>\n",
              "      <td>141.345070</td>\n",
              "    </tr>\n",
              "    <tr>\n",
              "      <th>6</th>\n",
              "      <td>5ssQt</td>\n",
              "      <td>-1.005117</td>\n",
              "      <td>0.268726</td>\n",
              "      <td>-0.407822</td>\n",
              "      <td>53.206029</td>\n",
              "      <td>-0.651825</td>\n",
              "      <td>0.782415</td>\n",
              "      <td>2.690636</td>\n",
              "      <td>120.108761</td>\n",
              "    </tr>\n",
              "    <tr>\n",
              "      <th>7</th>\n",
              "      <td>tgOl6</td>\n",
              "      <td>1.242237</td>\n",
              "      <td>-0.545994</td>\n",
              "      <td>-1.070228</td>\n",
              "      <td>52.566338</td>\n",
              "      <td>-6.077439</td>\n",
              "      <td>-1.366449</td>\n",
              "      <td>1.858951</td>\n",
              "      <td>153.001240</td>\n",
              "    </tr>\n",
              "    <tr>\n",
              "      <th>8</th>\n",
              "      <td>2tyMi</td>\n",
              "      <td>0.576679</td>\n",
              "      <td>-0.411140</td>\n",
              "      <td>-3.725859</td>\n",
              "      <td>69.292672</td>\n",
              "      <td>-1.789602</td>\n",
              "      <td>-1.359044</td>\n",
              "      <td>-4.840745</td>\n",
              "      <td>145.901447</td>\n",
              "    </tr>\n",
              "    <tr>\n",
              "      <th>9</th>\n",
              "      <td>TXPOv</td>\n",
              "      <td>-0.614415</td>\n",
              "      <td>0.669327</td>\n",
              "      <td>4.392560</td>\n",
              "      <td>111.029432</td>\n",
              "      <td>-1.714714</td>\n",
              "      <td>0.545975</td>\n",
              "      <td>6.907380</td>\n",
              "      <td>109.685043</td>\n",
              "    </tr>\n",
              "    <tr>\n",
              "      <th>10</th>\n",
              "      <td>G6k8A</td>\n",
              "      <td>-0.332671</td>\n",
              "      <td>0.873613</td>\n",
              "      <td>0.056776</td>\n",
              "      <td>59.356289</td>\n",
              "      <td>3.021943</td>\n",
              "      <td>2.091350</td>\n",
              "      <td>2.325737</td>\n",
              "      <td>81.922702</td>\n",
              "    </tr>\n",
              "    <tr>\n",
              "      <th>11</th>\n",
              "      <td>rAJA6</td>\n",
              "      <td>0.763807</td>\n",
              "      <td>-0.256567</td>\n",
              "      <td>-2.539103</td>\n",
              "      <td>36.295666</td>\n",
              "      <td>1.426039</td>\n",
              "      <td>1.262731</td>\n",
              "      <td>1.915009</td>\n",
              "      <td>80.927100</td>\n",
              "    </tr>\n",
              "    <tr>\n",
              "      <th>12</th>\n",
              "      <td>PyNp5</td>\n",
              "      <td>0.800617</td>\n",
              "      <td>-0.423276</td>\n",
              "      <td>-0.262853</td>\n",
              "      <td>37.280078</td>\n",
              "      <td>-1.248973</td>\n",
              "      <td>-1.246669</td>\n",
              "      <td>-0.538638</td>\n",
              "      <td>122.021857</td>\n",
              "    </tr>\n",
              "    <tr>\n",
              "      <th>13</th>\n",
              "      <td>LhkAh</td>\n",
              "      <td>-0.016588</td>\n",
              "      <td>0.311455</td>\n",
              "      <td>5.752433</td>\n",
              "      <td>100.077127</td>\n",
              "      <td>-1.011388</td>\n",
              "      <td>-1.422994</td>\n",
              "      <td>0.167327</td>\n",
              "      <td>97.289509</td>\n",
              "    </tr>\n",
              "    <tr>\n",
              "      <th>14</th>\n",
              "      <td>eVdPR</td>\n",
              "      <td>0.948962</td>\n",
              "      <td>0.470545</td>\n",
              "      <td>4.841681</td>\n",
              "      <td>114.217840</td>\n",
              "      <td>-3.325910</td>\n",
              "      <td>0.212653</td>\n",
              "      <td>-2.172340</td>\n",
              "      <td>61.323206</td>\n",
              "    </tr>\n",
              "    <tr>\n",
              "      <th>15</th>\n",
              "      <td>H2jd8</td>\n",
              "      <td>-0.095755</td>\n",
              "      <td>0.549838</td>\n",
              "      <td>4.798969</td>\n",
              "      <td>121.587791</td>\n",
              "      <td>-0.882244</td>\n",
              "      <td>0.102113</td>\n",
              "      <td>5.132965</td>\n",
              "      <td>97.736331</td>\n",
              "    </tr>\n",
              "    <tr>\n",
              "      <th>16</th>\n",
              "      <td>lFHA5</td>\n",
              "      <td>0.825315</td>\n",
              "      <td>-0.415530</td>\n",
              "      <td>1.316067</td>\n",
              "      <td>145.287376</td>\n",
              "      <td>1.143130</td>\n",
              "      <td>1.528147</td>\n",
              "      <td>2.717799</td>\n",
              "      <td>84.144358</td>\n",
              "    </tr>\n",
              "  </tbody>\n",
              "</table>\n",
              "</div>"
            ],
            "text/plain": [
              "       id      f0_x      f1_x      f2_x   product_x      f0_y      f1_y  \\\n",
              "0   wqgPo  2.009877 -0.119927  5.254332   72.798085  0.052461  1.424025   \n",
              "1   kpKGs  1.984545  0.356201 -0.876743   53.006141  0.391595  0.520890   \n",
              "2   scFN4  1.209207 -0.491543  0.871066   82.239907  2.198203  0.733283   \n",
              "3   i2csb  1.876060  0.130102  3.916158  178.191619  0.395736 -1.039466   \n",
              "4   Suyut  1.034755  0.211378  5.166985  134.183249  0.730034  0.998910   \n",
              "5   uSye4  1.452571 -0.452693 -1.800189   79.717634 -0.066172  2.543996   \n",
              "6   5ssQt -1.005117  0.268726 -0.407822   53.206029 -0.651825  0.782415   \n",
              "7   tgOl6  1.242237 -0.545994 -1.070228   52.566338 -6.077439 -1.366449   \n",
              "8   2tyMi  0.576679 -0.411140 -3.725859   69.292672 -1.789602 -1.359044   \n",
              "9   TXPOv -0.614415  0.669327  4.392560  111.029432 -1.714714  0.545975   \n",
              "10  G6k8A -0.332671  0.873613  0.056776   59.356289  3.021943  2.091350   \n",
              "11  rAJA6  0.763807 -0.256567 -2.539103   36.295666  1.426039  1.262731   \n",
              "12  PyNp5  0.800617 -0.423276 -0.262853   37.280078 -1.248973 -1.246669   \n",
              "13  LhkAh -0.016588  0.311455  5.752433  100.077127 -1.011388 -1.422994   \n",
              "14  eVdPR  0.948962  0.470545  4.841681  114.217840 -3.325910  0.212653   \n",
              "15  H2jd8 -0.095755  0.549838  4.798969  121.587791 -0.882244  0.102113   \n",
              "16  lFHA5  0.825315 -0.415530  1.316067  145.287376  1.143130  1.528147   \n",
              "\n",
              "         f2_y   product_y  \n",
              "0    0.085541   10.686576  \n",
              "1    0.935081   91.558464  \n",
              "2   10.562272  153.719681  \n",
              "3    3.262824  136.079194  \n",
              "4    0.673342   51.978338  \n",
              "5   -0.054049  141.345070  \n",
              "6    2.690636  120.108761  \n",
              "7    1.858951  153.001240  \n",
              "8   -4.840745  145.901447  \n",
              "9    6.907380  109.685043  \n",
              "10   2.325737   81.922702  \n",
              "11   1.915009   80.927100  \n",
              "12  -0.538638  122.021857  \n",
              "13   0.167327   97.289509  \n",
              "14  -2.172340   61.323206  \n",
              "15   5.132965   97.736331  \n",
              "16   2.717799   84.144358  "
            ]
          },
          "metadata": {},
          "output_type": "display_data"
        }
      ],
      "source": [
        "print('Дубликаты:')\n",
        "for dataframe in dataframes:\n",
        "    print(dataframe['id'].duplicated().sum())\n",
        "\n",
        "for dataframe in dataframes:\n",
        "    ids = dataframe.loc[dataframe['id'].duplicated()]['id'].to_list()\n",
        "    for i in ids:\n",
        "        print(dataframe.loc[dataframe['id']==i])\n",
        "    print()\n",
        "    print()\n",
        "\n",
        "print('Повторы в разных таблицах:')\n",
        "display(data_1.merge(data_2, on='id', how='inner'))\n",
        "display(data_2.merge(data_3, on='id', how='inner'))\n",
        "display(data_1.merge(data_3, on='id', how='inner'))"
      ]
    },
    {
      "cell_type": "markdown",
      "metadata": {
        "id": "9eEw6rQIElm3"
      },
      "source": [
        "Каждая скважина с повторяющимся `id` обладает собственным уникальным набором характеристик. Оставим все эти строки.\n",
        "\n",
        "Похоже, что для присвоения скважинам `id` использовали генератор случайных последовательностей символов, и произошли повторы.\n"
      ]
    },
    {
      "cell_type": "markdown",
      "source": [
        "### 1.3. Исследовательский анализ данных\n",
        "\n"
      ],
      "metadata": {
        "id": "4WGm2l9dF-rp"
      }
    },
    {
      "cell_type": "code",
      "execution_count": null,
      "metadata": {
        "id": "mZbz7c9zElm3",
        "outputId": "469744ba-6e60-467c-9d13-060b1a5e3f2a"
      },
      "outputs": [
        {
          "name": "stdout",
          "output_type": "stream",
          "text": [
            "Регион 1\n"
          ]
        },
        {
          "data": {
            "image/png": "[encoded data removed]",
            "text/plain": [
              "<Figure size 1080x576 with 2 Axes>"
            ]
          },
          "metadata": {},
          "output_type": "display_data"
        },
        {
          "data": {
            "text/html": [
              "<div>\n",
              "<style scoped>\n",
              "    .dataframe tbody tr th:only-of-type {\n",
              "        vertical-align: middle;\n",
              "    }\n",
              "\n",
              "    .dataframe tbody tr th {\n",
              "        vertical-align: top;\n",
              "    }\n",
              "\n",
              "    .dataframe thead th {\n",
              "        text-align: right;\n",
              "    }\n",
              "</style>\n",
              "<table border=\"1\" class=\"dataframe\">\n",
              "  <thead>\n",
              "    <tr style=\"text-align: right;\">\n",
              "      <th></th>\n",
              "      <th>f0</th>\n",
              "    </tr>\n",
              "  </thead>\n",
              "  <tbody>\n",
              "    <tr>\n",
              "      <th>count</th>\n",
              "      <td>100000.000000</td>\n",
              "    </tr>\n",
              "    <tr>\n",
              "      <th>mean</th>\n",
              "      <td>0.500419</td>\n",
              "    </tr>\n",
              "    <tr>\n",
              "      <th>std</th>\n",
              "      <td>0.871832</td>\n",
              "    </tr>\n",
              "    <tr>\n",
              "      <th>min</th>\n",
              "      <td>-1.408605</td>\n",
              "    </tr>\n",
              "    <tr>\n",
              "      <th>25%</th>\n",
              "      <td>-0.072580</td>\n",
              "    </tr>\n",
              "    <tr>\n",
              "      <th>50%</th>\n",
              "      <td>0.502360</td>\n",
              "    </tr>\n",
              "    <tr>\n",
              "      <th>75%</th>\n",
              "      <td>1.073581</td>\n",
              "    </tr>\n",
              "    <tr>\n",
              "      <th>max</th>\n",
              "      <td>2.362331</td>\n",
              "    </tr>\n",
              "  </tbody>\n",
              "</table>\n",
              "</div>"
            ],
            "text/plain": [
              "                  f0\n",
              "count  100000.000000\n",
              "mean        0.500419\n",
              "std         0.871832\n",
              "min        -1.408605\n",
              "25%        -0.072580\n",
              "50%         0.502360\n",
              "75%         1.073581\n",
              "max         2.362331"
            ]
          },
          "metadata": {},
          "output_type": "display_data"
        },
        {
          "data": {
            "image/png": "[encoded data removed]",
            "text/plain": [
              "<Figure size 1080x576 with 2 Axes>"
            ]
          },
          "metadata": {},
          "output_type": "display_data"
        },
        {
          "data": {
            "text/html": [
              "<div>\n",
              "<style scoped>\n",
              "    .dataframe tbody tr th:only-of-type {\n",
              "        vertical-align: middle;\n",
              "    }\n",
              "\n",
              "    .dataframe tbody tr th {\n",
              "        vertical-align: top;\n",
              "    }\n",
              "\n",
              "    .dataframe thead th {\n",
              "        text-align: right;\n",
              "    }\n",
              "</style>\n",
              "<table border=\"1\" class=\"dataframe\">\n",
              "  <thead>\n",
              "    <tr style=\"text-align: right;\">\n",
              "      <th></th>\n",
              "      <th>f1</th>\n",
              "    </tr>\n",
              "  </thead>\n",
              "  <tbody>\n",
              "    <tr>\n",
              "      <th>count</th>\n",
              "      <td>100000.000000</td>\n",
              "    </tr>\n",
              "    <tr>\n",
              "      <th>mean</th>\n",
              "      <td>0.250143</td>\n",
              "    </tr>\n",
              "    <tr>\n",
              "      <th>std</th>\n",
              "      <td>0.504433</td>\n",
              "    </tr>\n",
              "    <tr>\n",
              "      <th>min</th>\n",
              "      <td>-0.848218</td>\n",
              "    </tr>\n",
              "    <tr>\n",
              "      <th>25%</th>\n",
              "      <td>-0.200881</td>\n",
              "    </tr>\n",
              "    <tr>\n",
              "      <th>50%</th>\n",
              "      <td>0.250252</td>\n",
              "    </tr>\n",
              "    <tr>\n",
              "      <th>75%</th>\n",
              "      <td>0.700646</td>\n",
              "    </tr>\n",
              "    <tr>\n",
              "      <th>max</th>\n",
              "      <td>1.343769</td>\n",
              "    </tr>\n",
              "  </tbody>\n",
              "</table>\n",
              "</div>"
            ],
            "text/plain": [
              "                  f1\n",
              "count  100000.000000\n",
              "mean        0.250143\n",
              "std         0.504433\n",
              "min        -0.848218\n",
              "25%        -0.200881\n",
              "50%         0.250252\n",
              "75%         0.700646\n",
              "max         1.343769"
            ]
          },
          "metadata": {},
          "output_type": "display_data"
        },
        {
          "data": {
            "image/png": "[encoded data removed]",
            "text/plain": [
              "<Figure size 1080x576 with 2 Axes>"
            ]
          },
          "metadata": {},
          "output_type": "display_data"
        },
        {
          "data": {
            "text/html": [
              "<div>\n",
              "<style scoped>\n",
              "    .dataframe tbody tr th:only-of-type {\n",
              "        vertical-align: middle;\n",
              "    }\n",
              "\n",
              "    .dataframe tbody tr th {\n",
              "        vertical-align: top;\n",
              "    }\n",
              "\n",
              "    .dataframe thead th {\n",
              "        text-align: right;\n",
              "    }\n",
              "</style>\n",
              "<table border=\"1\" class=\"dataframe\">\n",
              "  <thead>\n",
              "    <tr style=\"text-align: right;\">\n",
              "      <th></th>\n",
              "      <th>f2</th>\n",
              "    </tr>\n",
              "  </thead>\n",
              "  <tbody>\n",
              "    <tr>\n",
              "      <th>count</th>\n",
              "      <td>100000.000000</td>\n",
              "    </tr>\n",
              "    <tr>\n",
              "      <th>mean</th>\n",
              "      <td>2.502647</td>\n",
              "    </tr>\n",
              "    <tr>\n",
              "      <th>std</th>\n",
              "      <td>3.248248</td>\n",
              "    </tr>\n",
              "    <tr>\n",
              "      <th>min</th>\n",
              "      <td>-12.088328</td>\n",
              "    </tr>\n",
              "    <tr>\n",
              "      <th>25%</th>\n",
              "      <td>0.287748</td>\n",
              "    </tr>\n",
              "    <tr>\n",
              "      <th>50%</th>\n",
              "      <td>2.515969</td>\n",
              "    </tr>\n",
              "    <tr>\n",
              "      <th>75%</th>\n",
              "      <td>4.715088</td>\n",
              "    </tr>\n",
              "    <tr>\n",
              "      <th>max</th>\n",
              "      <td>16.003790</td>\n",
              "    </tr>\n",
              "  </tbody>\n",
              "</table>\n",
              "</div>"
            ],
            "text/plain": [
              "                  f2\n",
              "count  100000.000000\n",
              "mean        2.502647\n",
              "std         3.248248\n",
              "min       -12.088328\n",
              "25%         0.287748\n",
              "50%         2.515969\n",
              "75%         4.715088\n",
              "max        16.003790"
            ]
          },
          "metadata": {},
          "output_type": "display_data"
        },
        {
          "data": {
            "image/png": "[encoded data removed]",
            "text/plain": [
              "<Figure size 1080x576 with 2 Axes>"
            ]
          },
          "metadata": {},
          "output_type": "display_data"
        },
        {
          "data": {
            "text/html": [
              "<div>\n",
              "<style scoped>\n",
              "    .dataframe tbody tr th:only-of-type {\n",
              "        vertical-align: middle;\n",
              "    }\n",
              "\n",
              "    .dataframe tbody tr th {\n",
              "        vertical-align: top;\n",
              "    }\n",
              "\n",
              "    .dataframe thead th {\n",
              "        text-align: right;\n",
              "    }\n",
              "</style>\n",
              "<table border=\"1\" class=\"dataframe\">\n",
              "  <thead>\n",
              "    <tr style=\"text-align: right;\">\n",
              "      <th></th>\n",
              "      <th>product</th>\n",
              "    </tr>\n",
              "  </thead>\n",
              "  <tbody>\n",
              "    <tr>\n",
              "      <th>count</th>\n",
              "      <td>100000.000000</td>\n",
              "    </tr>\n",
              "    <tr>\n",
              "      <th>mean</th>\n",
              "      <td>92.500000</td>\n",
              "    </tr>\n",
              "    <tr>\n",
              "      <th>std</th>\n",
              "      <td>44.288691</td>\n",
              "    </tr>\n",
              "    <tr>\n",
              "      <th>min</th>\n",
              "      <td>0.000000</td>\n",
              "    </tr>\n",
              "    <tr>\n",
              "      <th>25%</th>\n",
              "      <td>56.497507</td>\n",
              "    </tr>\n",
              "    <tr>\n",
              "      <th>50%</th>\n",
              "      <td>91.849972</td>\n",
              "    </tr>\n",
              "    <tr>\n",
              "      <th>75%</th>\n",
              "      <td>128.564089</td>\n",
              "    </tr>\n",
              "    <tr>\n",
              "      <th>max</th>\n",
              "      <td>185.364347</td>\n",
              "    </tr>\n",
              "  </tbody>\n",
              "</table>\n",
              "</div>"
            ],
            "text/plain": [
              "             product\n",
              "count  100000.000000\n",
              "mean       92.500000\n",
              "std        44.288691\n",
              "min         0.000000\n",
              "25%        56.497507\n",
              "50%        91.849972\n",
              "75%       128.564089\n",
              "max       185.364347"
            ]
          },
          "metadata": {},
          "output_type": "display_data"
        },
        {
          "name": "stdout",
          "output_type": "stream",
          "text": [
            "\n",
            "\n",
            "Регион 2\n"
          ]
        },
        {
          "data": {
            "image/png": "[encoded data removed]",
            "text/plain": [
              "<Figure size 1080x576 with 2 Axes>"
            ]
          },
          "metadata": {},
          "output_type": "display_data"
        },
        {
          "data": {
            "text/html": [
              "<div>\n",
              "<style scoped>\n",
              "    .dataframe tbody tr th:only-of-type {\n",
              "        vertical-align: middle;\n",
              "    }\n",
              "\n",
              "    .dataframe tbody tr th {\n",
              "        vertical-align: top;\n",
              "    }\n",
              "\n",
              "    .dataframe thead th {\n",
              "        text-align: right;\n",
              "    }\n",
              "</style>\n",
              "<table border=\"1\" class=\"dataframe\">\n",
              "  <thead>\n",
              "    <tr style=\"text-align: right;\">\n",
              "      <th></th>\n",
              "      <th>f0</th>\n",
              "    </tr>\n",
              "  </thead>\n",
              "  <tbody>\n",
              "    <tr>\n",
              "      <th>count</th>\n",
              "      <td>100000.000000</td>\n",
              "    </tr>\n",
              "    <tr>\n",
              "      <th>mean</th>\n",
              "      <td>1.141296</td>\n",
              "    </tr>\n",
              "    <tr>\n",
              "      <th>std</th>\n",
              "      <td>8.965932</td>\n",
              "    </tr>\n",
              "    <tr>\n",
              "      <th>min</th>\n",
              "      <td>-31.609576</td>\n",
              "    </tr>\n",
              "    <tr>\n",
              "      <th>25%</th>\n",
              "      <td>-6.298551</td>\n",
              "    </tr>\n",
              "    <tr>\n",
              "      <th>50%</th>\n",
              "      <td>1.153055</td>\n",
              "    </tr>\n",
              "    <tr>\n",
              "      <th>75%</th>\n",
              "      <td>8.621015</td>\n",
              "    </tr>\n",
              "    <tr>\n",
              "      <th>max</th>\n",
              "      <td>29.421755</td>\n",
              "    </tr>\n",
              "  </tbody>\n",
              "</table>\n",
              "</div>"
            ],
            "text/plain": [
              "                  f0\n",
              "count  100000.000000\n",
              "mean        1.141296\n",
              "std         8.965932\n",
              "min       -31.609576\n",
              "25%        -6.298551\n",
              "50%         1.153055\n",
              "75%         8.621015\n",
              "max        29.421755"
            ]
          },
          "metadata": {},
          "output_type": "display_data"
        },
        {
          "data": {
            "image/png": "[encoded data removed]",
            "text/plain": [
              "<Figure size 1080x576 with 2 Axes>"
            ]
          },
          "metadata": {},
          "output_type": "display_data"
        },
        {
          "data": {
            "text/html": [
              "<div>\n",
              "<style scoped>\n",
              "    .dataframe tbody tr th:only-of-type {\n",
              "        vertical-align: middle;\n",
              "    }\n",
              "\n",
              "    .dataframe tbody tr th {\n",
              "        vertical-align: top;\n",
              "    }\n",
              "\n",
              "    .dataframe thead th {\n",
              "        text-align: right;\n",
              "    }\n",
              "</style>\n",
              "<table border=\"1\" class=\"dataframe\">\n",
              "  <thead>\n",
              "    <tr style=\"text-align: right;\">\n",
              "      <th></th>\n",
              "      <th>f1</th>\n",
              "    </tr>\n",
              "  </thead>\n",
              "  <tbody>\n",
              "    <tr>\n",
              "      <th>count</th>\n",
              "      <td>100000.000000</td>\n",
              "    </tr>\n",
              "    <tr>\n",
              "      <th>mean</th>\n",
              "      <td>-4.796579</td>\n",
              "    </tr>\n",
              "    <tr>\n",
              "      <th>std</th>\n",
              "      <td>5.119872</td>\n",
              "    </tr>\n",
              "    <tr>\n",
              "      <th>min</th>\n",
              "      <td>-26.358598</td>\n",
              "    </tr>\n",
              "    <tr>\n",
              "      <th>25%</th>\n",
              "      <td>-8.267985</td>\n",
              "    </tr>\n",
              "    <tr>\n",
              "      <th>50%</th>\n",
              "      <td>-4.813172</td>\n",
              "    </tr>\n",
              "    <tr>\n",
              "      <th>75%</th>\n",
              "      <td>-1.332816</td>\n",
              "    </tr>\n",
              "    <tr>\n",
              "      <th>max</th>\n",
              "      <td>18.734063</td>\n",
              "    </tr>\n",
              "  </tbody>\n",
              "</table>\n",
              "</div>"
            ],
            "text/plain": [
              "                  f1\n",
              "count  100000.000000\n",
              "mean       -4.796579\n",
              "std         5.119872\n",
              "min       -26.358598\n",
              "25%        -8.267985\n",
              "50%        -4.813172\n",
              "75%        -1.332816\n",
              "max        18.734063"
            ]
          },
          "metadata": {},
          "output_type": "display_data"
        },
        {
          "data": {
            "image/png": "[encoded data removed]",
            "text/plain": [
              "<Figure size 1080x576 with 2 Axes>"
            ]
          },
          "metadata": {},
          "output_type": "display_data"
        },
        {
          "data": {
            "text/html": [
              "<div>\n",
              "<style scoped>\n",
              "    .dataframe tbody tr th:only-of-type {\n",
              "        vertical-align: middle;\n",
              "    }\n",
              "\n",
              "    .dataframe tbody tr th {\n",
              "        vertical-align: top;\n",
              "    }\n",
              "\n",
              "    .dataframe thead th {\n",
              "        text-align: right;\n",
              "    }\n",
              "</style>\n",
              "<table border=\"1\" class=\"dataframe\">\n",
              "  <thead>\n",
              "    <tr style=\"text-align: right;\">\n",
              "      <th></th>\n",
              "      <th>f2</th>\n",
              "    </tr>\n",
              "  </thead>\n",
              "  <tbody>\n",
              "    <tr>\n",
              "      <th>count</th>\n",
              "      <td>100000.000000</td>\n",
              "    </tr>\n",
              "    <tr>\n",
              "      <th>mean</th>\n",
              "      <td>2.494541</td>\n",
              "    </tr>\n",
              "    <tr>\n",
              "      <th>std</th>\n",
              "      <td>1.703572</td>\n",
              "    </tr>\n",
              "    <tr>\n",
              "      <th>min</th>\n",
              "      <td>-0.018144</td>\n",
              "    </tr>\n",
              "    <tr>\n",
              "      <th>25%</th>\n",
              "      <td>1.000021</td>\n",
              "    </tr>\n",
              "    <tr>\n",
              "      <th>50%</th>\n",
              "      <td>2.011479</td>\n",
              "    </tr>\n",
              "    <tr>\n",
              "      <th>75%</th>\n",
              "      <td>3.999904</td>\n",
              "    </tr>\n",
              "    <tr>\n",
              "      <th>max</th>\n",
              "      <td>5.019721</td>\n",
              "    </tr>\n",
              "  </tbody>\n",
              "</table>\n",
              "</div>"
            ],
            "text/plain": [
              "                  f2\n",
              "count  100000.000000\n",
              "mean        2.494541\n",
              "std         1.703572\n",
              "min        -0.018144\n",
              "25%         1.000021\n",
              "50%         2.011479\n",
              "75%         3.999904\n",
              "max         5.019721"
            ]
          },
          "metadata": {},
          "output_type": "display_data"
        },
        {
          "data": {
            "image/png": "[encoded data removed]",
            "text/plain": [
              "<Figure size 1080x576 with 2 Axes>"
            ]
          },
          "metadata": {},
          "output_type": "display_data"
        },
        {
          "data": {
            "text/html": [
              "<div>\n",
              "<style scoped>\n",
              "    .dataframe tbody tr th:only-of-type {\n",
              "        vertical-align: middle;\n",
              "    }\n",
              "\n",
              "    .dataframe tbody tr th {\n",
              "        vertical-align: top;\n",
              "    }\n",
              "\n",
              "    .dataframe thead th {\n",
              "        text-align: right;\n",
              "    }\n",
              "</style>\n",
              "<table border=\"1\" class=\"dataframe\">\n",
              "  <thead>\n",
              "    <tr style=\"text-align: right;\">\n",
              "      <th></th>\n",
              "      <th>product</th>\n",
              "    </tr>\n",
              "  </thead>\n",
              "  <tbody>\n",
              "    <tr>\n",
              "      <th>count</th>\n",
              "      <td>100000.000000</td>\n",
              "    </tr>\n",
              "    <tr>\n",
              "      <th>mean</th>\n",
              "      <td>68.825000</td>\n",
              "    </tr>\n",
              "    <tr>\n",
              "      <th>std</th>\n",
              "      <td>45.944423</td>\n",
              "    </tr>\n",
              "    <tr>\n",
              "      <th>min</th>\n",
              "      <td>0.000000</td>\n",
              "    </tr>\n",
              "    <tr>\n",
              "      <th>25%</th>\n",
              "      <td>26.953261</td>\n",
              "    </tr>\n",
              "    <tr>\n",
              "      <th>50%</th>\n",
              "      <td>57.085625</td>\n",
              "    </tr>\n",
              "    <tr>\n",
              "      <th>75%</th>\n",
              "      <td>107.813044</td>\n",
              "    </tr>\n",
              "    <tr>\n",
              "      <th>max</th>\n",
              "      <td>137.945408</td>\n",
              "    </tr>\n",
              "  </tbody>\n",
              "</table>\n",
              "</div>"
            ],
            "text/plain": [
              "             product\n",
              "count  100000.000000\n",
              "mean       68.825000\n",
              "std        45.944423\n",
              "min         0.000000\n",
              "25%        26.953261\n",
              "50%        57.085625\n",
              "75%       107.813044\n",
              "max       137.945408"
            ]
          },
          "metadata": {},
          "output_type": "display_data"
        },
        {
          "name": "stdout",
          "output_type": "stream",
          "text": [
            "\n",
            "\n",
            "Регион 3\n"
          ]
        },
        {
          "data": {
            "image/png": "[encoded data removed]",
            "text/plain": [
              "<Figure size 1080x576 with 2 Axes>"
            ]
          },
          "metadata": {},
          "output_type": "display_data"
        },
        {
          "data": {
            "text/html": [
              "<div>\n",
              "<style scoped>\n",
              "    .dataframe tbody tr th:only-of-type {\n",
              "        vertical-align: middle;\n",
              "    }\n",
              "\n",
              "    .dataframe tbody tr th {\n",
              "        vertical-align: top;\n",
              "    }\n",
              "\n",
              "    .dataframe thead th {\n",
              "        text-align: right;\n",
              "    }\n",
              "</style>\n",
              "<table border=\"1\" class=\"dataframe\">\n",
              "  <thead>\n",
              "    <tr style=\"text-align: right;\">\n",
              "      <th></th>\n",
              "      <th>f0</th>\n",
              "    </tr>\n",
              "  </thead>\n",
              "  <tbody>\n",
              "    <tr>\n",
              "      <th>count</th>\n",
              "      <td>100000.000000</td>\n",
              "    </tr>\n",
              "    <tr>\n",
              "      <th>mean</th>\n",
              "      <td>0.002023</td>\n",
              "    </tr>\n",
              "    <tr>\n",
              "      <th>std</th>\n",
              "      <td>1.732045</td>\n",
              "    </tr>\n",
              "    <tr>\n",
              "      <th>min</th>\n",
              "      <td>-8.760004</td>\n",
              "    </tr>\n",
              "    <tr>\n",
              "      <th>25%</th>\n",
              "      <td>-1.162288</td>\n",
              "    </tr>\n",
              "    <tr>\n",
              "      <th>50%</th>\n",
              "      <td>0.009424</td>\n",
              "    </tr>\n",
              "    <tr>\n",
              "      <th>75%</th>\n",
              "      <td>1.158535</td>\n",
              "    </tr>\n",
              "    <tr>\n",
              "      <th>max</th>\n",
              "      <td>7.238262</td>\n",
              "    </tr>\n",
              "  </tbody>\n",
              "</table>\n",
              "</div>"
            ],
            "text/plain": [
              "                  f0\n",
              "count  100000.000000\n",
              "mean        0.002023\n",
              "std         1.732045\n",
              "min        -8.760004\n",
              "25%        -1.162288\n",
              "50%         0.009424\n",
              "75%         1.158535\n",
              "max         7.238262"
            ]
          },
          "metadata": {},
          "output_type": "display_data"
        },
        {
          "data": {
            "image/png": "[encoded data removed]",
            "text/plain": [
              "<Figure size 1080x576 with 2 Axes>"
            ]
          },
          "metadata": {},
          "output_type": "display_data"
        },
        {
          "data": {
            "text/html": [
              "<div>\n",
              "<style scoped>\n",
              "    .dataframe tbody tr th:only-of-type {\n",
              "        vertical-align: middle;\n",
              "    }\n",
              "\n",
              "    .dataframe tbody tr th {\n",
              "        vertical-align: top;\n",
              "    }\n",
              "\n",
              "    .dataframe thead th {\n",
              "        text-align: right;\n",
              "    }\n",
              "</style>\n",
              "<table border=\"1\" class=\"dataframe\">\n",
              "  <thead>\n",
              "    <tr style=\"text-align: right;\">\n",
              "      <th></th>\n",
              "      <th>f1</th>\n",
              "    </tr>\n",
              "  </thead>\n",
              "  <tbody>\n",
              "    <tr>\n",
              "      <th>count</th>\n",
              "      <td>100000.000000</td>\n",
              "    </tr>\n",
              "    <tr>\n",
              "      <th>mean</th>\n",
              "      <td>-0.002081</td>\n",
              "    </tr>\n",
              "    <tr>\n",
              "      <th>std</th>\n",
              "      <td>1.730417</td>\n",
              "    </tr>\n",
              "    <tr>\n",
              "      <th>min</th>\n",
              "      <td>-7.084020</td>\n",
              "    </tr>\n",
              "    <tr>\n",
              "      <th>25%</th>\n",
              "      <td>-1.174820</td>\n",
              "    </tr>\n",
              "    <tr>\n",
              "      <th>50%</th>\n",
              "      <td>-0.009482</td>\n",
              "    </tr>\n",
              "    <tr>\n",
              "      <th>75%</th>\n",
              "      <td>1.163678</td>\n",
              "    </tr>\n",
              "    <tr>\n",
              "      <th>max</th>\n",
              "      <td>7.844801</td>\n",
              "    </tr>\n",
              "  </tbody>\n",
              "</table>\n",
              "</div>"
            ],
            "text/plain": [
              "                  f1\n",
              "count  100000.000000\n",
              "mean       -0.002081\n",
              "std         1.730417\n",
              "min        -7.084020\n",
              "25%        -1.174820\n",
              "50%        -0.009482\n",
              "75%         1.163678\n",
              "max         7.844801"
            ]
          },
          "metadata": {},
          "output_type": "display_data"
        },
        {
          "data": {
            "image/png": "[encoded data removed]",
            "text/plain": [
              "<Figure size 1080x576 with 2 Axes>"
            ]
          },
          "metadata": {},
          "output_type": "display_data"
        },
        {
          "data": {
            "text/html": [
              "<div>\n",
              "<style scoped>\n",
              "    .dataframe tbody tr th:only-of-type {\n",
              "        vertical-align: middle;\n",
              "    }\n",
              "\n",
              "    .dataframe tbody tr th {\n",
              "        vertical-align: top;\n",
              "    }\n",
              "\n",
              "    .dataframe thead th {\n",
              "        text-align: right;\n",
              "    }\n",
              "</style>\n",
              "<table border=\"1\" class=\"dataframe\">\n",
              "  <thead>\n",
              "    <tr style=\"text-align: right;\">\n",
              "      <th></th>\n",
              "      <th>f2</th>\n",
              "    </tr>\n",
              "  </thead>\n",
              "  <tbody>\n",
              "    <tr>\n",
              "      <th>count</th>\n",
              "      <td>100000.000000</td>\n",
              "    </tr>\n",
              "    <tr>\n",
              "      <th>mean</th>\n",
              "      <td>2.495128</td>\n",
              "    </tr>\n",
              "    <tr>\n",
              "      <th>std</th>\n",
              "      <td>3.473445</td>\n",
              "    </tr>\n",
              "    <tr>\n",
              "      <th>min</th>\n",
              "      <td>-11.970335</td>\n",
              "    </tr>\n",
              "    <tr>\n",
              "      <th>25%</th>\n",
              "      <td>0.130359</td>\n",
              "    </tr>\n",
              "    <tr>\n",
              "      <th>50%</th>\n",
              "      <td>2.484236</td>\n",
              "    </tr>\n",
              "    <tr>\n",
              "      <th>75%</th>\n",
              "      <td>4.858794</td>\n",
              "    </tr>\n",
              "    <tr>\n",
              "      <th>max</th>\n",
              "      <td>16.739402</td>\n",
              "    </tr>\n",
              "  </tbody>\n",
              "</table>\n",
              "</div>"
            ],
            "text/plain": [
              "                  f2\n",
              "count  100000.000000\n",
              "mean        2.495128\n",
              "std         3.473445\n",
              "min       -11.970335\n",
              "25%         0.130359\n",
              "50%         2.484236\n",
              "75%         4.858794\n",
              "max        16.739402"
            ]
          },
          "metadata": {},
          "output_type": "display_data"
        },
        {
          "data": {
            "image/png": "[encoded data removed]",
            "text/plain": [
              "<Figure size 1080x576 with 2 Axes>"
            ]
          },
          "metadata": {},
          "output_type": "display_data"
        },
        {
          "data": {
            "text/html": [
              "<div>\n",
              "<style scoped>\n",
              "    .dataframe tbody tr th:only-of-type {\n",
              "        vertical-align: middle;\n",
              "    }\n",
              "\n",
              "    .dataframe tbody tr th {\n",
              "        vertical-align: top;\n",
              "    }\n",
              "\n",
              "    .dataframe thead th {\n",
              "        text-align: right;\n",
              "    }\n",
              "</style>\n",
              "<table border=\"1\" class=\"dataframe\">\n",
              "  <thead>\n",
              "    <tr style=\"text-align: right;\">\n",
              "      <th></th>\n",
              "      <th>product</th>\n",
              "    </tr>\n",
              "  </thead>\n",
              "  <tbody>\n",
              "    <tr>\n",
              "      <th>count</th>\n",
              "      <td>100000.000000</td>\n",
              "    </tr>\n",
              "    <tr>\n",
              "      <th>mean</th>\n",
              "      <td>95.000000</td>\n",
              "    </tr>\n",
              "    <tr>\n",
              "      <th>std</th>\n",
              "      <td>44.749921</td>\n",
              "    </tr>\n",
              "    <tr>\n",
              "      <th>min</th>\n",
              "      <td>0.000000</td>\n",
              "    </tr>\n",
              "    <tr>\n",
              "      <th>25%</th>\n",
              "      <td>59.450441</td>\n",
              "    </tr>\n",
              "    <tr>\n",
              "      <th>50%</th>\n",
              "      <td>94.925613</td>\n",
              "    </tr>\n",
              "    <tr>\n",
              "      <th>75%</th>\n",
              "      <td>130.595027</td>\n",
              "    </tr>\n",
              "    <tr>\n",
              "      <th>max</th>\n",
              "      <td>190.029838</td>\n",
              "    </tr>\n",
              "  </tbody>\n",
              "</table>\n",
              "</div>"
            ],
            "text/plain": [
              "             product\n",
              "count  100000.000000\n",
              "mean       95.000000\n",
              "std        44.749921\n",
              "min         0.000000\n",
              "25%        59.450441\n",
              "50%        94.925613\n",
              "75%       130.595027\n",
              "max       190.029838"
            ]
          },
          "metadata": {},
          "output_type": "display_data"
        },
        {
          "name": "stdout",
          "output_type": "stream",
          "text": [
            "\n",
            "\n"
          ]
        }
      ],
      "source": [
        "columns = ['f0', 'f1', 'f2', 'product']\n",
        "a = 0\n",
        "for dataframe in dataframes:\n",
        "    a += 1\n",
        "    print(f'Регион {a}')\n",
        "    for column in columns:\n",
        "        show_num(dataframe, column)\n",
        "    print()\n",
        "    print()"
      ]
    },
    {
      "cell_type": "markdown",
      "metadata": {
        "id": "l6lCHPpzElm3"
      },
      "source": [
        "**Предварительные выводы:**\n",
        "\n",
        "Значения признаков распределены по-разному в разных районах. Поэтому необходимо обучить свою модель для каждого района.\n",
        "\n",
        "Нормальными можно назвать только некоторые распределения. В данных не очень много выбросов. Аномальные значения можно было бы выявить только для столбца `product`, и их нет ни в одной из таблиц.\n",
        "\n",
        "Поскольку мы будем строить линейные модели, необходимо провести проверку на мультиколлинеарность.\n",
        "\n"
      ]
    },
    {
      "cell_type": "markdown",
      "source": [
        "### Проверка на мультиколлинеарность и корреляционный анализ\n",
        "\n",
        "Для проверки воспользуемся коэффициентом корреляции Спирмана."
      ],
      "metadata": {
        "id": "j169O1G6GQnq"
      }
    },
    {
      "cell_type": "code",
      "execution_count": null,
      "metadata": {
        "id": "vZmTpelBElm3",
        "outputId": "3922a4cd-8602-4ff0-bc87-6c58fdd58f3d"
      },
      "outputs": [
        {
          "data": {
            "image/png": "[encoded data removed]",
            "text/plain": [
              "<Figure size 288x216 with 2 Axes>"
            ]
          },
          "metadata": {},
          "output_type": "display_data"
        },
        {
          "data": {
            "image/png": "[encoded data removed]",
            "text/plain": [
              "<Figure size 288x216 with 2 Axes>"
            ]
          },
          "metadata": {},
          "output_type": "display_data"
        },
        {
          "data": {
            "image/png": "[encoded data removed]",
            "text/plain": [
              "<Figure size 288x216 with 2 Axes>"
            ]
          },
          "metadata": {},
          "output_type": "display_data"
        }
      ],
      "source": [
        "a = 0\n",
        "for dataframe in dataframes:\n",
        "    a += 1\n",
        "    corr_matrix = dataframe[columns].corr(method='spearman')\n",
        "    plt.figure(figsize=(4, 3))\n",
        "    sns.heatmap(\n",
        "        corr_matrix,\n",
        "        annot=True,\n",
        "        fmt='.2f',\n",
        "        cmap='coolwarm',\n",
        "        vmin=-1,\n",
        "        vmax=1,\n",
        "        center=0\n",
        "    )\n",
        "    plt.title(f'Регион {a}')\n",
        "    plt.show()"
      ]
    },
    {
      "cell_type": "markdown",
      "metadata": {
        "id": "dLfL-mVfElm3"
      },
      "source": [
        "**Предварительные выводы:**\n",
        "\n",
        "Сильных связей между входными признаками нет ни в одном из трех регионов.\n",
        "\n",
        "При этом:\n",
        "* в первом регионе целевой признак имеет умеренную взаимосвязь с `f2` и очень слабую – с остальными входными признаками;\n",
        "* во втором регионе целевой признак имеет очень сильную взаимосвязь с `f2`, очень слабую – с `f0` и практически отсутствующую – с `f1`;\n",
        "* в третьем регионе целевой признак имеет умеренную взаимосвязь с `f2` и практически отсутствующую – с остальными входными признаками."
      ]
    },
    {
      "cell_type": "markdown",
      "metadata": {
        "id": "vbj8xANGElm3"
      },
      "source": [
        "### Вывод по шагу 1\n",
        "\n",
        "Во всех трех таблицах данные соответствуют описанию, наименования столбцов идентичны, типы данных адекватны, пропусков нет.\n",
        "\n",
        "Обнаружено небольшое число повторяющихся `id` как в пределах каждой таблицы, так и в разных таблицах. Строки с ними оставлены, поскольку каждая скважина с повторяющимся `id` имеет собственные уникальные значения признаков. Похоже, что для присвоения скважинам `id` использовали генератор случайных последовательностей символов, и произошли повторы.\n",
        "\n",
        "Значения признаков распределены по-разному в разных районах. Поэтому необходимо обучить свою модель для каждого района.\n",
        "\n",
        "Нормальными можно назвать только некоторые распределения. В данных не очень много выбросов. Аномальные значения можно было бы выявить только для столбца product, и их нет ни в одной из таблиц.\n",
        "\n",
        "Сильных связей между входными признаками нет ни в одном из трех регионов.\n",
        "\n",
        "При этом целевой признак имеет следующие взаимосвязи с входными:\n",
        "\n",
        "* в первом регионе:\n",
        "  * умеренную – с `f2`;\n",
        "  * очень слабую – с остальными входными признаками;\n",
        "* во втором регионе:\n",
        "  * очень сильную  – с `f2`;\n",
        "  * очень слабую – с `f0`;\n",
        "  * практически отсутствующую – с `f1`;\n",
        "* в третьем регионе:\n",
        "  * умеренную – с `f2`;\n",
        "  * практически отсутствующую – с остальными входными признаками.\n",
        "\n",
        "\n"
      ]
    },
    {
      "cell_type": "markdown",
      "metadata": {
        "id": "QKVzyHa9Elm4"
      },
      "source": [
        "## 2. Обучение и проверка модели\n",
        "\n",
        "Разобьем данные о каждом регионе на тренировочную и валидационную выборки в соотношении 75:25.\n",
        "\n",
        "Проведем масштабирование входных признаков и обучение моделей в пайплайнах. Лучшую модель (отличаться будут только методы масштабирования) для каждого региона выберем по метрике `RMSE` при помощи `GridSearchCV`, поскольку не придется перебирать большое множество вариантов: мы уже определили, что будем использовать линейную регрессию."
      ]
    },
    {
      "cell_type": "code",
      "execution_count": null,
      "metadata": {
        "id": "M5meVTVoElm4"
      },
      "outputs": [],
      "source": [
        "features = ['f0', 'f1', 'f2']\n",
        "\n",
        "data_preprocessor = ColumnTransformer(\n",
        "    [\n",
        "        ('preprocessing', StandardScaler(), features)\n",
        "    ],\n",
        "    remainder='passthrough'\n",
        ")\n",
        "\n",
        "pipe_final = Pipeline(\n",
        "    [('preprocessor', data_preprocessor),\n",
        "     ('models', LinearRegression())]\n",
        ")\n",
        "\n",
        "params = [{\n",
        "        'models': [LinearRegression()],\n",
        "        'preprocessor': [StandardScaler(), MinMaxScaler(), RobustScaler(), 'passthrough']\n",
        "}]"
      ]
    },
    {
      "cell_type": "markdown",
      "metadata": {
        "id": "qp_tzXPUElm4"
      },
      "source": [
        "### 2.1. Первый регион"
      ]
    },
    {
      "cell_type": "code",
      "execution_count": null,
      "metadata": {
        "id": "j7ZLX1M-Elm4",
        "outputId": "bfaeb9cf-3be3-464d-d85e-92422eaa2356"
      },
      "outputs": [
        {
          "name": "stdout",
          "output_type": "stream",
          "text": [
            "Первый регион\n",
            "Лучшая модель и ее параметры:\n",
            " Pipeline(steps=[('preprocessor', StandardScaler()),\n",
            "                ('models', LinearRegression())])\n",
            "\n",
            "Метрика RMSE на кроссвалидации: 37.67200536313506\n"
          ]
        }
      ],
      "source": [
        "X_train_1, X_test_1, y_train_1, y_test_1 = train_test_split(\n",
        "    data_1.drop(\n",
        "        ['id', 'product'],\n",
        "        axis=1\n",
        "    ),\n",
        "    data_1['product'],\n",
        "    test_size = 0.25,\n",
        "    random_state = RANDOM_STATE\n",
        ")\n",
        "\n",
        "search_1 = GridSearchCV(\n",
        "        pipe_final,\n",
        "        params,\n",
        "        cv=5,\n",
        "        scoring='neg_root_mean_squared_error',\n",
        "        n_jobs=-1\n",
        ")\n",
        "search_1.fit(X_train_1, y_train_1)\n",
        "\n",
        "print('Первый регион')\n",
        "print('Лучшая модель и ее параметры:\\n', search_1.best_estimator_)\n",
        "print()\n",
        "print ('Метрика RMSE на кроссвалидации:', search_1.best_score_ * -1)"
      ]
    },
    {
      "cell_type": "code",
      "execution_count": null,
      "metadata": {
        "id": "dbpmUolAElm4",
        "outputId": "e0cf7213-8dc2-41e6-89ac-353fd26715a4"
      },
      "outputs": [
        {
          "name": "stdout",
          "output_type": "stream",
          "text": [
            "Метрика RMSE на валидационной выборке: 37.75660035026169\n",
            "Средний запас предсказанного сырья: 92.51821088393348\n",
            "Средний запас реального сырья: 92.50000000000001\n"
          ]
        },
        {
          "data": {
            "image/png": "[encoded data removed]",
            "text/plain": [
              "<Figure size 432x288 with 1 Axes>"
            ]
          },
          "metadata": {},
          "output_type": "display_data"
        }
      ],
      "source": [
        "best_model_1 = search_1.best_estimator_.named_steps['models']\n",
        "best_preprocessor_1 = search_1.best_estimator_.named_steps['preprocessor']\n",
        "\n",
        "y_pred_1 = best_model_1.predict(best_preprocessor_1.transform(X_test_1))\n",
        "print ('Метрика RMSE на валидационной выборке:',\n",
        "       mean_squared_error(y_test_1, y_pred_1, squared=False))\n",
        "\n",
        "data_1['product_pred'] = best_model_1.predict(best_preprocessor_1.transform(data_1[features]))\n",
        "print('Средний запас предсказанного сырья:', data_1['product_pred'].mean())\n",
        "print('Средний запас реального сырья:', data_1['product'].mean())\n",
        "\n",
        "sns.histplot(data_1['product_pred'] - data_1['product'], bins=50, kde=True)\n",
        "plt.title('Гистограмма и плотность расределения остатков\\nпервый регион')\n",
        "plt.show()"
      ]
    },
    {
      "cell_type": "markdown",
      "metadata": {
        "id": "SL4ArkKQElm4"
      },
      "source": [
        "Модель показала сходные результаты на тестовой и валидационной выборках, значит, не произошло утечки данных и переобучения или недообучения. Остатки модели нормально распределены со средним, близким к нулю. Среднее предсказанных значений очень близко к среднему реальных запасов.\n",
        "\n",
        "Однако среднеквадратичная ошибка очень велика. Возможно, при разведке этого региона следует уделять внимание также другим признакам.\n",
        "\n"
      ]
    },
    {
      "cell_type": "markdown",
      "source": [
        "### 2.2. Второй регион"
      ],
      "metadata": {
        "id": "jCDV15xzGrr5"
      }
    },
    {
      "cell_type": "code",
      "execution_count": null,
      "metadata": {
        "id": "zfU6KoBDElm4",
        "outputId": "bf9903ce-b19c-4c86-e1f2-4c9e9bdd4618"
      },
      "outputs": [
        {
          "name": "stdout",
          "output_type": "stream",
          "text": [
            "Второй регион\n",
            "Лучшая модель и ее параметры:\n",
            " Pipeline(steps=[('preprocessor', StandardScaler()),\n",
            "                ('models', LinearRegression())])\n",
            "\n",
            "Метрика RMSE на кроссвалидации: 0.8904559629285671\n"
          ]
        }
      ],
      "source": [
        "X_train_2, X_test_2, y_train_2, y_test_2 = train_test_split(\n",
        "    data_2.drop(\n",
        "        ['id', 'product'],\n",
        "        axis=1\n",
        "    ),\n",
        "    data_2['product'],\n",
        "    test_size = 0.25,\n",
        "    random_state = RANDOM_STATE\n",
        ")\n",
        "\n",
        "\n",
        "search_2 = GridSearchCV(\n",
        "        pipe_final,\n",
        "        params,\n",
        "        cv=5,\n",
        "        scoring='neg_root_mean_squared_error',\n",
        "        n_jobs=-1\n",
        ")\n",
        "search_2.fit(X_train_2, y_train_2)\n",
        "\n",
        "print('Второй регион')\n",
        "print('Лучшая модель и ее параметры:\\n', search_2.best_estimator_)\n",
        "print()\n",
        "print ('Метрика RMSE на кроссвалидации:', search_2.best_score_ * -1)"
      ]
    },
    {
      "cell_type": "code",
      "execution_count": null,
      "metadata": {
        "id": "1syRyaXjElm4",
        "outputId": "b3f05195-af0f-4c86-ad74-750d121b2d5c"
      },
      "outputs": [
        {
          "name": "stdout",
          "output_type": "stream",
          "text": [
            "Метрика RMSE на валидационной выборке: 0.8902801001028846\n",
            "Средний запас предсказанного сырья: 68.82187432297754\n",
            "Средний запас реального сырья: 68.82500000000002\n"
          ]
        },
        {
          "data": {
            "image/png": "[encoded data removed]",
            "text/plain": [
              "<Figure size 432x288 with 1 Axes>"
            ]
          },
          "metadata": {},
          "output_type": "display_data"
        }
      ],
      "source": [
        "best_model_2 = search_2.best_estimator_.named_steps['models']\n",
        "best_preprocessor_2 = search_2.best_estimator_.named_steps['preprocessor']\n",
        "\n",
        "y_pred_2 = best_model_2.predict(best_preprocessor_2.transform(X_test_2))\n",
        "print('Метрика RMSE на валидационной выборке:',\n",
        "       mean_squared_error(y_test_2, y_pred_2, squared=False))\n",
        "\n",
        "data_2['product_pred'] = best_model_2.predict(best_preprocessor_2.transform(data_2[features]))\n",
        "print('Средний запас предсказанного сырья:', data_2['product_pred'].mean())\n",
        "print('Средний запас реального сырья:', data_2['product'].mean())\n",
        "\n",
        "sns.histplot(data_2['product_pred'] - data_2['product'], bins=50, kde=True)\n",
        "plt.title('Гистограмма и плотность расределения остатков\\nвторой регион')\n",
        "plt.show()"
      ]
    },
    {
      "cell_type": "markdown",
      "metadata": {
        "id": "g7G9ANGEElm4"
      },
      "source": [
        "Модель показала сходные результаты на тестовой и валидационной выборках, значит, не произошло утечки данных и переобучения или недообучения. Остатки модели нормально распределены со средним, близким к нулю. Среднее предсказанных значений очень близко к среднему реальных запасов.\n",
        "\n",
        "Среднеквадратичная ошибка очень мала. Это должно объясняться очень сильной корреляцией между целевым и одним из входных признаков в этом регионе.  \n",
        "\n"
      ]
    },
    {
      "cell_type": "markdown",
      "source": [
        "### 2.3. Третий регион"
      ],
      "metadata": {
        "id": "4MZYXpsfGwn6"
      }
    },
    {
      "cell_type": "code",
      "execution_count": null,
      "metadata": {
        "id": "mFCiwJYGElm5",
        "outputId": "18a145a7-cfef-4c8a-8ffc-941b18fc943c"
      },
      "outputs": [
        {
          "name": "stdout",
          "output_type": "stream",
          "text": [
            "Третий регион\n",
            "Лучшая модель и ее параметры:\n",
            " Pipeline(steps=[('preprocessor', StandardScaler()),\n",
            "                ('models', LinearRegression())])\n",
            "\n",
            "Метрика RMSE на кроссвалидации: 40.02698159997838\n"
          ]
        }
      ],
      "source": [
        "X_train_3, X_test_3, y_train_3, y_test_3 = train_test_split(\n",
        "    data_3.drop(\n",
        "        ['id', 'product'],\n",
        "        axis=1\n",
        "    ),\n",
        "    data_3['product'],\n",
        "    test_size = 0.25,\n",
        "    random_state = RANDOM_STATE\n",
        ")\n",
        "\n",
        "\n",
        "search_3 = GridSearchCV(\n",
        "        pipe_final,\n",
        "        params,\n",
        "        cv=5,\n",
        "        scoring='neg_root_mean_squared_error',\n",
        "        n_jobs=-1\n",
        ")\n",
        "search_3.fit(X_train_3, y_train_3)\n",
        "\n",
        "print('Третий регион')\n",
        "print('Лучшая модель и ее параметры:\\n', search_3.best_estimator_)\n",
        "print()\n",
        "print ('Метрика RMSE на кроссвалидации:', search_3.best_score_ * -1)"
      ]
    },
    {
      "cell_type": "code",
      "execution_count": null,
      "metadata": {
        "id": "BTMZiKGMElm5",
        "outputId": "fd3f296e-027b-4bd4-a082-bb8fc6235cb4"
      },
      "outputs": [
        {
          "name": "stdout",
          "output_type": "stream",
          "text": [
            "Метрика RMSE на валидационной выборке: 40.145872311342174\n",
            "Средний запас предсказанного сырья: 94.90500620148497\n",
            "Средний запас реального сырья: 95.00000000000004\n"
          ]
        },
        {
          "data": {
            "image/png": "[encoded data removed]",
            "text/plain": [
              "<Figure size 432x288 with 1 Axes>"
            ]
          },
          "metadata": {},
          "output_type": "display_data"
        }
      ],
      "source": [
        "best_model_3 = search_3.best_estimator_.named_steps['models']\n",
        "best_preprocessor_3 = search_3.best_estimator_.named_steps['preprocessor']\n",
        "\n",
        "y_pred_3 = best_model_3.predict(best_preprocessor_3.transform(X_test_3))\n",
        "print ('Метрика RMSE на валидационной выборке:',\n",
        "       mean_squared_error(y_test_3, y_pred_3, squared=False))\n",
        "\n",
        "data_3['product_pred'] = best_model_3.predict(best_preprocessor_3.transform(data_3[features]))\n",
        "print('Средний запас предсказанного сырья:', data_3['product_pred'].mean())\n",
        "print('Средний запас реального сырья:', data_3['product'].mean())\n",
        "\n",
        "sns.histplot(data_3['product_pred'] - data_3['product'], bins=50, kde=True)\n",
        "plt.title('Гистограмма и плотность расределения остатков\\nтретий регион')\n",
        "plt.show()"
      ]
    },
    {
      "cell_type": "markdown",
      "metadata": {
        "id": "wfziPrTvElm5"
      },
      "source": [
        "Модель показала сходные результаты на тестовой и валидационной выборках. Остатки модели нормально распределены со средним, близким к нулю. Среднее предсказанных значений очень близко к среднему реальных запасов.\n",
        "\n",
        "Однако среднеквадратичная ошибка очень велика. Возможно, при разведке этого региона следует уделять внимание также другим признакам.\n",
        "\n"
      ]
    },
    {
      "cell_type": "markdown",
      "source": [
        "### Вывод по шагу 2\n",
        "\n",
        "Модели показывают стабильные результаты на тестовой и валидационной выборках, значит, не произошло утечки данных и переобучения или недообучения. Их остатки нормально распределены со средним, близким к нулю. Среднее предсказанных значений очень близко к среднему реальных запасов.\n",
        "\n",
        "Однако достаточно точно удается предсказывать запасы скважин только во втором регионе. Прогнозы для первого и третьего очень неточны. Возможно, при разведке этих регионов следует уделять внимание также другим признакам или иначе подходить к моделированию."
      ],
      "metadata": {
        "id": "MbNdOqbpG1mA"
      }
    },
    {
      "cell_type": "markdown",
      "metadata": {
        "id": "Z73T1W3WElm5"
      },
      "source": [
        "## 3. Подготовка к расчету прибыли\n",
        "\n",
        "Рассчитаем, какой объем сырья будет достаточным для безубыточной разработки новой скважины."
      ]
    },
    {
      "cell_type": "code",
      "execution_count": null,
      "metadata": {
        "id": "hHzD06_qElm5",
        "outputId": "9428f506-b9c2-4e3f-9e54-aaefae4dfca0"
      },
      "outputs": [
        {
          "name": "stdout",
          "output_type": "stream",
          "text": [
            "Необходимый средний объем сырья для безубыточной разработки новой скважины: 111.11111111111111\n"
          ]
        }
      ],
      "source": [
        "INCOME = 450 # доход, получаемый с одного барреля сырья (в рублях)\n",
        "EXPENSES = 10**10 # затраты на разработку скважин в регионе (в рублях)\n",
        "NUMBER_IN = 200 # количество разрабатываемых скважин\n",
        "NUMBER_ALL = 500 # количество исследуемых скважин\n",
        "\n",
        "needed_volume = EXPENSES / INCOME / 1000 / NUMBER_IN\n",
        "\n",
        "print('Необходимый средний объем сырья для безубыточной разработки новой скважины:', needed_volume)"
      ]
    },
    {
      "cell_type": "markdown",
      "metadata": {
        "id": "xk7QU9YxElm5"
      },
      "source": [
        "\n",
        "<div class=\"alert alert-block alert-info\">\n",
        "    \n",
        "<b>Совет:</b> Константы принято записывать в ВЕРХНЕМ РЕГИСТРЕ =) Читем здесь https://pythonworld.ru/osnovy/pep-8-rukovodstvo-po-napisaniyu-koda-na-python.html#section-29\n",
        "    "
      ]
    },
    {
      "cell_type": "markdown",
      "metadata": {
        "id": "d8Ya-IqsElm5"
      },
      "source": [
        "<div class=\"alert alert-block alert-success\">\n",
        "<b>Успех:</b> Значение для безубыточной разработки посчитано верно, с выводом согласен  \n",
        "</div>\n"
      ]
    },
    {
      "cell_type": "markdown",
      "metadata": {
        "id": "MvK5gtgnElm8"
      },
      "source": [
        "### Вывод по шагу 3\n",
        "\n",
        "Таким образом, компании необходимо тщательно выбрать наиболее богатые месторождения для разработки, чтобы избежать убытка, поскольку нужный для покрытия расходов средний объем больше среднего объема запасов в каждом из регионов.\n",
        "\n"
      ]
    },
    {
      "cell_type": "markdown",
      "source": [
        "## 4. Расчет прибыли и рисков\n",
        "\n",
        "Оценим риски для каждого региона при помощи *Bootstrap*, применяя собственную функцию `calculate_profit`. Найдем 95%-е доверительные интервалы для средней прибыли. Отберем только те регионы, в которых 0.025-квантиль прибыли не будет отрицательным. Если таких окажется больше одного, выберем из них регион с наибольшей средней прибылью.\n",
        "\n",
        "Для удобства представим результаты расчетов в форме таблицы."
      ],
      "metadata": {
        "id": "GXvHtIIFHVRQ"
      }
    },
    {
      "cell_type": "code",
      "execution_count": null,
      "metadata": {
        "id": "raImakeQElm9",
        "outputId": "ec94138d-a427-4068-80f5-42da0d5b6f26"
      },
      "outputs": [
        {
          "data": {
            "text/html": [
              "<style  type=\"text/css\" >\n",
              "</style><table id=\"T_b7b67_\" ><thead>    <tr>        <th class=\"blank level0\" ></th>        <th class=\"col_heading level0 col0\" >первый_регион</th>        <th class=\"col_heading level0 col1\" >второй_регион</th>        <th class=\"col_heading level0 col2\" >третий_регион</th>    </tr></thead><tbody>\n",
              "                <tr>\n",
              "                        <th id=\"T_b7b67_level0_row0\" class=\"row_heading level0 row0\" >средняя_прибыль</th>\n",
              "                        <td id=\"T_b7b67_row0_col0\" class=\"data row0 col0\" >430604329.000</td>\n",
              "                        <td id=\"T_b7b67_row0_col1\" class=\"data row0 col1\" >450073113.000</td>\n",
              "                        <td id=\"T_b7b67_row0_col2\" class=\"data row0 col2\" >391446565.000</td>\n",
              "            </tr>\n",
              "            <tr>\n",
              "                        <th id=\"T_b7b67_level0_row1\" class=\"row_heading level0 row1\" >нижняя_граница_доверительного_интервала</th>\n",
              "                        <td id=\"T_b7b67_row1_col0\" class=\"data row1 col0\" >-69135045.000</td>\n",
              "                        <td id=\"T_b7b67_row1_col1\" class=\"data row1 col1\" >44596630.000</td>\n",
              "                        <td id=\"T_b7b67_row1_col2\" class=\"data row1 col2\" >-147332988.000</td>\n",
              "            </tr>\n",
              "            <tr>\n",
              "                        <th id=\"T_b7b67_level0_row2\" class=\"row_heading level0 row2\" >верхняя_граница_доверительного_интервала</th>\n",
              "                        <td id=\"T_b7b67_row2_col0\" class=\"data row2 col0\" >984211546.000</td>\n",
              "                        <td id=\"T_b7b67_row2_col1\" class=\"data row2 col1\" >830796302.000</td>\n",
              "                        <td id=\"T_b7b67_row2_col2\" class=\"data row2 col2\" >877712495.000</td>\n",
              "            </tr>\n",
              "            <tr>\n",
              "                        <th id=\"T_b7b67_level0_row3\" class=\"row_heading level0 row3\" >вероятность_убытка</th>\n",
              "                        <td id=\"T_b7b67_row3_col0\" class=\"data row3 col0\" >0.051</td>\n",
              "                        <td id=\"T_b7b67_row3_col1\" class=\"data row3 col1\" >0.010</td>\n",
              "                        <td id=\"T_b7b67_row3_col2\" class=\"data row3 col2\" >0.085</td>\n",
              "            </tr>\n",
              "    </tbody></table>"
            ],
            "text/plain": [
              "<pandas.io.formats.style.Styler at 0x7f1b16ed22e0>"
            ]
          },
          "metadata": {},
          "output_type": "display_data"
        }
      ],
      "source": [
        "state = np.random.RandomState(12345)\n",
        "\n",
        "profit_means = []\n",
        "low_quantilies = []\n",
        "up_quantilies = []\n",
        "loss_probabilities = []\n",
        "\n",
        "for dataframe in dataframes:\n",
        "    product_pred = dataframe['product_pred']\n",
        "    product = dataframe['product']\n",
        "    values = []\n",
        "    values_mean = []\n",
        "\n",
        "    for i in range(1000):\n",
        "        product_subsample = product.sample(n=number_all, replace=True, random_state=state)\n",
        "        product_pred_subsample = product_pred[product_subsample.index]\n",
        "        values.append(calculate_profit(\n",
        "            product_subsample,\n",
        "            product_pred_subsample,\n",
        "            income,\n",
        "            expenses,\n",
        "            number_in\n",
        "        ))\n",
        "\n",
        "    values = pd.Series(values)\n",
        "    profit_means.append(round(values.mean()))\n",
        "    low_quantilies.append(round(values.quantile(q=0.025)))\n",
        "    up_quantilies.append(round(values.quantile(q=0.975)))\n",
        "\n",
        "    values_sorted = values.sort_values(ascending=False).reset_index()\n",
        "    for i in range(1000):\n",
        "        if values_sorted[0][i] < 0:\n",
        "            loss_probabilities.append(1 - (i / 1000))\n",
        "            break\n",
        "\n",
        "df_profit = pd.DataFrame(\n",
        "    [profit_means, low_quantilies, up_quantilies, loss_probabilities],\n",
        "    columns=[\n",
        "        'первый_регион',\n",
        "        'второй_регион',\n",
        "        'третий_регион'\n",
        "    ],\n",
        "    index=[\n",
        "        'средняя_прибыль',\n",
        "        'нижняя_граница_доверительного_интервала',\n",
        "        'верхняя_граница_доверительного_интервала',\n",
        "        'вероятность_убытка'\n",
        "    ]\n",
        ")\n",
        "display(df_profit.style.format('{:.3f}'))"
      ]
    },
    {
      "cell_type": "markdown",
      "source": [
        "### Вывод по шагу 4\n",
        "\n",
        "Только во втором регионе вероятность убытка можно оценить меньше чем 2.5%. Это лучшая локация для разработки скважин.\n",
        "Привлекательность второго региона связана с высокой предсказуемостью запасов по сравнению с двумя другими регионами."
      ],
      "metadata": {
        "id": "5qqMdhHwH0dR"
      }
    },
    {
      "cell_type": "markdown",
      "metadata": {
        "id": "1ZI2NhlVElm9"
      },
      "source": [
        "\n",
        "\n",
        "## Общий вывод\n",
        "\n",
        "1. Загрузили и исследовали данные. Обнаружили:\n",
        "* Все предоставленные компанией данные соответствуют описанию, наименовая столбцов идентичны, типы данных адекватны, пропусков нет, полных дубликатов тоже нет (повторения `id` сочтены случайными).\n",
        "* Нормальными можно назвать только некоторые распределения. В данных не очень много выбросов, аномальные значения не выявлены.\n",
        "* Предобработка не потребовалась.\n",
        "* Значения признаков распределены по-разному в разных районах. Поэтому в шаге 2 потребовалось обучить свою модель для каждого района.\n",
        "* Сильных взаимосвязей между входными признаками нет ни в одном из трех регионов.\n",
        "* Целевой признак имеет следующие взаимосвязи с входными:\n",
        "\n",
        "  * в первом регионе:\n",
        "    * умеренную – с `f2`;\n",
        "    * очень слабую – с остальными входными признаками;\n",
        "  * во втором регионе:\n",
        "    * очень сильную  – с `f2`;\n",
        "    * очень слабую – с `f0`;\n",
        "    * практически отсутствующую – с `f1`;\n",
        "  * в третьем регионе:\n",
        "    * умеренную – с `f2`;\n",
        "    * практически отсутствующую – с остальными входными признаками.\n",
        "  \n",
        "2. Обучили три модели линейной регрессии:\n",
        "* Все три показали стабильные результаты на тестовой и валидационной выборках, значит, не произошло утечки данных и переобучения или недообучения.\n",
        "* Их остатки нормально распределены со средним, близким к нулю. Среднее предсказанных значений очень близко к среднему реальных запасов.\n",
        "* Достаточно точно удалось предсказывать запасы скважин только во втором регионе. Прогнозы для первого и третьего очень неточны.  \n",
        "\n",
        "3. Расчитали, какой средний запас должны иметь скважины, чтобы разработка региона не оказалась убыточной. Он оказался больше среднего объема запасов в каждом из регионов. Значит, необходимо тщательно выбрать наиболее богатые месторождения для разработки.\n",
        "\n",
        "4. Оценили вероятность убытков и среднюю прибыль в каждом из регионов. Только во втором регионе вероятность убытка можно оценить меньше чем 2.5%.\n",
        "5. Рекомендации для компании «ГлавРосГосНефть»:\n",
        "* Второй регион является лучшей локацией для разработки скважин. Его привлекательность связана с высокой предсказуемостью запасов по сравнению с двумя другими регионами, более богатыми на первый взгляд.\n",
        "* Возможно, при разведке первого и третьего регионов следует найти новые признаки или пересмотреть формат представления уже имеющихся данных, чтобы повысить точность прогнозов и снизить риски. Это поможет существенно увеличить потенциальную прибыль."
      ]
    }
  ],
  "metadata": {
    "ExecuteTimeLog": [
      {
        "duration": 3615,
        "start_time": "2024-10-21T09:38:58.326Z"
      },
      {
        "duration": 1748,
        "start_time": "2024-10-21T09:39:07.108Z"
      },
      {
        "duration": 1877,
        "start_time": "2024-10-21T09:45:00.194Z"
      },
      {
        "duration": 53,
        "start_time": "2024-10-21T09:54:49.418Z"
      },
      {
        "duration": 110,
        "start_time": "2024-10-21T09:57:14.118Z"
      },
      {
        "duration": 317,
        "start_time": "2024-10-21T09:59:15.878Z"
      },
      {
        "duration": 45,
        "start_time": "2024-10-21T10:01:34.444Z"
      },
      {
        "duration": 45,
        "start_time": "2024-10-21T10:01:45.476Z"
      },
      {
        "duration": 1133,
        "start_time": "2024-10-21T10:02:56.050Z"
      },
      {
        "duration": 13,
        "start_time": "2024-10-21T10:03:27.345Z"
      },
      {
        "duration": 3,
        "start_time": "2024-10-21T10:05:13.088Z"
      },
      {
        "duration": 25,
        "start_time": "2024-10-21T10:05:43.656Z"
      },
      {
        "duration": 25,
        "start_time": "2024-10-21T10:06:49.137Z"
      },
      {
        "duration": 29,
        "start_time": "2024-10-21T10:07:14.921Z"
      },
      {
        "duration": 37,
        "start_time": "2024-10-21T10:07:40.223Z"
      },
      {
        "duration": 32,
        "start_time": "2024-10-21T10:09:31.098Z"
      },
      {
        "duration": 27,
        "start_time": "2024-10-21T10:09:44.725Z"
      },
      {
        "duration": 71,
        "start_time": "2024-10-21T10:09:53.442Z"
      },
      {
        "duration": 36,
        "start_time": "2024-10-21T10:10:59.527Z"
      },
      {
        "duration": 231,
        "start_time": "2024-10-21T10:12:48.343Z"
      },
      {
        "duration": 6,
        "start_time": "2024-10-21T11:07:53.516Z"
      },
      {
        "duration": 10375,
        "start_time": "2024-10-21T11:10:06.771Z"
      },
      {
        "duration": 1234,
        "start_time": "2024-10-21T11:27:18.189Z"
      },
      {
        "duration": 13,
        "start_time": "2024-10-21T12:06:30.713Z"
      },
      {
        "duration": 4,
        "start_time": "2024-10-21T12:06:38.166Z"
      },
      {
        "duration": 12,
        "start_time": "2024-10-21T12:06:43.101Z"
      },
      {
        "duration": 3,
        "start_time": "2024-10-21T12:06:50.957Z"
      },
      {
        "duration": 14,
        "start_time": "2024-10-21T12:06:58.337Z"
      },
      {
        "duration": 12,
        "start_time": "2024-10-21T12:14:57.458Z"
      },
      {
        "duration": 14,
        "start_time": "2024-10-21T12:15:04.922Z"
      },
      {
        "duration": 12,
        "start_time": "2024-10-21T12:15:08.559Z"
      },
      {
        "duration": 13,
        "start_time": "2024-10-21T12:15:21.935Z"
      },
      {
        "duration": 12,
        "start_time": "2024-10-21T12:15:33.791Z"
      },
      {
        "duration": 11,
        "start_time": "2024-10-21T12:15:47.901Z"
      },
      {
        "duration": 2925,
        "start_time": "2024-10-21T12:16:09.704Z"
      },
      {
        "duration": 10,
        "start_time": "2024-10-21T12:25:21.305Z"
      },
      {
        "duration": 51,
        "start_time": "2024-10-21T12:25:52.370Z"
      },
      {
        "duration": 3,
        "start_time": "2024-10-21T12:32:13.141Z"
      },
      {
        "duration": 3,
        "start_time": "2024-10-21T12:34:21.417Z"
      },
      {
        "duration": 2964,
        "start_time": "2024-10-21T12:34:25.060Z"
      },
      {
        "duration": 4,
        "start_time": "2024-10-21T12:36:42.049Z"
      },
      {
        "duration": 2853,
        "start_time": "2024-10-21T12:36:45.875Z"
      },
      {
        "duration": 2860,
        "start_time": "2024-10-21T12:38:10.163Z"
      },
      {
        "duration": 2863,
        "start_time": "2024-10-21T12:38:28.261Z"
      },
      {
        "duration": 2545,
        "start_time": "2024-10-21T12:44:37.979Z"
      },
      {
        "duration": 2249,
        "start_time": "2024-10-21T12:44:58.973Z"
      },
      {
        "duration": 198,
        "start_time": "2024-10-21T12:45:17.749Z"
      },
      {
        "duration": 20,
        "start_time": "2024-10-21T12:54:59.419Z"
      },
      {
        "duration": 3,
        "start_time": "2024-10-21T12:55:12.450Z"
      },
      {
        "duration": 2676,
        "start_time": "2024-10-21T12:55:20.652Z"
      },
      {
        "duration": 14,
        "start_time": "2024-10-21T12:56:30.284Z"
      },
      {
        "duration": 21,
        "start_time": "2024-10-21T12:57:52.707Z"
      },
      {
        "duration": 9,
        "start_time": "2024-10-21T13:00:44.083Z"
      },
      {
        "duration": 2742,
        "start_time": "2024-10-21T13:01:41.089Z"
      },
      {
        "duration": 9,
        "start_time": "2024-10-21T13:02:40.386Z"
      },
      {
        "duration": 77,
        "start_time": "2024-10-21T13:07:48.535Z"
      },
      {
        "duration": 606,
        "start_time": "2024-10-21T13:11:45.507Z"
      },
      {
        "duration": 3001,
        "start_time": "2024-10-21T13:12:49.114Z"
      },
      {
        "duration": 561,
        "start_time": "2024-10-21T13:13:48.514Z"
      },
      {
        "duration": 502,
        "start_time": "2024-10-21T13:14:26.612Z"
      },
      {
        "duration": 547,
        "start_time": "2024-10-21T13:15:02.783Z"
      },
      {
        "duration": 14,
        "start_time": "2024-10-21T13:25:45.635Z"
      },
      {
        "duration": 9,
        "start_time": "2024-10-21T13:26:00.051Z"
      },
      {
        "duration": 1416,
        "start_time": "2024-10-21T13:33:12.422Z"
      },
      {
        "duration": 982,
        "start_time": "2024-10-21T13:33:34.426Z"
      },
      {
        "duration": 946,
        "start_time": "2024-10-21T13:34:09.646Z"
      },
      {
        "duration": 20,
        "start_time": "2024-10-21T13:37:25.669Z"
      },
      {
        "duration": 1363,
        "start_time": "2024-10-21T13:40:25.531Z"
      },
      {
        "duration": 2,
        "start_time": "2024-10-21T13:40:26.897Z"
      },
      {
        "duration": 534,
        "start_time": "2024-10-21T13:40:26.901Z"
      },
      {
        "duration": 574,
        "start_time": "2024-10-21T13:40:27.437Z"
      },
      {
        "duration": 5,
        "start_time": "2024-10-21T13:40:28.020Z"
      },
      {
        "duration": 10690,
        "start_time": "2024-10-21T13:40:28.026Z"
      },
      {
        "duration": 1226,
        "start_time": "2024-10-21T13:40:38.721Z"
      },
      {
        "duration": 4,
        "start_time": "2024-10-21T13:40:39.948Z"
      },
      {
        "duration": 2676,
        "start_time": "2024-10-21T13:40:39.953Z"
      },
      {
        "duration": 1181,
        "start_time": "2024-10-21T13:40:42.632Z"
      },
      {
        "duration": 0,
        "start_time": "2024-10-21T13:40:43.814Z"
      },
      {
        "duration": 0,
        "start_time": "2024-10-21T13:40:43.815Z"
      },
      {
        "duration": 0,
        "start_time": "2024-10-21T13:40:43.816Z"
      },
      {
        "duration": 0,
        "start_time": "2024-10-21T13:40:43.821Z"
      },
      {
        "duration": 10,
        "start_time": "2024-10-21T13:41:35.634Z"
      },
      {
        "duration": 2860,
        "start_time": "2024-10-21T13:41:40.670Z"
      },
      {
        "duration": 904,
        "start_time": "2024-10-21T13:41:50.621Z"
      },
      {
        "duration": 2609,
        "start_time": "2024-10-21T13:42:57.920Z"
      },
      {
        "duration": 847,
        "start_time": "2024-10-21T13:43:06.057Z"
      },
      {
        "duration": 1409,
        "start_time": "2024-10-21T14:04:28.400Z"
      },
      {
        "duration": 3,
        "start_time": "2024-10-21T14:04:29.810Z"
      },
      {
        "duration": 524,
        "start_time": "2024-10-21T14:04:29.814Z"
      },
      {
        "duration": 603,
        "start_time": "2024-10-21T14:04:30.339Z"
      },
      {
        "duration": 4,
        "start_time": "2024-10-21T14:04:30.944Z"
      },
      {
        "duration": 11046,
        "start_time": "2024-10-21T14:04:30.950Z"
      },
      {
        "duration": 1266,
        "start_time": "2024-10-21T14:04:41.998Z"
      },
      {
        "duration": 4,
        "start_time": "2024-10-21T14:04:43.265Z"
      },
      {
        "duration": 2858,
        "start_time": "2024-10-21T14:04:43.271Z"
      },
      {
        "duration": 953,
        "start_time": "2024-10-21T14:04:46.132Z"
      },
      {
        "duration": 2736,
        "start_time": "2024-10-21T14:04:47.086Z"
      },
      {
        "duration": 905,
        "start_time": "2024-10-21T14:04:49.824Z"
      },
      {
        "duration": 3303,
        "start_time": "2024-10-21T14:04:50.730Z"
      },
      {
        "duration": 874,
        "start_time": "2024-10-21T14:04:54.122Z"
      },
      {
        "duration": 5,
        "start_time": "2024-10-21T14:36:32.601Z"
      },
      {
        "duration": 5,
        "start_time": "2024-10-21T14:38:36.757Z"
      },
      {
        "duration": 4,
        "start_time": "2024-10-21T14:40:44.257Z"
      },
      {
        "duration": 5,
        "start_time": "2024-10-21T14:48:44.740Z"
      },
      {
        "duration": 4,
        "start_time": "2024-10-21T14:48:50.725Z"
      },
      {
        "duration": 4,
        "start_time": "2024-10-21T14:49:07.878Z"
      },
      {
        "duration": 4,
        "start_time": "2024-10-21T15:02:22.974Z"
      },
      {
        "duration": 66,
        "start_time": "2024-10-21T15:25:27.010Z"
      },
      {
        "duration": 3,
        "start_time": "2024-10-21T15:25:35.987Z"
      },
      {
        "duration": 4,
        "start_time": "2024-10-21T15:25:42.622Z"
      },
      {
        "duration": 116,
        "start_time": "2024-10-21T15:25:57.457Z"
      },
      {
        "duration": 15,
        "start_time": "2024-10-21T15:26:24.890Z"
      },
      {
        "duration": 4,
        "start_time": "2024-10-21T15:27:04.494Z"
      },
      {
        "duration": 16,
        "start_time": "2024-10-21T15:27:09.222Z"
      },
      {
        "duration": 3,
        "start_time": "2024-10-21T15:27:50.876Z"
      },
      {
        "duration": 22,
        "start_time": "2024-10-21T15:27:55.896Z"
      },
      {
        "duration": 3,
        "start_time": "2024-10-21T15:29:11.395Z"
      },
      {
        "duration": 1537,
        "start_time": "2024-10-21T15:29:17.323Z"
      },
      {
        "duration": 1543,
        "start_time": "2024-10-21T15:29:32.322Z"
      },
      {
        "duration": 3,
        "start_time": "2024-10-21T15:31:16.660Z"
      },
      {
        "duration": 1467,
        "start_time": "2024-10-21T15:33:56.091Z"
      },
      {
        "duration": 14930,
        "start_time": "2024-10-21T15:34:56.904Z"
      },
      {
        "duration": 3,
        "start_time": "2024-10-21T15:36:08.664Z"
      },
      {
        "duration": 14829,
        "start_time": "2024-10-21T15:36:13.643Z"
      },
      {
        "duration": 4,
        "start_time": "2024-10-21T15:37:00.320Z"
      },
      {
        "duration": 14962,
        "start_time": "2024-10-21T15:37:04.673Z"
      },
      {
        "duration": 6,
        "start_time": "2024-10-21T15:53:59.840Z"
      },
      {
        "duration": 45925,
        "start_time": "2024-10-21T15:54:09.039Z"
      },
      {
        "duration": 9,
        "start_time": "2024-10-21T15:54:57.580Z"
      },
      {
        "duration": 7,
        "start_time": "2024-10-21T15:55:49.282Z"
      },
      {
        "duration": 9,
        "start_time": "2024-10-21T15:56:56.667Z"
      },
      {
        "duration": 9,
        "start_time": "2024-10-21T15:58:14.361Z"
      },
      {
        "duration": 6,
        "start_time": "2024-10-22T08:59:19.339Z"
      },
      {
        "duration": 16,
        "start_time": "2024-10-22T08:59:19.347Z"
      },
      {
        "duration": 487,
        "start_time": "2024-10-22T08:59:19.365Z"
      },
      {
        "duration": 529,
        "start_time": "2024-10-22T08:59:19.854Z"
      },
      {
        "duration": 4,
        "start_time": "2024-10-22T08:59:20.385Z"
      },
      {
        "duration": 10717,
        "start_time": "2024-10-22T08:59:20.391Z"
      },
      {
        "duration": 1247,
        "start_time": "2024-10-22T08:59:31.110Z"
      },
      {
        "duration": 4,
        "start_time": "2024-10-22T08:59:32.359Z"
      },
      {
        "duration": 2958,
        "start_time": "2024-10-22T08:59:32.365Z"
      },
      {
        "duration": 877,
        "start_time": "2024-10-22T08:59:35.325Z"
      },
      {
        "duration": 3019,
        "start_time": "2024-10-22T08:59:36.203Z"
      },
      {
        "duration": 1005,
        "start_time": "2024-10-22T08:59:39.224Z"
      },
      {
        "duration": 2899,
        "start_time": "2024-10-22T08:59:40.230Z"
      },
      {
        "duration": 1051,
        "start_time": "2024-10-22T08:59:43.131Z"
      },
      {
        "duration": 3,
        "start_time": "2024-10-22T08:59:44.184Z"
      },
      {
        "duration": 9,
        "start_time": "2024-10-22T08:59:44.189Z"
      },
      {
        "duration": 15656,
        "start_time": "2024-10-22T08:59:44.199Z"
      },
      {
        "duration": 48798,
        "start_time": "2024-10-22T08:59:59.856Z"
      },
      {
        "duration": 15472,
        "start_time": "2024-10-22T09:03:18.602Z"
      },
      {
        "duration": 1187,
        "start_time": "2024-10-22T09:25:23.748Z"
      },
      {
        "duration": 10727,
        "start_time": "2024-10-22T09:29:48.578Z"
      },
      {
        "duration": 10823,
        "start_time": "2024-10-22T09:30:35.499Z"
      },
      {
        "duration": 1404,
        "start_time": "2024-10-22T09:57:50.017Z"
      },
      {
        "duration": 3,
        "start_time": "2024-10-22T09:57:51.422Z"
      },
      {
        "duration": 483,
        "start_time": "2024-10-22T09:57:51.426Z"
      },
      {
        "duration": 527,
        "start_time": "2024-10-22T09:57:51.921Z"
      },
      {
        "duration": 5,
        "start_time": "2024-10-22T09:57:52.450Z"
      },
      {
        "duration": 10598,
        "start_time": "2024-10-22T09:57:52.456Z"
      },
      {
        "duration": 1279,
        "start_time": "2024-10-22T09:58:03.056Z"
      },
      {
        "duration": 4,
        "start_time": "2024-10-22T09:58:04.337Z"
      },
      {
        "duration": 2985,
        "start_time": "2024-10-22T09:58:04.343Z"
      },
      {
        "duration": 972,
        "start_time": "2024-10-22T09:58:07.330Z"
      },
      {
        "duration": 2729,
        "start_time": "2024-10-22T09:58:08.304Z"
      },
      {
        "duration": 902,
        "start_time": "2024-10-22T09:58:11.120Z"
      },
      {
        "duration": 2902,
        "start_time": "2024-10-22T09:58:12.024Z"
      },
      {
        "duration": 1083,
        "start_time": "2024-10-22T09:58:14.930Z"
      },
      {
        "duration": 8,
        "start_time": "2024-10-22T09:58:16.014Z"
      },
      {
        "duration": 26,
        "start_time": "2024-10-22T09:58:16.024Z"
      },
      {
        "duration": 45098,
        "start_time": "2024-10-22T09:58:16.052Z"
      },
      {
        "duration": 1382,
        "start_time": "2024-10-22T10:04:24.398Z"
      },
      {
        "duration": 2,
        "start_time": "2024-10-22T10:04:25.782Z"
      },
      {
        "duration": 487,
        "start_time": "2024-10-22T10:04:25.786Z"
      },
      {
        "duration": 508,
        "start_time": "2024-10-22T10:04:26.274Z"
      },
      {
        "duration": 5,
        "start_time": "2024-10-22T10:04:26.784Z"
      },
      {
        "duration": 11042,
        "start_time": "2024-10-22T10:04:26.790Z"
      },
      {
        "duration": 1312,
        "start_time": "2024-10-22T10:04:37.833Z"
      },
      {
        "duration": 5,
        "start_time": "2024-10-22T10:04:39.147Z"
      },
      {
        "duration": 2572,
        "start_time": "2024-10-22T10:04:39.154Z"
      },
      {
        "duration": 967,
        "start_time": "2024-10-22T10:04:41.729Z"
      },
      {
        "duration": 2931,
        "start_time": "2024-10-22T10:04:42.698Z"
      },
      {
        "duration": 1019,
        "start_time": "2024-10-22T10:04:45.631Z"
      },
      {
        "duration": 2976,
        "start_time": "2024-10-22T10:04:46.652Z"
      },
      {
        "duration": 956,
        "start_time": "2024-10-22T10:04:49.632Z"
      },
      {
        "duration": 5,
        "start_time": "2024-10-22T10:04:50.589Z"
      },
      {
        "duration": 29,
        "start_time": "2024-10-22T10:04:50.595Z"
      },
      {
        "duration": 45048,
        "start_time": "2024-10-22T10:04:50.626Z"
      },
      {
        "duration": 4725,
        "start_time": "2024-10-22T10:27:28.492Z"
      },
      {
        "duration": 4624,
        "start_time": "2024-10-22T10:27:58.821Z"
      },
      {
        "duration": 1596,
        "start_time": "2024-10-22T10:50:42.943Z"
      },
      {
        "duration": 5,
        "start_time": "2024-10-22T10:51:14.723Z"
      },
      {
        "duration": 123,
        "start_time": "2024-10-22T10:53:28.031Z"
      },
      {
        "duration": 1009,
        "start_time": "2024-10-22T10:53:48.969Z"
      },
      {
        "duration": 10,
        "start_time": "2024-10-22T10:54:00.977Z"
      },
      {
        "duration": 1021,
        "start_time": "2024-10-22T10:57:11.697Z"
      },
      {
        "duration": 4,
        "start_time": "2024-10-22T10:57:41.382Z"
      },
      {
        "duration": 6,
        "start_time": "2024-10-22T10:58:37.875Z"
      },
      {
        "duration": 9,
        "start_time": "2024-10-22T10:58:41.876Z"
      },
      {
        "duration": 1504,
        "start_time": "2024-10-22T11:05:14.944Z"
      },
      {
        "duration": 4787,
        "start_time": "2024-10-22T11:07:59.478Z"
      },
      {
        "duration": 4632,
        "start_time": "2024-10-22T11:09:13.221Z"
      },
      {
        "duration": 4615,
        "start_time": "2024-10-22T11:09:39.361Z"
      },
      {
        "duration": 4576,
        "start_time": "2024-10-22T11:10:27.441Z"
      },
      {
        "duration": 4,
        "start_time": "2024-10-22T11:11:02.823Z"
      },
      {
        "duration": 4556,
        "start_time": "2024-10-22T11:11:44.898Z"
      },
      {
        "duration": 4511,
        "start_time": "2024-10-22T11:12:18.789Z"
      },
      {
        "duration": 44,
        "start_time": "2024-10-22T11:20:54.912Z"
      },
      {
        "duration": 4590,
        "start_time": "2024-10-22T11:23:24.953Z"
      },
      {
        "duration": 5,
        "start_time": "2024-10-22T11:23:38.131Z"
      },
      {
        "duration": 4556,
        "start_time": "2024-10-22T11:24:22.740Z"
      },
      {
        "duration": 6,
        "start_time": "2024-10-22T11:24:31.228Z"
      },
      {
        "duration": 1393,
        "start_time": "2024-10-22T11:27:27.336Z"
      },
      {
        "duration": 2,
        "start_time": "2024-10-22T11:27:28.731Z"
      },
      {
        "duration": 552,
        "start_time": "2024-10-22T11:27:28.734Z"
      },
      {
        "duration": 570,
        "start_time": "2024-10-22T11:27:29.288Z"
      },
      {
        "duration": 5,
        "start_time": "2024-10-22T11:27:29.860Z"
      },
      {
        "duration": 10727,
        "start_time": "2024-10-22T11:27:29.866Z"
      },
      {
        "duration": 1232,
        "start_time": "2024-10-22T11:27:40.594Z"
      },
      {
        "duration": 4,
        "start_time": "2024-10-22T11:27:41.827Z"
      },
      {
        "duration": 2793,
        "start_time": "2024-10-22T11:27:41.832Z"
      },
      {
        "duration": 964,
        "start_time": "2024-10-22T11:27:44.626Z"
      },
      {
        "duration": 2836,
        "start_time": "2024-10-22T11:27:45.592Z"
      },
      {
        "duration": 1001,
        "start_time": "2024-10-22T11:27:48.429Z"
      },
      {
        "duration": 2595,
        "start_time": "2024-10-22T11:27:49.432Z"
      },
      {
        "duration": 991,
        "start_time": "2024-10-22T11:27:52.031Z"
      },
      {
        "duration": 4,
        "start_time": "2024-10-22T11:27:53.024Z"
      },
      {
        "duration": 7,
        "start_time": "2024-10-22T11:27:53.030Z"
      },
      {
        "duration": 4594,
        "start_time": "2024-10-22T11:27:53.038Z"
      }
    ],
    "kernelspec": {
      "display_name": "Python 3 (ipykernel)",
      "language": "python",
      "name": "python3"
    },
    "language_info": {
      "codemirror_mode": {
        "name": "ipython",
        "version": 3
      },
      "file_extension": ".py",
      "mimetype": "text/x-python",
      "name": "python",
      "nbconvert_exporter": "python",
      "pygments_lexer": "ipython3",
      "version": "3.9.5"
    },
    "toc": {
      "base_numbering": 1,
      "nav_menu": {},
      "number_sections": true,
      "sideBar": true,
      "skip_h1_title": true,
      "title_cell": "Содержание",
      "title_sidebar": "Содержание",
      "toc_cell": true,
      "toc_position": {
        "height": "calc(100% - 180px)",
        "left": "10px",
        "top": "150px",
        "width": "165px"
      },
      "toc_section_display": true,
      "toc_window_display": true
    },
    "colab": {
      "provenance": [],
      "toc_visible": true
    }
  },
  "nbformat": 4,
  "nbformat_minor": 0
}