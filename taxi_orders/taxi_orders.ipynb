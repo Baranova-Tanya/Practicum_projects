{
  "cells": [
    {
      "cell_type": "markdown",
      "metadata": {
        "id": "4E8CHbo3ut6O"
      },
      "source": [
        "#  Прогнозирование заказов такси\n",
        "\n"
      ]
    },
    {
      "cell_type": "markdown",
      "source": [
        ">[Прогнозирование заказов такси](#scrollTo=4E8CHbo3ut6O)\n",
        "\n",
        ">>>[Описание проекта](#scrollTo=toofkiwpu4fw)\n",
        "\n",
        ">>>[Описание данных](#scrollTo=5x2kRdwRvCkn)\n",
        "\n",
        ">>[Подготовка](#scrollTo=jOugMH4qut6O)\n",
        "\n",
        ">>>[1.1. Импорт библиотек](#scrollTo=7HSQcqZnvRh_)\n",
        "\n",
        ">>>[1.2. Загрузка и первичный осмотр данных](#scrollTo=-tMLxqhlut6R)\n",
        "\n",
        ">>>[1.3. Предобработка](#scrollTo=bJwn8iOXvcd3)\n",
        "\n",
        ">>>[1.4. Ресемплирование](#scrollTo=NHq0pQb4vgN-)\n",
        "\n",
        ">>>[Вывод по шагу 1](#scrollTo=AnW2kw6Dut6S)\n",
        "\n",
        ">>[Анализ](#scrollTo=wzYBLLJ9vqZn)\n",
        "\n",
        ">>>[Вывод по шагу 2](#scrollTo=4ne6owz9wMT_)\n",
        "\n",
        ">>[Добавление новых признаков](#scrollTo=IAIEVcsUv3_-)\n",
        "\n",
        ">>>[Вывод по шагу 3](#scrollTo=gztuYxL0ut6Z)\n",
        "\n",
        ">>[Обучение моделей](#scrollTo=o5ub0EHmut6Z)\n",
        "\n",
        ">>>[Вывод по шагу 4](#scrollTo=_NdLOb7Fut6b)\n",
        "\n",
        ">>[Тестирование лучшей модели](#scrollTo=8sJxo-bUut6b)\n",
        "\n",
        ">>>[Вывод по шагу 5](#scrollTo=X_3q4hK3ut6c)\n",
        "\n",
        ">>[Итоговые выводы](#scrollTo=mlgEB6Rhy5cN)\n",
        "\n"
      ],
      "metadata": {
        "colab_type": "toc",
        "id": "P1YFcJt-vHAQ"
      }
    },
    {
      "cell_type": "markdown",
      "source": [
        "### Описание проекта"
      ],
      "metadata": {
        "id": "toofkiwpu4fw"
      }
    },
    {
      "cell_type": "markdown",
      "metadata": {
        "id": "tTKZDN61ut6O"
      },
      "source": [
        "Компания «Чётенькое такси» собрала исторические данные о заказах такси в аэропортах. Чтобы привлекать больше водителей в период пиковой нагрузки, нужно спрогнозировать количество заказов такси на следующий час. Построим модель для такого предсказания.\n",
        "\n",
        "Значение метрики *RMSE* на тестовой выборке должно быть не больше 48.\n",
        "\n",
        "Необходимо:\n",
        "\n",
        "1. Загрузить данные и выполнить их ресемплирование по одному часу.\n",
        "2. Проанализировать данные.\n",
        "3. Обучить разные модели с различными гиперпараметрами. Сделать тестовую выборку размером 10% от исходных данных.\n",
        "4. Проверить данные на тестовой выборке и сделать выводы.\n",
        "\n",
        "\n",
        "\n"
      ]
    },
    {
      "cell_type": "markdown",
      "source": [
        "### Описание данных\n",
        "Данные лежат в файле `taxi.csv`.\n",
        "\n",
        "\n",
        "|Название столбца|Содержащиеся данные|\n",
        "|-:|-:|\n",
        "|`datetime`|дата и время|\n",
        "|`num_orders`|количество заказов|"
      ],
      "metadata": {
        "id": "5x2kRdwRvCkn"
      }
    },
    {
      "cell_type": "markdown",
      "metadata": {
        "id": "jOugMH4qut6O"
      },
      "source": [
        "## 1. Подготовка\n",
        "\n"
      ]
    },
    {
      "cell_type": "markdown",
      "source": [
        "### 1.1. Импорт библиотек"
      ],
      "metadata": {
        "id": "7HSQcqZnvRh_"
      }
    },
    {
      "cell_type": "code",
      "execution_count": null,
      "metadata": {
        "id": "gPnVz7Hlut6P"
      },
      "outputs": [],
      "source": [
        "! pip install numpy==1.23.0 -q\n",
        "! pip install matplotlib==3.7.3 -q\n",
        "! pip install -U scikit-learn -q\n",
        "! pip install optuna -q\n",
        "! pip install optuna-integration[sklearn] -q"
      ]
    },
    {
      "cell_type": "code",
      "execution_count": null,
      "metadata": {
        "id": "q5nNnhidut6Q"
      },
      "outputs": [],
      "source": [
        "import pandas as pd\n",
        "import numpy as np\n",
        "import matplotlib.pyplot as plt\n",
        "import sklearn\n",
        "\n",
        "from statsmodels.tsa.seasonal import seasonal_decompose\n",
        "from statsmodels.graphics.tsaplots import plot_acf\n",
        "from sklearn.pipeline import Pipeline\n",
        "from sklearn.compose import ColumnTransformer\n",
        "from sklearn.preprocessing import (\n",
        "    StandardScaler,\n",
        "    RobustScaler)\n",
        "from lightgbm import LGBMRegressor\n",
        "from sklearn.svm import SVR\n",
        "from sklearn.linear_model import LinearRegression\n",
        "from sklearn.tree import DecisionTreeRegressor\n",
        "from sklearn.model_selection import (\n",
        "    RandomizedSearchCV,\n",
        "    train_test_split,\n",
        "    TimeSeriesSplit)\n",
        "from optuna.integration import OptunaSearchCV\n",
        "from optuna.distributions import (FloatDistribution, IntDistribution)\n",
        "from sklearn.metrics import mean_squared_error\n",
        "\n",
        "RANDOM_STATE = 42"
      ]
    },
    {
      "cell_type": "markdown",
      "metadata": {
        "id": "-tMLxqhlut6R"
      },
      "source": [
        "### 1.2. Загрузка и первичный осмотр данных"
      ]
    },
    {
      "cell_type": "code",
      "execution_count": null,
      "metadata": {
        "id": "nzG4j6Ygut6R",
        "outputId": "3ccd752e-a8db-45f5-95ce-b1f4728e208a"
      },
      "outputs": [
        {
          "data": {
            "text/html": [
              "<div>\n",
              "<style scoped>\n",
              "    .dataframe tbody tr th:only-of-type {\n",
              "        vertical-align: middle;\n",
              "    }\n",
              "\n",
              "    .dataframe tbody tr th {\n",
              "        vertical-align: top;\n",
              "    }\n",
              "\n",
              "    .dataframe thead th {\n",
              "        text-align: right;\n",
              "    }\n",
              "</style>\n",
              "<table border=\"1\" class=\"dataframe\">\n",
              "  <thead>\n",
              "    <tr style=\"text-align: right;\">\n",
              "      <th></th>\n",
              "      <th>datetime</th>\n",
              "      <th>num_orders</th>\n",
              "    </tr>\n",
              "  </thead>\n",
              "  <tbody>\n",
              "    <tr>\n",
              "      <th>0</th>\n",
              "      <td>2018-03-01 00:00:00</td>\n",
              "      <td>9</td>\n",
              "    </tr>\n",
              "    <tr>\n",
              "      <th>1</th>\n",
              "      <td>2018-03-01 00:10:00</td>\n",
              "      <td>14</td>\n",
              "    </tr>\n",
              "    <tr>\n",
              "      <th>2</th>\n",
              "      <td>2018-03-01 00:20:00</td>\n",
              "      <td>28</td>\n",
              "    </tr>\n",
              "    <tr>\n",
              "      <th>3</th>\n",
              "      <td>2018-03-01 00:30:00</td>\n",
              "      <td>20</td>\n",
              "    </tr>\n",
              "    <tr>\n",
              "      <th>4</th>\n",
              "      <td>2018-03-01 00:40:00</td>\n",
              "      <td>32</td>\n",
              "    </tr>\n",
              "  </tbody>\n",
              "</table>\n",
              "</div>"
            ],
            "text/plain": [
              "              datetime  num_orders\n",
              "0  2018-03-01 00:00:00           9\n",
              "1  2018-03-01 00:10:00          14\n",
              "2  2018-03-01 00:20:00          28\n",
              "3  2018-03-01 00:30:00          20\n",
              "4  2018-03-01 00:40:00          32"
            ]
          },
          "metadata": {},
          "output_type": "display_data"
        },
        {
          "name": "stdout",
          "output_type": "stream",
          "text": [
            "<class 'pandas.core.frame.DataFrame'>\n",
            "RangeIndex: 26496 entries, 0 to 26495\n",
            "Data columns (total 2 columns):\n",
            " #   Column      Non-Null Count  Dtype \n",
            "---  ------      --------------  ----- \n",
            " 0   datetime    26496 non-null  object\n",
            " 1   num_orders  26496 non-null  int64 \n",
            "dtypes: int64(1), object(1)\n",
            "memory usage: 414.1+ KB\n"
          ]
        }
      ],
      "source": [
        "taxi = pd.read_csv('/datasets/taxi.csv')\n",
        "display(taxi.head())\n",
        "taxi.info()"
      ]
    },
    {
      "cell_type": "markdown",
      "metadata": {
        "id": "Yy4wK6o2ut6R"
      },
      "source": [
        "Данные загружены, корректно отображаются, соответствуют описанию, не содержат пропусков.\n",
        "\n",
        "В ходе предобработки приведем столбец  `datetime` к соответствующему типу данных, проверим наличие дубликатов. Кроме того, проверим, за какой период имеются данные.\n",
        "\n"
      ]
    },
    {
      "cell_type": "markdown",
      "source": [
        "### 1.3. Предобработка"
      ],
      "metadata": {
        "id": "bJwn8iOXvcd3"
      }
    },
    {
      "cell_type": "code",
      "execution_count": null,
      "metadata": {
        "id": "GeFrs64mut6S",
        "outputId": "70adfa6e-28d6-4ad9-b8fe-926d7cdf25be"
      },
      "outputs": [
        {
          "name": "stdout",
          "output_type": "stream",
          "text": [
            "<class 'pandas.core.frame.DataFrame'>\n",
            "RangeIndex: 26496 entries, 0 to 26495\n",
            "Data columns (total 2 columns):\n",
            " #   Column      Non-Null Count  Dtype         \n",
            "---  ------      --------------  -----         \n",
            " 0   datetime    26496 non-null  datetime64[ns]\n",
            " 1   num_orders  26496 non-null  int64         \n",
            "dtypes: datetime64[ns](1), int64(1)\n",
            "memory usage: 414.1 KB\n"
          ]
        }
      ],
      "source": [
        "taxi['datetime'] = pd.to_datetime(taxi['datetime'])\n",
        "taxi.info()"
      ]
    },
    {
      "cell_type": "code",
      "execution_count": null,
      "metadata": {
        "id": "ol9Efp8mut6S",
        "outputId": "705cfb2a-7ba5-474b-95a8-4a077416dc77"
      },
      "outputs": [
        {
          "name": "stdout",
          "output_type": "stream",
          "text": [
            "Количество дубликатов: 0\n",
            "Данные за период: от 2018-03-01 00:00:00 до 2018-08-31 23:50:00\n"
          ]
        }
      ],
      "source": [
        "print('Количество дубликатов:', taxi['datetime'].duplicated().sum())\n",
        "start = taxi['datetime'].min()\n",
        "end = taxi['datetime'].max()\n",
        "print(f'Данные за период: от {start} до {end}')"
      ]
    },
    {
      "cell_type": "markdown",
      "metadata": {
        "id": "VBrvwAoTut6S"
      },
      "source": [
        "Теперь все типы данных соответствуют ожиданиям. Дубликатов не обнаружили. Имеются данные только за весну и лето 2018 года.\n",
        "\n",
        "Ресемплируем данные по одному часу и сформируем новые признаки.\n"
      ]
    },
    {
      "cell_type": "markdown",
      "source": [
        "### 1.4. Ресемплирование"
      ],
      "metadata": {
        "id": "NHq0pQb4vgN-"
      }
    },
    {
      "cell_type": "code",
      "execution_count": null,
      "metadata": {
        "id": "z-HTQPLbut6S",
        "outputId": "db85f4d7-5b18-41df-ab7b-95f144d87a84"
      },
      "outputs": [
        {
          "data": {
            "text/html": [
              "<div>\n",
              "<style scoped>\n",
              "    .dataframe tbody tr th:only-of-type {\n",
              "        vertical-align: middle;\n",
              "    }\n",
              "\n",
              "    .dataframe tbody tr th {\n",
              "        vertical-align: top;\n",
              "    }\n",
              "\n",
              "    .dataframe thead th {\n",
              "        text-align: right;\n",
              "    }\n",
              "</style>\n",
              "<table border=\"1\" class=\"dataframe\">\n",
              "  <thead>\n",
              "    <tr style=\"text-align: right;\">\n",
              "      <th></th>\n",
              "      <th>num_orders</th>\n",
              "    </tr>\n",
              "    <tr>\n",
              "      <th>datetime</th>\n",
              "      <th></th>\n",
              "    </tr>\n",
              "  </thead>\n",
              "  <tbody>\n",
              "    <tr>\n",
              "      <th>2018-03-01 00:00:00</th>\n",
              "      <td>124</td>\n",
              "    </tr>\n",
              "    <tr>\n",
              "      <th>2018-03-01 01:00:00</th>\n",
              "      <td>85</td>\n",
              "    </tr>\n",
              "    <tr>\n",
              "      <th>2018-03-01 02:00:00</th>\n",
              "      <td>71</td>\n",
              "    </tr>\n",
              "    <tr>\n",
              "      <th>2018-03-01 03:00:00</th>\n",
              "      <td>66</td>\n",
              "    </tr>\n",
              "    <tr>\n",
              "      <th>2018-03-01 04:00:00</th>\n",
              "      <td>43</td>\n",
              "    </tr>\n",
              "  </tbody>\n",
              "</table>\n",
              "</div>"
            ],
            "text/plain": [
              "                     num_orders\n",
              "datetime                       \n",
              "2018-03-01 00:00:00         124\n",
              "2018-03-01 01:00:00          85\n",
              "2018-03-01 02:00:00          71\n",
              "2018-03-01 03:00:00          66\n",
              "2018-03-01 04:00:00          43"
            ]
          },
          "metadata": {},
          "output_type": "display_data"
        },
        {
          "name": "stdout",
          "output_type": "stream",
          "text": [
            "<class 'pandas.core.frame.DataFrame'>\n",
            "DatetimeIndex: 4416 entries, 2018-03-01 00:00:00 to 2018-08-31 23:00:00\n",
            "Freq: H\n",
            "Data columns (total 1 columns):\n",
            " #   Column      Non-Null Count  Dtype\n",
            "---  ------      --------------  -----\n",
            " 0   num_orders  4416 non-null   int64\n",
            "dtypes: int64(1)\n",
            "memory usage: 69.0 KB\n"
          ]
        }
      ],
      "source": [
        "taxi = taxi.set_index('datetime')\n",
        "taxi.sort_index(inplace=True)\n",
        "taxi = taxi.resample('1H').sum()\n",
        "display(taxi.head())\n",
        "taxi.info()"
      ]
    },
    {
      "cell_type": "markdown",
      "metadata": {
        "id": "-o0XhRIaut6S"
      },
      "source": [
        "Ресемплирование выполнено успешно."
      ]
    },
    {
      "cell_type": "markdown",
      "metadata": {
        "id": "AnW2kw6Dut6S"
      },
      "source": [
        "### Вывод по шагу 1\n",
        "\n",
        "Имеются данные только за весну и лето 2018 года.\n",
        "Ресемплировали данные по одному часу.\n",
        "\n"
      ]
    },
    {
      "cell_type": "markdown",
      "source": [
        "## 2. Анализ\n",
        "\n",
        "Рассмотрим графики тренда и сезонных колебаний, скользящего среднего."
      ],
      "metadata": {
        "id": "wzYBLLJ9vqZn"
      }
    },
    {
      "cell_type": "code",
      "execution_count": null,
      "metadata": {
        "scrolled": true,
        "id": "1Ooe3cZtut6S",
        "outputId": "c9bfe3cc-86ff-4206-f9e1-5dc87088497e"
      },
      "outputs": [
        {
          "data": {
            "image/png": "[encoded data removed]",
            "text/plain": [
              "<Figure size 1080x720 with 3 Axes>"
            ]
          },
          "metadata": {
            "needs_background": "light"
          },
          "output_type": "display_data"
        }
      ],
      "source": [
        "decomposed = seasonal_decompose(taxi['num_orders'])\n",
        "\n",
        "plt.figure(figsize=(15, 10))\n",
        "plt.subplot(311)\n",
        "decomposed.trend.plot(ax=plt.gca())\n",
        "plt.title('Trend')\n",
        "\n",
        "plt.subplot(312)\n",
        "decomposed.trend.plot(ax=plt.gca())\n",
        "plt.title('Seasonality')\n",
        "\n",
        "plt.subplot(313)\n",
        "decomposed.seasonal.plot(ax=plt.gca())\n",
        "plt.title('Residuals')\n",
        "decomposed.resid.plot(ax=plt.gca())\n",
        "plt.tight_layout()"
      ]
    },
    {
      "cell_type": "markdown",
      "metadata": {
        "id": "DVLuJBvHut6T"
      },
      "source": [
        "В данных наблюдается тренд к увеличению, сезонность. Временной ряд нестационарный.\n",
        "Рассмотрим сезонность на меньшем промежутке времени."
      ]
    },
    {
      "cell_type": "code",
      "execution_count": null,
      "metadata": {
        "id": "krm1Fnfsut6T",
        "outputId": "29cad44f-ca63-4f55-dcc7-cf03c95543aa"
      },
      "outputs": [
        {
          "data": {
            "image/png": "[encoded data removed]",
            "text/plain": [
              "<Figure size 720x360 with 1 Axes>"
            ]
          },
          "metadata": {
            "needs_background": "light"
          },
          "output_type": "display_data"
        }
      ],
      "source": [
        "plt.figure(figsize=(10, 5))\n",
        "decomposed.seasonal['01-03-2018':'15-03-2018'].plot()\n",
        "plt.title('Seasonality')\n",
        "plt.show()"
      ]
    },
    {
      "cell_type": "markdown",
      "metadata": {
        "id": "v76CyDphut6T"
      },
      "source": [
        "Наблюдается суточная сезонность. Рассмотрим ее на еще меньшем временном промежутке."
      ]
    },
    {
      "cell_type": "code",
      "execution_count": null,
      "metadata": {
        "scrolled": true,
        "id": "bkHaJ8ZFut6T",
        "outputId": "338664ae-421f-41f0-e28a-2c1a4010e363"
      },
      "outputs": [
        {
          "data": {
            "image/png": "[encoded data removed]",
            "text/plain": [
              "<Figure size 1080x360 with 1 Axes>"
            ]
          },
          "metadata": {
            "needs_background": "light"
          },
          "output_type": "display_data"
        }
      ],
      "source": [
        "plt.figure(figsize=(15, 5))\n",
        "decomposed.seasonal['01-03-2018':'03-03-2018'].plot()\n",
        "plt.title('Seasonality (day)')\n",
        "plt.show()"
      ]
    },
    {
      "cell_type": "markdown",
      "metadata": {
        "id": "ypwgtsCuut6T"
      },
      "source": [
        "В течение суток есть три отчетливых пика заказов:\n",
        "- около полуночи;\n",
        "- незадолго до полудня (примерно в 10 часов утра);\n",
        "- приблизительно в 15-16 часов.\n",
        "Кроме того, в сутках есть 2 небольших снижения (около 12 и 18 часов) и единственное резкое падение около 6 часов.\n",
        "\n",
        "Ресемплируем данные по дню и посмотрим, есть ли недельная сезонность."
      ]
    },
    {
      "cell_type": "code",
      "execution_count": null,
      "metadata": {
        "id": "Y7wZGgkfut6T",
        "outputId": "354b1075-8f24-4547-ec05-04fcf5a19de9"
      },
      "outputs": [
        {
          "data": {
            "image/png": "[encoded data removed]",
            "text/plain": [
              "<Figure size 864x360 with 1 Axes>"
            ]
          },
          "metadata": {
            "needs_background": "light"
          },
          "output_type": "display_data"
        }
      ],
      "source": [
        "resampled_day = taxi.resample('1D').sum()\n",
        "decomposed_day = seasonal_decompose(resampled_day['num_orders'])\n",
        "\n",
        "plt.figure(figsize=(12, 5))\n",
        "plt.title('Seasonality (week)')\n",
        "decomposed_day.seasonal['01-03-2018':'31-03-2018'].plot()\n",
        "plt.tight_layout()"
      ]
    },
    {
      "cell_type": "markdown",
      "metadata": {
        "id": "BQ6kF3Jyut6T"
      },
      "source": [
        "Заметна недельная сезонность: заказов больше в понедельник, пятницу и воскресенье, меньше - во вторник и субботу.\n",
        "\n",
        "Следует добавить к входным признакам час и день недели.\n",
        "\n",
        "А также скользящее среднее. Для скользящего среднего построим график. Перед обучением моделей сместим значения, чтобы избежать утечки данных."
      ]
    },
    {
      "cell_type": "code",
      "execution_count": null,
      "metadata": {
        "id": "7xmRXdBKut6T",
        "outputId": "e7f3fa02-3f63-4758-d541-40ee2218cb01"
      },
      "outputs": [
        {
          "data": {
            "image/png": "[encoded data removed]",
            "text/plain": [
              "<Figure size 1080x360 with 1 Axes>"
            ]
          },
          "metadata": {
            "needs_background": "light"
          },
          "output_type": "display_data"
        }
      ],
      "source": [
        "taxi['rolling_mean'] = taxi['num_orders'].rolling(30, closed='left').mean()\n",
        "\n",
        "plt.figure(figsize=(15, 5))\n",
        "plt.title('Rolling mean')\n",
        "\n",
        "taxi['num_orders'].plot()\n",
        "taxi['rolling_mean'].plot()\n",
        "\n",
        "plt.ylabel('orders')\n",
        "plt.gca().legend()\n",
        "plt.show()"
      ]
    },
    {
      "cell_type": "markdown",
      "metadata": {
        "id": "-ShYVx1rut6U"
      },
      "source": [
        "Заметны выбросы, особенно значительные ближе к концу временного ряда. Прослеживается тренд к увеличению.\n",
        "\n",
        "Изучим графики автокорреляции."
      ]
    },
    {
      "cell_type": "code",
      "execution_count": null,
      "metadata": {
        "id": "zNCI5AwRut6U",
        "outputId": "680bcb5f-0142-4b53-c635-71357d9a1f2d"
      },
      "outputs": [
        {
          "data": {
            "image/png": "[encoded data removed]",
            "text/plain": [
              "<Figure size 1080x720 with 1 Axes>"
            ]
          },
          "metadata": {
            "needs_background": "light"
          },
          "output_type": "display_data"
        }
      ],
      "source": [
        "fig, axes = plt.subplots(figsize=(15, 10))\n",
        "plot_acf(taxi['num_orders'], lags=400, ax=axes)\n",
        "plt.show()"
      ]
    },
    {
      "cell_type": "markdown",
      "metadata": {
        "id": "V4l2b5jsut6U"
      },
      "source": [
        "Присутствуют регулярные повышения корреляции. Однако в 95-процентный доверительный интервал они не попадают. Тем не менее, ими можно воспользоваться, они должны быть обусловлены сезонностью. Рассмотрим аналогичный график в меньшем масштабе."
      ]
    },
    {
      "cell_type": "code",
      "execution_count": null,
      "metadata": {
        "id": "v8um9UZput6U",
        "outputId": "88574cba-9ce2-497f-b1fc-6d7cf860ad02"
      },
      "outputs": [
        {
          "data": {
            "image/png": "[encoded data removed]",
            "text/plain": [
              "<Figure size 1080x360 with 1 Axes>"
            ]
          },
          "metadata": {
            "needs_background": "light"
          },
          "output_type": "display_data"
        }
      ],
      "source": [
        "fig, axes = plt.subplots(figsize=(15, 5))\n",
        "plot_acf(taxi['num_orders'], lags=400, ax=axes)\n",
        "axes.set_xlim([20, 50])\n",
        "plt.show()"
      ]
    },
    {
      "cell_type": "markdown",
      "metadata": {
        "id": "46sORLjRut6Y"
      },
      "source": [
        "Сильная корреляция с данными за тот же час в предыдущие дни (на графике пики с промежутком 24).\n",
        "\n",
        "Рассмотрим корреляцию с данными за тот же час в соответствующий день недели."
      ]
    },
    {
      "cell_type": "code",
      "execution_count": null,
      "metadata": {
        "scrolled": true,
        "id": "jneBzjwput6Y",
        "outputId": "500c7a97-ee78-4917-fe07-faaefa32646c"
      },
      "outputs": [
        {
          "data": {
            "image/png": "[encoded data removed]",
            "text/plain": [
              "<Figure size 1080x360 with 1 Axes>"
            ]
          },
          "metadata": {
            "needs_background": "light"
          },
          "output_type": "display_data"
        }
      ],
      "source": [
        "fig, axes = plt.subplots(figsize=(15, 5))\n",
        "plot_acf(taxi['num_orders'], lags=400, ax=axes)\n",
        "axes.axvline(x=24*7*2)\n",
        "axes.axvline(x=24*7)\n",
        "axes.set_xlim([160, 350])\n",
        "plt.show()"
      ]
    },
    {
      "cell_type": "markdown",
      "metadata": {
        "id": "6FMnWkSNut6Y"
      },
      "source": [
        "Действительно, наиболее высокие пики корреляции относятся к тем же часам в те же дни недели.\n",
        "\n",
        "Стоит добавить к входным признакам отстающие значения с лагами 24 и 168.\n",
        "\n"
      ]
    },
    {
      "cell_type": "markdown",
      "source": [
        "### Вывод по шагу 2\n",
        "\n",
        "Временной ряд нестационарный. В данных наблюдается тренд к увеличению, суточная сезонность.\n",
        "\n",
        "В течение суток есть три отчетливых пика заказов:\n",
        "- около полуночи;\n",
        "- незадолго до полудня (примерно в 10 часов утра);\n",
        "- приблизительно в 15-16 часов.\n",
        "Кроме того, в сутках есть 3 снижения:\n",
        "- около 12;\n",
        "- около 18 часов;\n",
        "- резкое падение около 6 часов.\n",
        "\n",
        "Заметна недельная сезонность:\n",
        "- заказов больше в понедельник, пятницу и воскресенье;\n",
        "- меньше - во вторник и субботу.\n",
        "\n",
        "Графики автокорреляции демонстрируют сильную взаимосвязь количества заказов в определенный час с количеством заказов в тот же час день назад и неделю назад."
      ],
      "metadata": {
        "id": "4ne6owz9wMT_"
      }
    },
    {
      "cell_type": "markdown",
      "source": [
        "## 3. Добавление новых признаков\n",
        "\n",
        "Анализ показал, что для предсказания количества заказов в определенный час должны быть полезны следующие признаки:\n",
        "- день недели;\n",
        "- час;\n",
        "- предыдущие значения временного ряда с лагами 24 и 168;\n",
        "- смещенное скользящее среднее.\n",
        "\n",
        "Добавим их в датасет и удалим строки, в которых образовались пропущенные значения."
      ],
      "metadata": {
        "id": "IAIEVcsUv3_-"
      }
    },
    {
      "cell_type": "code",
      "execution_count": null,
      "metadata": {
        "id": "LHRGhBGuut6Y",
        "outputId": "cf724e3a-e41d-4622-d066-5b5061b7a476"
      },
      "outputs": [
        {
          "data": {
            "text/html": [
              "<div>\n",
              "<style scoped>\n",
              "    .dataframe tbody tr th:only-of-type {\n",
              "        vertical-align: middle;\n",
              "    }\n",
              "\n",
              "    .dataframe tbody tr th {\n",
              "        vertical-align: top;\n",
              "    }\n",
              "\n",
              "    .dataframe thead th {\n",
              "        text-align: right;\n",
              "    }\n",
              "</style>\n",
              "<table border=\"1\" class=\"dataframe\">\n",
              "  <thead>\n",
              "    <tr style=\"text-align: right;\">\n",
              "      <th></th>\n",
              "      <th>num_orders</th>\n",
              "      <th>rolling_mean</th>\n",
              "      <th>dayofweek</th>\n",
              "      <th>hour</th>\n",
              "      <th>lag_24</th>\n",
              "      <th>lag_168</th>\n",
              "      <th>rolling_mean_lag</th>\n",
              "    </tr>\n",
              "    <tr>\n",
              "      <th>datetime</th>\n",
              "      <th></th>\n",
              "      <th></th>\n",
              "      <th></th>\n",
              "      <th></th>\n",
              "      <th></th>\n",
              "      <th></th>\n",
              "      <th></th>\n",
              "    </tr>\n",
              "  </thead>\n",
              "  <tbody>\n",
              "    <tr>\n",
              "      <th>2018-03-08 00:00:00</th>\n",
              "      <td>143</td>\n",
              "      <td>60.300000</td>\n",
              "      <td>3</td>\n",
              "      <td>0</td>\n",
              "      <td>100.0</td>\n",
              "      <td>124.0</td>\n",
              "      <td>58.900000</td>\n",
              "    </tr>\n",
              "    <tr>\n",
              "      <th>2018-03-08 01:00:00</th>\n",
              "      <td>78</td>\n",
              "      <td>63.366667</td>\n",
              "      <td>3</td>\n",
              "      <td>1</td>\n",
              "      <td>121.0</td>\n",
              "      <td>85.0</td>\n",
              "      <td>60.300000</td>\n",
              "    </tr>\n",
              "    <tr>\n",
              "      <th>2018-03-08 02:00:00</th>\n",
              "      <td>65</td>\n",
              "      <td>64.366667</td>\n",
              "      <td>3</td>\n",
              "      <td>2</td>\n",
              "      <td>24.0</td>\n",
              "      <td>71.0</td>\n",
              "      <td>63.366667</td>\n",
              "    </tr>\n",
              "    <tr>\n",
              "      <th>2018-03-08 03:00:00</th>\n",
              "      <td>68</td>\n",
              "      <td>63.766667</td>\n",
              "      <td>3</td>\n",
              "      <td>3</td>\n",
              "      <td>66.0</td>\n",
              "      <td>66.0</td>\n",
              "      <td>64.366667</td>\n",
              "    </tr>\n",
              "    <tr>\n",
              "      <th>2018-03-08 04:00:00</th>\n",
              "      <td>60</td>\n",
              "      <td>64.100000</td>\n",
              "      <td>3</td>\n",
              "      <td>4</td>\n",
              "      <td>73.0</td>\n",
              "      <td>43.0</td>\n",
              "      <td>63.766667</td>\n",
              "    </tr>\n",
              "  </tbody>\n",
              "</table>\n",
              "</div>"
            ],
            "text/plain": [
              "                     num_orders  rolling_mean  dayofweek  hour  lag_24  \\\n",
              "datetime                                                                 \n",
              "2018-03-08 00:00:00         143     60.300000          3     0   100.0   \n",
              "2018-03-08 01:00:00          78     63.366667          3     1   121.0   \n",
              "2018-03-08 02:00:00          65     64.366667          3     2    24.0   \n",
              "2018-03-08 03:00:00          68     63.766667          3     3    66.0   \n",
              "2018-03-08 04:00:00          60     64.100000          3     4    73.0   \n",
              "\n",
              "                     lag_168  rolling_mean_lag  \n",
              "datetime                                        \n",
              "2018-03-08 00:00:00    124.0         58.900000  \n",
              "2018-03-08 01:00:00     85.0         60.300000  \n",
              "2018-03-08 02:00:00     71.0         63.366667  \n",
              "2018-03-08 03:00:00     66.0         64.366667  \n",
              "2018-03-08 04:00:00     43.0         63.766667  "
            ]
          },
          "metadata": {},
          "output_type": "display_data"
        },
        {
          "name": "stdout",
          "output_type": "stream",
          "text": [
            "<class 'pandas.core.frame.DataFrame'>\n",
            "DatetimeIndex: 4248 entries, 2018-03-08 00:00:00 to 2018-08-31 23:00:00\n",
            "Freq: H\n",
            "Data columns (total 7 columns):\n",
            " #   Column            Non-Null Count  Dtype  \n",
            "---  ------            --------------  -----  \n",
            " 0   num_orders        4248 non-null   int64  \n",
            " 1   rolling_mean      4248 non-null   float64\n",
            " 2   dayofweek         4248 non-null   int64  \n",
            " 3   hour              4248 non-null   int64  \n",
            " 4   lag_24            4248 non-null   float64\n",
            " 5   lag_168           4248 non-null   float64\n",
            " 6   rolling_mean_lag  4248 non-null   float64\n",
            "dtypes: float64(4), int64(3)\n",
            "memory usage: 265.5 KB\n"
          ]
        }
      ],
      "source": [
        "taxi['dayofweek'] = taxi.index.dayofweek\n",
        "taxi['hour'] = taxi.index.hour\n",
        "\n",
        "taxi['lag_24'] = taxi['num_orders'].shift(24)\n",
        "taxi['lag_168'] = taxi['num_orders'].shift(168)\n",
        "taxi['rolling_mean_lag'] = taxi['rolling_mean'].shift(1)\n",
        "\n",
        "taxi = taxi.dropna()\n",
        "display(taxi.head())\n",
        "taxi.info()"
      ]
    },
    {
      "cell_type": "markdown",
      "metadata": {
        "id": "gztuYxL0ut6Z"
      },
      "source": [
        "Добавление признаков прошло корректно.\n",
        "\n",
        "### Вывод по шагу 3\n",
        "\n",
        "На основании результатов анализа добавили новые признаки:\n",
        "1. Календарные признаки:\n",
        "- день недели;\n",
        "- час.\n",
        "2. Предыдущие значения временного ряда с лагами 24 и 168.\n",
        "3. Скользящее среднее."
      ]
    },
    {
      "cell_type": "markdown",
      "metadata": {
        "id": "o5ub0EHmut6Z"
      },
      "source": [
        "## 4. Обучение моделей\n",
        "Разделим данные на тренировочную и тестовую выборки в соотношении 9:1.\n",
        "\n",
        "Напишем пайплайн для масштабирования данных и обучения моделей:\n",
        "- `SVR`;\n",
        "- `LinearRegression`;\n",
        "- `DecisionTreeRegressor`.\n",
        "\n",
        "Выберем лучшую модель и ее гиперпараметры при помощи `RandomizedSearchCV()`, поскольку вариантов довольно много."
      ]
    },
    {
      "cell_type": "code",
      "execution_count": null,
      "metadata": {
        "id": "y13rqkT1ut6Z"
      },
      "outputs": [],
      "source": [
        "train, test = train_test_split(taxi, shuffle=False, test_size=0.1)\n",
        "\n",
        "X_train = train.drop(['num_orders', 'rolling_mean'], axis=1)\n",
        "y_train = train['num_orders']\n",
        "\n",
        "X_test = test.drop(['num_orders', 'rolling_mean'], axis=1)\n",
        "y_test = test['num_orders']"
      ]
    },
    {
      "cell_type": "code",
      "execution_count": null,
      "metadata": {
        "id": "itzwpe_cut6Z",
        "outputId": "bb8a30b5-0eca-46a5-a6d9-c59b0129b05a"
      },
      "outputs": [
        {
          "data": {
            "text/plain": [
              "Index(['num_orders', 'rolling_mean', 'dayofweek', 'hour', 'lag_24', 'lag_168',\n",
              "       'rolling_mean_lag'],\n",
              "      dtype='object')"
            ]
          },
          "execution_count": 32,
          "metadata": {},
          "output_type": "execute_result"
        }
      ],
      "source": [
        "taxi.columns"
      ]
    },
    {
      "cell_type": "code",
      "execution_count": null,
      "metadata": {
        "id": "1E-vp-HGut6Z"
      },
      "outputs": [],
      "source": [
        "scale_cols = ['lag_24',\n",
        "              'lag_168',\n",
        "              'rolling_mean_lag']\n",
        "scaler = ColumnTransformer(\n",
        "    [\n",
        "        ('num', StandardScaler(), scale_cols)\n",
        "    ],\n",
        "    remainder='passthrough'\n",
        ")"
      ]
    },
    {
      "cell_type": "code",
      "execution_count": null,
      "metadata": {
        "id": "0Sw-JgKput6Z"
      },
      "outputs": [],
      "source": [
        "pipe_final = Pipeline(\n",
        "    [('preprocessor', scaler),\n",
        "     ('models', LinearRegression())]\n",
        ")\n",
        "\n",
        "params = [\n",
        "    {\n",
        "        'models': [LinearRegression()],\n",
        "        'preprocessor__num': [StandardScaler(), RobustScaler(), 'passthrough']\n",
        "    },\n",
        "    {\n",
        "        'models': [DecisionTreeRegressor(random_state=RANDOM_STATE)],\n",
        "        'models__max_depth': range(2, 11),\n",
        "        'models__min_samples_leaf': range(2, 5),\n",
        "        'preprocessor__num': [StandardScaler(), RobustScaler(), 'passthrough']\n",
        "    },\n",
        "    {\n",
        "        'models': [SVR()],\n",
        "        'models__kernel': ['rbf', 'linear'],\n",
        "        'preprocessor__num': [StandardScaler(), RobustScaler(), 'passthrough']\n",
        "    },\n",
        "    {\n",
        "        'models': [LGBMRegressor()],\n",
        "        'models__learning_rate': [1e-8, 0.001, 0.01, 0.05, 0.1, 0.3],\n",
        "        'models__n_estimators': [100, 500, 1000],\n",
        "        'models__max_depth': [5, 10, 20],\n",
        "        'models__subsample': [1e-8, 0.001, 0.01, 0.05, 0.1],\n",
        "        'preprocessor__num': [StandardScaler(), RobustScaler(), 'passthrough']\n",
        "    }\n",
        "]"
      ]
    },
    {
      "cell_type": "code",
      "execution_count": null,
      "metadata": {
        "id": "d3rxzjk_ut6a",
        "outputId": "2fa45a06-2d68-4847-8c2d-3527283473d2"
      },
      "outputs": [
        {
          "name": "stderr",
          "output_type": "stream",
          "text": [
            "/opt/conda/lib/python3.9/site-packages/sklearn/compose/_column_transformer.py:1623: FutureWarning: \n",
            "The format of the columns of the 'remainder' transformer in ColumnTransformer.transformers_ will change in version 1.7 to match the format of the other transformers.\n",
            "At the moment the remainder columns are stored as indices (of type int). With the same ColumnTransformer configuration, in the future they will be stored as column names (of type str).\n",
            "To use the new behavior now and suppress this warning, use ColumnTransformer(force_int_remainder_cols=False).\n",
            "\n",
            "  warnings.warn(\n"
          ]
        },
        {
          "data": {
            "text/html": [
              "<style>#sk-container-id-1 {\n",
              "  /* Definition of color scheme common for light and dark mode */\n",
              "  --sklearn-color-text: black;\n",
              "  --sklearn-color-line: gray;\n",
              "  /* Definition of color scheme for unfitted estimators */\n",
              "  --sklearn-color-unfitted-level-0: #fff5e6;\n",
              "  --sklearn-color-unfitted-level-1: #f6e4d2;\n",
              "  --sklearn-color-unfitted-level-2: #ffe0b3;\n",
              "  --sklearn-color-unfitted-level-3: chocolate;\n",
              "  /* Definition of color scheme for fitted estimators */\n",
              "  --sklearn-color-fitted-level-0: #f0f8ff;\n",
              "  --sklearn-color-fitted-level-1: #d4ebff;\n",
              "  --sklearn-color-fitted-level-2: #b3dbfd;\n",
              "  --sklearn-color-fitted-level-3: cornflowerblue;\n",
              "\n",
              "  /* Specific color for light theme */\n",
              "  --sklearn-color-text-on-default-background: var(--sg-text-color, var(--theme-code-foreground, var(--jp-content-font-color1, black)));\n",
              "  --sklearn-color-background: var(--sg-background-color, var(--theme-background, var(--jp-layout-color0, white)));\n",
              "  --sklearn-color-border-box: var(--sg-text-color, var(--theme-code-foreground, var(--jp-content-font-color1, black)));\n",
              "  --sklearn-color-icon: #696969;\n",
              "\n",
              "  @media (prefers-color-scheme: dark) {\n",
              "    /* Redefinition of color scheme for dark theme */\n",
              "    --sklearn-color-text-on-default-background: var(--sg-text-color, var(--theme-code-foreground, var(--jp-content-font-color1, white)));\n",
              "    --sklearn-color-background: var(--sg-background-color, var(--theme-background, var(--jp-layout-color0, #111)));\n",
              "    --sklearn-color-border-box: var(--sg-text-color, var(--theme-code-foreground, var(--jp-content-font-color1, white)));\n",
              "    --sklearn-color-icon: #878787;\n",
              "  }\n",
              "}\n",
              "\n",
              "#sk-container-id-1 {\n",
              "  color: var(--sklearn-color-text);\n",
              "}\n",
              "\n",
              "#sk-container-id-1 pre {\n",
              "  padding: 0;\n",
              "}\n",
              "\n",
              "#sk-container-id-1 input.sk-hidden--visually {\n",
              "  border: 0;\n",
              "  clip: rect(1px 1px 1px 1px);\n",
              "  clip: rect(1px, 1px, 1px, 1px);\n",
              "  height: 1px;\n",
              "  margin: -1px;\n",
              "  overflow: hidden;\n",
              "  padding: 0;\n",
              "  position: absolute;\n",
              "  width: 1px;\n",
              "}\n",
              "\n",
              "#sk-container-id-1 div.sk-dashed-wrapped {\n",
              "  border: 1px dashed var(--sklearn-color-line);\n",
              "  margin: 0 0.4em 0.5em 0.4em;\n",
              "  box-sizing: border-box;\n",
              "  padding-bottom: 0.4em;\n",
              "  background-color: var(--sklearn-color-background);\n",
              "}\n",
              "\n",
              "#sk-container-id-1 div.sk-container {\n",
              "  /* jupyter's `normalize.less` sets `[hidden] { display: none; }`\n",
              "     but bootstrap.min.css set `[hidden] { display: none !important; }`\n",
              "     so we also need the `!important` here to be able to override the\n",
              "     default hidden behavior on the sphinx rendered scikit-learn.org.\n",
              "     See: https://github.com/scikit-learn/scikit-learn/issues/21755 */\n",
              "  display: inline-block !important;\n",
              "  position: relative;\n",
              "}\n",
              "\n",
              "#sk-container-id-1 div.sk-text-repr-fallback {\n",
              "  display: none;\n",
              "}\n",
              "\n",
              "div.sk-parallel-item,\n",
              "div.sk-serial,\n",
              "div.sk-item {\n",
              "  /* draw centered vertical line to link estimators */\n",
              "  background-image: linear-gradient(var(--sklearn-color-text-on-default-background), var(--sklearn-color-text-on-default-background));\n",
              "  background-size: 2px 100%;\n",
              "  background-repeat: no-repeat;\n",
              "  background-position: center center;\n",
              "}\n",
              "\n",
              "/* Parallel-specific style estimator block */\n",
              "\n",
              "#sk-container-id-1 div.sk-parallel-item::after {\n",
              "  content: \"\";\n",
              "  width: 100%;\n",
              "  border-bottom: 2px solid var(--sklearn-color-text-on-default-background);\n",
              "  flex-grow: 1;\n",
              "}\n",
              "\n",
              "#sk-container-id-1 div.sk-parallel {\n",
              "  display: flex;\n",
              "  align-items: stretch;\n",
              "  justify-content: center;\n",
              "  background-color: var(--sklearn-color-background);\n",
              "  position: relative;\n",
              "}\n",
              "\n",
              "#sk-container-id-1 div.sk-parallel-item {\n",
              "  display: flex;\n",
              "  flex-direction: column;\n",
              "}\n",
              "\n",
              "#sk-container-id-1 div.sk-parallel-item:first-child::after {\n",
              "  align-self: flex-end;\n",
              "  width: 50%;\n",
              "}\n",
              "\n",
              "#sk-container-id-1 div.sk-parallel-item:last-child::after {\n",
              "  align-self: flex-start;\n",
              "  width: 50%;\n",
              "}\n",
              "\n",
              "#sk-container-id-1 div.sk-parallel-item:only-child::after {\n",
              "  width: 0;\n",
              "}\n",
              "\n",
              "/* Serial-specific style estimator block */\n",
              "\n",
              "#sk-container-id-1 div.sk-serial {\n",
              "  display: flex;\n",
              "  flex-direction: column;\n",
              "  align-items: center;\n",
              "  background-color: var(--sklearn-color-background);\n",
              "  padding-right: 1em;\n",
              "  padding-left: 1em;\n",
              "}\n",
              "\n",
              "\n",
              "/* Toggleable style: style used for estimator/Pipeline/ColumnTransformer box that is\n",
              "clickable and can be expanded/collapsed.\n",
              "- Pipeline and ColumnTransformer use this feature and define the default style\n",
              "- Estimators will overwrite some part of the style using the `sk-estimator` class\n",
              "*/\n",
              "\n",
              "/* Pipeline and ColumnTransformer style (default) */\n",
              "\n",
              "#sk-container-id-1 div.sk-toggleable {\n",
              "  /* Default theme specific background. It is overwritten whether we have a\n",
              "  specific estimator or a Pipeline/ColumnTransformer */\n",
              "  background-color: var(--sklearn-color-background);\n",
              "}\n",
              "\n",
              "/* Toggleable label */\n",
              "#sk-container-id-1 label.sk-toggleable__label {\n",
              "  cursor: pointer;\n",
              "  display: block;\n",
              "  width: 100%;\n",
              "  margin-bottom: 0;\n",
              "  padding: 0.5em;\n",
              "  box-sizing: border-box;\n",
              "  text-align: center;\n",
              "}\n",
              "\n",
              "#sk-container-id-1 label.sk-toggleable__label-arrow:before {\n",
              "  /* Arrow on the left of the label */\n",
              "  content: \"▸\";\n",
              "  float: left;\n",
              "  margin-right: 0.25em;\n",
              "  color: var(--sklearn-color-icon);\n",
              "}\n",
              "\n",
              "#sk-container-id-1 label.sk-toggleable__label-arrow:hover:before {\n",
              "  color: var(--sklearn-color-text);\n",
              "}\n",
              "\n",
              "/* Toggleable content - dropdown */\n",
              "\n",
              "#sk-container-id-1 div.sk-toggleable__content {\n",
              "  max-height: 0;\n",
              "  max-width: 0;\n",
              "  overflow: hidden;\n",
              "  text-align: left;\n",
              "  /* unfitted */\n",
              "  background-color: var(--sklearn-color-unfitted-level-0);\n",
              "}\n",
              "\n",
              "#sk-container-id-1 div.sk-toggleable__content.fitted {\n",
              "  /* fitted */\n",
              "  background-color: var(--sklearn-color-fitted-level-0);\n",
              "}\n",
              "\n",
              "#sk-container-id-1 div.sk-toggleable__content pre {\n",
              "  margin: 0.2em;\n",
              "  border-radius: 0.25em;\n",
              "  color: var(--sklearn-color-text);\n",
              "  /* unfitted */\n",
              "  background-color: var(--sklearn-color-unfitted-level-0);\n",
              "}\n",
              "\n",
              "#sk-container-id-1 div.sk-toggleable__content.fitted pre {\n",
              "  /* unfitted */\n",
              "  background-color: var(--sklearn-color-fitted-level-0);\n",
              "}\n",
              "\n",
              "#sk-container-id-1 input.sk-toggleable__control:checked~div.sk-toggleable__content {\n",
              "  /* Expand drop-down */\n",
              "  max-height: 200px;\n",
              "  max-width: 100%;\n",
              "  overflow: auto;\n",
              "}\n",
              "\n",
              "#sk-container-id-1 input.sk-toggleable__control:checked~label.sk-toggleable__label-arrow:before {\n",
              "  content: \"▾\";\n",
              "}\n",
              "\n",
              "/* Pipeline/ColumnTransformer-specific style */\n",
              "\n",
              "#sk-container-id-1 div.sk-label input.sk-toggleable__control:checked~label.sk-toggleable__label {\n",
              "  color: var(--sklearn-color-text);\n",
              "  background-color: var(--sklearn-color-unfitted-level-2);\n",
              "}\n",
              "\n",
              "#sk-container-id-1 div.sk-label.fitted input.sk-toggleable__control:checked~label.sk-toggleable__label {\n",
              "  background-color: var(--sklearn-color-fitted-level-2);\n",
              "}\n",
              "\n",
              "/* Estimator-specific style */\n",
              "\n",
              "/* Colorize estimator box */\n",
              "#sk-container-id-1 div.sk-estimator input.sk-toggleable__control:checked~label.sk-toggleable__label {\n",
              "  /* unfitted */\n",
              "  background-color: var(--sklearn-color-unfitted-level-2);\n",
              "}\n",
              "\n",
              "#sk-container-id-1 div.sk-estimator.fitted input.sk-toggleable__control:checked~label.sk-toggleable__label {\n",
              "  /* fitted */\n",
              "  background-color: var(--sklearn-color-fitted-level-2);\n",
              "}\n",
              "\n",
              "#sk-container-id-1 div.sk-label label.sk-toggleable__label,\n",
              "#sk-container-id-1 div.sk-label label {\n",
              "  /* The background is the default theme color */\n",
              "  color: var(--sklearn-color-text-on-default-background);\n",
              "}\n",
              "\n",
              "/* On hover, darken the color of the background */\n",
              "#sk-container-id-1 div.sk-label:hover label.sk-toggleable__label {\n",
              "  color: var(--sklearn-color-text);\n",
              "  background-color: var(--sklearn-color-unfitted-level-2);\n",
              "}\n",
              "\n",
              "/* Label box, darken color on hover, fitted */\n",
              "#sk-container-id-1 div.sk-label.fitted:hover label.sk-toggleable__label.fitted {\n",
              "  color: var(--sklearn-color-text);\n",
              "  background-color: var(--sklearn-color-fitted-level-2);\n",
              "}\n",
              "\n",
              "/* Estimator label */\n",
              "\n",
              "#sk-container-id-1 div.sk-label label {\n",
              "  font-family: monospace;\n",
              "  font-weight: bold;\n",
              "  display: inline-block;\n",
              "  line-height: 1.2em;\n",
              "}\n",
              "\n",
              "#sk-container-id-1 div.sk-label-container {\n",
              "  text-align: center;\n",
              "}\n",
              "\n",
              "/* Estimator-specific */\n",
              "#sk-container-id-1 div.sk-estimator {\n",
              "  font-family: monospace;\n",
              "  border: 1px dotted var(--sklearn-color-border-box);\n",
              "  border-radius: 0.25em;\n",
              "  box-sizing: border-box;\n",
              "  margin-bottom: 0.5em;\n",
              "  /* unfitted */\n",
              "  background-color: var(--sklearn-color-unfitted-level-0);\n",
              "}\n",
              "\n",
              "#sk-container-id-1 div.sk-estimator.fitted {\n",
              "  /* fitted */\n",
              "  background-color: var(--sklearn-color-fitted-level-0);\n",
              "}\n",
              "\n",
              "/* on hover */\n",
              "#sk-container-id-1 div.sk-estimator:hover {\n",
              "  /* unfitted */\n",
              "  background-color: var(--sklearn-color-unfitted-level-2);\n",
              "}\n",
              "\n",
              "#sk-container-id-1 div.sk-estimator.fitted:hover {\n",
              "  /* fitted */\n",
              "  background-color: var(--sklearn-color-fitted-level-2);\n",
              "}\n",
              "\n",
              "/* Specification for estimator info (e.g. \"i\" and \"?\") */\n",
              "\n",
              "/* Common style for \"i\" and \"?\" */\n",
              "\n",
              ".sk-estimator-doc-link,\n",
              "a:link.sk-estimator-doc-link,\n",
              "a:visited.sk-estimator-doc-link {\n",
              "  float: right;\n",
              "  font-size: smaller;\n",
              "  line-height: 1em;\n",
              "  font-family: monospace;\n",
              "  background-color: var(--sklearn-color-background);\n",
              "  border-radius: 1em;\n",
              "  height: 1em;\n",
              "  width: 1em;\n",
              "  text-decoration: none !important;\n",
              "  margin-left: 1ex;\n",
              "  /* unfitted */\n",
              "  border: var(--sklearn-color-unfitted-level-1) 1pt solid;\n",
              "  color: var(--sklearn-color-unfitted-level-1);\n",
              "}\n",
              "\n",
              ".sk-estimator-doc-link.fitted,\n",
              "a:link.sk-estimator-doc-link.fitted,\n",
              "a:visited.sk-estimator-doc-link.fitted {\n",
              "  /* fitted */\n",
              "  border: var(--sklearn-color-fitted-level-1) 1pt solid;\n",
              "  color: var(--sklearn-color-fitted-level-1);\n",
              "}\n",
              "\n",
              "/* On hover */\n",
              "div.sk-estimator:hover .sk-estimator-doc-link:hover,\n",
              ".sk-estimator-doc-link:hover,\n",
              "div.sk-label-container:hover .sk-estimator-doc-link:hover,\n",
              ".sk-estimator-doc-link:hover {\n",
              "  /* unfitted */\n",
              "  background-color: var(--sklearn-color-unfitted-level-3);\n",
              "  color: var(--sklearn-color-background);\n",
              "  text-decoration: none;\n",
              "}\n",
              "\n",
              "div.sk-estimator.fitted:hover .sk-estimator-doc-link.fitted:hover,\n",
              ".sk-estimator-doc-link.fitted:hover,\n",
              "div.sk-label-container:hover .sk-estimator-doc-link.fitted:hover,\n",
              ".sk-estimator-doc-link.fitted:hover {\n",
              "  /* fitted */\n",
              "  background-color: var(--sklearn-color-fitted-level-3);\n",
              "  color: var(--sklearn-color-background);\n",
              "  text-decoration: none;\n",
              "}\n",
              "\n",
              "/* Span, style for the box shown on hovering the info icon */\n",
              ".sk-estimator-doc-link span {\n",
              "  display: none;\n",
              "  z-index: 9999;\n",
              "  position: relative;\n",
              "  font-weight: normal;\n",
              "  right: .2ex;\n",
              "  padding: .5ex;\n",
              "  margin: .5ex;\n",
              "  width: min-content;\n",
              "  min-width: 20ex;\n",
              "  max-width: 50ex;\n",
              "  color: var(--sklearn-color-text);\n",
              "  box-shadow: 2pt 2pt 4pt #999;\n",
              "  /* unfitted */\n",
              "  background: var(--sklearn-color-unfitted-level-0);\n",
              "  border: .5pt solid var(--sklearn-color-unfitted-level-3);\n",
              "}\n",
              "\n",
              ".sk-estimator-doc-link.fitted span {\n",
              "  /* fitted */\n",
              "  background: var(--sklearn-color-fitted-level-0);\n",
              "  border: var(--sklearn-color-fitted-level-3);\n",
              "}\n",
              "\n",
              ".sk-estimator-doc-link:hover span {\n",
              "  display: block;\n",
              "}\n",
              "\n",
              "/* \"?\"-specific style due to the `<a>` HTML tag */\n",
              "\n",
              "#sk-container-id-1 a.estimator_doc_link {\n",
              "  float: right;\n",
              "  font-size: 1rem;\n",
              "  line-height: 1em;\n",
              "  font-family: monospace;\n",
              "  background-color: var(--sklearn-color-background);\n",
              "  border-radius: 1rem;\n",
              "  height: 1rem;\n",
              "  width: 1rem;\n",
              "  text-decoration: none;\n",
              "  /* unfitted */\n",
              "  color: var(--sklearn-color-unfitted-level-1);\n",
              "  border: var(--sklearn-color-unfitted-level-1) 1pt solid;\n",
              "}\n",
              "\n",
              "#sk-container-id-1 a.estimator_doc_link.fitted {\n",
              "  /* fitted */\n",
              "  border: var(--sklearn-color-fitted-level-1) 1pt solid;\n",
              "  color: var(--sklearn-color-fitted-level-1);\n",
              "}\n",
              "\n",
              "/* On hover */\n",
              "#sk-container-id-1 a.estimator_doc_link:hover {\n",
              "  /* unfitted */\n",
              "  background-color: var(--sklearn-color-unfitted-level-3);\n",
              "  color: var(--sklearn-color-background);\n",
              "  text-decoration: none;\n",
              "}\n",
              "\n",
              "#sk-container-id-1 a.estimator_doc_link.fitted:hover {\n",
              "  /* fitted */\n",
              "  background-color: var(--sklearn-color-fitted-level-3);\n",
              "}\n",
              "</style><div id=\"sk-container-id-1\" class=\"sk-top-container\"><div class=\"sk-text-repr-fallback\"><pre>RandomizedSearchCV(cv=TimeSeriesSplit(gap=0, max_train_size=None, n_splits=3, test_size=None),\n",
              "                   estimator=Pipeline(steps=[(&#x27;preprocessor&#x27;,\n",
              "                                              ColumnTransformer(remainder=&#x27;passthrough&#x27;,\n",
              "                                                                transformers=[(&#x27;num&#x27;,\n",
              "                                                                               StandardScaler(),\n",
              "                                                                               [&#x27;lag_24&#x27;,\n",
              "                                                                                &#x27;lag_168&#x27;,\n",
              "                                                                                &#x27;rolling_mean_lag&#x27;])])),\n",
              "                                             (&#x27;models&#x27;, LinearRegression())]),\n",
              "                   n_iter=20, n_jobs=-1,\n",
              "                   param_distributions=[{&#x27;models&#x27;: [LinearReg...\n",
              "                                                               RobustScaler(),\n",
              "                                                               &#x27;passthrough&#x27;]},\n",
              "                                        {&#x27;models&#x27;: [LGBMRegressor()],\n",
              "                                         &#x27;models__learning_rate&#x27;: [1e-08, 0.001,\n",
              "                                                                   0.01, 0.05,\n",
              "                                                                   0.1, 0.3],\n",
              "                                         &#x27;models__max_depth&#x27;: [5, 10, 20],\n",
              "                                         &#x27;models__n_estimators&#x27;: [100, 500,\n",
              "                                                                  1000],\n",
              "                                         &#x27;models__subsample&#x27;: [1e-08, 0.001,\n",
              "                                                               0.01, 0.05,\n",
              "                                                               0.1],\n",
              "                                         &#x27;preprocessor__num&#x27;: [StandardScaler(),\n",
              "                                                               RobustScaler(),\n",
              "                                                               &#x27;passthrough&#x27;]}],\n",
              "                   random_state=42, scoring=&#x27;neg_root_mean_squared_error&#x27;)</pre><b>In a Jupyter environment, please rerun this cell to show the HTML representation or trust the notebook. <br />On GitHub, the HTML representation is unable to render, please try loading this page with nbviewer.org.</b></div><div class=\"sk-container\" hidden><div class=\"sk-item sk-dashed-wrapped\"><div class=\"sk-label-container\"><div class=\"sk-label fitted sk-toggleable\"><input class=\"sk-toggleable__control sk-hidden--visually\" id=\"sk-estimator-id-1\" type=\"checkbox\" ><label for=\"sk-estimator-id-1\" class=\"sk-toggleable__label fitted sk-toggleable__label-arrow fitted\">&nbsp;&nbsp;RandomizedSearchCV<a class=\"sk-estimator-doc-link fitted\" rel=\"noreferrer\" target=\"_blank\" href=\"https://scikit-learn.org/1.5/modules/generated/sklearn.model_selection.RandomizedSearchCV.html\">?<span>Documentation for RandomizedSearchCV</span></a><span class=\"sk-estimator-doc-link fitted\">i<span>Fitted</span></span></label><div class=\"sk-toggleable__content fitted\"><pre>RandomizedSearchCV(cv=TimeSeriesSplit(gap=0, max_train_size=None, n_splits=3, test_size=None),\n",
              "                   estimator=Pipeline(steps=[(&#x27;preprocessor&#x27;,\n",
              "                                              ColumnTransformer(remainder=&#x27;passthrough&#x27;,\n",
              "                                                                transformers=[(&#x27;num&#x27;,\n",
              "                                                                               StandardScaler(),\n",
              "                                                                               [&#x27;lag_24&#x27;,\n",
              "                                                                                &#x27;lag_168&#x27;,\n",
              "                                                                                &#x27;rolling_mean_lag&#x27;])])),\n",
              "                                             (&#x27;models&#x27;, LinearRegression())]),\n",
              "                   n_iter=20, n_jobs=-1,\n",
              "                   param_distributions=[{&#x27;models&#x27;: [LinearReg...\n",
              "                                                               RobustScaler(),\n",
              "                                                               &#x27;passthrough&#x27;]},\n",
              "                                        {&#x27;models&#x27;: [LGBMRegressor()],\n",
              "                                         &#x27;models__learning_rate&#x27;: [1e-08, 0.001,\n",
              "                                                                   0.01, 0.05,\n",
              "                                                                   0.1, 0.3],\n",
              "                                         &#x27;models__max_depth&#x27;: [5, 10, 20],\n",
              "                                         &#x27;models__n_estimators&#x27;: [100, 500,\n",
              "                                                                  1000],\n",
              "                                         &#x27;models__subsample&#x27;: [1e-08, 0.001,\n",
              "                                                               0.01, 0.05,\n",
              "                                                               0.1],\n",
              "                                         &#x27;preprocessor__num&#x27;: [StandardScaler(),\n",
              "                                                               RobustScaler(),\n",
              "                                                               &#x27;passthrough&#x27;]}],\n",
              "                   random_state=42, scoring=&#x27;neg_root_mean_squared_error&#x27;)</pre></div> </div></div><div class=\"sk-parallel\"><div class=\"sk-parallel-item\"><div class=\"sk-item\"><div class=\"sk-label-container\"><div class=\"sk-label fitted sk-toggleable\"><input class=\"sk-toggleable__control sk-hidden--visually\" id=\"sk-estimator-id-2\" type=\"checkbox\" ><label for=\"sk-estimator-id-2\" class=\"sk-toggleable__label fitted sk-toggleable__label-arrow fitted\">best_estimator_: Pipeline</label><div class=\"sk-toggleable__content fitted\"><pre>Pipeline(steps=[(&#x27;preprocessor&#x27;,\n",
              "                 ColumnTransformer(remainder=&#x27;passthrough&#x27;,\n",
              "                                   transformers=[(&#x27;num&#x27;, &#x27;passthrough&#x27;,\n",
              "                                                  [&#x27;lag_24&#x27;, &#x27;lag_168&#x27;,\n",
              "                                                   &#x27;rolling_mean_lag&#x27;])])),\n",
              "                (&#x27;models&#x27;,\n",
              "                 LGBMRegressor(learning_rate=0.05, max_depth=20,\n",
              "                               subsample=0.001))])</pre></div> </div></div><div class=\"sk-serial\"><div class=\"sk-item\"><div class=\"sk-serial\"><div class=\"sk-item sk-dashed-wrapped\"><div class=\"sk-label-container\"><div class=\"sk-label fitted sk-toggleable\"><input class=\"sk-toggleable__control sk-hidden--visually\" id=\"sk-estimator-id-3\" type=\"checkbox\" ><label for=\"sk-estimator-id-3\" class=\"sk-toggleable__label fitted sk-toggleable__label-arrow fitted\">&nbsp;preprocessor: ColumnTransformer<a class=\"sk-estimator-doc-link fitted\" rel=\"noreferrer\" target=\"_blank\" href=\"https://scikit-learn.org/1.5/modules/generated/sklearn.compose.ColumnTransformer.html\">?<span>Documentation for preprocessor: ColumnTransformer</span></a></label><div class=\"sk-toggleable__content fitted\"><pre>ColumnTransformer(remainder=&#x27;passthrough&#x27;,\n",
              "                  transformers=[(&#x27;num&#x27;, &#x27;passthrough&#x27;,\n",
              "                                 [&#x27;lag_24&#x27;, &#x27;lag_168&#x27;, &#x27;rolling_mean_lag&#x27;])])</pre></div> </div></div><div class=\"sk-parallel\"><div class=\"sk-parallel-item\"><div class=\"sk-item\"><div class=\"sk-label-container\"><div class=\"sk-label fitted sk-toggleable\"><input class=\"sk-toggleable__control sk-hidden--visually\" id=\"sk-estimator-id-4\" type=\"checkbox\" ><label for=\"sk-estimator-id-4\" class=\"sk-toggleable__label fitted sk-toggleable__label-arrow fitted\">num</label><div class=\"sk-toggleable__content fitted\"><pre>[&#x27;lag_24&#x27;, &#x27;lag_168&#x27;, &#x27;rolling_mean_lag&#x27;]</pre></div> </div></div><div class=\"sk-serial\"><div class=\"sk-item\"><div class=\"sk-estimator fitted sk-toggleable\"><input class=\"sk-toggleable__control sk-hidden--visually\" id=\"sk-estimator-id-5\" type=\"checkbox\" ><label for=\"sk-estimator-id-5\" class=\"sk-toggleable__label fitted sk-toggleable__label-arrow fitted\">passthrough</label><div class=\"sk-toggleable__content fitted\"><pre>passthrough</pre></div> </div></div></div></div></div><div class=\"sk-parallel-item\"><div class=\"sk-item\"><div class=\"sk-label-container\"><div class=\"sk-label fitted sk-toggleable\"><input class=\"sk-toggleable__control sk-hidden--visually\" id=\"sk-estimator-id-6\" type=\"checkbox\" ><label for=\"sk-estimator-id-6\" class=\"sk-toggleable__label fitted sk-toggleable__label-arrow fitted\">remainder</label><div class=\"sk-toggleable__content fitted\"><pre>[&#x27;dayofweek&#x27;, &#x27;hour&#x27;]</pre></div> </div></div><div class=\"sk-serial\"><div class=\"sk-item\"><div class=\"sk-estimator fitted sk-toggleable\"><input class=\"sk-toggleable__control sk-hidden--visually\" id=\"sk-estimator-id-7\" type=\"checkbox\" ><label for=\"sk-estimator-id-7\" class=\"sk-toggleable__label fitted sk-toggleable__label-arrow fitted\">passthrough</label><div class=\"sk-toggleable__content fitted\"><pre>passthrough</pre></div> </div></div></div></div></div></div></div><div class=\"sk-item\"><div class=\"sk-estimator fitted sk-toggleable\"><input class=\"sk-toggleable__control sk-hidden--visually\" id=\"sk-estimator-id-8\" type=\"checkbox\" ><label for=\"sk-estimator-id-8\" class=\"sk-toggleable__label fitted sk-toggleable__label-arrow fitted\">LGBMRegressor</label><div class=\"sk-toggleable__content fitted\"><pre>LGBMRegressor(learning_rate=0.05, max_depth=20, subsample=0.001)</pre></div> </div></div></div></div></div></div></div></div></div></div></div>"
            ],
            "text/plain": [
              "RandomizedSearchCV(cv=TimeSeriesSplit(gap=0, max_train_size=None, n_splits=3, test_size=None),\n",
              "                   estimator=Pipeline(steps=[('preprocessor',\n",
              "                                              ColumnTransformer(remainder='passthrough',\n",
              "                                                                transformers=[('num',\n",
              "                                                                               StandardScaler(),\n",
              "                                                                               ['lag_24',\n",
              "                                                                                'lag_168',\n",
              "                                                                                'rolling_mean_lag'])])),\n",
              "                                             ('models', LinearRegression())]),\n",
              "                   n_iter=20, n_jobs=-1,\n",
              "                   param_distributions=[{'models': [LinearReg...\n",
              "                                                               RobustScaler(),\n",
              "                                                               'passthrough']},\n",
              "                                        {'models': [LGBMRegressor()],\n",
              "                                         'models__learning_rate': [1e-08, 0.001,\n",
              "                                                                   0.01, 0.05,\n",
              "                                                                   0.1, 0.3],\n",
              "                                         'models__max_depth': [5, 10, 20],\n",
              "                                         'models__n_estimators': [100, 500,\n",
              "                                                                  1000],\n",
              "                                         'models__subsample': [1e-08, 0.001,\n",
              "                                                               0.01, 0.05,\n",
              "                                                               0.1],\n",
              "                                         'preprocessor__num': [StandardScaler(),\n",
              "                                                               RobustScaler(),\n",
              "                                                               'passthrough']}],\n",
              "                   random_state=42, scoring='neg_root_mean_squared_error')"
            ]
          },
          "execution_count": 37,
          "metadata": {},
          "output_type": "execute_result"
        }
      ],
      "source": [
        "search = RandomizedSearchCV(\n",
        "        pipe_final,\n",
        "        params,\n",
        "        cv=TimeSeriesSplit(n_splits=3),\n",
        "        scoring='neg_root_mean_squared_error',\n",
        "        n_iter=20,\n",
        "        n_jobs=-1,\n",
        "        random_state=RANDOM_STATE\n",
        "    )\n",
        "search.fit(X_train, y_train)"
      ]
    },
    {
      "cell_type": "code",
      "execution_count": null,
      "metadata": {
        "id": "HOebgh0Zut6a",
        "outputId": "c22544ec-3716-4e1b-a1fc-6af9bf4d8562"
      },
      "outputs": [
        {
          "name": "stdout",
          "output_type": "stream",
          "text": [
            "Лучшая модель и ее параметры:\n",
            " Pipeline(steps=[('preprocessor',\n",
            "                 ColumnTransformer(remainder='passthrough',\n",
            "                                   transformers=[('num', 'passthrough',\n",
            "                                                  ['lag_24', 'lag_168',\n",
            "                                                   'rolling_mean_lag'])])),\n",
            "                ('models',\n",
            "                 LGBMRegressor(learning_rate=0.05, max_depth=20,\n",
            "                               subsample=0.001))])\n",
            "{'preprocessor__num': 'passthrough', 'models__subsample': 0.001, 'models__n_estimators': 100, 'models__max_depth': 20, 'models__learning_rate': 0.05, 'models': LGBMRegressor()}\n",
            "\n",
            "Метрика RMSE лучшей модели на кроссвалидации: 24.639294565582688\n"
          ]
        }
      ],
      "source": [
        "best_estimator = search.best_estimator_\n",
        "print('Лучшая модель и ее параметры:\\n', best_estimator)\n",
        "print(search.best_params_)\n",
        "print()\n",
        "print ('Метрика RMSE лучшей модели на кроссвалидации:',\n",
        "       search.best_score_ * -1)"
      ]
    },
    {
      "cell_type": "code",
      "execution_count": null,
      "metadata": {
        "id": "9RFpJc7qut6a",
        "outputId": "99b6086e-7fd3-4ba2-dd53-a9f0623ee75b"
      },
      "outputs": [
        {
          "data": {
            "text/html": [
              "<div>\n",
              "<style scoped>\n",
              "    .dataframe tbody tr th:only-of-type {\n",
              "        vertical-align: middle;\n",
              "    }\n",
              "\n",
              "    .dataframe tbody tr th {\n",
              "        vertical-align: top;\n",
              "    }\n",
              "\n",
              "    .dataframe thead th {\n",
              "        text-align: right;\n",
              "    }\n",
              "</style>\n",
              "<table border=\"1\" class=\"dataframe\">\n",
              "  <thead>\n",
              "    <tr style=\"text-align: right;\">\n",
              "      <th></th>\n",
              "      <th>param_models</th>\n",
              "      <th>param_preprocessor__num</th>\n",
              "      <th>param_models__min_samples_leaf</th>\n",
              "      <th>param_models__max_depth</th>\n",
              "      <th>param_models__kernel</th>\n",
              "      <th>mean_test_score</th>\n",
              "    </tr>\n",
              "  </thead>\n",
              "  <tbody>\n",
              "    <tr>\n",
              "      <th>10</th>\n",
              "      <td>LGBMRegressor()</td>\n",
              "      <td>RobustScaler()</td>\n",
              "      <td>NaN</td>\n",
              "      <td>10.0</td>\n",
              "      <td>NaN</td>\n",
              "      <td>-42.670729</td>\n",
              "    </tr>\n",
              "    <tr>\n",
              "      <th>7</th>\n",
              "      <td>LGBMRegressor()</td>\n",
              "      <td>passthrough</td>\n",
              "      <td>NaN</td>\n",
              "      <td>5.0</td>\n",
              "      <td>NaN</td>\n",
              "      <td>-42.670628</td>\n",
              "    </tr>\n",
              "    <tr>\n",
              "      <th>13</th>\n",
              "      <td>LGBMRegressor()</td>\n",
              "      <td>StandardScaler()</td>\n",
              "      <td>NaN</td>\n",
              "      <td>5.0</td>\n",
              "      <td>NaN</td>\n",
              "      <td>-42.670501</td>\n",
              "    </tr>\n",
              "    <tr>\n",
              "      <th>16</th>\n",
              "      <td>LGBMRegressor()</td>\n",
              "      <td>StandardScaler()</td>\n",
              "      <td>NaN</td>\n",
              "      <td>10.0</td>\n",
              "      <td>NaN</td>\n",
              "      <td>-42.670495</td>\n",
              "    </tr>\n",
              "    <tr>\n",
              "      <th>2</th>\n",
              "      <td>LGBMRegressor()</td>\n",
              "      <td>StandardScaler()</td>\n",
              "      <td>NaN</td>\n",
              "      <td>5.0</td>\n",
              "      <td>NaN</td>\n",
              "      <td>-40.248129</td>\n",
              "    </tr>\n",
              "    <tr>\n",
              "      <th>6</th>\n",
              "      <td>LGBMRegressor()</td>\n",
              "      <td>passthrough</td>\n",
              "      <td>NaN</td>\n",
              "      <td>10.0</td>\n",
              "      <td>NaN</td>\n",
              "      <td>-33.161093</td>\n",
              "    </tr>\n",
              "    <tr>\n",
              "      <th>19</th>\n",
              "      <td>DecisionTreeRegressor(random_state=42)</td>\n",
              "      <td>RobustScaler()</td>\n",
              "      <td>2.0</td>\n",
              "      <td>9.0</td>\n",
              "      <td>NaN</td>\n",
              "      <td>-31.315918</td>\n",
              "    </tr>\n",
              "    <tr>\n",
              "      <th>0</th>\n",
              "      <td>DecisionTreeRegressor(random_state=42)</td>\n",
              "      <td>RobustScaler()</td>\n",
              "      <td>3.0</td>\n",
              "      <td>9.0</td>\n",
              "      <td>NaN</td>\n",
              "      <td>-29.603060</td>\n",
              "    </tr>\n",
              "    <tr>\n",
              "      <th>9</th>\n",
              "      <td>SVR()</td>\n",
              "      <td>passthrough</td>\n",
              "      <td>NaN</td>\n",
              "      <td>NaN</td>\n",
              "      <td>rbf</td>\n",
              "      <td>-29.264484</td>\n",
              "    </tr>\n",
              "    <tr>\n",
              "      <th>8</th>\n",
              "      <td>DecisionTreeRegressor(random_state=42)</td>\n",
              "      <td>StandardScaler()</td>\n",
              "      <td>4.0</td>\n",
              "      <td>9.0</td>\n",
              "      <td>NaN</td>\n",
              "      <td>-28.685863</td>\n",
              "    </tr>\n",
              "    <tr>\n",
              "      <th>12</th>\n",
              "      <td>LGBMRegressor()</td>\n",
              "      <td>StandardScaler()</td>\n",
              "      <td>NaN</td>\n",
              "      <td>5.0</td>\n",
              "      <td>NaN</td>\n",
              "      <td>-28.202827</td>\n",
              "    </tr>\n",
              "    <tr>\n",
              "      <th>1</th>\n",
              "      <td>LGBMRegressor()</td>\n",
              "      <td>passthrough</td>\n",
              "      <td>NaN</td>\n",
              "      <td>10.0</td>\n",
              "      <td>NaN</td>\n",
              "      <td>-27.963667</td>\n",
              "    </tr>\n",
              "    <tr>\n",
              "      <th>14</th>\n",
              "      <td>LGBMRegressor()</td>\n",
              "      <td>StandardScaler()</td>\n",
              "      <td>NaN</td>\n",
              "      <td>10.0</td>\n",
              "      <td>NaN</td>\n",
              "      <td>-27.210041</td>\n",
              "    </tr>\n",
              "    <tr>\n",
              "      <th>4</th>\n",
              "      <td>DecisionTreeRegressor(random_state=42)</td>\n",
              "      <td>StandardScaler()</td>\n",
              "      <td>2.0</td>\n",
              "      <td>6.0</td>\n",
              "      <td>NaN</td>\n",
              "      <td>-26.630610</td>\n",
              "    </tr>\n",
              "    <tr>\n",
              "      <th>11</th>\n",
              "      <td>LGBMRegressor()</td>\n",
              "      <td>passthrough</td>\n",
              "      <td>NaN</td>\n",
              "      <td>5.0</td>\n",
              "      <td>NaN</td>\n",
              "      <td>-26.146077</td>\n",
              "    </tr>\n",
              "    <tr>\n",
              "      <th>18</th>\n",
              "      <td>LGBMRegressor()</td>\n",
              "      <td>StandardScaler()</td>\n",
              "      <td>NaN</td>\n",
              "      <td>10.0</td>\n",
              "      <td>NaN</td>\n",
              "      <td>-25.042476</td>\n",
              "    </tr>\n",
              "    <tr>\n",
              "      <th>5</th>\n",
              "      <td>LGBMRegressor()</td>\n",
              "      <td>passthrough</td>\n",
              "      <td>NaN</td>\n",
              "      <td>20.0</td>\n",
              "      <td>NaN</td>\n",
              "      <td>-25.011287</td>\n",
              "    </tr>\n",
              "    <tr>\n",
              "      <th>3</th>\n",
              "      <td>LGBMRegressor()</td>\n",
              "      <td>StandardScaler()</td>\n",
              "      <td>NaN</td>\n",
              "      <td>20.0</td>\n",
              "      <td>NaN</td>\n",
              "      <td>-24.737136</td>\n",
              "    </tr>\n",
              "    <tr>\n",
              "      <th>17</th>\n",
              "      <td>LGBMRegressor()</td>\n",
              "      <td>passthrough</td>\n",
              "      <td>NaN</td>\n",
              "      <td>10.0</td>\n",
              "      <td>NaN</td>\n",
              "      <td>-24.735781</td>\n",
              "    </tr>\n",
              "    <tr>\n",
              "      <th>15</th>\n",
              "      <td>LGBMRegressor()</td>\n",
              "      <td>passthrough</td>\n",
              "      <td>NaN</td>\n",
              "      <td>20.0</td>\n",
              "      <td>NaN</td>\n",
              "      <td>-24.639295</td>\n",
              "    </tr>\n",
              "  </tbody>\n",
              "</table>\n",
              "</div>"
            ],
            "text/plain": [
              "                              param_models param_preprocessor__num  \\\n",
              "10                         LGBMRegressor()          RobustScaler()   \n",
              "7                          LGBMRegressor()             passthrough   \n",
              "13                         LGBMRegressor()        StandardScaler()   \n",
              "16                         LGBMRegressor()        StandardScaler()   \n",
              "2                          LGBMRegressor()        StandardScaler()   \n",
              "6                          LGBMRegressor()             passthrough   \n",
              "19  DecisionTreeRegressor(random_state=42)          RobustScaler()   \n",
              "0   DecisionTreeRegressor(random_state=42)          RobustScaler()   \n",
              "9                                    SVR()             passthrough   \n",
              "8   DecisionTreeRegressor(random_state=42)        StandardScaler()   \n",
              "12                         LGBMRegressor()        StandardScaler()   \n",
              "1                          LGBMRegressor()             passthrough   \n",
              "14                         LGBMRegressor()        StandardScaler()   \n",
              "4   DecisionTreeRegressor(random_state=42)        StandardScaler()   \n",
              "11                         LGBMRegressor()             passthrough   \n",
              "18                         LGBMRegressor()        StandardScaler()   \n",
              "5                          LGBMRegressor()             passthrough   \n",
              "3                          LGBMRegressor()        StandardScaler()   \n",
              "17                         LGBMRegressor()             passthrough   \n",
              "15                         LGBMRegressor()             passthrough   \n",
              "\n",
              "    param_models__min_samples_leaf  param_models__max_depth  \\\n",
              "10                             NaN                     10.0   \n",
              "7                              NaN                      5.0   \n",
              "13                             NaN                      5.0   \n",
              "16                             NaN                     10.0   \n",
              "2                              NaN                      5.0   \n",
              "6                              NaN                     10.0   \n",
              "19                             2.0                      9.0   \n",
              "0                              3.0                      9.0   \n",
              "9                              NaN                      NaN   \n",
              "8                              4.0                      9.0   \n",
              "12                             NaN                      5.0   \n",
              "1                              NaN                     10.0   \n",
              "14                             NaN                     10.0   \n",
              "4                              2.0                      6.0   \n",
              "11                             NaN                      5.0   \n",
              "18                             NaN                     10.0   \n",
              "5                              NaN                     20.0   \n",
              "3                              NaN                     20.0   \n",
              "17                             NaN                     10.0   \n",
              "15                             NaN                     20.0   \n",
              "\n",
              "   param_models__kernel  mean_test_score  \n",
              "10                  NaN       -42.670729  \n",
              "7                   NaN       -42.670628  \n",
              "13                  NaN       -42.670501  \n",
              "16                  NaN       -42.670495  \n",
              "2                   NaN       -40.248129  \n",
              "6                   NaN       -33.161093  \n",
              "19                  NaN       -31.315918  \n",
              "0                   NaN       -29.603060  \n",
              "9                   rbf       -29.264484  \n",
              "8                   NaN       -28.685863  \n",
              "12                  NaN       -28.202827  \n",
              "1                   NaN       -27.963667  \n",
              "14                  NaN       -27.210041  \n",
              "4                   NaN       -26.630610  \n",
              "11                  NaN       -26.146077  \n",
              "18                  NaN       -25.042476  \n",
              "5                   NaN       -25.011287  \n",
              "3                   NaN       -24.737136  \n",
              "17                  NaN       -24.735781  \n",
              "15                  NaN       -24.639295  "
            ]
          },
          "metadata": {},
          "output_type": "display_data"
        }
      ],
      "source": [
        "results = pd.DataFrame(search.cv_results_)\n",
        "display(results[['param_models',\n",
        "                 'param_preprocessor__num',\n",
        "                 'param_models__min_samples_leaf',\n",
        "                 'param_models__max_depth',\n",
        "                 'param_models__kernel',\n",
        "                 'mean_test_score']].sort_values(by='mean_test_score'))"
      ]
    },
    {
      "cell_type": "markdown",
      "metadata": {
        "id": "eJlWVz5Mut6a"
      },
      "source": [
        "Лучшей моделью оказалась `LGBMRegressor` с гиперпараметрами:\n",
        "`subsample` = 0.001, `n_estimators` = 100, `max_depth` = 20, `learning_rate` = 0.05.\n",
        "Модели с меньшей максимальной глубиной демонстрировали худшие результаты.\n",
        "\n",
        "Ее метрика *RMSE* = 24.639, что ощутимо меньше 48, следовательно, модель подходит для наших целей. Однако выбранные гиперпараметры `n_estimators` и `max_depth` приняли пограничные значения, следовательно, есть смысл сдвинуть границы и запустить подбор снова. Выполним это при помощи `OptunaSearchCV()`.\n",
        "\n",
        "Кроме того, лучшая подготовка `passthrough` (и действительно, решающие деревья не требуют масштабирования данных), значит, в дальнейшем можно пропустить масштабирование."
      ]
    },
    {
      "cell_type": "code",
      "execution_count": null,
      "metadata": {
        "id": "qZs_Ai-Sut6a"
      },
      "outputs": [],
      "source": [
        "lgbm_params = {\n",
        "    'subsample': FloatDistribution(low=0.01, high=0.1, step=0.01),\n",
        "    'learning_rate': FloatDistribution(low=0.3, high=0.7, step=0.1),\n",
        "    'n_estimators': IntDistribution(low=50, high=150, step=10),\n",
        "    'max_depth': IntDistribution(low=18, high=26, step=2)\n",
        "}"
      ]
    },
    {
      "cell_type": "code",
      "execution_count": null,
      "metadata": {
        "id": "tosAIT1Wut6a",
        "outputId": "79bb068d-394e-4f58-8860-fba317618bee"
      },
      "outputs": [
        {
          "name": "stderr",
          "output_type": "stream",
          "text": [
            "/tmp/ipykernel_32/1821212682.py:1: ExperimentalWarning: OptunaSearchCV is experimental (supported from v0.17.0). The interface can change in the future.\n",
            "  opt_search = OptunaSearchCV(LGBMRegressor(),\n",
            "[I 2024-12-01 12:35:44,478] A new study created in memory with name: no-name-24ba4a41-7d14-4d60-9fc7-bca40e036e9a\n",
            "[I 2024-12-01 12:36:08,487] Trial 0 finished with value: -26.450763462224007 and parameters: {'subsample': 0.04, 'learning_rate': 0.4, 'n_estimators': 60, 'max_depth': 22}. Best is trial 0 with value: -26.450763462224007.\n",
            "[I 2024-12-01 12:36:08,581] Trial 2 finished with value: -27.226580296691065 and parameters: {'subsample': 0.04, 'learning_rate': 0.5, 'n_estimators': 60, 'max_depth': 22}. Best is trial 0 with value: -26.450763462224007.\n",
            "[I 2024-12-01 12:36:09,075] Trial 5 finished with value: -26.37267458733613 and parameters: {'subsample': 0.01, 'learning_rate': 0.4, 'n_estimators': 60, 'max_depth': 18}. Best is trial 5 with value: -26.37267458733613.\n",
            "[I 2024-12-01 12:36:12,174] Trial 3 finished with value: -29.00745391814512 and parameters: {'subsample': 0.08, 'learning_rate': 0.6000000000000001, 'n_estimators': 70, 'max_depth': 18}. Best is trial 5 with value: -26.37267458733613.\n",
            "[I 2024-12-01 12:36:16,280] Trial 6 finished with value: -27.41119253493071 and parameters: {'subsample': 0.01, 'learning_rate': 0.5, 'n_estimators': 80, 'max_depth': 20}. Best is trial 5 with value: -26.37267458733613.\n",
            "[I 2024-12-01 12:36:19,775] Trial 1 finished with value: -27.554694429662003 and parameters: {'subsample': 0.05, 'learning_rate': 0.5, 'n_estimators': 90, 'max_depth': 18}. Best is trial 5 with value: -26.37267458733613.\n",
            "[I 2024-12-01 12:36:22,784] Trial 9 finished with value: -25.65200560494687 and parameters: {'subsample': 0.04, 'learning_rate': 0.3, 'n_estimators': 50, 'max_depth': 26}. Best is trial 9 with value: -25.65200560494687.\n",
            "[I 2024-12-01 12:36:24,874] Trial 7 finished with value: -26.832524685360625 and parameters: {'subsample': 0.04, 'learning_rate': 0.3, 'n_estimators': 120, 'max_depth': 20}. Best is trial 9 with value: -25.65200560494687.\n",
            "[I 2024-12-01 12:36:27,180] Trial 4 finished with value: -27.170214698559253 and parameters: {'subsample': 0.03, 'learning_rate': 0.4, 'n_estimators': 140, 'max_depth': 26}. Best is trial 9 with value: -25.65200560494687.\n",
            "[I 2024-12-01 12:36:29,573] Trial 8 finished with value: -27.024656372462314 and parameters: {'subsample': 0.060000000000000005, 'learning_rate': 0.4, 'n_estimators': 110, 'max_depth': 26}. Best is trial 9 with value: -25.65200560494687.\n"
          ]
        },
        {
          "data": {
            "text/html": [
              "<style>#sk-container-id-6 {\n",
              "  /* Definition of color scheme common for light and dark mode */\n",
              "  --sklearn-color-text: black;\n",
              "  --sklearn-color-line: gray;\n",
              "  /* Definition of color scheme for unfitted estimators */\n",
              "  --sklearn-color-unfitted-level-0: #fff5e6;\n",
              "  --sklearn-color-unfitted-level-1: #f6e4d2;\n",
              "  --sklearn-color-unfitted-level-2: #ffe0b3;\n",
              "  --sklearn-color-unfitted-level-3: chocolate;\n",
              "  /* Definition of color scheme for fitted estimators */\n",
              "  --sklearn-color-fitted-level-0: #f0f8ff;\n",
              "  --sklearn-color-fitted-level-1: #d4ebff;\n",
              "  --sklearn-color-fitted-level-2: #b3dbfd;\n",
              "  --sklearn-color-fitted-level-3: cornflowerblue;\n",
              "\n",
              "  /* Specific color for light theme */\n",
              "  --sklearn-color-text-on-default-background: var(--sg-text-color, var(--theme-code-foreground, var(--jp-content-font-color1, black)));\n",
              "  --sklearn-color-background: var(--sg-background-color, var(--theme-background, var(--jp-layout-color0, white)));\n",
              "  --sklearn-color-border-box: var(--sg-text-color, var(--theme-code-foreground, var(--jp-content-font-color1, black)));\n",
              "  --sklearn-color-icon: #696969;\n",
              "\n",
              "  @media (prefers-color-scheme: dark) {\n",
              "    /* Redefinition of color scheme for dark theme */\n",
              "    --sklearn-color-text-on-default-background: var(--sg-text-color, var(--theme-code-foreground, var(--jp-content-font-color1, white)));\n",
              "    --sklearn-color-background: var(--sg-background-color, var(--theme-background, var(--jp-layout-color0, #111)));\n",
              "    --sklearn-color-border-box: var(--sg-text-color, var(--theme-code-foreground, var(--jp-content-font-color1, white)));\n",
              "    --sklearn-color-icon: #878787;\n",
              "  }\n",
              "}\n",
              "\n",
              "#sk-container-id-6 {\n",
              "  color: var(--sklearn-color-text);\n",
              "}\n",
              "\n",
              "#sk-container-id-6 pre {\n",
              "  padding: 0;\n",
              "}\n",
              "\n",
              "#sk-container-id-6 input.sk-hidden--visually {\n",
              "  border: 0;\n",
              "  clip: rect(1px 1px 1px 1px);\n",
              "  clip: rect(1px, 1px, 1px, 1px);\n",
              "  height: 1px;\n",
              "  margin: -1px;\n",
              "  overflow: hidden;\n",
              "  padding: 0;\n",
              "  position: absolute;\n",
              "  width: 1px;\n",
              "}\n",
              "\n",
              "#sk-container-id-6 div.sk-dashed-wrapped {\n",
              "  border: 1px dashed var(--sklearn-color-line);\n",
              "  margin: 0 0.4em 0.5em 0.4em;\n",
              "  box-sizing: border-box;\n",
              "  padding-bottom: 0.4em;\n",
              "  background-color: var(--sklearn-color-background);\n",
              "}\n",
              "\n",
              "#sk-container-id-6 div.sk-container {\n",
              "  /* jupyter's `normalize.less` sets `[hidden] { display: none; }`\n",
              "     but bootstrap.min.css set `[hidden] { display: none !important; }`\n",
              "     so we also need the `!important` here to be able to override the\n",
              "     default hidden behavior on the sphinx rendered scikit-learn.org.\n",
              "     See: https://github.com/scikit-learn/scikit-learn/issues/21755 */\n",
              "  display: inline-block !important;\n",
              "  position: relative;\n",
              "}\n",
              "\n",
              "#sk-container-id-6 div.sk-text-repr-fallback {\n",
              "  display: none;\n",
              "}\n",
              "\n",
              "div.sk-parallel-item,\n",
              "div.sk-serial,\n",
              "div.sk-item {\n",
              "  /* draw centered vertical line to link estimators */\n",
              "  background-image: linear-gradient(var(--sklearn-color-text-on-default-background), var(--sklearn-color-text-on-default-background));\n",
              "  background-size: 2px 100%;\n",
              "  background-repeat: no-repeat;\n",
              "  background-position: center center;\n",
              "}\n",
              "\n",
              "/* Parallel-specific style estimator block */\n",
              "\n",
              "#sk-container-id-6 div.sk-parallel-item::after {\n",
              "  content: \"\";\n",
              "  width: 100%;\n",
              "  border-bottom: 2px solid var(--sklearn-color-text-on-default-background);\n",
              "  flex-grow: 1;\n",
              "}\n",
              "\n",
              "#sk-container-id-6 div.sk-parallel {\n",
              "  display: flex;\n",
              "  align-items: stretch;\n",
              "  justify-content: center;\n",
              "  background-color: var(--sklearn-color-background);\n",
              "  position: relative;\n",
              "}\n",
              "\n",
              "#sk-container-id-6 div.sk-parallel-item {\n",
              "  display: flex;\n",
              "  flex-direction: column;\n",
              "}\n",
              "\n",
              "#sk-container-id-6 div.sk-parallel-item:first-child::after {\n",
              "  align-self: flex-end;\n",
              "  width: 50%;\n",
              "}\n",
              "\n",
              "#sk-container-id-6 div.sk-parallel-item:last-child::after {\n",
              "  align-self: flex-start;\n",
              "  width: 50%;\n",
              "}\n",
              "\n",
              "#sk-container-id-6 div.sk-parallel-item:only-child::after {\n",
              "  width: 0;\n",
              "}\n",
              "\n",
              "/* Serial-specific style estimator block */\n",
              "\n",
              "#sk-container-id-6 div.sk-serial {\n",
              "  display: flex;\n",
              "  flex-direction: column;\n",
              "  align-items: center;\n",
              "  background-color: var(--sklearn-color-background);\n",
              "  padding-right: 1em;\n",
              "  padding-left: 1em;\n",
              "}\n",
              "\n",
              "\n",
              "/* Toggleable style: style used for estimator/Pipeline/ColumnTransformer box that is\n",
              "clickable and can be expanded/collapsed.\n",
              "- Pipeline and ColumnTransformer use this feature and define the default style\n",
              "- Estimators will overwrite some part of the style using the `sk-estimator` class\n",
              "*/\n",
              "\n",
              "/* Pipeline and ColumnTransformer style (default) */\n",
              "\n",
              "#sk-container-id-6 div.sk-toggleable {\n",
              "  /* Default theme specific background. It is overwritten whether we have a\n",
              "  specific estimator or a Pipeline/ColumnTransformer */\n",
              "  background-color: var(--sklearn-color-background);\n",
              "}\n",
              "\n",
              "/* Toggleable label */\n",
              "#sk-container-id-6 label.sk-toggleable__label {\n",
              "  cursor: pointer;\n",
              "  display: block;\n",
              "  width: 100%;\n",
              "  margin-bottom: 0;\n",
              "  padding: 0.5em;\n",
              "  box-sizing: border-box;\n",
              "  text-align: center;\n",
              "}\n",
              "\n",
              "#sk-container-id-6 label.sk-toggleable__label-arrow:before {\n",
              "  /* Arrow on the left of the label */\n",
              "  content: \"▸\";\n",
              "  float: left;\n",
              "  margin-right: 0.25em;\n",
              "  color: var(--sklearn-color-icon);\n",
              "}\n",
              "\n",
              "#sk-container-id-6 label.sk-toggleable__label-arrow:hover:before {\n",
              "  color: var(--sklearn-color-text);\n",
              "}\n",
              "\n",
              "/* Toggleable content - dropdown */\n",
              "\n",
              "#sk-container-id-6 div.sk-toggleable__content {\n",
              "  max-height: 0;\n",
              "  max-width: 0;\n",
              "  overflow: hidden;\n",
              "  text-align: left;\n",
              "  /* unfitted */\n",
              "  background-color: var(--sklearn-color-unfitted-level-0);\n",
              "}\n",
              "\n",
              "#sk-container-id-6 div.sk-toggleable__content.fitted {\n",
              "  /* fitted */\n",
              "  background-color: var(--sklearn-color-fitted-level-0);\n",
              "}\n",
              "\n",
              "#sk-container-id-6 div.sk-toggleable__content pre {\n",
              "  margin: 0.2em;\n",
              "  border-radius: 0.25em;\n",
              "  color: var(--sklearn-color-text);\n",
              "  /* unfitted */\n",
              "  background-color: var(--sklearn-color-unfitted-level-0);\n",
              "}\n",
              "\n",
              "#sk-container-id-6 div.sk-toggleable__content.fitted pre {\n",
              "  /* unfitted */\n",
              "  background-color: var(--sklearn-color-fitted-level-0);\n",
              "}\n",
              "\n",
              "#sk-container-id-6 input.sk-toggleable__control:checked~div.sk-toggleable__content {\n",
              "  /* Expand drop-down */\n",
              "  max-height: 200px;\n",
              "  max-width: 100%;\n",
              "  overflow: auto;\n",
              "}\n",
              "\n",
              "#sk-container-id-6 input.sk-toggleable__control:checked~label.sk-toggleable__label-arrow:before {\n",
              "  content: \"▾\";\n",
              "}\n",
              "\n",
              "/* Pipeline/ColumnTransformer-specific style */\n",
              "\n",
              "#sk-container-id-6 div.sk-label input.sk-toggleable__control:checked~label.sk-toggleable__label {\n",
              "  color: var(--sklearn-color-text);\n",
              "  background-color: var(--sklearn-color-unfitted-level-2);\n",
              "}\n",
              "\n",
              "#sk-container-id-6 div.sk-label.fitted input.sk-toggleable__control:checked~label.sk-toggleable__label {\n",
              "  background-color: var(--sklearn-color-fitted-level-2);\n",
              "}\n",
              "\n",
              "/* Estimator-specific style */\n",
              "\n",
              "/* Colorize estimator box */\n",
              "#sk-container-id-6 div.sk-estimator input.sk-toggleable__control:checked~label.sk-toggleable__label {\n",
              "  /* unfitted */\n",
              "  background-color: var(--sklearn-color-unfitted-level-2);\n",
              "}\n",
              "\n",
              "#sk-container-id-6 div.sk-estimator.fitted input.sk-toggleable__control:checked~label.sk-toggleable__label {\n",
              "  /* fitted */\n",
              "  background-color: var(--sklearn-color-fitted-level-2);\n",
              "}\n",
              "\n",
              "#sk-container-id-6 div.sk-label label.sk-toggleable__label,\n",
              "#sk-container-id-6 div.sk-label label {\n",
              "  /* The background is the default theme color */\n",
              "  color: var(--sklearn-color-text-on-default-background);\n",
              "}\n",
              "\n",
              "/* On hover, darken the color of the background */\n",
              "#sk-container-id-6 div.sk-label:hover label.sk-toggleable__label {\n",
              "  color: var(--sklearn-color-text);\n",
              "  background-color: var(--sklearn-color-unfitted-level-2);\n",
              "}\n",
              "\n",
              "/* Label box, darken color on hover, fitted */\n",
              "#sk-container-id-6 div.sk-label.fitted:hover label.sk-toggleable__label.fitted {\n",
              "  color: var(--sklearn-color-text);\n",
              "  background-color: var(--sklearn-color-fitted-level-2);\n",
              "}\n",
              "\n",
              "/* Estimator label */\n",
              "\n",
              "#sk-container-id-6 div.sk-label label {\n",
              "  font-family: monospace;\n",
              "  font-weight: bold;\n",
              "  display: inline-block;\n",
              "  line-height: 1.2em;\n",
              "}\n",
              "\n",
              "#sk-container-id-6 div.sk-label-container {\n",
              "  text-align: center;\n",
              "}\n",
              "\n",
              "/* Estimator-specific */\n",
              "#sk-container-id-6 div.sk-estimator {\n",
              "  font-family: monospace;\n",
              "  border: 1px dotted var(--sklearn-color-border-box);\n",
              "  border-radius: 0.25em;\n",
              "  box-sizing: border-box;\n",
              "  margin-bottom: 0.5em;\n",
              "  /* unfitted */\n",
              "  background-color: var(--sklearn-color-unfitted-level-0);\n",
              "}\n",
              "\n",
              "#sk-container-id-6 div.sk-estimator.fitted {\n",
              "  /* fitted */\n",
              "  background-color: var(--sklearn-color-fitted-level-0);\n",
              "}\n",
              "\n",
              "/* on hover */\n",
              "#sk-container-id-6 div.sk-estimator:hover {\n",
              "  /* unfitted */\n",
              "  background-color: var(--sklearn-color-unfitted-level-2);\n",
              "}\n",
              "\n",
              "#sk-container-id-6 div.sk-estimator.fitted:hover {\n",
              "  /* fitted */\n",
              "  background-color: var(--sklearn-color-fitted-level-2);\n",
              "}\n",
              "\n",
              "/* Specification for estimator info (e.g. \"i\" and \"?\") */\n",
              "\n",
              "/* Common style for \"i\" and \"?\" */\n",
              "\n",
              ".sk-estimator-doc-link,\n",
              "a:link.sk-estimator-doc-link,\n",
              "a:visited.sk-estimator-doc-link {\n",
              "  float: right;\n",
              "  font-size: smaller;\n",
              "  line-height: 1em;\n",
              "  font-family: monospace;\n",
              "  background-color: var(--sklearn-color-background);\n",
              "  border-radius: 1em;\n",
              "  height: 1em;\n",
              "  width: 1em;\n",
              "  text-decoration: none !important;\n",
              "  margin-left: 1ex;\n",
              "  /* unfitted */\n",
              "  border: var(--sklearn-color-unfitted-level-1) 1pt solid;\n",
              "  color: var(--sklearn-color-unfitted-level-1);\n",
              "}\n",
              "\n",
              ".sk-estimator-doc-link.fitted,\n",
              "a:link.sk-estimator-doc-link.fitted,\n",
              "a:visited.sk-estimator-doc-link.fitted {\n",
              "  /* fitted */\n",
              "  border: var(--sklearn-color-fitted-level-1) 1pt solid;\n",
              "  color: var(--sklearn-color-fitted-level-1);\n",
              "}\n",
              "\n",
              "/* On hover */\n",
              "div.sk-estimator:hover .sk-estimator-doc-link:hover,\n",
              ".sk-estimator-doc-link:hover,\n",
              "div.sk-label-container:hover .sk-estimator-doc-link:hover,\n",
              ".sk-estimator-doc-link:hover {\n",
              "  /* unfitted */\n",
              "  background-color: var(--sklearn-color-unfitted-level-3);\n",
              "  color: var(--sklearn-color-background);\n",
              "  text-decoration: none;\n",
              "}\n",
              "\n",
              "div.sk-estimator.fitted:hover .sk-estimator-doc-link.fitted:hover,\n",
              ".sk-estimator-doc-link.fitted:hover,\n",
              "div.sk-label-container:hover .sk-estimator-doc-link.fitted:hover,\n",
              ".sk-estimator-doc-link.fitted:hover {\n",
              "  /* fitted */\n",
              "  background-color: var(--sklearn-color-fitted-level-3);\n",
              "  color: var(--sklearn-color-background);\n",
              "  text-decoration: none;\n",
              "}\n",
              "\n",
              "/* Span, style for the box shown on hovering the info icon */\n",
              ".sk-estimator-doc-link span {\n",
              "  display: none;\n",
              "  z-index: 9999;\n",
              "  position: relative;\n",
              "  font-weight: normal;\n",
              "  right: .2ex;\n",
              "  padding: .5ex;\n",
              "  margin: .5ex;\n",
              "  width: min-content;\n",
              "  min-width: 20ex;\n",
              "  max-width: 50ex;\n",
              "  color: var(--sklearn-color-text);\n",
              "  box-shadow: 2pt 2pt 4pt #999;\n",
              "  /* unfitted */\n",
              "  background: var(--sklearn-color-unfitted-level-0);\n",
              "  border: .5pt solid var(--sklearn-color-unfitted-level-3);\n",
              "}\n",
              "\n",
              ".sk-estimator-doc-link.fitted span {\n",
              "  /* fitted */\n",
              "  background: var(--sklearn-color-fitted-level-0);\n",
              "  border: var(--sklearn-color-fitted-level-3);\n",
              "}\n",
              "\n",
              ".sk-estimator-doc-link:hover span {\n",
              "  display: block;\n",
              "}\n",
              "\n",
              "/* \"?\"-specific style due to the `<a>` HTML tag */\n",
              "\n",
              "#sk-container-id-6 a.estimator_doc_link {\n",
              "  float: right;\n",
              "  font-size: 1rem;\n",
              "  line-height: 1em;\n",
              "  font-family: monospace;\n",
              "  background-color: var(--sklearn-color-background);\n",
              "  border-radius: 1rem;\n",
              "  height: 1rem;\n",
              "  width: 1rem;\n",
              "  text-decoration: none;\n",
              "  /* unfitted */\n",
              "  color: var(--sklearn-color-unfitted-level-1);\n",
              "  border: var(--sklearn-color-unfitted-level-1) 1pt solid;\n",
              "}\n",
              "\n",
              "#sk-container-id-6 a.estimator_doc_link.fitted {\n",
              "  /* fitted */\n",
              "  border: var(--sklearn-color-fitted-level-1) 1pt solid;\n",
              "  color: var(--sklearn-color-fitted-level-1);\n",
              "}\n",
              "\n",
              "/* On hover */\n",
              "#sk-container-id-6 a.estimator_doc_link:hover {\n",
              "  /* unfitted */\n",
              "  background-color: var(--sklearn-color-unfitted-level-3);\n",
              "  color: var(--sklearn-color-background);\n",
              "  text-decoration: none;\n",
              "}\n",
              "\n",
              "#sk-container-id-6 a.estimator_doc_link.fitted:hover {\n",
              "  /* fitted */\n",
              "  background-color: var(--sklearn-color-fitted-level-3);\n",
              "}\n",
              "</style><div id=\"sk-container-id-6\" class=\"sk-top-container\"><div class=\"sk-text-repr-fallback\"><pre>OptunaSearchCV(cv=TimeSeriesSplit(gap=0, max_train_size=None, n_splits=3, test_size=None),\n",
              "               estimator=LGBMRegressor(), max_iter=2000, n_jobs=-1,\n",
              "               param_distributions={&#x27;learning_rate&#x27;: FloatDistribution(high=0.7, log=False, low=0.3, step=0.1),\n",
              "                                    &#x27;max_depth&#x27;: IntDistribution(high=26, log=False, low=18, step=2),\n",
              "                                    &#x27;n_estimators&#x27;: IntDistribution(high=150, log=False, low=50, step=10),\n",
              "                                    &#x27;subsample&#x27;: FloatDistribution(high=0.1, log=False, low=0.01, step=0.01)},\n",
              "               random_state=42, scoring=&#x27;neg_root_mean_squared_error&#x27;)</pre><b>In a Jupyter environment, please rerun this cell to show the HTML representation or trust the notebook. <br />On GitHub, the HTML representation is unable to render, please try loading this page with nbviewer.org.</b></div><div class=\"sk-container\" hidden><div class=\"sk-item sk-dashed-wrapped\"><div class=\"sk-label-container\"><div class=\"sk-label fitted sk-toggleable\"><input class=\"sk-toggleable__control sk-hidden--visually\" id=\"sk-estimator-id-21\" type=\"checkbox\" ><label for=\"sk-estimator-id-21\" class=\"sk-toggleable__label fitted sk-toggleable__label-arrow fitted\">&nbsp;OptunaSearchCV<span class=\"sk-estimator-doc-link fitted\">i<span>Fitted</span></span></label><div class=\"sk-toggleable__content fitted\"><pre>OptunaSearchCV(cv=TimeSeriesSplit(gap=0, max_train_size=None, n_splits=3, test_size=None),\n",
              "               estimator=LGBMRegressor(), max_iter=2000, n_jobs=-1,\n",
              "               param_distributions={&#x27;learning_rate&#x27;: FloatDistribution(high=0.7, log=False, low=0.3, step=0.1),\n",
              "                                    &#x27;max_depth&#x27;: IntDistribution(high=26, log=False, low=18, step=2),\n",
              "                                    &#x27;n_estimators&#x27;: IntDistribution(high=150, log=False, low=50, step=10),\n",
              "                                    &#x27;subsample&#x27;: FloatDistribution(high=0.1, log=False, low=0.01, step=0.01)},\n",
              "               random_state=42, scoring=&#x27;neg_root_mean_squared_error&#x27;)</pre></div> </div></div><div class=\"sk-parallel\"><div class=\"sk-parallel-item\"><div class=\"sk-item\"><div class=\"sk-label-container\"><div class=\"sk-label fitted sk-toggleable\"><input class=\"sk-toggleable__control sk-hidden--visually\" id=\"sk-estimator-id-22\" type=\"checkbox\" ><label for=\"sk-estimator-id-22\" class=\"sk-toggleable__label fitted sk-toggleable__label-arrow fitted\">estimator: LGBMRegressor</label><div class=\"sk-toggleable__content fitted\"><pre>LGBMRegressor()</pre></div> </div></div><div class=\"sk-serial\"><div class=\"sk-item\"><div class=\"sk-estimator fitted sk-toggleable\"><input class=\"sk-toggleable__control sk-hidden--visually\" id=\"sk-estimator-id-23\" type=\"checkbox\" ><label for=\"sk-estimator-id-23\" class=\"sk-toggleable__label fitted sk-toggleable__label-arrow fitted\">LGBMRegressor</label><div class=\"sk-toggleable__content fitted\"><pre>LGBMRegressor()</pre></div> </div></div></div></div></div></div></div></div></div>"
            ],
            "text/plain": [
              "OptunaSearchCV(cv=TimeSeriesSplit(gap=0, max_train_size=None, n_splits=3, test_size=None),\n",
              "               estimator=LGBMRegressor(), max_iter=2000, n_jobs=-1,\n",
              "               param_distributions={'learning_rate': FloatDistribution(high=0.7, log=False, low=0.3, step=0.1),\n",
              "                                    'max_depth': IntDistribution(high=26, log=False, low=18, step=2),\n",
              "                                    'n_estimators': IntDistribution(high=150, log=False, low=50, step=10),\n",
              "                                    'subsample': FloatDistribution(high=0.1, log=False, low=0.01, step=0.01)},\n",
              "               random_state=42, scoring='neg_root_mean_squared_error')"
            ]
          },
          "execution_count": 50,
          "metadata": {},
          "output_type": "execute_result"
        }
      ],
      "source": [
        "opt_search = OptunaSearchCV(LGBMRegressor(),\n",
        "                            param_distributions = lgbm_params,\n",
        "                            cv=TimeSeriesSplit(n_splits=3),\n",
        "                            max_iter=2000,\n",
        "                            n_jobs=-1,\n",
        "                            n_trials=10,\n",
        "                            scoring='neg_root_mean_squared_error',\n",
        "                            random_state=RANDOM_STATE)\n",
        "opt_search.fit(X_train, y_train)"
      ]
    },
    {
      "cell_type": "code",
      "execution_count": null,
      "metadata": {
        "id": "cM0NJBRaut6a",
        "outputId": "b06d8a54-93b9-4eba-9b32-cc3dfe611873"
      },
      "outputs": [
        {
          "name": "stdout",
          "output_type": "stream",
          "text": [
            "LGBMRegressor(learning_rate=0.3, max_depth=26, n_estimators=50, subsample=0.04)\n",
            "\n",
            "{'subsample': 0.04, 'learning_rate': 0.3, 'n_estimators': 50, 'max_depth': 26}\n",
            "\n",
            "Метрика RMSE лучшей LGBMRegressor на кроссвалидации: 25.65200560494687\n"
          ]
        }
      ],
      "source": [
        "best_lgbm = opt_search.best_estimator_\n",
        "print(best_lgbm)\n",
        "print()\n",
        "print(opt_search.best_params_)\n",
        "print()\n",
        "print ('Метрика RMSE лучшей LGBMRegressor на кроссвалидации:',\n",
        "       opt_search.best_score_ * -1)"
      ]
    },
    {
      "cell_type": "markdown",
      "source": [
        "Новый перебор гиперпараметров не дал улучшения метрики за 10 попыток. Вернемся к модели, показавшей лучшие результаты изначально."
      ],
      "metadata": {
        "id": "9COEy-wRyMeW"
      }
    },
    {
      "cell_type": "markdown",
      "metadata": {
        "id": "_NdLOb7Fut6b"
      },
      "source": [
        "### Вывод по шагу 4\n",
        "\n",
        "Обучили три разные модели:\n",
        "- `SVR`;\n",
        "- `LinearRegression`;\n",
        "- `DecisionTreeRegressor`.\n",
        "\n",
        "При помощи `RandomizedSearchCV()` выявили, что лучшей моделью для решения нашей задачи является `LGBMRegressor`. Поскольку гиперпараметры, приведшие к наилучшему результату, оказались пограничными, расширили границы и выполнили дополнительный подбор гиперпараметров модели `LGBMRegressor` при помощи `OptunaSearchCV()`.\n",
        "\n",
        "Получили значение *RMSE* чуть-чуть больше,чем при первом подборе. Поэтому будем считать лучшей моделью первую, выбранную при помощи `RandomizedSearchCV()`.\n",
        "\n"
      ]
    },
    {
      "cell_type": "markdown",
      "metadata": {
        "id": "8sJxo-bUut6b"
      },
      "source": [
        "## 5. Тестирование лучшей модели\n",
        "Проверим лучшую модель на тестовой выборке."
      ]
    },
    {
      "cell_type": "code",
      "execution_count": null,
      "metadata": {
        "id": "UVUjqHFBut6b",
        "outputId": "5c370ba6-fbe7-474a-e536-91e846f8d2c7"
      },
      "outputs": [
        {
          "name": "stdout",
          "output_type": "stream",
          "text": [
            "LGBMRegressor. Метрика RMSE на тестовой выборке: 41.11008659637953\n"
          ]
        }
      ],
      "source": [
        "y_test_pred = best_estimator.predict(X_test)\n",
        "print('LGBMRegressor. Метрика RMSE на тестовой выборке:',\n",
        "     np.sqrt(mean_squared_error(y_test, y_test_pred)))"
      ]
    },
    {
      "cell_type": "markdown",
      "metadata": {
        "id": "94yC1BhBut6b"
      },
      "source": [
        "Метрика, полученная на тестовой выборке, меньше 48, следовательно, качество модели удовлетворительное.\n",
        "\n",
        "Проанализируем важность признаков для модели, а также ее остатки."
      ]
    },
    {
      "cell_type": "code",
      "execution_count": null,
      "metadata": {
        "id": "A-KIpuLuut6b",
        "outputId": "b639e793-31d5-4508-aca4-343ffdf29455"
      },
      "outputs": [
        {
          "data": {
            "text/html": [
              "<div>\n",
              "<style scoped>\n",
              "    .dataframe tbody tr th:only-of-type {\n",
              "        vertical-align: middle;\n",
              "    }\n",
              "\n",
              "    .dataframe tbody tr th {\n",
              "        vertical-align: top;\n",
              "    }\n",
              "\n",
              "    .dataframe thead th {\n",
              "        text-align: right;\n",
              "    }\n",
              "</style>\n",
              "<table border=\"1\" class=\"dataframe\">\n",
              "  <thead>\n",
              "    <tr style=\"text-align: right;\">\n",
              "      <th></th>\n",
              "      <th>feature</th>\n",
              "      <th>importance</th>\n",
              "    </tr>\n",
              "  </thead>\n",
              "  <tbody>\n",
              "    <tr>\n",
              "      <th>4</th>\n",
              "      <td>rolling_mean_lag</td>\n",
              "      <td>720</td>\n",
              "    </tr>\n",
              "    <tr>\n",
              "      <th>2</th>\n",
              "      <td>lag_24</td>\n",
              "      <td>697</td>\n",
              "    </tr>\n",
              "    <tr>\n",
              "      <th>0</th>\n",
              "      <td>dayofweek</td>\n",
              "      <td>611</td>\n",
              "    </tr>\n",
              "    <tr>\n",
              "      <th>1</th>\n",
              "      <td>hour</td>\n",
              "      <td>551</td>\n",
              "    </tr>\n",
              "    <tr>\n",
              "      <th>3</th>\n",
              "      <td>lag_168</td>\n",
              "      <td>421</td>\n",
              "    </tr>\n",
              "  </tbody>\n",
              "</table>\n",
              "</div>"
            ],
            "text/plain": [
              "            feature importance\n",
              "4  rolling_mean_lag        720\n",
              "2            lag_24        697\n",
              "0         dayofweek        611\n",
              "1              hour        551\n",
              "3           lag_168        421"
            ]
          },
          "metadata": {},
          "output_type": "display_data"
        },
        {
          "data": {
            "image/png": "[encoded data removed]",
            "text/plain": [
              "<Figure size 432x288 with 1 Axes>"
            ]
          },
          "metadata": {
            "needs_background": "light"
          },
          "output_type": "display_data"
        }
      ],
      "source": [
        "feature_importances = pd.DataFrame([\n",
        "    best_estimator.feature_names_in_,\n",
        "    best_estimator[1].feature_importances_]).T\n",
        "feature_importances.columns=(['feature',\n",
        "                              'importance'])\n",
        "feature_importances = feature_importances.sort_values(\n",
        "    by='importance',\n",
        "    ascending=False)\n",
        "display(feature_importances)\n",
        "\n",
        "plt.xlabel('importance')\n",
        "plt.ylabel('feature')\n",
        "plt.barh(y=feature_importances['feature'],\n",
        "         width=feature_importances['importance'])\n",
        "plt.title('Feature importances')\n",
        "plt.show()"
      ]
    },
    {
      "cell_type": "markdown",
      "metadata": {
        "id": "9hZ4C50kut6c"
      },
      "source": [
        "Наиболее важными признаками для модели стали смещенное скользящее среднее и количество заказов в тот же час сутки назад. С небольшим отрывом за ними следуют день недели и час. Еще несколько менее важным оказалось количество заказов в тот же час неделю назад.\n",
        "\n",
        "При этом все входные признаки оказались значимыми.\n",
        "\n",
        "Похоже, выявленные на этапе анализа суточные колебания оказывают больше влияния на количество заказов, чем прочие. Однако это заключение нужно делать осторожно, поскольку мы имеем дело с данными только весны и лета, зимой и осенью ситуация может выглядеть иначе."
      ]
    },
    {
      "cell_type": "code",
      "execution_count": null,
      "metadata": {
        "id": "kdlV1BIbut6c",
        "outputId": "81ee95d2-0064-48e7-e61f-1145b049a99e"
      },
      "outputs": [
        {
          "data": {
            "image/png": "[encoded data removed]",
            "text/plain": [
              "<Figure size 1080x576 with 1 Axes>"
            ]
          },
          "metadata": {
            "needs_background": "light"
          },
          "output_type": "display_data"
        }
      ],
      "source": [
        "plt.figure(figsize=(15, 8))\n",
        "plt.title('Discrepancy histplot')\n",
        "plt.xlabel('discrepancy')\n",
        "plt.ylabel('count')\n",
        "\n",
        "plt.hist(x=y_test_pred-y_test, bins=50, histtype='bar', rwidth=0.8)\n",
        "plt.axvline(x=(y_test_pred-y_test).mean(), color='red')\n",
        "plt.show()"
      ]
    },
    {
      "cell_type": "markdown",
      "metadata": {
        "id": "12gF7dNOut6c"
      },
      "source": [
        "Распределение остатков модели стремится к нормальному, однако левый склон более пологий, и вершина (а также среднее) смещена влево относительно нуля. Это говорит о том, что модель часто преуменьшает количество заказов.\n",
        "\n",
        "Возможно, причина - тренд к увеличению, который более выражен ближе к концу имеющегося временного ряда."
      ]
    },
    {
      "cell_type": "markdown",
      "metadata": {
        "id": "X_3q4hK3ut6c"
      },
      "source": [
        "### Вывод по шагу 5\n",
        "Проверили выбранную модель на тестовой выборке, получили удовлетворительное значение метрики.\n",
        "\n",
        "Проанализировали важность признаков и остатки модели. Заключили, что:\n",
        "* в наибольшей степени при прогнозировании модель руководствуется часом (то есть суточные колебания оказывают наибольшее влияние);\n",
        "* модель часто преуменьшает количество заказов (распределение остатков смещено влево)."
      ]
    },
    {
      "cell_type": "markdown",
      "source": [
        "## Итоговые выводы\n",
        "1. В ходе предобработки:\n",
        "* привели столбец  `datetime` к соответствующему типу данных;\n",
        "* не обнаружили дубликатов;\n",
        "* обнаружили, что данные есть только за весну и лето 2018 года;\n",
        "* ресемплировали данные по одному часу;\n",
        "2. Выполнили анализ данных при помощи визуализации, отметили:\n",
        "* временной ряд нестационарный;\n",
        "* наблюдается тренд к увеличению;\n",
        "* суточная сезонность, есть три отчетливых пика заказов:\n",
        "    * около полуночи;\n",
        "    * незадолго до полудня (примерно в 10 часов утра);\n",
        "    * приблизительно в 15-16 часов.\n",
        "* в сутках есть 2 небольших снижения (около 12 и 18 часов) и единственное резкое падение около 6 часов.\n",
        "3. На основании результатов анализа добавили новые признаки:\n",
        "    3.1. Календарные признаки:\n",
        "    * день недели;\n",
        "    * час.\n",
        "    3.2. Предыдущие значения временного ряда с лагами 24 и 168.\n",
        "    3.3. Скользящее среднее.\n",
        "4. В пайплайне выполнили обучение и кроссвалидацию моделей:\n",
        "    \n",
        "    4.1. Обучили три разные модели:\n",
        "    * `SVR`;\n",
        "    * `LinearRegression`;\n",
        "    * `DecisionTreeRegressor`.\n",
        "    4.2. При помощи `RandomizedSearchCV()` выявили, что лучшей моделью для решения нашей задачи является `LGBMRegressor`.\n",
        "5. Проверили выбранную модель на тестовой выборке.\n",
        "    \n",
        "    5.1. Полученная метрика меньше 48, качество модели удовлетворительное.\n",
        "    \n",
        "    5.2. Проанализировали важность признаков для модели:\n",
        "    * наиболее важными признаками для модели стали смещенное скользящее среднее и количество заказов в тот же час сутки назад;\n",
        "    * с небольшим отрывом за ними следуют день недели и час;\n",
        "    * еще несколько менее важным оказалось количество заказов в тот же час неделю назад.\n",
        "       \n",
        "    Похоже, выявленные на этапе анализа суточные колебания оказывают больше влияния на количество заказов, чем прочие. Однако это заключение нужно делать осторожно, поскольку мы имеем дело с данными только весны и лета, зимой и осенью ситуация может выглядеть иначе.\n",
        "    \n",
        "    5.3. Проанализировали распределение остатков модели. Оно стремится к нормальному, но левый склон более пологий, и вершина смещена влево относительно нуля. Это говорит о том, что модель часто преуменьшает количество заказов.\n",
        "    Возможная причина - тренд к увеличению, который более выражен ближе к концу имеющегося временного ряда."
      ],
      "metadata": {
        "id": "mlgEB6Rhy5cN"
      }
    },
    {
      "cell_type": "code",
      "source": [],
      "metadata": {
        "id": "TQY30ngK1BRx"
      },
      "execution_count": null,
      "outputs": []
    }
  ],
  "metadata": {
    "ExecuteTimeLog": [
      {
        "duration": 33605,
        "start_time": "2024-11-28T17:50:34.554Z"
      },
      {
        "duration": 1726,
        "start_time": "2024-11-28T17:51:12.522Z"
      },
      {
        "duration": 126,
        "start_time": "2024-11-28T17:52:54.800Z"
      },
      {
        "duration": 53,
        "start_time": "2024-11-28T17:52:58.779Z"
      },
      {
        "duration": 161,
        "start_time": "2024-11-28T17:53:18.034Z"
      },
      {
        "duration": 51,
        "start_time": "2024-11-28T17:53:34.062Z"
      },
      {
        "duration": 68,
        "start_time": "2024-11-28T17:56:18.580Z"
      },
      {
        "duration": 12,
        "start_time": "2024-11-28T18:05:04.944Z"
      },
      {
        "duration": 17,
        "start_time": "2024-11-28T18:05:17.626Z"
      },
      {
        "duration": 31,
        "start_time": "2024-11-28T18:05:27.407Z"
      },
      {
        "duration": 5,
        "start_time": "2024-11-28T18:06:17.807Z"
      },
      {
        "duration": 5,
        "start_time": "2024-11-28T18:10:48.524Z"
      },
      {
        "duration": 12,
        "start_time": "2024-11-28T18:11:55.785Z"
      },
      {
        "duration": 54,
        "start_time": "2024-11-28T18:12:21.926Z"
      },
      {
        "duration": 17,
        "start_time": "2024-11-28T18:12:25.531Z"
      },
      {
        "duration": 23,
        "start_time": "2024-11-28T18:12:29.712Z"
      },
      {
        "duration": 18,
        "start_time": "2024-11-28T18:22:21.210Z"
      },
      {
        "duration": 17,
        "start_time": "2024-11-28T18:22:44.536Z"
      },
      {
        "duration": 55,
        "start_time": "2024-11-28T18:23:24.222Z"
      },
      {
        "duration": 22,
        "start_time": "2024-11-28T18:23:28.165Z"
      },
      {
        "duration": 18,
        "start_time": "2024-11-28T18:23:31.286Z"
      },
      {
        "duration": 19,
        "start_time": "2024-11-28T18:23:36.350Z"
      },
      {
        "duration": 9,
        "start_time": "2024-11-28T18:25:05.634Z"
      },
      {
        "duration": 14,
        "start_time": "2024-11-28T18:25:40.881Z"
      },
      {
        "duration": 14,
        "start_time": "2024-11-28T18:25:56.218Z"
      },
      {
        "duration": 7,
        "start_time": "2024-11-28T18:31:20.716Z"
      },
      {
        "duration": 8,
        "start_time": "2024-11-28T18:33:56.055Z"
      },
      {
        "duration": 9,
        "start_time": "2024-11-28T18:34:15.995Z"
      },
      {
        "duration": 2,
        "start_time": "2024-11-28T18:36:35.460Z"
      },
      {
        "duration": 1861,
        "start_time": "2024-11-28T18:37:06.333Z"
      },
      {
        "duration": 59,
        "start_time": "2024-11-28T18:42:35.699Z"
      },
      {
        "duration": 19,
        "start_time": "2024-11-28T18:42:37.857Z"
      },
      {
        "duration": 20,
        "start_time": "2024-11-28T18:42:42.092Z"
      },
      {
        "duration": 24,
        "start_time": "2024-11-28T18:44:07.748Z"
      },
      {
        "duration": 18,
        "start_time": "2024-11-28T18:44:53.146Z"
      },
      {
        "duration": 539,
        "start_time": "2024-11-28T18:46:14.393Z"
      },
      {
        "duration": 1773,
        "start_time": "2024-11-28T18:47:02.890Z"
      },
      {
        "duration": 576,
        "start_time": "2024-11-28T18:47:40.876Z"
      },
      {
        "duration": 1643,
        "start_time": "2024-11-28T18:49:15.260Z"
      },
      {
        "duration": 1843,
        "start_time": "2024-11-28T18:50:20.228Z"
      },
      {
        "duration": 501,
        "start_time": "2024-11-28T18:59:12.097Z"
      },
      {
        "duration": 424,
        "start_time": "2024-11-28T19:00:02.815Z"
      },
      {
        "duration": 4,
        "start_time": "2024-11-28T19:02:48.845Z"
      },
      {
        "duration": 1463,
        "start_time": "2024-11-28T19:07:16.166Z"
      },
      {
        "duration": 17,
        "start_time": "2024-11-28T19:10:56.630Z"
      },
      {
        "duration": 627,
        "start_time": "2024-11-28T19:11:41.754Z"
      },
      {
        "duration": 16,
        "start_time": "2024-11-28T19:12:20.024Z"
      },
      {
        "duration": 1240,
        "start_time": "2024-11-28T19:12:38.714Z"
      },
      {
        "duration": 1462,
        "start_time": "2024-11-28T19:13:09.645Z"
      },
      {
        "duration": 12,
        "start_time": "2024-11-28T19:13:32.372Z"
      },
      {
        "duration": 6,
        "start_time": "2024-11-28T19:14:07.083Z"
      },
      {
        "duration": 53,
        "start_time": "2024-11-28T19:14:31.398Z"
      },
      {
        "duration": 18,
        "start_time": "2024-11-28T19:14:37.403Z"
      },
      {
        "duration": 19,
        "start_time": "2024-11-28T19:14:41.209Z"
      },
      {
        "duration": 22,
        "start_time": "2024-11-28T19:14:47.009Z"
      },
      {
        "duration": 541,
        "start_time": "2024-11-28T19:15:34.971Z"
      },
      {
        "duration": 505,
        "start_time": "2024-11-28T19:16:24.049Z"
      },
      {
        "duration": 4,
        "start_time": "2024-11-28T19:16:56.502Z"
      },
      {
        "duration": 498,
        "start_time": "2024-11-28T19:16:59.009Z"
      },
      {
        "duration": 795,
        "start_time": "2024-11-28T19:17:34.588Z"
      },
      {
        "duration": 5,
        "start_time": "2024-11-28T19:18:34.591Z"
      },
      {
        "duration": 510,
        "start_time": "2024-11-28T19:18:43.871Z"
      },
      {
        "duration": 4,
        "start_time": "2024-11-28T19:19:04.216Z"
      },
      {
        "duration": 479,
        "start_time": "2024-11-28T19:19:07.016Z"
      },
      {
        "duration": 4,
        "start_time": "2024-11-28T19:19:25.403Z"
      },
      {
        "duration": 499,
        "start_time": "2024-11-28T19:19:27.390Z"
      },
      {
        "duration": 4,
        "start_time": "2024-11-28T19:19:34.376Z"
      },
      {
        "duration": 500,
        "start_time": "2024-11-28T19:19:37.489Z"
      },
      {
        "duration": 584,
        "start_time": "2024-11-28T19:19:58.193Z"
      },
      {
        "duration": 23,
        "start_time": "2024-11-28T19:22:05.445Z"
      },
      {
        "duration": 20653,
        "start_time": "2024-11-28T19:24:31.890Z"
      },
      {
        "duration": 337,
        "start_time": "2024-11-28T19:25:50.193Z"
      },
      {
        "duration": 490,
        "start_time": "2024-11-28T19:26:06.691Z"
      },
      {
        "duration": 4,
        "start_time": "2024-11-28T19:26:22.551Z"
      },
      {
        "duration": 484,
        "start_time": "2024-11-28T19:26:26.781Z"
      },
      {
        "duration": 372,
        "start_time": "2024-11-28T19:28:24.840Z"
      },
      {
        "duration": 1684,
        "start_time": "2024-11-28T19:28:44.042Z"
      },
      {
        "duration": 368,
        "start_time": "2024-11-28T19:28:52.439Z"
      },
      {
        "duration": 391,
        "start_time": "2024-11-28T19:29:24.580Z"
      },
      {
        "duration": 339,
        "start_time": "2024-11-28T19:29:35.454Z"
      },
      {
        "duration": 352,
        "start_time": "2024-11-28T19:32:11.847Z"
      },
      {
        "duration": 363,
        "start_time": "2024-11-28T19:32:21.568Z"
      },
      {
        "duration": 364,
        "start_time": "2024-11-28T19:32:35.935Z"
      },
      {
        "duration": 18092,
        "start_time": "2024-11-28T19:55:15.311Z"
      },
      {
        "duration": 11772,
        "start_time": "2024-11-28T19:55:59.291Z"
      },
      {
        "duration": 16,
        "start_time": "2024-11-28T19:56:15.919Z"
      },
      {
        "duration": 7839,
        "start_time": "2024-11-28T20:03:33.636Z"
      },
      {
        "duration": 5,
        "start_time": "2024-11-28T20:03:41.478Z"
      },
      {
        "duration": 67,
        "start_time": "2024-11-28T20:03:41.485Z"
      },
      {
        "duration": 15,
        "start_time": "2024-11-28T20:03:41.554Z"
      },
      {
        "duration": 6,
        "start_time": "2024-11-28T20:03:41.570Z"
      },
      {
        "duration": 19,
        "start_time": "2024-11-28T20:03:41.577Z"
      },
      {
        "duration": 29,
        "start_time": "2024-11-28T20:03:41.597Z"
      },
      {
        "duration": 604,
        "start_time": "2024-11-28T20:03:41.628Z"
      },
      {
        "duration": 1739,
        "start_time": "2024-11-28T20:03:42.234Z"
      },
      {
        "duration": 413,
        "start_time": "2024-11-28T20:03:43.975Z"
      },
      {
        "duration": 338,
        "start_time": "2024-11-28T20:03:44.389Z"
      },
      {
        "duration": 1571,
        "start_time": "2024-11-28T20:04:39.455Z"
      },
      {
        "duration": 3,
        "start_time": "2024-11-28T20:05:17.338Z"
      },
      {
        "duration": 481,
        "start_time": "2024-11-28T20:05:20.006Z"
      },
      {
        "duration": 24210,
        "start_time": "2024-11-29T02:31:35.474Z"
      },
      {
        "duration": 1494,
        "start_time": "2024-11-29T02:31:59.686Z"
      },
      {
        "duration": 110,
        "start_time": "2024-11-29T02:32:01.181Z"
      },
      {
        "duration": 17,
        "start_time": "2024-11-29T02:32:01.293Z"
      },
      {
        "duration": 40,
        "start_time": "2024-11-29T02:32:01.312Z"
      },
      {
        "duration": 73,
        "start_time": "2024-11-29T02:32:01.354Z"
      },
      {
        "duration": 72,
        "start_time": "2024-11-29T02:32:01.428Z"
      },
      {
        "duration": 457,
        "start_time": "2024-11-29T02:32:01.502Z"
      },
      {
        "duration": 1145,
        "start_time": "2024-11-29T02:32:01.960Z"
      },
      {
        "duration": 304,
        "start_time": "2024-11-29T02:32:03.108Z"
      },
      {
        "duration": 280,
        "start_time": "2024-11-29T02:32:03.413Z"
      },
      {
        "duration": 107,
        "start_time": "2024-11-29T02:39:36.080Z"
      },
      {
        "duration": 7,
        "start_time": "2024-11-29T02:39:52.852Z"
      },
      {
        "duration": 2,
        "start_time": "2024-11-29T02:40:11.178Z"
      },
      {
        "duration": 5,
        "start_time": "2024-11-29T02:48:29.684Z"
      },
      {
        "duration": 32,
        "start_time": "2024-11-29T02:48:52.018Z"
      },
      {
        "duration": 5,
        "start_time": "2024-11-29T02:50:37.436Z"
      },
      {
        "duration": 72,
        "start_time": "2024-11-29T02:50:42.252Z"
      },
      {
        "duration": 4,
        "start_time": "2024-11-29T02:57:55.857Z"
      },
      {
        "duration": 3,
        "start_time": "2024-11-29T02:58:04.867Z"
      },
      {
        "duration": 5,
        "start_time": "2024-11-29T02:58:10.324Z"
      },
      {
        "duration": 70391,
        "start_time": "2024-11-29T02:58:13.027Z"
      },
      {
        "duration": 34,
        "start_time": "2024-11-29T03:00:15.128Z"
      },
      {
        "duration": 3820,
        "start_time": "2024-11-29T03:03:21.281Z"
      },
      {
        "duration": 622,
        "start_time": "2024-11-29T03:04:00.378Z"
      },
      {
        "duration": 3545,
        "start_time": "2024-11-29T03:06:25.805Z"
      },
      {
        "duration": 10,
        "start_time": "2024-11-29T03:07:05.427Z"
      },
      {
        "duration": 23,
        "start_time": "2024-11-29T03:10:57.888Z"
      },
      {
        "duration": 291338,
        "start_time": "2024-11-29T03:26:12.202Z"
      },
      {
        "duration": 43,
        "start_time": "2024-11-29T03:31:39.495Z"
      },
      {
        "duration": 4,
        "start_time": "2024-11-29T03:39:19.821Z"
      },
      {
        "duration": 3642,
        "start_time": "2024-11-29T03:39:23.733Z"
      },
      {
        "duration": 49,
        "start_time": "2024-11-29T03:39:48.057Z"
      },
      {
        "duration": 5,
        "start_time": "2024-11-29T04:00:30.710Z"
      },
      {
        "duration": 23,
        "start_time": "2024-11-29T04:00:46.189Z"
      },
      {
        "duration": 8,
        "start_time": "2024-11-29T04:14:52.026Z"
      },
      {
        "duration": 7,
        "start_time": "2024-11-29T04:15:04.993Z"
      },
      {
        "duration": 6,
        "start_time": "2024-11-29T04:15:20.565Z"
      },
      {
        "duration": 4,
        "start_time": "2024-11-29T04:18:51.132Z"
      },
      {
        "duration": 293908,
        "start_time": "2024-11-29T04:18:56.137Z"
      },
      {
        "duration": 9,
        "start_time": "2024-11-29T04:24:07.374Z"
      },
      {
        "duration": 25,
        "start_time": "2024-11-29T04:29:17.349Z"
      },
      {
        "duration": 2725,
        "start_time": "2024-11-29T04:36:28.781Z"
      },
      {
        "duration": 3,
        "start_time": "2024-11-29T04:36:33.612Z"
      },
      {
        "duration": 16,
        "start_time": "2024-11-29T04:51:34.702Z"
      },
      {
        "duration": 2,
        "start_time": "2024-11-29T04:52:11.747Z"
      },
      {
        "duration": 9,
        "start_time": "2024-11-29T04:52:14.440Z"
      },
      {
        "duration": 3,
        "start_time": "2024-11-29T04:52:40.822Z"
      },
      {
        "duration": 3,
        "start_time": "2024-11-29T04:52:45.037Z"
      },
      {
        "duration": 86173,
        "start_time": "2024-11-29T04:54:42.635Z"
      },
      {
        "duration": 3,
        "start_time": "2024-11-29T04:57:55.892Z"
      },
      {
        "duration": 9,
        "start_time": "2024-11-29T04:59:32.527Z"
      },
      {
        "duration": 10,
        "start_time": "2024-11-29T04:59:38.177Z"
      },
      {
        "duration": 4,
        "start_time": "2024-11-29T05:48:49.962Z"
      },
      {
        "duration": 50261,
        "start_time": "2024-11-29T05:50:08.954Z"
      },
      {
        "duration": 3,
        "start_time": "2024-11-29T05:54:24.073Z"
      },
      {
        "duration": 4,
        "start_time": "2024-11-29T05:54:43.439Z"
      },
      {
        "duration": 63,
        "start_time": "2024-11-29T05:55:27.350Z"
      },
      {
        "duration": 11,
        "start_time": "2024-11-29T05:55:58.384Z"
      },
      {
        "duration": 10,
        "start_time": "2024-11-29T05:56:29.651Z"
      },
      {
        "duration": 29380,
        "start_time": "2024-11-29T10:12:58.276Z"
      },
      {
        "duration": 2196,
        "start_time": "2024-11-29T10:13:27.659Z"
      },
      {
        "duration": 0,
        "start_time": "2024-11-29T10:13:29.857Z"
      },
      {
        "duration": 0,
        "start_time": "2024-11-29T10:13:29.858Z"
      },
      {
        "duration": 0,
        "start_time": "2024-11-29T10:13:29.859Z"
      },
      {
        "duration": 0,
        "start_time": "2024-11-29T10:13:29.861Z"
      },
      {
        "duration": 0,
        "start_time": "2024-11-29T10:13:29.862Z"
      },
      {
        "duration": 0,
        "start_time": "2024-11-29T10:13:29.863Z"
      },
      {
        "duration": 0,
        "start_time": "2024-11-29T10:13:29.864Z"
      },
      {
        "duration": 0,
        "start_time": "2024-11-29T10:13:29.866Z"
      },
      {
        "duration": 0,
        "start_time": "2024-11-29T10:13:29.867Z"
      },
      {
        "duration": 0,
        "start_time": "2024-11-29T10:13:29.868Z"
      },
      {
        "duration": 0,
        "start_time": "2024-11-29T10:13:29.870Z"
      },
      {
        "duration": 0,
        "start_time": "2024-11-29T10:13:29.871Z"
      },
      {
        "duration": 0,
        "start_time": "2024-11-29T10:13:29.872Z"
      },
      {
        "duration": 0,
        "start_time": "2024-11-29T10:13:29.873Z"
      },
      {
        "duration": 0,
        "start_time": "2024-11-29T10:13:29.875Z"
      },
      {
        "duration": 0,
        "start_time": "2024-11-29T10:13:29.876Z"
      },
      {
        "duration": 0,
        "start_time": "2024-11-29T10:13:29.877Z"
      },
      {
        "duration": 0,
        "start_time": "2024-11-29T10:13:29.878Z"
      },
      {
        "duration": 0,
        "start_time": "2024-11-29T10:13:29.880Z"
      },
      {
        "duration": 0,
        "start_time": "2024-11-29T10:13:29.881Z"
      },
      {
        "duration": 0,
        "start_time": "2024-11-29T10:13:29.883Z"
      },
      {
        "duration": 0,
        "start_time": "2024-11-29T10:13:29.884Z"
      },
      {
        "duration": 14375,
        "start_time": "2024-11-29T10:14:05.484Z"
      },
      {
        "duration": 17,
        "start_time": "2024-11-29T10:14:24.705Z"
      },
      {
        "duration": 117,
        "start_time": "2024-11-29T10:14:32.758Z"
      },
      {
        "duration": 15,
        "start_time": "2024-11-29T10:14:32.877Z"
      },
      {
        "duration": 5,
        "start_time": "2024-11-29T10:14:32.894Z"
      },
      {
        "duration": 40,
        "start_time": "2024-11-29T10:14:32.900Z"
      },
      {
        "duration": 38,
        "start_time": "2024-11-29T10:14:32.942Z"
      },
      {
        "duration": 530,
        "start_time": "2024-11-29T10:14:32.982Z"
      },
      {
        "duration": 1317,
        "start_time": "2024-11-29T10:14:33.518Z"
      },
      {
        "duration": 328,
        "start_time": "2024-11-29T10:14:34.837Z"
      },
      {
        "duration": 370,
        "start_time": "2024-11-29T10:14:35.166Z"
      },
      {
        "duration": 11,
        "start_time": "2024-11-29T10:14:35.538Z"
      },
      {
        "duration": 26,
        "start_time": "2024-11-29T10:14:35.551Z"
      },
      {
        "duration": 7,
        "start_time": "2024-11-29T10:14:35.579Z"
      },
      {
        "duration": 282977,
        "start_time": "2024-11-29T10:14:35.588Z"
      },
      {
        "duration": 11,
        "start_time": "2024-11-29T10:19:18.569Z"
      },
      {
        "duration": 45,
        "start_time": "2024-11-29T10:19:18.582Z"
      },
      {
        "duration": 9,
        "start_time": "2024-11-29T10:19:18.629Z"
      },
      {
        "duration": 57188,
        "start_time": "2024-11-29T10:19:18.639Z"
      },
      {
        "duration": 5,
        "start_time": "2024-11-29T10:20:15.829Z"
      },
      {
        "duration": 88,
        "start_time": "2024-11-29T10:20:15.835Z"
      },
      {
        "duration": 16,
        "start_time": "2024-11-29T10:20:15.925Z"
      },
      {
        "duration": 4,
        "start_time": "2024-11-29T10:20:16.017Z"
      },
      {
        "duration": 16,
        "start_time": "2024-11-29T10:20:16.023Z"
      },
      {
        "duration": 4,
        "start_time": "2024-11-29T10:21:01.188Z"
      },
      {
        "duration": 10,
        "start_time": "2024-11-29T10:24:27.970Z"
      },
      {
        "duration": 9,
        "start_time": "2024-11-29T10:24:36.585Z"
      },
      {
        "duration": 8066,
        "start_time": "2024-11-29T10:48:36.885Z"
      },
      {
        "duration": 364,
        "start_time": "2024-11-29T10:49:14.987Z"
      },
      {
        "duration": 7033,
        "start_time": "2024-11-29T10:50:43.006Z"
      },
      {
        "duration": 6274,
        "start_time": "2024-11-29T10:51:05.289Z"
      },
      {
        "duration": 25,
        "start_time": "2024-11-29T10:51:17.056Z"
      },
      {
        "duration": 6893,
        "start_time": "2024-11-29T10:52:03.106Z"
      },
      {
        "duration": 2694,
        "start_time": "2024-11-29T10:52:13.376Z"
      },
      {
        "duration": 26,
        "start_time": "2024-11-29T10:52:19.546Z"
      },
      {
        "duration": 10,
        "start_time": "2024-11-29T10:55:33.701Z"
      },
      {
        "duration": 5,
        "start_time": "2024-11-29T10:57:00.779Z"
      },
      {
        "duration": 14,
        "start_time": "2024-11-29T10:57:56.648Z"
      },
      {
        "duration": 11,
        "start_time": "2024-11-29T10:58:09.080Z"
      },
      {
        "duration": 10,
        "start_time": "2024-11-29T10:59:40.639Z"
      },
      {
        "duration": 10,
        "start_time": "2024-11-29T11:05:21.455Z"
      },
      {
        "duration": 351,
        "start_time": "2024-11-29T11:05:52.278Z"
      },
      {
        "duration": 270,
        "start_time": "2024-11-29T11:06:44.823Z"
      },
      {
        "duration": 11,
        "start_time": "2024-11-29T11:08:52.648Z"
      },
      {
        "duration": 243,
        "start_time": "2024-11-29T11:09:14.357Z"
      },
      {
        "duration": 11,
        "start_time": "2024-11-29T11:09:58.231Z"
      },
      {
        "duration": 298,
        "start_time": "2024-11-29T11:10:03.164Z"
      },
      {
        "duration": 303,
        "start_time": "2024-11-29T11:11:00.991Z"
      },
      {
        "duration": 12,
        "start_time": "2024-11-29T11:14:31.243Z"
      },
      {
        "duration": 254,
        "start_time": "2024-11-29T11:16:57.355Z"
      },
      {
        "duration": 330,
        "start_time": "2024-11-29T11:18:09.595Z"
      },
      {
        "duration": 396,
        "start_time": "2024-11-29T11:25:38.380Z"
      },
      {
        "duration": 422,
        "start_time": "2024-11-29T11:26:29.853Z"
      },
      {
        "duration": 398,
        "start_time": "2024-11-29T11:26:49.340Z"
      },
      {
        "duration": 415,
        "start_time": "2024-11-29T11:27:46.448Z"
      },
      {
        "duration": 503,
        "start_time": "2024-11-29T11:29:24.833Z"
      },
      {
        "duration": 71,
        "start_time": "2024-11-29T11:36:34.708Z"
      },
      {
        "duration": 57,
        "start_time": "2024-11-29T11:37:28.415Z"
      },
      {
        "duration": 874,
        "start_time": "2024-11-29T11:38:16.085Z"
      },
      {
        "duration": 17621,
        "start_time": "2024-11-29T11:39:20.948Z"
      },
      {
        "duration": 1519,
        "start_time": "2024-11-29T11:39:38.571Z"
      },
      {
        "duration": 67,
        "start_time": "2024-11-29T11:39:40.091Z"
      },
      {
        "duration": 16,
        "start_time": "2024-11-29T11:39:40.160Z"
      },
      {
        "duration": 6,
        "start_time": "2024-11-29T11:39:40.178Z"
      },
      {
        "duration": 51,
        "start_time": "2024-11-29T11:39:40.186Z"
      },
      {
        "duration": 30,
        "start_time": "2024-11-29T11:39:40.239Z"
      },
      {
        "duration": 418,
        "start_time": "2024-11-29T11:39:40.271Z"
      },
      {
        "duration": 1335,
        "start_time": "2024-11-29T11:39:40.691Z"
      },
      {
        "duration": 341,
        "start_time": "2024-11-29T11:39:42.028Z"
      },
      {
        "duration": 364,
        "start_time": "2024-11-29T11:39:42.371Z"
      },
      {
        "duration": 10,
        "start_time": "2024-11-29T11:39:42.736Z"
      },
      {
        "duration": 2,
        "start_time": "2024-11-29T11:39:42.748Z"
      },
      {
        "duration": 5,
        "start_time": "2024-11-29T11:39:42.753Z"
      },
      {
        "duration": 298195,
        "start_time": "2024-11-29T11:39:42.759Z"
      },
      {
        "duration": 10,
        "start_time": "2024-11-29T11:44:40.955Z"
      },
      {
        "duration": 53,
        "start_time": "2024-11-29T11:44:40.966Z"
      },
      {
        "duration": 10,
        "start_time": "2024-11-29T11:44:41.021Z"
      },
      {
        "duration": 59098,
        "start_time": "2024-11-29T11:44:41.033Z"
      },
      {
        "duration": 5,
        "start_time": "2024-11-29T11:45:40.132Z"
      },
      {
        "duration": 56,
        "start_time": "2024-11-29T11:45:40.217Z"
      },
      {
        "duration": 51,
        "start_time": "2024-11-29T11:45:40.274Z"
      },
      {
        "duration": 366,
        "start_time": "2024-11-29T11:45:40.328Z"
      },
      {
        "duration": 393,
        "start_time": "2024-11-29T11:45:40.696Z"
      },
      {
        "duration": 32,
        "start_time": "2024-11-29T11:54:29.776Z"
      },
      {
        "duration": 412,
        "start_time": "2024-11-29T11:54:29.810Z"
      },
      {
        "duration": 1324,
        "start_time": "2024-11-29T11:54:30.223Z"
      },
      {
        "duration": 350,
        "start_time": "2024-11-29T11:54:31.549Z"
      },
      {
        "duration": 329,
        "start_time": "2024-11-29T11:54:31.901Z"
      },
      {
        "duration": 10,
        "start_time": "2024-11-29T11:54:32.231Z"
      },
      {
        "duration": 21,
        "start_time": "2024-11-29T11:54:32.242Z"
      },
      {
        "duration": 20,
        "start_time": "2024-11-29T11:54:32.265Z"
      },
      {
        "duration": 39740,
        "start_time": "2024-11-29T11:54:32.287Z"
      },
      {
        "duration": 0,
        "start_time": "2024-11-29T11:55:12.029Z"
      },
      {
        "duration": 0,
        "start_time": "2024-11-29T11:55:12.030Z"
      },
      {
        "duration": 0,
        "start_time": "2024-11-29T11:55:12.031Z"
      },
      {
        "duration": 0,
        "start_time": "2024-11-29T11:55:12.032Z"
      },
      {
        "duration": 0,
        "start_time": "2024-11-29T11:55:12.033Z"
      },
      {
        "duration": 0,
        "start_time": "2024-11-29T11:55:12.034Z"
      },
      {
        "duration": 0,
        "start_time": "2024-11-29T11:55:12.035Z"
      },
      {
        "duration": 0,
        "start_time": "2024-11-29T11:55:12.036Z"
      },
      {
        "duration": 0,
        "start_time": "2024-11-29T11:55:12.037Z"
      },
      {
        "duration": 14463,
        "start_time": "2024-11-29T11:57:01.604Z"
      },
      {
        "duration": 1473,
        "start_time": "2024-11-29T11:57:16.070Z"
      },
      {
        "duration": 68,
        "start_time": "2024-11-29T11:57:17.545Z"
      },
      {
        "duration": 22,
        "start_time": "2024-11-29T11:57:17.615Z"
      },
      {
        "duration": 23,
        "start_time": "2024-11-29T11:57:17.640Z"
      },
      {
        "duration": 35,
        "start_time": "2024-11-29T11:57:17.664Z"
      },
      {
        "duration": 29,
        "start_time": "2024-11-29T11:57:17.701Z"
      },
      {
        "duration": 431,
        "start_time": "2024-11-29T11:57:17.732Z"
      },
      {
        "duration": 1242,
        "start_time": "2024-11-29T11:57:18.165Z"
      },
      {
        "duration": 364,
        "start_time": "2024-11-29T11:57:19.408Z"
      },
      {
        "duration": 359,
        "start_time": "2024-11-29T11:57:19.774Z"
      },
      {
        "duration": 9,
        "start_time": "2024-11-29T11:57:20.134Z"
      },
      {
        "duration": 11,
        "start_time": "2024-11-29T11:57:20.145Z"
      },
      {
        "duration": 7,
        "start_time": "2024-11-29T11:57:20.159Z"
      },
      {
        "duration": 42474,
        "start_time": "2024-11-29T11:57:20.168Z"
      },
      {
        "duration": 0,
        "start_time": "2024-11-29T11:58:02.644Z"
      },
      {
        "duration": 0,
        "start_time": "2024-11-29T11:58:02.645Z"
      },
      {
        "duration": 0,
        "start_time": "2024-11-29T11:58:02.646Z"
      },
      {
        "duration": 0,
        "start_time": "2024-11-29T11:58:02.647Z"
      },
      {
        "duration": 0,
        "start_time": "2024-11-29T11:58:02.648Z"
      },
      {
        "duration": 0,
        "start_time": "2024-11-29T11:58:02.649Z"
      },
      {
        "duration": 0,
        "start_time": "2024-11-29T11:58:02.651Z"
      },
      {
        "duration": 0,
        "start_time": "2024-11-29T11:58:02.652Z"
      },
      {
        "duration": 0,
        "start_time": "2024-11-29T11:58:02.653Z"
      },
      {
        "duration": 27,
        "start_time": "2024-11-29T11:58:26.649Z"
      },
      {
        "duration": 14396,
        "start_time": "2024-11-29T11:58:44.762Z"
      },
      {
        "duration": 1464,
        "start_time": "2024-11-29T11:58:59.161Z"
      },
      {
        "duration": 69,
        "start_time": "2024-11-29T11:59:00.627Z"
      },
      {
        "duration": 19,
        "start_time": "2024-11-29T11:59:00.698Z"
      },
      {
        "duration": 13,
        "start_time": "2024-11-29T11:59:00.720Z"
      },
      {
        "duration": 68,
        "start_time": "2024-11-29T11:59:00.735Z"
      },
      {
        "duration": 35,
        "start_time": "2024-11-29T11:59:00.805Z"
      },
      {
        "duration": 431,
        "start_time": "2024-11-29T11:59:00.841Z"
      },
      {
        "duration": 1276,
        "start_time": "2024-11-29T11:59:01.273Z"
      },
      {
        "duration": 341,
        "start_time": "2024-11-29T11:59:02.550Z"
      },
      {
        "duration": 339,
        "start_time": "2024-11-29T11:59:02.893Z"
      },
      {
        "duration": 10,
        "start_time": "2024-11-29T11:59:03.234Z"
      },
      {
        "duration": 7,
        "start_time": "2024-11-29T11:59:03.245Z"
      },
      {
        "duration": 5,
        "start_time": "2024-11-29T11:59:03.255Z"
      },
      {
        "duration": 314901,
        "start_time": "2024-11-29T11:59:03.262Z"
      },
      {
        "duration": 8,
        "start_time": "2024-11-29T12:04:18.165Z"
      },
      {
        "duration": 45,
        "start_time": "2024-11-29T12:04:18.175Z"
      },
      {
        "duration": 4,
        "start_time": "2024-11-29T12:04:18.221Z"
      },
      {
        "duration": 63105,
        "start_time": "2024-11-29T12:04:18.226Z"
      },
      {
        "duration": 5,
        "start_time": "2024-11-29T12:05:21.333Z"
      },
      {
        "duration": 82,
        "start_time": "2024-11-29T12:05:21.339Z"
      },
      {
        "duration": 62,
        "start_time": "2024-11-29T12:05:21.423Z"
      },
      {
        "duration": 338,
        "start_time": "2024-11-29T12:05:21.486Z"
      },
      {
        "duration": 369,
        "start_time": "2024-11-29T12:05:21.826Z"
      },
      {
        "duration": 33393,
        "start_time": "2024-11-29T13:54:06.955Z"
      },
      {
        "duration": 1677,
        "start_time": "2024-11-29T13:54:40.351Z"
      },
      {
        "duration": 196,
        "start_time": "2024-11-29T13:54:42.030Z"
      },
      {
        "duration": 17,
        "start_time": "2024-11-29T13:54:42.227Z"
      },
      {
        "duration": 5,
        "start_time": "2024-11-29T13:54:42.246Z"
      },
      {
        "duration": 32,
        "start_time": "2024-11-29T13:54:42.253Z"
      },
      {
        "duration": 56,
        "start_time": "2024-11-29T13:54:42.286Z"
      },
      {
        "duration": 552,
        "start_time": "2024-11-29T13:54:42.344Z"
      },
      {
        "duration": 1372,
        "start_time": "2024-11-29T13:54:42.898Z"
      },
      {
        "duration": 359,
        "start_time": "2024-11-29T13:54:44.273Z"
      },
      {
        "duration": 317,
        "start_time": "2024-11-29T13:54:44.634Z"
      },
      {
        "duration": 11,
        "start_time": "2024-11-29T13:54:44.952Z"
      },
      {
        "duration": 32650,
        "start_time": "2024-11-30T03:07:41.433Z"
      },
      {
        "duration": 1574,
        "start_time": "2024-11-30T03:08:14.085Z"
      },
      {
        "duration": 112,
        "start_time": "2024-11-30T03:08:15.660Z"
      },
      {
        "duration": 15,
        "start_time": "2024-11-30T03:08:15.774Z"
      },
      {
        "duration": 20,
        "start_time": "2024-11-30T03:08:15.790Z"
      },
      {
        "duration": 24,
        "start_time": "2024-11-30T03:08:15.811Z"
      },
      {
        "duration": 1285,
        "start_time": "2024-11-30T03:08:15.836Z"
      },
      {
        "duration": 307,
        "start_time": "2024-11-30T03:08:17.123Z"
      },
      {
        "duration": 280,
        "start_time": "2024-11-30T03:08:17.431Z"
      },
      {
        "duration": 26,
        "start_time": "2024-11-30T03:08:17.714Z"
      },
      {
        "duration": 369,
        "start_time": "2024-11-30T03:08:17.741Z"
      },
      {
        "duration": 439,
        "start_time": "2024-11-30T03:16:01.882Z"
      },
      {
        "duration": 305,
        "start_time": "2024-11-30T03:16:18.811Z"
      },
      {
        "duration": 277,
        "start_time": "2024-11-30T03:16:37.546Z"
      },
      {
        "duration": 30,
        "start_time": "2024-11-30T03:17:34.952Z"
      },
      {
        "duration": 18,
        "start_time": "2024-11-30T03:18:24.399Z"
      },
      {
        "duration": 401,
        "start_time": "2024-11-30T03:19:17.272Z"
      },
      {
        "duration": 9,
        "start_time": "2024-11-30T03:19:57.308Z"
      },
      {
        "duration": 376,
        "start_time": "2024-11-30T03:20:40.142Z"
      },
      {
        "duration": 369,
        "start_time": "2024-11-30T03:21:14.020Z"
      },
      {
        "duration": 465,
        "start_time": "2024-11-30T03:21:41.446Z"
      },
      {
        "duration": 459,
        "start_time": "2024-11-30T03:24:44.587Z"
      },
      {
        "duration": 670,
        "start_time": "2024-11-30T03:28:54.793Z"
      },
      {
        "duration": 388,
        "start_time": "2024-11-30T03:29:50.049Z"
      },
      {
        "duration": 426,
        "start_time": "2024-11-30T03:30:37.164Z"
      },
      {
        "duration": 423,
        "start_time": "2024-11-30T03:31:26.122Z"
      },
      {
        "duration": 421,
        "start_time": "2024-11-30T03:32:04.843Z"
      },
      {
        "duration": 464,
        "start_time": "2024-11-30T03:32:29.603Z"
      },
      {
        "duration": 4,
        "start_time": "2024-11-30T03:38:01.467Z"
      },
      {
        "duration": 4,
        "start_time": "2024-11-30T03:39:30.393Z"
      },
      {
        "duration": 22,
        "start_time": "2024-11-30T04:08:40.077Z"
      },
      {
        "duration": 102,
        "start_time": "2024-11-30T04:09:23.142Z"
      },
      {
        "duration": 11,
        "start_time": "2024-11-30T04:09:28.211Z"
      },
      {
        "duration": 399,
        "start_time": "2024-11-30T04:09:51.141Z"
      },
      {
        "duration": 271,
        "start_time": "2024-11-30T04:12:11.351Z"
      },
      {
        "duration": 256,
        "start_time": "2024-11-30T04:12:20.729Z"
      },
      {
        "duration": 11,
        "start_time": "2024-11-30T04:13:11.387Z"
      },
      {
        "duration": 10,
        "start_time": "2024-11-30T04:13:20.520Z"
      },
      {
        "duration": 11,
        "start_time": "2024-11-30T04:13:31.578Z"
      },
      {
        "duration": 247,
        "start_time": "2024-11-30T04:14:06.442Z"
      },
      {
        "duration": 12,
        "start_time": "2024-11-30T04:24:24.256Z"
      },
      {
        "duration": 11,
        "start_time": "2024-11-30T04:24:38.098Z"
      },
      {
        "duration": 287,
        "start_time": "2024-11-30T04:26:28.475Z"
      },
      {
        "duration": 315,
        "start_time": "2024-11-30T04:26:59.093Z"
      },
      {
        "duration": 288,
        "start_time": "2024-11-30T04:27:36.193Z"
      },
      {
        "duration": 311,
        "start_time": "2024-11-30T04:30:23.759Z"
      },
      {
        "duration": 302,
        "start_time": "2024-11-30T04:32:53.688Z"
      },
      {
        "duration": 242,
        "start_time": "2024-11-30T04:37:38.605Z"
      },
      {
        "duration": 285,
        "start_time": "2024-11-30T04:39:08.406Z"
      },
      {
        "duration": 449,
        "start_time": "2024-11-30T04:39:48.765Z"
      },
      {
        "duration": 329,
        "start_time": "2024-11-30T04:39:59.271Z"
      },
      {
        "duration": 305,
        "start_time": "2024-11-30T04:40:50.603Z"
      },
      {
        "duration": 294,
        "start_time": "2024-11-30T04:41:25.058Z"
      },
      {
        "duration": 286,
        "start_time": "2024-11-30T04:49:56.626Z"
      },
      {
        "duration": 276,
        "start_time": "2024-11-30T04:50:05.632Z"
      },
      {
        "duration": 335,
        "start_time": "2024-11-30T04:50:16.302Z"
      },
      {
        "duration": 329,
        "start_time": "2024-11-30T04:51:08.785Z"
      },
      {
        "duration": 343,
        "start_time": "2024-11-30T04:56:09.279Z"
      },
      {
        "duration": 316,
        "start_time": "2024-11-30T04:56:48.915Z"
      },
      {
        "duration": 4,
        "start_time": "2024-11-30T05:01:07.576Z"
      },
      {
        "duration": 4,
        "start_time": "2024-11-30T05:03:20.781Z"
      },
      {
        "duration": 308,
        "start_time": "2024-11-30T05:04:11.191Z"
      },
      {
        "duration": 453,
        "start_time": "2024-11-30T05:06:26.506Z"
      },
      {
        "duration": 398,
        "start_time": "2024-11-30T05:06:39.182Z"
      },
      {
        "duration": 289,
        "start_time": "2024-11-30T05:07:10.447Z"
      },
      {
        "duration": 324,
        "start_time": "2024-11-30T05:07:31.455Z"
      },
      {
        "duration": 290,
        "start_time": "2024-11-30T05:09:57.819Z"
      },
      {
        "duration": 279,
        "start_time": "2024-11-30T05:10:34.741Z"
      },
      {
        "duration": 366,
        "start_time": "2024-11-30T05:10:49.871Z"
      },
      {
        "duration": 313,
        "start_time": "2024-11-30T05:10:57.562Z"
      },
      {
        "duration": 315,
        "start_time": "2024-11-30T05:11:35.508Z"
      },
      {
        "duration": 30650,
        "start_time": "2024-12-01T11:50:20.429Z"
      },
      {
        "duration": 1503,
        "start_time": "2024-12-01T11:50:51.081Z"
      },
      {
        "duration": 165,
        "start_time": "2024-12-01T11:50:52.585Z"
      },
      {
        "duration": 13,
        "start_time": "2024-12-01T11:50:52.752Z"
      },
      {
        "duration": 10,
        "start_time": "2024-12-01T11:50:52.766Z"
      },
      {
        "duration": 16,
        "start_time": "2024-12-01T11:50:52.778Z"
      },
      {
        "duration": 1220,
        "start_time": "2024-12-01T11:50:52.795Z"
      },
      {
        "duration": 331,
        "start_time": "2024-12-01T11:50:54.017Z"
      },
      {
        "duration": 285,
        "start_time": "2024-12-01T11:50:54.349Z"
      },
      {
        "duration": 448,
        "start_time": "2024-12-01T11:50:54.636Z"
      },
      {
        "duration": 417,
        "start_time": "2024-12-01T11:50:55.086Z"
      },
      {
        "duration": 307,
        "start_time": "2024-12-01T11:50:55.504Z"
      },
      {
        "duration": 271,
        "start_time": "2024-12-01T11:50:55.812Z"
      },
      {
        "duration": 287,
        "start_time": "2024-12-01T11:50:56.085Z"
      },
      {
        "duration": 20,
        "start_time": "2024-12-01T11:50:56.373Z"
      },
      {
        "duration": 20,
        "start_time": "2024-12-01T11:51:58.125Z"
      },
      {
        "duration": 13805,
        "start_time": "2024-12-01T11:52:20.141Z"
      },
      {
        "duration": 5,
        "start_time": "2024-12-01T11:52:33.948Z"
      },
      {
        "duration": 82,
        "start_time": "2024-12-01T11:52:33.954Z"
      },
      {
        "duration": 13,
        "start_time": "2024-12-01T11:52:34.038Z"
      },
      {
        "duration": 5,
        "start_time": "2024-12-01T11:52:34.052Z"
      },
      {
        "duration": 14,
        "start_time": "2024-12-01T11:52:34.059Z"
      },
      {
        "duration": 1258,
        "start_time": "2024-12-01T11:52:34.074Z"
      },
      {
        "duration": 325,
        "start_time": "2024-12-01T11:52:35.333Z"
      },
      {
        "duration": 287,
        "start_time": "2024-12-01T11:52:35.659Z"
      },
      {
        "duration": 429,
        "start_time": "2024-12-01T11:52:35.948Z"
      },
      {
        "duration": 425,
        "start_time": "2024-12-01T11:52:36.379Z"
      },
      {
        "duration": 316,
        "start_time": "2024-12-01T11:52:36.805Z"
      },
      {
        "duration": 348,
        "start_time": "2024-12-01T11:52:37.123Z"
      },
      {
        "duration": 300,
        "start_time": "2024-12-01T11:52:37.472Z"
      },
      {
        "duration": 23,
        "start_time": "2024-12-01T11:52:37.773Z"
      },
      {
        "duration": 4,
        "start_time": "2024-12-01T11:54:31.220Z"
      },
      {
        "duration": 3,
        "start_time": "2024-12-01T11:58:53.909Z"
      },
      {
        "duration": 5,
        "start_time": "2024-12-01T11:58:58.609Z"
      },
      {
        "duration": 125,
        "start_time": "2024-12-01T11:59:13.185Z"
      },
      {
        "duration": 6,
        "start_time": "2024-12-01T12:01:16.021Z"
      },
      {
        "duration": 191975,
        "start_time": "2024-12-01T12:01:23.631Z"
      },
      {
        "duration": 7,
        "start_time": "2024-12-01T12:11:16.847Z"
      },
      {
        "duration": 22,
        "start_time": "2024-12-01T12:11:38.781Z"
      },
      {
        "duration": 3,
        "start_time": "2024-12-01T12:14:24.955Z"
      },
      {
        "duration": 57663,
        "start_time": "2024-12-01T12:14:30.109Z"
      },
      {
        "duration": 4,
        "start_time": "2024-12-01T12:17:13.494Z"
      },
      {
        "duration": 65287,
        "start_time": "2024-12-01T12:23:30.789Z"
      },
      {
        "duration": 4,
        "start_time": "2024-12-01T12:25:53.645Z"
      },
      {
        "duration": 3,
        "start_time": "2024-12-01T12:27:50.681Z"
      },
      {
        "duration": 55475,
        "start_time": "2024-12-01T12:27:54.905Z"
      },
      {
        "duration": 4,
        "start_time": "2024-12-01T12:29:15.916Z"
      },
      {
        "duration": 46793,
        "start_time": "2024-12-01T12:33:59.187Z"
      },
      {
        "duration": 4,
        "start_time": "2024-12-01T12:35:13.363Z"
      },
      {
        "duration": 45503,
        "start_time": "2024-12-01T12:35:44.474Z"
      },
      {
        "duration": 4,
        "start_time": "2024-12-01T12:38:18.681Z"
      },
      {
        "duration": 13,
        "start_time": "2024-12-01T12:39:36.539Z"
      },
      {
        "duration": 10,
        "start_time": "2024-12-01T12:39:45.837Z"
      },
      {
        "duration": 189,
        "start_time": "2024-12-01T12:39:56.724Z"
      },
      {
        "duration": 314,
        "start_time": "2024-12-01T12:44:21.783Z"
      },
      {
        "duration": 336,
        "start_time": "2024-12-01T12:47:06.825Z"
      },
      {
        "duration": 300,
        "start_time": "2024-12-01T12:47:24.176Z"
      },
      {
        "duration": 323,
        "start_time": "2024-12-01T12:47:36.042Z"
      }
    ],
    "kernelspec": {
      "display_name": "Python 3 (ipykernel)",
      "language": "python",
      "name": "python3"
    },
    "language_info": {
      "codemirror_mode": {
        "name": "ipython",
        "version": 3
      },
      "file_extension": ".py",
      "mimetype": "text/x-python",
      "name": "python",
      "nbconvert_exporter": "python",
      "pygments_lexer": "ipython3",
      "version": "3.9.5"
    },
    "toc": {
      "base_numbering": 1,
      "nav_menu": {},
      "number_sections": true,
      "sideBar": true,
      "skip_h1_title": true,
      "title_cell": "Содержание",
      "title_sidebar": "Contents",
      "toc_cell": true,
      "toc_position": {
        "height": "calc(100% - 180px)",
        "left": "10px",
        "top": "150px",
        "width": "165px"
      },
      "toc_section_display": true,
      "toc_window_display": true
    },
    "colab": {
      "provenance": [],
      "toc_visible": true
    }
  },
  "nbformat": 4,
  "nbformat_minor": 0
}